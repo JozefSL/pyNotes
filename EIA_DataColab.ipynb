{
  "nbformat": 4,
  "nbformat_minor": 0,
  "metadata": {
    "colab": {
      "name": "Untitled11.ipynb",
      "provenance": [],
      "toc_visible": true,
      "authorship_tag": "ABX9TyPG7bVidddre1np7iCQqxS2",
      "include_colab_link": true
    },
    "kernelspec": {
      "name": "python3",
      "display_name": "Python 3"
    },
    "language_info": {
      "name": "python"
    }
  },
  "cells": [
    {
      "cell_type": "markdown",
      "metadata": {
        "id": "view-in-github",
        "colab_type": "text"
      },
      "source": [
        "<a href=\"https://colab.research.google.com/github/JozefSL/pyNotes/blob/main/EIA_DataColab.ipynb\" target=\"_parent\"><img src=\"https://colab.research.google.com/assets/colab-badge.svg\" alt=\"Open In Colab\"/></a>"
      ]
    },
    {
      "cell_type": "markdown",
      "source": [
        "<img src=\"https://upload.wikimedia.org/wikipedia/commons/archive/6/6f/20160206145529%21EIA_logo.jpg\"\n",
        " align=\"right\">\n",
        "#**Review of natural gas demand and supply by storage seasons**\n",
        "## Source: EIA.gov\n",
        "\n",
        "Last update: June 25, 2022"
      ],
      "metadata": {
        "id": "l5g9EKo55NX1"
      }
    },
    {
      "cell_type": "markdown",
      "source": [
        "#Supply of marketed natural gas by storage seasons\n",
        "### data will be aggregated by the injections and withdrawal seasons: 🍀"
      ],
      "metadata": {
        "id": "bjMPF7tysYKP"
      }
    },
    {
      "cell_type": "code",
      "source": [
        "#@title _Basic setup  for code and output_\n",
        "#@title\n",
        "%matplotlib inline\n",
        "import pandas as pd\n",
        "from IPython.display import display, HTML\n",
        "display(HTML(\"<style>.container { width:98% !important; }</style>\"))\n",
        "import plotly.express as px\n",
        "\n",
        "eiaLogo = \"https://upload.wikimedia.org/wikipedia/commons/1/1f/Energy_Information_Administration_logo.svg\"\n",
        "eiaLg = [dict(source = eiaLogo,\n",
        "                       x=1.07, y=-0.1,\n",
        "                       sizex=0.2, sizey=0.2,\n",
        "                       xanchor=\"center\", yanchor=\"bottom\")]\n",
        "eiaLg2 = [dict(source = eiaLogo,\n",
        "                        x=1.03, y=1.1,\n",
        "                        sizex=0.1, sizey=0.1,\n",
        "                        xanchor=\"center\", yanchor=\"bottom\")]"
      ],
      "metadata": {
        "colab": {
          "base_uri": "https://localhost:8080/",
          "height": 17
        },
        "cellView": "form",
        "id": "07esDsi0qPxu",
        "outputId": "83f34eb1-b5ad-476b-fe57-91be4fbf1183"
      },
      "execution_count": null,
      "outputs": [
        {
          "output_type": "display_data",
          "data": {
            "text/plain": [
              "<IPython.core.display.HTML object>"
            ],
            "text/html": [
              "<style>.container { width:98% !important; }</style>"
            ]
          },
          "metadata": {}
        }
      ]
    },
    {
      "cell_type": "code",
      "source": [
        "#@title _Pull monthly data from EIA_\n",
        "#@title\n",
        "rs = [('https://www.eia.gov/opendata/qb.php?sdid=NG.N9070US2.M', 'dryProduction')\n",
        "     #,('https://www.eia.gov/opendata/qb.php?sdid=NG.N5060US2.M', 'stgWithdrawals')     \n",
        "     ,('https://www.eia.gov/opendata/qb.php?sdid=NG.N9102US2.M', 'pplImports')\n",
        "     ,('https://www.eia.gov/opendata/qb.php?sdid=NG.N9103US2.M', 'lngImports')]\n",
        "     \n",
        "storageSeason = { 1: 'wd', 2: 'wd', 3: 'wd', 11: 'wd', 12: 'wd',\n",
        "                  4: 'ij', 5: 'ij', 6: 'ij', 7: 'ij', 8: 'ij', 9: 'ij', 10: 'ij'}\n",
        "sData = pd.DataFrame()\n",
        "\n",
        "for r, name in rs:\n",
        "    data = pd.read_html(r)\n",
        "    sName = data[0]['Series Name'][0]\n",
        "    df = data[0][['Period','Value']][:]\n",
        "    df['Period']  = pd.to_datetime(df.Period, format='%Y%m', errors='coerce').dropna()\n",
        "    df.columns = ['Period', name]\n",
        "    df = df.set_index('Period')\n",
        "    df.drop(df[df.index < '2001-01-01'].index, inplace = True)\n",
        "    df['Year'] = pd.DatetimeIndex(df.index).year\n",
        "    df['Month'] = pd.DatetimeIndex(df.index).month\n",
        "    df['sYear']  = df['Year'].shift(-3).fillna(0).astype(int).astype(str)\n",
        "    df['Season'] = df['Month'].apply(lambda x: storageSeason[x]) + df['sYear']\n",
        "    df.drop(df[df['Season'] == 'wd0'].index, inplace = True)\n",
        "\n",
        "    sdf = df[[name,'Season']].groupby(['Season'],as_index=False)[name].sum()\n",
        "    sdf = sdf.set_index('Season')\n",
        "    print(len(sdf), name,'=', sName)\n",
        "    if sData.empty:\n",
        "        sData = sdf\n",
        "    else:\n",
        "        sData = sData.join(sdf)\n",
        "        \n",
        "sData *= 1000000    \n"
      ],
      "metadata": {
        "colab": {
          "base_uri": "https://localhost:8080/"
        },
        "cellView": "form",
        "id": "730OwcPmr1u9",
        "outputId": "75d90f5d-0eec-49a2-f208-e7e97aae06a8"
      },
      "execution_count": null,
      "outputs": [
        {
          "output_type": "stream",
          "name": "stdout",
          "text": [
            "42 dryProduction = U.S. Dry Natural Gas Production, Monthly\n",
            "42 pplImports = U.S. Natural Gas Pipeline Imports, Monthly\n",
            "42 lngImports = U.S. Liquefied Natural Gas Imports, Monthly\n"
          ]
        }
      ]
    },
    {
      "cell_type": "code",
      "source": [
        "#@title _SupplyChart_ { run: \"auto\", vertical-output: true }\n",
        "startYear = 2020\n",
        "#@title  { display-mode: \"form\" }\n",
        "#@title\n",
        "fig = px.bar(sData,  title=\"U.S. NG supply by storage sseasons\")\n",
        "fig.update_layout(xaxis_title='storage season year', yaxis_title='supply in cubic feet',legend={'traceorder': 'reversed'})\n",
        "fig.layout.images = eiaLg\n",
        "fig.show()\n"
      ],
      "metadata": {
        "colab": {
          "base_uri": "https://localhost:8080/",
          "height": 542
        },
        "cellView": "form",
        "id": "tlEU1VOKAcrA",
        "outputId": "e3b73d6e-effe-427f-93cc-99d9058fc1e7"
      },
      "execution_count": null,
      "outputs": [
        {
          "output_type": "display_data",
          "data": {
            "text/html": [
              "<html>\n",
              "<head><meta charset=\"utf-8\" /></head>\n",
              "<body>\n",
              "    <div>            <script src=\"https://cdnjs.cloudflare.com/ajax/libs/mathjax/2.7.5/MathJax.js?config=TeX-AMS-MML_SVG\"></script><script type=\"text/javascript\">if (window.MathJax) {MathJax.Hub.Config({SVG: {font: \"STIX-Web\"}});}</script>                <script type=\"text/javascript\">window.PlotlyConfig = {MathJaxConfig: 'local'};</script>\n",
              "        <script src=\"https://cdn.plot.ly/plotly-2.8.3.min.js\"></script>                <div id=\"34b4668a-6bf7-4f93-bbd7-d9ab6ada8283\" class=\"plotly-graph-div\" style=\"height:525px; width:100%;\"></div>            <script type=\"text/javascript\">                                    window.PLOTLYENV=window.PLOTLYENV || {};                                    if (document.getElementById(\"34b4668a-6bf7-4f93-bbd7-d9ab6ada8283\")) {                    Plotly.newPlot(                        \"34b4668a-6bf7-4f93-bbd7-d9ab6ada8283\",                        [{\"alignmentgroup\":\"True\",\"hovertemplate\":\"variable=dryProduction<br>Season=%{x}<br>value=%{y}<extra></extra>\",\"legendgroup\":\"dryProduction\",\"marker\":{\"color\":\"#636efa\",\"pattern\":{\"shape\":\"\"}},\"name\":\"dryProduction\",\"offsetgroup\":\"dryProduction\",\"orientation\":\"v\",\"showlegend\":true,\"textposition\":\"auto\",\"x\":[\"ij2001\",\"ij2002\",\"ij2003\",\"ij2004\",\"ij2005\",\"ij2006\",\"ij2007\",\"ij2008\",\"ij2009\",\"ij2010\",\"ij2011\",\"ij2012\",\"ij2013\",\"ij2014\",\"ij2015\",\"ij2016\",\"ij2017\",\"ij2018\",\"ij2019\",\"ij2020\",\"ij2021\",\"wd2001\",\"wd2002\",\"wd2003\",\"wd2004\",\"wd2005\",\"wd2006\",\"wd2007\",\"wd2008\",\"wd2009\",\"wd2010\",\"wd2011\",\"wd2012\",\"wd2013\",\"wd2014\",\"wd2015\",\"wd2016\",\"wd2017\",\"wd2018\",\"wd2019\",\"wd2020\",\"wd2021\"],\"xaxis\":\"x\",\"y\":[11512679000000,11070993000000,11200508000000,10854882000000,10492356000000,10883011000000,11294428000000,11736434000000,12039696000000,12507772000000,13473833000000,14052110000000,14234376000000,15322309000000,15916812000000,15493742000000,15997088000000,18088526000000,19894091000000,19196479000000,20075067000000,7925808000000,7917952000000,7826671000000,7653313000000,7437335000000,7791051000000,8326028000000,8615608000000,8507169000000,9107867000000,9949329000000,9923145000000,10211023000000,11090078000000,11237270000000,10827119000000,12097570000000,13554103000000,14594841000000,13770094000000,14432890000000],\"yaxis\":\"y\",\"type\":\"bar\"},{\"alignmentgroup\":\"True\",\"hovertemplate\":\"variable=pplImports<br>Season=%{x}<br>value=%{y}<extra></extra>\",\"legendgroup\":\"pplImports\",\"marker\":{\"color\":\"#EF553B\",\"pattern\":{\"shape\":\"\"}},\"name\":\"pplImports\",\"offsetgroup\":\"pplImports\",\"orientation\":\"v\",\"showlegend\":true,\"textposition\":\"auto\",\"x\":[\"ij2001\",\"ij2002\",\"ij2003\",\"ij2004\",\"ij2005\",\"ij2006\",\"ij2007\",\"ij2008\",\"ij2009\",\"ij2010\",\"ij2011\",\"ij2012\",\"ij2013\",\"ij2014\",\"ij2015\",\"ij2016\",\"ij2017\",\"ij2018\",\"ij2019\",\"ij2020\",\"ij2021\",\"wd2001\",\"wd2002\",\"wd2003\",\"wd2004\",\"wd2005\",\"wd2006\",\"wd2007\",\"wd2008\",\"wd2009\",\"wd2010\",\"wd2011\",\"wd2012\",\"wd2013\",\"wd2014\",\"wd2015\",\"wd2016\",\"wd2017\",\"wd2018\",\"wd2019\",\"wd2020\",\"wd2021\"],\"xaxis\":\"x\",\"y\":[2163236000000,2171185000000,1925949000000,2012836000000,2067220000000,2060672000000,2163180000000,1970396000000,1809650000000,1856950000000,1726308000000,1747351000000,1569968000000,1402836000000,1441642000000,1688211000000,1656965000000,1581950000000,1470389000000,1340065000000,1513436000000,1535884000000,1576534000000,1510779000000,1660904000000,1576868000000,1607250000000,1720588000000,1548660000000,1460858000000,1452308000000,1266739000000,1184899000000,1246270000000,1225483000000,1168021000000,1294275000000,1275577000000,1203555000000,1158276000000,1251096000000,1294254000000],\"yaxis\":\"y\",\"type\":\"bar\"},{\"alignmentgroup\":\"True\",\"hovertemplate\":\"variable=lngImports<br>Season=%{x}<br>value=%{y}<extra></extra>\",\"legendgroup\":\"lngImports\",\"marker\":{\"color\":\"#00cc96\",\"pattern\":{\"shape\":\"\"}},\"name\":\"lngImports\",\"offsetgroup\":\"lngImports\",\"orientation\":\"v\",\"showlegend\":true,\"textposition\":\"auto\",\"x\":[\"ij2001\",\"ij2002\",\"ij2003\",\"ij2004\",\"ij2005\",\"ij2006\",\"ij2007\",\"ij2008\",\"ij2009\",\"ij2010\",\"ij2011\",\"ij2012\",\"ij2013\",\"ij2014\",\"ij2015\",\"ij2016\",\"ij2017\",\"ij2018\",\"ij2019\",\"ij2020\",\"ij2021\",\"wd2001\",\"wd2002\",\"wd2003\",\"wd2004\",\"wd2005\",\"wd2006\",\"wd2007\",\"wd2008\",\"wd2009\",\"wd2010\",\"wd2011\",\"wd2012\",\"wd2013\",\"wd2014\",\"wd2015\",\"wd2016\",\"wd2017\",\"wd2018\",\"wd2019\",\"wd2020\",\"wd2021\"],\"xaxis\":\"x\",\"y\":[153515000000,161010000000,344583000000,395793000000,364743000000,373629000000,539056000000,222469000000,293675000000,231391000000,197263000000,88330000000,58272000000,36202000000,39909000000,40095000000,34460000000,28992000000,14106000000,19111000000,4721000000,46827000000,117073000000,238220000000,262069000000,220696000000,282866000000,123085000000,139892000000,211219000000,171109000000,96091000000,64263000000,20481000000,46480000000,43477000000,44237000000,47126000000,43112000000,35029000000,21817000000,16834000000],\"yaxis\":\"y\",\"type\":\"bar\"}],                        {\"template\":{\"data\":{\"bar\":[{\"error_x\":{\"color\":\"#2a3f5f\"},\"error_y\":{\"color\":\"#2a3f5f\"},\"marker\":{\"line\":{\"color\":\"#E5ECF6\",\"width\":0.5},\"pattern\":{\"fillmode\":\"overlay\",\"size\":10,\"solidity\":0.2}},\"type\":\"bar\"}],\"barpolar\":[{\"marker\":{\"line\":{\"color\":\"#E5ECF6\",\"width\":0.5},\"pattern\":{\"fillmode\":\"overlay\",\"size\":10,\"solidity\":0.2}},\"type\":\"barpolar\"}],\"carpet\":[{\"aaxis\":{\"endlinecolor\":\"#2a3f5f\",\"gridcolor\":\"white\",\"linecolor\":\"white\",\"minorgridcolor\":\"white\",\"startlinecolor\":\"#2a3f5f\"},\"baxis\":{\"endlinecolor\":\"#2a3f5f\",\"gridcolor\":\"white\",\"linecolor\":\"white\",\"minorgridcolor\":\"white\",\"startlinecolor\":\"#2a3f5f\"},\"type\":\"carpet\"}],\"choropleth\":[{\"colorbar\":{\"outlinewidth\":0,\"ticks\":\"\"},\"type\":\"choropleth\"}],\"contour\":[{\"colorbar\":{\"outlinewidth\":0,\"ticks\":\"\"},\"colorscale\":[[0.0,\"#0d0887\"],[0.1111111111111111,\"#46039f\"],[0.2222222222222222,\"#7201a8\"],[0.3333333333333333,\"#9c179e\"],[0.4444444444444444,\"#bd3786\"],[0.5555555555555556,\"#d8576b\"],[0.6666666666666666,\"#ed7953\"],[0.7777777777777778,\"#fb9f3a\"],[0.8888888888888888,\"#fdca26\"],[1.0,\"#f0f921\"]],\"type\":\"contour\"}],\"contourcarpet\":[{\"colorbar\":{\"outlinewidth\":0,\"ticks\":\"\"},\"type\":\"contourcarpet\"}],\"heatmap\":[{\"colorbar\":{\"outlinewidth\":0,\"ticks\":\"\"},\"colorscale\":[[0.0,\"#0d0887\"],[0.1111111111111111,\"#46039f\"],[0.2222222222222222,\"#7201a8\"],[0.3333333333333333,\"#9c179e\"],[0.4444444444444444,\"#bd3786\"],[0.5555555555555556,\"#d8576b\"],[0.6666666666666666,\"#ed7953\"],[0.7777777777777778,\"#fb9f3a\"],[0.8888888888888888,\"#fdca26\"],[1.0,\"#f0f921\"]],\"type\":\"heatmap\"}],\"heatmapgl\":[{\"colorbar\":{\"outlinewidth\":0,\"ticks\":\"\"},\"colorscale\":[[0.0,\"#0d0887\"],[0.1111111111111111,\"#46039f\"],[0.2222222222222222,\"#7201a8\"],[0.3333333333333333,\"#9c179e\"],[0.4444444444444444,\"#bd3786\"],[0.5555555555555556,\"#d8576b\"],[0.6666666666666666,\"#ed7953\"],[0.7777777777777778,\"#fb9f3a\"],[0.8888888888888888,\"#fdca26\"],[1.0,\"#f0f921\"]],\"type\":\"heatmapgl\"}],\"histogram\":[{\"marker\":{\"pattern\":{\"fillmode\":\"overlay\",\"size\":10,\"solidity\":0.2}},\"type\":\"histogram\"}],\"histogram2d\":[{\"colorbar\":{\"outlinewidth\":0,\"ticks\":\"\"},\"colorscale\":[[0.0,\"#0d0887\"],[0.1111111111111111,\"#46039f\"],[0.2222222222222222,\"#7201a8\"],[0.3333333333333333,\"#9c179e\"],[0.4444444444444444,\"#bd3786\"],[0.5555555555555556,\"#d8576b\"],[0.6666666666666666,\"#ed7953\"],[0.7777777777777778,\"#fb9f3a\"],[0.8888888888888888,\"#fdca26\"],[1.0,\"#f0f921\"]],\"type\":\"histogram2d\"}],\"histogram2dcontour\":[{\"colorbar\":{\"outlinewidth\":0,\"ticks\":\"\"},\"colorscale\":[[0.0,\"#0d0887\"],[0.1111111111111111,\"#46039f\"],[0.2222222222222222,\"#7201a8\"],[0.3333333333333333,\"#9c179e\"],[0.4444444444444444,\"#bd3786\"],[0.5555555555555556,\"#d8576b\"],[0.6666666666666666,\"#ed7953\"],[0.7777777777777778,\"#fb9f3a\"],[0.8888888888888888,\"#fdca26\"],[1.0,\"#f0f921\"]],\"type\":\"histogram2dcontour\"}],\"mesh3d\":[{\"colorbar\":{\"outlinewidth\":0,\"ticks\":\"\"},\"type\":\"mesh3d\"}],\"parcoords\":[{\"line\":{\"colorbar\":{\"outlinewidth\":0,\"ticks\":\"\"}},\"type\":\"parcoords\"}],\"pie\":[{\"automargin\":true,\"type\":\"pie\"}],\"scatter\":[{\"marker\":{\"colorbar\":{\"outlinewidth\":0,\"ticks\":\"\"}},\"type\":\"scatter\"}],\"scatter3d\":[{\"line\":{\"colorbar\":{\"outlinewidth\":0,\"ticks\":\"\"}},\"marker\":{\"colorbar\":{\"outlinewidth\":0,\"ticks\":\"\"}},\"type\":\"scatter3d\"}],\"scattercarpet\":[{\"marker\":{\"colorbar\":{\"outlinewidth\":0,\"ticks\":\"\"}},\"type\":\"scattercarpet\"}],\"scattergeo\":[{\"marker\":{\"colorbar\":{\"outlinewidth\":0,\"ticks\":\"\"}},\"type\":\"scattergeo\"}],\"scattergl\":[{\"marker\":{\"colorbar\":{\"outlinewidth\":0,\"ticks\":\"\"}},\"type\":\"scattergl\"}],\"scattermapbox\":[{\"marker\":{\"colorbar\":{\"outlinewidth\":0,\"ticks\":\"\"}},\"type\":\"scattermapbox\"}],\"scatterpolar\":[{\"marker\":{\"colorbar\":{\"outlinewidth\":0,\"ticks\":\"\"}},\"type\":\"scatterpolar\"}],\"scatterpolargl\":[{\"marker\":{\"colorbar\":{\"outlinewidth\":0,\"ticks\":\"\"}},\"type\":\"scatterpolargl\"}],\"scatterternary\":[{\"marker\":{\"colorbar\":{\"outlinewidth\":0,\"ticks\":\"\"}},\"type\":\"scatterternary\"}],\"surface\":[{\"colorbar\":{\"outlinewidth\":0,\"ticks\":\"\"},\"colorscale\":[[0.0,\"#0d0887\"],[0.1111111111111111,\"#46039f\"],[0.2222222222222222,\"#7201a8\"],[0.3333333333333333,\"#9c179e\"],[0.4444444444444444,\"#bd3786\"],[0.5555555555555556,\"#d8576b\"],[0.6666666666666666,\"#ed7953\"],[0.7777777777777778,\"#fb9f3a\"],[0.8888888888888888,\"#fdca26\"],[1.0,\"#f0f921\"]],\"type\":\"surface\"}],\"table\":[{\"cells\":{\"fill\":{\"color\":\"#EBF0F8\"},\"line\":{\"color\":\"white\"}},\"header\":{\"fill\":{\"color\":\"#C8D4E3\"},\"line\":{\"color\":\"white\"}},\"type\":\"table\"}]},\"layout\":{\"annotationdefaults\":{\"arrowcolor\":\"#2a3f5f\",\"arrowhead\":0,\"arrowwidth\":1},\"autotypenumbers\":\"strict\",\"coloraxis\":{\"colorbar\":{\"outlinewidth\":0,\"ticks\":\"\"}},\"colorscale\":{\"diverging\":[[0,\"#8e0152\"],[0.1,\"#c51b7d\"],[0.2,\"#de77ae\"],[0.3,\"#f1b6da\"],[0.4,\"#fde0ef\"],[0.5,\"#f7f7f7\"],[0.6,\"#e6f5d0\"],[0.7,\"#b8e186\"],[0.8,\"#7fbc41\"],[0.9,\"#4d9221\"],[1,\"#276419\"]],\"sequential\":[[0.0,\"#0d0887\"],[0.1111111111111111,\"#46039f\"],[0.2222222222222222,\"#7201a8\"],[0.3333333333333333,\"#9c179e\"],[0.4444444444444444,\"#bd3786\"],[0.5555555555555556,\"#d8576b\"],[0.6666666666666666,\"#ed7953\"],[0.7777777777777778,\"#fb9f3a\"],[0.8888888888888888,\"#fdca26\"],[1.0,\"#f0f921\"]],\"sequentialminus\":[[0.0,\"#0d0887\"],[0.1111111111111111,\"#46039f\"],[0.2222222222222222,\"#7201a8\"],[0.3333333333333333,\"#9c179e\"],[0.4444444444444444,\"#bd3786\"],[0.5555555555555556,\"#d8576b\"],[0.6666666666666666,\"#ed7953\"],[0.7777777777777778,\"#fb9f3a\"],[0.8888888888888888,\"#fdca26\"],[1.0,\"#f0f921\"]]},\"colorway\":[\"#636efa\",\"#EF553B\",\"#00cc96\",\"#ab63fa\",\"#FFA15A\",\"#19d3f3\",\"#FF6692\",\"#B6E880\",\"#FF97FF\",\"#FECB52\"],\"font\":{\"color\":\"#2a3f5f\"},\"geo\":{\"bgcolor\":\"white\",\"lakecolor\":\"white\",\"landcolor\":\"#E5ECF6\",\"showlakes\":true,\"showland\":true,\"subunitcolor\":\"white\"},\"hoverlabel\":{\"align\":\"left\"},\"hovermode\":\"closest\",\"mapbox\":{\"style\":\"light\"},\"paper_bgcolor\":\"white\",\"plot_bgcolor\":\"#E5ECF6\",\"polar\":{\"angularaxis\":{\"gridcolor\":\"white\",\"linecolor\":\"white\",\"ticks\":\"\"},\"bgcolor\":\"#E5ECF6\",\"radialaxis\":{\"gridcolor\":\"white\",\"linecolor\":\"white\",\"ticks\":\"\"}},\"scene\":{\"xaxis\":{\"backgroundcolor\":\"#E5ECF6\",\"gridcolor\":\"white\",\"gridwidth\":2,\"linecolor\":\"white\",\"showbackground\":true,\"ticks\":\"\",\"zerolinecolor\":\"white\"},\"yaxis\":{\"backgroundcolor\":\"#E5ECF6\",\"gridcolor\":\"white\",\"gridwidth\":2,\"linecolor\":\"white\",\"showbackground\":true,\"ticks\":\"\",\"zerolinecolor\":\"white\"},\"zaxis\":{\"backgroundcolor\":\"#E5ECF6\",\"gridcolor\":\"white\",\"gridwidth\":2,\"linecolor\":\"white\",\"showbackground\":true,\"ticks\":\"\",\"zerolinecolor\":\"white\"}},\"shapedefaults\":{\"line\":{\"color\":\"#2a3f5f\"}},\"ternary\":{\"aaxis\":{\"gridcolor\":\"white\",\"linecolor\":\"white\",\"ticks\":\"\"},\"baxis\":{\"gridcolor\":\"white\",\"linecolor\":\"white\",\"ticks\":\"\"},\"bgcolor\":\"#E5ECF6\",\"caxis\":{\"gridcolor\":\"white\",\"linecolor\":\"white\",\"ticks\":\"\"}},\"title\":{\"x\":0.05},\"xaxis\":{\"automargin\":true,\"gridcolor\":\"white\",\"linecolor\":\"white\",\"ticks\":\"\",\"title\":{\"standoff\":15},\"zerolinecolor\":\"white\",\"zerolinewidth\":2},\"yaxis\":{\"automargin\":true,\"gridcolor\":\"white\",\"linecolor\":\"white\",\"ticks\":\"\",\"title\":{\"standoff\":15},\"zerolinecolor\":\"white\",\"zerolinewidth\":2}}},\"xaxis\":{\"anchor\":\"y\",\"domain\":[0.0,1.0],\"title\":{\"text\":\"storage season year\"}},\"yaxis\":{\"anchor\":\"x\",\"domain\":[0.0,1.0],\"title\":{\"text\":\"supply in cubic feet\"}},\"legend\":{\"title\":{\"text\":\"variable\"},\"tracegroupgap\":0,\"traceorder\":\"reversed\"},\"title\":{\"text\":\"U.S. NG supply by storage sseasons\"},\"barmode\":\"relative\",\"images\":[{\"sizex\":0.2,\"sizey\":0.2,\"source\":\"https://upload.wikimedia.org/wikipedia/commons/1/1f/Energy_Information_Administration_logo.svg\",\"x\":1.07,\"xanchor\":\"center\",\"y\":-0.1,\"yanchor\":\"bottom\"}]},                        {\"responsive\": true}                    ).then(function(){\n",
              "                            \n",
              "var gd = document.getElementById('34b4668a-6bf7-4f93-bbd7-d9ab6ada8283');\n",
              "var x = new MutationObserver(function (mutations, observer) {{\n",
              "        var display = window.getComputedStyle(gd).display;\n",
              "        if (!display || display === 'none') {{\n",
              "            console.log([gd, 'removed!']);\n",
              "            Plotly.purge(gd);\n",
              "            observer.disconnect();\n",
              "        }}\n",
              "}});\n",
              "\n",
              "// Listen for the removal of the full notebook cells\n",
              "var notebookContainer = gd.closest('#notebook-container');\n",
              "if (notebookContainer) {{\n",
              "    x.observe(notebookContainer, {childList: true});\n",
              "}}\n",
              "\n",
              "// Listen for the clearing of the current output cell\n",
              "var outputEl = gd.closest('.output');\n",
              "if (outputEl) {{\n",
              "    x.observe(outputEl, {childList: true});\n",
              "}}\n",
              "\n",
              "                        })                };                            </script>        </div>\n",
              "</body>\n",
              "</html>"
            ]
          },
          "metadata": {}
        }
      ]
    },
    {
      "cell_type": "markdown",
      "source": [
        "\n",
        "#.\n",
        "\n"
      ],
      "metadata": {
        "id": "Syr43_z_ovPy"
      }
    },
    {
      "cell_type": "markdown",
      "source": [
        ".. \n",
        "\n",
        "...\n",
        "\n",
        "...."
      ],
      "metadata": {
        "id": "gErSJgFxMJ2j"
      }
    },
    {
      "cell_type": "markdown",
      "source": [
        "# Demand for natural gas by storage season"
      ],
      "metadata": {
        "id": "in2sCWlhLL7V"
      }
    },
    {
      "cell_type": "markdown",
      "source": [
        "# New Section\n",
        "https://colab.research.google.com/drive/1hv_GJ0OgaStB5O5cUAJRyoxT497m5DEO#scrollTo=HxezOU9XMz4x\n"
      ],
      "metadata": {
        "id": "HxezOU9XMz4x"
      }
    }
  ]
}