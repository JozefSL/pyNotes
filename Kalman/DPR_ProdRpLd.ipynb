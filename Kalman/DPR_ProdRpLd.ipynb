{
  "nbformat": 4,
  "nbformat_minor": 0,
  "metadata": {
    "colab": {
      "provenance": [],
      "include_colab_link": true
    },
    "kernelspec": {
      "name": "python3",
      "display_name": "Python 3"
    },
    "language_info": {
      "name": "python"
    },
    "widgets": {
      "application/vnd.jupyter.widget-state+json": {
        "aaac966f84c34b61a8dad15b0b5fde5c": {
          "model_module": "@jupyter-widgets/controls",
          "model_name": "DropdownModel",
          "model_module_version": "1.5.0",
          "state": {
            "_dom_classes": [],
            "_model_module": "@jupyter-widgets/controls",
            "_model_module_version": "1.5.0",
            "_model_name": "DropdownModel",
            "_options_labels": [
              "Anadarko Region",
              "Bakken Region",
              "Eagle Ford Region",
              "Niobrara Region",
              "Permian Region",
              "Marcellus Region",
              "Utica Region",
              "Appalachia Region",
              "Haynesville Region"
            ],
            "_view_count": null,
            "_view_module": "@jupyter-widgets/controls",
            "_view_module_version": "1.5.0",
            "_view_name": "DropdownView",
            "description": "DPR_Region:",
            "description_tooltip": null,
            "disabled": false,
            "index": 4,
            "layout": "IPY_MODEL_20ca70602bb7411c843d1fe0cb8512e9",
            "style": "IPY_MODEL_0fc09bc94d3b486b93cb450d1ad26752"
          }
        },
        "20ca70602bb7411c843d1fe0cb8512e9": {
          "model_module": "@jupyter-widgets/base",
          "model_name": "LayoutModel",
          "model_module_version": "1.2.0",
          "state": {
            "_model_module": "@jupyter-widgets/base",
            "_model_module_version": "1.2.0",
            "_model_name": "LayoutModel",
            "_view_count": null,
            "_view_module": "@jupyter-widgets/base",
            "_view_module_version": "1.2.0",
            "_view_name": "LayoutView",
            "align_content": null,
            "align_items": null,
            "align_self": null,
            "border": null,
            "bottom": null,
            "display": null,
            "flex": null,
            "flex_flow": null,
            "grid_area": null,
            "grid_auto_columns": null,
            "grid_auto_flow": null,
            "grid_auto_rows": null,
            "grid_column": null,
            "grid_gap": null,
            "grid_row": null,
            "grid_template_areas": null,
            "grid_template_columns": null,
            "grid_template_rows": null,
            "height": null,
            "justify_content": null,
            "justify_items": null,
            "left": null,
            "margin": null,
            "max_height": null,
            "max_width": null,
            "min_height": null,
            "min_width": null,
            "object_fit": null,
            "object_position": null,
            "order": null,
            "overflow": null,
            "overflow_x": null,
            "overflow_y": null,
            "padding": null,
            "right": null,
            "top": null,
            "visibility": null,
            "width": null
          }
        },
        "0fc09bc94d3b486b93cb450d1ad26752": {
          "model_module": "@jupyter-widgets/controls",
          "model_name": "DescriptionStyleModel",
          "model_module_version": "1.5.0",
          "state": {
            "_model_module": "@jupyter-widgets/controls",
            "_model_module_version": "1.5.0",
            "_model_name": "DescriptionStyleModel",
            "_view_count": null,
            "_view_module": "@jupyter-widgets/base",
            "_view_module_version": "1.2.0",
            "_view_name": "StyleView",
            "description_width": ""
          }
        },
        "5cb4d755abb1403597186fe6dbc4c53f": {
          "model_module": "@jupyter-widgets/controls",
          "model_name": "DropdownModel",
          "model_module_version": "1.5.0",
          "state": {
            "_dom_classes": [],
            "_model_module": "@jupyter-widgets/controls",
            "_model_module_version": "1.5.0",
            "_model_name": "DropdownModel",
            "_options_labels": [
              "oil",
              "gas"
            ],
            "_view_count": null,
            "_view_module": "@jupyter-widgets/controls",
            "_view_module_version": "1.5.0",
            "_view_name": "DropdownView",
            "description": "DPR_Com:",
            "description_tooltip": null,
            "disabled": false,
            "index": 0,
            "layout": "IPY_MODEL_a23ecbaa8e214aada07e7d0985212f55",
            "style": "IPY_MODEL_18dc2347a17e4a0cb9c7bcc9d2824a79"
          }
        },
        "a23ecbaa8e214aada07e7d0985212f55": {
          "model_module": "@jupyter-widgets/base",
          "model_name": "LayoutModel",
          "model_module_version": "1.2.0",
          "state": {
            "_model_module": "@jupyter-widgets/base",
            "_model_module_version": "1.2.0",
            "_model_name": "LayoutModel",
            "_view_count": null,
            "_view_module": "@jupyter-widgets/base",
            "_view_module_version": "1.2.0",
            "_view_name": "LayoutView",
            "align_content": null,
            "align_items": null,
            "align_self": null,
            "border": null,
            "bottom": null,
            "display": null,
            "flex": null,
            "flex_flow": null,
            "grid_area": null,
            "grid_auto_columns": null,
            "grid_auto_flow": null,
            "grid_auto_rows": null,
            "grid_column": null,
            "grid_gap": null,
            "grid_row": null,
            "grid_template_areas": null,
            "grid_template_columns": null,
            "grid_template_rows": null,
            "height": null,
            "justify_content": null,
            "justify_items": null,
            "left": null,
            "margin": null,
            "max_height": null,
            "max_width": null,
            "min_height": null,
            "min_width": null,
            "object_fit": null,
            "object_position": null,
            "order": null,
            "overflow": null,
            "overflow_x": null,
            "overflow_y": null,
            "padding": null,
            "right": null,
            "top": null,
            "visibility": null,
            "width": null
          }
        },
        "18dc2347a17e4a0cb9c7bcc9d2824a79": {
          "model_module": "@jupyter-widgets/controls",
          "model_name": "DescriptionStyleModel",
          "model_module_version": "1.5.0",
          "state": {
            "_model_module": "@jupyter-widgets/controls",
            "_model_module_version": "1.5.0",
            "_model_name": "DescriptionStyleModel",
            "_view_count": null,
            "_view_module": "@jupyter-widgets/base",
            "_view_module_version": "1.2.0",
            "_view_name": "StyleView",
            "description_width": ""
          }
        }
      }
    }
  },
  "cells": [
    {
      "cell_type": "markdown",
      "metadata": {
        "id": "view-in-github",
        "colab_type": "text"
      },
      "source": [
        "<a href=\"https://colab.research.google.com/github/JozefSL/pyNotes/blob/main/Kalman/DPR_ProdRpLd.ipynb\" target=\"_parent\"><img src=\"https://colab.research.google.com/assets/colab-badge.svg\" alt=\"Open In Colab\"/></a>"
      ]
    },
    {
      "cell_type": "code",
      "source": [
        "#@title Install filterpy and restart runtime\n",
        "# this command hides the cell output\n",
        "%%capture\n",
        "!pip install filterpy\n",
        "import os\n",
        "#os.kill(os.getpid(),9)"
      ],
      "metadata": {
        "id": "sMgNP5PbyP4a"
      },
      "execution_count": 1,
      "outputs": []
    },
    {
      "cell_type": "code",
      "execution_count": 2,
      "metadata": {
        "id": "g4aMVLxYyKO-",
        "cellView": "form"
      },
      "outputs": [],
      "source": [
        "#@title Import packages from Google and get EIA logo\n",
        "import numpy as np\n",
        "import pandas as pd\n",
        "from filterpy.kalman import KalmanFilter\n",
        "from filterpy.common import Q_discrete_white_noise\n",
        "from filterpy.stats import plot_covariance_ellipse\n",
        "from filterpy.kalman import predict\n",
        "from filterpy.kalman import update\n",
        "import plotly.express as px\n",
        "import plotly.graph_objects as go\n",
        "from sklearn.metrics import r2_score \n",
        "import ipywidgets as widgets\n",
        "\n",
        "eiaLgFile = \"https://upload.wikimedia.org/wikipedia/commons/thumb/4/49/Eia-logomark.svg/640px-Eia-logomark.svg.png\"\n",
        "eiaLogo = [dict(source = eiaLgFile,\n",
        "                       x=1.06, y=-0.06,\n",
        "                       sizex=0.15, sizey=0.15,\n",
        "                       xanchor=\"center\", yanchor=\"bottom\")]\n"
      ]
    },
    {
      "cell_type": "code",
      "source": [
        "#@title Select DPR Region \n",
        "dprRegions = ['Anadarko Region','Bakken Region','Eagle Ford Region','Niobrara Region','Permian Region', 'Marcellus Region','Utica Region','Appalachia Region','Haynesville Region']\n",
        "dprR = widgets.Dropdown(options=dprRegions, description='DPR_Region:', disabled=False)\n",
        "dprR"
      ],
      "metadata": {
        "colab": {
          "base_uri": "https://localhost:8080/",
          "height": 49,
          "referenced_widgets": [
            "aaac966f84c34b61a8dad15b0b5fde5c",
            "20ca70602bb7411c843d1fe0cb8512e9",
            "0fc09bc94d3b486b93cb450d1ad26752"
          ]
        },
        "id": "g2GuXZTTj1UL",
        "outputId": "b939f781-8392-42bc-9263-a94d3a18473e"
      },
      "execution_count": 3,
      "outputs": [
        {
          "output_type": "display_data",
          "data": {
            "text/plain": [
              "Dropdown(description='DPR_Region:', options=('Anadarko Region', 'Bakken Region', 'Eagle Ford Region', 'Niobrar…"
            ],
            "application/vnd.jupyter.widget-view+json": {
              "version_major": 2,
              "version_minor": 0,
              "model_id": "aaac966f84c34b61a8dad15b0b5fde5c"
            }
          },
          "metadata": {}
        }
      ]
    },
    {
      "cell_type": "code",
      "source": [
        "#@title Select oil or gas commodity \n",
        "dprCommodity = ['oil','gas']\n",
        "dprC = widgets.Dropdown(options=dprCommodity, description='DPR_Com:', disabled=False)\n",
        "dprC"
      ],
      "metadata": {
        "id": "itxLuCYp29DJ",
        "outputId": "5443b754-54e9-4994-cac0-16b3685ca94d",
        "colab": {
          "base_uri": "https://localhost:8080/",
          "height": 49,
          "referenced_widgets": [
            "5cb4d755abb1403597186fe6dbc4c53f",
            "a23ecbaa8e214aada07e7d0985212f55",
            "18dc2347a17e4a0cb9c7bcc9d2824a79"
          ]
        }
      },
      "execution_count": 4,
      "outputs": [
        {
          "output_type": "display_data",
          "data": {
            "text/plain": [
              "Dropdown(description='DPR_Com:', options=('oil', 'gas'), value='oil')"
            ],
            "application/vnd.jupyter.widget-view+json": {
              "version_major": 2,
              "version_minor": 0,
              "model_id": "5cb4d755abb1403597186fe6dbc4c53f"
            }
          },
          "metadata": {}
        }
      ]
    },
    {
      "cell_type": "code",
      "source": [
        "dprC.value"
      ],
      "metadata": {
        "id": "Ed47uE2v5BGr",
        "outputId": "5c895214-8ad2-47fc-db1c-d7e6ad8d4e65",
        "colab": {
          "base_uri": "https://localhost:8080/",
          "height": 35
        }
      },
      "execution_count": 5,
      "outputs": [
        {
          "output_type": "execute_result",
          "data": {
            "text/plain": [
              "'oil'"
            ],
            "application/vnd.google.colaboratory.intrinsic+json": {
              "type": "string"
            }
          },
          "metadata": {},
          "execution_count": 5
        }
      ]
    },
    {
      "cell_type": "code",
      "source": [
        "#@title Import rig and production data from the DPR region\n",
        "file = r\"https://www.eia.gov/petroleum/drilling/xls/dpr-data.xlsx\"\n",
        "data = pd.read_excel(file, sheet_name=dprR.value, skiprows=2, ) #usecols=[0,1,4,7]) #index_col=0, , nrows=numRows)\n",
        "data.columns = ['Month', 'BH','RPo','LDo','PRo','RPg','LDg','PRg']\n",
        "#data.head(4)\n",
        "data['BH2MF'] = data['BH'].shift(2)\n",
        "data['dPRo'] = data['PRo'].diff()\n",
        "data['dPRg'] = data['PRg'].diff()\n",
        "data['dBH2MF'] = data['BH2MF'].diff()\n",
        "data = data.fillna(method=\"backfill\")\n",
        "data = data.fillna(method=\"ffill\")\n",
        "data.tail()"
      ],
      "metadata": {
        "colab": {
          "base_uri": "https://localhost:8080/",
          "height": 206
        },
        "id": "yUxdJkyrkf5c",
        "outputId": "89032317-1593-45c4-f702-24f46b94646d"
      },
      "execution_count": 6,
      "outputs": [
        {
          "output_type": "execute_result",
          "data": {
            "text/plain": [
              "         Month     BH     RPo       LDo        PRo     RPg       LDg  \\\n",
              "192 2023-02-01  353.0  1056.7 -342059.4  5626577.4  2094.6 -619346.4   \n",
              "193 2023-03-01  349.0  1055.9 -344258.3  5657159.5  2071.6 -624802.0   \n",
              "194 2023-04-01  356.0  1055.0 -349936.9  5679653.1  2050.8 -628230.8   \n",
              "195 2023-05-01  356.0  1054.2 -355192.9  5692375.9  2030.3 -631243.2   \n",
              "196 2023-06-01  356.0  1053.4 -359904.4  5707466.3  2010.2 -633740.3   \n",
              "\n",
              "            PRg  BH2MF     dPRo      dPRg  dBH2MF  \n",
              "192  22185961.5  350.0 -25557.8  182727.1     1.0  \n",
              "193  22296564.3  355.0  30582.1  110602.8     5.0  \n",
              "194  22392282.6  353.0  22493.6   95718.3    -2.0  \n",
              "195  22469627.6  349.0  12722.8   77345.0    -4.0  \n",
              "196  22551532.1  356.0  15090.4   81904.5     7.0  "
            ],
            "text/html": [
              "\n",
              "  <div id=\"df-1c816b5e-4563-4a15-8234-f78e6fb7dce7\">\n",
              "    <div class=\"colab-df-container\">\n",
              "      <div>\n",
              "<style scoped>\n",
              "    .dataframe tbody tr th:only-of-type {\n",
              "        vertical-align: middle;\n",
              "    }\n",
              "\n",
              "    .dataframe tbody tr th {\n",
              "        vertical-align: top;\n",
              "    }\n",
              "\n",
              "    .dataframe thead th {\n",
              "        text-align: right;\n",
              "    }\n",
              "</style>\n",
              "<table border=\"1\" class=\"dataframe\">\n",
              "  <thead>\n",
              "    <tr style=\"text-align: right;\">\n",
              "      <th></th>\n",
              "      <th>Month</th>\n",
              "      <th>BH</th>\n",
              "      <th>RPo</th>\n",
              "      <th>LDo</th>\n",
              "      <th>PRo</th>\n",
              "      <th>RPg</th>\n",
              "      <th>LDg</th>\n",
              "      <th>PRg</th>\n",
              "      <th>BH2MF</th>\n",
              "      <th>dPRo</th>\n",
              "      <th>dPRg</th>\n",
              "      <th>dBH2MF</th>\n",
              "    </tr>\n",
              "  </thead>\n",
              "  <tbody>\n",
              "    <tr>\n",
              "      <th>192</th>\n",
              "      <td>2023-02-01</td>\n",
              "      <td>353.0</td>\n",
              "      <td>1056.7</td>\n",
              "      <td>-342059.4</td>\n",
              "      <td>5626577.4</td>\n",
              "      <td>2094.6</td>\n",
              "      <td>-619346.4</td>\n",
              "      <td>22185961.5</td>\n",
              "      <td>350.0</td>\n",
              "      <td>-25557.8</td>\n",
              "      <td>182727.1</td>\n",
              "      <td>1.0</td>\n",
              "    </tr>\n",
              "    <tr>\n",
              "      <th>193</th>\n",
              "      <td>2023-03-01</td>\n",
              "      <td>349.0</td>\n",
              "      <td>1055.9</td>\n",
              "      <td>-344258.3</td>\n",
              "      <td>5657159.5</td>\n",
              "      <td>2071.6</td>\n",
              "      <td>-624802.0</td>\n",
              "      <td>22296564.3</td>\n",
              "      <td>355.0</td>\n",
              "      <td>30582.1</td>\n",
              "      <td>110602.8</td>\n",
              "      <td>5.0</td>\n",
              "    </tr>\n",
              "    <tr>\n",
              "      <th>194</th>\n",
              "      <td>2023-04-01</td>\n",
              "      <td>356.0</td>\n",
              "      <td>1055.0</td>\n",
              "      <td>-349936.9</td>\n",
              "      <td>5679653.1</td>\n",
              "      <td>2050.8</td>\n",
              "      <td>-628230.8</td>\n",
              "      <td>22392282.6</td>\n",
              "      <td>353.0</td>\n",
              "      <td>22493.6</td>\n",
              "      <td>95718.3</td>\n",
              "      <td>-2.0</td>\n",
              "    </tr>\n",
              "    <tr>\n",
              "      <th>195</th>\n",
              "      <td>2023-05-01</td>\n",
              "      <td>356.0</td>\n",
              "      <td>1054.2</td>\n",
              "      <td>-355192.9</td>\n",
              "      <td>5692375.9</td>\n",
              "      <td>2030.3</td>\n",
              "      <td>-631243.2</td>\n",
              "      <td>22469627.6</td>\n",
              "      <td>349.0</td>\n",
              "      <td>12722.8</td>\n",
              "      <td>77345.0</td>\n",
              "      <td>-4.0</td>\n",
              "    </tr>\n",
              "    <tr>\n",
              "      <th>196</th>\n",
              "      <td>2023-06-01</td>\n",
              "      <td>356.0</td>\n",
              "      <td>1053.4</td>\n",
              "      <td>-359904.4</td>\n",
              "      <td>5707466.3</td>\n",
              "      <td>2010.2</td>\n",
              "      <td>-633740.3</td>\n",
              "      <td>22551532.1</td>\n",
              "      <td>356.0</td>\n",
              "      <td>15090.4</td>\n",
              "      <td>81904.5</td>\n",
              "      <td>7.0</td>\n",
              "    </tr>\n",
              "  </tbody>\n",
              "</table>\n",
              "</div>\n",
              "      <button class=\"colab-df-convert\" onclick=\"convertToInteractive('df-1c816b5e-4563-4a15-8234-f78e6fb7dce7')\"\n",
              "              title=\"Convert this dataframe to an interactive table.\"\n",
              "              style=\"display:none;\">\n",
              "        \n",
              "  <svg xmlns=\"http://www.w3.org/2000/svg\" height=\"24px\"viewBox=\"0 0 24 24\"\n",
              "       width=\"24px\">\n",
              "    <path d=\"M0 0h24v24H0V0z\" fill=\"none\"/>\n",
              "    <path d=\"M18.56 5.44l.94 2.06.94-2.06 2.06-.94-2.06-.94-.94-2.06-.94 2.06-2.06.94zm-11 1L8.5 8.5l.94-2.06 2.06-.94-2.06-.94L8.5 2.5l-.94 2.06-2.06.94zm10 10l.94 2.06.94-2.06 2.06-.94-2.06-.94-.94-2.06-.94 2.06-2.06.94z\"/><path d=\"M17.41 7.96l-1.37-1.37c-.4-.4-.92-.59-1.43-.59-.52 0-1.04.2-1.43.59L10.3 9.45l-7.72 7.72c-.78.78-.78 2.05 0 2.83L4 21.41c.39.39.9.59 1.41.59.51 0 1.02-.2 1.41-.59l7.78-7.78 2.81-2.81c.8-.78.8-2.07 0-2.86zM5.41 20L4 18.59l7.72-7.72 1.47 1.35L5.41 20z\"/>\n",
              "  </svg>\n",
              "      </button>\n",
              "      \n",
              "  <style>\n",
              "    .colab-df-container {\n",
              "      display:flex;\n",
              "      flex-wrap:wrap;\n",
              "      gap: 12px;\n",
              "    }\n",
              "\n",
              "    .colab-df-convert {\n",
              "      background-color: #E8F0FE;\n",
              "      border: none;\n",
              "      border-radius: 50%;\n",
              "      cursor: pointer;\n",
              "      display: none;\n",
              "      fill: #1967D2;\n",
              "      height: 32px;\n",
              "      padding: 0 0 0 0;\n",
              "      width: 32px;\n",
              "    }\n",
              "\n",
              "    .colab-df-convert:hover {\n",
              "      background-color: #E2EBFA;\n",
              "      box-shadow: 0px 1px 2px rgba(60, 64, 67, 0.3), 0px 1px 3px 1px rgba(60, 64, 67, 0.15);\n",
              "      fill: #174EA6;\n",
              "    }\n",
              "\n",
              "    [theme=dark] .colab-df-convert {\n",
              "      background-color: #3B4455;\n",
              "      fill: #D2E3FC;\n",
              "    }\n",
              "\n",
              "    [theme=dark] .colab-df-convert:hover {\n",
              "      background-color: #434B5C;\n",
              "      box-shadow: 0px 1px 3px 1px rgba(0, 0, 0, 0.15);\n",
              "      filter: drop-shadow(0px 1px 2px rgba(0, 0, 0, 0.3));\n",
              "      fill: #FFFFFF;\n",
              "    }\n",
              "  </style>\n",
              "\n",
              "      <script>\n",
              "        const buttonEl =\n",
              "          document.querySelector('#df-1c816b5e-4563-4a15-8234-f78e6fb7dce7 button.colab-df-convert');\n",
              "        buttonEl.style.display =\n",
              "          google.colab.kernel.accessAllowed ? 'block' : 'none';\n",
              "\n",
              "        async function convertToInteractive(key) {\n",
              "          const element = document.querySelector('#df-1c816b5e-4563-4a15-8234-f78e6fb7dce7');\n",
              "          const dataTable =\n",
              "            await google.colab.kernel.invokeFunction('convertToInteractive',\n",
              "                                                     [key], {});\n",
              "          if (!dataTable) return;\n",
              "\n",
              "          const docLinkHtml = 'Like what you see? Visit the ' +\n",
              "            '<a target=\"_blank\" href=https://colab.research.google.com/notebooks/data_table.ipynb>data table notebook</a>'\n",
              "            + ' to learn more about interactive tables.';\n",
              "          element.innerHTML = '';\n",
              "          dataTable['output_type'] = 'display_data';\n",
              "          await google.colab.output.renderOutput(dataTable, element);\n",
              "          const docLink = document.createElement('div');\n",
              "          docLink.innerHTML = docLinkHtml;\n",
              "          element.appendChild(docLink);\n",
              "        }\n",
              "      </script>\n",
              "    </div>\n",
              "  </div>\n",
              "  "
            ]
          },
          "metadata": {},
          "execution_count": 6
        }
      ]
    },
    {
      "cell_type": "code",
      "source": [
        "from google.colab import files\n",
        "uploaded = files.upload() # PermianData.csv"
      ],
      "metadata": {
        "id": "NneDb3PPA-Ys",
        "outputId": "2c18e4e9-04cd-4f18-e594-fad01a17a8eb",
        "colab": {
          "base_uri": "https://localhost:8080/",
          "height": 73
        }
      },
      "execution_count": 71,
      "outputs": [
        {
          "output_type": "display_data",
          "data": {
            "text/plain": [
              "<IPython.core.display.HTML object>"
            ],
            "text/html": [
              "\n",
              "     <input type=\"file\" id=\"files-38d0d82a-c924-4d6e-991b-66ab9f7d1ba4\" name=\"files[]\" multiple disabled\n",
              "        style=\"border:none\" />\n",
              "     <output id=\"result-38d0d82a-c924-4d6e-991b-66ab9f7d1ba4\">\n",
              "      Upload widget is only available when the cell has been executed in the\n",
              "      current browser session. Please rerun this cell to enable.\n",
              "      </output>\n",
              "      <script>// Copyright 2017 Google LLC\n",
              "//\n",
              "// Licensed under the Apache License, Version 2.0 (the \"License\");\n",
              "// you may not use this file except in compliance with the License.\n",
              "// You may obtain a copy of the License at\n",
              "//\n",
              "//      http://www.apache.org/licenses/LICENSE-2.0\n",
              "//\n",
              "// Unless required by applicable law or agreed to in writing, software\n",
              "// distributed under the License is distributed on an \"AS IS\" BASIS,\n",
              "// WITHOUT WARRANTIES OR CONDITIONS OF ANY KIND, either express or implied.\n",
              "// See the License for the specific language governing permissions and\n",
              "// limitations under the License.\n",
              "\n",
              "/**\n",
              " * @fileoverview Helpers for google.colab Python module.\n",
              " */\n",
              "(function(scope) {\n",
              "function span(text, styleAttributes = {}) {\n",
              "  const element = document.createElement('span');\n",
              "  element.textContent = text;\n",
              "  for (const key of Object.keys(styleAttributes)) {\n",
              "    element.style[key] = styleAttributes[key];\n",
              "  }\n",
              "  return element;\n",
              "}\n",
              "\n",
              "// Max number of bytes which will be uploaded at a time.\n",
              "const MAX_PAYLOAD_SIZE = 100 * 1024;\n",
              "\n",
              "function _uploadFiles(inputId, outputId) {\n",
              "  const steps = uploadFilesStep(inputId, outputId);\n",
              "  const outputElement = document.getElementById(outputId);\n",
              "  // Cache steps on the outputElement to make it available for the next call\n",
              "  // to uploadFilesContinue from Python.\n",
              "  outputElement.steps = steps;\n",
              "\n",
              "  return _uploadFilesContinue(outputId);\n",
              "}\n",
              "\n",
              "// This is roughly an async generator (not supported in the browser yet),\n",
              "// where there are multiple asynchronous steps and the Python side is going\n",
              "// to poll for completion of each step.\n",
              "// This uses a Promise to block the python side on completion of each step,\n",
              "// then passes the result of the previous step as the input to the next step.\n",
              "function _uploadFilesContinue(outputId) {\n",
              "  const outputElement = document.getElementById(outputId);\n",
              "  const steps = outputElement.steps;\n",
              "\n",
              "  const next = steps.next(outputElement.lastPromiseValue);\n",
              "  return Promise.resolve(next.value.promise).then((value) => {\n",
              "    // Cache the last promise value to make it available to the next\n",
              "    // step of the generator.\n",
              "    outputElement.lastPromiseValue = value;\n",
              "    return next.value.response;\n",
              "  });\n",
              "}\n",
              "\n",
              "/**\n",
              " * Generator function which is called between each async step of the upload\n",
              " * process.\n",
              " * @param {string} inputId Element ID of the input file picker element.\n",
              " * @param {string} outputId Element ID of the output display.\n",
              " * @return {!Iterable<!Object>} Iterable of next steps.\n",
              " */\n",
              "function* uploadFilesStep(inputId, outputId) {\n",
              "  const inputElement = document.getElementById(inputId);\n",
              "  inputElement.disabled = false;\n",
              "\n",
              "  const outputElement = document.getElementById(outputId);\n",
              "  outputElement.innerHTML = '';\n",
              "\n",
              "  const pickedPromise = new Promise((resolve) => {\n",
              "    inputElement.addEventListener('change', (e) => {\n",
              "      resolve(e.target.files);\n",
              "    });\n",
              "  });\n",
              "\n",
              "  const cancel = document.createElement('button');\n",
              "  inputElement.parentElement.appendChild(cancel);\n",
              "  cancel.textContent = 'Cancel upload';\n",
              "  const cancelPromise = new Promise((resolve) => {\n",
              "    cancel.onclick = () => {\n",
              "      resolve(null);\n",
              "    };\n",
              "  });\n",
              "\n",
              "  // Wait for the user to pick the files.\n",
              "  const files = yield {\n",
              "    promise: Promise.race([pickedPromise, cancelPromise]),\n",
              "    response: {\n",
              "      action: 'starting',\n",
              "    }\n",
              "  };\n",
              "\n",
              "  cancel.remove();\n",
              "\n",
              "  // Disable the input element since further picks are not allowed.\n",
              "  inputElement.disabled = true;\n",
              "\n",
              "  if (!files) {\n",
              "    return {\n",
              "      response: {\n",
              "        action: 'complete',\n",
              "      }\n",
              "    };\n",
              "  }\n",
              "\n",
              "  for (const file of files) {\n",
              "    const li = document.createElement('li');\n",
              "    li.append(span(file.name, {fontWeight: 'bold'}));\n",
              "    li.append(span(\n",
              "        `(${file.type || 'n/a'}) - ${file.size} bytes, ` +\n",
              "        `last modified: ${\n",
              "            file.lastModifiedDate ? file.lastModifiedDate.toLocaleDateString() :\n",
              "                                    'n/a'} - `));\n",
              "    const percent = span('0% done');\n",
              "    li.appendChild(percent);\n",
              "\n",
              "    outputElement.appendChild(li);\n",
              "\n",
              "    const fileDataPromise = new Promise((resolve) => {\n",
              "      const reader = new FileReader();\n",
              "      reader.onload = (e) => {\n",
              "        resolve(e.target.result);\n",
              "      };\n",
              "      reader.readAsArrayBuffer(file);\n",
              "    });\n",
              "    // Wait for the data to be ready.\n",
              "    let fileData = yield {\n",
              "      promise: fileDataPromise,\n",
              "      response: {\n",
              "        action: 'continue',\n",
              "      }\n",
              "    };\n",
              "\n",
              "    // Use a chunked sending to avoid message size limits. See b/62115660.\n",
              "    let position = 0;\n",
              "    do {\n",
              "      const length = Math.min(fileData.byteLength - position, MAX_PAYLOAD_SIZE);\n",
              "      const chunk = new Uint8Array(fileData, position, length);\n",
              "      position += length;\n",
              "\n",
              "      const base64 = btoa(String.fromCharCode.apply(null, chunk));\n",
              "      yield {\n",
              "        response: {\n",
              "          action: 'append',\n",
              "          file: file.name,\n",
              "          data: base64,\n",
              "        },\n",
              "      };\n",
              "\n",
              "      let percentDone = fileData.byteLength === 0 ?\n",
              "          100 :\n",
              "          Math.round((position / fileData.byteLength) * 100);\n",
              "      percent.textContent = `${percentDone}% done`;\n",
              "\n",
              "    } while (position < fileData.byteLength);\n",
              "  }\n",
              "\n",
              "  // All done.\n",
              "  yield {\n",
              "    response: {\n",
              "      action: 'complete',\n",
              "    }\n",
              "  };\n",
              "}\n",
              "\n",
              "scope.google = scope.google || {};\n",
              "scope.google.colab = scope.google.colab || {};\n",
              "scope.google.colab._files = {\n",
              "  _uploadFiles,\n",
              "  _uploadFilesContinue,\n",
              "};\n",
              "})(self);\n",
              "</script> "
            ]
          },
          "metadata": {}
        },
        {
          "output_type": "stream",
          "name": "stdout",
          "text": [
            "Saving PermianData.csv to PermianData.csv\n"
          ]
        }
      ]
    },
    {
      "cell_type": "code",
      "source": [
        "data = pd.read_csv('PermianData.csv')"
      ],
      "metadata": {
        "id": "KxK3HgeaBWML"
      },
      "execution_count": 72,
      "outputs": []
    },
    {
      "cell_type": "code",
      "source": [
        "data.tail()"
      ],
      "metadata": {
        "id": "Ha1UzTCuBeqD",
        "outputId": "093b4273-3bd8-4a91-ce61-3a40ece36518",
        "colab": {
          "base_uri": "https://localhost:8080/",
          "height": 206
        }
      },
      "execution_count": 79,
      "outputs": [
        {
          "output_type": "execute_result",
          "data": {
            "text/plain": [
              "         Month   BH          RPg           LDg          PRg          RPo  \\\n",
              "184   7/1/2022  337  1844.293673 -2.180376e+05  21164465.32   947.524265   \n",
              "185   8/1/2022  344  2933.827832 -7.782604e+05  21395441.71  1195.727307   \n",
              "186   9/1/2022  349  2710.704489 -1.914736e+05  21974210.27  1212.902483   \n",
              "187  10/1/2022  346  2372.185064 -7.705496e+05  21936986.52  1206.173224   \n",
              "188  11/1/2022  343  2633.853061 -1.018800e+06  21737049.20  1190.569193   \n",
              "\n",
              "             LDo          PRo           PR           RP           LD  \n",
              "184 -234947.5753  5261672.935  5261672.935   947.524265 -234947.5753  \n",
              "185 -343778.9677  5329224.161  5329224.161  1195.727307 -343778.9677  \n",
              "186 -282443.0280  5470084.100  5470084.100  1212.902483 -282443.0280  \n",
              "187 -314402.6643  5506934.161  5506934.161  1206.173224 -314402.6643  \n",
              "188 -377634.8416  5515499.767  5515499.767  1190.569193 -377634.8416  "
            ],
            "text/html": [
              "\n",
              "  <div id=\"df-5cdb6a1a-3a92-44e7-99f2-840a50065a7a\">\n",
              "    <div class=\"colab-df-container\">\n",
              "      <div>\n",
              "<style scoped>\n",
              "    .dataframe tbody tr th:only-of-type {\n",
              "        vertical-align: middle;\n",
              "    }\n",
              "\n",
              "    .dataframe tbody tr th {\n",
              "        vertical-align: top;\n",
              "    }\n",
              "\n",
              "    .dataframe thead th {\n",
              "        text-align: right;\n",
              "    }\n",
              "</style>\n",
              "<table border=\"1\" class=\"dataframe\">\n",
              "  <thead>\n",
              "    <tr style=\"text-align: right;\">\n",
              "      <th></th>\n",
              "      <th>Month</th>\n",
              "      <th>BH</th>\n",
              "      <th>RPg</th>\n",
              "      <th>LDg</th>\n",
              "      <th>PRg</th>\n",
              "      <th>RPo</th>\n",
              "      <th>LDo</th>\n",
              "      <th>PRo</th>\n",
              "      <th>PR</th>\n",
              "      <th>RP</th>\n",
              "      <th>LD</th>\n",
              "    </tr>\n",
              "  </thead>\n",
              "  <tbody>\n",
              "    <tr>\n",
              "      <th>184</th>\n",
              "      <td>7/1/2022</td>\n",
              "      <td>337</td>\n",
              "      <td>1844.293673</td>\n",
              "      <td>-2.180376e+05</td>\n",
              "      <td>21164465.32</td>\n",
              "      <td>947.524265</td>\n",
              "      <td>-234947.5753</td>\n",
              "      <td>5261672.935</td>\n",
              "      <td>5261672.935</td>\n",
              "      <td>947.524265</td>\n",
              "      <td>-234947.5753</td>\n",
              "    </tr>\n",
              "    <tr>\n",
              "      <th>185</th>\n",
              "      <td>8/1/2022</td>\n",
              "      <td>344</td>\n",
              "      <td>2933.827832</td>\n",
              "      <td>-7.782604e+05</td>\n",
              "      <td>21395441.71</td>\n",
              "      <td>1195.727307</td>\n",
              "      <td>-343778.9677</td>\n",
              "      <td>5329224.161</td>\n",
              "      <td>5329224.161</td>\n",
              "      <td>1195.727307</td>\n",
              "      <td>-343778.9677</td>\n",
              "    </tr>\n",
              "    <tr>\n",
              "      <th>186</th>\n",
              "      <td>9/1/2022</td>\n",
              "      <td>349</td>\n",
              "      <td>2710.704489</td>\n",
              "      <td>-1.914736e+05</td>\n",
              "      <td>21974210.27</td>\n",
              "      <td>1212.902483</td>\n",
              "      <td>-282443.0280</td>\n",
              "      <td>5470084.100</td>\n",
              "      <td>5470084.100</td>\n",
              "      <td>1212.902483</td>\n",
              "      <td>-282443.0280</td>\n",
              "    </tr>\n",
              "    <tr>\n",
              "      <th>187</th>\n",
              "      <td>10/1/2022</td>\n",
              "      <td>346</td>\n",
              "      <td>2372.185064</td>\n",
              "      <td>-7.705496e+05</td>\n",
              "      <td>21936986.52</td>\n",
              "      <td>1206.173224</td>\n",
              "      <td>-314402.6643</td>\n",
              "      <td>5506934.161</td>\n",
              "      <td>5506934.161</td>\n",
              "      <td>1206.173224</td>\n",
              "      <td>-314402.6643</td>\n",
              "    </tr>\n",
              "    <tr>\n",
              "      <th>188</th>\n",
              "      <td>11/1/2022</td>\n",
              "      <td>343</td>\n",
              "      <td>2633.853061</td>\n",
              "      <td>-1.018800e+06</td>\n",
              "      <td>21737049.20</td>\n",
              "      <td>1190.569193</td>\n",
              "      <td>-377634.8416</td>\n",
              "      <td>5515499.767</td>\n",
              "      <td>5515499.767</td>\n",
              "      <td>1190.569193</td>\n",
              "      <td>-377634.8416</td>\n",
              "    </tr>\n",
              "  </tbody>\n",
              "</table>\n",
              "</div>\n",
              "      <button class=\"colab-df-convert\" onclick=\"convertToInteractive('df-5cdb6a1a-3a92-44e7-99f2-840a50065a7a')\"\n",
              "              title=\"Convert this dataframe to an interactive table.\"\n",
              "              style=\"display:none;\">\n",
              "        \n",
              "  <svg xmlns=\"http://www.w3.org/2000/svg\" height=\"24px\"viewBox=\"0 0 24 24\"\n",
              "       width=\"24px\">\n",
              "    <path d=\"M0 0h24v24H0V0z\" fill=\"none\"/>\n",
              "    <path d=\"M18.56 5.44l.94 2.06.94-2.06 2.06-.94-2.06-.94-.94-2.06-.94 2.06-2.06.94zm-11 1L8.5 8.5l.94-2.06 2.06-.94-2.06-.94L8.5 2.5l-.94 2.06-2.06.94zm10 10l.94 2.06.94-2.06 2.06-.94-2.06-.94-.94-2.06-.94 2.06-2.06.94z\"/><path d=\"M17.41 7.96l-1.37-1.37c-.4-.4-.92-.59-1.43-.59-.52 0-1.04.2-1.43.59L10.3 9.45l-7.72 7.72c-.78.78-.78 2.05 0 2.83L4 21.41c.39.39.9.59 1.41.59.51 0 1.02-.2 1.41-.59l7.78-7.78 2.81-2.81c.8-.78.8-2.07 0-2.86zM5.41 20L4 18.59l7.72-7.72 1.47 1.35L5.41 20z\"/>\n",
              "  </svg>\n",
              "      </button>\n",
              "      \n",
              "  <style>\n",
              "    .colab-df-container {\n",
              "      display:flex;\n",
              "      flex-wrap:wrap;\n",
              "      gap: 12px;\n",
              "    }\n",
              "\n",
              "    .colab-df-convert {\n",
              "      background-color: #E8F0FE;\n",
              "      border: none;\n",
              "      border-radius: 50%;\n",
              "      cursor: pointer;\n",
              "      display: none;\n",
              "      fill: #1967D2;\n",
              "      height: 32px;\n",
              "      padding: 0 0 0 0;\n",
              "      width: 32px;\n",
              "    }\n",
              "\n",
              "    .colab-df-convert:hover {\n",
              "      background-color: #E2EBFA;\n",
              "      box-shadow: 0px 1px 2px rgba(60, 64, 67, 0.3), 0px 1px 3px 1px rgba(60, 64, 67, 0.15);\n",
              "      fill: #174EA6;\n",
              "    }\n",
              "\n",
              "    [theme=dark] .colab-df-convert {\n",
              "      background-color: #3B4455;\n",
              "      fill: #D2E3FC;\n",
              "    }\n",
              "\n",
              "    [theme=dark] .colab-df-convert:hover {\n",
              "      background-color: #434B5C;\n",
              "      box-shadow: 0px 1px 3px 1px rgba(0, 0, 0, 0.15);\n",
              "      filter: drop-shadow(0px 1px 2px rgba(0, 0, 0, 0.3));\n",
              "      fill: #FFFFFF;\n",
              "    }\n",
              "  </style>\n",
              "\n",
              "      <script>\n",
              "        const buttonEl =\n",
              "          document.querySelector('#df-5cdb6a1a-3a92-44e7-99f2-840a50065a7a button.colab-df-convert');\n",
              "        buttonEl.style.display =\n",
              "          google.colab.kernel.accessAllowed ? 'block' : 'none';\n",
              "\n",
              "        async function convertToInteractive(key) {\n",
              "          const element = document.querySelector('#df-5cdb6a1a-3a92-44e7-99f2-840a50065a7a');\n",
              "          const dataTable =\n",
              "            await google.colab.kernel.invokeFunction('convertToInteractive',\n",
              "                                                     [key], {});\n",
              "          if (!dataTable) return;\n",
              "\n",
              "          const docLinkHtml = 'Like what you see? Visit the ' +\n",
              "            '<a target=\"_blank\" href=https://colab.research.google.com/notebooks/data_table.ipynb>data table notebook</a>'\n",
              "            + ' to learn more about interactive tables.';\n",
              "          element.innerHTML = '';\n",
              "          dataTable['output_type'] = 'display_data';\n",
              "          await google.colab.output.renderOutput(dataTable, element);\n",
              "          const docLink = document.createElement('div');\n",
              "          docLink.innerHTML = docLinkHtml;\n",
              "          element.appendChild(docLink);\n",
              "        }\n",
              "      </script>\n",
              "    </div>\n",
              "  </div>\n",
              "  "
            ]
          },
          "metadata": {},
          "execution_count": 79
        }
      ]
    },
    {
      "cell_type": "code",
      "source": [],
      "metadata": {
        "id": "oJ6wJjsaBe-o"
      },
      "execution_count": null,
      "outputs": []
    },
    {
      "cell_type": "code",
      "source": [],
      "metadata": {
        "id": "1pW9NDUzBfDI"
      },
      "execution_count": null,
      "outputs": []
    },
    {
      "cell_type": "code",
      "source": [],
      "metadata": {
        "id": "gVG8fJR1BfGp"
      },
      "execution_count": null,
      "outputs": []
    },
    {
      "cell_type": "code",
      "source": [
        "#@title Kalman Filter setup\n",
        "# Step units in months\n",
        "dt = 1\n",
        "\n",
        "if dprC.value == \"oil\":\n",
        "    data['PR'] = data['PRo']\n",
        "    #data['dPR'] = data['dPRo']\n",
        "    data['RP'] = data['RPo']\n",
        "    data['LD'] = data['LDo']\n",
        "else:\n",
        "    data['PR'] = data['PRg']\n",
        "    #data['dPR'] = data['dPRg']\n",
        "    data['RP'] = data['RPg']\n",
        "    data['LD'] = data['LDg']\n",
        "\n",
        "orv = data['PR'].iloc[0]\n",
        "#orr = data['dPR'].iloc[0]\n",
        "orp = data['RP'].iloc[0]\n",
        "old = data['LD'].iloc[0]\n",
        "\n",
        "# x - Origin state estimate vector\n",
        "x = np.array([orv, orp, old]).T\n",
        "\n",
        "# Q - Process noise matrix\n",
        "#Q = Q_discrete_white_noise(dim=3, dt=1, var=.85)\n",
        "Q = np.array([[0.25, 0.15, 0.1],\n",
        "              [0.15, 0.11, 0.1],\n",
        "              [0.1, 0.1, 0.1]])\n",
        "\n",
        "# P - Covariance matrix\n",
        "P = np.diag([1, 1, 1])\n",
        "\n",
        "# R - Measurement noise matrix\n",
        "R = np.diag([0.2, 0.2, .39])\n",
        "\n",
        "\n",
        "# H - Measurement function\n",
        "H = np.array([[1., 0., 0.],\n",
        "              [0., 1., 0.],\n",
        "              [0., 0., 1.]])\n",
        "\n",
        "\n",
        "# F - State transition matrix\n",
        "F = np.array([[1, 0, 1],\n",
        "              [0, 1, 0],\n",
        "              [0, 0, 1]])\n",
        "\n",
        "# B - Measurement function\n",
        "\n",
        "B = np.array([x[1], 0, 0])\n",
        "\n",
        "\n",
        "\n",
        "# Measurements for update \n",
        "zsu = data[['PR','RP','LD','BH','BH','BH']].to_numpy()\n",
        "\n",
        "# System prediction \n",
        "Xp = np.empty((0,3), int)\n",
        "\n",
        "# System update\n",
        "Xu = np.empty((0,3), int)\n",
        "for zs  in zsu:\n",
        "    z = zs[0:3]\n",
        "    u = zs[3:6]\n",
        " \n",
        "    #u[0]=0\n",
        "    #u[2]=0\n",
        "    #print(z)\n",
        "    #B = np.array([x[1], 0, 0])\n",
        "    x, P = predict(x=x, P=P, F=F, Q=Q, u=u, B=B, alpha=0.99)    #x, P = predict(x=x, P=P, F=F, Q=Q, u=u)\n",
        "    Xp = np.vstack([Xp, x])\n",
        "\n",
        "    x, P = update(x, P, z, R, H,)\n",
        "    Xu = np.vstack([Xu, x])\n",
        "   \n",
        "print('R^2:', r2_score(Xp[:,0], data.PR),'|| lastEstimate:', x, '|| lastRigCount:',u)  "
      ],
      "metadata": {
        "colab": {
          "base_uri": "https://localhost:8080/"
        },
        "id": "D8P_lwN-Y1c8",
        "outputId": "dcfb395f-2ec6-428d-b985-25533619a200"
      },
      "execution_count": 398,
      "outputs": [
        {
          "output_type": "stream",
          "name": "stdout",
          "text": [
            "R^2: 0.9787842541568947 || lastEstimate: [5346990.14976943  169936.16784417 -144479.51978569] || lastRigCount: [343. 343. 343.]\n"
          ]
        }
      ]
    },
    {
      "cell_type": "code",
      "source": [
        "#zsu\n",
        "B"
      ],
      "metadata": {
        "colab": {
          "base_uri": "https://localhost:8080/"
        },
        "id": "hG2GQQa0Liic",
        "outputId": "580209c2-5c62-4b42-9941-d152b8a0fd53"
      },
      "execution_count": 396,
      "outputs": [
        {
          "output_type": "execute_result",
          "data": {
            "text/plain": [
              "array([nan,  0.,  0.])"
            ]
          },
          "metadata": {},
          "execution_count": 396
        }
      ]
    },
    {
      "cell_type": "code",
      "source": [
        "u"
      ],
      "metadata": {
        "id": "8D0PBiP6cNgv",
        "outputId": "67f4a5ff-73c2-46fd-bd08-b5e93d82b0d2",
        "colab": {
          "base_uri": "https://localhost:8080/"
        }
      },
      "execution_count": 385,
      "outputs": [
        {
          "output_type": "execute_result",
          "data": {
            "text/plain": [
              "array([343., 343., 343.])"
            ]
          },
          "metadata": {},
          "execution_count": 385
        }
      ]
    },
    {
      "cell_type": "code",
      "source": [
        "x[1]"
      ],
      "metadata": {
        "id": "OD0tt7Ndl5gs",
        "outputId": "b7389034-8157-4662-99cc-eb76da7b260b",
        "colab": {
          "base_uri": "https://localhost:8080/"
        }
      },
      "execution_count": 387,
      "outputs": [
        {
          "output_type": "execute_result",
          "data": {
            "text/plain": [
              "100584.56540825804"
            ]
          },
          "metadata": {},
          "execution_count": 387
        }
      ]
    },
    {
      "cell_type": "code",
      "source": [
        "x[1]"
      ],
      "metadata": {
        "colab": {
          "base_uri": "https://localhost:8080/"
        },
        "id": "D15zS2rZo36M",
        "outputId": "cab347bf-9ae1-4510-ec25-c648998be8c8"
      },
      "execution_count": 78,
      "outputs": [
        {
          "output_type": "execute_result",
          "data": {
            "text/plain": [
              "12310.605792133203"
            ]
          },
          "metadata": {},
          "execution_count": 78
        }
      ]
    },
    {
      "cell_type": "code",
      "source": [
        "#Xp\n",
        "#Q\n",
        "np.array([orv, orp, old]).T"
      ],
      "metadata": {
        "colab": {
          "base_uri": "https://localhost:8080/"
        },
        "id": "xgTMEf3PqWd_",
        "outputId": "c35a07da-3785-4897-c55f-f806b0a794ce"
      },
      "execution_count": 109,
      "outputs": [
        {
          "output_type": "execute_result",
          "data": {
            "text/plain": [
              "array([ 8.51889516e+05,  5.18184000e+01, -1.82338491e+04])"
            ]
          },
          "metadata": {},
          "execution_count": 109
        }
      ]
    },
    {
      "cell_type": "code",
      "source": [
        "#@title Plot production data as predicted and reported or estimated in DPR report\n",
        "fig = go.Figure(px.scatter(title=\"%s production estimates using Kalman filter\" % (dprR.value + \" \" + dprC.value)))\n",
        "fig.add_trace(go.Scatter(x=data.Month, y=Xp[:,0], mode='markers',name='PredictPR'))\n",
        "fig.add_trace(go.Scatter(x=data.Month, y=data.PR, mode='markers',name='Reported'))\n",
        "fig.add_trace(go.Scatter(x=data.Month, y=Xu[:,0], mode='lines+markers',name='UpdatePR'))\n",
        "fig.layout.images = eiaLogo\n",
        "fig.show()"
      ],
      "metadata": {
        "colab": {
          "base_uri": "https://localhost:8080/",
          "height": 542
        },
        "id": "tAFYMr2mY1nF",
        "outputId": "87c7a4fe-d01d-4cfa-de91-ceecc11d9020"
      },
      "execution_count": 392,
      "outputs": [
        {
          "output_type": "display_data",
          "data": {
            "text/html": [
              "<html>\n",
              "<head><meta charset=\"utf-8\" /></head>\n",
              "<body>\n",
              "    <div>            <script src=\"https://cdnjs.cloudflare.com/ajax/libs/mathjax/2.7.5/MathJax.js?config=TeX-AMS-MML_SVG\"></script><script type=\"text/javascript\">if (window.MathJax && window.MathJax.Hub && window.MathJax.Hub.Config) {window.MathJax.Hub.Config({SVG: {font: \"STIX-Web\"}});}</script>                <script type=\"text/javascript\">window.PlotlyConfig = {MathJaxConfig: 'local'};</script>\n",
              "        <script src=\"https://cdn.plot.ly/plotly-2.18.2.min.js\"></script>                <div id=\"b78595b4-becc-4cf5-8320-65d62f1e030f\" class=\"plotly-graph-div\" style=\"height:525px; width:100%;\"></div>            <script type=\"text/javascript\">                                    window.PLOTLYENV=window.PLOTLYENV || {};                                    if (document.getElementById(\"b78595b4-becc-4cf5-8320-65d62f1e030f\")) {                    Plotly.newPlot(                        \"b78595b4-becc-4cf5-8320-65d62f1e030f\",                        [{\"hovertemplate\":\"<extra></extra>\",\"legendgroup\":\"\",\"marker\":{\"color\":\"#636efa\",\"symbol\":\"circle\"},\"mode\":\"markers\",\"name\":\"\",\"orientation\":\"v\",\"showlegend\":false,\"xaxis\":\"x\",\"yaxis\":\"y\",\"type\":\"scatter\"},{\"mode\":\"markers\",\"name\":\"PredictPR\",\"x\":[\"3/1/2007\",\"4/1/2007\",\"5/1/2007\",\"6/1/2007\",\"7/1/2007\",\"8/1/2007\",\"9/1/2007\",\"10/1/2007\",\"11/1/2007\",\"12/1/2007\",\"1/1/2008\",\"2/1/2008\",\"3/1/2008\",\"4/1/2008\",\"5/1/2008\",\"6/1/2008\",\"7/1/2008\",\"8/1/2008\",\"9/1/2008\",\"10/1/2008\",\"11/1/2008\",\"12/1/2008\",\"1/1/2009\",\"2/1/2009\",\"3/1/2009\",\"4/1/2009\",\"5/1/2009\",\"6/1/2009\",\"7/1/2009\",\"8/1/2009\",\"9/1/2009\",\"10/1/2009\",\"11/1/2009\",\"12/1/2009\",\"1/1/2010\",\"2/1/2010\",\"3/1/2010\",\"4/1/2010\",\"5/1/2010\",\"6/1/2010\",\"7/1/2010\",\"8/1/2010\",\"9/1/2010\",\"10/1/2010\",\"11/1/2010\",\"12/1/2010\",\"1/1/2011\",\"2/1/2011\",\"3/1/2011\",\"4/1/2011\",\"5/1/2011\",\"6/1/2011\",\"7/1/2011\",\"8/1/2011\",\"9/1/2011\",\"10/1/2011\",\"11/1/2011\",\"12/1/2011\",\"1/1/2012\",\"2/1/2012\",\"3/1/2012\",\"4/1/2012\",\"5/1/2012\",\"6/1/2012\",\"7/1/2012\",\"8/1/2012\",\"9/1/2012\",\"10/1/2012\",\"11/1/2012\",\"12/1/2012\",\"1/1/2013\",\"2/1/2013\",\"3/1/2013\",\"4/1/2013\",\"5/1/2013\",\"6/1/2013\",\"7/1/2013\",\"8/1/2013\",\"9/1/2013\",\"10/1/2013\",\"11/1/2013\",\"12/1/2013\",\"1/1/2014\",\"2/1/2014\",\"3/1/2014\",\"4/1/2014\",\"5/1/2014\",\"6/1/2014\",\"7/1/2014\",\"8/1/2014\",\"9/1/2014\",\"10/1/2014\",\"11/1/2014\",\"12/1/2014\",\"1/1/2015\",\"2/1/2015\",\"3/1/2015\",\"4/1/2015\",\"5/1/2015\",\"6/1/2015\",\"7/1/2015\",\"8/1/2015\",\"9/1/2015\",\"10/1/2015\",\"11/1/2015\",\"12/1/2015\",\"1/1/2016\",\"2/1/2016\",\"3/1/2016\",\"4/1/2016\",\"5/1/2016\",\"6/1/2016\",\"7/1/2016\",\"8/1/2016\",\"9/1/2016\",\"10/1/2016\",\"11/1/2016\",\"12/1/2016\",\"1/1/2017\",\"2/1/2017\",\"3/1/2017\",\"4/1/2017\",\"5/1/2017\",\"6/1/2017\",\"7/1/2017\",\"8/1/2017\",\"9/1/2017\",\"10/1/2017\",\"11/1/2017\",\"12/1/2017\",\"1/1/2018\",\"2/1/2018\",\"3/1/2018\",\"4/1/2018\",\"5/1/2018\",\"6/1/2018\",\"7/1/2018\",\"8/1/2018\",\"9/1/2018\",\"10/1/2018\",\"11/1/2018\",\"12/1/2018\",\"1/1/2019\",\"2/1/2019\",\"3/1/2019\",\"4/1/2019\",\"5/1/2019\",\"6/1/2019\",\"7/1/2019\",\"8/1/2019\",\"9/1/2019\",\"10/1/2019\",\"11/1/2019\",\"12/1/2019\",\"1/1/2020\",\"2/1/2020\",\"3/1/2020\",\"4/1/2020\",\"5/1/2020\",\"6/1/2020\",\"7/1/2020\",\"8/1/2020\",\"9/1/2020\",\"10/1/2020\",\"11/1/2020\",\"12/1/2020\",\"1/1/2021\",\"2/1/2021\",\"3/1/2021\",\"4/1/2021\",\"5/1/2021\",\"6/1/2021\",\"7/1/2021\",\"8/1/2021\",\"9/1/2021\",\"10/1/2021\",\"11/1/2021\",\"12/1/2021\",\"1/1/2022\",\"2/1/2022\",\"3/1/2022\",\"4/1/2022\",\"5/1/2022\",\"6/1/2022\",\"7/1/2022\",\"8/1/2022\",\"9/1/2022\",\"10/1/2022\",\"11/1/2022\"],\"y\":[846506.63022744,1365869.2741040317,54705362.81729886,5510692679.219103,138082671706.1205,15668069702448.922,1131375338801564.5,1.2688369152567077e+17,1.0792133896844102e+19,1.1800330835762849e+21,1.0599437239371403e+23,1.233787130758627e+25,1.1951463817285744e+27,1.4012833600762789e+29,1.4410734418909367e+31,1.8027473706644084e+33,1.920434596621591e+35,2.7660954336989456e+37,3.292211993270287e+39,5.169371896759333e+41,6.188081642850755e+43,1.204379034377523e+46,1.2907434119982088e+48,-2.320949233617679e+50,-1.8525655125691502e+52,-7.24421813030912e+53,-4.2805843677501283e+55,-1.3098897958118442e+57,-5.565788447134132e+58,-2.0185538473184052e+60,-1.0586242688176219e+62,-5.095235462959392e+63,-3.2529946687762657e+65,-1.924181488582813e+67,-1.5696936192406125e+69,-1.1268540747650165e+71,-1.0819171307746368e+73,-8.566497908993219e+74,-8.561450782007304e+76,-7.47828699422501e+78,-1.0532432064412866e+81,-1.0672361933130615e+83,-4.4407501392728734e+85,-4.795099847243783e+87,-2.057533589999575e+89,-2.6213708480803587e+91,-2.386775430563175e+93,-3.3407390829649647e+95,-4.498562884191507e+97,-7.430671775915773e+99,-1.0743746959109376e+102,-1.963255555419622e+104,-3.2827440829939876e+106,-6.674793183131675e+108,-1.1764068150311173e+111,-2.580006538698203e+113,-4.835226792765905e+115,-1.1701913543416442e+118,-2.309901694806456e+120,-6.268866620965354e+122,-1.2481241140622453e+125,-5.044830095935065e+127,-1.0439113644463418e+130,2.802600713580442e+131,5.314959820127309e+133,7.807683869394688e+135,1.794143159906353e+138,3.156001077083096e+140,7.103490873970472e+142,1.3091804813727546e+145,2.8925259256639116e+147,5.25110180772524e+149,1.1333293155223717e+152,2.1121962893081144e+154,4.781574229800484e+156,9.098579901420593e+158,2.1245464028020064e+161,4.118852678965582e+163,1.0335268722064723e+166,2.009599124886392e+168,6.110495535651446e+170,1.156945967429829e+173,-1.019321508639317e+176,-2.0427587624141854e+178,-2.21125510490869e+180,-4.7756118733029343e+182,-7.954920372174745e+184,-1.8925133348097768e+187,-3.747730488437528e+189,-9.346177479178508e+191,-1.9891066231523206e+194,-5.109126838858664e+196,-1.1292770591490633e+199,-2.9904887534449947e+201,-6.836769388409794e+203,-1.841483986114611e+206,-3.7165992165312323e+208,-7.30215893184719e+210,-9.335369116379368e+212,-1.4855620588489936e+215,-1.4674279317675048e+217,-4.315386375362273e+219,-4.3902434257084765e+221,-1.3899962803297512e+223,-1.6435666886773154e+225,-1.1672202343331664e+227,-1.1926099663075248e+229,-8.83626226699979e+230,-8.11783914291994e+232,-5.227097864182175e+234,-3.680016500207035e+236,-2.0024160140875672e+238,-1.3017880090995945e+240,-7.587750844459813e+241,-6.0107861268648445e+243,-4.60432065680278e+245,-4.698280331546097e+247,-4.022257695295771e+249,-5.056479264768297e+251,-5.358981731481884e+253,-1.1591767647890903e+256,-1.4741841168982327e+258,8.18944025479515e+259,1.0953362653948141e+262,1.04915655204526e+264,1.715215840428519e+266,2.174305578399862e+268,3.686995167545706e+270,5.1793947736349967e+272,9.007683624244566e+274,1.3516941657943333e+277,2.5047500424023565e+279,4.0796202085609295e+281,8.431466740349777e+283,1.502235800171473e+286,3.356071898460822e+288,6.455811601394634e+290,1.6483045226401187e+293,3.298173418773782e+295,1.0391443487790379e+298,2.13833057452974e+300,-8.464265519644448e+304,-1.7633871127379663e+307,null,null,null,null,null,null,null,null,null,null,null,null,null,null,null,null,null,null,null,null,null,null,null,null,null,null,null,null,null,null,null,null,null,null,null,null,null,null,null,null,null,null,null,null,null,null],\"type\":\"scatter\"},{\"mode\":\"markers\",\"name\":\"Reported\",\"x\":[\"3/1/2007\",\"4/1/2007\",\"5/1/2007\",\"6/1/2007\",\"7/1/2007\",\"8/1/2007\",\"9/1/2007\",\"10/1/2007\",\"11/1/2007\",\"12/1/2007\",\"1/1/2008\",\"2/1/2008\",\"3/1/2008\",\"4/1/2008\",\"5/1/2008\",\"6/1/2008\",\"7/1/2008\",\"8/1/2008\",\"9/1/2008\",\"10/1/2008\",\"11/1/2008\",\"12/1/2008\",\"1/1/2009\",\"2/1/2009\",\"3/1/2009\",\"4/1/2009\",\"5/1/2009\",\"6/1/2009\",\"7/1/2009\",\"8/1/2009\",\"9/1/2009\",\"10/1/2009\",\"11/1/2009\",\"12/1/2009\",\"1/1/2010\",\"2/1/2010\",\"3/1/2010\",\"4/1/2010\",\"5/1/2010\",\"6/1/2010\",\"7/1/2010\",\"8/1/2010\",\"9/1/2010\",\"10/1/2010\",\"11/1/2010\",\"12/1/2010\",\"1/1/2011\",\"2/1/2011\",\"3/1/2011\",\"4/1/2011\",\"5/1/2011\",\"6/1/2011\",\"7/1/2011\",\"8/1/2011\",\"9/1/2011\",\"10/1/2011\",\"11/1/2011\",\"12/1/2011\",\"1/1/2012\",\"2/1/2012\",\"3/1/2012\",\"4/1/2012\",\"5/1/2012\",\"6/1/2012\",\"7/1/2012\",\"8/1/2012\",\"9/1/2012\",\"10/1/2012\",\"11/1/2012\",\"12/1/2012\",\"1/1/2013\",\"2/1/2013\",\"3/1/2013\",\"4/1/2013\",\"5/1/2013\",\"6/1/2013\",\"7/1/2013\",\"8/1/2013\",\"9/1/2013\",\"10/1/2013\",\"11/1/2013\",\"12/1/2013\",\"1/1/2014\",\"2/1/2014\",\"3/1/2014\",\"4/1/2014\",\"5/1/2014\",\"6/1/2014\",\"7/1/2014\",\"8/1/2014\",\"9/1/2014\",\"10/1/2014\",\"11/1/2014\",\"12/1/2014\",\"1/1/2015\",\"2/1/2015\",\"3/1/2015\",\"4/1/2015\",\"5/1/2015\",\"6/1/2015\",\"7/1/2015\",\"8/1/2015\",\"9/1/2015\",\"10/1/2015\",\"11/1/2015\",\"12/1/2015\",\"1/1/2016\",\"2/1/2016\",\"3/1/2016\",\"4/1/2016\",\"5/1/2016\",\"6/1/2016\",\"7/1/2016\",\"8/1/2016\",\"9/1/2016\",\"10/1/2016\",\"11/1/2016\",\"12/1/2016\",\"1/1/2017\",\"2/1/2017\",\"3/1/2017\",\"4/1/2017\",\"5/1/2017\",\"6/1/2017\",\"7/1/2017\",\"8/1/2017\",\"9/1/2017\",\"10/1/2017\",\"11/1/2017\",\"12/1/2017\",\"1/1/2018\",\"2/1/2018\",\"3/1/2018\",\"4/1/2018\",\"5/1/2018\",\"6/1/2018\",\"7/1/2018\",\"8/1/2018\",\"9/1/2018\",\"10/1/2018\",\"11/1/2018\",\"12/1/2018\",\"1/1/2019\",\"2/1/2019\",\"3/1/2019\",\"4/1/2019\",\"5/1/2019\",\"6/1/2019\",\"7/1/2019\",\"8/1/2019\",\"9/1/2019\",\"10/1/2019\",\"11/1/2019\",\"12/1/2019\",\"1/1/2020\",\"2/1/2020\",\"3/1/2020\",\"4/1/2020\",\"5/1/2020\",\"6/1/2020\",\"7/1/2020\",\"8/1/2020\",\"9/1/2020\",\"10/1/2020\",\"11/1/2020\",\"12/1/2020\",\"1/1/2021\",\"2/1/2021\",\"3/1/2021\",\"4/1/2021\",\"5/1/2021\",\"6/1/2021\",\"7/1/2021\",\"8/1/2021\",\"9/1/2021\",\"10/1/2021\",\"11/1/2021\",\"12/1/2021\",\"1/1/2022\",\"2/1/2022\",\"3/1/2022\",\"4/1/2022\",\"5/1/2022\",\"6/1/2022\",\"7/1/2022\",\"8/1/2022\",\"9/1/2022\",\"10/1/2022\",\"11/1/2022\"],\"y\":[851889.5161,853048.1667,843382.0,833921.9333,842377.5161,843452.4516,844839.7,849731.7742,857209.3333,862094.1613,862323.3871,870526.3793,871706.6452,867196.9,864488.2581,856997.9333,873936.9677,875580.6452,853361.5667,890863.3548,903974.2333,902229.9355,901749.8065,904327.3571,899886.5484,885675.6667,876287.9677,862298.3333,854921.7419,862178.129,871731.0667,876772.8065,888705.3667,876976.8387,886276.7419,906957.5,907594.129,901757.2,910651.0,904051.9667,917840.3226,923769.7419,931211.6667,950539.1935,964595.1333,972574.8387,979754.9355,902919.8929,992349.6129,989359.8333,1000509.065,1001899.0,1010364.161,1029561.194,1041782.133,1064922.548,1096371.667,1096101.032,1110985.935,1126113.448,1137332.548,1154813.567,1161699.032,1170269.867,1195234.871,1204582.839,1228288.633,1249612.484,1273001.567,1266046.419,1267578.355,1291089.393,1291849.871,1329968.967,1344769.71,1342309.267,1363857.581,1379914.645,1409330.5,1432224.839,1407249.933,1444384.516,1482804.548,1512476.0,1547332.258,1569838.767,1584856.516,1590105.133,1639068.0,1679207.258,1666983.367,1740957.645,1795477.8,1804452.581,1701279.29,1814983.107,1890192.71,1917391.0,1910152.774,1899655.7,1875186.355,1914815.742,1935689.167,1925255.516,1964353.733,1850754.548,1929495.258,1968601.621,1982155.903,1988633.467,1988558.387,1999175.2,2029491.452,2051178.032,2041935.133,2091651.129,2113897.867,2118295.774,2147347.097,2253048.821,2273112.613,2299622.867,2392544.968,2414804.633,2447708.484,2495572.323,2600230.4,2737977.968,2828647.567,2885012.129,2881572.968,3053101.25,3212122.065,3275081.567,3291233.677,3401205.533,3481595.774,3665460.065,3750216.4,3860624.355,3937951.033,3998590.71,3974149.645,4060484.393,4102877.258,4188425.467,4264023.29,4279148.567,4342196.452,4466426.839,4551755.733,4635136.097,4771121.933,4796401.032,4834829.516,4819065.931,4916691.097,4614092.433,3953888.226,4311347.3,4373026.355,4314107.419,4304370.867,4355190.839,4394214.467,4371144.419,4426526.903,3676235.964,4601098.129,4623149.3,4687838.194,4724487.533,4801289.516,4922582.161,4996025.967,5064659.129,5130237.9,5094302.355,4990246.839,4970066.786,5183414.323,5246851.2,5207492.032,5177304.833,5261672.935,5329224.161,5470084.1,5506934.161,5515499.767],\"type\":\"scatter\"},{\"mode\":\"lines+markers\",\"name\":\"UpdatePR\",\"x\":[\"3/1/2007\",\"4/1/2007\",\"5/1/2007\",\"6/1/2007\",\"7/1/2007\",\"8/1/2007\",\"9/1/2007\",\"10/1/2007\",\"11/1/2007\",\"12/1/2007\",\"1/1/2008\",\"2/1/2008\",\"3/1/2008\",\"4/1/2008\",\"5/1/2008\",\"6/1/2008\",\"7/1/2008\",\"8/1/2008\",\"9/1/2008\",\"10/1/2008\",\"11/1/2008\",\"12/1/2008\",\"1/1/2009\",\"2/1/2009\",\"3/1/2009\",\"4/1/2009\",\"5/1/2009\",\"6/1/2009\",\"7/1/2009\",\"8/1/2009\",\"9/1/2009\",\"10/1/2009\",\"11/1/2009\",\"12/1/2009\",\"1/1/2010\",\"2/1/2010\",\"3/1/2010\",\"4/1/2010\",\"5/1/2010\",\"6/1/2010\",\"7/1/2010\",\"8/1/2010\",\"9/1/2010\",\"10/1/2010\",\"11/1/2010\",\"12/1/2010\",\"1/1/2011\",\"2/1/2011\",\"3/1/2011\",\"4/1/2011\",\"5/1/2011\",\"6/1/2011\",\"7/1/2011\",\"8/1/2011\",\"9/1/2011\",\"10/1/2011\",\"11/1/2011\",\"12/1/2011\",\"1/1/2012\",\"2/1/2012\",\"3/1/2012\",\"4/1/2012\",\"5/1/2012\",\"6/1/2012\",\"7/1/2012\",\"8/1/2012\",\"9/1/2012\",\"10/1/2012\",\"11/1/2012\",\"12/1/2012\",\"1/1/2013\",\"2/1/2013\",\"3/1/2013\",\"4/1/2013\",\"5/1/2013\",\"6/1/2013\",\"7/1/2013\",\"8/1/2013\",\"9/1/2013\",\"10/1/2013\",\"11/1/2013\",\"12/1/2013\",\"1/1/2014\",\"2/1/2014\",\"3/1/2014\",\"4/1/2014\",\"5/1/2014\",\"6/1/2014\",\"7/1/2014\",\"8/1/2014\",\"9/1/2014\",\"10/1/2014\",\"11/1/2014\",\"12/1/2014\",\"1/1/2015\",\"2/1/2015\",\"3/1/2015\",\"4/1/2015\",\"5/1/2015\",\"6/1/2015\",\"7/1/2015\",\"8/1/2015\",\"9/1/2015\",\"10/1/2015\",\"11/1/2015\",\"12/1/2015\",\"1/1/2016\",\"2/1/2016\",\"3/1/2016\",\"4/1/2016\",\"5/1/2016\",\"6/1/2016\",\"7/1/2016\",\"8/1/2016\",\"9/1/2016\",\"10/1/2016\",\"11/1/2016\",\"12/1/2016\",\"1/1/2017\",\"2/1/2017\",\"3/1/2017\",\"4/1/2017\",\"5/1/2017\",\"6/1/2017\",\"7/1/2017\",\"8/1/2017\",\"9/1/2017\",\"10/1/2017\",\"11/1/2017\",\"12/1/2017\",\"1/1/2018\",\"2/1/2018\",\"3/1/2018\",\"4/1/2018\",\"5/1/2018\",\"6/1/2018\",\"7/1/2018\",\"8/1/2018\",\"9/1/2018\",\"10/1/2018\",\"11/1/2018\",\"12/1/2018\",\"1/1/2019\",\"2/1/2019\",\"3/1/2019\",\"4/1/2019\",\"5/1/2019\",\"6/1/2019\",\"7/1/2019\",\"8/1/2019\",\"9/1/2019\",\"10/1/2019\",\"11/1/2019\",\"12/1/2019\",\"1/1/2020\",\"2/1/2020\",\"3/1/2020\",\"4/1/2020\",\"5/1/2020\",\"6/1/2020\",\"7/1/2020\",\"8/1/2020\",\"9/1/2020\",\"10/1/2020\",\"11/1/2020\",\"12/1/2020\",\"1/1/2021\",\"2/1/2021\",\"3/1/2021\",\"4/1/2021\",\"5/1/2021\",\"6/1/2021\",\"7/1/2021\",\"8/1/2021\",\"9/1/2021\",\"10/1/2021\",\"11/1/2021\",\"12/1/2021\",\"1/1/2022\",\"2/1/2022\",\"3/1/2022\",\"4/1/2022\",\"5/1/2022\",\"6/1/2022\",\"7/1/2022\",\"8/1/2022\",\"9/1/2022\",\"10/1/2022\",\"11/1/2022\"],\"y\":[847798.2818067123,493209.3315999751,13154414.982126102,9985502242.606829,28592779926.914764,17013507755025.238,162590489300126.88,8.959818691403747e+16,1.1577929572984197e+18,6.468816996989728e+20,6.038388668824279e+21,5.604005711378147e+24,-3.6520004793211167e+24,5.443007518032953e+28,-1.276629185966136e+30,6.095747285979305e+32,-4.309445100982603e+34,8.193813007451913e+36,-1.637508832366257e+39,1.339004890069955e+41,-8.735755750272869e+43,2.6929186988884234e+45,9.405158986392064e+48,-4.2005574406774837e+49,-2.4435449319071417e+52,-1.2076869869275238e+53,-3.4063566699853174e+55,-1.6805885817376498e+56,-3.304876669922137e+58,-1.6452903333146176e+59,-5.1171012674810106e+61,-1.238493232078092e+62,-1.333614510613936e+65,9.803820798728748e+65,-5.575753004799749e+68,1.848700130753791e+70,-3.3625053885691116e+72,3.153353974731234e+74,-2.330129264501228e+76,6.718010200630183e+78,-2.489278260670064e+80,7.801804905846672e+83,-8.858656834169125e+84,-8.723386272700049e+87,-3.728769783724509e+88,-2.4208941927250896e+91,-3.2364484137743644e+92,-2.1846805064053463e+95,-4.1444171548305575e+96,-3.855551760523401e+99,-4.4429713728668396e+100,-8.525262815209062e+103,8.158976265509269e+104,-2.4942083871577644e+108,1.4130182932351772e+110,-8.412579912332172e+112,1.3546310481776886e+115,-3.344360437635491e+117,1.4601748215093876e+120,-1.5640454522725545e+122,2.799431323234272e+125,-1.0822020122094782e+127,-3.245640050980465e+130,4.223662790976807e+130,5.906385885089835e+133,1.15713729851065e+135,1.3070529303555186e+138,3.3966498949579606e+139,3.9784819501729855e+142,7.935291830863891e+143,1.3347117830902518e+147,7.315457006759558e+146,4.463306927250422e+151,-1.705199483659022e+153,1.636864615217211e+156,-1.9125443196430134e+158,6.370540290954526e+160,-1.9054115057011376e+163,2.712165794973111e+165,-2.5057014077971154e+168,1.3886674547211822e+170,1.642149536879499e+174,-1.938272030150146e+175,-2.8980144756077263e+178,-3.6069548218971376e+179,-3.9485675258254703e+182,-9.778241908655171e+183,-1.1539915505761894e+187,-2.947636195513134e+188,-4.603564762141442e+191,-4.897314685071834e+192,-2.125673181381644e+196,5.3582053329569065e+197,-1.0758479934874755e+201,1.0608785003649315e+203,-5.792662402061508e+205,1.286982656144266e+208,-2.0127931484932806e+210,7.636721837073331e+212,-3.5611295996554566e+214,6.92352560451776e+217,-8.763396841578484e+218,-8.885167867976903e+221,-2.6459629886690344e+222,-1.5831309436742562e+225,-1.6388596111380605e+226,-7.997225613824813e+228,-8.68778088830789e+229,-4.288265675942886e+232,-2.5817514504118407e+233,-1.6212086753986785e+236,2.6967531389259784e+236,-4.928024571561378e+239,7.957256866769288e+240,-1.9844215483363495e+243,1.1830336663753525e+245,-1.3592353832832678e+247,2.3233295200588877e+249,-1.277001579637095e+251,1.0048999326436424e+254,-2.5173516405071166e+255,-5.653380548053454e+258,1.3665478765461885e+259,1.2848681168787107e+262,1.6074740550338533e+263,1.2870854286435028e+266,2.441901419561241e+267,2.1075711899354155e+270,3.4143393446506046e+271,4.223431765028686e+274,1.0826454598976129e+275,1.0000072375645403e+279,-2.913207994543909e+280,2.9226632205540426e+283,-2.926297277187141e+285,1.0186536155120716e+288,-2.7703481775546184e+290,4.380374806674218e+292,-3.658932299174146e+295,2.3954688984981023e+297,1.0443831554796127e+303,-1.6445129557952613e+304,-2.7016227863652133e+307,null,null,null,null,null,null,null,null,null,null,null,null,null,null,null,null,null,null,null,null,null,null,null,null,null,null,null,null,null,null,null,null,null,null,null,null,null,null,null,null,null,null,null,null,null,null],\"type\":\"scatter\"}],                        {\"legend\":{\"tracegroupgap\":0},\"template\":{\"data\":{\"barpolar\":[{\"marker\":{\"line\":{\"color\":\"#E5ECF6\",\"width\":0.5},\"pattern\":{\"fillmode\":\"overlay\",\"size\":10,\"solidity\":0.2}},\"type\":\"barpolar\"}],\"bar\":[{\"error_x\":{\"color\":\"#2a3f5f\"},\"error_y\":{\"color\":\"#2a3f5f\"},\"marker\":{\"line\":{\"color\":\"#E5ECF6\",\"width\":0.5},\"pattern\":{\"fillmode\":\"overlay\",\"size\":10,\"solidity\":0.2}},\"type\":\"bar\"}],\"carpet\":[{\"aaxis\":{\"endlinecolor\":\"#2a3f5f\",\"gridcolor\":\"white\",\"linecolor\":\"white\",\"minorgridcolor\":\"white\",\"startlinecolor\":\"#2a3f5f\"},\"baxis\":{\"endlinecolor\":\"#2a3f5f\",\"gridcolor\":\"white\",\"linecolor\":\"white\",\"minorgridcolor\":\"white\",\"startlinecolor\":\"#2a3f5f\"},\"type\":\"carpet\"}],\"choropleth\":[{\"colorbar\":{\"outlinewidth\":0,\"ticks\":\"\"},\"type\":\"choropleth\"}],\"contourcarpet\":[{\"colorbar\":{\"outlinewidth\":0,\"ticks\":\"\"},\"type\":\"contourcarpet\"}],\"contour\":[{\"colorbar\":{\"outlinewidth\":0,\"ticks\":\"\"},\"colorscale\":[[0.0,\"#0d0887\"],[0.1111111111111111,\"#46039f\"],[0.2222222222222222,\"#7201a8\"],[0.3333333333333333,\"#9c179e\"],[0.4444444444444444,\"#bd3786\"],[0.5555555555555556,\"#d8576b\"],[0.6666666666666666,\"#ed7953\"],[0.7777777777777778,\"#fb9f3a\"],[0.8888888888888888,\"#fdca26\"],[1.0,\"#f0f921\"]],\"type\":\"contour\"}],\"heatmapgl\":[{\"colorbar\":{\"outlinewidth\":0,\"ticks\":\"\"},\"colorscale\":[[0.0,\"#0d0887\"],[0.1111111111111111,\"#46039f\"],[0.2222222222222222,\"#7201a8\"],[0.3333333333333333,\"#9c179e\"],[0.4444444444444444,\"#bd3786\"],[0.5555555555555556,\"#d8576b\"],[0.6666666666666666,\"#ed7953\"],[0.7777777777777778,\"#fb9f3a\"],[0.8888888888888888,\"#fdca26\"],[1.0,\"#f0f921\"]],\"type\":\"heatmapgl\"}],\"heatmap\":[{\"colorbar\":{\"outlinewidth\":0,\"ticks\":\"\"},\"colorscale\":[[0.0,\"#0d0887\"],[0.1111111111111111,\"#46039f\"],[0.2222222222222222,\"#7201a8\"],[0.3333333333333333,\"#9c179e\"],[0.4444444444444444,\"#bd3786\"],[0.5555555555555556,\"#d8576b\"],[0.6666666666666666,\"#ed7953\"],[0.7777777777777778,\"#fb9f3a\"],[0.8888888888888888,\"#fdca26\"],[1.0,\"#f0f921\"]],\"type\":\"heatmap\"}],\"histogram2dcontour\":[{\"colorbar\":{\"outlinewidth\":0,\"ticks\":\"\"},\"colorscale\":[[0.0,\"#0d0887\"],[0.1111111111111111,\"#46039f\"],[0.2222222222222222,\"#7201a8\"],[0.3333333333333333,\"#9c179e\"],[0.4444444444444444,\"#bd3786\"],[0.5555555555555556,\"#d8576b\"],[0.6666666666666666,\"#ed7953\"],[0.7777777777777778,\"#fb9f3a\"],[0.8888888888888888,\"#fdca26\"],[1.0,\"#f0f921\"]],\"type\":\"histogram2dcontour\"}],\"histogram2d\":[{\"colorbar\":{\"outlinewidth\":0,\"ticks\":\"\"},\"colorscale\":[[0.0,\"#0d0887\"],[0.1111111111111111,\"#46039f\"],[0.2222222222222222,\"#7201a8\"],[0.3333333333333333,\"#9c179e\"],[0.4444444444444444,\"#bd3786\"],[0.5555555555555556,\"#d8576b\"],[0.6666666666666666,\"#ed7953\"],[0.7777777777777778,\"#fb9f3a\"],[0.8888888888888888,\"#fdca26\"],[1.0,\"#f0f921\"]],\"type\":\"histogram2d\"}],\"histogram\":[{\"marker\":{\"pattern\":{\"fillmode\":\"overlay\",\"size\":10,\"solidity\":0.2}},\"type\":\"histogram\"}],\"mesh3d\":[{\"colorbar\":{\"outlinewidth\":0,\"ticks\":\"\"},\"type\":\"mesh3d\"}],\"parcoords\":[{\"line\":{\"colorbar\":{\"outlinewidth\":0,\"ticks\":\"\"}},\"type\":\"parcoords\"}],\"pie\":[{\"automargin\":true,\"type\":\"pie\"}],\"scatter3d\":[{\"line\":{\"colorbar\":{\"outlinewidth\":0,\"ticks\":\"\"}},\"marker\":{\"colorbar\":{\"outlinewidth\":0,\"ticks\":\"\"}},\"type\":\"scatter3d\"}],\"scattercarpet\":[{\"marker\":{\"colorbar\":{\"outlinewidth\":0,\"ticks\":\"\"}},\"type\":\"scattercarpet\"}],\"scattergeo\":[{\"marker\":{\"colorbar\":{\"outlinewidth\":0,\"ticks\":\"\"}},\"type\":\"scattergeo\"}],\"scattergl\":[{\"marker\":{\"colorbar\":{\"outlinewidth\":0,\"ticks\":\"\"}},\"type\":\"scattergl\"}],\"scattermapbox\":[{\"marker\":{\"colorbar\":{\"outlinewidth\":0,\"ticks\":\"\"}},\"type\":\"scattermapbox\"}],\"scatterpolargl\":[{\"marker\":{\"colorbar\":{\"outlinewidth\":0,\"ticks\":\"\"}},\"type\":\"scatterpolargl\"}],\"scatterpolar\":[{\"marker\":{\"colorbar\":{\"outlinewidth\":0,\"ticks\":\"\"}},\"type\":\"scatterpolar\"}],\"scatter\":[{\"fillpattern\":{\"fillmode\":\"overlay\",\"size\":10,\"solidity\":0.2},\"type\":\"scatter\"}],\"scatterternary\":[{\"marker\":{\"colorbar\":{\"outlinewidth\":0,\"ticks\":\"\"}},\"type\":\"scatterternary\"}],\"surface\":[{\"colorbar\":{\"outlinewidth\":0,\"ticks\":\"\"},\"colorscale\":[[0.0,\"#0d0887\"],[0.1111111111111111,\"#46039f\"],[0.2222222222222222,\"#7201a8\"],[0.3333333333333333,\"#9c179e\"],[0.4444444444444444,\"#bd3786\"],[0.5555555555555556,\"#d8576b\"],[0.6666666666666666,\"#ed7953\"],[0.7777777777777778,\"#fb9f3a\"],[0.8888888888888888,\"#fdca26\"],[1.0,\"#f0f921\"]],\"type\":\"surface\"}],\"table\":[{\"cells\":{\"fill\":{\"color\":\"#EBF0F8\"},\"line\":{\"color\":\"white\"}},\"header\":{\"fill\":{\"color\":\"#C8D4E3\"},\"line\":{\"color\":\"white\"}},\"type\":\"table\"}]},\"layout\":{\"annotationdefaults\":{\"arrowcolor\":\"#2a3f5f\",\"arrowhead\":0,\"arrowwidth\":1},\"autotypenumbers\":\"strict\",\"coloraxis\":{\"colorbar\":{\"outlinewidth\":0,\"ticks\":\"\"}},\"colorscale\":{\"diverging\":[[0,\"#8e0152\"],[0.1,\"#c51b7d\"],[0.2,\"#de77ae\"],[0.3,\"#f1b6da\"],[0.4,\"#fde0ef\"],[0.5,\"#f7f7f7\"],[0.6,\"#e6f5d0\"],[0.7,\"#b8e186\"],[0.8,\"#7fbc41\"],[0.9,\"#4d9221\"],[1,\"#276419\"]],\"sequential\":[[0.0,\"#0d0887\"],[0.1111111111111111,\"#46039f\"],[0.2222222222222222,\"#7201a8\"],[0.3333333333333333,\"#9c179e\"],[0.4444444444444444,\"#bd3786\"],[0.5555555555555556,\"#d8576b\"],[0.6666666666666666,\"#ed7953\"],[0.7777777777777778,\"#fb9f3a\"],[0.8888888888888888,\"#fdca26\"],[1.0,\"#f0f921\"]],\"sequentialminus\":[[0.0,\"#0d0887\"],[0.1111111111111111,\"#46039f\"],[0.2222222222222222,\"#7201a8\"],[0.3333333333333333,\"#9c179e\"],[0.4444444444444444,\"#bd3786\"],[0.5555555555555556,\"#d8576b\"],[0.6666666666666666,\"#ed7953\"],[0.7777777777777778,\"#fb9f3a\"],[0.8888888888888888,\"#fdca26\"],[1.0,\"#f0f921\"]]},\"colorway\":[\"#636efa\",\"#EF553B\",\"#00cc96\",\"#ab63fa\",\"#FFA15A\",\"#19d3f3\",\"#FF6692\",\"#B6E880\",\"#FF97FF\",\"#FECB52\"],\"font\":{\"color\":\"#2a3f5f\"},\"geo\":{\"bgcolor\":\"white\",\"lakecolor\":\"white\",\"landcolor\":\"#E5ECF6\",\"showlakes\":true,\"showland\":true,\"subunitcolor\":\"white\"},\"hoverlabel\":{\"align\":\"left\"},\"hovermode\":\"closest\",\"mapbox\":{\"style\":\"light\"},\"paper_bgcolor\":\"white\",\"plot_bgcolor\":\"#E5ECF6\",\"polar\":{\"angularaxis\":{\"gridcolor\":\"white\",\"linecolor\":\"white\",\"ticks\":\"\"},\"bgcolor\":\"#E5ECF6\",\"radialaxis\":{\"gridcolor\":\"white\",\"linecolor\":\"white\",\"ticks\":\"\"}},\"scene\":{\"xaxis\":{\"backgroundcolor\":\"#E5ECF6\",\"gridcolor\":\"white\",\"gridwidth\":2,\"linecolor\":\"white\",\"showbackground\":true,\"ticks\":\"\",\"zerolinecolor\":\"white\"},\"yaxis\":{\"backgroundcolor\":\"#E5ECF6\",\"gridcolor\":\"white\",\"gridwidth\":2,\"linecolor\":\"white\",\"showbackground\":true,\"ticks\":\"\",\"zerolinecolor\":\"white\"},\"zaxis\":{\"backgroundcolor\":\"#E5ECF6\",\"gridcolor\":\"white\",\"gridwidth\":2,\"linecolor\":\"white\",\"showbackground\":true,\"ticks\":\"\",\"zerolinecolor\":\"white\"}},\"shapedefaults\":{\"line\":{\"color\":\"#2a3f5f\"}},\"ternary\":{\"aaxis\":{\"gridcolor\":\"white\",\"linecolor\":\"white\",\"ticks\":\"\"},\"baxis\":{\"gridcolor\":\"white\",\"linecolor\":\"white\",\"ticks\":\"\"},\"bgcolor\":\"#E5ECF6\",\"caxis\":{\"gridcolor\":\"white\",\"linecolor\":\"white\",\"ticks\":\"\"}},\"title\":{\"x\":0.05},\"xaxis\":{\"automargin\":true,\"gridcolor\":\"white\",\"linecolor\":\"white\",\"ticks\":\"\",\"title\":{\"standoff\":15},\"zerolinecolor\":\"white\",\"zerolinewidth\":2},\"yaxis\":{\"automargin\":true,\"gridcolor\":\"white\",\"linecolor\":\"white\",\"ticks\":\"\",\"title\":{\"standoff\":15},\"zerolinecolor\":\"white\",\"zerolinewidth\":2}}},\"title\":{\"text\":\"Permian Region oil production estimates using Kalman filter\"},\"xaxis\":{\"anchor\":\"y\",\"domain\":[0.0,1.0]},\"yaxis\":{\"anchor\":\"x\",\"domain\":[0.0,1.0]},\"images\":[{\"sizex\":0.15,\"sizey\":0.15,\"source\":\"https://upload.wikimedia.org/wikipedia/commons/thumb/4/49/Eia-logomark.svg/640px-Eia-logomark.svg.png\",\"x\":1.06,\"xanchor\":\"center\",\"y\":-0.06,\"yanchor\":\"bottom\"}]},                        {\"responsive\": true}                    ).then(function(){\n",
              "                            \n",
              "var gd = document.getElementById('b78595b4-becc-4cf5-8320-65d62f1e030f');\n",
              "var x = new MutationObserver(function (mutations, observer) {{\n",
              "        var display = window.getComputedStyle(gd).display;\n",
              "        if (!display || display === 'none') {{\n",
              "            console.log([gd, 'removed!']);\n",
              "            Plotly.purge(gd);\n",
              "            observer.disconnect();\n",
              "        }}\n",
              "}});\n",
              "\n",
              "// Listen for the removal of the full notebook cells\n",
              "var notebookContainer = gd.closest('#notebook-container');\n",
              "if (notebookContainer) {{\n",
              "    x.observe(notebookContainer, {childList: true});\n",
              "}}\n",
              "\n",
              "// Listen for the clearing of the current output cell\n",
              "var outputEl = gd.closest('.output');\n",
              "if (outputEl) {{\n",
              "    x.observe(outputEl, {childList: true});\n",
              "}}\n",
              "\n",
              "                        })                };                            </script>        </div>\n",
              "</body>\n",
              "</html>"
            ]
          },
          "metadata": {}
        }
      ]
    },
    {
      "cell_type": "code",
      "source": [
        "fig = go.Figure(px.scatter(title=\"%s monthly changes in rig productivity estimates using Kalman filter\" % (dprR.value)))\n",
        "fig.add_trace(go.Scatter(x=data.Month, y=Xp[:,1], mode='markers',name='PredictPR'))\n",
        "fig.add_trace(go.Scatter(x=data.Month, y=data.RP, mode='markers',name='Reported'))\n",
        "fig.add_trace(go.Scatter(x=data.Month, y=Xu[:,1], mode='lines+markers',name='UpdatePR'))\n",
        "fig.layout.images = eiaLogo\n",
        "fig.show()"
      ],
      "metadata": {
        "colab": {
          "base_uri": "https://localhost:8080/",
          "height": 542
        },
        "id": "bVPBkudhY1rm",
        "outputId": "504bcdbd-f602-49a9-a055-354d2eb3e995"
      },
      "execution_count": 358,
      "outputs": [
        {
          "output_type": "display_data",
          "data": {
            "text/html": [
              "<html>\n",
              "<head><meta charset=\"utf-8\" /></head>\n",
              "<body>\n",
              "    <div>            <script src=\"https://cdnjs.cloudflare.com/ajax/libs/mathjax/2.7.5/MathJax.js?config=TeX-AMS-MML_SVG\"></script><script type=\"text/javascript\">if (window.MathJax && window.MathJax.Hub && window.MathJax.Hub.Config) {window.MathJax.Hub.Config({SVG: {font: \"STIX-Web\"}});}</script>                <script type=\"text/javascript\">window.PlotlyConfig = {MathJaxConfig: 'local'};</script>\n",
              "        <script src=\"https://cdn.plot.ly/plotly-2.18.2.min.js\"></script>                <div id=\"2d846571-fa31-4aa8-9032-e6b001e3d426\" class=\"plotly-graph-div\" style=\"height:525px; width:100%;\"></div>            <script type=\"text/javascript\">                                    window.PLOTLYENV=window.PLOTLYENV || {};                                    if (document.getElementById(\"2d846571-fa31-4aa8-9032-e6b001e3d426\")) {                    Plotly.newPlot(                        \"2d846571-fa31-4aa8-9032-e6b001e3d426\",                        [{\"hovertemplate\":\"<extra></extra>\",\"legendgroup\":\"\",\"marker\":{\"color\":\"#636efa\",\"symbol\":\"circle\"},\"mode\":\"markers\",\"name\":\"\",\"orientation\":\"v\",\"showlegend\":false,\"xaxis\":\"x\",\"yaxis\":\"y\",\"type\":\"scatter\"},{\"mode\":\"markers\",\"name\":\"PredictPR\",\"x\":[\"3/1/2007\",\"4/1/2007\",\"5/1/2007\",\"6/1/2007\",\"7/1/2007\",\"8/1/2007\",\"9/1/2007\",\"10/1/2007\",\"11/1/2007\",\"12/1/2007\",\"1/1/2008\",\"2/1/2008\",\"3/1/2008\",\"4/1/2008\",\"5/1/2008\",\"6/1/2008\",\"7/1/2008\",\"8/1/2008\",\"9/1/2008\",\"10/1/2008\",\"11/1/2008\",\"12/1/2008\",\"1/1/2009\",\"2/1/2009\",\"3/1/2009\",\"4/1/2009\",\"5/1/2009\",\"6/1/2009\",\"7/1/2009\",\"8/1/2009\",\"9/1/2009\",\"10/1/2009\",\"11/1/2009\",\"12/1/2009\",\"1/1/2010\",\"2/1/2010\",\"3/1/2010\",\"4/1/2010\",\"5/1/2010\",\"6/1/2010\",\"7/1/2010\",\"8/1/2010\",\"9/1/2010\",\"10/1/2010\",\"11/1/2010\",\"12/1/2010\",\"1/1/2011\",\"2/1/2011\",\"3/1/2011\",\"4/1/2011\",\"5/1/2011\",\"6/1/2011\",\"7/1/2011\",\"8/1/2011\",\"9/1/2011\",\"10/1/2011\",\"11/1/2011\",\"12/1/2011\",\"1/1/2012\",\"2/1/2012\",\"3/1/2012\",\"4/1/2012\",\"5/1/2012\",\"6/1/2012\",\"7/1/2012\",\"8/1/2012\",\"9/1/2012\",\"10/1/2012\",\"11/1/2012\",\"12/1/2012\",\"1/1/2013\",\"2/1/2013\",\"3/1/2013\",\"4/1/2013\",\"5/1/2013\",\"6/1/2013\",\"7/1/2013\",\"8/1/2013\",\"9/1/2013\",\"10/1/2013\",\"11/1/2013\",\"12/1/2013\",\"1/1/2014\",\"2/1/2014\",\"3/1/2014\",\"4/1/2014\",\"5/1/2014\",\"6/1/2014\",\"7/1/2014\",\"8/1/2014\",\"9/1/2014\",\"10/1/2014\",\"11/1/2014\",\"12/1/2014\",\"1/1/2015\",\"2/1/2015\",\"3/1/2015\",\"4/1/2015\",\"5/1/2015\",\"6/1/2015\",\"7/1/2015\",\"8/1/2015\",\"9/1/2015\",\"10/1/2015\",\"11/1/2015\",\"12/1/2015\",\"1/1/2016\",\"2/1/2016\",\"3/1/2016\",\"4/1/2016\",\"5/1/2016\",\"6/1/2016\",\"7/1/2016\",\"8/1/2016\",\"9/1/2016\",\"10/1/2016\",\"11/1/2016\",\"12/1/2016\",\"1/1/2017\",\"2/1/2017\",\"3/1/2017\",\"4/1/2017\",\"5/1/2017\",\"6/1/2017\",\"7/1/2017\",\"8/1/2017\",\"9/1/2017\",\"10/1/2017\",\"11/1/2017\",\"12/1/2017\",\"1/1/2018\",\"2/1/2018\",\"3/1/2018\",\"4/1/2018\",\"5/1/2018\",\"6/1/2018\",\"7/1/2018\",\"8/1/2018\",\"9/1/2018\",\"10/1/2018\",\"11/1/2018\",\"12/1/2018\",\"1/1/2019\",\"2/1/2019\",\"3/1/2019\",\"4/1/2019\",\"5/1/2019\",\"6/1/2019\",\"7/1/2019\",\"8/1/2019\",\"9/1/2019\",\"10/1/2019\",\"11/1/2019\",\"12/1/2019\",\"1/1/2020\",\"2/1/2020\",\"3/1/2020\",\"4/1/2020\",\"5/1/2020\",\"6/1/2020\",\"7/1/2020\",\"8/1/2020\",\"9/1/2020\",\"10/1/2020\",\"11/1/2020\",\"12/1/2020\",\"1/1/2021\",\"2/1/2021\",\"3/1/2021\",\"4/1/2021\",\"5/1/2021\",\"6/1/2021\",\"7/1/2021\",\"8/1/2021\",\"9/1/2021\",\"10/1/2021\",\"11/1/2021\",\"12/1/2021\",\"1/1/2022\",\"2/1/2022\",\"3/1/2022\",\"4/1/2022\",\"5/1/2022\",\"6/1/2022\",\"7/1/2022\",\"8/1/2022\",\"9/1/2022\",\"10/1/2022\",\"11/1/2022\"],\"y\":[12902.78160747,13213.465206941903,12675.335498553446,12566.904799495383,12531.584969603859,12744.992647715086,12664.18051536993,12853.283499555144,12772.938156817325,12546.632662503356,12425.459544569307,13053.491168866696,12903.647821740993,12940.358284772074,13268.54293341058,13411.426624538775,13502.849706249232,14940.15860370876,14899.699457120303,14559.640526928742,15122.404799399133,14358.740209577838,13066.931876718112,12191.562788497444,10199.022519191805,8453.54708804562,6738.785302323466,4970.593018782914,4862.994332118142,5306.862405472078,6240.054373760885,6815.829660375393,7303.837898248914,8031.640348232483,8931.55248768864,9433.514377226487,10377.46021138468,10092.511707198824,9960.36502037964,11209.985994645924,11968.939714654,12899.161788766414,12938.3981776372,13601.260353414576,14344.054703029688,14686.020038652954,15444.233625152625,16479.77842754229,19161.642739505576,19930.82534089548,19896.541167900396,20845.022914576835,22212.18591373082,22610.1580593637,23091.021560084315,23659.79157099374,24045.326347461392,24849.07950490806,24703.068887479436,24946.834935282677,24711.54384978681,25250.810286982098,25631.739359678224,26284.017510303172,26871.17780473219,27745.37800203673,27212.524761244837,27158.161363846713,26489.074307290735,26218.571179700113,25390.833271307198,24672.255462734316,24527.88006285706,24625.22871017387,25327.88830018354,24919.12671132753,24845.758948988067,25138.832919201588,24711.237887900115,24895.20476511921,24260.003402504262,23711.774789722866,25125.975965300306,25670.841604393354,25552.913305604987,26194.483664720938,27408.360163774112,28617.00807344535,29222.03789692896,29978.403758496912,30260.716065019038,29811.789649094484,30745.7556004585,30665.013388229232,30653.461713105582,28892.049894187378,27648.747539713535,21146.171975816713,17485.30781833913,15423.365511048562,13962.175309507018,13626.30381031829,15106.022274287845,15267.37311260178,14731.279745657386,14134.057496840422,12683.453574769603,13581.539696629541,12452.553844303635,10933.625794285688,9674.925946049525,9450.913393544537,9475.528571542582,10442.968974903519,10861.16019853457,11970.807401403545,12593.934768993813,13048.198477913429,13706.522332021736,15580.770298579308,17125.401001340848,17961.47617104741,18512.28416453991,20641.77998288966,21263.188159841113,21911.097230976084,22146.858154415262,23257.746338874247,23772.935623181565,23423.00652324859,23840.619480069457,24443.727869165123,26130.488847037777,27242.764810728302,26959.265838514897,27232.287062377894,29345.707551005737,29893.24227768616,30769.9513660006,30570.80072066883,30926.804640401162,30796.297980897805,30898.447899136212,29704.494549114217,30382.117782751287,30036.570280664026,29861.864215718335,30354.16843688883,29149.32420251295,29071.44024829584,29740.249833489088,29852.277884216677,28614.37292491708,29221.148318810818,27424.667075813013,27515.166773687026,27282.13874812947,28598.4708041309,24679.75534804152,15869.524083376162,18274.194180350438,11224.7154028679,9856.453168470396,10202.125379593133,13195.204324741955,12355.268454821919,14040.210496342355,15107.70422033207,10007.673567259006,24877.448825120737,16280.852559111845,18255.148207793678,19154.012393495548,19666.334199053676,20167.13671316248,20924.939247658993,20759.5939919347,21731.59105979815,20514.44687120933,20541.221712098493,22172.928836415882,23891.374205844462,23912.1199439872,23681.720737385072,24719.01052797043,24947.31981435107,25362.914216087607,25875.064682761033,24258.06779341879],\"type\":\"scatter\"},{\"mode\":\"markers\",\"name\":\"Reported\",\"x\":[\"3/1/2007\",\"4/1/2007\",\"5/1/2007\",\"6/1/2007\",\"7/1/2007\",\"8/1/2007\",\"9/1/2007\",\"10/1/2007\",\"11/1/2007\",\"12/1/2007\",\"1/1/2008\",\"2/1/2008\",\"3/1/2008\",\"4/1/2008\",\"5/1/2008\",\"6/1/2008\",\"7/1/2008\",\"8/1/2008\",\"9/1/2008\",\"10/1/2008\",\"11/1/2008\",\"12/1/2008\",\"1/1/2009\",\"2/1/2009\",\"3/1/2009\",\"4/1/2009\",\"5/1/2009\",\"6/1/2009\",\"7/1/2009\",\"8/1/2009\",\"9/1/2009\",\"10/1/2009\",\"11/1/2009\",\"12/1/2009\",\"1/1/2010\",\"2/1/2010\",\"3/1/2010\",\"4/1/2010\",\"5/1/2010\",\"6/1/2010\",\"7/1/2010\",\"8/1/2010\",\"9/1/2010\",\"10/1/2010\",\"11/1/2010\",\"12/1/2010\",\"1/1/2011\",\"2/1/2011\",\"3/1/2011\",\"4/1/2011\",\"5/1/2011\",\"6/1/2011\",\"7/1/2011\",\"8/1/2011\",\"9/1/2011\",\"10/1/2011\",\"11/1/2011\",\"12/1/2011\",\"1/1/2012\",\"2/1/2012\",\"3/1/2012\",\"4/1/2012\",\"5/1/2012\",\"6/1/2012\",\"7/1/2012\",\"8/1/2012\",\"9/1/2012\",\"10/1/2012\",\"11/1/2012\",\"12/1/2012\",\"1/1/2013\",\"2/1/2013\",\"3/1/2013\",\"4/1/2013\",\"5/1/2013\",\"6/1/2013\",\"7/1/2013\",\"8/1/2013\",\"9/1/2013\",\"10/1/2013\",\"11/1/2013\",\"12/1/2013\",\"1/1/2014\",\"2/1/2014\",\"3/1/2014\",\"4/1/2014\",\"5/1/2014\",\"6/1/2014\",\"7/1/2014\",\"8/1/2014\",\"9/1/2014\",\"10/1/2014\",\"11/1/2014\",\"12/1/2014\",\"1/1/2015\",\"2/1/2015\",\"3/1/2015\",\"4/1/2015\",\"5/1/2015\",\"6/1/2015\",\"7/1/2015\",\"8/1/2015\",\"9/1/2015\",\"10/1/2015\",\"11/1/2015\",\"12/1/2015\",\"1/1/2016\",\"2/1/2016\",\"3/1/2016\",\"4/1/2016\",\"5/1/2016\",\"6/1/2016\",\"7/1/2016\",\"8/1/2016\",\"9/1/2016\",\"10/1/2016\",\"11/1/2016\",\"12/1/2016\",\"1/1/2017\",\"2/1/2017\",\"3/1/2017\",\"4/1/2017\",\"5/1/2017\",\"6/1/2017\",\"7/1/2017\",\"8/1/2017\",\"9/1/2017\",\"10/1/2017\",\"11/1/2017\",\"12/1/2017\",\"1/1/2018\",\"2/1/2018\",\"3/1/2018\",\"4/1/2018\",\"5/1/2018\",\"6/1/2018\",\"7/1/2018\",\"8/1/2018\",\"9/1/2018\",\"10/1/2018\",\"11/1/2018\",\"12/1/2018\",\"1/1/2019\",\"2/1/2019\",\"3/1/2019\",\"4/1/2019\",\"5/1/2019\",\"6/1/2019\",\"7/1/2019\",\"8/1/2019\",\"9/1/2019\",\"10/1/2019\",\"11/1/2019\",\"12/1/2019\",\"1/1/2020\",\"2/1/2020\",\"3/1/2020\",\"4/1/2020\",\"5/1/2020\",\"6/1/2020\",\"7/1/2020\",\"8/1/2020\",\"9/1/2020\",\"10/1/2020\",\"11/1/2020\",\"12/1/2020\",\"1/1/2021\",\"2/1/2021\",\"3/1/2021\",\"4/1/2021\",\"5/1/2021\",\"6/1/2021\",\"7/1/2021\",\"8/1/2021\",\"9/1/2021\",\"10/1/2021\",\"11/1/2021\",\"12/1/2021\",\"1/1/2022\",\"2/1/2022\",\"3/1/2022\",\"4/1/2022\",\"5/1/2022\",\"6/1/2022\",\"7/1/2022\",\"8/1/2022\",\"9/1/2022\",\"10/1/2022\",\"11/1/2022\"],\"y\":[51.81840003,63.47879534,54.26424612,42.79382716,59.16155582,67.13339503,58.63060109,42.47190427,58.05695007,61.88922954,55.11397849,51.66675753,71.70358855,63.7696,63.77482114,68.38223938,66.24063775,77.66338427,49.50092915,72.90888512,76.99391813,76.16164095,92.37370904,99.54594017,79.85932823,103.1230453,111.0622656,94.55089606,107.7580645,171.7425872,148.0345133,133.6136774,135.7894608,134.4607058,95.97855787,131.6091606,109.2986796,146.8810764,143.9416609,121.607496,149.2934489,115.1436828,130.4728142,122.7462198,123.8504337,115.0397112,128.1754927,78.23660714,83.1968766,123.747032,106.1313967,87.47816961,93.80766318,117.1292563,103.8770928,102.0510693,102.4777535,107.1202843,106.0138832,88.6215608,118.2708447,124.1595288,120.4500863,123.4172,113.4909551,123.0943164,136.169697,119.640436,120.1818363,127.6851587,117.8292455,107.7589286,139.6621612,160.2732334,171.9294013,178.2947894,158.2345978,152.8949545,166.531241,181.1904132,188.9985957,180.5399971,196.6431364,178.7250831,189.9761808,201.9956014,198.8110146,181.9503759,207.2878958,224.6827566,202.5563549,205.202019,253.1980918,242.539558,196.577505,170.0598279,243.2576037,367.8246222,471.8698081,443.0263625,398.8484974,601.3441324,465.4455048,420.1424943,383.224834,464.3320926,452.8432571,457.6453202,618.2456084,516.8389864,792.6810272,788.5944844,996.228632,760.0974416,760.8483539,484.5290668,688.7798995,612.8564046,611.5748329,485.1948696,629.5795933,504.1752222,555.2059313,600.2493571,519.6091881,435.7942887,593.6930295,626.2815094,622.2929825,668.2026924,728.8524277,572.5499821,697.2859058,704.8591049,636.3438651,697.7737351,743.2322581,696.289983,789.4673655,734.7426686,718.494433,721.3816764,625.2967742,568.8304124,756.689724,759.8057544,891.4328598,748.7785714,797.3461184,890.451394,1042.909448,917.0139196,1022.031901,927.7071307,979.9867173,1005.927689,1005.254293,822.3312858,417.2871366,574.0481605,805.4498208,1232.545042,1245.569067,2610.751901,1776.708871,2281.158622,1786.085328,1713.266176,1349.350305,1843.292939,1803.699775,1853.800889,1652.367407,1625.109815,1924.427336,1532.567139,1690.516797,1312.033471,1189.936547,1340.454206,1160.529828,1573.049227,1275.207359,1313.613737,947.5242653,1195.727307,1212.902483,1206.173224,1190.569193],\"type\":\"scatter\"},{\"mode\":\"lines+markers\",\"name\":\"UpdatePR\",\"x\":[\"3/1/2007\",\"4/1/2007\",\"5/1/2007\",\"6/1/2007\",\"7/1/2007\",\"8/1/2007\",\"9/1/2007\",\"10/1/2007\",\"11/1/2007\",\"12/1/2007\",\"1/1/2008\",\"2/1/2008\",\"3/1/2008\",\"4/1/2008\",\"5/1/2008\",\"6/1/2008\",\"7/1/2008\",\"8/1/2008\",\"9/1/2008\",\"10/1/2008\",\"11/1/2008\",\"12/1/2008\",\"1/1/2009\",\"2/1/2009\",\"3/1/2009\",\"4/1/2009\",\"5/1/2009\",\"6/1/2009\",\"7/1/2009\",\"8/1/2009\",\"9/1/2009\",\"10/1/2009\",\"11/1/2009\",\"12/1/2009\",\"1/1/2010\",\"2/1/2010\",\"3/1/2010\",\"4/1/2010\",\"5/1/2010\",\"6/1/2010\",\"7/1/2010\",\"8/1/2010\",\"9/1/2010\",\"10/1/2010\",\"11/1/2010\",\"12/1/2010\",\"1/1/2011\",\"2/1/2011\",\"3/1/2011\",\"4/1/2011\",\"5/1/2011\",\"6/1/2011\",\"7/1/2011\",\"8/1/2011\",\"9/1/2011\",\"10/1/2011\",\"11/1/2011\",\"12/1/2011\",\"1/1/2012\",\"2/1/2012\",\"3/1/2012\",\"4/1/2012\",\"5/1/2012\",\"6/1/2012\",\"7/1/2012\",\"8/1/2012\",\"9/1/2012\",\"10/1/2012\",\"11/1/2012\",\"12/1/2012\",\"1/1/2013\",\"2/1/2013\",\"3/1/2013\",\"4/1/2013\",\"5/1/2013\",\"6/1/2013\",\"7/1/2013\",\"8/1/2013\",\"9/1/2013\",\"10/1/2013\",\"11/1/2013\",\"12/1/2013\",\"1/1/2014\",\"2/1/2014\",\"3/1/2014\",\"4/1/2014\",\"5/1/2014\",\"6/1/2014\",\"7/1/2014\",\"8/1/2014\",\"9/1/2014\",\"10/1/2014\",\"11/1/2014\",\"12/1/2014\",\"1/1/2015\",\"2/1/2015\",\"3/1/2015\",\"4/1/2015\",\"5/1/2015\",\"6/1/2015\",\"7/1/2015\",\"8/1/2015\",\"9/1/2015\",\"10/1/2015\",\"11/1/2015\",\"12/1/2015\",\"1/1/2016\",\"2/1/2016\",\"3/1/2016\",\"4/1/2016\",\"5/1/2016\",\"6/1/2016\",\"7/1/2016\",\"8/1/2016\",\"9/1/2016\",\"10/1/2016\",\"11/1/2016\",\"12/1/2016\",\"1/1/2017\",\"2/1/2017\",\"3/1/2017\",\"4/1/2017\",\"5/1/2017\",\"6/1/2017\",\"7/1/2017\",\"8/1/2017\",\"9/1/2017\",\"10/1/2017\",\"11/1/2017\",\"12/1/2017\",\"1/1/2018\",\"2/1/2018\",\"3/1/2018\",\"4/1/2018\",\"5/1/2018\",\"6/1/2018\",\"7/1/2018\",\"8/1/2018\",\"9/1/2018\",\"10/1/2018\",\"11/1/2018\",\"12/1/2018\",\"1/1/2019\",\"2/1/2019\",\"3/1/2019\",\"4/1/2019\",\"5/1/2019\",\"6/1/2019\",\"7/1/2019\",\"8/1/2019\",\"9/1/2019\",\"10/1/2019\",\"11/1/2019\",\"12/1/2019\",\"1/1/2020\",\"2/1/2020\",\"3/1/2020\",\"4/1/2020\",\"5/1/2020\",\"6/1/2020\",\"7/1/2020\",\"8/1/2020\",\"9/1/2020\",\"10/1/2020\",\"11/1/2020\",\"12/1/2020\",\"1/1/2021\",\"2/1/2021\",\"3/1/2021\",\"4/1/2021\",\"5/1/2021\",\"6/1/2021\",\"7/1/2021\",\"8/1/2021\",\"9/1/2021\",\"10/1/2021\",\"11/1/2021\",\"12/1/2021\",\"1/1/2022\",\"2/1/2022\",\"3/1/2022\",\"4/1/2022\",\"5/1/2022\",\"6/1/2022\",\"7/1/2022\",\"8/1/2022\",\"9/1/2022\",\"10/1/2022\",\"11/1/2022\"],\"y\":[103.40999935190302,135.282691293447,-24.966407794616316,-60.28623768614125,101.30304039508519,20.490908049929203,2.320292115144184,-26.206650592674123,6.579855243357088,-10.95646263069284,-56.56403872330338,0.8662142709927139,-14.241722727925662,-48.785874299421266,-9.538983231224847,-21.75270158076819,171.91459515875977,27.81864851030332,-208.60348162125774,354.16079084913326,56.86180129783861,-43.12333087188745,66.05718147744301,146.25291337180533,58.96628318562034,54.21169845346594,151.48181599291456,95.70152935814167,176.84080250207808,384.57517037088473,338.5296566253937,256.53549416891383,310.698743762483,122.42448258863988,261.65757191648663,376.5090055946803,143.37890143882396,218.5058147396412,379.94038837592416,206.16290784400007,462.74578156641473,294.7085703171997,335.7499457345766,404.90509495968763,332.32323034295405,261.4424163626245,312.43761818229177,-425.7124718344239,1017.1093299454806,101.91235644039625,273.1181026668346,137.54750095081909,224.60924640370285,394.56234694431623,289.69315746374195,364.31753375139306,390.7946907480582,141.1472732594375,333.0949210326762,253.25903562680833,326.15987255209984,447.9969450982244,374.8174953031739,443.79378943219126,540.7179862867306,422.4119457348352,627.1405484867137,528.0558922607343,516.6447648201138,310.7276567871995,421.2442486943146,535.9608489670609,426.03589616387035,869.6034860235377,719.9338973175327,698.3845350080665,887.8217051615866,771.1370740401144,903.2855512292117,889.9049889742637,600.7683763428649,1185.8751514403048,1160.7383902033544,990.9916913849884,1062.559650170937,1032.7945485041128,1049.6192574853521,981.0098805789603,1478.283741996911,1449.6856483390402,1000.7592324144862,1779.2699836885004,1698.527771459234,1376.0656961555833,495.566677747378,2257.731525013536,1714.271964566713,1628.8774091591295,1795.1263031585622,1836.6697024870173,1604.4350033582905,2617.787867057845,2105.499504981779,1724.8613381273863,2008.551889820421,920.6767679596032,2699.675690329541,1985.2370382436347,2072.679389155688,1798.5291414895255,2248.1557893745376,2376.407767432581,2929.3009705535187,2466.5793936745704,2280.766595793544,2282.0731630238133,2373.60807173343,2202.837525361736,2522.533491019307,2823.5225930608503,2415.9561620474087,2448.5801552399116,3178.9791727796637,2815.8377491611136,2945.5628199960847,2818.5949432252637,3722.209527564246,4081.943611781564,3680.19611181859,3735.0802684294576,3820.004657225123,4936.763234767779,4857.215997768304,4262.806625374898,4017.643848937896,5250.151537055735,5279.502263436159,6052.574551690603,5490.695106148833,5794.880625851161,5508.918766257804,5507.431884436213,4572.570534564216,5250.193768201287,5422.830266414025,5973.5818018883365,6414.06762302883,5571.95218886295,6167.707435035838,6888.335420259089,7155.818671076679,6902.463312347081,7561.057106270819,6282.759863573014,6684.169961627027,6451.141936069471,7508.381991920898,3693.30333589152,375.82247440616266,8946.882174950439,4229.231398817899,3379.1531647203965,3828.4621759031334,6769.722721021955,5463.421250831919,6008.3584916923555,6298.576215232071,421.26956170900667,14358.313619030738,5139.896552661845,6596.008201043678,7183.961986565548,7489.010192003676,7782.5391059924805,8177.612840278991,7494.0835842547,7947.896651818151,6368.023663019332,5669.340903488495,7041.956027655882,8242.217396784465,7692.960734597202,6581.648727485073,7256.209717860431,7121.790204031073,7278.2926056176075,7945.898272381033,6484.356583128792,6498.561403237007],\"type\":\"scatter\"}],                        {\"legend\":{\"tracegroupgap\":0},\"template\":{\"data\":{\"barpolar\":[{\"marker\":{\"line\":{\"color\":\"#E5ECF6\",\"width\":0.5},\"pattern\":{\"fillmode\":\"overlay\",\"size\":10,\"solidity\":0.2}},\"type\":\"barpolar\"}],\"bar\":[{\"error_x\":{\"color\":\"#2a3f5f\"},\"error_y\":{\"color\":\"#2a3f5f\"},\"marker\":{\"line\":{\"color\":\"#E5ECF6\",\"width\":0.5},\"pattern\":{\"fillmode\":\"overlay\",\"size\":10,\"solidity\":0.2}},\"type\":\"bar\"}],\"carpet\":[{\"aaxis\":{\"endlinecolor\":\"#2a3f5f\",\"gridcolor\":\"white\",\"linecolor\":\"white\",\"minorgridcolor\":\"white\",\"startlinecolor\":\"#2a3f5f\"},\"baxis\":{\"endlinecolor\":\"#2a3f5f\",\"gridcolor\":\"white\",\"linecolor\":\"white\",\"minorgridcolor\":\"white\",\"startlinecolor\":\"#2a3f5f\"},\"type\":\"carpet\"}],\"choropleth\":[{\"colorbar\":{\"outlinewidth\":0,\"ticks\":\"\"},\"type\":\"choropleth\"}],\"contourcarpet\":[{\"colorbar\":{\"outlinewidth\":0,\"ticks\":\"\"},\"type\":\"contourcarpet\"}],\"contour\":[{\"colorbar\":{\"outlinewidth\":0,\"ticks\":\"\"},\"colorscale\":[[0.0,\"#0d0887\"],[0.1111111111111111,\"#46039f\"],[0.2222222222222222,\"#7201a8\"],[0.3333333333333333,\"#9c179e\"],[0.4444444444444444,\"#bd3786\"],[0.5555555555555556,\"#d8576b\"],[0.6666666666666666,\"#ed7953\"],[0.7777777777777778,\"#fb9f3a\"],[0.8888888888888888,\"#fdca26\"],[1.0,\"#f0f921\"]],\"type\":\"contour\"}],\"heatmapgl\":[{\"colorbar\":{\"outlinewidth\":0,\"ticks\":\"\"},\"colorscale\":[[0.0,\"#0d0887\"],[0.1111111111111111,\"#46039f\"],[0.2222222222222222,\"#7201a8\"],[0.3333333333333333,\"#9c179e\"],[0.4444444444444444,\"#bd3786\"],[0.5555555555555556,\"#d8576b\"],[0.6666666666666666,\"#ed7953\"],[0.7777777777777778,\"#fb9f3a\"],[0.8888888888888888,\"#fdca26\"],[1.0,\"#f0f921\"]],\"type\":\"heatmapgl\"}],\"heatmap\":[{\"colorbar\":{\"outlinewidth\":0,\"ticks\":\"\"},\"colorscale\":[[0.0,\"#0d0887\"],[0.1111111111111111,\"#46039f\"],[0.2222222222222222,\"#7201a8\"],[0.3333333333333333,\"#9c179e\"],[0.4444444444444444,\"#bd3786\"],[0.5555555555555556,\"#d8576b\"],[0.6666666666666666,\"#ed7953\"],[0.7777777777777778,\"#fb9f3a\"],[0.8888888888888888,\"#fdca26\"],[1.0,\"#f0f921\"]],\"type\":\"heatmap\"}],\"histogram2dcontour\":[{\"colorbar\":{\"outlinewidth\":0,\"ticks\":\"\"},\"colorscale\":[[0.0,\"#0d0887\"],[0.1111111111111111,\"#46039f\"],[0.2222222222222222,\"#7201a8\"],[0.3333333333333333,\"#9c179e\"],[0.4444444444444444,\"#bd3786\"],[0.5555555555555556,\"#d8576b\"],[0.6666666666666666,\"#ed7953\"],[0.7777777777777778,\"#fb9f3a\"],[0.8888888888888888,\"#fdca26\"],[1.0,\"#f0f921\"]],\"type\":\"histogram2dcontour\"}],\"histogram2d\":[{\"colorbar\":{\"outlinewidth\":0,\"ticks\":\"\"},\"colorscale\":[[0.0,\"#0d0887\"],[0.1111111111111111,\"#46039f\"],[0.2222222222222222,\"#7201a8\"],[0.3333333333333333,\"#9c179e\"],[0.4444444444444444,\"#bd3786\"],[0.5555555555555556,\"#d8576b\"],[0.6666666666666666,\"#ed7953\"],[0.7777777777777778,\"#fb9f3a\"],[0.8888888888888888,\"#fdca26\"],[1.0,\"#f0f921\"]],\"type\":\"histogram2d\"}],\"histogram\":[{\"marker\":{\"pattern\":{\"fillmode\":\"overlay\",\"size\":10,\"solidity\":0.2}},\"type\":\"histogram\"}],\"mesh3d\":[{\"colorbar\":{\"outlinewidth\":0,\"ticks\":\"\"},\"type\":\"mesh3d\"}],\"parcoords\":[{\"line\":{\"colorbar\":{\"outlinewidth\":0,\"ticks\":\"\"}},\"type\":\"parcoords\"}],\"pie\":[{\"automargin\":true,\"type\":\"pie\"}],\"scatter3d\":[{\"line\":{\"colorbar\":{\"outlinewidth\":0,\"ticks\":\"\"}},\"marker\":{\"colorbar\":{\"outlinewidth\":0,\"ticks\":\"\"}},\"type\":\"scatter3d\"}],\"scattercarpet\":[{\"marker\":{\"colorbar\":{\"outlinewidth\":0,\"ticks\":\"\"}},\"type\":\"scattercarpet\"}],\"scattergeo\":[{\"marker\":{\"colorbar\":{\"outlinewidth\":0,\"ticks\":\"\"}},\"type\":\"scattergeo\"}],\"scattergl\":[{\"marker\":{\"colorbar\":{\"outlinewidth\":0,\"ticks\":\"\"}},\"type\":\"scattergl\"}],\"scattermapbox\":[{\"marker\":{\"colorbar\":{\"outlinewidth\":0,\"ticks\":\"\"}},\"type\":\"scattermapbox\"}],\"scatterpolargl\":[{\"marker\":{\"colorbar\":{\"outlinewidth\":0,\"ticks\":\"\"}},\"type\":\"scatterpolargl\"}],\"scatterpolar\":[{\"marker\":{\"colorbar\":{\"outlinewidth\":0,\"ticks\":\"\"}},\"type\":\"scatterpolar\"}],\"scatter\":[{\"fillpattern\":{\"fillmode\":\"overlay\",\"size\":10,\"solidity\":0.2},\"type\":\"scatter\"}],\"scatterternary\":[{\"marker\":{\"colorbar\":{\"outlinewidth\":0,\"ticks\":\"\"}},\"type\":\"scatterternary\"}],\"surface\":[{\"colorbar\":{\"outlinewidth\":0,\"ticks\":\"\"},\"colorscale\":[[0.0,\"#0d0887\"],[0.1111111111111111,\"#46039f\"],[0.2222222222222222,\"#7201a8\"],[0.3333333333333333,\"#9c179e\"],[0.4444444444444444,\"#bd3786\"],[0.5555555555555556,\"#d8576b\"],[0.6666666666666666,\"#ed7953\"],[0.7777777777777778,\"#fb9f3a\"],[0.8888888888888888,\"#fdca26\"],[1.0,\"#f0f921\"]],\"type\":\"surface\"}],\"table\":[{\"cells\":{\"fill\":{\"color\":\"#EBF0F8\"},\"line\":{\"color\":\"white\"}},\"header\":{\"fill\":{\"color\":\"#C8D4E3\"},\"line\":{\"color\":\"white\"}},\"type\":\"table\"}]},\"layout\":{\"annotationdefaults\":{\"arrowcolor\":\"#2a3f5f\",\"arrowhead\":0,\"arrowwidth\":1},\"autotypenumbers\":\"strict\",\"coloraxis\":{\"colorbar\":{\"outlinewidth\":0,\"ticks\":\"\"}},\"colorscale\":{\"diverging\":[[0,\"#8e0152\"],[0.1,\"#c51b7d\"],[0.2,\"#de77ae\"],[0.3,\"#f1b6da\"],[0.4,\"#fde0ef\"],[0.5,\"#f7f7f7\"],[0.6,\"#e6f5d0\"],[0.7,\"#b8e186\"],[0.8,\"#7fbc41\"],[0.9,\"#4d9221\"],[1,\"#276419\"]],\"sequential\":[[0.0,\"#0d0887\"],[0.1111111111111111,\"#46039f\"],[0.2222222222222222,\"#7201a8\"],[0.3333333333333333,\"#9c179e\"],[0.4444444444444444,\"#bd3786\"],[0.5555555555555556,\"#d8576b\"],[0.6666666666666666,\"#ed7953\"],[0.7777777777777778,\"#fb9f3a\"],[0.8888888888888888,\"#fdca26\"],[1.0,\"#f0f921\"]],\"sequentialminus\":[[0.0,\"#0d0887\"],[0.1111111111111111,\"#46039f\"],[0.2222222222222222,\"#7201a8\"],[0.3333333333333333,\"#9c179e\"],[0.4444444444444444,\"#bd3786\"],[0.5555555555555556,\"#d8576b\"],[0.6666666666666666,\"#ed7953\"],[0.7777777777777778,\"#fb9f3a\"],[0.8888888888888888,\"#fdca26\"],[1.0,\"#f0f921\"]]},\"colorway\":[\"#636efa\",\"#EF553B\",\"#00cc96\",\"#ab63fa\",\"#FFA15A\",\"#19d3f3\",\"#FF6692\",\"#B6E880\",\"#FF97FF\",\"#FECB52\"],\"font\":{\"color\":\"#2a3f5f\"},\"geo\":{\"bgcolor\":\"white\",\"lakecolor\":\"white\",\"landcolor\":\"#E5ECF6\",\"showlakes\":true,\"showland\":true,\"subunitcolor\":\"white\"},\"hoverlabel\":{\"align\":\"left\"},\"hovermode\":\"closest\",\"mapbox\":{\"style\":\"light\"},\"paper_bgcolor\":\"white\",\"plot_bgcolor\":\"#E5ECF6\",\"polar\":{\"angularaxis\":{\"gridcolor\":\"white\",\"linecolor\":\"white\",\"ticks\":\"\"},\"bgcolor\":\"#E5ECF6\",\"radialaxis\":{\"gridcolor\":\"white\",\"linecolor\":\"white\",\"ticks\":\"\"}},\"scene\":{\"xaxis\":{\"backgroundcolor\":\"#E5ECF6\",\"gridcolor\":\"white\",\"gridwidth\":2,\"linecolor\":\"white\",\"showbackground\":true,\"ticks\":\"\",\"zerolinecolor\":\"white\"},\"yaxis\":{\"backgroundcolor\":\"#E5ECF6\",\"gridcolor\":\"white\",\"gridwidth\":2,\"linecolor\":\"white\",\"showbackground\":true,\"ticks\":\"\",\"zerolinecolor\":\"white\"},\"zaxis\":{\"backgroundcolor\":\"#E5ECF6\",\"gridcolor\":\"white\",\"gridwidth\":2,\"linecolor\":\"white\",\"showbackground\":true,\"ticks\":\"\",\"zerolinecolor\":\"white\"}},\"shapedefaults\":{\"line\":{\"color\":\"#2a3f5f\"}},\"ternary\":{\"aaxis\":{\"gridcolor\":\"white\",\"linecolor\":\"white\",\"ticks\":\"\"},\"baxis\":{\"gridcolor\":\"white\",\"linecolor\":\"white\",\"ticks\":\"\"},\"bgcolor\":\"#E5ECF6\",\"caxis\":{\"gridcolor\":\"white\",\"linecolor\":\"white\",\"ticks\":\"\"}},\"title\":{\"x\":0.05},\"xaxis\":{\"automargin\":true,\"gridcolor\":\"white\",\"linecolor\":\"white\",\"ticks\":\"\",\"title\":{\"standoff\":15},\"zerolinecolor\":\"white\",\"zerolinewidth\":2},\"yaxis\":{\"automargin\":true,\"gridcolor\":\"white\",\"linecolor\":\"white\",\"ticks\":\"\",\"title\":{\"standoff\":15},\"zerolinecolor\":\"white\",\"zerolinewidth\":2}}},\"title\":{\"text\":\"Permian Region monthly changes in rig productivity estimates using Kalman filter\"},\"xaxis\":{\"anchor\":\"y\",\"domain\":[0.0,1.0]},\"yaxis\":{\"anchor\":\"x\",\"domain\":[0.0,1.0]},\"images\":[{\"sizex\":0.15,\"sizey\":0.15,\"source\":\"https://upload.wikimedia.org/wikipedia/commons/thumb/4/49/Eia-logomark.svg/640px-Eia-logomark.svg.png\",\"x\":1.06,\"xanchor\":\"center\",\"y\":-0.06,\"yanchor\":\"bottom\"}]},                        {\"responsive\": true}                    ).then(function(){\n",
              "                            \n",
              "var gd = document.getElementById('2d846571-fa31-4aa8-9032-e6b001e3d426');\n",
              "var x = new MutationObserver(function (mutations, observer) {{\n",
              "        var display = window.getComputedStyle(gd).display;\n",
              "        if (!display || display === 'none') {{\n",
              "            console.log([gd, 'removed!']);\n",
              "            Plotly.purge(gd);\n",
              "            observer.disconnect();\n",
              "        }}\n",
              "}});\n",
              "\n",
              "// Listen for the removal of the full notebook cells\n",
              "var notebookContainer = gd.closest('#notebook-container');\n",
              "if (notebookContainer) {{\n",
              "    x.observe(notebookContainer, {childList: true});\n",
              "}}\n",
              "\n",
              "// Listen for the clearing of the current output cell\n",
              "var outputEl = gd.closest('.output');\n",
              "if (outputEl) {{\n",
              "    x.observe(outputEl, {childList: true});\n",
              "}}\n",
              "\n",
              "                        })                };                            </script>        </div>\n",
              "</body>\n",
              "</html>"
            ]
          },
          "metadata": {}
        }
      ]
    },
    {
      "cell_type": "code",
      "source": [
        "fig = go.Figure(px.scatter(title=\"%s monthly changes in legacy declines estimates using Kalman filter\" % (dprR.value)))\n",
        "fig.add_trace(go.Scatter(x=data.Month, y=Xp[:,2], mode='markers',name='PredictPR'))\n",
        "fig.add_trace(go.Scatter(x=data.Month, y=data.LD, mode='markers',name='Reported'))\n",
        "fig.add_trace(go.Scatter(x=data.Month, y=Xu[:,2], mode='lines+markers',name='UpdatePR'))\n",
        "fig.layout.images = eiaLogo\n",
        "fig.show()"
      ],
      "metadata": {
        "id": "LWu0aUUrfbpn",
        "outputId": "0f91eec1-decc-4714-d13b-d9eaf1c125af",
        "colab": {
          "base_uri": "https://localhost:8080/",
          "height": 542
        }
      },
      "execution_count": 321,
      "outputs": [
        {
          "output_type": "display_data",
          "data": {
            "text/html": [
              "<html>\n",
              "<head><meta charset=\"utf-8\" /></head>\n",
              "<body>\n",
              "    <div>            <script src=\"https://cdnjs.cloudflare.com/ajax/libs/mathjax/2.7.5/MathJax.js?config=TeX-AMS-MML_SVG\"></script><script type=\"text/javascript\">if (window.MathJax && window.MathJax.Hub && window.MathJax.Hub.Config) {window.MathJax.Hub.Config({SVG: {font: \"STIX-Web\"}});}</script>                <script type=\"text/javascript\">window.PlotlyConfig = {MathJaxConfig: 'local'};</script>\n",
              "        <script src=\"https://cdn.plot.ly/plotly-2.18.2.min.js\"></script>                <div id=\"e918f010-572b-40f7-af8f-e0da1e4363de\" class=\"plotly-graph-div\" style=\"height:525px; width:100%;\"></div>            <script type=\"text/javascript\">                                    window.PLOTLYENV=window.PLOTLYENV || {};                                    if (document.getElementById(\"e918f010-572b-40f7-af8f-e0da1e4363de\")) {                    Plotly.newPlot(                        \"e918f010-572b-40f7-af8f-e0da1e4363de\",                        [{\"hovertemplate\":\"<extra></extra>\",\"legendgroup\":\"\",\"marker\":{\"color\":\"#636efa\",\"symbol\":\"circle\"},\"mode\":\"markers\",\"name\":\"\",\"orientation\":\"v\",\"showlegend\":false,\"xaxis\":\"x\",\"yaxis\":\"y\",\"type\":\"scatter\"},{\"mode\":\"markers\",\"name\":\"PredictPR\",\"x\":[\"3/1/2007\",\"4/1/2007\",\"5/1/2007\",\"6/1/2007\",\"7/1/2007\",\"8/1/2007\",\"9/1/2007\",\"10/1/2007\",\"11/1/2007\",\"12/1/2007\",\"1/1/2008\",\"2/1/2008\",\"3/1/2008\",\"4/1/2008\",\"5/1/2008\",\"6/1/2008\",\"7/1/2008\",\"8/1/2008\",\"9/1/2008\",\"10/1/2008\",\"11/1/2008\",\"12/1/2008\",\"1/1/2009\",\"2/1/2009\",\"3/1/2009\",\"4/1/2009\",\"5/1/2009\",\"6/1/2009\",\"7/1/2009\",\"8/1/2009\",\"9/1/2009\",\"10/1/2009\",\"11/1/2009\",\"12/1/2009\",\"1/1/2010\",\"2/1/2010\",\"3/1/2010\",\"4/1/2010\",\"5/1/2010\",\"6/1/2010\",\"7/1/2010\",\"8/1/2010\",\"9/1/2010\",\"10/1/2010\",\"11/1/2010\",\"12/1/2010\",\"1/1/2011\",\"2/1/2011\",\"3/1/2011\",\"4/1/2011\",\"5/1/2011\",\"6/1/2011\",\"7/1/2011\",\"8/1/2011\",\"9/1/2011\",\"10/1/2011\",\"11/1/2011\",\"12/1/2011\",\"1/1/2012\",\"2/1/2012\",\"3/1/2012\",\"4/1/2012\",\"5/1/2012\",\"6/1/2012\",\"7/1/2012\",\"8/1/2012\",\"9/1/2012\",\"10/1/2012\",\"11/1/2012\",\"12/1/2012\",\"1/1/2013\",\"2/1/2013\",\"3/1/2013\",\"4/1/2013\",\"5/1/2013\",\"6/1/2013\",\"7/1/2013\",\"8/1/2013\",\"9/1/2013\",\"10/1/2013\",\"11/1/2013\",\"12/1/2013\",\"1/1/2014\",\"2/1/2014\",\"3/1/2014\",\"4/1/2014\",\"5/1/2014\",\"6/1/2014\",\"7/1/2014\",\"8/1/2014\",\"9/1/2014\",\"10/1/2014\",\"11/1/2014\",\"12/1/2014\",\"1/1/2015\",\"2/1/2015\",\"3/1/2015\",\"4/1/2015\",\"5/1/2015\",\"6/1/2015\",\"7/1/2015\",\"8/1/2015\",\"9/1/2015\",\"10/1/2015\",\"11/1/2015\",\"12/1/2015\",\"1/1/2016\",\"2/1/2016\",\"3/1/2016\",\"4/1/2016\",\"5/1/2016\",\"6/1/2016\",\"7/1/2016\",\"8/1/2016\",\"9/1/2016\",\"10/1/2016\",\"11/1/2016\",\"12/1/2016\",\"1/1/2017\",\"2/1/2017\",\"3/1/2017\",\"4/1/2017\",\"5/1/2017\",\"6/1/2017\",\"7/1/2017\",\"8/1/2017\",\"9/1/2017\",\"10/1/2017\",\"11/1/2017\",\"12/1/2017\",\"1/1/2018\",\"2/1/2018\",\"3/1/2018\",\"4/1/2018\",\"5/1/2018\",\"6/1/2018\",\"7/1/2018\",\"8/1/2018\",\"9/1/2018\",\"10/1/2018\",\"11/1/2018\",\"12/1/2018\",\"1/1/2019\",\"2/1/2019\",\"3/1/2019\",\"4/1/2019\",\"5/1/2019\",\"6/1/2019\",\"7/1/2019\",\"8/1/2019\",\"9/1/2019\",\"10/1/2019\",\"11/1/2019\",\"12/1/2019\",\"1/1/2020\",\"2/1/2020\",\"3/1/2020\",\"4/1/2020\",\"5/1/2020\",\"6/1/2020\",\"7/1/2020\",\"8/1/2020\",\"9/1/2020\",\"10/1/2020\",\"11/1/2020\",\"12/1/2020\",\"1/1/2021\",\"2/1/2021\",\"3/1/2021\",\"4/1/2021\",\"5/1/2021\",\"6/1/2021\",\"7/1/2021\",\"8/1/2021\",\"9/1/2021\",\"10/1/2021\",\"11/1/2021\",\"12/1/2021\",\"1/1/2022\",\"2/1/2022\",\"3/1/2022\",\"4/1/2022\",\"5/1/2022\",\"6/1/2022\",\"7/1/2022\",\"8/1/2022\",\"9/1/2022\",\"10/1/2022\",\"11/1/2022\"],\"y\":[-5382.88587256,11708.448315201138,29087.691751318573,42920.920327312386,52091.78332329794,52494.484974573075,51100.01645534937,49893.60298449165,48511.35614841029,46058.30580988519,44479.69987117516,45659.42600363316,45742.95271777098,46277.15552911835,49055.87320655778,51543.14180826288,54173.422998326845,51899.3192249946,51952.90568412175,59125.842459062085,52287.95501935737,46884.61393111329,46474.67501041946,46152.78305457363,43004.9644565706,39585.20781693461,37059.11884462254,32662.620151136332,29695.967137656797,27190.81547503808,22580.011373556328,19152.580981234576,18908.350082207773,19009.624896456582,25683.530445861048,29269.54435655407,27592.28421620553,29835.878449326137,33557.13120415266,34709.29070907942,39408.69096559915,39697.50459449294,40904.87135299174,41867.90559330444,40833.83494282256,40841.304502950894,43808.602431924926,47920.31210096755,75289.73715965067,65255.84779617052,62158.49173561635,63923.20663626818,70356.5122979768,75153.4245965924,74790.81088449247,75777.90012737487,74887.04122535828,72240.67747040035,77108.72601487604,80319.45101783778,81910.77357317574,82358.11964235581,81778.33885429968,84300.60409099447,87440.18019343432,87273.17781272443,88425.38357497856,85982.04966520151,83616.57429245525,80842.57527493863,84812.64956508492,88059.12323674065,84424.64152590623,83286.25046194278,75659.58629556175,72490.89273795442,76238.78193159252,76877.46939474862,76440.46136055129,72303.33710918123,68609.21931091275,76977.9795863023,74811.08792534976,68044.41358795355,65122.09964460491,63190.459239103155,66039.99240307651,73348.12069463696,83627.18869738575,80717.1618547467,75514.98722011174,84849.03210066108,76998.84431099713,66341.67016933727,71130.66526998975,107006.42181846929,91440.05043522577,57296.894440783195,34111.56139690956,28481.46973577221,32505.589383637776,41846.12835369824,31891.323567604708,26611.050729218376,31517.4175915143,27100.065618355362,52498.58106820915,39519.92245300503,21649.055244005252,10971.814810399757,10622.75696925451,10440.362488564959,10210.779974991545,3157.015990062415,2039.4016774846295,9945.383069103838,9774.802939030007,7115.937875155392,13174.929549112054,15488.125636724357,989.1060320568104,353.0330879883131,10077.453763661797,3283.8021650674455,8007.692634720188,17696.37168201943,23629.636772059504,7572.25126468415,-17708.7386856317,-27259.936860777372,-20570.45100911611,3038.3367403882075,-7864.875844448841,-33517.70700268813,-31314.346678831498,-4558.740128478134,-1478.3892473262968,-2944.588721357173,-25537.10679770436,-31621.4349875342,-29806.507204088943,-19553.831752463266,-5526.528809278068,28430.455849129707,34957.70419487942,28940.933945584384,15554.61396373907,760.073787021629,11319.819103192629,12309.234735359762,-7265.6456995573935,-23599.022585457133,-25941.576802601896,-40138.75747447926,-25645.012976073824,-9839.068063919723,13376.889844198233,7524.287017390388,87940.66543493704,266624.603592489,179354.34038003848,73070.08598095478,28291.31354410348,11290.008308246735,-19688.41124550367,-28064.805831225334,-21784.283180798433,-21804.95852806359,156618.11507878473,-21789.14950270994,-106540.07002680528,-112759.19194189963,-89037.29378600288,-67319.73794555476,-65781.33211168772,-66909.12369904747,-55779.03045723226,-50822.37397229748,-16709.759953625704,32956.97201029968,49148.05115618704,205.63967426609634,-37400.19216190766,-18799.822323034747,6932.538358229687,10806.151745700992,-4293.49490400908,-33768.3987816672,-31034.713095695362],\"type\":\"scatter\"},{\"mode\":\"markers\",\"name\":\"Reported\",\"x\":[\"3/1/2007\",\"4/1/2007\",\"5/1/2007\",\"6/1/2007\",\"7/1/2007\",\"8/1/2007\",\"9/1/2007\",\"10/1/2007\",\"11/1/2007\",\"12/1/2007\",\"1/1/2008\",\"2/1/2008\",\"3/1/2008\",\"4/1/2008\",\"5/1/2008\",\"6/1/2008\",\"7/1/2008\",\"8/1/2008\",\"9/1/2008\",\"10/1/2008\",\"11/1/2008\",\"12/1/2008\",\"1/1/2009\",\"2/1/2009\",\"3/1/2009\",\"4/1/2009\",\"5/1/2009\",\"6/1/2009\",\"7/1/2009\",\"8/1/2009\",\"9/1/2009\",\"10/1/2009\",\"11/1/2009\",\"12/1/2009\",\"1/1/2010\",\"2/1/2010\",\"3/1/2010\",\"4/1/2010\",\"5/1/2010\",\"6/1/2010\",\"7/1/2010\",\"8/1/2010\",\"9/1/2010\",\"10/1/2010\",\"11/1/2010\",\"12/1/2010\",\"1/1/2011\",\"2/1/2011\",\"3/1/2011\",\"4/1/2011\",\"5/1/2011\",\"6/1/2011\",\"7/1/2011\",\"8/1/2011\",\"9/1/2011\",\"10/1/2011\",\"11/1/2011\",\"12/1/2011\",\"1/1/2012\",\"2/1/2012\",\"3/1/2012\",\"4/1/2012\",\"5/1/2012\",\"6/1/2012\",\"7/1/2012\",\"8/1/2012\",\"9/1/2012\",\"10/1/2012\",\"11/1/2012\",\"12/1/2012\",\"1/1/2013\",\"2/1/2013\",\"3/1/2013\",\"4/1/2013\",\"5/1/2013\",\"6/1/2013\",\"7/1/2013\",\"8/1/2013\",\"9/1/2013\",\"10/1/2013\",\"11/1/2013\",\"12/1/2013\",\"1/1/2014\",\"2/1/2014\",\"3/1/2014\",\"4/1/2014\",\"5/1/2014\",\"6/1/2014\",\"7/1/2014\",\"8/1/2014\",\"9/1/2014\",\"10/1/2014\",\"11/1/2014\",\"12/1/2014\",\"1/1/2015\",\"2/1/2015\",\"3/1/2015\",\"4/1/2015\",\"5/1/2015\",\"6/1/2015\",\"7/1/2015\",\"8/1/2015\",\"9/1/2015\",\"10/1/2015\",\"11/1/2015\",\"12/1/2015\",\"1/1/2016\",\"2/1/2016\",\"3/1/2016\",\"4/1/2016\",\"5/1/2016\",\"6/1/2016\",\"7/1/2016\",\"8/1/2016\",\"9/1/2016\",\"10/1/2016\",\"11/1/2016\",\"12/1/2016\",\"1/1/2017\",\"2/1/2017\",\"3/1/2017\",\"4/1/2017\",\"5/1/2017\",\"6/1/2017\",\"7/1/2017\",\"8/1/2017\",\"9/1/2017\",\"10/1/2017\",\"11/1/2017\",\"12/1/2017\",\"1/1/2018\",\"2/1/2018\",\"3/1/2018\",\"4/1/2018\",\"5/1/2018\",\"6/1/2018\",\"7/1/2018\",\"8/1/2018\",\"9/1/2018\",\"10/1/2018\",\"11/1/2018\",\"12/1/2018\",\"1/1/2019\",\"2/1/2019\",\"3/1/2019\",\"4/1/2019\",\"5/1/2019\",\"6/1/2019\",\"7/1/2019\",\"8/1/2019\",\"9/1/2019\",\"10/1/2019\",\"11/1/2019\",\"12/1/2019\",\"1/1/2020\",\"2/1/2020\",\"3/1/2020\",\"4/1/2020\",\"5/1/2020\",\"6/1/2020\",\"7/1/2020\",\"8/1/2020\",\"9/1/2020\",\"10/1/2020\",\"11/1/2020\",\"12/1/2020\",\"1/1/2021\",\"2/1/2021\",\"3/1/2021\",\"4/1/2021\",\"5/1/2021\",\"6/1/2021\",\"7/1/2021\",\"8/1/2021\",\"9/1/2021\",\"10/1/2021\",\"11/1/2021\",\"12/1/2021\",\"1/1/2022\",\"2/1/2022\",\"3/1/2022\",\"4/1/2022\",\"5/1/2022\",\"6/1/2022\",\"7/1/2022\",\"8/1/2022\",\"9/1/2022\",\"10/1/2022\",\"11/1/2022\"],\"y\":[-18233.84908,-14812.97849,-22817.71505,-19858.96667,-5920.675269,-15305.6129,-12918.61828,-5640.958064,-6862.507527,-10092.36559,-12998.12903,-4868.697442,-16673.9277,-20452.14516,-19098.77097,-25201.32473,-349.772043,-20490.3871,-36425.84516,16722.75591,-8832.388172,-22764.91075,-23850.67742,-20716.19931,-19933.51843,-30916.81505,-23714.73118,-22782.86774,-17290.33333,-9746.129032,-7174.962366,-11659.96989,-6534.806452,-31763.17312,-7016.451613,-2614.063364,-20458.01613,-34038.0957,-18167.23226,-32015.0,-20101.25699,-21705.06452,-24393.44194,-12095.50538,-19259.82688,-23886.29462,-30375.32258,-101244.8641,57981.30069,-48157.44624,-29392.96237,-33338.89785,-31496.90323,-31402.80645,-33277.22688,-22884.6172,-15383.21505,-50831.4086,-35365.67742,-26967.72859,-44604.7386,-42239.71505,-51653.27634,-53137.76559,-32915.3828,-55276.54839,-46693.93871,-39932.05269,-36822.0172,-70286.98602,-55497.41935,-26920.14055,-63903.10253,-36728.5043,-66349.93441,-85724.10968,-52189.0086,-55497.77419,-47521.57849,-60996.82258,-110213.272,-43386.25591,-52429.09677,-54865.51267,-55192.45161,-75461.35806,-86177.05699,-91548.9828,-64009.03656,-83436.25806,-124845.2247,-40118.04409,-87017.57849,-126604.8323,-214239.5806,20511.03111,-43986.62327,-110735.943,-151630.3871,-127013.0075,-117799.8935,-99882.45161,-91298.94194,-117149.8441,-57091.21613,-222252.8946,-24054.70968,-56999.15462,-111331.3304,-81901.90323,-120562.5957,-98997.82043,-106167.071,-88527.54839,-132500.3323,-40890.93978,-114820.4624,-121850.5118,-106718.2903,-16567.38249,-153700.1763,-124742.3129,-79191.73763,-180024.3677,-152077.0204,-111636.871,-116789.4226,-98360.56129,-145801.7344,-198220.6634,-286233.9032,-56346.6106,-126169.121,-241539.6312,-262566.5022,-202630.7774,-265212.7591,-146873.4516,-291819.5978,-245207.4968,-271143.1215,-291394.5817,-330836.4839,-189548.0023,-324601.6509,-275359.5247,-335352.7247,-330810.4237,-299744.5989,-269349.129,-374594.172,-318271.7333,-292245.5301,-362502.4817,-361406.0968,-420146.5161,-306487.0601,-637287.4968,-829205.4978,185818.6742,-83301.9129,-225312.5161,-165432.686,-270302.5118,-181288.272,-326464.1441,-221460.7419,-1041546.189,675232.3583,-352137.2957,-323106.5581,-380455.8602,-304894.8882,-260608.1613,-386494.328,-308378.3538,-367193.529,-384936.4484,-428908.1935,-404890.4101,-125527.1728,-411623.9892,-438499.071,-463679.7323,-234947.5753,-343778.9677,-282443.028,-314402.6643,-377634.8416],\"type\":\"scatter\"},{\"mode\":\"lines+markers\",\"name\":\"UpdatePR\",\"x\":[\"3/1/2007\",\"4/1/2007\",\"5/1/2007\",\"6/1/2007\",\"7/1/2007\",\"8/1/2007\",\"9/1/2007\",\"10/1/2007\",\"11/1/2007\",\"12/1/2007\",\"1/1/2008\",\"2/1/2008\",\"3/1/2008\",\"4/1/2008\",\"5/1/2008\",\"6/1/2008\",\"7/1/2008\",\"8/1/2008\",\"9/1/2008\",\"10/1/2008\",\"11/1/2008\",\"12/1/2008\",\"1/1/2009\",\"2/1/2009\",\"3/1/2009\",\"4/1/2009\",\"5/1/2009\",\"6/1/2009\",\"7/1/2009\",\"8/1/2009\",\"9/1/2009\",\"10/1/2009\",\"11/1/2009\",\"12/1/2009\",\"1/1/2010\",\"2/1/2010\",\"3/1/2010\",\"4/1/2010\",\"5/1/2010\",\"6/1/2010\",\"7/1/2010\",\"8/1/2010\",\"9/1/2010\",\"10/1/2010\",\"11/1/2010\",\"12/1/2010\",\"1/1/2011\",\"2/1/2011\",\"3/1/2011\",\"4/1/2011\",\"5/1/2011\",\"6/1/2011\",\"7/1/2011\",\"8/1/2011\",\"9/1/2011\",\"10/1/2011\",\"11/1/2011\",\"12/1/2011\",\"1/1/2012\",\"2/1/2012\",\"3/1/2012\",\"4/1/2012\",\"5/1/2012\",\"6/1/2012\",\"7/1/2012\",\"8/1/2012\",\"9/1/2012\",\"10/1/2012\",\"11/1/2012\",\"12/1/2012\",\"1/1/2013\",\"2/1/2013\",\"3/1/2013\",\"4/1/2013\",\"5/1/2013\",\"6/1/2013\",\"7/1/2013\",\"8/1/2013\",\"9/1/2013\",\"10/1/2013\",\"11/1/2013\",\"12/1/2013\",\"1/1/2014\",\"2/1/2014\",\"3/1/2014\",\"4/1/2014\",\"5/1/2014\",\"6/1/2014\",\"7/1/2014\",\"8/1/2014\",\"9/1/2014\",\"10/1/2014\",\"11/1/2014\",\"12/1/2014\",\"1/1/2015\",\"2/1/2015\",\"3/1/2015\",\"4/1/2015\",\"5/1/2015\",\"6/1/2015\",\"7/1/2015\",\"8/1/2015\",\"9/1/2015\",\"10/1/2015\",\"11/1/2015\",\"12/1/2015\",\"1/1/2016\",\"2/1/2016\",\"3/1/2016\",\"4/1/2016\",\"5/1/2016\",\"6/1/2016\",\"7/1/2016\",\"8/1/2016\",\"9/1/2016\",\"10/1/2016\",\"11/1/2016\",\"12/1/2016\",\"1/1/2017\",\"2/1/2017\",\"3/1/2017\",\"4/1/2017\",\"5/1/2017\",\"6/1/2017\",\"7/1/2017\",\"8/1/2017\",\"9/1/2017\",\"10/1/2017\",\"11/1/2017\",\"12/1/2017\",\"1/1/2018\",\"2/1/2018\",\"3/1/2018\",\"4/1/2018\",\"5/1/2018\",\"6/1/2018\",\"7/1/2018\",\"8/1/2018\",\"9/1/2018\",\"10/1/2018\",\"11/1/2018\",\"12/1/2018\",\"1/1/2019\",\"2/1/2019\",\"3/1/2019\",\"4/1/2019\",\"5/1/2019\",\"6/1/2019\",\"7/1/2019\",\"8/1/2019\",\"9/1/2019\",\"10/1/2019\",\"11/1/2019\",\"12/1/2019\",\"1/1/2020\",\"2/1/2020\",\"3/1/2020\",\"4/1/2020\",\"5/1/2020\",\"6/1/2020\",\"7/1/2020\",\"8/1/2020\",\"9/1/2020\",\"10/1/2020\",\"11/1/2020\",\"12/1/2020\",\"1/1/2021\",\"2/1/2021\",\"3/1/2021\",\"4/1/2021\",\"5/1/2021\",\"6/1/2021\",\"7/1/2021\",\"8/1/2021\",\"9/1/2021\",\"10/1/2021\",\"11/1/2021\",\"12/1/2021\",\"1/1/2022\",\"2/1/2022\",\"3/1/2022\",\"4/1/2022\",\"5/1/2022\",\"6/1/2022\",\"7/1/2022\",\"8/1/2022\",\"9/1/2022\",\"10/1/2022\",\"11/1/2022\"],\"y\":[-1401.606892388861,16547.638944058574,30329.049120022388,39499.91211600794,39850.79536725307,38456.32684802936,37042.63977705165,35712.21134100029,33518.25300262519,32043.283863975157,32549.370796043164,32840.17111030098,33322.55552161835,35738.54439884778,38122.17620049288,40648.82059049685,37131.0752164446,37081.02487551175,44357.59845051209,37519.71101080737,32582.735522833285,33364.61980282946,34027.27744755363,32952.194850750595,31190.627012074612,30374.545240752544,27843.50894834633,24928.674334896798,22060.793872068083,16724.532170166327,12675.280977484575,11861.047678127772,11288.683291986581,16874.40244076105,20097.687551244067,17591.333010415532,19886.745643566137,23815.27199851266,23879.245102809422,27645.914158789146,27261.088587292936,28261.181745671736,28602.39518562444,26894.68533475256,26487.607694640894,28625.811223134922,31752.97129160755,55702.38194831067,46342.13178522052,42363.862924156354,43351.30182435818,48281.87388519681,52767.87578363241,52094.35167135247,52407.80171384488,51206.03241164827,47782.39265624035,52546.80440065604,55705.711003587785,57452.488759015745,57433.469227925816,56594.59643971969,58391.40407599448,61012.79617813433,60068.51779697444,61635.27075946856,59451.02884984151,57655.55587742525,55140.64886005862,59732.54395056493,63808.11202270065,60432.72231201624,59087.05764793277,51201.30148140175,48291.69992394441,52091.40751761252,52626.45818070862,52500.360546691285,48311.41789529123,45239.12089738276,53866.9731729223,50870.987111489754,43534.31037376354,40560.17803038491,38058.535224553154,39664.426787806515,45780.73187867696,55386.16068103575,52217.041838246696,46703.956803431734,56038.00168398108,48032.35869422713,37375.18455256727,41853.269253039754,78609.93860202929,66049.03442052577,37864.994429533195,18255.130987729557,14853.230527882213,20380.083776617776,29824.25954673824,19403.089160374708,13449.177121598375,18510.9991839843,14974.560011335361,40735.80426139915,28638.058446705025,11181.738437945252,2110.868405269757,2746.36016469451,3237.60488439496,3111.659170881545,-4356.652014287585,-6355.17912737537,255.34226349383698,-537.0586669399927,-3558.652531024607,1671.2447424520533,2429.888829164356,-13312.772376223189,-15192.486921011687,-5986.2502456382035,-14178.998645042553,-10439.657775959811,-1269.1627289605694,4301.373560869506,-11963.285546625852,-37399.7306970317,-47002.74727220737,-40675.99022075611,-17585.386471551792,-29058.60145671884,-55903.255815648125,-54010.8058919715,-27773.383341918132,-25573.945261276298,-27558.328735607174,-50254.48361201436,-56701.5406020542,-54938.43121863894,-44841.21096710327,-30917.544823978067,3298.5318345797077,9825.780180329417,4327.193931334383,-8333.668450090929,-23180.027026838372,-12257.552910457372,-10594.49807790024,-30117.560112787392,-46295.48179859713,-47653.486415171894,-61798.84868701926,-46786.92018831382,-30670.064875979722,-7454.106967861766,-13565.801794819612,66954.21342278704,251130.90198351897,170027.0283746385,66074.60197690479,21814.01354035348,4916.345104556734,-26113.89284922367,-34956.653035215335,-29816.13518544843,-30614.08653316359,147031.71107323474,-32308.28470879994,-117681.02603325527,-124418.33194864963,-101007.34419293287,-79497.06195260477,-78165.92971885772,-79656.45010642747,-69044.54086491225,-64606.06838027748,-30856.183161815705,18085.091201689684,34017.078347427036,-15443.517134793903,-53619.35137129766,-35899.894332934746,-10530.262451880311,-7019.377864619006,-22378.11651447908,-51697.5651920472,-48808.42430598536,-32953.728904536045],\"type\":\"scatter\"}],                        {\"legend\":{\"tracegroupgap\":0},\"template\":{\"data\":{\"barpolar\":[{\"marker\":{\"line\":{\"color\":\"#E5ECF6\",\"width\":0.5},\"pattern\":{\"fillmode\":\"overlay\",\"size\":10,\"solidity\":0.2}},\"type\":\"barpolar\"}],\"bar\":[{\"error_x\":{\"color\":\"#2a3f5f\"},\"error_y\":{\"color\":\"#2a3f5f\"},\"marker\":{\"line\":{\"color\":\"#E5ECF6\",\"width\":0.5},\"pattern\":{\"fillmode\":\"overlay\",\"size\":10,\"solidity\":0.2}},\"type\":\"bar\"}],\"carpet\":[{\"aaxis\":{\"endlinecolor\":\"#2a3f5f\",\"gridcolor\":\"white\",\"linecolor\":\"white\",\"minorgridcolor\":\"white\",\"startlinecolor\":\"#2a3f5f\"},\"baxis\":{\"endlinecolor\":\"#2a3f5f\",\"gridcolor\":\"white\",\"linecolor\":\"white\",\"minorgridcolor\":\"white\",\"startlinecolor\":\"#2a3f5f\"},\"type\":\"carpet\"}],\"choropleth\":[{\"colorbar\":{\"outlinewidth\":0,\"ticks\":\"\"},\"type\":\"choropleth\"}],\"contourcarpet\":[{\"colorbar\":{\"outlinewidth\":0,\"ticks\":\"\"},\"type\":\"contourcarpet\"}],\"contour\":[{\"colorbar\":{\"outlinewidth\":0,\"ticks\":\"\"},\"colorscale\":[[0.0,\"#0d0887\"],[0.1111111111111111,\"#46039f\"],[0.2222222222222222,\"#7201a8\"],[0.3333333333333333,\"#9c179e\"],[0.4444444444444444,\"#bd3786\"],[0.5555555555555556,\"#d8576b\"],[0.6666666666666666,\"#ed7953\"],[0.7777777777777778,\"#fb9f3a\"],[0.8888888888888888,\"#fdca26\"],[1.0,\"#f0f921\"]],\"type\":\"contour\"}],\"heatmapgl\":[{\"colorbar\":{\"outlinewidth\":0,\"ticks\":\"\"},\"colorscale\":[[0.0,\"#0d0887\"],[0.1111111111111111,\"#46039f\"],[0.2222222222222222,\"#7201a8\"],[0.3333333333333333,\"#9c179e\"],[0.4444444444444444,\"#bd3786\"],[0.5555555555555556,\"#d8576b\"],[0.6666666666666666,\"#ed7953\"],[0.7777777777777778,\"#fb9f3a\"],[0.8888888888888888,\"#fdca26\"],[1.0,\"#f0f921\"]],\"type\":\"heatmapgl\"}],\"heatmap\":[{\"colorbar\":{\"outlinewidth\":0,\"ticks\":\"\"},\"colorscale\":[[0.0,\"#0d0887\"],[0.1111111111111111,\"#46039f\"],[0.2222222222222222,\"#7201a8\"],[0.3333333333333333,\"#9c179e\"],[0.4444444444444444,\"#bd3786\"],[0.5555555555555556,\"#d8576b\"],[0.6666666666666666,\"#ed7953\"],[0.7777777777777778,\"#fb9f3a\"],[0.8888888888888888,\"#fdca26\"],[1.0,\"#f0f921\"]],\"type\":\"heatmap\"}],\"histogram2dcontour\":[{\"colorbar\":{\"outlinewidth\":0,\"ticks\":\"\"},\"colorscale\":[[0.0,\"#0d0887\"],[0.1111111111111111,\"#46039f\"],[0.2222222222222222,\"#7201a8\"],[0.3333333333333333,\"#9c179e\"],[0.4444444444444444,\"#bd3786\"],[0.5555555555555556,\"#d8576b\"],[0.6666666666666666,\"#ed7953\"],[0.7777777777777778,\"#fb9f3a\"],[0.8888888888888888,\"#fdca26\"],[1.0,\"#f0f921\"]],\"type\":\"histogram2dcontour\"}],\"histogram2d\":[{\"colorbar\":{\"outlinewidth\":0,\"ticks\":\"\"},\"colorscale\":[[0.0,\"#0d0887\"],[0.1111111111111111,\"#46039f\"],[0.2222222222222222,\"#7201a8\"],[0.3333333333333333,\"#9c179e\"],[0.4444444444444444,\"#bd3786\"],[0.5555555555555556,\"#d8576b\"],[0.6666666666666666,\"#ed7953\"],[0.7777777777777778,\"#fb9f3a\"],[0.8888888888888888,\"#fdca26\"],[1.0,\"#f0f921\"]],\"type\":\"histogram2d\"}],\"histogram\":[{\"marker\":{\"pattern\":{\"fillmode\":\"overlay\",\"size\":10,\"solidity\":0.2}},\"type\":\"histogram\"}],\"mesh3d\":[{\"colorbar\":{\"outlinewidth\":0,\"ticks\":\"\"},\"type\":\"mesh3d\"}],\"parcoords\":[{\"line\":{\"colorbar\":{\"outlinewidth\":0,\"ticks\":\"\"}},\"type\":\"parcoords\"}],\"pie\":[{\"automargin\":true,\"type\":\"pie\"}],\"scatter3d\":[{\"line\":{\"colorbar\":{\"outlinewidth\":0,\"ticks\":\"\"}},\"marker\":{\"colorbar\":{\"outlinewidth\":0,\"ticks\":\"\"}},\"type\":\"scatter3d\"}],\"scattercarpet\":[{\"marker\":{\"colorbar\":{\"outlinewidth\":0,\"ticks\":\"\"}},\"type\":\"scattercarpet\"}],\"scattergeo\":[{\"marker\":{\"colorbar\":{\"outlinewidth\":0,\"ticks\":\"\"}},\"type\":\"scattergeo\"}],\"scattergl\":[{\"marker\":{\"colorbar\":{\"outlinewidth\":0,\"ticks\":\"\"}},\"type\":\"scattergl\"}],\"scattermapbox\":[{\"marker\":{\"colorbar\":{\"outlinewidth\":0,\"ticks\":\"\"}},\"type\":\"scattermapbox\"}],\"scatterpolargl\":[{\"marker\":{\"colorbar\":{\"outlinewidth\":0,\"ticks\":\"\"}},\"type\":\"scatterpolargl\"}],\"scatterpolar\":[{\"marker\":{\"colorbar\":{\"outlinewidth\":0,\"ticks\":\"\"}},\"type\":\"scatterpolar\"}],\"scatter\":[{\"fillpattern\":{\"fillmode\":\"overlay\",\"size\":10,\"solidity\":0.2},\"type\":\"scatter\"}],\"scatterternary\":[{\"marker\":{\"colorbar\":{\"outlinewidth\":0,\"ticks\":\"\"}},\"type\":\"scatterternary\"}],\"surface\":[{\"colorbar\":{\"outlinewidth\":0,\"ticks\":\"\"},\"colorscale\":[[0.0,\"#0d0887\"],[0.1111111111111111,\"#46039f\"],[0.2222222222222222,\"#7201a8\"],[0.3333333333333333,\"#9c179e\"],[0.4444444444444444,\"#bd3786\"],[0.5555555555555556,\"#d8576b\"],[0.6666666666666666,\"#ed7953\"],[0.7777777777777778,\"#fb9f3a\"],[0.8888888888888888,\"#fdca26\"],[1.0,\"#f0f921\"]],\"type\":\"surface\"}],\"table\":[{\"cells\":{\"fill\":{\"color\":\"#EBF0F8\"},\"line\":{\"color\":\"white\"}},\"header\":{\"fill\":{\"color\":\"#C8D4E3\"},\"line\":{\"color\":\"white\"}},\"type\":\"table\"}]},\"layout\":{\"annotationdefaults\":{\"arrowcolor\":\"#2a3f5f\",\"arrowhead\":0,\"arrowwidth\":1},\"autotypenumbers\":\"strict\",\"coloraxis\":{\"colorbar\":{\"outlinewidth\":0,\"ticks\":\"\"}},\"colorscale\":{\"diverging\":[[0,\"#8e0152\"],[0.1,\"#c51b7d\"],[0.2,\"#de77ae\"],[0.3,\"#f1b6da\"],[0.4,\"#fde0ef\"],[0.5,\"#f7f7f7\"],[0.6,\"#e6f5d0\"],[0.7,\"#b8e186\"],[0.8,\"#7fbc41\"],[0.9,\"#4d9221\"],[1,\"#276419\"]],\"sequential\":[[0.0,\"#0d0887\"],[0.1111111111111111,\"#46039f\"],[0.2222222222222222,\"#7201a8\"],[0.3333333333333333,\"#9c179e\"],[0.4444444444444444,\"#bd3786\"],[0.5555555555555556,\"#d8576b\"],[0.6666666666666666,\"#ed7953\"],[0.7777777777777778,\"#fb9f3a\"],[0.8888888888888888,\"#fdca26\"],[1.0,\"#f0f921\"]],\"sequentialminus\":[[0.0,\"#0d0887\"],[0.1111111111111111,\"#46039f\"],[0.2222222222222222,\"#7201a8\"],[0.3333333333333333,\"#9c179e\"],[0.4444444444444444,\"#bd3786\"],[0.5555555555555556,\"#d8576b\"],[0.6666666666666666,\"#ed7953\"],[0.7777777777777778,\"#fb9f3a\"],[0.8888888888888888,\"#fdca26\"],[1.0,\"#f0f921\"]]},\"colorway\":[\"#636efa\",\"#EF553B\",\"#00cc96\",\"#ab63fa\",\"#FFA15A\",\"#19d3f3\",\"#FF6692\",\"#B6E880\",\"#FF97FF\",\"#FECB52\"],\"font\":{\"color\":\"#2a3f5f\"},\"geo\":{\"bgcolor\":\"white\",\"lakecolor\":\"white\",\"landcolor\":\"#E5ECF6\",\"showlakes\":true,\"showland\":true,\"subunitcolor\":\"white\"},\"hoverlabel\":{\"align\":\"left\"},\"hovermode\":\"closest\",\"mapbox\":{\"style\":\"light\"},\"paper_bgcolor\":\"white\",\"plot_bgcolor\":\"#E5ECF6\",\"polar\":{\"angularaxis\":{\"gridcolor\":\"white\",\"linecolor\":\"white\",\"ticks\":\"\"},\"bgcolor\":\"#E5ECF6\",\"radialaxis\":{\"gridcolor\":\"white\",\"linecolor\":\"white\",\"ticks\":\"\"}},\"scene\":{\"xaxis\":{\"backgroundcolor\":\"#E5ECF6\",\"gridcolor\":\"white\",\"gridwidth\":2,\"linecolor\":\"white\",\"showbackground\":true,\"ticks\":\"\",\"zerolinecolor\":\"white\"},\"yaxis\":{\"backgroundcolor\":\"#E5ECF6\",\"gridcolor\":\"white\",\"gridwidth\":2,\"linecolor\":\"white\",\"showbackground\":true,\"ticks\":\"\",\"zerolinecolor\":\"white\"},\"zaxis\":{\"backgroundcolor\":\"#E5ECF6\",\"gridcolor\":\"white\",\"gridwidth\":2,\"linecolor\":\"white\",\"showbackground\":true,\"ticks\":\"\",\"zerolinecolor\":\"white\"}},\"shapedefaults\":{\"line\":{\"color\":\"#2a3f5f\"}},\"ternary\":{\"aaxis\":{\"gridcolor\":\"white\",\"linecolor\":\"white\",\"ticks\":\"\"},\"baxis\":{\"gridcolor\":\"white\",\"linecolor\":\"white\",\"ticks\":\"\"},\"bgcolor\":\"#E5ECF6\",\"caxis\":{\"gridcolor\":\"white\",\"linecolor\":\"white\",\"ticks\":\"\"}},\"title\":{\"x\":0.05},\"xaxis\":{\"automargin\":true,\"gridcolor\":\"white\",\"linecolor\":\"white\",\"ticks\":\"\",\"title\":{\"standoff\":15},\"zerolinecolor\":\"white\",\"zerolinewidth\":2},\"yaxis\":{\"automargin\":true,\"gridcolor\":\"white\",\"linecolor\":\"white\",\"ticks\":\"\",\"title\":{\"standoff\":15},\"zerolinecolor\":\"white\",\"zerolinewidth\":2}}},\"title\":{\"text\":\"Permian Region monthly changes in legacy declines estimates using Kalman filter\"},\"xaxis\":{\"anchor\":\"y\",\"domain\":[0.0,1.0]},\"yaxis\":{\"anchor\":\"x\",\"domain\":[0.0,1.0]},\"images\":[{\"sizex\":0.15,\"sizey\":0.15,\"source\":\"https://upload.wikimedia.org/wikipedia/commons/thumb/4/49/Eia-logomark.svg/640px-Eia-logomark.svg.png\",\"x\":1.06,\"xanchor\":\"center\",\"y\":-0.06,\"yanchor\":\"bottom\"}]},                        {\"responsive\": true}                    ).then(function(){\n",
              "                            \n",
              "var gd = document.getElementById('e918f010-572b-40f7-af8f-e0da1e4363de');\n",
              "var x = new MutationObserver(function (mutations, observer) {{\n",
              "        var display = window.getComputedStyle(gd).display;\n",
              "        if (!display || display === 'none') {{\n",
              "            console.log([gd, 'removed!']);\n",
              "            Plotly.purge(gd);\n",
              "            observer.disconnect();\n",
              "        }}\n",
              "}});\n",
              "\n",
              "// Listen for the removal of the full notebook cells\n",
              "var notebookContainer = gd.closest('#notebook-container');\n",
              "if (notebookContainer) {{\n",
              "    x.observe(notebookContainer, {childList: true});\n",
              "}}\n",
              "\n",
              "// Listen for the clearing of the current output cell\n",
              "var outputEl = gd.closest('.output');\n",
              "if (outputEl) {{\n",
              "    x.observe(outputEl, {childList: true});\n",
              "}}\n",
              "\n",
              "                        })                };                            </script>        </div>\n",
              "</body>\n",
              "</html>"
            ]
          },
          "metadata": {}
        }
      ]
    },
    {
      "cell_type": "code",
      "source": [],
      "metadata": {
        "id": "lilM7wUifb7-"
      },
      "execution_count": null,
      "outputs": []
    },
    {
      "cell_type": "code",
      "source": [],
      "metadata": {
        "id": "kX8HsrH2fcLx"
      },
      "execution_count": null,
      "outputs": []
    },
    {
      "cell_type": "code",
      "source": [
        "dataX = data[['BH2MF','dBH2MF', 'PR']]\n",
        "dataY = data['dPR']"
      ],
      "metadata": {
        "id": "CxbDX7H7lPbl"
      },
      "execution_count": null,
      "outputs": []
    },
    {
      "cell_type": "code",
      "source": [
        "from sklearn.linear_model import LinearRegression"
      ],
      "metadata": {
        "id": "JchwkctflxCR"
      },
      "execution_count": null,
      "outputs": []
    },
    {
      "cell_type": "code",
      "source": [
        "model = LinearRegression()\n",
        "model.fit(dataX, dataY)\n",
        "predictions = model.predict(dataX)"
      ],
      "metadata": {
        "id": "-5bQ-brmlxx9"
      },
      "execution_count": null,
      "outputs": []
    },
    {
      "cell_type": "code",
      "source": [
        "#print(predictions)"
      ],
      "metadata": {
        "id": "iLX4KmDfl_R4"
      },
      "execution_count": null,
      "outputs": []
    },
    {
      "cell_type": "code",
      "source": [
        "fig = go.Figure()\n",
        "fig.add_trace(go.Scatter(x=data['Month'], y=predictions, name='Predictions'))\n",
        "fig.add_trace(go.Scatter(x=data['Month'], y=data['dPR'], name='Data'))\n",
        "\n",
        "# Add title and axis labels\n",
        "fig.update_layout(title='Sample Line Plot', xaxis_title='X-axis', yaxis_title='Y-axis')\n",
        "\n",
        "# Show the plot\n",
        "fig.show()"
      ],
      "metadata": {
        "id": "uLHE7CgYl_zm",
        "outputId": "29e7b67a-3138-4ce8-8553-d7fc544c30ca",
        "colab": {
          "base_uri": "https://localhost:8080/",
          "height": 542
        }
      },
      "execution_count": null,
      "outputs": [
        {
          "output_type": "display_data",
          "data": {
            "text/html": [
              "<html>\n",
              "<head><meta charset=\"utf-8\" /></head>\n",
              "<body>\n",
              "    <div>            <script src=\"https://cdnjs.cloudflare.com/ajax/libs/mathjax/2.7.5/MathJax.js?config=TeX-AMS-MML_SVG\"></script><script type=\"text/javascript\">if (window.MathJax && window.MathJax.Hub && window.MathJax.Hub.Config) {window.MathJax.Hub.Config({SVG: {font: \"STIX-Web\"}});}</script>                <script type=\"text/javascript\">window.PlotlyConfig = {MathJaxConfig: 'local'};</script>\n",
              "        <script src=\"https://cdn.plot.ly/plotly-2.18.2.min.js\"></script>                <div id=\"b55c8053-c3e2-4ead-a3a2-7187467c984e\" class=\"plotly-graph-div\" style=\"height:525px; width:100%;\"></div>            <script type=\"text/javascript\">                                    window.PLOTLYENV=window.PLOTLYENV || {};                                    if (document.getElementById(\"b55c8053-c3e2-4ead-a3a2-7187467c984e\")) {                    Plotly.newPlot(                        \"b55c8053-c3e2-4ead-a3a2-7187467c984e\",                        [{\"name\":\"Predictions\",\"x\":[\"2007-02-01T00:00:00\",\"2007-03-01T00:00:00\",\"2007-04-01T00:00:00\",\"2007-05-01T00:00:00\",\"2007-06-01T00:00:00\",\"2007-07-01T00:00:00\",\"2007-08-01T00:00:00\",\"2007-09-01T00:00:00\",\"2007-10-01T00:00:00\",\"2007-11-01T00:00:00\",\"2007-12-01T00:00:00\",\"2008-01-01T00:00:00\",\"2008-02-01T00:00:00\",\"2008-03-01T00:00:00\",\"2008-04-01T00:00:00\",\"2008-05-01T00:00:00\",\"2008-06-01T00:00:00\",\"2008-07-01T00:00:00\",\"2008-08-01T00:00:00\",\"2008-09-01T00:00:00\",\"2008-10-01T00:00:00\",\"2008-11-01T00:00:00\",\"2008-12-01T00:00:00\",\"2009-01-01T00:00:00\",\"2009-02-01T00:00:00\",\"2009-03-01T00:00:00\",\"2009-04-01T00:00:00\",\"2009-05-01T00:00:00\",\"2009-06-01T00:00:00\",\"2009-07-01T00:00:00\",\"2009-08-01T00:00:00\",\"2009-09-01T00:00:00\",\"2009-10-01T00:00:00\",\"2009-11-01T00:00:00\",\"2009-12-01T00:00:00\",\"2010-01-01T00:00:00\",\"2010-02-01T00:00:00\",\"2010-03-01T00:00:00\",\"2010-04-01T00:00:00\",\"2010-05-01T00:00:00\",\"2010-06-01T00:00:00\",\"2010-07-01T00:00:00\",\"2010-08-01T00:00:00\",\"2010-09-01T00:00:00\",\"2010-10-01T00:00:00\",\"2010-11-01T00:00:00\",\"2010-12-01T00:00:00\",\"2011-01-01T00:00:00\",\"2011-02-01T00:00:00\",\"2011-03-01T00:00:00\",\"2011-04-01T00:00:00\",\"2011-05-01T00:00:00\",\"2011-06-01T00:00:00\",\"2011-07-01T00:00:00\",\"2011-08-01T00:00:00\",\"2011-09-01T00:00:00\",\"2011-10-01T00:00:00\",\"2011-11-01T00:00:00\",\"2011-12-01T00:00:00\",\"2012-01-01T00:00:00\",\"2012-02-01T00:00:00\",\"2012-03-01T00:00:00\",\"2012-04-01T00:00:00\",\"2012-05-01T00:00:00\",\"2012-06-01T00:00:00\",\"2012-07-01T00:00:00\",\"2012-08-01T00:00:00\",\"2012-09-01T00:00:00\",\"2012-10-01T00:00:00\",\"2012-11-01T00:00:00\",\"2012-12-01T00:00:00\",\"2013-01-01T00:00:00\",\"2013-02-01T00:00:00\",\"2013-03-01T00:00:00\",\"2013-04-01T00:00:00\",\"2013-05-01T00:00:00\",\"2013-06-01T00:00:00\",\"2013-07-01T00:00:00\",\"2013-08-01T00:00:00\",\"2013-09-01T00:00:00\",\"2013-10-01T00:00:00\",\"2013-11-01T00:00:00\",\"2013-12-01T00:00:00\",\"2014-01-01T00:00:00\",\"2014-02-01T00:00:00\",\"2014-03-01T00:00:00\",\"2014-04-01T00:00:00\",\"2014-05-01T00:00:00\",\"2014-06-01T00:00:00\",\"2014-07-01T00:00:00\",\"2014-08-01T00:00:00\",\"2014-09-01T00:00:00\",\"2014-10-01T00:00:00\",\"2014-11-01T00:00:00\",\"2014-12-01T00:00:00\",\"2015-01-01T00:00:00\",\"2015-02-01T00:00:00\",\"2015-03-01T00:00:00\",\"2015-04-01T00:00:00\",\"2015-05-01T00:00:00\",\"2015-06-01T00:00:00\",\"2015-07-01T00:00:00\",\"2015-08-01T00:00:00\",\"2015-09-01T00:00:00\",\"2015-10-01T00:00:00\",\"2015-11-01T00:00:00\",\"2015-12-01T00:00:00\",\"2016-01-01T00:00:00\",\"2016-02-01T00:00:00\",\"2016-03-01T00:00:00\",\"2016-04-01T00:00:00\",\"2016-05-01T00:00:00\",\"2016-06-01T00:00:00\",\"2016-07-01T00:00:00\",\"2016-08-01T00:00:00\",\"2016-09-01T00:00:00\",\"2016-10-01T00:00:00\",\"2016-11-01T00:00:00\",\"2016-12-01T00:00:00\",\"2017-01-01T00:00:00\",\"2017-02-01T00:00:00\",\"2017-03-01T00:00:00\",\"2017-04-01T00:00:00\",\"2017-05-01T00:00:00\",\"2017-06-01T00:00:00\",\"2017-07-01T00:00:00\",\"2017-08-01T00:00:00\",\"2017-09-01T00:00:00\",\"2017-10-01T00:00:00\",\"2017-11-01T00:00:00\",\"2017-12-01T00:00:00\",\"2018-01-01T00:00:00\",\"2018-02-01T00:00:00\",\"2018-03-01T00:00:00\",\"2018-04-01T00:00:00\",\"2018-05-01T00:00:00\",\"2018-06-01T00:00:00\",\"2018-07-01T00:00:00\",\"2018-08-01T00:00:00\",\"2018-09-01T00:00:00\",\"2018-10-01T00:00:00\",\"2018-11-01T00:00:00\",\"2018-12-01T00:00:00\",\"2019-01-01T00:00:00\",\"2019-02-01T00:00:00\",\"2019-03-01T00:00:00\",\"2019-04-01T00:00:00\",\"2019-05-01T00:00:00\",\"2019-06-01T00:00:00\",\"2019-07-01T00:00:00\",\"2019-08-01T00:00:00\",\"2019-09-01T00:00:00\",\"2019-10-01T00:00:00\",\"2019-11-01T00:00:00\",\"2019-12-01T00:00:00\",\"2020-01-01T00:00:00\",\"2020-02-01T00:00:00\",\"2020-03-01T00:00:00\",\"2020-04-01T00:00:00\",\"2020-05-01T00:00:00\",\"2020-06-01T00:00:00\",\"2020-07-01T00:00:00\",\"2020-08-01T00:00:00\",\"2020-09-01T00:00:00\",\"2020-10-01T00:00:00\",\"2020-11-01T00:00:00\",\"2020-12-01T00:00:00\",\"2021-01-01T00:00:00\",\"2021-02-01T00:00:00\",\"2021-03-01T00:00:00\",\"2021-04-01T00:00:00\",\"2021-05-01T00:00:00\",\"2021-06-01T00:00:00\",\"2021-07-01T00:00:00\",\"2021-08-01T00:00:00\",\"2021-09-01T00:00:00\",\"2021-10-01T00:00:00\",\"2021-11-01T00:00:00\",\"2021-12-01T00:00:00\",\"2022-01-01T00:00:00\",\"2022-02-01T00:00:00\",\"2022-03-01T00:00:00\",\"2022-04-01T00:00:00\",\"2022-05-01T00:00:00\",\"2022-06-01T00:00:00\",\"2022-07-01T00:00:00\",\"2022-08-01T00:00:00\",\"2022-09-01T00:00:00\",\"2022-10-01T00:00:00\",\"2022-11-01T00:00:00\",\"2022-12-01T00:00:00\",\"2023-01-01T00:00:00\",\"2023-02-01T00:00:00\",\"2023-03-01T00:00:00\",\"2023-04-01T00:00:00\",\"2023-05-01T00:00:00\",\"2023-06-01T00:00:00\"],\"y\":[739.7154824048648,802.7234148651132,877.246531579025,134.06470777699542,-564.8731145301226,-101.36131911732446,581.7313607403521,226.8780089789525,242.54859130993827,146.94000046640758,219.20915161004632,882.1626335505152,937.5616284823991,925.1995820166176,1244.6963969198387,1423.498262254774,1424.6257274311884,1468.0434207054022,1255.8631838221881,1586.835752443223,2004.80833506194,2210.9363740997305,1843.9525202769273,1040.117616800173,-299.60899495746344,-1764.0655525681595,-3071.1905969756463,-4230.201353912723,-5039.859062826125,-5806.321610225536,-6162.688791555238,-6077.457504201567,-5903.793054805259,-5811.374969439129,-5685.417297680203,-5391.7948920473655,-4370.529605391406,-3680.209150875844,-3225.6366989887083,-2860.2268853655005,-2424.0658289314615,-1869.1472748278193,-1397.11696399828,-924.5292391180155,-437.69292674862845,187.40380998925866,916.2005106567522,1178.35871786819,1288.2737692551273,1917.543018727296,1721.6553469994906,1976.788591159253,2690.6875794819207,2916.5778431300732,3125.619938805523,3496.464399820461,4334.691633259603,4588.726722464033,4628.818827453795,4455.362760686052,4378.643380658943,4708.068134890533,5451.329125693794,5773.251118536822,5637.001189076333,5995.928750592489,6048.625439462712,6333.475759075476,6033.216478111664,5322.529348880647,4865.243639228696,5069.983563868669,4633.786712766256,5591.346892707921,6331.929988676084,6277.938953603692,6295.638149071443,6382.165223805803,6758.383895800527,6649.686502470222,6755.123092852196,6149.823076826915,6680.8571957285185,6987.340164321229,6567.70024328121,7096.256004779183,6551.66726544182,7675.763986237458,8252.903415877367,8726.052496274586,8845.22838623954,9222.643829300434,9844.78022937464,10175.788582337917,10063.412693422635,10102.86152421143,9877.313528459717,9342.94205744819,6636.259190765408,4621.887808703852,3516.2033750234496,2069.632091066842,1912.391282578903,1959.8376755647678,2187.5715957885277,1928.2487088967519,1545.9035847786708,1075.0742443511099,174.72096645982128,787.1987751076758,-338.8598204750306,-570.3298126792306,-952.962772429024,-1421.219833764826,-1396.6737055701433,-1290.8876001157769,-972.5874203666444,-567.5886956440318,-264.6771537238237,-321.55519075325174,257.04635974067605,587.6680410488225,969.0801048385711,1561.544003183435,2590.7506925388116,2639.7335228943393,3238.338484935606,3609.1222103618657,3964.821026981932,4219.528659855212,3847.5318348829514,4268.172418910561,4281.991477927679,4634.338588734359,4385.731533816552,4480.198123824621,4326.426298859684,4936.905104600837,6128.890950522646,5686.824048621054,6190.963858482615,6162.753098334162,6711.724906792771,6651.683676836148,6095.74196022477,5717.255563127377,5433.1115933991805,4769.790196007283,4334.12310899337,3993.131593801807,3529.39854230331,4372.518247473081,3759.7010708662237,2458.646102522016,2154.2381141644655,781.9040336008984,511.3250588669853,344.2394339741786,-737.594175641987,-3880.6006043586185,-2241.2648235947963,-2593.9626788263067,-3446.7555242038143,-3760.515330750679,-4150.913591608016,-3260.5794098756214,-3665.993176526561,-3754.3005497243485,-5831.882898558526,-3772.93204614193,-3813.042092141206,-3835.610689096833,-3965.227911859427,-3915.445477776646,-3837.4758416207933,-3402.5313322226193,-3196.894744458559,-3193.297617487253,-2765.2305703390757,-2769.2802337874273,-2958.373343479956,-1883.928253392247,-1757.2479345256088,-1878.5353872357064,-1988.8741130897542,-2083.2937680704017,-1846.2460254366797,-2013.994499000206,-1588.5462202779727,-1302.5955387308331,-1853.3062824800527,-751.7694945662824,-753.8356789980025,-517.2166432200738,-306.7147944163953,-256.222437651526,-455.8486889017495],\"type\":\"scatter\"},{\"name\":\"Data\",\"x\":[\"2007-02-01T00:00:00\",\"2007-03-01T00:00:00\",\"2007-04-01T00:00:00\",\"2007-05-01T00:00:00\",\"2007-06-01T00:00:00\",\"2007-07-01T00:00:00\",\"2007-08-01T00:00:00\",\"2007-09-01T00:00:00\",\"2007-10-01T00:00:00\",\"2007-11-01T00:00:00\",\"2007-12-01T00:00:00\",\"2008-01-01T00:00:00\",\"2008-02-01T00:00:00\",\"2008-03-01T00:00:00\",\"2008-04-01T00:00:00\",\"2008-05-01T00:00:00\",\"2008-06-01T00:00:00\",\"2008-07-01T00:00:00\",\"2008-08-01T00:00:00\",\"2008-09-01T00:00:00\",\"2008-10-01T00:00:00\",\"2008-11-01T00:00:00\",\"2008-12-01T00:00:00\",\"2009-01-01T00:00:00\",\"2009-02-01T00:00:00\",\"2009-03-01T00:00:00\",\"2009-04-01T00:00:00\",\"2009-05-01T00:00:00\",\"2009-06-01T00:00:00\",\"2009-07-01T00:00:00\",\"2009-08-01T00:00:00\",\"2009-09-01T00:00:00\",\"2009-10-01T00:00:00\",\"2009-11-01T00:00:00\",\"2009-12-01T00:00:00\",\"2010-01-01T00:00:00\",\"2010-02-01T00:00:00\",\"2010-03-01T00:00:00\",\"2010-04-01T00:00:00\",\"2010-05-01T00:00:00\",\"2010-06-01T00:00:00\",\"2010-07-01T00:00:00\",\"2010-08-01T00:00:00\",\"2010-09-01T00:00:00\",\"2010-10-01T00:00:00\",\"2010-11-01T00:00:00\",\"2010-12-01T00:00:00\",\"2011-01-01T00:00:00\",\"2011-02-01T00:00:00\",\"2011-03-01T00:00:00\",\"2011-04-01T00:00:00\",\"2011-05-01T00:00:00\",\"2011-06-01T00:00:00\",\"2011-07-01T00:00:00\",\"2011-08-01T00:00:00\",\"2011-09-01T00:00:00\",\"2011-10-01T00:00:00\",\"2011-11-01T00:00:00\",\"2011-12-01T00:00:00\",\"2012-01-01T00:00:00\",\"2012-02-01T00:00:00\",\"2012-03-01T00:00:00\",\"2012-04-01T00:00:00\",\"2012-05-01T00:00:00\",\"2012-06-01T00:00:00\",\"2012-07-01T00:00:00\",\"2012-08-01T00:00:00\",\"2012-09-01T00:00:00\",\"2012-10-01T00:00:00\",\"2012-11-01T00:00:00\",\"2012-12-01T00:00:00\",\"2013-01-01T00:00:00\",\"2013-02-01T00:00:00\",\"2013-03-01T00:00:00\",\"2013-04-01T00:00:00\",\"2013-05-01T00:00:00\",\"2013-06-01T00:00:00\",\"2013-07-01T00:00:00\",\"2013-08-01T00:00:00\",\"2013-09-01T00:00:00\",\"2013-10-01T00:00:00\",\"2013-11-01T00:00:00\",\"2013-12-01T00:00:00\",\"2014-01-01T00:00:00\",\"2014-02-01T00:00:00\",\"2014-03-01T00:00:00\",\"2014-04-01T00:00:00\",\"2014-05-01T00:00:00\",\"2014-06-01T00:00:00\",\"2014-07-01T00:00:00\",\"2014-08-01T00:00:00\",\"2014-09-01T00:00:00\",\"2014-10-01T00:00:00\",\"2014-11-01T00:00:00\",\"2014-12-01T00:00:00\",\"2015-01-01T00:00:00\",\"2015-02-01T00:00:00\",\"2015-03-01T00:00:00\",\"2015-04-01T00:00:00\",\"2015-05-01T00:00:00\",\"2015-06-01T00:00:00\",\"2015-07-01T00:00:00\",\"2015-08-01T00:00:00\",\"2015-09-01T00:00:00\",\"2015-10-01T00:00:00\",\"2015-11-01T00:00:00\",\"2015-12-01T00:00:00\",\"2016-01-01T00:00:00\",\"2016-02-01T00:00:00\",\"2016-03-01T00:00:00\",\"2016-04-01T00:00:00\",\"2016-05-01T00:00:00\",\"2016-06-01T00:00:00\",\"2016-07-01T00:00:00\",\"2016-08-01T00:00:00\",\"2016-09-01T00:00:00\",\"2016-10-01T00:00:00\",\"2016-11-01T00:00:00\",\"2016-12-01T00:00:00\",\"2017-01-01T00:00:00\",\"2017-02-01T00:00:00\",\"2017-03-01T00:00:00\",\"2017-04-01T00:00:00\",\"2017-05-01T00:00:00\",\"2017-06-01T00:00:00\",\"2017-07-01T00:00:00\",\"2017-08-01T00:00:00\",\"2017-09-01T00:00:00\",\"2017-10-01T00:00:00\",\"2017-11-01T00:00:00\",\"2017-12-01T00:00:00\",\"2018-01-01T00:00:00\",\"2018-02-01T00:00:00\",\"2018-03-01T00:00:00\",\"2018-04-01T00:00:00\",\"2018-05-01T00:00:00\",\"2018-06-01T00:00:00\",\"2018-07-01T00:00:00\",\"2018-08-01T00:00:00\",\"2018-09-01T00:00:00\",\"2018-10-01T00:00:00\",\"2018-11-01T00:00:00\",\"2018-12-01T00:00:00\",\"2019-01-01T00:00:00\",\"2019-02-01T00:00:00\",\"2019-03-01T00:00:00\",\"2019-04-01T00:00:00\",\"2019-05-01T00:00:00\",\"2019-06-01T00:00:00\",\"2019-07-01T00:00:00\",\"2019-08-01T00:00:00\",\"2019-09-01T00:00:00\",\"2019-10-01T00:00:00\",\"2019-11-01T00:00:00\",\"2019-12-01T00:00:00\",\"2020-01-01T00:00:00\",\"2020-02-01T00:00:00\",\"2020-03-01T00:00:00\",\"2020-04-01T00:00:00\",\"2020-05-01T00:00:00\",\"2020-06-01T00:00:00\",\"2020-07-01T00:00:00\",\"2020-08-01T00:00:00\",\"2020-09-01T00:00:00\",\"2020-10-01T00:00:00\",\"2020-11-01T00:00:00\",\"2020-12-01T00:00:00\",\"2021-01-01T00:00:00\",\"2021-02-01T00:00:00\",\"2021-03-01T00:00:00\",\"2021-04-01T00:00:00\",\"2021-05-01T00:00:00\",\"2021-06-01T00:00:00\",\"2021-07-01T00:00:00\",\"2021-08-01T00:00:00\",\"2021-09-01T00:00:00\",\"2021-10-01T00:00:00\",\"2021-11-01T00:00:00\",\"2021-12-01T00:00:00\",\"2022-01-01T00:00:00\",\"2022-02-01T00:00:00\",\"2022-03-01T00:00:00\",\"2022-04-01T00:00:00\",\"2022-05-01T00:00:00\",\"2022-06-01T00:00:00\",\"2022-07-01T00:00:00\",\"2022-08-01T00:00:00\",\"2022-09-01T00:00:00\",\"2022-10-01T00:00:00\",\"2022-11-01T00:00:00\",\"2022-12-01T00:00:00\",\"2023-01-01T00:00:00\",\"2023-02-01T00:00:00\",\"2023-03-01T00:00:00\",\"2023-04-01T00:00:00\",\"2023-05-01T00:00:00\",\"2023-06-01T00:00:00\"],\"y\":[3338.2999999999884,3338.2999999999884,3948.399999999994,2742.399999999994,-6971.299999999988,2090.7999999999884,1825.6000000000058,6397.5,-3488.100000000006,820.1000000000058,-5797.899999999994,12736.399999999994,-3098.0,3810.899999999994,2805.4000000000233,-2504.5,-2202.7000000000116,4533.299999999988,-8254.699999999983,4892.1999999999825,-4709.099999999977,-1086.2000000000116,-855.5,-74.70000000001164,10305.600000000006,-5087.100000000006,-1305.6999999999825,2830.0,-265.20000000001164,-9229.799999999988,-175.0,3820.600000000006,-1238.9000000000233,-353.0,-5245.299999999988,-3844.5,10870.0,8123.700000000012,3174.6999999999825,683.6000000000058,-1512.5,2517.100000000006,4824.299999999988,2650.399999999994,6362.900000000023,12963.599999999977,-2392.6999999999825,1823.3999999999942,-16505.79999999999,36963.29999999999,2323.899999999994,3136.5,2038.0,-822.7999999999884,5855.5,6975.1999999999825,13845.200000000012,4409.600000000006,-2341.7000000000116,13863.899999999994,1997.9000000000233,-3396.9000000000233,12495.900000000023,8035.899999999965,-3507.0999999999767,16059.200000000012,7982.5,8422.700000000012,19034.899999999965,1961.9000000000233,-10712.400000000023,14588.799999999988,-26822.399999999965,38060.70000000001,15370.599999999977,1516.7999999999884,242.60000000003492,-10321.5,26572.699999999953,4710.5,7848.700000000012,-23138.399999999965,2123.7999999999884,22064.79999999999,-8022.700000000012,22088.900000000023,-31870.100000000035,50625.40000000002,-1466.5999999999767,15264.599999999977,-384.5999999999767,6569.199999999953,13560.900000000023,-3372.0,4397.599999999977,670.3000000000466,-9746.600000000035,37951.20000000001,-7656.200000000012,-12441.099999999977,-1768.100000000035,-19163.399999999965,-2179.7999999999884,-2735.7000000000116,4612.899999999965,-7070.199999999953,9554.299999999988,-265.29999999998836,-49122.5,36886.79999999999,-28370.5,10937.700000000012,-4583.200000000012,-9873.900000000023,2838.2999999999884,-4081.0999999999767,9381.799999999988,4318.900000000023,-9326.5,-14266.700000000012,22448.5,13021.700000000012,-7341.299999999988,2243.899999999965,18714.20000000001,-2742.7999999999884,13127.299999999988,3925.9000000000233,20295.0,17236.199999999953,-7790.399999999965,32756.0,2994.5999999999767,23134.00000000006,-20595.20000000007,-2477.399999999965,-18587.20000000001,13697.400000000023,48943.29999999993,-28671.199999999953,25956.300000000047,2971.1999999999534,28361.099999999977,-12867.0,-19074.0,9034.099999999977,24502.100000000093,-11188.600000000093,-9626.0,-1652.2999999999302,-17811.800000000047,52123.30000000005,-5643.70000000007,-29376.099999999977,18992.099999999977,-51016.09999999998,-3112.1999999999534,-11056.0,-56593.30000000005,-152371.69999999995,129340.39999999997,23161.900000000023,-30913.100000000035,-15115.399999999965,-22917.100000000035,44184.80000000005,-24466.800000000047,-7665.799999999988,-113062.0,99401.90000000002,-5141.700000000012,1037.2000000000116,-15045.0,-7077.799999999988,-2597.3000000000466,19303.100000000035,1209.2000000000116,-9524.800000000047,7019.900000000023,-9205.299999999988,-20458.600000000035,47211.100000000035,-16.5,-3468.5,-4337.700000000012,-13934.299999999988,7309.799999999988,-14107.700000000012,14334.100000000035,15120.799999999988,-32889.600000000035,45688.90000000002,-10579.0,12507.099999999977,11907.0,9374.0,5083.400000000023],\"type\":\"scatter\"}],                        {\"template\":{\"data\":{\"histogram2dcontour\":[{\"type\":\"histogram2dcontour\",\"colorbar\":{\"outlinewidth\":0,\"ticks\":\"\"},\"colorscale\":[[0.0,\"#0d0887\"],[0.1111111111111111,\"#46039f\"],[0.2222222222222222,\"#7201a8\"],[0.3333333333333333,\"#9c179e\"],[0.4444444444444444,\"#bd3786\"],[0.5555555555555556,\"#d8576b\"],[0.6666666666666666,\"#ed7953\"],[0.7777777777777778,\"#fb9f3a\"],[0.8888888888888888,\"#fdca26\"],[1.0,\"#f0f921\"]]}],\"choropleth\":[{\"type\":\"choropleth\",\"colorbar\":{\"outlinewidth\":0,\"ticks\":\"\"}}],\"histogram2d\":[{\"type\":\"histogram2d\",\"colorbar\":{\"outlinewidth\":0,\"ticks\":\"\"},\"colorscale\":[[0.0,\"#0d0887\"],[0.1111111111111111,\"#46039f\"],[0.2222222222222222,\"#7201a8\"],[0.3333333333333333,\"#9c179e\"],[0.4444444444444444,\"#bd3786\"],[0.5555555555555556,\"#d8576b\"],[0.6666666666666666,\"#ed7953\"],[0.7777777777777778,\"#fb9f3a\"],[0.8888888888888888,\"#fdca26\"],[1.0,\"#f0f921\"]]}],\"heatmap\":[{\"type\":\"heatmap\",\"colorbar\":{\"outlinewidth\":0,\"ticks\":\"\"},\"colorscale\":[[0.0,\"#0d0887\"],[0.1111111111111111,\"#46039f\"],[0.2222222222222222,\"#7201a8\"],[0.3333333333333333,\"#9c179e\"],[0.4444444444444444,\"#bd3786\"],[0.5555555555555556,\"#d8576b\"],[0.6666666666666666,\"#ed7953\"],[0.7777777777777778,\"#fb9f3a\"],[0.8888888888888888,\"#fdca26\"],[1.0,\"#f0f921\"]]}],\"heatmapgl\":[{\"type\":\"heatmapgl\",\"colorbar\":{\"outlinewidth\":0,\"ticks\":\"\"},\"colorscale\":[[0.0,\"#0d0887\"],[0.1111111111111111,\"#46039f\"],[0.2222222222222222,\"#7201a8\"],[0.3333333333333333,\"#9c179e\"],[0.4444444444444444,\"#bd3786\"],[0.5555555555555556,\"#d8576b\"],[0.6666666666666666,\"#ed7953\"],[0.7777777777777778,\"#fb9f3a\"],[0.8888888888888888,\"#fdca26\"],[1.0,\"#f0f921\"]]}],\"contourcarpet\":[{\"type\":\"contourcarpet\",\"colorbar\":{\"outlinewidth\":0,\"ticks\":\"\"}}],\"contour\":[{\"type\":\"contour\",\"colorbar\":{\"outlinewidth\":0,\"ticks\":\"\"},\"colorscale\":[[0.0,\"#0d0887\"],[0.1111111111111111,\"#46039f\"],[0.2222222222222222,\"#7201a8\"],[0.3333333333333333,\"#9c179e\"],[0.4444444444444444,\"#bd3786\"],[0.5555555555555556,\"#d8576b\"],[0.6666666666666666,\"#ed7953\"],[0.7777777777777778,\"#fb9f3a\"],[0.8888888888888888,\"#fdca26\"],[1.0,\"#f0f921\"]]}],\"surface\":[{\"type\":\"surface\",\"colorbar\":{\"outlinewidth\":0,\"ticks\":\"\"},\"colorscale\":[[0.0,\"#0d0887\"],[0.1111111111111111,\"#46039f\"],[0.2222222222222222,\"#7201a8\"],[0.3333333333333333,\"#9c179e\"],[0.4444444444444444,\"#bd3786\"],[0.5555555555555556,\"#d8576b\"],[0.6666666666666666,\"#ed7953\"],[0.7777777777777778,\"#fb9f3a\"],[0.8888888888888888,\"#fdca26\"],[1.0,\"#f0f921\"]]}],\"mesh3d\":[{\"type\":\"mesh3d\",\"colorbar\":{\"outlinewidth\":0,\"ticks\":\"\"}}],\"scatter\":[{\"fillpattern\":{\"fillmode\":\"overlay\",\"size\":10,\"solidity\":0.2},\"type\":\"scatter\"}],\"parcoords\":[{\"type\":\"parcoords\",\"line\":{\"colorbar\":{\"outlinewidth\":0,\"ticks\":\"\"}}}],\"scatterpolargl\":[{\"type\":\"scatterpolargl\",\"marker\":{\"colorbar\":{\"outlinewidth\":0,\"ticks\":\"\"}}}],\"bar\":[{\"error_x\":{\"color\":\"#2a3f5f\"},\"error_y\":{\"color\":\"#2a3f5f\"},\"marker\":{\"line\":{\"color\":\"#E5ECF6\",\"width\":0.5},\"pattern\":{\"fillmode\":\"overlay\",\"size\":10,\"solidity\":0.2}},\"type\":\"bar\"}],\"scattergeo\":[{\"type\":\"scattergeo\",\"marker\":{\"colorbar\":{\"outlinewidth\":0,\"ticks\":\"\"}}}],\"scatterpolar\":[{\"type\":\"scatterpolar\",\"marker\":{\"colorbar\":{\"outlinewidth\":0,\"ticks\":\"\"}}}],\"histogram\":[{\"marker\":{\"pattern\":{\"fillmode\":\"overlay\",\"size\":10,\"solidity\":0.2}},\"type\":\"histogram\"}],\"scattergl\":[{\"type\":\"scattergl\",\"marker\":{\"colorbar\":{\"outlinewidth\":0,\"ticks\":\"\"}}}],\"scatter3d\":[{\"type\":\"scatter3d\",\"line\":{\"colorbar\":{\"outlinewidth\":0,\"ticks\":\"\"}},\"marker\":{\"colorbar\":{\"outlinewidth\":0,\"ticks\":\"\"}}}],\"scattermapbox\":[{\"type\":\"scattermapbox\",\"marker\":{\"colorbar\":{\"outlinewidth\":0,\"ticks\":\"\"}}}],\"scatterternary\":[{\"type\":\"scatterternary\",\"marker\":{\"colorbar\":{\"outlinewidth\":0,\"ticks\":\"\"}}}],\"scattercarpet\":[{\"type\":\"scattercarpet\",\"marker\":{\"colorbar\":{\"outlinewidth\":0,\"ticks\":\"\"}}}],\"carpet\":[{\"aaxis\":{\"endlinecolor\":\"#2a3f5f\",\"gridcolor\":\"white\",\"linecolor\":\"white\",\"minorgridcolor\":\"white\",\"startlinecolor\":\"#2a3f5f\"},\"baxis\":{\"endlinecolor\":\"#2a3f5f\",\"gridcolor\":\"white\",\"linecolor\":\"white\",\"minorgridcolor\":\"white\",\"startlinecolor\":\"#2a3f5f\"},\"type\":\"carpet\"}],\"table\":[{\"cells\":{\"fill\":{\"color\":\"#EBF0F8\"},\"line\":{\"color\":\"white\"}},\"header\":{\"fill\":{\"color\":\"#C8D4E3\"},\"line\":{\"color\":\"white\"}},\"type\":\"table\"}],\"barpolar\":[{\"marker\":{\"line\":{\"color\":\"#E5ECF6\",\"width\":0.5},\"pattern\":{\"fillmode\":\"overlay\",\"size\":10,\"solidity\":0.2}},\"type\":\"barpolar\"}],\"pie\":[{\"automargin\":true,\"type\":\"pie\"}]},\"layout\":{\"autotypenumbers\":\"strict\",\"colorway\":[\"#636efa\",\"#EF553B\",\"#00cc96\",\"#ab63fa\",\"#FFA15A\",\"#19d3f3\",\"#FF6692\",\"#B6E880\",\"#FF97FF\",\"#FECB52\"],\"font\":{\"color\":\"#2a3f5f\"},\"hovermode\":\"closest\",\"hoverlabel\":{\"align\":\"left\"},\"paper_bgcolor\":\"white\",\"plot_bgcolor\":\"#E5ECF6\",\"polar\":{\"bgcolor\":\"#E5ECF6\",\"angularaxis\":{\"gridcolor\":\"white\",\"linecolor\":\"white\",\"ticks\":\"\"},\"radialaxis\":{\"gridcolor\":\"white\",\"linecolor\":\"white\",\"ticks\":\"\"}},\"ternary\":{\"bgcolor\":\"#E5ECF6\",\"aaxis\":{\"gridcolor\":\"white\",\"linecolor\":\"white\",\"ticks\":\"\"},\"baxis\":{\"gridcolor\":\"white\",\"linecolor\":\"white\",\"ticks\":\"\"},\"caxis\":{\"gridcolor\":\"white\",\"linecolor\":\"white\",\"ticks\":\"\"}},\"coloraxis\":{\"colorbar\":{\"outlinewidth\":0,\"ticks\":\"\"}},\"colorscale\":{\"sequential\":[[0.0,\"#0d0887\"],[0.1111111111111111,\"#46039f\"],[0.2222222222222222,\"#7201a8\"],[0.3333333333333333,\"#9c179e\"],[0.4444444444444444,\"#bd3786\"],[0.5555555555555556,\"#d8576b\"],[0.6666666666666666,\"#ed7953\"],[0.7777777777777778,\"#fb9f3a\"],[0.8888888888888888,\"#fdca26\"],[1.0,\"#f0f921\"]],\"sequentialminus\":[[0.0,\"#0d0887\"],[0.1111111111111111,\"#46039f\"],[0.2222222222222222,\"#7201a8\"],[0.3333333333333333,\"#9c179e\"],[0.4444444444444444,\"#bd3786\"],[0.5555555555555556,\"#d8576b\"],[0.6666666666666666,\"#ed7953\"],[0.7777777777777778,\"#fb9f3a\"],[0.8888888888888888,\"#fdca26\"],[1.0,\"#f0f921\"]],\"diverging\":[[0,\"#8e0152\"],[0.1,\"#c51b7d\"],[0.2,\"#de77ae\"],[0.3,\"#f1b6da\"],[0.4,\"#fde0ef\"],[0.5,\"#f7f7f7\"],[0.6,\"#e6f5d0\"],[0.7,\"#b8e186\"],[0.8,\"#7fbc41\"],[0.9,\"#4d9221\"],[1,\"#276419\"]]},\"xaxis\":{\"gridcolor\":\"white\",\"linecolor\":\"white\",\"ticks\":\"\",\"title\":{\"standoff\":15},\"zerolinecolor\":\"white\",\"automargin\":true,\"zerolinewidth\":2},\"yaxis\":{\"gridcolor\":\"white\",\"linecolor\":\"white\",\"ticks\":\"\",\"title\":{\"standoff\":15},\"zerolinecolor\":\"white\",\"automargin\":true,\"zerolinewidth\":2},\"scene\":{\"xaxis\":{\"backgroundcolor\":\"#E5ECF6\",\"gridcolor\":\"white\",\"linecolor\":\"white\",\"showbackground\":true,\"ticks\":\"\",\"zerolinecolor\":\"white\",\"gridwidth\":2},\"yaxis\":{\"backgroundcolor\":\"#E5ECF6\",\"gridcolor\":\"white\",\"linecolor\":\"white\",\"showbackground\":true,\"ticks\":\"\",\"zerolinecolor\":\"white\",\"gridwidth\":2},\"zaxis\":{\"backgroundcolor\":\"#E5ECF6\",\"gridcolor\":\"white\",\"linecolor\":\"white\",\"showbackground\":true,\"ticks\":\"\",\"zerolinecolor\":\"white\",\"gridwidth\":2}},\"shapedefaults\":{\"line\":{\"color\":\"#2a3f5f\"}},\"annotationdefaults\":{\"arrowcolor\":\"#2a3f5f\",\"arrowhead\":0,\"arrowwidth\":1},\"geo\":{\"bgcolor\":\"white\",\"landcolor\":\"#E5ECF6\",\"subunitcolor\":\"white\",\"showland\":true,\"showlakes\":true,\"lakecolor\":\"white\"},\"title\":{\"x\":0.05},\"mapbox\":{\"style\":\"light\"}}},\"title\":{\"text\":\"Sample Line Plot\"},\"xaxis\":{\"title\":{\"text\":\"X-axis\"}},\"yaxis\":{\"title\":{\"text\":\"Y-axis\"}}},                        {\"responsive\": true}                    ).then(function(){\n",
              "                            \n",
              "var gd = document.getElementById('b55c8053-c3e2-4ead-a3a2-7187467c984e');\n",
              "var x = new MutationObserver(function (mutations, observer) {{\n",
              "        var display = window.getComputedStyle(gd).display;\n",
              "        if (!display || display === 'none') {{\n",
              "            console.log([gd, 'removed!']);\n",
              "            Plotly.purge(gd);\n",
              "            observer.disconnect();\n",
              "        }}\n",
              "}});\n",
              "\n",
              "// Listen for the removal of the full notebook cells\n",
              "var notebookContainer = gd.closest('#notebook-container');\n",
              "if (notebookContainer) {{\n",
              "    x.observe(notebookContainer, {childList: true});\n",
              "}}\n",
              "\n",
              "// Listen for the clearing of the current output cell\n",
              "var outputEl = gd.closest('.output');\n",
              "if (outputEl) {{\n",
              "    x.observe(outputEl, {childList: true});\n",
              "}}\n",
              "\n",
              "                        })                };                            </script>        </div>\n",
              "</body>\n",
              "</html>"
            ]
          },
          "metadata": {}
        }
      ]
    },
    {
      "cell_type": "code",
      "source": [],
      "metadata": {
        "id": "gmwg5qfVm_Od"
      },
      "execution_count": null,
      "outputs": []
    }
  ]
}