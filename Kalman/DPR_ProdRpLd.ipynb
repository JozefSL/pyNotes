{
  "nbformat": 4,
  "nbformat_minor": 0,
  "metadata": {
    "colab": {
      "provenance": [],
      "include_colab_link": true
    },
    "kernelspec": {
      "name": "python3",
      "display_name": "Python 3"
    },
    "language_info": {
      "name": "python"
    },
    "widgets": {
      "application/vnd.jupyter.widget-state+json": {
        "d5b4f14fd0e64a428a6d9b20a807b1d0": {
          "model_module": "@jupyter-widgets/controls",
          "model_name": "DropdownModel",
          "model_module_version": "1.5.0",
          "state": {
            "_dom_classes": [],
            "_model_module": "@jupyter-widgets/controls",
            "_model_module_version": "1.5.0",
            "_model_name": "DropdownModel",
            "_options_labels": [
              "Anadarko Region",
              "Bakken Region",
              "Eagle Ford Region",
              "Niobrara Region",
              "Permian Region",
              "Marcellus Region",
              "Utica Region",
              "Appalachia Region",
              "Haynesville Region"
            ],
            "_view_count": null,
            "_view_module": "@jupyter-widgets/controls",
            "_view_module_version": "1.5.0",
            "_view_name": "DropdownView",
            "description": "DPR_Region:",
            "description_tooltip": null,
            "disabled": false,
            "index": 4,
            "layout": "IPY_MODEL_f4f0401423d74ce08c31cf269be68839",
            "style": "IPY_MODEL_a4aba61abdfd4a879d9616e60768d141"
          }
        },
        "f4f0401423d74ce08c31cf269be68839": {
          "model_module": "@jupyter-widgets/base",
          "model_name": "LayoutModel",
          "model_module_version": "1.2.0",
          "state": {
            "_model_module": "@jupyter-widgets/base",
            "_model_module_version": "1.2.0",
            "_model_name": "LayoutModel",
            "_view_count": null,
            "_view_module": "@jupyter-widgets/base",
            "_view_module_version": "1.2.0",
            "_view_name": "LayoutView",
            "align_content": null,
            "align_items": null,
            "align_self": null,
            "border": null,
            "bottom": null,
            "display": null,
            "flex": null,
            "flex_flow": null,
            "grid_area": null,
            "grid_auto_columns": null,
            "grid_auto_flow": null,
            "grid_auto_rows": null,
            "grid_column": null,
            "grid_gap": null,
            "grid_row": null,
            "grid_template_areas": null,
            "grid_template_columns": null,
            "grid_template_rows": null,
            "height": null,
            "justify_content": null,
            "justify_items": null,
            "left": null,
            "margin": null,
            "max_height": null,
            "max_width": null,
            "min_height": null,
            "min_width": null,
            "object_fit": null,
            "object_position": null,
            "order": null,
            "overflow": null,
            "overflow_x": null,
            "overflow_y": null,
            "padding": null,
            "right": null,
            "top": null,
            "visibility": null,
            "width": null
          }
        },
        "a4aba61abdfd4a879d9616e60768d141": {
          "model_module": "@jupyter-widgets/controls",
          "model_name": "DescriptionStyleModel",
          "model_module_version": "1.5.0",
          "state": {
            "_model_module": "@jupyter-widgets/controls",
            "_model_module_version": "1.5.0",
            "_model_name": "DescriptionStyleModel",
            "_view_count": null,
            "_view_module": "@jupyter-widgets/base",
            "_view_module_version": "1.2.0",
            "_view_name": "StyleView",
            "description_width": ""
          }
        },
        "52df1baa223f4d52bba16e12834fbf2e": {
          "model_module": "@jupyter-widgets/controls",
          "model_name": "DropdownModel",
          "model_module_version": "1.5.0",
          "state": {
            "_dom_classes": [],
            "_model_module": "@jupyter-widgets/controls",
            "_model_module_version": "1.5.0",
            "_model_name": "DropdownModel",
            "_options_labels": [
              "oil",
              "gas"
            ],
            "_view_count": null,
            "_view_module": "@jupyter-widgets/controls",
            "_view_module_version": "1.5.0",
            "_view_name": "DropdownView",
            "description": "DPR_Com:",
            "description_tooltip": null,
            "disabled": false,
            "index": 0,
            "layout": "IPY_MODEL_fc71ee92e5f94afd836553bba2295c95",
            "style": "IPY_MODEL_b08d337fec584ced93c9798bf4e58460"
          }
        },
        "fc71ee92e5f94afd836553bba2295c95": {
          "model_module": "@jupyter-widgets/base",
          "model_name": "LayoutModel",
          "model_module_version": "1.2.0",
          "state": {
            "_model_module": "@jupyter-widgets/base",
            "_model_module_version": "1.2.0",
            "_model_name": "LayoutModel",
            "_view_count": null,
            "_view_module": "@jupyter-widgets/base",
            "_view_module_version": "1.2.0",
            "_view_name": "LayoutView",
            "align_content": null,
            "align_items": null,
            "align_self": null,
            "border": null,
            "bottom": null,
            "display": null,
            "flex": null,
            "flex_flow": null,
            "grid_area": null,
            "grid_auto_columns": null,
            "grid_auto_flow": null,
            "grid_auto_rows": null,
            "grid_column": null,
            "grid_gap": null,
            "grid_row": null,
            "grid_template_areas": null,
            "grid_template_columns": null,
            "grid_template_rows": null,
            "height": null,
            "justify_content": null,
            "justify_items": null,
            "left": null,
            "margin": null,
            "max_height": null,
            "max_width": null,
            "min_height": null,
            "min_width": null,
            "object_fit": null,
            "object_position": null,
            "order": null,
            "overflow": null,
            "overflow_x": null,
            "overflow_y": null,
            "padding": null,
            "right": null,
            "top": null,
            "visibility": null,
            "width": null
          }
        },
        "b08d337fec584ced93c9798bf4e58460": {
          "model_module": "@jupyter-widgets/controls",
          "model_name": "DescriptionStyleModel",
          "model_module_version": "1.5.0",
          "state": {
            "_model_module": "@jupyter-widgets/controls",
            "_model_module_version": "1.5.0",
            "_model_name": "DescriptionStyleModel",
            "_view_count": null,
            "_view_module": "@jupyter-widgets/base",
            "_view_module_version": "1.2.0",
            "_view_name": "StyleView",
            "description_width": ""
          }
        }
      }
    }
  },
  "cells": [
    {
      "cell_type": "markdown",
      "metadata": {
        "id": "view-in-github",
        "colab_type": "text"
      },
      "source": [
        "<a href=\"https://colab.research.google.com/github/JozefSL/pyNotes/blob/main/Kalman/DPR_ProdRpLd.ipynb\" target=\"_parent\"><img src=\"https://colab.research.google.com/assets/colab-badge.svg\" alt=\"Open In Colab\"/></a>"
      ]
    },
    {
      "cell_type": "code",
      "source": [
        "#@title Install filterpy and restart runtime\n",
        "# this command hides the cell output\n",
        "%%capture\n",
        "!pip install filterpy\n",
        "import os\n",
        "#os.kill(os.getpid(),9)"
      ],
      "metadata": {
        "id": "sMgNP5PbyP4a"
      },
      "execution_count": 1,
      "outputs": []
    },
    {
      "cell_type": "code",
      "execution_count": 2,
      "metadata": {
        "id": "g4aMVLxYyKO-",
        "cellView": "form"
      },
      "outputs": [],
      "source": [
        "#@title Import packages from Google and get EIA logo\n",
        "import numpy as np\n",
        "import pandas as pd\n",
        "from filterpy.kalman import KalmanFilter\n",
        "from filterpy.common import Q_discrete_white_noise\n",
        "from filterpy.stats import plot_covariance_ellipse\n",
        "from filterpy.kalman import predict\n",
        "from filterpy.kalman import update\n",
        "import plotly.express as px\n",
        "import plotly.graph_objects as go\n",
        "from sklearn.metrics import r2_score \n",
        "import ipywidgets as widgets\n",
        "\n",
        "eiaLgFile = \"https://upload.wikimedia.org/wikipedia/commons/thumb/4/49/Eia-logomark.svg/640px-Eia-logomark.svg.png\"\n",
        "eiaLogo = [dict(source = eiaLgFile,\n",
        "                       x=1.06, y=-0.06,\n",
        "                       sizex=0.15, sizey=0.15,\n",
        "                       xanchor=\"center\", yanchor=\"bottom\")]\n"
      ]
    },
    {
      "cell_type": "code",
      "source": [
        "#@title Select DPR Region \n",
        "dprRegions = ['Anadarko Region','Bakken Region','Eagle Ford Region','Niobrara Region','Permian Region', 'Marcellus Region','Utica Region','Appalachia Region','Haynesville Region']\n",
        "dprR = widgets.Dropdown(options=dprRegions, description='DPR_Region:', disabled=False)\n",
        "dprR"
      ],
      "metadata": {
        "colab": {
          "base_uri": "https://localhost:8080/",
          "height": 49,
          "referenced_widgets": [
            "d5b4f14fd0e64a428a6d9b20a807b1d0",
            "f4f0401423d74ce08c31cf269be68839",
            "a4aba61abdfd4a879d9616e60768d141"
          ]
        },
        "id": "g2GuXZTTj1UL",
        "outputId": "ad5bce68-4f1f-4116-e998-49c015c44209"
      },
      "execution_count": 3,
      "outputs": [
        {
          "output_type": "display_data",
          "data": {
            "text/plain": [
              "Dropdown(description='DPR_Region:', options=('Anadarko Region', 'Bakken Region', 'Eagle Ford Region', 'Niobrar…"
            ],
            "application/vnd.jupyter.widget-view+json": {
              "version_major": 2,
              "version_minor": 0,
              "model_id": "d5b4f14fd0e64a428a6d9b20a807b1d0"
            }
          },
          "metadata": {}
        }
      ]
    },
    {
      "cell_type": "code",
      "source": [
        "#@title Select oil or gas commodity \n",
        "dprCommodity = ['oil','gas']\n",
        "dprC = widgets.Dropdown(options=dprCommodity, description='DPR_Com:', disabled=False)\n",
        "dprC"
      ],
      "metadata": {
        "id": "itxLuCYp29DJ",
        "outputId": "c0b7f388-6147-4f52-e7ce-b53fd3fed915",
        "colab": {
          "base_uri": "https://localhost:8080/",
          "height": 49,
          "referenced_widgets": [
            "52df1baa223f4d52bba16e12834fbf2e",
            "fc71ee92e5f94afd836553bba2295c95",
            "b08d337fec584ced93c9798bf4e58460"
          ]
        }
      },
      "execution_count": 16,
      "outputs": [
        {
          "output_type": "display_data",
          "data": {
            "text/plain": [
              "Dropdown(description='DPR_Com:', options=('oil', 'gas'), value='oil')"
            ],
            "application/vnd.jupyter.widget-view+json": {
              "version_major": 2,
              "version_minor": 0,
              "model_id": "52df1baa223f4d52bba16e12834fbf2e"
            }
          },
          "metadata": {}
        }
      ]
    },
    {
      "cell_type": "code",
      "source": [
        "dprC.value"
      ],
      "metadata": {
        "id": "Ed47uE2v5BGr",
        "outputId": "5f269ebd-0aaa-4386-f132-1029af7c4d1f",
        "colab": {
          "base_uri": "https://localhost:8080/",
          "height": 35
        }
      },
      "execution_count": 5,
      "outputs": [
        {
          "output_type": "execute_result",
          "data": {
            "text/plain": [
              "'oil'"
            ],
            "application/vnd.google.colaboratory.intrinsic+json": {
              "type": "string"
            }
          },
          "metadata": {},
          "execution_count": 5
        }
      ]
    },
    {
      "cell_type": "code",
      "source": [
        "#@title Import rig and production data from the DPR region\n",
        "file = r\"https://www.eia.gov/petroleum/drilling/xls/dpr-data.xlsx\"\n",
        "data = pd.read_excel(file, sheet_name=dprR.value, skiprows=2, usecols=[0,1,4,7]) #index_col=0, , nrows=numRows)\n",
        "data.columns = ['Month', 'BH','PRo' ,'PRg']\n",
        "#data.head(4)\n",
        "data['BH2MF'] = data['BH'].shift(2)\n",
        "data['dPRo'] = data['PRo'].diff()\n",
        "data['dPRg'] = data['PRg'].diff()\n",
        "data['dBH2MF'] = data['BH2MF'].diff()\n",
        "data = data.fillna(method=\"backfill\")\n",
        "data = data.fillna(method=\"ffill\")\n",
        "data.tail()"
      ],
      "metadata": {
        "colab": {
          "base_uri": "https://localhost:8080/",
          "height": 206
        },
        "id": "yUxdJkyrkf5c",
        "outputId": "d05302f9-a0ad-406b-f77b-6d8925b92da7"
      },
      "execution_count": 17,
      "outputs": [
        {
          "output_type": "execute_result",
          "data": {
            "text/plain": [
              "         Month     BH        PRo         PRg  BH2MF     dPRo      dPRg  dBH2MF\n",
              "192 2023-02-01  353.0  5626577.4  22185961.5  350.0 -25557.8  182727.1     1.0\n",
              "193 2023-03-01  349.0  5657159.5  22296564.3  355.0  30582.1  110602.8     5.0\n",
              "194 2023-04-01  356.0  5679653.1  22392282.6  353.0  22493.6   95718.3    -2.0\n",
              "195 2023-05-01  356.0  5692375.9  22469627.6  349.0  12722.8   77345.0    -4.0\n",
              "196 2023-06-01  356.0  5707466.3  22551532.1  356.0  15090.4   81904.5     7.0"
            ],
            "text/html": [
              "\n",
              "  <div id=\"df-6d9c9e32-e336-46fb-ac7e-16ee5d17d147\">\n",
              "    <div class=\"colab-df-container\">\n",
              "      <div>\n",
              "<style scoped>\n",
              "    .dataframe tbody tr th:only-of-type {\n",
              "        vertical-align: middle;\n",
              "    }\n",
              "\n",
              "    .dataframe tbody tr th {\n",
              "        vertical-align: top;\n",
              "    }\n",
              "\n",
              "    .dataframe thead th {\n",
              "        text-align: right;\n",
              "    }\n",
              "</style>\n",
              "<table border=\"1\" class=\"dataframe\">\n",
              "  <thead>\n",
              "    <tr style=\"text-align: right;\">\n",
              "      <th></th>\n",
              "      <th>Month</th>\n",
              "      <th>BH</th>\n",
              "      <th>PRo</th>\n",
              "      <th>PRg</th>\n",
              "      <th>BH2MF</th>\n",
              "      <th>dPRo</th>\n",
              "      <th>dPRg</th>\n",
              "      <th>dBH2MF</th>\n",
              "    </tr>\n",
              "  </thead>\n",
              "  <tbody>\n",
              "    <tr>\n",
              "      <th>192</th>\n",
              "      <td>2023-02-01</td>\n",
              "      <td>353.0</td>\n",
              "      <td>5626577.4</td>\n",
              "      <td>22185961.5</td>\n",
              "      <td>350.0</td>\n",
              "      <td>-25557.8</td>\n",
              "      <td>182727.1</td>\n",
              "      <td>1.0</td>\n",
              "    </tr>\n",
              "    <tr>\n",
              "      <th>193</th>\n",
              "      <td>2023-03-01</td>\n",
              "      <td>349.0</td>\n",
              "      <td>5657159.5</td>\n",
              "      <td>22296564.3</td>\n",
              "      <td>355.0</td>\n",
              "      <td>30582.1</td>\n",
              "      <td>110602.8</td>\n",
              "      <td>5.0</td>\n",
              "    </tr>\n",
              "    <tr>\n",
              "      <th>194</th>\n",
              "      <td>2023-04-01</td>\n",
              "      <td>356.0</td>\n",
              "      <td>5679653.1</td>\n",
              "      <td>22392282.6</td>\n",
              "      <td>353.0</td>\n",
              "      <td>22493.6</td>\n",
              "      <td>95718.3</td>\n",
              "      <td>-2.0</td>\n",
              "    </tr>\n",
              "    <tr>\n",
              "      <th>195</th>\n",
              "      <td>2023-05-01</td>\n",
              "      <td>356.0</td>\n",
              "      <td>5692375.9</td>\n",
              "      <td>22469627.6</td>\n",
              "      <td>349.0</td>\n",
              "      <td>12722.8</td>\n",
              "      <td>77345.0</td>\n",
              "      <td>-4.0</td>\n",
              "    </tr>\n",
              "    <tr>\n",
              "      <th>196</th>\n",
              "      <td>2023-06-01</td>\n",
              "      <td>356.0</td>\n",
              "      <td>5707466.3</td>\n",
              "      <td>22551532.1</td>\n",
              "      <td>356.0</td>\n",
              "      <td>15090.4</td>\n",
              "      <td>81904.5</td>\n",
              "      <td>7.0</td>\n",
              "    </tr>\n",
              "  </tbody>\n",
              "</table>\n",
              "</div>\n",
              "      <button class=\"colab-df-convert\" onclick=\"convertToInteractive('df-6d9c9e32-e336-46fb-ac7e-16ee5d17d147')\"\n",
              "              title=\"Convert this dataframe to an interactive table.\"\n",
              "              style=\"display:none;\">\n",
              "        \n",
              "  <svg xmlns=\"http://www.w3.org/2000/svg\" height=\"24px\"viewBox=\"0 0 24 24\"\n",
              "       width=\"24px\">\n",
              "    <path d=\"M0 0h24v24H0V0z\" fill=\"none\"/>\n",
              "    <path d=\"M18.56 5.44l.94 2.06.94-2.06 2.06-.94-2.06-.94-.94-2.06-.94 2.06-2.06.94zm-11 1L8.5 8.5l.94-2.06 2.06-.94-2.06-.94L8.5 2.5l-.94 2.06-2.06.94zm10 10l.94 2.06.94-2.06 2.06-.94-2.06-.94-.94-2.06-.94 2.06-2.06.94z\"/><path d=\"M17.41 7.96l-1.37-1.37c-.4-.4-.92-.59-1.43-.59-.52 0-1.04.2-1.43.59L10.3 9.45l-7.72 7.72c-.78.78-.78 2.05 0 2.83L4 21.41c.39.39.9.59 1.41.59.51 0 1.02-.2 1.41-.59l7.78-7.78 2.81-2.81c.8-.78.8-2.07 0-2.86zM5.41 20L4 18.59l7.72-7.72 1.47 1.35L5.41 20z\"/>\n",
              "  </svg>\n",
              "      </button>\n",
              "      \n",
              "  <style>\n",
              "    .colab-df-container {\n",
              "      display:flex;\n",
              "      flex-wrap:wrap;\n",
              "      gap: 12px;\n",
              "    }\n",
              "\n",
              "    .colab-df-convert {\n",
              "      background-color: #E8F0FE;\n",
              "      border: none;\n",
              "      border-radius: 50%;\n",
              "      cursor: pointer;\n",
              "      display: none;\n",
              "      fill: #1967D2;\n",
              "      height: 32px;\n",
              "      padding: 0 0 0 0;\n",
              "      width: 32px;\n",
              "    }\n",
              "\n",
              "    .colab-df-convert:hover {\n",
              "      background-color: #E2EBFA;\n",
              "      box-shadow: 0px 1px 2px rgba(60, 64, 67, 0.3), 0px 1px 3px 1px rgba(60, 64, 67, 0.15);\n",
              "      fill: #174EA6;\n",
              "    }\n",
              "\n",
              "    [theme=dark] .colab-df-convert {\n",
              "      background-color: #3B4455;\n",
              "      fill: #D2E3FC;\n",
              "    }\n",
              "\n",
              "    [theme=dark] .colab-df-convert:hover {\n",
              "      background-color: #434B5C;\n",
              "      box-shadow: 0px 1px 3px 1px rgba(0, 0, 0, 0.15);\n",
              "      filter: drop-shadow(0px 1px 2px rgba(0, 0, 0, 0.3));\n",
              "      fill: #FFFFFF;\n",
              "    }\n",
              "  </style>\n",
              "\n",
              "      <script>\n",
              "        const buttonEl =\n",
              "          document.querySelector('#df-6d9c9e32-e336-46fb-ac7e-16ee5d17d147 button.colab-df-convert');\n",
              "        buttonEl.style.display =\n",
              "          google.colab.kernel.accessAllowed ? 'block' : 'none';\n",
              "\n",
              "        async function convertToInteractive(key) {\n",
              "          const element = document.querySelector('#df-6d9c9e32-e336-46fb-ac7e-16ee5d17d147');\n",
              "          const dataTable =\n",
              "            await google.colab.kernel.invokeFunction('convertToInteractive',\n",
              "                                                     [key], {});\n",
              "          if (!dataTable) return;\n",
              "\n",
              "          const docLinkHtml = 'Like what you see? Visit the ' +\n",
              "            '<a target=\"_blank\" href=https://colab.research.google.com/notebooks/data_table.ipynb>data table notebook</a>'\n",
              "            + ' to learn more about interactive tables.';\n",
              "          element.innerHTML = '';\n",
              "          dataTable['output_type'] = 'display_data';\n",
              "          await google.colab.output.renderOutput(dataTable, element);\n",
              "          const docLink = document.createElement('div');\n",
              "          docLink.innerHTML = docLinkHtml;\n",
              "          element.appendChild(docLink);\n",
              "        }\n",
              "      </script>\n",
              "    </div>\n",
              "  </div>\n",
              "  "
            ]
          },
          "metadata": {},
          "execution_count": 17
        }
      ]
    },
    {
      "cell_type": "code",
      "source": [
        "#@title Kalman Filter setup\n",
        "# Step units in months\n",
        "dt = 1\n",
        "\n",
        "if dprC.value == \"oil\":\n",
        "    data['PR'] = data['PRo']\n",
        "    data['dPR'] = data['dPRo']\n",
        "else:\n",
        "    data['PR'] = data['PRg']\n",
        "    data['dPR'] = data['dPRg']\n",
        "\n",
        "orv = data['PR'].iloc[0]\n",
        "orr = data['dPR'].iloc[0]\n",
        "\n",
        "# x - Origin state estimate vector\n",
        "x = np.array([orv, orr]).T\n",
        "\n",
        "# Q - Process noise matrix\n",
        "Q = Q_discrete_white_noise(dim=2, dt=1., var=.75)\n",
        "\n",
        "# P - Covariance matrix\n",
        "P = np.diag([11, 1])\n",
        "\n",
        "# R - Measurement noise matrix\n",
        "R = np.diag([33, 34])\n",
        "\n",
        "# H - Measurement function\n",
        "H = np.array([[1., 0.],\n",
        "              [0., 1.]])\n",
        "\n",
        "\n",
        "# F - State transition matrix\n",
        "F = np.array([[1., dt],\n",
        "              [0, 1]])\n",
        "\n",
        "# B - Measurement function\n",
        "B = np.array([[0.,0],\n",
        "              [0., x[1]]])\n",
        "\n",
        "# Measurements for update \n",
        "zsu = data[['PR','dPR','BH2MF','dBH2MF']].to_numpy()\n",
        "\n",
        "# System prediction \n",
        "Xp = np.empty((0,2), int)\n",
        "\n",
        "# System update\n",
        "Xu = np.empty((0,2), int)\n",
        "for zs  in zsu:\n",
        "    z = zs[0:2]\n",
        "    u = zs[2:4]\n",
        " \n",
        "    u[0]=0\n",
        "    #u[2]=0\n",
        "    #print(z)\n",
        "    x, P = predict(x=x, P=P, F=F, Q=Q, u=u, B=B, alpha=0.99)    #x, P = predict(x=x, P=P, F=F, Q=Q, u=u)\n",
        "    Xp = np.vstack([Xp, x])\n",
        "\n",
        "    x, P = update(x, P, z, R, H,)\n",
        "    Xu = np.vstack([Xu, x])\n",
        "   \n",
        "print('R^2:', r2_score(Xp[:,0], data.PR),'|| lastEstimate:', x, '|| lastRigChange:',u)  "
      ],
      "metadata": {
        "colab": {
          "base_uri": "https://localhost:8080/"
        },
        "id": "D8P_lwN-Y1c8",
        "outputId": "b2741253-b464-4596-eabe-ba9be50e6010"
      },
      "execution_count": 37,
      "outputs": [
        {
          "output_type": "stream",
          "name": "stdout",
          "text": [
            "R^2: 0.8818797210876419 || lastEstimate: [5720455.78535671    5919.70014288] || lastRigChange: [0. 7.]\n"
          ]
        }
      ]
    },
    {
      "cell_type": "code",
      "source": [
        "P"
      ],
      "metadata": {
        "colab": {
          "base_uri": "https://localhost:8080/"
        },
        "id": "hG2GQQa0Liic",
        "outputId": "a9902066-457a-44c3-d03c-8513bbada464"
      },
      "execution_count": 23,
      "outputs": [
        {
          "output_type": "execute_result",
          "data": {
            "text/plain": [
              "array([[12.37230429,  3.20635139],\n",
              "       [ 3.20635139,  2.07284919]])"
            ]
          },
          "metadata": {},
          "execution_count": 23
        }
      ]
    },
    {
      "cell_type": "code",
      "source": [
        "x[1]"
      ],
      "metadata": {
        "colab": {
          "base_uri": "https://localhost:8080/"
        },
        "id": "D15zS2rZo36M",
        "outputId": "9218aaf3-8386-4bb7-db7b-2c3d312c3cb4"
      },
      "execution_count": 30,
      "outputs": [
        {
          "output_type": "execute_result",
          "data": {
            "text/plain": [
              "24518.22670161208"
            ]
          },
          "metadata": {},
          "execution_count": 30
        }
      ]
    },
    {
      "cell_type": "code",
      "source": [
        "Xp"
      ],
      "metadata": {
        "colab": {
          "base_uri": "https://localhost:8080/"
        },
        "id": "xgTMEf3PqWd_",
        "outputId": "a91340b3-b948-40e4-d47d-b41fb0c87a8d"
      },
      "execution_count": 33,
      "outputs": [
        {
          "output_type": "execute_result",
          "data": {
            "text/plain": [
              "array([[ 8.51879000e+05, -5.39810000e+03],\n",
              "       [ 8.48056666e+05, -5.25306554e+03],\n",
              "       [ 8.44027036e+05, -5.04168299e+03],\n",
              "       [ 8.43348274e+05, -3.89286486e+03],\n",
              "       [ 8.38552746e+05, -4.26232442e+03],\n",
              "       [ 8.31311201e+05, -5.05925345e+03],\n",
              "       [ 8.33652011e+05, -3.10803316e+03],\n",
              "       [ 8.35867609e+05, -1.87979881e+03],\n",
              "       [ 8.38762475e+05, -7.98377815e+02],\n",
              "       [ 8.44038274e+05,  6.12329432e+02],\n",
              "       [ 8.51929307e+05,  2.30113420e+03],\n",
              "       [ 8.59424436e+05,  3.44146018e+03],\n",
              "       [ 8.63748311e+05,  3.53999629e+03],\n",
              "       [ 8.71205398e+05,  4.47805891e+03],\n",
              "       [ 8.75409052e+05,  4.32668253e+03],\n",
              "       [ 8.74494810e+05,  2.99711455e+03],\n",
              "       [ 8.71884480e+05,  1.67896595e+03],\n",
              "       [ 8.65114111e+05, -3.24562373e+02],\n",
              "       [ 8.71659307e+05,  1.60923540e+03],\n",
              "       [ 8.75127063e+05,  1.99434075e+03],\n",
              "       [ 8.63084656e+05, -1.59863940e+03],\n",
              "       [ 8.80670989e+05,  3.48419037e+03],\n",
              "       [ 8.96641898e+05,  6.32626908e+03],\n",
              "       [ 9.04330033e+05,  6.35417969e+03],\n",
              "       [ 9.08385975e+05,  5.66781995e+03],\n",
              "       [ 9.11618003e+05,  5.04508169e+03],\n",
              "       [ 9.09619980e+05,  3.29490024e+03],\n",
              "       [ 8.98860135e+05, -1.31832819e+02],\n",
              "       [ 8.86599275e+05, -2.92528501e+03],\n",
              "       [ 8.70482996e+05, -5.96197527e+03],\n",
              "       [ 8.56962187e+05, -7.55318871e+03],\n",
              "       [ 8.54184823e+05, -6.12951565e+03],\n",
              "       [ 8.58785596e+05, -3.45657875e+03],\n",
              "       [ 8.65150958e+05, -1.17979572e+03],\n",
              "       [ 8.77139724e+05,  1.92121714e+03],\n",
              "       [ 8.76885613e+05,  1.09421026e+03],\n",
              "       [ 8.83694274e+05,  2.51393797e+03],\n",
              "       [ 9.00027107e+05,  5.89780699e+03],\n",
              "       [ 9.08679233e+05,  6.31127689e+03],\n",
              "       [ 9.09832498e+05,  4.89408963e+03],\n",
              "       [ 9.15755024e+05,  5.23846398e+03],\n",
              "       [ 9.13648709e+05,  3.39768821e+03],\n",
              "       [ 9.20651522e+05,  4.45142792e+03],\n",
              "       [ 9.26808466e+05,  4.84850312e+03],\n",
              "       [ 9.34150344e+05,  5.44644634e+03],\n",
              "       [ 9.49501969e+05,  7.89809748e+03],\n",
              "       [ 9.65489365e+05,  9.74799628e+03],\n",
              "       [ 9.78323692e+05,  1.03446263e+04],\n",
              "       [ 9.88871606e+05,  1.03097566e+04],\n",
              "       [ 9.45140221e+05, -3.28837764e+03],\n",
              "       [ 9.78521862e+05,  6.93825220e+03],\n",
              "       [ 9.89051958e+05,  7.40301460e+03],\n",
              "       [ 1.00246035e+06,  8.75961189e+03],\n",
              "       [ 1.00983966e+06,  8.28476656e+03],\n",
              "       [ 1.01840607e+06,  8.35273216e+03],\n",
              "       [ 1.03371472e+06,  1.01037221e+04],\n",
              "       [ 1.04796863e+06,  1.10296428e+04],\n",
              "       [ 1.06888831e+06,  1.34212639e+04],\n",
              "       [ 1.09809815e+06,  1.72057036e+04],\n",
              "       [ 1.11164947e+06,  1.59481869e+04],\n",
              "       [ 1.12712030e+06,  1.58198887e+04],\n",
              "       [ 1.14235434e+06,  1.56768438e+04],\n",
              "       [ 1.15497732e+06,  1.49261391e+04],\n",
              "       [ 1.17022788e+06,  1.50709982e+04],\n",
              "       [ 1.18001558e+06,  1.37572695e+04],\n",
              "       [ 1.18837681e+06,  1.25041655e+04],\n",
              "       [ 1.20606835e+06,  1.39452013e+04],\n",
              "       [ 1.21859043e+06,  1.35125824e+04],\n",
              "       [ 1.23825903e+06,  1.50713193e+04],\n",
              "       [ 1.25964994e+06,  1.65446424e+04],\n",
              "       [ 1.28355539e+06,  1.82541984e+04],\n",
              "       [ 1.28961766e+06,  1.50040674e+04],\n",
              "       [ 1.29210960e+06,  1.20253455e+04],\n",
              "       [ 1.30543172e+06,  1.26214564e+04],\n",
              "       [ 1.30980380e+06,  1.05827009e+04],\n",
              "       [ 1.33418669e+06,  1.42257833e+04],\n",
              "       [ 1.35349278e+06,  1.52841015e+04],\n",
              "       [ 1.36074118e+06,  1.31146769e+04],\n",
              "       [ 1.37663855e+06,  1.39336408e+04],\n",
              "       [ 1.39244245e+06,  1.43754020e+04],\n",
              "       [ 1.41712672e+06,  1.69342432e+04],\n",
              "       [ 1.44210189e+06,  1.87525675e+04],\n",
              "       [ 1.43760692e+06,  1.26953772e+04],\n",
              "       [ 1.45731256e+06,  1.48598665e+04],\n",
              "       [ 1.48787587e+06,  1.87840897e+04],\n",
              "       [ 1.51996469e+06,  2.18390553e+04],\n",
              "       [ 1.55675566e+06,  2.53027624e+04],\n",
              "       [ 1.58782454e+06,  2.64274715e+04],\n",
              "       [ 1.61110225e+06,  2.54664806e+04],\n",
              "       [ 1.62353015e+06,  2.22067452e+04],\n",
              "       [ 1.65723145e+06,  2.53526565e+04],\n",
              "       [ 1.69526041e+06,  2.83953621e+04],\n",
              "       [ 1.70399977e+06,  2.31715066e+04],\n",
              "       [ 1.75250951e+06,  2.98626541e+04],\n",
              "       [ 1.80648525e+06,  3.55408217e+04],\n",
              "       [ 1.83694757e+06,  3.37296971e+04],\n",
              "       [ 1.78535692e+06,  1.21844251e+04],\n",
              "       [ 1.82723226e+06,  2.11942149e+04],\n",
              "       [ 1.88642087e+06,  3.04896977e+04],\n",
              "       [ 1.93095090e+06,  3.32291587e+04],\n",
              "       [ 1.94803529e+06,  2.86982307e+04],\n",
              "       [ 1.94777958e+06,  2.15789763e+04],\n",
              "       [ 1.92793679e+06,  1.17162797e+04],\n",
              "       [ 1.93780193e+06,  1.21521557e+04],\n",
              "       [ 1.95032388e+06,  1.24915850e+04],\n",
              "       [ 1.94741855e+06,  8.65522099e+03],\n",
              "       [ 1.96877842e+06,  1.21396684e+04],\n",
              "       [ 1.90567075e+06, -7.00060633e+03],\n",
              "       [ 1.92321337e+06,  5.24562002e+02],\n",
              "       [ 1.95114744e+06,  7.27876080e+03],\n",
              "       [ 1.97400810e+06,  1.06432055e+04],\n",
              "       [ 1.99088987e+06,  1.17912805e+04],\n",
              "       [ 1.99972501e+06,  1.08283020e+04],\n",
              "       [ 2.01025892e+06,  1.07599867e+04],\n",
              "       [ 2.03314275e+06,  1.38289392e+04],\n",
              "       [ 2.05672283e+06,  1.60773282e+04],\n",
              "       [ 2.06191267e+06,  1.31218437e+04],\n",
              "       [ 2.09476744e+06,  1.82542987e+04],\n",
              "       [ 2.12267978e+06,  2.03634627e+04],\n",
              "       [ 2.13851067e+06,  1.89801473e+04],\n",
              "       [ 2.16325608e+06,  2.04827137e+04],\n",
              "       [ 2.23938418e+06,  3.44266428e+04],\n",
              "       [ 2.28752723e+06,  3.68521213e+04],\n",
              "       [ 2.32849370e+06,  3.74068621e+04],\n",
              "       [ 2.40478481e+06,  4.70417756e+04],\n",
              "       [ 2.45272779e+06,  4.65234458e+04],\n",
              "       [ 2.49477701e+06,  4.52154292e+04],\n",
              "       [ 2.54078610e+06,  4.54611621e+04],\n",
              "       [ 2.62350530e+06,  5.48499088e+04],\n",
              "       [ 2.74527011e+06,  7.10292775e+04],\n",
              "       [ 2.85871084e+06,  8.03288098e+04],\n",
              "       [ 2.94774201e+06,  8.14302857e+04],\n",
              "       [ 2.98476748e+06,  6.98370020e+04],\n",
              "       [ 3.10266415e+06,  8.26871756e+04],\n",
              "       [ 3.24889967e+06,  9.79991204e+04],\n",
              "       [ 3.35382414e+06,  9.84127826e+04],\n",
              "       [ 3.40992653e+06,  8.73262422e+04],\n",
              "       [ 3.49666894e+06,  8.78765002e+04],\n",
              "       [ 3.57627732e+06,  8.59655569e+04],\n",
              "       [ 3.71954712e+06,  1.00601259e+05],\n",
              "       [ 3.83217349e+06,  1.02622146e+05],\n",
              "       [ 3.94943667e+06,  1.05862171e+05],\n",
              "       [ 4.04544895e+06,  1.03009495e+05],\n",
              "       [ 4.11976079e+06,  9.58755230e+04],\n",
              "       [ 4.12820948e+06,  7.43873828e+04],\n",
              "       [ 4.17248026e+06,  6.85354556e+04],\n",
              "       [ 4.20408835e+06,  6.01688706e+04],\n",
              "       [ 4.26078976e+06,  6.01803147e+04],\n",
              "       [ 4.32489145e+06,  6.14354375e+04],\n",
              "       [ 4.35753498e+06,  5.41606127e+04],\n",
              "       [ 4.40582153e+06,  5.31991169e+04],\n",
              "       [ 4.49865927e+06,  6.34171542e+04],\n",
              "       [ 4.59054146e+06,  6.99089935e+04],\n",
              "       [ 4.68357543e+06,  7.50442050e+04],\n",
              "       [ 4.80941005e+06,  8.72647844e+04],\n",
              "       [ 4.88089896e+06,  8.22117683e+04],\n",
              "       [ 4.93455798e+06,  7.50602623e+04],\n",
              "       [ 4.94099441e+06,  5.83016204e+04],\n",
              "       [ 4.99393371e+06,  5.83426654e+04],\n",
              "       [ 4.81691512e+06, -5.70744179e+02],\n",
              "       [ 4.30639853e+06, -1.24745621e+05],\n",
              "       [ 4.25874235e+06, -9.49856216e+04],\n",
              "       [ 4.24198842e+06, -7.43752905e+04],\n",
              "       [ 4.20404900e+06, -6.64357440e+04],\n",
              "       [ 4.19377499e+06, -5.32335165e+04],\n",
              "       [ 4.23290016e+06, -3.12052710e+04],\n",
              "       [ 4.28876174e+06, -1.12410310e+04],\n",
              "       [ 4.31459725e+06, -3.93572596e+03],\n",
              "       [ 4.37272670e+06,  1.05710054e+04],\n",
              "       [ 3.93637356e+06, -1.03473361e+05],\n",
              "       [ 4.30639194e+06,  2.38243704e+04],\n",
              "       [ 4.47948796e+06,  5.45050970e+04],\n",
              "       [ 4.63394238e+06,  7.53797247e+04],\n",
              "       [ 4.74605899e+06,  8.18220394e+04],\n",
              "       [ 4.85317881e+06,  8.68863026e+04],\n",
              "       [ 4.97817540e+06,  9.57313117e+04],\n",
              "       [ 5.07888004e+06,  9.61139307e+04],\n",
              "       [ 5.16402358e+06,  9.30667932e+04],\n",
              "       [ 5.23688273e+06,  8.81182667e+04],\n",
              "       [ 5.23843671e+06,  6.67087722e+04],\n",
              "       [ 5.16147918e+06,  3.21972573e+04],\n",
              "       [ 5.09518674e+06,  1.04109764e+04],\n",
              "       [ 5.17876830e+06,  3.13656158e+04],\n",
              "       [ 5.24726525e+06,  3.99469602e+04],\n",
              "       [ 5.25613912e+06,  3.12645134e+04],\n",
              "       [ 5.24065285e+06,  1.98653257e+04],\n",
              "       [ 5.28046371e+06,  2.58471656e+04],\n",
              "       [ 5.33581018e+06,  3.31323805e+04],\n",
              "       [ 5.44905457e+06,  5.27434575e+04],\n",
              "       [ 5.52665110e+06,  5.73952104e+04],\n",
              "       [ 5.57120320e+06,  5.33377724e+04],\n",
              "       [ 5.59917188e+06,  4.69971967e+04],\n",
              "       [ 5.68281266e+06,  5.67144634e+04],\n",
              "       [ 5.70021009e+06,  4.62397009e+04],\n",
              "       [ 5.72369328e+06,  4.11002288e+04],\n",
              "       [ 5.74110994e+06,  3.56828149e+04],\n",
              "       [ 5.75022835e+06,  2.95549265e+04]])"
            ]
          },
          "metadata": {},
          "execution_count": 33
        }
      ]
    },
    {
      "cell_type": "code",
      "source": [
        "#@title Plot production data as predicted and reported or estimated in DPR report\n",
        "fig = go.Figure(px.scatter(title=\"%s production estimates using Kalman filter\" % (dprR.value + \" \" + dprC.value)))\n",
        "fig.add_trace(go.Scatter(x=data.Month, y=Xp[:,0], mode='markers',name='PredictPR'))\n",
        "fig.add_trace(go.Scatter(x=data.Month, y=data.PR, mode='markers',name='Reported'))\n",
        "fig.add_trace(go.Scatter(x=data.Month, y=Xu[:,0], mode='lines+markers',name='UpdatePR'))\n",
        "fig.layout.images = eiaLogo\n",
        "fig.show()"
      ],
      "metadata": {
        "colab": {
          "base_uri": "https://localhost:8080/",
          "height": 542
        },
        "id": "tAFYMr2mY1nF",
        "outputId": "deaaa5c7-b169-4653-9234-42eae1f5f0f5"
      },
      "execution_count": 9,
      "outputs": [
        {
          "output_type": "display_data",
          "data": {
            "text/html": [
              "<html>\n",
              "<head><meta charset=\"utf-8\" /></head>\n",
              "<body>\n",
              "    <div>            <script src=\"https://cdnjs.cloudflare.com/ajax/libs/mathjax/2.7.5/MathJax.js?config=TeX-AMS-MML_SVG\"></script><script type=\"text/javascript\">if (window.MathJax && window.MathJax.Hub && window.MathJax.Hub.Config) {window.MathJax.Hub.Config({SVG: {font: \"STIX-Web\"}});}</script>                <script type=\"text/javascript\">window.PlotlyConfig = {MathJaxConfig: 'local'};</script>\n",
              "        <script src=\"https://cdn.plot.ly/plotly-2.18.2.min.js\"></script>                <div id=\"75d1fd92-3a3a-45eb-b659-e71415721772\" class=\"plotly-graph-div\" style=\"height:525px; width:100%;\"></div>            <script type=\"text/javascript\">                                    window.PLOTLYENV=window.PLOTLYENV || {};                                    if (document.getElementById(\"75d1fd92-3a3a-45eb-b659-e71415721772\")) {                    Plotly.newPlot(                        \"75d1fd92-3a3a-45eb-b659-e71415721772\",                        [{\"hovertemplate\":\"<extra></extra>\",\"legendgroup\":\"\",\"marker\":{\"color\":\"#636efa\",\"symbol\":\"circle\"},\"mode\":\"markers\",\"name\":\"\",\"orientation\":\"v\",\"showlegend\":false,\"xaxis\":\"x\",\"yaxis\":\"y\",\"type\":\"scatter\"},{\"mode\":\"markers\",\"name\":\"PredictPR\",\"x\":[\"2007-02-01T00:00:00\",\"2007-03-01T00:00:00\",\"2007-04-01T00:00:00\",\"2007-05-01T00:00:00\",\"2007-06-01T00:00:00\",\"2007-07-01T00:00:00\",\"2007-08-01T00:00:00\",\"2007-09-01T00:00:00\",\"2007-10-01T00:00:00\",\"2007-11-01T00:00:00\",\"2007-12-01T00:00:00\",\"2008-01-01T00:00:00\",\"2008-02-01T00:00:00\",\"2008-03-01T00:00:00\",\"2008-04-01T00:00:00\",\"2008-05-01T00:00:00\",\"2008-06-01T00:00:00\",\"2008-07-01T00:00:00\",\"2008-08-01T00:00:00\",\"2008-09-01T00:00:00\",\"2008-10-01T00:00:00\",\"2008-11-01T00:00:00\",\"2008-12-01T00:00:00\",\"2009-01-01T00:00:00\",\"2009-02-01T00:00:00\",\"2009-03-01T00:00:00\",\"2009-04-01T00:00:00\",\"2009-05-01T00:00:00\",\"2009-06-01T00:00:00\",\"2009-07-01T00:00:00\",\"2009-08-01T00:00:00\",\"2009-09-01T00:00:00\",\"2009-10-01T00:00:00\",\"2009-11-01T00:00:00\",\"2009-12-01T00:00:00\",\"2010-01-01T00:00:00\",\"2010-02-01T00:00:00\",\"2010-03-01T00:00:00\",\"2010-04-01T00:00:00\",\"2010-05-01T00:00:00\",\"2010-06-01T00:00:00\",\"2010-07-01T00:00:00\",\"2010-08-01T00:00:00\",\"2010-09-01T00:00:00\",\"2010-10-01T00:00:00\",\"2010-11-01T00:00:00\",\"2010-12-01T00:00:00\",\"2011-01-01T00:00:00\",\"2011-02-01T00:00:00\",\"2011-03-01T00:00:00\",\"2011-04-01T00:00:00\",\"2011-05-01T00:00:00\",\"2011-06-01T00:00:00\",\"2011-07-01T00:00:00\",\"2011-08-01T00:00:00\",\"2011-09-01T00:00:00\",\"2011-10-01T00:00:00\",\"2011-11-01T00:00:00\",\"2011-12-01T00:00:00\",\"2012-01-01T00:00:00\",\"2012-02-01T00:00:00\",\"2012-03-01T00:00:00\",\"2012-04-01T00:00:00\",\"2012-05-01T00:00:00\",\"2012-06-01T00:00:00\",\"2012-07-01T00:00:00\",\"2012-08-01T00:00:00\",\"2012-09-01T00:00:00\",\"2012-10-01T00:00:00\",\"2012-11-01T00:00:00\",\"2012-12-01T00:00:00\",\"2013-01-01T00:00:00\",\"2013-02-01T00:00:00\",\"2013-03-01T00:00:00\",\"2013-04-01T00:00:00\",\"2013-05-01T00:00:00\",\"2013-06-01T00:00:00\",\"2013-07-01T00:00:00\",\"2013-08-01T00:00:00\",\"2013-09-01T00:00:00\",\"2013-10-01T00:00:00\",\"2013-11-01T00:00:00\",\"2013-12-01T00:00:00\",\"2014-01-01T00:00:00\",\"2014-02-01T00:00:00\",\"2014-03-01T00:00:00\",\"2014-04-01T00:00:00\",\"2014-05-01T00:00:00\",\"2014-06-01T00:00:00\",\"2014-07-01T00:00:00\",\"2014-08-01T00:00:00\",\"2014-09-01T00:00:00\",\"2014-10-01T00:00:00\",\"2014-11-01T00:00:00\",\"2014-12-01T00:00:00\",\"2015-01-01T00:00:00\",\"2015-02-01T00:00:00\",\"2015-03-01T00:00:00\",\"2015-04-01T00:00:00\",\"2015-05-01T00:00:00\",\"2015-06-01T00:00:00\",\"2015-07-01T00:00:00\",\"2015-08-01T00:00:00\",\"2015-09-01T00:00:00\",\"2015-10-01T00:00:00\",\"2015-11-01T00:00:00\",\"2015-12-01T00:00:00\",\"2016-01-01T00:00:00\",\"2016-02-01T00:00:00\",\"2016-03-01T00:00:00\",\"2016-04-01T00:00:00\",\"2016-05-01T00:00:00\",\"2016-06-01T00:00:00\",\"2016-07-01T00:00:00\",\"2016-08-01T00:00:00\",\"2016-09-01T00:00:00\",\"2016-10-01T00:00:00\",\"2016-11-01T00:00:00\",\"2016-12-01T00:00:00\",\"2017-01-01T00:00:00\",\"2017-02-01T00:00:00\",\"2017-03-01T00:00:00\",\"2017-04-01T00:00:00\",\"2017-05-01T00:00:00\",\"2017-06-01T00:00:00\",\"2017-07-01T00:00:00\",\"2017-08-01T00:00:00\",\"2017-09-01T00:00:00\",\"2017-10-01T00:00:00\",\"2017-11-01T00:00:00\",\"2017-12-01T00:00:00\",\"2018-01-01T00:00:00\",\"2018-02-01T00:00:00\",\"2018-03-01T00:00:00\",\"2018-04-01T00:00:00\",\"2018-05-01T00:00:00\",\"2018-06-01T00:00:00\",\"2018-07-01T00:00:00\",\"2018-08-01T00:00:00\",\"2018-09-01T00:00:00\",\"2018-10-01T00:00:00\",\"2018-11-01T00:00:00\",\"2018-12-01T00:00:00\",\"2019-01-01T00:00:00\",\"2019-02-01T00:00:00\",\"2019-03-01T00:00:00\",\"2019-04-01T00:00:00\",\"2019-05-01T00:00:00\",\"2019-06-01T00:00:00\",\"2019-07-01T00:00:00\",\"2019-08-01T00:00:00\",\"2019-09-01T00:00:00\",\"2019-10-01T00:00:00\",\"2019-11-01T00:00:00\",\"2019-12-01T00:00:00\",\"2020-01-01T00:00:00\",\"2020-02-01T00:00:00\",\"2020-03-01T00:00:00\",\"2020-04-01T00:00:00\",\"2020-05-01T00:00:00\",\"2020-06-01T00:00:00\",\"2020-07-01T00:00:00\",\"2020-08-01T00:00:00\",\"2020-09-01T00:00:00\",\"2020-10-01T00:00:00\",\"2020-11-01T00:00:00\",\"2020-12-01T00:00:00\",\"2021-01-01T00:00:00\",\"2021-02-01T00:00:00\",\"2021-03-01T00:00:00\",\"2021-04-01T00:00:00\",\"2021-05-01T00:00:00\",\"2021-06-01T00:00:00\",\"2021-07-01T00:00:00\",\"2021-08-01T00:00:00\",\"2021-09-01T00:00:00\",\"2021-10-01T00:00:00\",\"2021-11-01T00:00:00\",\"2021-12-01T00:00:00\",\"2022-01-01T00:00:00\",\"2022-02-01T00:00:00\",\"2022-03-01T00:00:00\",\"2022-04-01T00:00:00\",\"2022-05-01T00:00:00\",\"2022-06-01T00:00:00\",\"2022-07-01T00:00:00\",\"2022-08-01T00:00:00\",\"2022-09-01T00:00:00\",\"2022-10-01T00:00:00\",\"2022-11-01T00:00:00\",\"2022-12-01T00:00:00\",\"2023-01-01T00:00:00\",\"2023-02-01T00:00:00\",\"2023-03-01T00:00:00\",\"2023-04-01T00:00:00\",\"2023-05-01T00:00:00\",\"2023-06-01T00:00:00\"],\"y\":[137501.4,139836.2094449546,142295.1606745459,145159.38497386943,147731.44481010828,144217.59484944624,143293.14036003288,143233.93646174212,146835.9650745409,146183.61055000345,146424.52204005222,142690.4556527372,148660.4274876876,149318.2341652085,152321.09687212025,155482.802203693,155457.8867808673,154005.7676339133,155843.31637275932,151229.65615503886,151941.93536980313,148923.33922129293,146729.64751082388,144932.47409210185,143922.5415695964,149920.03074595632,149806.68659155708,149437.02319903806,151062.23439386208,151643.02252597598,146199.29999116095,143387.3116301187,144042.36931457862,143497.56817410488,143219.71769553033,139936.67194765067,136049.6356973533,140906.4358364348,148372.52161372924,154572.40756842867,158612.32129093,159889.02482846653,161991.9919004709,165687.98983580052,168845.97044475476,174172.04849113824,184665.5703148792,188145.6021235254,191026.7887576064,181532.31047539233,199384.6344045769,208393.26073325734,215334.35543916404,219879.51354118378,221073.4336646809,224569.73856750314,229737.2856750539,240262.53277032412,247687.37782157425,249627.71457362646,258740.85933211684,263559.63763734425,263318.2033268504,270274.2418738024,277704.18987039884,278658.5085767319,288734.6841909159,297840.1742701024,307276.47015357355,323414.58779717854,332044.19873622514,329255.04000753065,336060.5412004459,320910.1039854866,336392.85078403703,351710.87422765663,360396.44865179434,364965.4651733421,360157.66707737435,373465.51599744486,381519.5140453377,390193.3083237617,379415.4002161071,374776.7470768312,384567.6361277349,383308.47071884526,396637.865592488,382681.20890318986,407823.4108908537,417908.7940918099,433426.6518074778,440661.720431358,448106.2938885129,459305.1679946714,461638.9394715089,464700.2779384695,465253.1688140213,458159.58811729494,477239.86713661824,480453.7405434,474599.54221547215,469918.72007467446,454343.5923857075,444365.71242976846,436538.35688968305,435173.4272831484,430175.4835363821,434385.5451483516,436789.95657561626,408123.5616608961,417792.49192819535,403586.8856384808,404830.4951316035,402631.3851697852,396329.3086941234,395736.91967558756,393281.96709095774,398674.22099493217,404598.63863662776,402562.37247087265,393307.4145787755,402822.94805456797,415252.8340190428,417542.47045639815,420843.2054814669,434024.3624514761,438526.02091920364,449183.05918212223,456395.9248600322,472392.80237182364,490474.93082098645,494258.53252235946,516297.00573973625,527574.6008429269,547163.5228196337,542612.4466528695,537826.7074425955,521348.9941094919,519651.41174197325,547264.8286419541,542162.8920661783,557132.9942620542,565350.6600185166,587183.7900656726,589338.5844371439,578447.7411768944,577328.3062236825,590041.9065437263,588207.1523666945,581273.1788779272,575954.5339807527,561083.5742147553,585757.1412195646,593485.2918883603,580502.2735696468,586321.4821240823,555986.5808975175,539128.1888513161,522075.9420073147,477752.9521300845,360509.566495264,383007.59355006536,404926.52156415395,402738.690374819,398448.37303287,385358.8928432623,408927.89535959915,406567.2723780665,403787.911476473,332523.076241618,360277.6573307187,367566.77907902084,375393.07439210865,372103.7826699784,367602.54345469736,364173.998259772,374777.21830767073,381034.75699357095,379197.1185168006,383217.1488160967,379217.59608354076,364476.3060746158,386407.52050432697,396317.1743637616,400470.8037843694,400237.63745501364,391072.8764270103,390452.40924258385,380209.24450434535,383836.2442903972,394479.24373089237,379481.70371582557,401506.9669327752,404833.80771075835,415605.7376584152,428315.18031989696,440519.9758878552],\"type\":\"scatter\"},{\"mode\":\"markers\",\"name\":\"Reported\",\"x\":[\"2007-02-01T00:00:00\",\"2007-03-01T00:00:00\",\"2007-04-01T00:00:00\",\"2007-05-01T00:00:00\",\"2007-06-01T00:00:00\",\"2007-07-01T00:00:00\",\"2007-08-01T00:00:00\",\"2007-09-01T00:00:00\",\"2007-10-01T00:00:00\",\"2007-11-01T00:00:00\",\"2007-12-01T00:00:00\",\"2008-01-01T00:00:00\",\"2008-02-01T00:00:00\",\"2008-03-01T00:00:00\",\"2008-04-01T00:00:00\",\"2008-05-01T00:00:00\",\"2008-06-01T00:00:00\",\"2008-07-01T00:00:00\",\"2008-08-01T00:00:00\",\"2008-09-01T00:00:00\",\"2008-10-01T00:00:00\",\"2008-11-01T00:00:00\",\"2008-12-01T00:00:00\",\"2009-01-01T00:00:00\",\"2009-02-01T00:00:00\",\"2009-03-01T00:00:00\",\"2009-04-01T00:00:00\",\"2009-05-01T00:00:00\",\"2009-06-01T00:00:00\",\"2009-07-01T00:00:00\",\"2009-08-01T00:00:00\",\"2009-09-01T00:00:00\",\"2009-10-01T00:00:00\",\"2009-11-01T00:00:00\",\"2009-12-01T00:00:00\",\"2010-01-01T00:00:00\",\"2010-02-01T00:00:00\",\"2010-03-01T00:00:00\",\"2010-04-01T00:00:00\",\"2010-05-01T00:00:00\",\"2010-06-01T00:00:00\",\"2010-07-01T00:00:00\",\"2010-08-01T00:00:00\",\"2010-09-01T00:00:00\",\"2010-10-01T00:00:00\",\"2010-11-01T00:00:00\",\"2010-12-01T00:00:00\",\"2011-01-01T00:00:00\",\"2011-02-01T00:00:00\",\"2011-03-01T00:00:00\",\"2011-04-01T00:00:00\",\"2011-05-01T00:00:00\",\"2011-06-01T00:00:00\",\"2011-07-01T00:00:00\",\"2011-08-01T00:00:00\",\"2011-09-01T00:00:00\",\"2011-10-01T00:00:00\",\"2011-11-01T00:00:00\",\"2011-12-01T00:00:00\",\"2012-01-01T00:00:00\",\"2012-02-01T00:00:00\",\"2012-03-01T00:00:00\",\"2012-04-01T00:00:00\",\"2012-05-01T00:00:00\",\"2012-06-01T00:00:00\",\"2012-07-01T00:00:00\",\"2012-08-01T00:00:00\",\"2012-09-01T00:00:00\",\"2012-10-01T00:00:00\",\"2012-11-01T00:00:00\",\"2012-12-01T00:00:00\",\"2013-01-01T00:00:00\",\"2013-02-01T00:00:00\",\"2013-03-01T00:00:00\",\"2013-04-01T00:00:00\",\"2013-05-01T00:00:00\",\"2013-06-01T00:00:00\",\"2013-07-01T00:00:00\",\"2013-08-01T00:00:00\",\"2013-09-01T00:00:00\",\"2013-10-01T00:00:00\",\"2013-11-01T00:00:00\",\"2013-12-01T00:00:00\",\"2014-01-01T00:00:00\",\"2014-02-01T00:00:00\",\"2014-03-01T00:00:00\",\"2014-04-01T00:00:00\",\"2014-05-01T00:00:00\",\"2014-06-01T00:00:00\",\"2014-07-01T00:00:00\",\"2014-08-01T00:00:00\",\"2014-09-01T00:00:00\",\"2014-10-01T00:00:00\",\"2014-11-01T00:00:00\",\"2014-12-01T00:00:00\",\"2015-01-01T00:00:00\",\"2015-02-01T00:00:00\",\"2015-03-01T00:00:00\",\"2015-04-01T00:00:00\",\"2015-05-01T00:00:00\",\"2015-06-01T00:00:00\",\"2015-07-01T00:00:00\",\"2015-08-01T00:00:00\",\"2015-09-01T00:00:00\",\"2015-10-01T00:00:00\",\"2015-11-01T00:00:00\",\"2015-12-01T00:00:00\",\"2016-01-01T00:00:00\",\"2016-02-01T00:00:00\",\"2016-03-01T00:00:00\",\"2016-04-01T00:00:00\",\"2016-05-01T00:00:00\",\"2016-06-01T00:00:00\",\"2016-07-01T00:00:00\",\"2016-08-01T00:00:00\",\"2016-09-01T00:00:00\",\"2016-10-01T00:00:00\",\"2016-11-01T00:00:00\",\"2016-12-01T00:00:00\",\"2017-01-01T00:00:00\",\"2017-02-01T00:00:00\",\"2017-03-01T00:00:00\",\"2017-04-01T00:00:00\",\"2017-05-01T00:00:00\",\"2017-06-01T00:00:00\",\"2017-07-01T00:00:00\",\"2017-08-01T00:00:00\",\"2017-09-01T00:00:00\",\"2017-10-01T00:00:00\",\"2017-11-01T00:00:00\",\"2017-12-01T00:00:00\",\"2018-01-01T00:00:00\",\"2018-02-01T00:00:00\",\"2018-03-01T00:00:00\",\"2018-04-01T00:00:00\",\"2018-05-01T00:00:00\",\"2018-06-01T00:00:00\",\"2018-07-01T00:00:00\",\"2018-08-01T00:00:00\",\"2018-09-01T00:00:00\",\"2018-10-01T00:00:00\",\"2018-11-01T00:00:00\",\"2018-12-01T00:00:00\",\"2019-01-01T00:00:00\",\"2019-02-01T00:00:00\",\"2019-03-01T00:00:00\",\"2019-04-01T00:00:00\",\"2019-05-01T00:00:00\",\"2019-06-01T00:00:00\",\"2019-07-01T00:00:00\",\"2019-08-01T00:00:00\",\"2019-09-01T00:00:00\",\"2019-10-01T00:00:00\",\"2019-11-01T00:00:00\",\"2019-12-01T00:00:00\",\"2020-01-01T00:00:00\",\"2020-02-01T00:00:00\",\"2020-03-01T00:00:00\",\"2020-04-01T00:00:00\",\"2020-05-01T00:00:00\",\"2020-06-01T00:00:00\",\"2020-07-01T00:00:00\",\"2020-08-01T00:00:00\",\"2020-09-01T00:00:00\",\"2020-10-01T00:00:00\",\"2020-11-01T00:00:00\",\"2020-12-01T00:00:00\",\"2021-01-01T00:00:00\",\"2021-02-01T00:00:00\",\"2021-03-01T00:00:00\",\"2021-04-01T00:00:00\",\"2021-05-01T00:00:00\",\"2021-06-01T00:00:00\",\"2021-07-01T00:00:00\",\"2021-08-01T00:00:00\",\"2021-09-01T00:00:00\",\"2021-10-01T00:00:00\",\"2021-11-01T00:00:00\",\"2021-12-01T00:00:00\",\"2022-01-01T00:00:00\",\"2022-02-01T00:00:00\",\"2022-03-01T00:00:00\",\"2022-04-01T00:00:00\",\"2022-05-01T00:00:00\",\"2022-06-01T00:00:00\",\"2022-07-01T00:00:00\",\"2022-08-01T00:00:00\",\"2022-09-01T00:00:00\",\"2022-10-01T00:00:00\",\"2022-11-01T00:00:00\",\"2022-12-01T00:00:00\",\"2023-01-01T00:00:00\",\"2023-02-01T00:00:00\",\"2023-03-01T00:00:00\",\"2023-04-01T00:00:00\",\"2023-05-01T00:00:00\",\"2023-06-01T00:00:00\"],\"y\":[134177.2,137515.5,141463.9,144206.3,137235.0,139325.8,141151.4,147548.9,144060.8,144880.9,139083.0,151819.4,148721.4,152532.3,155337.7,152833.2,150630.5,155163.8,146909.1,151801.3,147092.2,146006.0,145150.5,145075.8,155381.4,150294.3,148988.6,151818.6,151553.4,142323.6,142148.6,145969.2,144730.3,144377.3,139132.0,135287.5,146157.5,154281.2,157455.9,158139.5,156627.0,159144.1,163968.4,166618.8,172981.7,185945.3,183552.6,185376.0,168870.2,205833.5,208157.4,211293.9,213331.9,212509.1,218364.6,225339.8,239185.0,243594.6,241252.9,255116.8,257114.7,253717.8,266213.7,274249.6,270742.5,286801.7,294784.2,303206.9,322241.8,324203.7,313491.3,328080.1,301257.7,339318.4,354689.0,356205.8,356448.4,346126.9,372699.6,377410.1,385258.8,362120.4,364244.2,386309.0,378286.3,400375.2,368505.1,419130.5,417663.9,432928.5,432543.9,439113.1,452674.0,449302.0,453699.6,454369.9,444623.3,482574.5,474918.3,462477.2,460709.1,441545.7,439365.9,436630.2,441243.1,434172.9,443727.2,443461.9,394339.4,431226.2,402855.7,413793.4,409210.2,399336.3,402174.6,398093.5,407475.3,411794.2,402467.7,388201.0,410649.5,423671.2,416329.9,418573.8,437288.0,434545.2,447672.5,451598.4,471893.4,489129.6,481339.2,514095.2,517089.8,540223.8,519628.6,517151.2,498564.0,512261.4,561204.7,532533.5,558489.8,561461.0,589822.1,576955.1,557881.1,566915.2,591417.3,580228.7,570602.7,568950.4,551138.6,603261.9,597618.2,568242.1,587234.2,536218.1,533105.9,522049.9,465456.6,313084.9,442425.3,465587.2,434674.1,419558.7,396641.6,440826.4,416359.6,408693.8,295631.8,395033.7,389892.0,390929.2,375884.2,368806.4,366209.1,385512.2,386721.4,377196.6,384216.5,375011.2,354552.6,401763.7,401747.2,398278.7,393941.0,380006.7,387316.5,373208.8,387542.9,402663.7,369774.1,415463.0,404884.0,417391.1,429298.1,438672.1,443755.5],\"type\":\"scatter\"},{\"mode\":\"lines+markers\",\"name\":\"UpdatePR\",\"x\":[\"2007-02-01T00:00:00\",\"2007-03-01T00:00:00\",\"2007-04-01T00:00:00\",\"2007-05-01T00:00:00\",\"2007-06-01T00:00:00\",\"2007-07-01T00:00:00\",\"2007-08-01T00:00:00\",\"2007-09-01T00:00:00\",\"2007-10-01T00:00:00\",\"2007-11-01T00:00:00\",\"2007-12-01T00:00:00\",\"2008-01-01T00:00:00\",\"2008-02-01T00:00:00\",\"2008-03-01T00:00:00\",\"2008-04-01T00:00:00\",\"2008-05-01T00:00:00\",\"2008-06-01T00:00:00\",\"2008-07-01T00:00:00\",\"2008-08-01T00:00:00\",\"2008-09-01T00:00:00\",\"2008-10-01T00:00:00\",\"2008-11-01T00:00:00\",\"2008-12-01T00:00:00\",\"2009-01-01T00:00:00\",\"2009-02-01T00:00:00\",\"2009-03-01T00:00:00\",\"2009-04-01T00:00:00\",\"2009-05-01T00:00:00\",\"2009-06-01T00:00:00\",\"2009-07-01T00:00:00\",\"2009-08-01T00:00:00\",\"2009-09-01T00:00:00\",\"2009-10-01T00:00:00\",\"2009-11-01T00:00:00\",\"2009-12-01T00:00:00\",\"2010-01-01T00:00:00\",\"2010-02-01T00:00:00\",\"2010-03-01T00:00:00\",\"2010-04-01T00:00:00\",\"2010-05-01T00:00:00\",\"2010-06-01T00:00:00\",\"2010-07-01T00:00:00\",\"2010-08-01T00:00:00\",\"2010-09-01T00:00:00\",\"2010-10-01T00:00:00\",\"2010-11-01T00:00:00\",\"2010-12-01T00:00:00\",\"2011-01-01T00:00:00\",\"2011-02-01T00:00:00\",\"2011-03-01T00:00:00\",\"2011-04-01T00:00:00\",\"2011-05-01T00:00:00\",\"2011-06-01T00:00:00\",\"2011-07-01T00:00:00\",\"2011-08-01T00:00:00\",\"2011-09-01T00:00:00\",\"2011-10-01T00:00:00\",\"2011-11-01T00:00:00\",\"2011-12-01T00:00:00\",\"2012-01-01T00:00:00\",\"2012-02-01T00:00:00\",\"2012-03-01T00:00:00\",\"2012-04-01T00:00:00\",\"2012-05-01T00:00:00\",\"2012-06-01T00:00:00\",\"2012-07-01T00:00:00\",\"2012-08-01T00:00:00\",\"2012-09-01T00:00:00\",\"2012-10-01T00:00:00\",\"2012-11-01T00:00:00\",\"2012-12-01T00:00:00\",\"2013-01-01T00:00:00\",\"2013-02-01T00:00:00\",\"2013-03-01T00:00:00\",\"2013-04-01T00:00:00\",\"2013-05-01T00:00:00\",\"2013-06-01T00:00:00\",\"2013-07-01T00:00:00\",\"2013-08-01T00:00:00\",\"2013-09-01T00:00:00\",\"2013-10-01T00:00:00\",\"2013-11-01T00:00:00\",\"2013-12-01T00:00:00\",\"2014-01-01T00:00:00\",\"2014-02-01T00:00:00\",\"2014-03-01T00:00:00\",\"2014-04-01T00:00:00\",\"2014-05-01T00:00:00\",\"2014-06-01T00:00:00\",\"2014-07-01T00:00:00\",\"2014-08-01T00:00:00\",\"2014-09-01T00:00:00\",\"2014-10-01T00:00:00\",\"2014-11-01T00:00:00\",\"2014-12-01T00:00:00\",\"2015-01-01T00:00:00\",\"2015-02-01T00:00:00\",\"2015-03-01T00:00:00\",\"2015-04-01T00:00:00\",\"2015-05-01T00:00:00\",\"2015-06-01T00:00:00\",\"2015-07-01T00:00:00\",\"2015-08-01T00:00:00\",\"2015-09-01T00:00:00\",\"2015-10-01T00:00:00\",\"2015-11-01T00:00:00\",\"2015-12-01T00:00:00\",\"2016-01-01T00:00:00\",\"2016-02-01T00:00:00\",\"2016-03-01T00:00:00\",\"2016-04-01T00:00:00\",\"2016-05-01T00:00:00\",\"2016-06-01T00:00:00\",\"2016-07-01T00:00:00\",\"2016-08-01T00:00:00\",\"2016-09-01T00:00:00\",\"2016-10-01T00:00:00\",\"2016-11-01T00:00:00\",\"2016-12-01T00:00:00\",\"2017-01-01T00:00:00\",\"2017-02-01T00:00:00\",\"2017-03-01T00:00:00\",\"2017-04-01T00:00:00\",\"2017-05-01T00:00:00\",\"2017-06-01T00:00:00\",\"2017-07-01T00:00:00\",\"2017-08-01T00:00:00\",\"2017-09-01T00:00:00\",\"2017-10-01T00:00:00\",\"2017-11-01T00:00:00\",\"2017-12-01T00:00:00\",\"2018-01-01T00:00:00\",\"2018-02-01T00:00:00\",\"2018-03-01T00:00:00\",\"2018-04-01T00:00:00\",\"2018-05-01T00:00:00\",\"2018-06-01T00:00:00\",\"2018-07-01T00:00:00\",\"2018-08-01T00:00:00\",\"2018-09-01T00:00:00\",\"2018-10-01T00:00:00\",\"2018-11-01T00:00:00\",\"2018-12-01T00:00:00\",\"2019-01-01T00:00:00\",\"2019-02-01T00:00:00\",\"2019-03-01T00:00:00\",\"2019-04-01T00:00:00\",\"2019-05-01T00:00:00\",\"2019-06-01T00:00:00\",\"2019-07-01T00:00:00\",\"2019-08-01T00:00:00\",\"2019-09-01T00:00:00\",\"2019-10-01T00:00:00\",\"2019-11-01T00:00:00\",\"2019-12-01T00:00:00\",\"2020-01-01T00:00:00\",\"2020-02-01T00:00:00\",\"2020-03-01T00:00:00\",\"2020-04-01T00:00:00\",\"2020-05-01T00:00:00\",\"2020-06-01T00:00:00\",\"2020-07-01T00:00:00\",\"2020-08-01T00:00:00\",\"2020-09-01T00:00:00\",\"2020-10-01T00:00:00\",\"2020-11-01T00:00:00\",\"2020-12-01T00:00:00\",\"2021-01-01T00:00:00\",\"2021-02-01T00:00:00\",\"2021-03-01T00:00:00\",\"2021-04-01T00:00:00\",\"2021-05-01T00:00:00\",\"2021-06-01T00:00:00\",\"2021-07-01T00:00:00\",\"2021-08-01T00:00:00\",\"2021-09-01T00:00:00\",\"2021-10-01T00:00:00\",\"2021-11-01T00:00:00\",\"2021-12-01T00:00:00\",\"2022-01-01T00:00:00\",\"2022-02-01T00:00:00\",\"2022-03-01T00:00:00\",\"2022-04-01T00:00:00\",\"2022-05-01T00:00:00\",\"2022-06-01T00:00:00\",\"2022-07-01T00:00:00\",\"2022-08-01T00:00:00\",\"2022-09-01T00:00:00\",\"2022-10-01T00:00:00\",\"2022-11-01T00:00:00\",\"2022-12-01T00:00:00\",\"2023-01-01T00:00:00\",\"2023-02-01T00:00:00\",\"2023-03-01T00:00:00\",\"2023-04-01T00:00:00\",\"2023-05-01T00:00:00\",\"2023-06-01T00:00:00\"],\"y\":[136620.9155722708,139225.8484420359,142117.60678424616,144810.34756041988,142970.540610411,142476.4375490044,142583.5704930849,145407.44482671964,145327.8902176707,145691.28041378595,143057.942972697,147344.58122384912,148267.4653845291,150782.91633306188,153571.29602375985,154073.07077887372,153309.74021571391,154801.8210024055,151617.00041869312,151941.86603817716,149679.57867400537,147798.4575128954,146157.712383399,145094.71022286362,149301.07801323754,149522.24514741063,149350.0136238651,150588.59607170513,151176.7056196918,147234.6133287206,144761.7497570027,144845.22409589836,144259.1661210897,143865.92835090487,141253.4428777496,137955.23614606983,141044.0551185006,146699.9590256282,151919.70474854956,155724.080677193,157452.97855004342,159617.382596237,162964.00022835977,166030.0277834808,170731.0250573493,179484.07744014575,183534.01725115982,186844.28932328647,180768.8791550823,194057.08022208305,202390.44690775033,209210.45735409672,214198.27984464887,216502.85120260593,220179.01576525057,225102.17640686946,234147.95934363696,241350.99920515312,244456.5928069967,252505.44090678636,257731.56556559476,258999.79654524208,265174.95207206503,272041.61184803955,274229.38339171343,282808.3079954259,291196.66007461183,300020.04316356406,313998.0088029087,323007.4309908582,323225.9428123233,329621.75157014484,319875.6404557499,331303.45020814135,344221.9750423573,352832.9086656516,358225.8556793329,356293.60353281884,367001.3929228984,374779.03830827173,383025.95130496746,376810.29310570913,373682.0500403901,381077.9739524355,381126.981179196,391584.4574922837,382608.32539572974,401114.04297629185,410741.76027650037,424303.59341952665,432199.07747121516,439902.55417198583,450324.0146199158,454389.83977223985,458393.4266025055,460295.67819430755,456131.99201120256,470700.94145912735,475030.8055498491,472029.34827217873,468982.6406355001,457385.68488492916,448809.4992646492,441626.6073629101,439217.11291788047,434512.8975030693,436566.32067421277,437969.0746568982,416353.19118836604,421039.84400959074,409823.19040582504,409033.0798886729,406436.6329747073,400823.6964781497,399212.32054907334,396563.3246677992,399797.4996455753,404106.36305175605,402873.7564647152,395861.98251419637,402167.1805997345,411805.5019752308,414639.22974005627,417866.956022468,428492.81888873724,433439.3265463123,442713.4683260956,449848.7333103239,463502.69162492844,479454.8076602131,485275.861956944,503937.5932203718,515711.09530787397,533379.8750458504,533598.0976248664,531982.8359423792,520802.4406316219,519182.07204942,539801.8107108716,538334.166138929,550370.8775830275,558398.1425446311,576544.375636472,581132.1073116974,574971.9270207132,574648.151412099,584668.4345781599,584800.8785844211,580377.919362185,576412.8972196317,565014.0795553939,582183.1243340896,589334.7976087829,580859.4498844914,584850.9189710174,562587.0806527183,547737.156842422,532494.4596138019,496493.82631645264,403413.902160384,407464.720500639,418458.8864504745,414440.3527407627,408722.88932845544,396578.72880314215,411379.5808438446,409638.0541954553,406931.2158499857,352872.3823452173,367252.5256961138,371553.49262680573,376799.5559055857,374291.03335697757,370406.33295074204,367099.588866022,374270.3453295131,379321.5433082223,378535.966925447,381678.63483580644,379127.39884442906,368032.39431933936,383243.604747335,391858.7198768564,396305.0391408001,397220.7461958652,391054.1157282835,390352.11958823696,382647.58769134973,384540.4823136808,392387.37374622293,381917.92457702296,397510.16374783334,401398.5153298236,410397.2783867184,421370.9572473236,432427.3179441079,441449.24670275225],\"type\":\"scatter\"}],                        {\"legend\":{\"tracegroupgap\":0},\"template\":{\"data\":{\"barpolar\":[{\"marker\":{\"line\":{\"color\":\"#E5ECF6\",\"width\":0.5},\"pattern\":{\"fillmode\":\"overlay\",\"size\":10,\"solidity\":0.2}},\"type\":\"barpolar\"}],\"bar\":[{\"error_x\":{\"color\":\"#2a3f5f\"},\"error_y\":{\"color\":\"#2a3f5f\"},\"marker\":{\"line\":{\"color\":\"#E5ECF6\",\"width\":0.5},\"pattern\":{\"fillmode\":\"overlay\",\"size\":10,\"solidity\":0.2}},\"type\":\"bar\"}],\"carpet\":[{\"aaxis\":{\"endlinecolor\":\"#2a3f5f\",\"gridcolor\":\"white\",\"linecolor\":\"white\",\"minorgridcolor\":\"white\",\"startlinecolor\":\"#2a3f5f\"},\"baxis\":{\"endlinecolor\":\"#2a3f5f\",\"gridcolor\":\"white\",\"linecolor\":\"white\",\"minorgridcolor\":\"white\",\"startlinecolor\":\"#2a3f5f\"},\"type\":\"carpet\"}],\"choropleth\":[{\"colorbar\":{\"outlinewidth\":0,\"ticks\":\"\"},\"type\":\"choropleth\"}],\"contourcarpet\":[{\"colorbar\":{\"outlinewidth\":0,\"ticks\":\"\"},\"type\":\"contourcarpet\"}],\"contour\":[{\"colorbar\":{\"outlinewidth\":0,\"ticks\":\"\"},\"colorscale\":[[0.0,\"#0d0887\"],[0.1111111111111111,\"#46039f\"],[0.2222222222222222,\"#7201a8\"],[0.3333333333333333,\"#9c179e\"],[0.4444444444444444,\"#bd3786\"],[0.5555555555555556,\"#d8576b\"],[0.6666666666666666,\"#ed7953\"],[0.7777777777777778,\"#fb9f3a\"],[0.8888888888888888,\"#fdca26\"],[1.0,\"#f0f921\"]],\"type\":\"contour\"}],\"heatmapgl\":[{\"colorbar\":{\"outlinewidth\":0,\"ticks\":\"\"},\"colorscale\":[[0.0,\"#0d0887\"],[0.1111111111111111,\"#46039f\"],[0.2222222222222222,\"#7201a8\"],[0.3333333333333333,\"#9c179e\"],[0.4444444444444444,\"#bd3786\"],[0.5555555555555556,\"#d8576b\"],[0.6666666666666666,\"#ed7953\"],[0.7777777777777778,\"#fb9f3a\"],[0.8888888888888888,\"#fdca26\"],[1.0,\"#f0f921\"]],\"type\":\"heatmapgl\"}],\"heatmap\":[{\"colorbar\":{\"outlinewidth\":0,\"ticks\":\"\"},\"colorscale\":[[0.0,\"#0d0887\"],[0.1111111111111111,\"#46039f\"],[0.2222222222222222,\"#7201a8\"],[0.3333333333333333,\"#9c179e\"],[0.4444444444444444,\"#bd3786\"],[0.5555555555555556,\"#d8576b\"],[0.6666666666666666,\"#ed7953\"],[0.7777777777777778,\"#fb9f3a\"],[0.8888888888888888,\"#fdca26\"],[1.0,\"#f0f921\"]],\"type\":\"heatmap\"}],\"histogram2dcontour\":[{\"colorbar\":{\"outlinewidth\":0,\"ticks\":\"\"},\"colorscale\":[[0.0,\"#0d0887\"],[0.1111111111111111,\"#46039f\"],[0.2222222222222222,\"#7201a8\"],[0.3333333333333333,\"#9c179e\"],[0.4444444444444444,\"#bd3786\"],[0.5555555555555556,\"#d8576b\"],[0.6666666666666666,\"#ed7953\"],[0.7777777777777778,\"#fb9f3a\"],[0.8888888888888888,\"#fdca26\"],[1.0,\"#f0f921\"]],\"type\":\"histogram2dcontour\"}],\"histogram2d\":[{\"colorbar\":{\"outlinewidth\":0,\"ticks\":\"\"},\"colorscale\":[[0.0,\"#0d0887\"],[0.1111111111111111,\"#46039f\"],[0.2222222222222222,\"#7201a8\"],[0.3333333333333333,\"#9c179e\"],[0.4444444444444444,\"#bd3786\"],[0.5555555555555556,\"#d8576b\"],[0.6666666666666666,\"#ed7953\"],[0.7777777777777778,\"#fb9f3a\"],[0.8888888888888888,\"#fdca26\"],[1.0,\"#f0f921\"]],\"type\":\"histogram2d\"}],\"histogram\":[{\"marker\":{\"pattern\":{\"fillmode\":\"overlay\",\"size\":10,\"solidity\":0.2}},\"type\":\"histogram\"}],\"mesh3d\":[{\"colorbar\":{\"outlinewidth\":0,\"ticks\":\"\"},\"type\":\"mesh3d\"}],\"parcoords\":[{\"line\":{\"colorbar\":{\"outlinewidth\":0,\"ticks\":\"\"}},\"type\":\"parcoords\"}],\"pie\":[{\"automargin\":true,\"type\":\"pie\"}],\"scatter3d\":[{\"line\":{\"colorbar\":{\"outlinewidth\":0,\"ticks\":\"\"}},\"marker\":{\"colorbar\":{\"outlinewidth\":0,\"ticks\":\"\"}},\"type\":\"scatter3d\"}],\"scattercarpet\":[{\"marker\":{\"colorbar\":{\"outlinewidth\":0,\"ticks\":\"\"}},\"type\":\"scattercarpet\"}],\"scattergeo\":[{\"marker\":{\"colorbar\":{\"outlinewidth\":0,\"ticks\":\"\"}},\"type\":\"scattergeo\"}],\"scattergl\":[{\"marker\":{\"colorbar\":{\"outlinewidth\":0,\"ticks\":\"\"}},\"type\":\"scattergl\"}],\"scattermapbox\":[{\"marker\":{\"colorbar\":{\"outlinewidth\":0,\"ticks\":\"\"}},\"type\":\"scattermapbox\"}],\"scatterpolargl\":[{\"marker\":{\"colorbar\":{\"outlinewidth\":0,\"ticks\":\"\"}},\"type\":\"scatterpolargl\"}],\"scatterpolar\":[{\"marker\":{\"colorbar\":{\"outlinewidth\":0,\"ticks\":\"\"}},\"type\":\"scatterpolar\"}],\"scatter\":[{\"fillpattern\":{\"fillmode\":\"overlay\",\"size\":10,\"solidity\":0.2},\"type\":\"scatter\"}],\"scatterternary\":[{\"marker\":{\"colorbar\":{\"outlinewidth\":0,\"ticks\":\"\"}},\"type\":\"scatterternary\"}],\"surface\":[{\"colorbar\":{\"outlinewidth\":0,\"ticks\":\"\"},\"colorscale\":[[0.0,\"#0d0887\"],[0.1111111111111111,\"#46039f\"],[0.2222222222222222,\"#7201a8\"],[0.3333333333333333,\"#9c179e\"],[0.4444444444444444,\"#bd3786\"],[0.5555555555555556,\"#d8576b\"],[0.6666666666666666,\"#ed7953\"],[0.7777777777777778,\"#fb9f3a\"],[0.8888888888888888,\"#fdca26\"],[1.0,\"#f0f921\"]],\"type\":\"surface\"}],\"table\":[{\"cells\":{\"fill\":{\"color\":\"#EBF0F8\"},\"line\":{\"color\":\"white\"}},\"header\":{\"fill\":{\"color\":\"#C8D4E3\"},\"line\":{\"color\":\"white\"}},\"type\":\"table\"}]},\"layout\":{\"annotationdefaults\":{\"arrowcolor\":\"#2a3f5f\",\"arrowhead\":0,\"arrowwidth\":1},\"autotypenumbers\":\"strict\",\"coloraxis\":{\"colorbar\":{\"outlinewidth\":0,\"ticks\":\"\"}},\"colorscale\":{\"diverging\":[[0,\"#8e0152\"],[0.1,\"#c51b7d\"],[0.2,\"#de77ae\"],[0.3,\"#f1b6da\"],[0.4,\"#fde0ef\"],[0.5,\"#f7f7f7\"],[0.6,\"#e6f5d0\"],[0.7,\"#b8e186\"],[0.8,\"#7fbc41\"],[0.9,\"#4d9221\"],[1,\"#276419\"]],\"sequential\":[[0.0,\"#0d0887\"],[0.1111111111111111,\"#46039f\"],[0.2222222222222222,\"#7201a8\"],[0.3333333333333333,\"#9c179e\"],[0.4444444444444444,\"#bd3786\"],[0.5555555555555556,\"#d8576b\"],[0.6666666666666666,\"#ed7953\"],[0.7777777777777778,\"#fb9f3a\"],[0.8888888888888888,\"#fdca26\"],[1.0,\"#f0f921\"]],\"sequentialminus\":[[0.0,\"#0d0887\"],[0.1111111111111111,\"#46039f\"],[0.2222222222222222,\"#7201a8\"],[0.3333333333333333,\"#9c179e\"],[0.4444444444444444,\"#bd3786\"],[0.5555555555555556,\"#d8576b\"],[0.6666666666666666,\"#ed7953\"],[0.7777777777777778,\"#fb9f3a\"],[0.8888888888888888,\"#fdca26\"],[1.0,\"#f0f921\"]]},\"colorway\":[\"#636efa\",\"#EF553B\",\"#00cc96\",\"#ab63fa\",\"#FFA15A\",\"#19d3f3\",\"#FF6692\",\"#B6E880\",\"#FF97FF\",\"#FECB52\"],\"font\":{\"color\":\"#2a3f5f\"},\"geo\":{\"bgcolor\":\"white\",\"lakecolor\":\"white\",\"landcolor\":\"#E5ECF6\",\"showlakes\":true,\"showland\":true,\"subunitcolor\":\"white\"},\"hoverlabel\":{\"align\":\"left\"},\"hovermode\":\"closest\",\"mapbox\":{\"style\":\"light\"},\"paper_bgcolor\":\"white\",\"plot_bgcolor\":\"#E5ECF6\",\"polar\":{\"angularaxis\":{\"gridcolor\":\"white\",\"linecolor\":\"white\",\"ticks\":\"\"},\"bgcolor\":\"#E5ECF6\",\"radialaxis\":{\"gridcolor\":\"white\",\"linecolor\":\"white\",\"ticks\":\"\"}},\"scene\":{\"xaxis\":{\"backgroundcolor\":\"#E5ECF6\",\"gridcolor\":\"white\",\"gridwidth\":2,\"linecolor\":\"white\",\"showbackground\":true,\"ticks\":\"\",\"zerolinecolor\":\"white\"},\"yaxis\":{\"backgroundcolor\":\"#E5ECF6\",\"gridcolor\":\"white\",\"gridwidth\":2,\"linecolor\":\"white\",\"showbackground\":true,\"ticks\":\"\",\"zerolinecolor\":\"white\"},\"zaxis\":{\"backgroundcolor\":\"#E5ECF6\",\"gridcolor\":\"white\",\"gridwidth\":2,\"linecolor\":\"white\",\"showbackground\":true,\"ticks\":\"\",\"zerolinecolor\":\"white\"}},\"shapedefaults\":{\"line\":{\"color\":\"#2a3f5f\"}},\"ternary\":{\"aaxis\":{\"gridcolor\":\"white\",\"linecolor\":\"white\",\"ticks\":\"\"},\"baxis\":{\"gridcolor\":\"white\",\"linecolor\":\"white\",\"ticks\":\"\"},\"bgcolor\":\"#E5ECF6\",\"caxis\":{\"gridcolor\":\"white\",\"linecolor\":\"white\",\"ticks\":\"\"}},\"title\":{\"x\":0.05},\"xaxis\":{\"automargin\":true,\"gridcolor\":\"white\",\"linecolor\":\"white\",\"ticks\":\"\",\"title\":{\"standoff\":15},\"zerolinecolor\":\"white\",\"zerolinewidth\":2},\"yaxis\":{\"automargin\":true,\"gridcolor\":\"white\",\"linecolor\":\"white\",\"ticks\":\"\",\"title\":{\"standoff\":15},\"zerolinecolor\":\"white\",\"zerolinewidth\":2}}},\"title\":{\"text\":\"Anadarko Region oil production estimates using Kalman filter\"},\"xaxis\":{\"anchor\":\"y\",\"domain\":[0.0,1.0]},\"yaxis\":{\"anchor\":\"x\",\"domain\":[0.0,1.0]},\"images\":[{\"sizex\":0.15,\"sizey\":0.15,\"source\":\"https://upload.wikimedia.org/wikipedia/commons/thumb/4/49/Eia-logomark.svg/640px-Eia-logomark.svg.png\",\"x\":1.06,\"xanchor\":\"center\",\"y\":-0.06,\"yanchor\":\"bottom\"}]},                        {\"responsive\": true}                    ).then(function(){\n",
              "                            \n",
              "var gd = document.getElementById('75d1fd92-3a3a-45eb-b659-e71415721772');\n",
              "var x = new MutationObserver(function (mutations, observer) {{\n",
              "        var display = window.getComputedStyle(gd).display;\n",
              "        if (!display || display === 'none') {{\n",
              "            console.log([gd, 'removed!']);\n",
              "            Plotly.purge(gd);\n",
              "            observer.disconnect();\n",
              "        }}\n",
              "}});\n",
              "\n",
              "// Listen for the removal of the full notebook cells\n",
              "var notebookContainer = gd.closest('#notebook-container');\n",
              "if (notebookContainer) {{\n",
              "    x.observe(notebookContainer, {childList: true});\n",
              "}}\n",
              "\n",
              "// Listen for the clearing of the current output cell\n",
              "var outputEl = gd.closest('.output');\n",
              "if (outputEl) {{\n",
              "    x.observe(outputEl, {childList: true});\n",
              "}}\n",
              "\n",
              "                        })                };                            </script>        </div>\n",
              "</body>\n",
              "</html>"
            ]
          },
          "metadata": {}
        }
      ]
    },
    {
      "cell_type": "code",
      "source": [
        "fig = go.Figure(px.scatter(title=\"%s monthly changes in liquids production estimates using Kalman filter\" % (dprR.value)))\n",
        "fig.add_trace(go.Scatter(x=data.Month, y=Xp[:,1], mode='markers',name='PredictPR'))\n",
        "fig.add_trace(go.Scatter(x=data.Month, y=data.dPR, mode='markers',name='Reported'))\n",
        "fig.add_trace(go.Scatter(x=data.Month, y=Xu[:,1], mode='lines+markers',name='UpdatePR'))\n",
        "fig.layout.images = eiaLogo\n",
        "fig.show()"
      ],
      "metadata": {
        "colab": {
          "base_uri": "https://localhost:8080/",
          "height": 542
        },
        "id": "bVPBkudhY1rm",
        "outputId": "26228368-2ee6-4960-c245-84dbdd7ec6ac"
      },
      "execution_count": 10,
      "outputs": [
        {
          "output_type": "display_data",
          "data": {
            "text/html": [
              "<html>\n",
              "<head><meta charset=\"utf-8\" /></head>\n",
              "<body>\n",
              "    <div>            <script src=\"https://cdnjs.cloudflare.com/ajax/libs/mathjax/2.7.5/MathJax.js?config=TeX-AMS-MML_SVG\"></script><script type=\"text/javascript\">if (window.MathJax && window.MathJax.Hub && window.MathJax.Hub.Config) {window.MathJax.Hub.Config({SVG: {font: \"STIX-Web\"}});}</script>                <script type=\"text/javascript\">window.PlotlyConfig = {MathJaxConfig: 'local'};</script>\n",
              "        <script src=\"https://cdn.plot.ly/plotly-2.18.2.min.js\"></script>                <div id=\"fabb04b7-a27d-4e54-9eb8-992af04110fe\" class=\"plotly-graph-div\" style=\"height:525px; width:100%;\"></div>            <script type=\"text/javascript\">                                    window.PLOTLYENV=window.PLOTLYENV || {};                                    if (document.getElementById(\"fabb04b7-a27d-4e54-9eb8-992af04110fe\")) {                    Plotly.newPlot(                        \"fabb04b7-a27d-4e54-9eb8-992af04110fe\",                        [{\"hovertemplate\":\"<extra></extra>\",\"legendgroup\":\"\",\"marker\":{\"color\":\"#636efa\",\"symbol\":\"circle\"},\"mode\":\"markers\",\"name\":\"\",\"orientation\":\"v\",\"showlegend\":false,\"xaxis\":\"x\",\"yaxis\":\"y\",\"type\":\"scatter\"},{\"mode\":\"markers\",\"name\":\"PredictPR\",\"x\":[\"2007-02-01T00:00:00\",\"2007-03-01T00:00:00\",\"2007-04-01T00:00:00\",\"2007-05-01T00:00:00\",\"2007-06-01T00:00:00\",\"2007-07-01T00:00:00\",\"2007-08-01T00:00:00\",\"2007-09-01T00:00:00\",\"2007-10-01T00:00:00\",\"2007-11-01T00:00:00\",\"2007-12-01T00:00:00\",\"2008-01-01T00:00:00\",\"2008-02-01T00:00:00\",\"2008-03-01T00:00:00\",\"2008-04-01T00:00:00\",\"2008-05-01T00:00:00\",\"2008-06-01T00:00:00\",\"2008-07-01T00:00:00\",\"2008-08-01T00:00:00\",\"2008-09-01T00:00:00\",\"2008-10-01T00:00:00\",\"2008-11-01T00:00:00\",\"2008-12-01T00:00:00\",\"2009-01-01T00:00:00\",\"2009-02-01T00:00:00\",\"2009-03-01T00:00:00\",\"2009-04-01T00:00:00\",\"2009-05-01T00:00:00\",\"2009-06-01T00:00:00\",\"2009-07-01T00:00:00\",\"2009-08-01T00:00:00\",\"2009-09-01T00:00:00\",\"2009-10-01T00:00:00\",\"2009-11-01T00:00:00\",\"2009-12-01T00:00:00\",\"2010-01-01T00:00:00\",\"2010-02-01T00:00:00\",\"2010-03-01T00:00:00\",\"2010-04-01T00:00:00\",\"2010-05-01T00:00:00\",\"2010-06-01T00:00:00\",\"2010-07-01T00:00:00\",\"2010-08-01T00:00:00\",\"2010-09-01T00:00:00\",\"2010-10-01T00:00:00\",\"2010-11-01T00:00:00\",\"2010-12-01T00:00:00\",\"2011-01-01T00:00:00\",\"2011-02-01T00:00:00\",\"2011-03-01T00:00:00\",\"2011-04-01T00:00:00\",\"2011-05-01T00:00:00\",\"2011-06-01T00:00:00\",\"2011-07-01T00:00:00\",\"2011-08-01T00:00:00\",\"2011-09-01T00:00:00\",\"2011-10-01T00:00:00\",\"2011-11-01T00:00:00\",\"2011-12-01T00:00:00\",\"2012-01-01T00:00:00\",\"2012-02-01T00:00:00\",\"2012-03-01T00:00:00\",\"2012-04-01T00:00:00\",\"2012-05-01T00:00:00\",\"2012-06-01T00:00:00\",\"2012-07-01T00:00:00\",\"2012-08-01T00:00:00\",\"2012-09-01T00:00:00\",\"2012-10-01T00:00:00\",\"2012-11-01T00:00:00\",\"2012-12-01T00:00:00\",\"2013-01-01T00:00:00\",\"2013-02-01T00:00:00\",\"2013-03-01T00:00:00\",\"2013-04-01T00:00:00\",\"2013-05-01T00:00:00\",\"2013-06-01T00:00:00\",\"2013-07-01T00:00:00\",\"2013-08-01T00:00:00\",\"2013-09-01T00:00:00\",\"2013-10-01T00:00:00\",\"2013-11-01T00:00:00\",\"2013-12-01T00:00:00\",\"2014-01-01T00:00:00\",\"2014-02-01T00:00:00\",\"2014-03-01T00:00:00\",\"2014-04-01T00:00:00\",\"2014-05-01T00:00:00\",\"2014-06-01T00:00:00\",\"2014-07-01T00:00:00\",\"2014-08-01T00:00:00\",\"2014-09-01T00:00:00\",\"2014-10-01T00:00:00\",\"2014-11-01T00:00:00\",\"2014-12-01T00:00:00\",\"2015-01-01T00:00:00\",\"2015-02-01T00:00:00\",\"2015-03-01T00:00:00\",\"2015-04-01T00:00:00\",\"2015-05-01T00:00:00\",\"2015-06-01T00:00:00\",\"2015-07-01T00:00:00\",\"2015-08-01T00:00:00\",\"2015-09-01T00:00:00\",\"2015-10-01T00:00:00\",\"2015-11-01T00:00:00\",\"2015-12-01T00:00:00\",\"2016-01-01T00:00:00\",\"2016-02-01T00:00:00\",\"2016-03-01T00:00:00\",\"2016-04-01T00:00:00\",\"2016-05-01T00:00:00\",\"2016-06-01T00:00:00\",\"2016-07-01T00:00:00\",\"2016-08-01T00:00:00\",\"2016-09-01T00:00:00\",\"2016-10-01T00:00:00\",\"2016-11-01T00:00:00\",\"2016-12-01T00:00:00\",\"2017-01-01T00:00:00\",\"2017-02-01T00:00:00\",\"2017-03-01T00:00:00\",\"2017-04-01T00:00:00\",\"2017-05-01T00:00:00\",\"2017-06-01T00:00:00\",\"2017-07-01T00:00:00\",\"2017-08-01T00:00:00\",\"2017-09-01T00:00:00\",\"2017-10-01T00:00:00\",\"2017-11-01T00:00:00\",\"2017-12-01T00:00:00\",\"2018-01-01T00:00:00\",\"2018-02-01T00:00:00\",\"2018-03-01T00:00:00\",\"2018-04-01T00:00:00\",\"2018-05-01T00:00:00\",\"2018-06-01T00:00:00\",\"2018-07-01T00:00:00\",\"2018-08-01T00:00:00\",\"2018-09-01T00:00:00\",\"2018-10-01T00:00:00\",\"2018-11-01T00:00:00\",\"2018-12-01T00:00:00\",\"2019-01-01T00:00:00\",\"2019-02-01T00:00:00\",\"2019-03-01T00:00:00\",\"2019-04-01T00:00:00\",\"2019-05-01T00:00:00\",\"2019-06-01T00:00:00\",\"2019-07-01T00:00:00\",\"2019-08-01T00:00:00\",\"2019-09-01T00:00:00\",\"2019-10-01T00:00:00\",\"2019-11-01T00:00:00\",\"2019-12-01T00:00:00\",\"2020-01-01T00:00:00\",\"2020-02-01T00:00:00\",\"2020-03-01T00:00:00\",\"2020-04-01T00:00:00\",\"2020-05-01T00:00:00\",\"2020-06-01T00:00:00\",\"2020-07-01T00:00:00\",\"2020-08-01T00:00:00\",\"2020-09-01T00:00:00\",\"2020-10-01T00:00:00\",\"2020-11-01T00:00:00\",\"2020-12-01T00:00:00\",\"2021-01-01T00:00:00\",\"2021-02-01T00:00:00\",\"2021-03-01T00:00:00\",\"2021-04-01T00:00:00\",\"2021-05-01T00:00:00\",\"2021-06-01T00:00:00\",\"2021-07-01T00:00:00\",\"2021-08-01T00:00:00\",\"2021-09-01T00:00:00\",\"2021-10-01T00:00:00\",\"2021-11-01T00:00:00\",\"2021-12-01T00:00:00\",\"2022-01-01T00:00:00\",\"2022-02-01T00:00:00\",\"2022-03-01T00:00:00\",\"2022-04-01T00:00:00\",\"2022-05-01T00:00:00\",\"2022-06-01T00:00:00\",\"2022-07-01T00:00:00\",\"2022-08-01T00:00:00\",\"2022-09-01T00:00:00\",\"2022-10-01T00:00:00\",\"2022-11-01T00:00:00\",\"2022-12-01T00:00:00\",\"2023-01-01T00:00:00\",\"2023-02-01T00:00:00\",\"2023-03-01T00:00:00\",\"2023-04-01T00:00:00\",\"2023-05-01T00:00:00\",\"2023-06-01T00:00:00\"],\"y\":[3324.1999999999884,3215.2938726838033,3069.3122325100053,3041.778189623272,2921.0972496884074,1247.054239035226,816.7028110284872,650.3659686572098,1428.5202478212632,855.720332332735,733.2416262662597,-367.48731995979153,1315.846263838463,1050.7687806794254,1538.180539058369,1911.5061799331345,1384.816001993568,696.0274181993768,1041.495370353821,-387.3442636542543,0.0693316259595349,-756.2394527124322,-1068.8100020715087,-1225.2382912971293,-1172.168653267242,618.9527327187882,284.4414441464479,87.0095751729803,473.6383221569455,466.3169062841562,-1035.3133375596312,-1374.438126883984,-802.8547813197489,-761.5979469848015,-646.2106553745316,-1316.7709300989113,-1905.6004487165278,-137.6192820658116,1672.5625881010465,2652.7028198791054,2888.2406137369844,2436.0462784231136,2374.6093042338825,2723.9896074407457,2815.9426612739603,3441.023433788955,5181.4928747334525,4611.584872365575,4182.4994343199505,763.4313203100205,5327.554182493848,6002.813825507021,6123.898085067309,5681.23369653491,4570.5824620749745,4390.722802252573,4635.109268184445,6114.573426687172,6336.378616421141,5171.121766629763,6235.41842533047,5828.072071749467,4318.406781608279,5099.28980173738,5662.578022359275,4429.125185018456,5926.376195490013,6643.514195490582,7256.426990009512,9416.578994269845,9036.767745366964,6029.097195207402,6438.7896303010575,1034.463529736713,5089.400575895703,7488.899185299371,7563.539986142758,6739.609494009171,3864.0635445555317,6464.123074546431,6740.475737065972,7167.357018794217,2605.1071103979457,1094.6970364410622,3489.6621752994106,2181.489539649264,5053.408100204229,72.88350746014567,6709.367914561837,7167.033815309527,9123.05838795118,8462.642960142794,8203.739716527063,8981.153374755562,7249.0996992690525,6306.851335963973,4957.49061971373,2027.5961060923996,6538.925677490868,5422.934993550885,2570.19394329341,936.0794391744109,-3042.0924992216515,-4443.7868348807,-5088.250473227063,-4043.685634732059,-4337.413966687239,-2180.775525861187,-1179.118081281971,-8229.629527469944,-3247.352081395402,-6236.304767344235,-4202.584757069431,-3805.2478049221045,-4494.387784026254,-3475.4008734857707,-3281.357576841466,-1123.278650643143,492.27558487172314,-311.3839938425135,-2554.567935420836,655.7674548335021,3447.332043811945,2903.240716341883,2976.249458998921,5531.543562738856,5086.69437289134,6469.590856026631,6547.191549708303,8890.110746895196,11020.123160773363,8982.670565415456,12359.412519364434,11863.505535052886,13783.647773783323,9014.3490280031,5843.871500216346,546.553477869963,469.33969255326707,7463.017931082551,3828.725927249353,6762.116679026788,6952.517473885426,10639.414429200573,8206.47712544644,3475.81415618113,2680.154811583416,5373.471965566347,3406.2737822733634,895.2595157421888,-458.36323887905905,-3930.5053406386132,3574.0168854750254,4150.494279577425,-357.176314844688,1470.5631530649296,-6600.499755200826,-8608.967991105877,-10418.517606487212,-18740.874186368128,-42904.33566511999,-24457.126950573624,-13532.36488632054,-11701.662365943746,-10274.516295585414,-11219.83595987985,-2451.6854842454613,-3070.78181738878,-3143.3043735127653,-20349.306103599276,-6974.868365395116,-3986.7135477848906,-1406.4815134770233,-2187.250686999173,-2803.7894960447047,-2925.590606249981,506.8729781576317,1713.2136853486586,661.1515913535561,1538.5139802902481,90.1972391116833,-3556.0882447235567,3163.9157569919194,4458.454486905184,4165.764643569288,3016.8912591484072,18.760698726793635,100.28965434686873,-2438.3431870043687,-704.2380232836047,2091.869984669416,-2436.22086119738,3996.8031849418776,3435.2923809347394,5208.459271696781,6944.22307257337,8092.6579437473065],\"type\":\"scatter\"},{\"mode\":\"markers\",\"name\":\"Reported\",\"x\":[\"2007-02-01T00:00:00\",\"2007-03-01T00:00:00\",\"2007-04-01T00:00:00\",\"2007-05-01T00:00:00\",\"2007-06-01T00:00:00\",\"2007-07-01T00:00:00\",\"2007-08-01T00:00:00\",\"2007-09-01T00:00:00\",\"2007-10-01T00:00:00\",\"2007-11-01T00:00:00\",\"2007-12-01T00:00:00\",\"2008-01-01T00:00:00\",\"2008-02-01T00:00:00\",\"2008-03-01T00:00:00\",\"2008-04-01T00:00:00\",\"2008-05-01T00:00:00\",\"2008-06-01T00:00:00\",\"2008-07-01T00:00:00\",\"2008-08-01T00:00:00\",\"2008-09-01T00:00:00\",\"2008-10-01T00:00:00\",\"2008-11-01T00:00:00\",\"2008-12-01T00:00:00\",\"2009-01-01T00:00:00\",\"2009-02-01T00:00:00\",\"2009-03-01T00:00:00\",\"2009-04-01T00:00:00\",\"2009-05-01T00:00:00\",\"2009-06-01T00:00:00\",\"2009-07-01T00:00:00\",\"2009-08-01T00:00:00\",\"2009-09-01T00:00:00\",\"2009-10-01T00:00:00\",\"2009-11-01T00:00:00\",\"2009-12-01T00:00:00\",\"2010-01-01T00:00:00\",\"2010-02-01T00:00:00\",\"2010-03-01T00:00:00\",\"2010-04-01T00:00:00\",\"2010-05-01T00:00:00\",\"2010-06-01T00:00:00\",\"2010-07-01T00:00:00\",\"2010-08-01T00:00:00\",\"2010-09-01T00:00:00\",\"2010-10-01T00:00:00\",\"2010-11-01T00:00:00\",\"2010-12-01T00:00:00\",\"2011-01-01T00:00:00\",\"2011-02-01T00:00:00\",\"2011-03-01T00:00:00\",\"2011-04-01T00:00:00\",\"2011-05-01T00:00:00\",\"2011-06-01T00:00:00\",\"2011-07-01T00:00:00\",\"2011-08-01T00:00:00\",\"2011-09-01T00:00:00\",\"2011-10-01T00:00:00\",\"2011-11-01T00:00:00\",\"2011-12-01T00:00:00\",\"2012-01-01T00:00:00\",\"2012-02-01T00:00:00\",\"2012-03-01T00:00:00\",\"2012-04-01T00:00:00\",\"2012-05-01T00:00:00\",\"2012-06-01T00:00:00\",\"2012-07-01T00:00:00\",\"2012-08-01T00:00:00\",\"2012-09-01T00:00:00\",\"2012-10-01T00:00:00\",\"2012-11-01T00:00:00\",\"2012-12-01T00:00:00\",\"2013-01-01T00:00:00\",\"2013-02-01T00:00:00\",\"2013-03-01T00:00:00\",\"2013-04-01T00:00:00\",\"2013-05-01T00:00:00\",\"2013-06-01T00:00:00\",\"2013-07-01T00:00:00\",\"2013-08-01T00:00:00\",\"2013-09-01T00:00:00\",\"2013-10-01T00:00:00\",\"2013-11-01T00:00:00\",\"2013-12-01T00:00:00\",\"2014-01-01T00:00:00\",\"2014-02-01T00:00:00\",\"2014-03-01T00:00:00\",\"2014-04-01T00:00:00\",\"2014-05-01T00:00:00\",\"2014-06-01T00:00:00\",\"2014-07-01T00:00:00\",\"2014-08-01T00:00:00\",\"2014-09-01T00:00:00\",\"2014-10-01T00:00:00\",\"2014-11-01T00:00:00\",\"2014-12-01T00:00:00\",\"2015-01-01T00:00:00\",\"2015-02-01T00:00:00\",\"2015-03-01T00:00:00\",\"2015-04-01T00:00:00\",\"2015-05-01T00:00:00\",\"2015-06-01T00:00:00\",\"2015-07-01T00:00:00\",\"2015-08-01T00:00:00\",\"2015-09-01T00:00:00\",\"2015-10-01T00:00:00\",\"2015-11-01T00:00:00\",\"2015-12-01T00:00:00\",\"2016-01-01T00:00:00\",\"2016-02-01T00:00:00\",\"2016-03-01T00:00:00\",\"2016-04-01T00:00:00\",\"2016-05-01T00:00:00\",\"2016-06-01T00:00:00\",\"2016-07-01T00:00:00\",\"2016-08-01T00:00:00\",\"2016-09-01T00:00:00\",\"2016-10-01T00:00:00\",\"2016-11-01T00:00:00\",\"2016-12-01T00:00:00\",\"2017-01-01T00:00:00\",\"2017-02-01T00:00:00\",\"2017-03-01T00:00:00\",\"2017-04-01T00:00:00\",\"2017-05-01T00:00:00\",\"2017-06-01T00:00:00\",\"2017-07-01T00:00:00\",\"2017-08-01T00:00:00\",\"2017-09-01T00:00:00\",\"2017-10-01T00:00:00\",\"2017-11-01T00:00:00\",\"2017-12-01T00:00:00\",\"2018-01-01T00:00:00\",\"2018-02-01T00:00:00\",\"2018-03-01T00:00:00\",\"2018-04-01T00:00:00\",\"2018-05-01T00:00:00\",\"2018-06-01T00:00:00\",\"2018-07-01T00:00:00\",\"2018-08-01T00:00:00\",\"2018-09-01T00:00:00\",\"2018-10-01T00:00:00\",\"2018-11-01T00:00:00\",\"2018-12-01T00:00:00\",\"2019-01-01T00:00:00\",\"2019-02-01T00:00:00\",\"2019-03-01T00:00:00\",\"2019-04-01T00:00:00\",\"2019-05-01T00:00:00\",\"2019-06-01T00:00:00\",\"2019-07-01T00:00:00\",\"2019-08-01T00:00:00\",\"2019-09-01T00:00:00\",\"2019-10-01T00:00:00\",\"2019-11-01T00:00:00\",\"2019-12-01T00:00:00\",\"2020-01-01T00:00:00\",\"2020-02-01T00:00:00\",\"2020-03-01T00:00:00\",\"2020-04-01T00:00:00\",\"2020-05-01T00:00:00\",\"2020-06-01T00:00:00\",\"2020-07-01T00:00:00\",\"2020-08-01T00:00:00\",\"2020-09-01T00:00:00\",\"2020-10-01T00:00:00\",\"2020-11-01T00:00:00\",\"2020-12-01T00:00:00\",\"2021-01-01T00:00:00\",\"2021-02-01T00:00:00\",\"2021-03-01T00:00:00\",\"2021-04-01T00:00:00\",\"2021-05-01T00:00:00\",\"2021-06-01T00:00:00\",\"2021-07-01T00:00:00\",\"2021-08-01T00:00:00\",\"2021-09-01T00:00:00\",\"2021-10-01T00:00:00\",\"2021-11-01T00:00:00\",\"2021-12-01T00:00:00\",\"2022-01-01T00:00:00\",\"2022-02-01T00:00:00\",\"2022-03-01T00:00:00\",\"2022-04-01T00:00:00\",\"2022-05-01T00:00:00\",\"2022-06-01T00:00:00\",\"2022-07-01T00:00:00\",\"2022-08-01T00:00:00\",\"2022-09-01T00:00:00\",\"2022-10-01T00:00:00\",\"2022-11-01T00:00:00\",\"2022-12-01T00:00:00\",\"2023-01-01T00:00:00\",\"2023-02-01T00:00:00\",\"2023-03-01T00:00:00\",\"2023-04-01T00:00:00\",\"2023-05-01T00:00:00\",\"2023-06-01T00:00:00\"],\"y\":[3338.2999999999884,3338.2999999999884,3948.399999999994,2742.399999999994,-6971.299999999988,2090.7999999999884,1825.6000000000058,6397.5,-3488.100000000006,820.1000000000058,-5797.899999999994,12736.399999999994,-3098.0,3810.899999999994,2805.4000000000233,-2504.5,-2202.7000000000116,4533.299999999988,-8254.699999999983,4892.1999999999825,-4709.099999999977,-1086.2000000000116,-855.5,-74.70000000001164,10305.600000000006,-5087.100000000006,-1305.6999999999825,2830.0,-265.20000000001164,-9229.799999999988,-175.0,3820.600000000006,-1238.9000000000233,-353.0,-5245.299999999988,-3844.5,10870.0,8123.700000000012,3174.6999999999825,683.6000000000058,-1512.5,2517.100000000006,4824.299999999988,2650.399999999994,6362.900000000023,12963.599999999977,-2392.6999999999825,1823.3999999999942,-16505.79999999999,36963.29999999999,2323.899999999994,3136.5,2038.0,-822.7999999999884,5855.5,6975.1999999999825,13845.200000000012,4409.600000000006,-2341.7000000000116,13863.899999999994,1997.9000000000233,-3396.9000000000233,12495.900000000023,8035.899999999965,-3507.0999999999767,16059.200000000012,7982.5,8422.700000000012,19034.899999999965,1961.9000000000233,-10712.400000000023,14588.799999999988,-26822.399999999965,38060.70000000001,15370.599999999977,1516.7999999999884,242.60000000003492,-10321.5,26572.699999999953,4710.5,7848.700000000012,-23138.399999999965,2123.7999999999884,22064.79999999999,-8022.700000000012,22088.900000000023,-31870.100000000035,50625.40000000002,-1466.5999999999767,15264.599999999977,-384.5999999999767,6569.199999999953,13560.900000000023,-3372.0,4397.599999999977,670.3000000000466,-9746.600000000035,37951.20000000001,-7656.200000000012,-12441.099999999977,-1768.100000000035,-19163.399999999965,-2179.7999999999884,-2735.7000000000116,4612.899999999965,-7070.199999999953,9554.299999999988,-265.29999999998836,-49122.5,36886.79999999999,-28370.5,10937.700000000012,-4583.200000000012,-9873.900000000023,2838.2999999999884,-4081.0999999999767,9381.799999999988,4318.900000000023,-9326.5,-14266.700000000012,22448.5,13021.700000000012,-7341.299999999988,2243.899999999965,18714.20000000001,-2742.7999999999884,13127.299999999988,3925.9000000000233,20295.0,17236.199999999953,-7790.399999999965,32756.0,2994.5999999999767,23134.00000000006,-20595.20000000007,-2477.399999999965,-18587.20000000001,13697.400000000023,48943.29999999993,-28671.199999999953,25956.300000000047,2971.1999999999534,28361.099999999977,-12867.0,-19074.0,9034.099999999977,24502.100000000093,-11188.600000000093,-9626.0,-1652.2999999999302,-17811.800000000047,52123.30000000005,-5643.70000000007,-29376.099999999977,18992.099999999977,-51016.09999999998,-3112.1999999999534,-11056.0,-56593.30000000005,-152371.69999999995,129340.39999999997,23161.900000000023,-30913.100000000035,-15115.399999999965,-22917.100000000035,44184.80000000005,-24466.800000000047,-7665.799999999988,-113062.0,99401.90000000002,-5141.700000000012,1037.2000000000116,-15045.0,-7077.799999999988,-2597.3000000000466,19303.100000000035,1209.2000000000116,-9524.800000000047,7019.900000000023,-9205.299999999988,-20458.600000000035,47211.100000000035,-16.5,-3468.5,-4337.700000000012,-13934.299999999988,7309.799999999988,-14107.700000000012,14334.100000000035,15120.799999999988,-32889.600000000035,45688.90000000002,-10579.0,12507.099999999977,11907.0,9374.0,5083.400000000023],\"type\":\"scatter\"},{\"mode\":\"lines+markers\",\"name\":\"UpdatePR\",\"x\":[\"2007-02-01T00:00:00\",\"2007-03-01T00:00:00\",\"2007-04-01T00:00:00\",\"2007-05-01T00:00:00\",\"2007-06-01T00:00:00\",\"2007-07-01T00:00:00\",\"2007-08-01T00:00:00\",\"2007-09-01T00:00:00\",\"2007-10-01T00:00:00\",\"2007-11-01T00:00:00\",\"2007-12-01T00:00:00\",\"2008-01-01T00:00:00\",\"2008-02-01T00:00:00\",\"2008-03-01T00:00:00\",\"2008-04-01T00:00:00\",\"2008-05-01T00:00:00\",\"2008-06-01T00:00:00\",\"2008-07-01T00:00:00\",\"2008-08-01T00:00:00\",\"2008-09-01T00:00:00\",\"2008-10-01T00:00:00\",\"2008-11-01T00:00:00\",\"2008-12-01T00:00:00\",\"2009-01-01T00:00:00\",\"2009-02-01T00:00:00\",\"2009-03-01T00:00:00\",\"2009-04-01T00:00:00\",\"2009-05-01T00:00:00\",\"2009-06-01T00:00:00\",\"2009-07-01T00:00:00\",\"2009-08-01T00:00:00\",\"2009-09-01T00:00:00\",\"2009-10-01T00:00:00\",\"2009-11-01T00:00:00\",\"2009-12-01T00:00:00\",\"2010-01-01T00:00:00\",\"2010-02-01T00:00:00\",\"2010-03-01T00:00:00\",\"2010-04-01T00:00:00\",\"2010-05-01T00:00:00\",\"2010-06-01T00:00:00\",\"2010-07-01T00:00:00\",\"2010-08-01T00:00:00\",\"2010-09-01T00:00:00\",\"2010-10-01T00:00:00\",\"2010-11-01T00:00:00\",\"2010-12-01T00:00:00\",\"2011-01-01T00:00:00\",\"2011-02-01T00:00:00\",\"2011-03-01T00:00:00\",\"2011-04-01T00:00:00\",\"2011-05-01T00:00:00\",\"2011-06-01T00:00:00\",\"2011-07-01T00:00:00\",\"2011-08-01T00:00:00\",\"2011-09-01T00:00:00\",\"2011-10-01T00:00:00\",\"2011-11-01T00:00:00\",\"2011-12-01T00:00:00\",\"2012-01-01T00:00:00\",\"2012-02-01T00:00:00\",\"2012-03-01T00:00:00\",\"2012-04-01T00:00:00\",\"2012-05-01T00:00:00\",\"2012-06-01T00:00:00\",\"2012-07-01T00:00:00\",\"2012-08-01T00:00:00\",\"2012-09-01T00:00:00\",\"2012-10-01T00:00:00\",\"2012-11-01T00:00:00\",\"2012-12-01T00:00:00\",\"2013-01-01T00:00:00\",\"2013-02-01T00:00:00\",\"2013-03-01T00:00:00\",\"2013-04-01T00:00:00\",\"2013-05-01T00:00:00\",\"2013-06-01T00:00:00\",\"2013-07-01T00:00:00\",\"2013-08-01T00:00:00\",\"2013-09-01T00:00:00\",\"2013-10-01T00:00:00\",\"2013-11-01T00:00:00\",\"2013-12-01T00:00:00\",\"2014-01-01T00:00:00\",\"2014-02-01T00:00:00\",\"2014-03-01T00:00:00\",\"2014-04-01T00:00:00\",\"2014-05-01T00:00:00\",\"2014-06-01T00:00:00\",\"2014-07-01T00:00:00\",\"2014-08-01T00:00:00\",\"2014-09-01T00:00:00\",\"2014-10-01T00:00:00\",\"2014-11-01T00:00:00\",\"2014-12-01T00:00:00\",\"2015-01-01T00:00:00\",\"2015-02-01T00:00:00\",\"2015-03-01T00:00:00\",\"2015-04-01T00:00:00\",\"2015-05-01T00:00:00\",\"2015-06-01T00:00:00\",\"2015-07-01T00:00:00\",\"2015-08-01T00:00:00\",\"2015-09-01T00:00:00\",\"2015-10-01T00:00:00\",\"2015-11-01T00:00:00\",\"2015-12-01T00:00:00\",\"2016-01-01T00:00:00\",\"2016-02-01T00:00:00\",\"2016-03-01T00:00:00\",\"2016-04-01T00:00:00\",\"2016-05-01T00:00:00\",\"2016-06-01T00:00:00\",\"2016-07-01T00:00:00\",\"2016-08-01T00:00:00\",\"2016-09-01T00:00:00\",\"2016-10-01T00:00:00\",\"2016-11-01T00:00:00\",\"2016-12-01T00:00:00\",\"2017-01-01T00:00:00\",\"2017-02-01T00:00:00\",\"2017-03-01T00:00:00\",\"2017-04-01T00:00:00\",\"2017-05-01T00:00:00\",\"2017-06-01T00:00:00\",\"2017-07-01T00:00:00\",\"2017-08-01T00:00:00\",\"2017-09-01T00:00:00\",\"2017-10-01T00:00:00\",\"2017-11-01T00:00:00\",\"2017-12-01T00:00:00\",\"2018-01-01T00:00:00\",\"2018-02-01T00:00:00\",\"2018-03-01T00:00:00\",\"2018-04-01T00:00:00\",\"2018-05-01T00:00:00\",\"2018-06-01T00:00:00\",\"2018-07-01T00:00:00\",\"2018-08-01T00:00:00\",\"2018-09-01T00:00:00\",\"2018-10-01T00:00:00\",\"2018-11-01T00:00:00\",\"2018-12-01T00:00:00\",\"2019-01-01T00:00:00\",\"2019-02-01T00:00:00\",\"2019-03-01T00:00:00\",\"2019-04-01T00:00:00\",\"2019-05-01T00:00:00\",\"2019-06-01T00:00:00\",\"2019-07-01T00:00:00\",\"2019-08-01T00:00:00\",\"2019-09-01T00:00:00\",\"2019-10-01T00:00:00\",\"2019-11-01T00:00:00\",\"2019-12-01T00:00:00\",\"2020-01-01T00:00:00\",\"2020-02-01T00:00:00\",\"2020-03-01T00:00:00\",\"2020-04-01T00:00:00\",\"2020-05-01T00:00:00\",\"2020-06-01T00:00:00\",\"2020-07-01T00:00:00\",\"2020-08-01T00:00:00\",\"2020-09-01T00:00:00\",\"2020-10-01T00:00:00\",\"2020-11-01T00:00:00\",\"2020-12-01T00:00:00\",\"2021-01-01T00:00:00\",\"2021-02-01T00:00:00\",\"2021-03-01T00:00:00\",\"2021-04-01T00:00:00\",\"2021-05-01T00:00:00\",\"2021-06-01T00:00:00\",\"2021-07-01T00:00:00\",\"2021-08-01T00:00:00\",\"2021-09-01T00:00:00\",\"2021-10-01T00:00:00\",\"2021-11-01T00:00:00\",\"2021-12-01T00:00:00\",\"2022-01-01T00:00:00\",\"2022-02-01T00:00:00\",\"2022-03-01T00:00:00\",\"2022-04-01T00:00:00\",\"2022-05-01T00:00:00\",\"2022-06-01T00:00:00\",\"2022-07-01T00:00:00\",\"2022-08-01T00:00:00\",\"2022-09-01T00:00:00\",\"2022-10-01T00:00:00\",\"2022-11-01T00:00:00\",\"2022-12-01T00:00:00\",\"2023-01-01T00:00:00\",\"2023-02-01T00:00:00\",\"2023-03-01T00:00:00\",\"2023-04-01T00:00:00\",\"2023-05-01T00:00:00\",\"2023-06-01T00:00:00\"],\"y\":[3229.3938726838032,3083.412232510005,3055.8781896232717,2929.797249688407,1234.054239035226,805.7028110284872,665.3659686572098,1421.5202478212632,860.720332332735,727.2416262662597,-375.48731995979153,1315.846263838463,1052.7687806794254,1531.180539058369,1908.5061799331345,1384.816001993568,697.0274181993768,1042.495370353821,-393.3442636542543,-9.930668374040465,-758.2394527124322,-1059.8100020715087,-1209.2382912971293,-1141.168653267242,640.9527327187882,307.4414441464479,108.0095751729803,485.6383221569455,476.3169062841562,-1030.3133375596312,-1376.438126883984,-806.8547813197489,-762.5979469848015,-651.2106553745316,-1323.7709300989113,-1922.6004487165278,-144.6192820658116,1665.5625881010465,2646.7028198791054,2879.2406137369844,2427.0462784231136,2368.6093042338825,2715.9896074407457,2809.9426612739603,3434.023433788955,5165.4928747334525,4611.584872365575,4172.4994343199505,768.4313203100205,5331.554182493848,5996.813825507021,6109.898085067309,5680.23369653491,4568.5824620749745,4385.722802252573,4623.109268184445,6114.573426687172,6334.378616421141,5182.121766629763,6234.41842533047,5819.072071749467,4309.406781608279,5098.28980173738,5664.578022359275,4427.125185018456,5929.376195490013,6639.514195490582,7273.426990009512,9428.578994269845,9038.767745366964,6030.097195207402,6436.7896303010575,1029.463529736713,5080.400575895703,7493.899185299371,7561.539986142758,6733.609494009171,3869.0635445555317,6467.123074546431,6740.475737065972,7171.357018794217,2592.1071103979457,1101.6970364410622,3493.6621752994106,2177.489539649264,5053.408100204229,68.88350746014567,6696.367914561837,7167.033815309527,9120.05838795118,8457.642960142794,8196.739716527063,8974.153374755562,7256.0996992690525,6303.851335963973,4959.49061971373,2056.5961060923996,6589.925677490868,5447.934993550885,2587.19394329341,956.0794391744109,-3046.0924992216515,-4444.7868348807,-5091.250473227063,-4039.685634732059,-4325.413966687239,-2173.775525861187,-1182.118081281971,-8226.629527469944,-3234.352081395402,-6230.304767344235,-4197.584757069431,-3800.2478049221045,-4495.387784026254,-3479.4008734857707,-3283.357576841466,-1130.278650643143,483.27558487172314,-313.3839938425135,-2557.567935420836,654.7674548335021,3435.332043811945,2894.240716341883,2963.249458998921,5533.543562738856,5077.69437289134,6465.590856026631,6549.191549708303,8891.110746895196,11025.123160773363,8985.670565415456,12359.412519364434,11865.505535052886,13779.647773783323,9012.3490280031,5839.871500216346,539.553477869963,465.33969255326707,7462.017931082551,3828.725927249353,6764.116679026788,6951.517473885426,10635.414429200573,8212.47712544644,3486.81415618113,2694.154811583416,5379.471965566347,3410.2737822733634,901.2595157421888,-457.36323887905905,-3927.5053406386132,3585.0168854750254,4164.494279577425,-346.176314844688,1476.5631530649296,-6597.499755200826,-8610.967991105877,-10417.517606487212,-18734.874186368128,-42887.33566511999,-24444.126950573624,-13530.36488632054,-11701.662365943746,-10275.516295585414,-11220.83595987985,-2452.6854842454613,-3071.78181738878,-3144.3043735127653,-20353.306103599276,-6974.868365395116,-3985.7135477848906,-1410.4815134770233,-2190.250686999173,-2805.7894960447047,-2926.590606249981,502.8729781576317,1710.2136853486586,655.1515913535561,1536.5139802902481,86.1972391116833,-3559.0882447235567,3161.9157569919194,4460.454486905184,4165.764643569288,3012.8912591484072,17.760698726793635,98.28965434686873,-2441.3431870043687,-703.2380232836047,2089.869984669416,-2441.22086119738,3993.8031849418776,3436.2923809347394,5208.459271696781,6947.22307257337,8098.6579437473065,8223.565586373357],\"type\":\"scatter\"}],                        {\"legend\":{\"tracegroupgap\":0},\"template\":{\"data\":{\"barpolar\":[{\"marker\":{\"line\":{\"color\":\"#E5ECF6\",\"width\":0.5},\"pattern\":{\"fillmode\":\"overlay\",\"size\":10,\"solidity\":0.2}},\"type\":\"barpolar\"}],\"bar\":[{\"error_x\":{\"color\":\"#2a3f5f\"},\"error_y\":{\"color\":\"#2a3f5f\"},\"marker\":{\"line\":{\"color\":\"#E5ECF6\",\"width\":0.5},\"pattern\":{\"fillmode\":\"overlay\",\"size\":10,\"solidity\":0.2}},\"type\":\"bar\"}],\"carpet\":[{\"aaxis\":{\"endlinecolor\":\"#2a3f5f\",\"gridcolor\":\"white\",\"linecolor\":\"white\",\"minorgridcolor\":\"white\",\"startlinecolor\":\"#2a3f5f\"},\"baxis\":{\"endlinecolor\":\"#2a3f5f\",\"gridcolor\":\"white\",\"linecolor\":\"white\",\"minorgridcolor\":\"white\",\"startlinecolor\":\"#2a3f5f\"},\"type\":\"carpet\"}],\"choropleth\":[{\"colorbar\":{\"outlinewidth\":0,\"ticks\":\"\"},\"type\":\"choropleth\"}],\"contourcarpet\":[{\"colorbar\":{\"outlinewidth\":0,\"ticks\":\"\"},\"type\":\"contourcarpet\"}],\"contour\":[{\"colorbar\":{\"outlinewidth\":0,\"ticks\":\"\"},\"colorscale\":[[0.0,\"#0d0887\"],[0.1111111111111111,\"#46039f\"],[0.2222222222222222,\"#7201a8\"],[0.3333333333333333,\"#9c179e\"],[0.4444444444444444,\"#bd3786\"],[0.5555555555555556,\"#d8576b\"],[0.6666666666666666,\"#ed7953\"],[0.7777777777777778,\"#fb9f3a\"],[0.8888888888888888,\"#fdca26\"],[1.0,\"#f0f921\"]],\"type\":\"contour\"}],\"heatmapgl\":[{\"colorbar\":{\"outlinewidth\":0,\"ticks\":\"\"},\"colorscale\":[[0.0,\"#0d0887\"],[0.1111111111111111,\"#46039f\"],[0.2222222222222222,\"#7201a8\"],[0.3333333333333333,\"#9c179e\"],[0.4444444444444444,\"#bd3786\"],[0.5555555555555556,\"#d8576b\"],[0.6666666666666666,\"#ed7953\"],[0.7777777777777778,\"#fb9f3a\"],[0.8888888888888888,\"#fdca26\"],[1.0,\"#f0f921\"]],\"type\":\"heatmapgl\"}],\"heatmap\":[{\"colorbar\":{\"outlinewidth\":0,\"ticks\":\"\"},\"colorscale\":[[0.0,\"#0d0887\"],[0.1111111111111111,\"#46039f\"],[0.2222222222222222,\"#7201a8\"],[0.3333333333333333,\"#9c179e\"],[0.4444444444444444,\"#bd3786\"],[0.5555555555555556,\"#d8576b\"],[0.6666666666666666,\"#ed7953\"],[0.7777777777777778,\"#fb9f3a\"],[0.8888888888888888,\"#fdca26\"],[1.0,\"#f0f921\"]],\"type\":\"heatmap\"}],\"histogram2dcontour\":[{\"colorbar\":{\"outlinewidth\":0,\"ticks\":\"\"},\"colorscale\":[[0.0,\"#0d0887\"],[0.1111111111111111,\"#46039f\"],[0.2222222222222222,\"#7201a8\"],[0.3333333333333333,\"#9c179e\"],[0.4444444444444444,\"#bd3786\"],[0.5555555555555556,\"#d8576b\"],[0.6666666666666666,\"#ed7953\"],[0.7777777777777778,\"#fb9f3a\"],[0.8888888888888888,\"#fdca26\"],[1.0,\"#f0f921\"]],\"type\":\"histogram2dcontour\"}],\"histogram2d\":[{\"colorbar\":{\"outlinewidth\":0,\"ticks\":\"\"},\"colorscale\":[[0.0,\"#0d0887\"],[0.1111111111111111,\"#46039f\"],[0.2222222222222222,\"#7201a8\"],[0.3333333333333333,\"#9c179e\"],[0.4444444444444444,\"#bd3786\"],[0.5555555555555556,\"#d8576b\"],[0.6666666666666666,\"#ed7953\"],[0.7777777777777778,\"#fb9f3a\"],[0.8888888888888888,\"#fdca26\"],[1.0,\"#f0f921\"]],\"type\":\"histogram2d\"}],\"histogram\":[{\"marker\":{\"pattern\":{\"fillmode\":\"overlay\",\"size\":10,\"solidity\":0.2}},\"type\":\"histogram\"}],\"mesh3d\":[{\"colorbar\":{\"outlinewidth\":0,\"ticks\":\"\"},\"type\":\"mesh3d\"}],\"parcoords\":[{\"line\":{\"colorbar\":{\"outlinewidth\":0,\"ticks\":\"\"}},\"type\":\"parcoords\"}],\"pie\":[{\"automargin\":true,\"type\":\"pie\"}],\"scatter3d\":[{\"line\":{\"colorbar\":{\"outlinewidth\":0,\"ticks\":\"\"}},\"marker\":{\"colorbar\":{\"outlinewidth\":0,\"ticks\":\"\"}},\"type\":\"scatter3d\"}],\"scattercarpet\":[{\"marker\":{\"colorbar\":{\"outlinewidth\":0,\"ticks\":\"\"}},\"type\":\"scattercarpet\"}],\"scattergeo\":[{\"marker\":{\"colorbar\":{\"outlinewidth\":0,\"ticks\":\"\"}},\"type\":\"scattergeo\"}],\"scattergl\":[{\"marker\":{\"colorbar\":{\"outlinewidth\":0,\"ticks\":\"\"}},\"type\":\"scattergl\"}],\"scattermapbox\":[{\"marker\":{\"colorbar\":{\"outlinewidth\":0,\"ticks\":\"\"}},\"type\":\"scattermapbox\"}],\"scatterpolargl\":[{\"marker\":{\"colorbar\":{\"outlinewidth\":0,\"ticks\":\"\"}},\"type\":\"scatterpolargl\"}],\"scatterpolar\":[{\"marker\":{\"colorbar\":{\"outlinewidth\":0,\"ticks\":\"\"}},\"type\":\"scatterpolar\"}],\"scatter\":[{\"fillpattern\":{\"fillmode\":\"overlay\",\"size\":10,\"solidity\":0.2},\"type\":\"scatter\"}],\"scatterternary\":[{\"marker\":{\"colorbar\":{\"outlinewidth\":0,\"ticks\":\"\"}},\"type\":\"scatterternary\"}],\"surface\":[{\"colorbar\":{\"outlinewidth\":0,\"ticks\":\"\"},\"colorscale\":[[0.0,\"#0d0887\"],[0.1111111111111111,\"#46039f\"],[0.2222222222222222,\"#7201a8\"],[0.3333333333333333,\"#9c179e\"],[0.4444444444444444,\"#bd3786\"],[0.5555555555555556,\"#d8576b\"],[0.6666666666666666,\"#ed7953\"],[0.7777777777777778,\"#fb9f3a\"],[0.8888888888888888,\"#fdca26\"],[1.0,\"#f0f921\"]],\"type\":\"surface\"}],\"table\":[{\"cells\":{\"fill\":{\"color\":\"#EBF0F8\"},\"line\":{\"color\":\"white\"}},\"header\":{\"fill\":{\"color\":\"#C8D4E3\"},\"line\":{\"color\":\"white\"}},\"type\":\"table\"}]},\"layout\":{\"annotationdefaults\":{\"arrowcolor\":\"#2a3f5f\",\"arrowhead\":0,\"arrowwidth\":1},\"autotypenumbers\":\"strict\",\"coloraxis\":{\"colorbar\":{\"outlinewidth\":0,\"ticks\":\"\"}},\"colorscale\":{\"diverging\":[[0,\"#8e0152\"],[0.1,\"#c51b7d\"],[0.2,\"#de77ae\"],[0.3,\"#f1b6da\"],[0.4,\"#fde0ef\"],[0.5,\"#f7f7f7\"],[0.6,\"#e6f5d0\"],[0.7,\"#b8e186\"],[0.8,\"#7fbc41\"],[0.9,\"#4d9221\"],[1,\"#276419\"]],\"sequential\":[[0.0,\"#0d0887\"],[0.1111111111111111,\"#46039f\"],[0.2222222222222222,\"#7201a8\"],[0.3333333333333333,\"#9c179e\"],[0.4444444444444444,\"#bd3786\"],[0.5555555555555556,\"#d8576b\"],[0.6666666666666666,\"#ed7953\"],[0.7777777777777778,\"#fb9f3a\"],[0.8888888888888888,\"#fdca26\"],[1.0,\"#f0f921\"]],\"sequentialminus\":[[0.0,\"#0d0887\"],[0.1111111111111111,\"#46039f\"],[0.2222222222222222,\"#7201a8\"],[0.3333333333333333,\"#9c179e\"],[0.4444444444444444,\"#bd3786\"],[0.5555555555555556,\"#d8576b\"],[0.6666666666666666,\"#ed7953\"],[0.7777777777777778,\"#fb9f3a\"],[0.8888888888888888,\"#fdca26\"],[1.0,\"#f0f921\"]]},\"colorway\":[\"#636efa\",\"#EF553B\",\"#00cc96\",\"#ab63fa\",\"#FFA15A\",\"#19d3f3\",\"#FF6692\",\"#B6E880\",\"#FF97FF\",\"#FECB52\"],\"font\":{\"color\":\"#2a3f5f\"},\"geo\":{\"bgcolor\":\"white\",\"lakecolor\":\"white\",\"landcolor\":\"#E5ECF6\",\"showlakes\":true,\"showland\":true,\"subunitcolor\":\"white\"},\"hoverlabel\":{\"align\":\"left\"},\"hovermode\":\"closest\",\"mapbox\":{\"style\":\"light\"},\"paper_bgcolor\":\"white\",\"plot_bgcolor\":\"#E5ECF6\",\"polar\":{\"angularaxis\":{\"gridcolor\":\"white\",\"linecolor\":\"white\",\"ticks\":\"\"},\"bgcolor\":\"#E5ECF6\",\"radialaxis\":{\"gridcolor\":\"white\",\"linecolor\":\"white\",\"ticks\":\"\"}},\"scene\":{\"xaxis\":{\"backgroundcolor\":\"#E5ECF6\",\"gridcolor\":\"white\",\"gridwidth\":2,\"linecolor\":\"white\",\"showbackground\":true,\"ticks\":\"\",\"zerolinecolor\":\"white\"},\"yaxis\":{\"backgroundcolor\":\"#E5ECF6\",\"gridcolor\":\"white\",\"gridwidth\":2,\"linecolor\":\"white\",\"showbackground\":true,\"ticks\":\"\",\"zerolinecolor\":\"white\"},\"zaxis\":{\"backgroundcolor\":\"#E5ECF6\",\"gridcolor\":\"white\",\"gridwidth\":2,\"linecolor\":\"white\",\"showbackground\":true,\"ticks\":\"\",\"zerolinecolor\":\"white\"}},\"shapedefaults\":{\"line\":{\"color\":\"#2a3f5f\"}},\"ternary\":{\"aaxis\":{\"gridcolor\":\"white\",\"linecolor\":\"white\",\"ticks\":\"\"},\"baxis\":{\"gridcolor\":\"white\",\"linecolor\":\"white\",\"ticks\":\"\"},\"bgcolor\":\"#E5ECF6\",\"caxis\":{\"gridcolor\":\"white\",\"linecolor\":\"white\",\"ticks\":\"\"}},\"title\":{\"x\":0.05},\"xaxis\":{\"automargin\":true,\"gridcolor\":\"white\",\"linecolor\":\"white\",\"ticks\":\"\",\"title\":{\"standoff\":15},\"zerolinecolor\":\"white\",\"zerolinewidth\":2},\"yaxis\":{\"automargin\":true,\"gridcolor\":\"white\",\"linecolor\":\"white\",\"ticks\":\"\",\"title\":{\"standoff\":15},\"zerolinecolor\":\"white\",\"zerolinewidth\":2}}},\"title\":{\"text\":\"Anadarko Region monthly changes in liquids production estimates using Kalman filter\"},\"xaxis\":{\"anchor\":\"y\",\"domain\":[0.0,1.0]},\"yaxis\":{\"anchor\":\"x\",\"domain\":[0.0,1.0]},\"images\":[{\"sizex\":0.15,\"sizey\":0.15,\"source\":\"https://upload.wikimedia.org/wikipedia/commons/thumb/4/49/Eia-logomark.svg/640px-Eia-logomark.svg.png\",\"x\":1.06,\"xanchor\":\"center\",\"y\":-0.06,\"yanchor\":\"bottom\"}]},                        {\"responsive\": true}                    ).then(function(){\n",
              "                            \n",
              "var gd = document.getElementById('fabb04b7-a27d-4e54-9eb8-992af04110fe');\n",
              "var x = new MutationObserver(function (mutations, observer) {{\n",
              "        var display = window.getComputedStyle(gd).display;\n",
              "        if (!display || display === 'none') {{\n",
              "            console.log([gd, 'removed!']);\n",
              "            Plotly.purge(gd);\n",
              "            observer.disconnect();\n",
              "        }}\n",
              "}});\n",
              "\n",
              "// Listen for the removal of the full notebook cells\n",
              "var notebookContainer = gd.closest('#notebook-container');\n",
              "if (notebookContainer) {{\n",
              "    x.observe(notebookContainer, {childList: true});\n",
              "}}\n",
              "\n",
              "// Listen for the clearing of the current output cell\n",
              "var outputEl = gd.closest('.output');\n",
              "if (outputEl) {{\n",
              "    x.observe(outputEl, {childList: true});\n",
              "}}\n",
              "\n",
              "                        })                };                            </script>        </div>\n",
              "</body>\n",
              "</html>"
            ]
          },
          "metadata": {}
        }
      ]
    },
    {
      "cell_type": "code",
      "source": [
        "dataX = data[['BH2MF','dBH2MF', 'PR']]\n",
        "dataY = data['dPR']"
      ],
      "metadata": {
        "id": "CxbDX7H7lPbl"
      },
      "execution_count": 11,
      "outputs": []
    },
    {
      "cell_type": "code",
      "source": [
        "from sklearn.linear_model import LinearRegression"
      ],
      "metadata": {
        "id": "JchwkctflxCR"
      },
      "execution_count": 12,
      "outputs": []
    },
    {
      "cell_type": "code",
      "source": [
        "model = LinearRegression()\n",
        "model.fit(dataX, dataY)\n",
        "predictions = model.predict(dataX)"
      ],
      "metadata": {
        "id": "-5bQ-brmlxx9"
      },
      "execution_count": 13,
      "outputs": []
    },
    {
      "cell_type": "code",
      "source": [
        "#print(predictions)"
      ],
      "metadata": {
        "id": "iLX4KmDfl_R4"
      },
      "execution_count": 14,
      "outputs": []
    },
    {
      "cell_type": "code",
      "source": [
        "fig = go.Figure()\n",
        "fig.add_trace(go.Scatter(x=data['Month'], y=predictions, name='Predictions'))\n",
        "fig.add_trace(go.Scatter(x=data['Month'], y=data['dPR'], name='Data'))\n",
        "\n",
        "# Add title and axis labels\n",
        "fig.update_layout(title='Sample Line Plot', xaxis_title='X-axis', yaxis_title='Y-axis')\n",
        "\n",
        "# Show the plot\n",
        "fig.show()"
      ],
      "metadata": {
        "id": "uLHE7CgYl_zm",
        "outputId": "29e7b67a-3138-4ce8-8553-d7fc544c30ca",
        "colab": {
          "base_uri": "https://localhost:8080/",
          "height": 542
        }
      },
      "execution_count": 15,
      "outputs": [
        {
          "output_type": "display_data",
          "data": {
            "text/html": [
              "<html>\n",
              "<head><meta charset=\"utf-8\" /></head>\n",
              "<body>\n",
              "    <div>            <script src=\"https://cdnjs.cloudflare.com/ajax/libs/mathjax/2.7.5/MathJax.js?config=TeX-AMS-MML_SVG\"></script><script type=\"text/javascript\">if (window.MathJax && window.MathJax.Hub && window.MathJax.Hub.Config) {window.MathJax.Hub.Config({SVG: {font: \"STIX-Web\"}});}</script>                <script type=\"text/javascript\">window.PlotlyConfig = {MathJaxConfig: 'local'};</script>\n",
              "        <script src=\"https://cdn.plot.ly/plotly-2.18.2.min.js\"></script>                <div id=\"b55c8053-c3e2-4ead-a3a2-7187467c984e\" class=\"plotly-graph-div\" style=\"height:525px; width:100%;\"></div>            <script type=\"text/javascript\">                                    window.PLOTLYENV=window.PLOTLYENV || {};                                    if (document.getElementById(\"b55c8053-c3e2-4ead-a3a2-7187467c984e\")) {                    Plotly.newPlot(                        \"b55c8053-c3e2-4ead-a3a2-7187467c984e\",                        [{\"name\":\"Predictions\",\"x\":[\"2007-02-01T00:00:00\",\"2007-03-01T00:00:00\",\"2007-04-01T00:00:00\",\"2007-05-01T00:00:00\",\"2007-06-01T00:00:00\",\"2007-07-01T00:00:00\",\"2007-08-01T00:00:00\",\"2007-09-01T00:00:00\",\"2007-10-01T00:00:00\",\"2007-11-01T00:00:00\",\"2007-12-01T00:00:00\",\"2008-01-01T00:00:00\",\"2008-02-01T00:00:00\",\"2008-03-01T00:00:00\",\"2008-04-01T00:00:00\",\"2008-05-01T00:00:00\",\"2008-06-01T00:00:00\",\"2008-07-01T00:00:00\",\"2008-08-01T00:00:00\",\"2008-09-01T00:00:00\",\"2008-10-01T00:00:00\",\"2008-11-01T00:00:00\",\"2008-12-01T00:00:00\",\"2009-01-01T00:00:00\",\"2009-02-01T00:00:00\",\"2009-03-01T00:00:00\",\"2009-04-01T00:00:00\",\"2009-05-01T00:00:00\",\"2009-06-01T00:00:00\",\"2009-07-01T00:00:00\",\"2009-08-01T00:00:00\",\"2009-09-01T00:00:00\",\"2009-10-01T00:00:00\",\"2009-11-01T00:00:00\",\"2009-12-01T00:00:00\",\"2010-01-01T00:00:00\",\"2010-02-01T00:00:00\",\"2010-03-01T00:00:00\",\"2010-04-01T00:00:00\",\"2010-05-01T00:00:00\",\"2010-06-01T00:00:00\",\"2010-07-01T00:00:00\",\"2010-08-01T00:00:00\",\"2010-09-01T00:00:00\",\"2010-10-01T00:00:00\",\"2010-11-01T00:00:00\",\"2010-12-01T00:00:00\",\"2011-01-01T00:00:00\",\"2011-02-01T00:00:00\",\"2011-03-01T00:00:00\",\"2011-04-01T00:00:00\",\"2011-05-01T00:00:00\",\"2011-06-01T00:00:00\",\"2011-07-01T00:00:00\",\"2011-08-01T00:00:00\",\"2011-09-01T00:00:00\",\"2011-10-01T00:00:00\",\"2011-11-01T00:00:00\",\"2011-12-01T00:00:00\",\"2012-01-01T00:00:00\",\"2012-02-01T00:00:00\",\"2012-03-01T00:00:00\",\"2012-04-01T00:00:00\",\"2012-05-01T00:00:00\",\"2012-06-01T00:00:00\",\"2012-07-01T00:00:00\",\"2012-08-01T00:00:00\",\"2012-09-01T00:00:00\",\"2012-10-01T00:00:00\",\"2012-11-01T00:00:00\",\"2012-12-01T00:00:00\",\"2013-01-01T00:00:00\",\"2013-02-01T00:00:00\",\"2013-03-01T00:00:00\",\"2013-04-01T00:00:00\",\"2013-05-01T00:00:00\",\"2013-06-01T00:00:00\",\"2013-07-01T00:00:00\",\"2013-08-01T00:00:00\",\"2013-09-01T00:00:00\",\"2013-10-01T00:00:00\",\"2013-11-01T00:00:00\",\"2013-12-01T00:00:00\",\"2014-01-01T00:00:00\",\"2014-02-01T00:00:00\",\"2014-03-01T00:00:00\",\"2014-04-01T00:00:00\",\"2014-05-01T00:00:00\",\"2014-06-01T00:00:00\",\"2014-07-01T00:00:00\",\"2014-08-01T00:00:00\",\"2014-09-01T00:00:00\",\"2014-10-01T00:00:00\",\"2014-11-01T00:00:00\",\"2014-12-01T00:00:00\",\"2015-01-01T00:00:00\",\"2015-02-01T00:00:00\",\"2015-03-01T00:00:00\",\"2015-04-01T00:00:00\",\"2015-05-01T00:00:00\",\"2015-06-01T00:00:00\",\"2015-07-01T00:00:00\",\"2015-08-01T00:00:00\",\"2015-09-01T00:00:00\",\"2015-10-01T00:00:00\",\"2015-11-01T00:00:00\",\"2015-12-01T00:00:00\",\"2016-01-01T00:00:00\",\"2016-02-01T00:00:00\",\"2016-03-01T00:00:00\",\"2016-04-01T00:00:00\",\"2016-05-01T00:00:00\",\"2016-06-01T00:00:00\",\"2016-07-01T00:00:00\",\"2016-08-01T00:00:00\",\"2016-09-01T00:00:00\",\"2016-10-01T00:00:00\",\"2016-11-01T00:00:00\",\"2016-12-01T00:00:00\",\"2017-01-01T00:00:00\",\"2017-02-01T00:00:00\",\"2017-03-01T00:00:00\",\"2017-04-01T00:00:00\",\"2017-05-01T00:00:00\",\"2017-06-01T00:00:00\",\"2017-07-01T00:00:00\",\"2017-08-01T00:00:00\",\"2017-09-01T00:00:00\",\"2017-10-01T00:00:00\",\"2017-11-01T00:00:00\",\"2017-12-01T00:00:00\",\"2018-01-01T00:00:00\",\"2018-02-01T00:00:00\",\"2018-03-01T00:00:00\",\"2018-04-01T00:00:00\",\"2018-05-01T00:00:00\",\"2018-06-01T00:00:00\",\"2018-07-01T00:00:00\",\"2018-08-01T00:00:00\",\"2018-09-01T00:00:00\",\"2018-10-01T00:00:00\",\"2018-11-01T00:00:00\",\"2018-12-01T00:00:00\",\"2019-01-01T00:00:00\",\"2019-02-01T00:00:00\",\"2019-03-01T00:00:00\",\"2019-04-01T00:00:00\",\"2019-05-01T00:00:00\",\"2019-06-01T00:00:00\",\"2019-07-01T00:00:00\",\"2019-08-01T00:00:00\",\"2019-09-01T00:00:00\",\"2019-10-01T00:00:00\",\"2019-11-01T00:00:00\",\"2019-12-01T00:00:00\",\"2020-01-01T00:00:00\",\"2020-02-01T00:00:00\",\"2020-03-01T00:00:00\",\"2020-04-01T00:00:00\",\"2020-05-01T00:00:00\",\"2020-06-01T00:00:00\",\"2020-07-01T00:00:00\",\"2020-08-01T00:00:00\",\"2020-09-01T00:00:00\",\"2020-10-01T00:00:00\",\"2020-11-01T00:00:00\",\"2020-12-01T00:00:00\",\"2021-01-01T00:00:00\",\"2021-02-01T00:00:00\",\"2021-03-01T00:00:00\",\"2021-04-01T00:00:00\",\"2021-05-01T00:00:00\",\"2021-06-01T00:00:00\",\"2021-07-01T00:00:00\",\"2021-08-01T00:00:00\",\"2021-09-01T00:00:00\",\"2021-10-01T00:00:00\",\"2021-11-01T00:00:00\",\"2021-12-01T00:00:00\",\"2022-01-01T00:00:00\",\"2022-02-01T00:00:00\",\"2022-03-01T00:00:00\",\"2022-04-01T00:00:00\",\"2022-05-01T00:00:00\",\"2022-06-01T00:00:00\",\"2022-07-01T00:00:00\",\"2022-08-01T00:00:00\",\"2022-09-01T00:00:00\",\"2022-10-01T00:00:00\",\"2022-11-01T00:00:00\",\"2022-12-01T00:00:00\",\"2023-01-01T00:00:00\",\"2023-02-01T00:00:00\",\"2023-03-01T00:00:00\",\"2023-04-01T00:00:00\",\"2023-05-01T00:00:00\",\"2023-06-01T00:00:00\"],\"y\":[739.7154824048648,802.7234148651132,877.246531579025,134.06470777699542,-564.8731145301226,-101.36131911732446,581.7313607403521,226.8780089789525,242.54859130993827,146.94000046640758,219.20915161004632,882.1626335505152,937.5616284823991,925.1995820166176,1244.6963969198387,1423.498262254774,1424.6257274311884,1468.0434207054022,1255.8631838221881,1586.835752443223,2004.80833506194,2210.9363740997305,1843.9525202769273,1040.117616800173,-299.60899495746344,-1764.0655525681595,-3071.1905969756463,-4230.201353912723,-5039.859062826125,-5806.321610225536,-6162.688791555238,-6077.457504201567,-5903.793054805259,-5811.374969439129,-5685.417297680203,-5391.7948920473655,-4370.529605391406,-3680.209150875844,-3225.6366989887083,-2860.2268853655005,-2424.0658289314615,-1869.1472748278193,-1397.11696399828,-924.5292391180155,-437.69292674862845,187.40380998925866,916.2005106567522,1178.35871786819,1288.2737692551273,1917.543018727296,1721.6553469994906,1976.788591159253,2690.6875794819207,2916.5778431300732,3125.619938805523,3496.464399820461,4334.691633259603,4588.726722464033,4628.818827453795,4455.362760686052,4378.643380658943,4708.068134890533,5451.329125693794,5773.251118536822,5637.001189076333,5995.928750592489,6048.625439462712,6333.475759075476,6033.216478111664,5322.529348880647,4865.243639228696,5069.983563868669,4633.786712766256,5591.346892707921,6331.929988676084,6277.938953603692,6295.638149071443,6382.165223805803,6758.383895800527,6649.686502470222,6755.123092852196,6149.823076826915,6680.8571957285185,6987.340164321229,6567.70024328121,7096.256004779183,6551.66726544182,7675.763986237458,8252.903415877367,8726.052496274586,8845.22838623954,9222.643829300434,9844.78022937464,10175.788582337917,10063.412693422635,10102.86152421143,9877.313528459717,9342.94205744819,6636.259190765408,4621.887808703852,3516.2033750234496,2069.632091066842,1912.391282578903,1959.8376755647678,2187.5715957885277,1928.2487088967519,1545.9035847786708,1075.0742443511099,174.72096645982128,787.1987751076758,-338.8598204750306,-570.3298126792306,-952.962772429024,-1421.219833764826,-1396.6737055701433,-1290.8876001157769,-972.5874203666444,-567.5886956440318,-264.6771537238237,-321.55519075325174,257.04635974067605,587.6680410488225,969.0801048385711,1561.544003183435,2590.7506925388116,2639.7335228943393,3238.338484935606,3609.1222103618657,3964.821026981932,4219.528659855212,3847.5318348829514,4268.172418910561,4281.991477927679,4634.338588734359,4385.731533816552,4480.198123824621,4326.426298859684,4936.905104600837,6128.890950522646,5686.824048621054,6190.963858482615,6162.753098334162,6711.724906792771,6651.683676836148,6095.74196022477,5717.255563127377,5433.1115933991805,4769.790196007283,4334.12310899337,3993.131593801807,3529.39854230331,4372.518247473081,3759.7010708662237,2458.646102522016,2154.2381141644655,781.9040336008984,511.3250588669853,344.2394339741786,-737.594175641987,-3880.6006043586185,-2241.2648235947963,-2593.9626788263067,-3446.7555242038143,-3760.515330750679,-4150.913591608016,-3260.5794098756214,-3665.993176526561,-3754.3005497243485,-5831.882898558526,-3772.93204614193,-3813.042092141206,-3835.610689096833,-3965.227911859427,-3915.445477776646,-3837.4758416207933,-3402.5313322226193,-3196.894744458559,-3193.297617487253,-2765.2305703390757,-2769.2802337874273,-2958.373343479956,-1883.928253392247,-1757.2479345256088,-1878.5353872357064,-1988.8741130897542,-2083.2937680704017,-1846.2460254366797,-2013.994499000206,-1588.5462202779727,-1302.5955387308331,-1853.3062824800527,-751.7694945662824,-753.8356789980025,-517.2166432200738,-306.7147944163953,-256.222437651526,-455.8486889017495],\"type\":\"scatter\"},{\"name\":\"Data\",\"x\":[\"2007-02-01T00:00:00\",\"2007-03-01T00:00:00\",\"2007-04-01T00:00:00\",\"2007-05-01T00:00:00\",\"2007-06-01T00:00:00\",\"2007-07-01T00:00:00\",\"2007-08-01T00:00:00\",\"2007-09-01T00:00:00\",\"2007-10-01T00:00:00\",\"2007-11-01T00:00:00\",\"2007-12-01T00:00:00\",\"2008-01-01T00:00:00\",\"2008-02-01T00:00:00\",\"2008-03-01T00:00:00\",\"2008-04-01T00:00:00\",\"2008-05-01T00:00:00\",\"2008-06-01T00:00:00\",\"2008-07-01T00:00:00\",\"2008-08-01T00:00:00\",\"2008-09-01T00:00:00\",\"2008-10-01T00:00:00\",\"2008-11-01T00:00:00\",\"2008-12-01T00:00:00\",\"2009-01-01T00:00:00\",\"2009-02-01T00:00:00\",\"2009-03-01T00:00:00\",\"2009-04-01T00:00:00\",\"2009-05-01T00:00:00\",\"2009-06-01T00:00:00\",\"2009-07-01T00:00:00\",\"2009-08-01T00:00:00\",\"2009-09-01T00:00:00\",\"2009-10-01T00:00:00\",\"2009-11-01T00:00:00\",\"2009-12-01T00:00:00\",\"2010-01-01T00:00:00\",\"2010-02-01T00:00:00\",\"2010-03-01T00:00:00\",\"2010-04-01T00:00:00\",\"2010-05-01T00:00:00\",\"2010-06-01T00:00:00\",\"2010-07-01T00:00:00\",\"2010-08-01T00:00:00\",\"2010-09-01T00:00:00\",\"2010-10-01T00:00:00\",\"2010-11-01T00:00:00\",\"2010-12-01T00:00:00\",\"2011-01-01T00:00:00\",\"2011-02-01T00:00:00\",\"2011-03-01T00:00:00\",\"2011-04-01T00:00:00\",\"2011-05-01T00:00:00\",\"2011-06-01T00:00:00\",\"2011-07-01T00:00:00\",\"2011-08-01T00:00:00\",\"2011-09-01T00:00:00\",\"2011-10-01T00:00:00\",\"2011-11-01T00:00:00\",\"2011-12-01T00:00:00\",\"2012-01-01T00:00:00\",\"2012-02-01T00:00:00\",\"2012-03-01T00:00:00\",\"2012-04-01T00:00:00\",\"2012-05-01T00:00:00\",\"2012-06-01T00:00:00\",\"2012-07-01T00:00:00\",\"2012-08-01T00:00:00\",\"2012-09-01T00:00:00\",\"2012-10-01T00:00:00\",\"2012-11-01T00:00:00\",\"2012-12-01T00:00:00\",\"2013-01-01T00:00:00\",\"2013-02-01T00:00:00\",\"2013-03-01T00:00:00\",\"2013-04-01T00:00:00\",\"2013-05-01T00:00:00\",\"2013-06-01T00:00:00\",\"2013-07-01T00:00:00\",\"2013-08-01T00:00:00\",\"2013-09-01T00:00:00\",\"2013-10-01T00:00:00\",\"2013-11-01T00:00:00\",\"2013-12-01T00:00:00\",\"2014-01-01T00:00:00\",\"2014-02-01T00:00:00\",\"2014-03-01T00:00:00\",\"2014-04-01T00:00:00\",\"2014-05-01T00:00:00\",\"2014-06-01T00:00:00\",\"2014-07-01T00:00:00\",\"2014-08-01T00:00:00\",\"2014-09-01T00:00:00\",\"2014-10-01T00:00:00\",\"2014-11-01T00:00:00\",\"2014-12-01T00:00:00\",\"2015-01-01T00:00:00\",\"2015-02-01T00:00:00\",\"2015-03-01T00:00:00\",\"2015-04-01T00:00:00\",\"2015-05-01T00:00:00\",\"2015-06-01T00:00:00\",\"2015-07-01T00:00:00\",\"2015-08-01T00:00:00\",\"2015-09-01T00:00:00\",\"2015-10-01T00:00:00\",\"2015-11-01T00:00:00\",\"2015-12-01T00:00:00\",\"2016-01-01T00:00:00\",\"2016-02-01T00:00:00\",\"2016-03-01T00:00:00\",\"2016-04-01T00:00:00\",\"2016-05-01T00:00:00\",\"2016-06-01T00:00:00\",\"2016-07-01T00:00:00\",\"2016-08-01T00:00:00\",\"2016-09-01T00:00:00\",\"2016-10-01T00:00:00\",\"2016-11-01T00:00:00\",\"2016-12-01T00:00:00\",\"2017-01-01T00:00:00\",\"2017-02-01T00:00:00\",\"2017-03-01T00:00:00\",\"2017-04-01T00:00:00\",\"2017-05-01T00:00:00\",\"2017-06-01T00:00:00\",\"2017-07-01T00:00:00\",\"2017-08-01T00:00:00\",\"2017-09-01T00:00:00\",\"2017-10-01T00:00:00\",\"2017-11-01T00:00:00\",\"2017-12-01T00:00:00\",\"2018-01-01T00:00:00\",\"2018-02-01T00:00:00\",\"2018-03-01T00:00:00\",\"2018-04-01T00:00:00\",\"2018-05-01T00:00:00\",\"2018-06-01T00:00:00\",\"2018-07-01T00:00:00\",\"2018-08-01T00:00:00\",\"2018-09-01T00:00:00\",\"2018-10-01T00:00:00\",\"2018-11-01T00:00:00\",\"2018-12-01T00:00:00\",\"2019-01-01T00:00:00\",\"2019-02-01T00:00:00\",\"2019-03-01T00:00:00\",\"2019-04-01T00:00:00\",\"2019-05-01T00:00:00\",\"2019-06-01T00:00:00\",\"2019-07-01T00:00:00\",\"2019-08-01T00:00:00\",\"2019-09-01T00:00:00\",\"2019-10-01T00:00:00\",\"2019-11-01T00:00:00\",\"2019-12-01T00:00:00\",\"2020-01-01T00:00:00\",\"2020-02-01T00:00:00\",\"2020-03-01T00:00:00\",\"2020-04-01T00:00:00\",\"2020-05-01T00:00:00\",\"2020-06-01T00:00:00\",\"2020-07-01T00:00:00\",\"2020-08-01T00:00:00\",\"2020-09-01T00:00:00\",\"2020-10-01T00:00:00\",\"2020-11-01T00:00:00\",\"2020-12-01T00:00:00\",\"2021-01-01T00:00:00\",\"2021-02-01T00:00:00\",\"2021-03-01T00:00:00\",\"2021-04-01T00:00:00\",\"2021-05-01T00:00:00\",\"2021-06-01T00:00:00\",\"2021-07-01T00:00:00\",\"2021-08-01T00:00:00\",\"2021-09-01T00:00:00\",\"2021-10-01T00:00:00\",\"2021-11-01T00:00:00\",\"2021-12-01T00:00:00\",\"2022-01-01T00:00:00\",\"2022-02-01T00:00:00\",\"2022-03-01T00:00:00\",\"2022-04-01T00:00:00\",\"2022-05-01T00:00:00\",\"2022-06-01T00:00:00\",\"2022-07-01T00:00:00\",\"2022-08-01T00:00:00\",\"2022-09-01T00:00:00\",\"2022-10-01T00:00:00\",\"2022-11-01T00:00:00\",\"2022-12-01T00:00:00\",\"2023-01-01T00:00:00\",\"2023-02-01T00:00:00\",\"2023-03-01T00:00:00\",\"2023-04-01T00:00:00\",\"2023-05-01T00:00:00\",\"2023-06-01T00:00:00\"],\"y\":[3338.2999999999884,3338.2999999999884,3948.399999999994,2742.399999999994,-6971.299999999988,2090.7999999999884,1825.6000000000058,6397.5,-3488.100000000006,820.1000000000058,-5797.899999999994,12736.399999999994,-3098.0,3810.899999999994,2805.4000000000233,-2504.5,-2202.7000000000116,4533.299999999988,-8254.699999999983,4892.1999999999825,-4709.099999999977,-1086.2000000000116,-855.5,-74.70000000001164,10305.600000000006,-5087.100000000006,-1305.6999999999825,2830.0,-265.20000000001164,-9229.799999999988,-175.0,3820.600000000006,-1238.9000000000233,-353.0,-5245.299999999988,-3844.5,10870.0,8123.700000000012,3174.6999999999825,683.6000000000058,-1512.5,2517.100000000006,4824.299999999988,2650.399999999994,6362.900000000023,12963.599999999977,-2392.6999999999825,1823.3999999999942,-16505.79999999999,36963.29999999999,2323.899999999994,3136.5,2038.0,-822.7999999999884,5855.5,6975.1999999999825,13845.200000000012,4409.600000000006,-2341.7000000000116,13863.899999999994,1997.9000000000233,-3396.9000000000233,12495.900000000023,8035.899999999965,-3507.0999999999767,16059.200000000012,7982.5,8422.700000000012,19034.899999999965,1961.9000000000233,-10712.400000000023,14588.799999999988,-26822.399999999965,38060.70000000001,15370.599999999977,1516.7999999999884,242.60000000003492,-10321.5,26572.699999999953,4710.5,7848.700000000012,-23138.399999999965,2123.7999999999884,22064.79999999999,-8022.700000000012,22088.900000000023,-31870.100000000035,50625.40000000002,-1466.5999999999767,15264.599999999977,-384.5999999999767,6569.199999999953,13560.900000000023,-3372.0,4397.599999999977,670.3000000000466,-9746.600000000035,37951.20000000001,-7656.200000000012,-12441.099999999977,-1768.100000000035,-19163.399999999965,-2179.7999999999884,-2735.7000000000116,4612.899999999965,-7070.199999999953,9554.299999999988,-265.29999999998836,-49122.5,36886.79999999999,-28370.5,10937.700000000012,-4583.200000000012,-9873.900000000023,2838.2999999999884,-4081.0999999999767,9381.799999999988,4318.900000000023,-9326.5,-14266.700000000012,22448.5,13021.700000000012,-7341.299999999988,2243.899999999965,18714.20000000001,-2742.7999999999884,13127.299999999988,3925.9000000000233,20295.0,17236.199999999953,-7790.399999999965,32756.0,2994.5999999999767,23134.00000000006,-20595.20000000007,-2477.399999999965,-18587.20000000001,13697.400000000023,48943.29999999993,-28671.199999999953,25956.300000000047,2971.1999999999534,28361.099999999977,-12867.0,-19074.0,9034.099999999977,24502.100000000093,-11188.600000000093,-9626.0,-1652.2999999999302,-17811.800000000047,52123.30000000005,-5643.70000000007,-29376.099999999977,18992.099999999977,-51016.09999999998,-3112.1999999999534,-11056.0,-56593.30000000005,-152371.69999999995,129340.39999999997,23161.900000000023,-30913.100000000035,-15115.399999999965,-22917.100000000035,44184.80000000005,-24466.800000000047,-7665.799999999988,-113062.0,99401.90000000002,-5141.700000000012,1037.2000000000116,-15045.0,-7077.799999999988,-2597.3000000000466,19303.100000000035,1209.2000000000116,-9524.800000000047,7019.900000000023,-9205.299999999988,-20458.600000000035,47211.100000000035,-16.5,-3468.5,-4337.700000000012,-13934.299999999988,7309.799999999988,-14107.700000000012,14334.100000000035,15120.799999999988,-32889.600000000035,45688.90000000002,-10579.0,12507.099999999977,11907.0,9374.0,5083.400000000023],\"type\":\"scatter\"}],                        {\"template\":{\"data\":{\"histogram2dcontour\":[{\"type\":\"histogram2dcontour\",\"colorbar\":{\"outlinewidth\":0,\"ticks\":\"\"},\"colorscale\":[[0.0,\"#0d0887\"],[0.1111111111111111,\"#46039f\"],[0.2222222222222222,\"#7201a8\"],[0.3333333333333333,\"#9c179e\"],[0.4444444444444444,\"#bd3786\"],[0.5555555555555556,\"#d8576b\"],[0.6666666666666666,\"#ed7953\"],[0.7777777777777778,\"#fb9f3a\"],[0.8888888888888888,\"#fdca26\"],[1.0,\"#f0f921\"]]}],\"choropleth\":[{\"type\":\"choropleth\",\"colorbar\":{\"outlinewidth\":0,\"ticks\":\"\"}}],\"histogram2d\":[{\"type\":\"histogram2d\",\"colorbar\":{\"outlinewidth\":0,\"ticks\":\"\"},\"colorscale\":[[0.0,\"#0d0887\"],[0.1111111111111111,\"#46039f\"],[0.2222222222222222,\"#7201a8\"],[0.3333333333333333,\"#9c179e\"],[0.4444444444444444,\"#bd3786\"],[0.5555555555555556,\"#d8576b\"],[0.6666666666666666,\"#ed7953\"],[0.7777777777777778,\"#fb9f3a\"],[0.8888888888888888,\"#fdca26\"],[1.0,\"#f0f921\"]]}],\"heatmap\":[{\"type\":\"heatmap\",\"colorbar\":{\"outlinewidth\":0,\"ticks\":\"\"},\"colorscale\":[[0.0,\"#0d0887\"],[0.1111111111111111,\"#46039f\"],[0.2222222222222222,\"#7201a8\"],[0.3333333333333333,\"#9c179e\"],[0.4444444444444444,\"#bd3786\"],[0.5555555555555556,\"#d8576b\"],[0.6666666666666666,\"#ed7953\"],[0.7777777777777778,\"#fb9f3a\"],[0.8888888888888888,\"#fdca26\"],[1.0,\"#f0f921\"]]}],\"heatmapgl\":[{\"type\":\"heatmapgl\",\"colorbar\":{\"outlinewidth\":0,\"ticks\":\"\"},\"colorscale\":[[0.0,\"#0d0887\"],[0.1111111111111111,\"#46039f\"],[0.2222222222222222,\"#7201a8\"],[0.3333333333333333,\"#9c179e\"],[0.4444444444444444,\"#bd3786\"],[0.5555555555555556,\"#d8576b\"],[0.6666666666666666,\"#ed7953\"],[0.7777777777777778,\"#fb9f3a\"],[0.8888888888888888,\"#fdca26\"],[1.0,\"#f0f921\"]]}],\"contourcarpet\":[{\"type\":\"contourcarpet\",\"colorbar\":{\"outlinewidth\":0,\"ticks\":\"\"}}],\"contour\":[{\"type\":\"contour\",\"colorbar\":{\"outlinewidth\":0,\"ticks\":\"\"},\"colorscale\":[[0.0,\"#0d0887\"],[0.1111111111111111,\"#46039f\"],[0.2222222222222222,\"#7201a8\"],[0.3333333333333333,\"#9c179e\"],[0.4444444444444444,\"#bd3786\"],[0.5555555555555556,\"#d8576b\"],[0.6666666666666666,\"#ed7953\"],[0.7777777777777778,\"#fb9f3a\"],[0.8888888888888888,\"#fdca26\"],[1.0,\"#f0f921\"]]}],\"surface\":[{\"type\":\"surface\",\"colorbar\":{\"outlinewidth\":0,\"ticks\":\"\"},\"colorscale\":[[0.0,\"#0d0887\"],[0.1111111111111111,\"#46039f\"],[0.2222222222222222,\"#7201a8\"],[0.3333333333333333,\"#9c179e\"],[0.4444444444444444,\"#bd3786\"],[0.5555555555555556,\"#d8576b\"],[0.6666666666666666,\"#ed7953\"],[0.7777777777777778,\"#fb9f3a\"],[0.8888888888888888,\"#fdca26\"],[1.0,\"#f0f921\"]]}],\"mesh3d\":[{\"type\":\"mesh3d\",\"colorbar\":{\"outlinewidth\":0,\"ticks\":\"\"}}],\"scatter\":[{\"fillpattern\":{\"fillmode\":\"overlay\",\"size\":10,\"solidity\":0.2},\"type\":\"scatter\"}],\"parcoords\":[{\"type\":\"parcoords\",\"line\":{\"colorbar\":{\"outlinewidth\":0,\"ticks\":\"\"}}}],\"scatterpolargl\":[{\"type\":\"scatterpolargl\",\"marker\":{\"colorbar\":{\"outlinewidth\":0,\"ticks\":\"\"}}}],\"bar\":[{\"error_x\":{\"color\":\"#2a3f5f\"},\"error_y\":{\"color\":\"#2a3f5f\"},\"marker\":{\"line\":{\"color\":\"#E5ECF6\",\"width\":0.5},\"pattern\":{\"fillmode\":\"overlay\",\"size\":10,\"solidity\":0.2}},\"type\":\"bar\"}],\"scattergeo\":[{\"type\":\"scattergeo\",\"marker\":{\"colorbar\":{\"outlinewidth\":0,\"ticks\":\"\"}}}],\"scatterpolar\":[{\"type\":\"scatterpolar\",\"marker\":{\"colorbar\":{\"outlinewidth\":0,\"ticks\":\"\"}}}],\"histogram\":[{\"marker\":{\"pattern\":{\"fillmode\":\"overlay\",\"size\":10,\"solidity\":0.2}},\"type\":\"histogram\"}],\"scattergl\":[{\"type\":\"scattergl\",\"marker\":{\"colorbar\":{\"outlinewidth\":0,\"ticks\":\"\"}}}],\"scatter3d\":[{\"type\":\"scatter3d\",\"line\":{\"colorbar\":{\"outlinewidth\":0,\"ticks\":\"\"}},\"marker\":{\"colorbar\":{\"outlinewidth\":0,\"ticks\":\"\"}}}],\"scattermapbox\":[{\"type\":\"scattermapbox\",\"marker\":{\"colorbar\":{\"outlinewidth\":0,\"ticks\":\"\"}}}],\"scatterternary\":[{\"type\":\"scatterternary\",\"marker\":{\"colorbar\":{\"outlinewidth\":0,\"ticks\":\"\"}}}],\"scattercarpet\":[{\"type\":\"scattercarpet\",\"marker\":{\"colorbar\":{\"outlinewidth\":0,\"ticks\":\"\"}}}],\"carpet\":[{\"aaxis\":{\"endlinecolor\":\"#2a3f5f\",\"gridcolor\":\"white\",\"linecolor\":\"white\",\"minorgridcolor\":\"white\",\"startlinecolor\":\"#2a3f5f\"},\"baxis\":{\"endlinecolor\":\"#2a3f5f\",\"gridcolor\":\"white\",\"linecolor\":\"white\",\"minorgridcolor\":\"white\",\"startlinecolor\":\"#2a3f5f\"},\"type\":\"carpet\"}],\"table\":[{\"cells\":{\"fill\":{\"color\":\"#EBF0F8\"},\"line\":{\"color\":\"white\"}},\"header\":{\"fill\":{\"color\":\"#C8D4E3\"},\"line\":{\"color\":\"white\"}},\"type\":\"table\"}],\"barpolar\":[{\"marker\":{\"line\":{\"color\":\"#E5ECF6\",\"width\":0.5},\"pattern\":{\"fillmode\":\"overlay\",\"size\":10,\"solidity\":0.2}},\"type\":\"barpolar\"}],\"pie\":[{\"automargin\":true,\"type\":\"pie\"}]},\"layout\":{\"autotypenumbers\":\"strict\",\"colorway\":[\"#636efa\",\"#EF553B\",\"#00cc96\",\"#ab63fa\",\"#FFA15A\",\"#19d3f3\",\"#FF6692\",\"#B6E880\",\"#FF97FF\",\"#FECB52\"],\"font\":{\"color\":\"#2a3f5f\"},\"hovermode\":\"closest\",\"hoverlabel\":{\"align\":\"left\"},\"paper_bgcolor\":\"white\",\"plot_bgcolor\":\"#E5ECF6\",\"polar\":{\"bgcolor\":\"#E5ECF6\",\"angularaxis\":{\"gridcolor\":\"white\",\"linecolor\":\"white\",\"ticks\":\"\"},\"radialaxis\":{\"gridcolor\":\"white\",\"linecolor\":\"white\",\"ticks\":\"\"}},\"ternary\":{\"bgcolor\":\"#E5ECF6\",\"aaxis\":{\"gridcolor\":\"white\",\"linecolor\":\"white\",\"ticks\":\"\"},\"baxis\":{\"gridcolor\":\"white\",\"linecolor\":\"white\",\"ticks\":\"\"},\"caxis\":{\"gridcolor\":\"white\",\"linecolor\":\"white\",\"ticks\":\"\"}},\"coloraxis\":{\"colorbar\":{\"outlinewidth\":0,\"ticks\":\"\"}},\"colorscale\":{\"sequential\":[[0.0,\"#0d0887\"],[0.1111111111111111,\"#46039f\"],[0.2222222222222222,\"#7201a8\"],[0.3333333333333333,\"#9c179e\"],[0.4444444444444444,\"#bd3786\"],[0.5555555555555556,\"#d8576b\"],[0.6666666666666666,\"#ed7953\"],[0.7777777777777778,\"#fb9f3a\"],[0.8888888888888888,\"#fdca26\"],[1.0,\"#f0f921\"]],\"sequentialminus\":[[0.0,\"#0d0887\"],[0.1111111111111111,\"#46039f\"],[0.2222222222222222,\"#7201a8\"],[0.3333333333333333,\"#9c179e\"],[0.4444444444444444,\"#bd3786\"],[0.5555555555555556,\"#d8576b\"],[0.6666666666666666,\"#ed7953\"],[0.7777777777777778,\"#fb9f3a\"],[0.8888888888888888,\"#fdca26\"],[1.0,\"#f0f921\"]],\"diverging\":[[0,\"#8e0152\"],[0.1,\"#c51b7d\"],[0.2,\"#de77ae\"],[0.3,\"#f1b6da\"],[0.4,\"#fde0ef\"],[0.5,\"#f7f7f7\"],[0.6,\"#e6f5d0\"],[0.7,\"#b8e186\"],[0.8,\"#7fbc41\"],[0.9,\"#4d9221\"],[1,\"#276419\"]]},\"xaxis\":{\"gridcolor\":\"white\",\"linecolor\":\"white\",\"ticks\":\"\",\"title\":{\"standoff\":15},\"zerolinecolor\":\"white\",\"automargin\":true,\"zerolinewidth\":2},\"yaxis\":{\"gridcolor\":\"white\",\"linecolor\":\"white\",\"ticks\":\"\",\"title\":{\"standoff\":15},\"zerolinecolor\":\"white\",\"automargin\":true,\"zerolinewidth\":2},\"scene\":{\"xaxis\":{\"backgroundcolor\":\"#E5ECF6\",\"gridcolor\":\"white\",\"linecolor\":\"white\",\"showbackground\":true,\"ticks\":\"\",\"zerolinecolor\":\"white\",\"gridwidth\":2},\"yaxis\":{\"backgroundcolor\":\"#E5ECF6\",\"gridcolor\":\"white\",\"linecolor\":\"white\",\"showbackground\":true,\"ticks\":\"\",\"zerolinecolor\":\"white\",\"gridwidth\":2},\"zaxis\":{\"backgroundcolor\":\"#E5ECF6\",\"gridcolor\":\"white\",\"linecolor\":\"white\",\"showbackground\":true,\"ticks\":\"\",\"zerolinecolor\":\"white\",\"gridwidth\":2}},\"shapedefaults\":{\"line\":{\"color\":\"#2a3f5f\"}},\"annotationdefaults\":{\"arrowcolor\":\"#2a3f5f\",\"arrowhead\":0,\"arrowwidth\":1},\"geo\":{\"bgcolor\":\"white\",\"landcolor\":\"#E5ECF6\",\"subunitcolor\":\"white\",\"showland\":true,\"showlakes\":true,\"lakecolor\":\"white\"},\"title\":{\"x\":0.05},\"mapbox\":{\"style\":\"light\"}}},\"title\":{\"text\":\"Sample Line Plot\"},\"xaxis\":{\"title\":{\"text\":\"X-axis\"}},\"yaxis\":{\"title\":{\"text\":\"Y-axis\"}}},                        {\"responsive\": true}                    ).then(function(){\n",
              "                            \n",
              "var gd = document.getElementById('b55c8053-c3e2-4ead-a3a2-7187467c984e');\n",
              "var x = new MutationObserver(function (mutations, observer) {{\n",
              "        var display = window.getComputedStyle(gd).display;\n",
              "        if (!display || display === 'none') {{\n",
              "            console.log([gd, 'removed!']);\n",
              "            Plotly.purge(gd);\n",
              "            observer.disconnect();\n",
              "        }}\n",
              "}});\n",
              "\n",
              "// Listen for the removal of the full notebook cells\n",
              "var notebookContainer = gd.closest('#notebook-container');\n",
              "if (notebookContainer) {{\n",
              "    x.observe(notebookContainer, {childList: true});\n",
              "}}\n",
              "\n",
              "// Listen for the clearing of the current output cell\n",
              "var outputEl = gd.closest('.output');\n",
              "if (outputEl) {{\n",
              "    x.observe(outputEl, {childList: true});\n",
              "}}\n",
              "\n",
              "                        })                };                            </script>        </div>\n",
              "</body>\n",
              "</html>"
            ]
          },
          "metadata": {}
        }
      ]
    },
    {
      "cell_type": "code",
      "source": [],
      "metadata": {
        "id": "gmwg5qfVm_Od"
      },
      "execution_count": 15,
      "outputs": []
    }
  ]
}