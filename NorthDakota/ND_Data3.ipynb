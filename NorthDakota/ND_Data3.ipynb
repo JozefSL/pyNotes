{
  "cells": [
    {
      "cell_type": "markdown",
      "source": [
        "# **Program to download and pre-process North Dakota well data for sub-county analysis**"
      ],
      "metadata": {
        "id": "OjLc0yS2zRMI"
      }
    },
    {
      "cell_type": "markdown",
      "source": [
        "# **1.a  Download North Dakota monthly production data from DMR ~10min**\n",
        "\n"
      ],
      "metadata": {
        "id": "nQL0kjHdrpsV"
      }
    },
    {
      "cell_type": "code",
      "execution_count": null,
      "metadata": {
        "id": "SDMvE53byfGm"
      },
      "outputs": [],
      "source": [
        "import requests\n",
        "import pandas as pd\n",
        "from datetime import datetime\n",
        "from dateutil.relativedelta import relativedelta\n",
        "from io import BytesIO"
      ]
    },
    {
      "cell_type": "code",
      "execution_count": null,
      "metadata": {
        "id": "88PjHEMYyfGp"
      },
      "outputs": [],
      "source": [
        "# create list of all yyyy-mm for data download (Note, May 2015 is the first month ND data is available in xlxs)\n",
        "myList = pd.date_range('2015-04-10',datetime.today()- relativedelta(months=3), freq='MS').strftime(\"%Y_%m\").tolist()  # with month in numeric format\n",
        "\n",
        "# Access the ND DMR data @ https://www.dmr.nd.gov/oilgas/mprindex.asp\n",
        "website = \"https://www.dmr.nd.gov/oilgas/mpr/\""
      ]
    },
    {
      "cell_type": "code",
      "source": [
        "# Review the list of monthly data\n",
        "myList"
      ],
      "metadata": {
        "id": "6MS6bwuA39LZ",
        "outputId": "a2f46342-4afd-4ce2-80f9-9cced1740f0e",
        "colab": {
          "base_uri": "https://localhost:8080/"
        }
      },
      "execution_count": null,
      "outputs": [
        {
          "output_type": "execute_result",
          "data": {
            "text/plain": [
              "['2015_05',\n",
              " '2015_06',\n",
              " '2015_07',\n",
              " '2015_08',\n",
              " '2015_09',\n",
              " '2015_10',\n",
              " '2015_11',\n",
              " '2015_12',\n",
              " '2016_01',\n",
              " '2016_02',\n",
              " '2016_03',\n",
              " '2016_04',\n",
              " '2016_05',\n",
              " '2016_06',\n",
              " '2016_07',\n",
              " '2016_08',\n",
              " '2016_09',\n",
              " '2016_10',\n",
              " '2016_11',\n",
              " '2016_12',\n",
              " '2017_01',\n",
              " '2017_02',\n",
              " '2017_03',\n",
              " '2017_04',\n",
              " '2017_05',\n",
              " '2017_06',\n",
              " '2017_07',\n",
              " '2017_08',\n",
              " '2017_09',\n",
              " '2017_10',\n",
              " '2017_11',\n",
              " '2017_12',\n",
              " '2018_01',\n",
              " '2018_02',\n",
              " '2018_03',\n",
              " '2018_04',\n",
              " '2018_05',\n",
              " '2018_06',\n",
              " '2018_07',\n",
              " '2018_08',\n",
              " '2018_09',\n",
              " '2018_10',\n",
              " '2018_11',\n",
              " '2018_12',\n",
              " '2019_01',\n",
              " '2019_02',\n",
              " '2019_03',\n",
              " '2019_04',\n",
              " '2019_05',\n",
              " '2019_06',\n",
              " '2019_07',\n",
              " '2019_08',\n",
              " '2019_09',\n",
              " '2019_10',\n",
              " '2019_11',\n",
              " '2019_12',\n",
              " '2020_01',\n",
              " '2020_02',\n",
              " '2020_03',\n",
              " '2020_04',\n",
              " '2020_05',\n",
              " '2020_06',\n",
              " '2020_07',\n",
              " '2020_08',\n",
              " '2020_09',\n",
              " '2020_10',\n",
              " '2020_11',\n",
              " '2020_12',\n",
              " '2021_01',\n",
              " '2021_02',\n",
              " '2021_03',\n",
              " '2021_04',\n",
              " '2021_05',\n",
              " '2021_06',\n",
              " '2021_07',\n",
              " '2021_08',\n",
              " '2021_09',\n",
              " '2021_10',\n",
              " '2021_11',\n",
              " '2021_12',\n",
              " '2022_01',\n",
              " '2022_02',\n",
              " '2022_03',\n",
              " '2022_04',\n",
              " '2022_05',\n",
              " '2022_06',\n",
              " '2022_07',\n",
              " '2022_08',\n",
              " '2022_09',\n",
              " '2022_10',\n",
              " '2022_11',\n",
              " '2022_12',\n",
              " '2023_01',\n",
              " '2023_02',\n",
              " '2023_03',\n",
              " '2023_04',\n",
              " '2023_05',\n",
              " '2023_06',\n",
              " '2023_07',\n",
              " '2023_08',\n",
              " '2023_09',\n",
              " '2023_10',\n",
              " '2023_11',\n",
              " '2023_12',\n",
              " '2024_01',\n",
              " '2024_02',\n",
              " '2024_03',\n",
              " '2024_04',\n",
              " '2024_05',\n",
              " '2024_06',\n",
              " '2024_07']"
            ]
          },
          "metadata": {},
          "execution_count": 7
        }
      ]
    },
    {
      "cell_type": "code",
      "execution_count": null,
      "metadata": {
        "id": "k5G0-qkmyfGq",
        "outputId": "d618b3b2-9413-49c5-c2af-0f5449f42ac3",
        "colab": {
          "base_uri": "https://localhost:8080/"
        }
      },
      "outputs": [
        {
          "output_type": "stream",
          "name": "stdout",
          "text": [
            "https://www.dmr.nd.gov/oilgas/mpr/2015_05.xlsx\n",
            "https://www.dmr.nd.gov/oilgas/mpr/2015_06.xlsx\n",
            "https://www.dmr.nd.gov/oilgas/mpr/2015_07.xlsx\n",
            "https://www.dmr.nd.gov/oilgas/mpr/2015_08.xlsx\n",
            "https://www.dmr.nd.gov/oilgas/mpr/2015_09.xlsx\n",
            "https://www.dmr.nd.gov/oilgas/mpr/2015_10.xlsx\n",
            "https://www.dmr.nd.gov/oilgas/mpr/2015_11.xlsx\n",
            "https://www.dmr.nd.gov/oilgas/mpr/2015_12.xlsx\n",
            "https://www.dmr.nd.gov/oilgas/mpr/2016_01.xlsx\n",
            "https://www.dmr.nd.gov/oilgas/mpr/2016_02.xlsx\n",
            "https://www.dmr.nd.gov/oilgas/mpr/2016_03.xlsx\n",
            "https://www.dmr.nd.gov/oilgas/mpr/2016_04.xlsx\n",
            "https://www.dmr.nd.gov/oilgas/mpr/2016_05.xlsx\n",
            "https://www.dmr.nd.gov/oilgas/mpr/2016_06.xlsx\n",
            "https://www.dmr.nd.gov/oilgas/mpr/2016_07.xlsx\n",
            "https://www.dmr.nd.gov/oilgas/mpr/2016_08.xlsx\n",
            "https://www.dmr.nd.gov/oilgas/mpr/2016_09.xlsx\n",
            "https://www.dmr.nd.gov/oilgas/mpr/2016_10.xlsx\n",
            "https://www.dmr.nd.gov/oilgas/mpr/2016_11.xlsx\n",
            "https://www.dmr.nd.gov/oilgas/mpr/2016_12.xlsx\n",
            "https://www.dmr.nd.gov/oilgas/mpr/2017_01.xlsx\n",
            "https://www.dmr.nd.gov/oilgas/mpr/2017_02.xlsx\n",
            "https://www.dmr.nd.gov/oilgas/mpr/2017_03.xlsx\n",
            "https://www.dmr.nd.gov/oilgas/mpr/2017_04.xlsx\n",
            "https://www.dmr.nd.gov/oilgas/mpr/2017_05.xlsx\n",
            "https://www.dmr.nd.gov/oilgas/mpr/2017_06.xlsx\n",
            "https://www.dmr.nd.gov/oilgas/mpr/2017_07.xlsx\n",
            "https://www.dmr.nd.gov/oilgas/mpr/2017_08.xlsx\n",
            "https://www.dmr.nd.gov/oilgas/mpr/2017_09.xlsx\n",
            "https://www.dmr.nd.gov/oilgas/mpr/2017_10.xlsx\n",
            "https://www.dmr.nd.gov/oilgas/mpr/2017_11.xlsx\n",
            "https://www.dmr.nd.gov/oilgas/mpr/2017_12.xlsx\n",
            "https://www.dmr.nd.gov/oilgas/mpr/2018_01.xlsx\n",
            "https://www.dmr.nd.gov/oilgas/mpr/2018_02.xlsx\n",
            "https://www.dmr.nd.gov/oilgas/mpr/2018_03.xlsx\n",
            "https://www.dmr.nd.gov/oilgas/mpr/2018_04.xlsx\n",
            "https://www.dmr.nd.gov/oilgas/mpr/2018_05.xlsx\n",
            "https://www.dmr.nd.gov/oilgas/mpr/2018_06.xlsx\n",
            "https://www.dmr.nd.gov/oilgas/mpr/2018_07.xlsx\n",
            "https://www.dmr.nd.gov/oilgas/mpr/2018_08.xlsx\n",
            "https://www.dmr.nd.gov/oilgas/mpr/2018_09.xlsx\n",
            "https://www.dmr.nd.gov/oilgas/mpr/2018_10.xlsx\n",
            "https://www.dmr.nd.gov/oilgas/mpr/2018_11.xlsx\n",
            "https://www.dmr.nd.gov/oilgas/mpr/2018_12.xlsx\n",
            "https://www.dmr.nd.gov/oilgas/mpr/2019_01.xlsx\n",
            "https://www.dmr.nd.gov/oilgas/mpr/2019_02.xlsx\n",
            "https://www.dmr.nd.gov/oilgas/mpr/2019_03.xlsx\n",
            "https://www.dmr.nd.gov/oilgas/mpr/2019_04.xlsx\n",
            "https://www.dmr.nd.gov/oilgas/mpr/2019_05.xlsx\n",
            "https://www.dmr.nd.gov/oilgas/mpr/2019_06.xlsx\n",
            "https://www.dmr.nd.gov/oilgas/mpr/2019_07.xlsx\n",
            "https://www.dmr.nd.gov/oilgas/mpr/2019_08.xlsx\n",
            "https://www.dmr.nd.gov/oilgas/mpr/2019_09.xlsx\n",
            "https://www.dmr.nd.gov/oilgas/mpr/2019_10.xlsx\n",
            "https://www.dmr.nd.gov/oilgas/mpr/2019_11.xlsx\n",
            "https://www.dmr.nd.gov/oilgas/mpr/2019_12.xlsx\n",
            "https://www.dmr.nd.gov/oilgas/mpr/2020_01.xlsx\n",
            "https://www.dmr.nd.gov/oilgas/mpr/2020_02.xlsx\n",
            "https://www.dmr.nd.gov/oilgas/mpr/2020_03.xlsx\n",
            "https://www.dmr.nd.gov/oilgas/mpr/2020_04.xlsx\n"
          ]
        }
      ],
      "source": [
        "NDMWD = []  #list()  # North Dakota Monthly Well (NDMWD) Data download process ~ 10 minutes\n",
        "for month in myList:\n",
        "    target_url = website + month + '.xlsx'\n",
        "    print(target_url)\n",
        "    r = requests.get(target_url)\n",
        "    wb = pd.read_excel(BytesIO(r.content))\n",
        "    NDMWD.append(wb)\n",
        "\n",
        "NDMWD = pd.concat(NDMWD)"
      ]
    },
    {
      "cell_type": "code",
      "execution_count": null,
      "metadata": {
        "id": "JAqveylYyfGq"
      },
      "outputs": [],
      "source": [
        "#Create ND monthly well data table in csv format, which can be downloaded from folder on left hand side\n",
        "NDMWD.to_csv('NDMWD.csv', index=False)"
      ]
    },
    {
      "cell_type": "code",
      "source": [
        "#download the file\n",
        "from google.colab import files\n",
        "files.download('NDMWD.csv')"
      ],
      "metadata": {
        "id": "yTrNM13FOITn"
      },
      "execution_count": null,
      "outputs": []
    },
    {
      "cell_type": "code",
      "source": [
        "NDMWD.info()"
      ],
      "metadata": {
        "id": "y_xBXlPk4Q5Y"
      },
      "execution_count": null,
      "outputs": []
    },
    {
      "cell_type": "markdown",
      "source": [
        "# **1.b Extract first month oil and gas produciton data, latitude and longitude**"
      ],
      "metadata": {
        "id": "3X2p_4GPdw2A"
      }
    },
    {
      "cell_type": "code",
      "source": [
        "#NDMWD = pd.read_csv('NDMWD.csv')\n",
        "NDMWD.drop_duplicates(inplace=True)\n",
        "NDMWD = NDMWD[NDMWD['Days'] >= 25].reset_index(drop=True)\n",
        "NDMWD['ReportDate'] = pd.to_datetime(NDMWD['ReportDate'], errors = 'coerce')\n",
        "NDMWD.tail(2)"
      ],
      "metadata": {
        "id": "mHHF1wtdj1Jm"
      },
      "execution_count": null,
      "outputs": []
    },
    {
      "cell_type": "code",
      "source": [
        "ffmWells = NDMWD[['API_WELLNO', 'Pool','ReportDate']].groupby('API_WELLNO').min().rename(columns={'ReportDate':'ffMonth'}).reset_index()\n",
        "ffmWells.tail(3)"
      ],
      "metadata": {
        "id": "30pAz6ULdvI1"
      },
      "execution_count": null,
      "outputs": []
    },
    {
      "cell_type": "code",
      "source": [
        "ffmWells.info()"
      ],
      "metadata": {
        "id": "I81CpJid04N4"
      },
      "execution_count": null,
      "outputs": []
    },
    {
      "cell_type": "code",
      "source": [
        "ffmWells = ffmWells.merge(NDMWD[['API_WELLNO','Pool','ReportDate','Oil','Gas','Wtr','Days','Runs', 'Lat', 'Long']], how='left', left_on=['API_WELLNO','Pool','ffMonth'], right_on = ['API_WELLNO','Pool','ReportDate'])\n",
        "ffmWells.dropna(inplace=True)\n",
        "ffmWells.reset_index(drop=True)\n",
        "ffmWells.tail()"
      ],
      "metadata": {
        "id": "JIVaYXJJdvNF"
      },
      "execution_count": null,
      "outputs": []
    },
    {
      "cell_type": "code",
      "source": [
        "ffmWells.info()"
      ],
      "metadata": {
        "id": "QlxptNz21n_Z"
      },
      "execution_count": null,
      "outputs": []
    },
    {
      "cell_type": "code",
      "source": [
        "ffmWells.drop('ReportDate', axis=1, inplace=True )\n",
        "ffmWells['bpd'] =  ffmWells.Oil/ffmWells.Days\n",
        "ffmWells['Mcfpd'] =  ffmWells.Gas/ffmWells.Days"
      ],
      "metadata": {
        "id": "Oo29Q7NedvQm"
      },
      "execution_count": null,
      "outputs": []
    },
    {
      "cell_type": "code",
      "source": [
        "ffmWells.tail()"
      ],
      "metadata": {
        "id": "1ilQX2tPdvT8"
      },
      "execution_count": null,
      "outputs": []
    },
    {
      "cell_type": "code",
      "source": [
        "ffmWells.info()"
      ],
      "metadata": {
        "id": "tvrNNhrKdvaf"
      },
      "execution_count": null,
      "outputs": []
    },
    {
      "cell_type": "markdown",
      "source": [
        "# **1.c Wells latitude and longitude to MHB allocation**"
      ],
      "metadata": {
        "id": "6LM3R-yZ7UQp"
      }
    },
    {
      "cell_type": "code",
      "source": [
        "# Maidenhead grid locators courtesy of Walter Underwood K6WRU:\n",
        "# https://ham.stackexchange.com/questions/221/how-can-one-convert-from-lat-long-to-grid-square\n"
      ],
      "metadata": {
        "id": "ziGBTzwL7YwE"
      },
      "execution_count": null,
      "outputs": []
    },
    {
      "cell_type": "code",
      "source": [
        "upper = 'ABCDEFGHIJKLMNOPQRSTUVWX'\n",
        "lower = 'abcdefghijklmnopqrstuvwx'"
      ],
      "metadata": {
        "id": "VWAua-1qdveT"
      },
      "execution_count": null,
      "outputs": []
    },
    {
      "cell_type": "code",
      "source": [
        "def gridCalc(row):\n",
        "    dec_lat = row['Lat']\n",
        "    dec_lon = row['Long']\n",
        "    if not (-180<=dec_lon<180):\n",
        "        sys.stderr.write('longitude must be -180<=lon<180, given %f\\n'%dec_lon)\n",
        "        sys.exit(32)\n",
        "    if not (-90<=dec_lat<90):\n",
        "        sys.stderr.write('latitude must be -90<=lat<90, given %f\\n'%dec_lat)\n",
        "        sys.exit(33) # can't handle north pole, sorry, [A-R]\n",
        "\n",
        "    adj_lat = dec_lat + 90.0\n",
        "    adj_lon = dec_lon + 180.0\n",
        "\n",
        "    grid_lat_sq = upper[int(adj_lat/10)];\n",
        "    grid_lon_sq = upper[int(adj_lon/20)];\n",
        "\n",
        "    grid_lat_field = str(int(adj_lat%10))\n",
        "    grid_lon_field = str(int((adj_lon/2)%10))\n",
        "\n",
        "    adj_lat_remainder = (adj_lat - int(adj_lat)) * 60\n",
        "    adj_lon_remainder = ((adj_lon) - int(adj_lon/2)*2) * 60\n",
        "\n",
        "    grid_lat_subsq = lower[int(adj_lat_remainder/2.5)]\n",
        "    grid_lon_subsq = lower[int(adj_lon_remainder/5)]\n",
        "\n",
        "    return grid_lon_sq + grid_lat_sq + grid_lon_field + grid_lat_field + grid_lon_subsq + grid_lat_subsq"
      ],
      "metadata": {
        "id": "VJe0OofD7uQL"
      },
      "execution_count": null,
      "outputs": []
    },
    {
      "cell_type": "code",
      "source": [
        "ffmWells['MHB'] = ffmWells.apply(gridCalc, axis=1)"
      ],
      "metadata": {
        "id": "uSqwo_NT8D9U"
      },
      "execution_count": null,
      "outputs": []
    },
    {
      "cell_type": "code",
      "source": [
        "ffmWells.tail()"
      ],
      "metadata": {
        "id": "5vT95eAl8sx8"
      },
      "execution_count": null,
      "outputs": []
    },
    {
      "cell_type": "code",
      "source": [
        "ffmWells.to_csv('ffmWells.csv', index=False)"
      ],
      "metadata": {
        "id": "wPl_ic3ddvXF"
      },
      "execution_count": null,
      "outputs": []
    },
    {
      "cell_type": "markdown",
      "source": [
        "# **2.a Download well bore data from ND DMR ~5min**"
      ],
      "metadata": {
        "id": "v0MduTIF1roy"
      }
    },
    {
      "cell_type": "code",
      "source": [
        "!pip install dbfread"
      ],
      "metadata": {
        "id": "B6O8FO3OxODp"
      },
      "execution_count": null,
      "outputs": []
    },
    {
      "cell_type": "code",
      "source": [
        "import pandas as pd\n",
        "import plotly.express as px\n",
        "from dbfread import DBF\n",
        "import ipywidgets as widgets\n",
        "import csv\n",
        "from math import radians, sin, cos, sqrt, atan2"
      ],
      "metadata": {
        "id": "Ili4CEbF1qbm"
      },
      "execution_count": null,
      "outputs": []
    },
    {
      "cell_type": "code",
      "source": [
        "# run command to download data.  In case it is not able to download, open the link and upload the data to this notebook from left hand side menu.\n",
        "!wget https://gis.dmr.nd.gov/downloads/oilgas/shapefile/OGD_Horizontals.zip"
      ],
      "metadata": {
        "id": "dVQYCGxr1pRe"
      },
      "execution_count": null,
      "outputs": []
    },
    {
      "cell_type": "code",
      "source": [
        "!unzip OGD_Horizontals.zip"
      ],
      "metadata": {
        "id": "Lj8cqFeb2TQ-"
      },
      "execution_count": null,
      "outputs": []
    },
    {
      "cell_type": "code",
      "source": [
        "# to write OGD_Horizontals.dbf to csv file ~ 2 minutes\n",
        "filename= 'OGD_Horizontals.dbf'\n",
        "table = DBF(filename)\n",
        "f=open('ndWells.csv', 'w')\n",
        "writer = csv.writer(f)\n",
        "writer.writerow(table.field_names)\n",
        "for record in table:\n",
        "  writer.writerow(list(record.values()))"
      ],
      "metadata": {
        "id": "2D1gH2wM2TVM"
      },
      "execution_count": null,
      "outputs": []
    },
    {
      "cell_type": "code",
      "source": [
        "dfWells = pd.read_csv('ndWells.csv')\n",
        "dfWells.head(3)"
      ],
      "metadata": {
        "id": "z-lGCt-M2TZb"
      },
      "execution_count": null,
      "outputs": []
    },
    {
      "cell_type": "markdown",
      "source": [
        "# **2.b Filter out first laterals and estimate lateral length**"
      ],
      "metadata": {
        "id": "vm5YEu3t2dCo"
      }
    },
    {
      "cell_type": "code",
      "source": [
        "dfWells['myLateral'] = ['1stLat' if x=='LAT1' else '1stLat' if x=='STK1' else 'VERT' if x=='VERT' else 'othLat' for x in dfWells['well_sub']]\n",
        "dfWells.tail(3)"
      ],
      "metadata": {
        "id": "UTfROFEu2Tdq"
      },
      "execution_count": null,
      "outputs": []
    },
    {
      "cell_type": "code",
      "source": [
        "flWells = dfWells.groupby(['api_wellno','myLateral']).agg(latMin=('lat', 'min'),latMax=('lat', 'max'),\n",
        "                                                        longMin=('long', 'min'),longMax=('long', 'max'),\n",
        "                                                        tvdMin=('tvd', 'min'),tvdMax=('tvd', 'max')).reset_index()"
      ],
      "metadata": {
        "id": "k0WlaQri2TgT"
      },
      "execution_count": null,
      "outputs": []
    },
    {
      "cell_type": "code",
      "source": [
        "def latft(latMin, latMax, longMin, longMax):\n",
        "\n",
        "    R = 20925721\n",
        "\n",
        "    lat1 = radians(latMin)\n",
        "    lon1 = radians(longMin)\n",
        "    lat2 = radians(latMax)\n",
        "    lon2 = radians(longMax)\n",
        "\n",
        "    dlon = lon2 - lon1\n",
        "    dlat = lat2 - lat1\n",
        "\n",
        "    a = sin(dlat / 2)**2 + cos(lat1) * cos(lat2) * sin(dlon / 2)**2\n",
        "    c = 2 * atan2(sqrt(a), sqrt(1 - a))\n",
        "\n",
        "    distance = R * c\n",
        "\n",
        "    #print(\"latL_km:\", distance)\n",
        "    return distance"
      ],
      "metadata": {
        "id": "aY8KTHoW2Tin"
      },
      "execution_count": null,
      "outputs": []
    },
    {
      "cell_type": "code",
      "source": [
        "flWells['totll'] = flWells.apply(lambda row: latft(row['latMin'],row['latMax'],row['longMin'],row['longMax']),  axis=1)"
      ],
      "metadata": {
        "id": "dQCl-t3L2Tlj"
      },
      "execution_count": null,
      "outputs": []
    },
    {
      "cell_type": "code",
      "source": [
        "flWellsOnly = flWells[['api_wellno','myLateral','totll']][flWells['myLateral'] == '1stLat'].reset_index(drop=True)\n",
        "flWellsOnly.tail()"
      ],
      "metadata": {
        "id": "nrfcFHiI27YE"
      },
      "execution_count": null,
      "outputs": []
    },
    {
      "cell_type": "code",
      "source": [
        "flWellsOnly[['api_wellno','myLateral','totll']].to_csv('flWellsOnly.csv', index=False)"
      ],
      "metadata": {
        "id": "nnZtCROQ27bj"
      },
      "execution_count": null,
      "outputs": []
    },
    {
      "cell_type": "code",
      "source": [
        "flWells[flWells['api_wellno']==33105040690000]"
      ],
      "metadata": {
        "id": "L2XWHeLh27fT"
      },
      "execution_count": null,
      "outputs": []
    },
    {
      "cell_type": "code",
      "source": [
        "## 3D plot of specific well to verify estimation\n",
        "plWell = dfWells[['api_wellno','lat','long','tvd','well_sub']][dfWells['api_wellno'] == 33105040690000]"
      ],
      "metadata": {
        "id": "HgXTnZ9l27pG"
      },
      "execution_count": null,
      "outputs": []
    },
    {
      "cell_type": "code",
      "source": [
        "fig = px.scatter_3d(plWell, x='long', y='lat', z='tvd', color='well_sub')\n",
        "fig.update_traces(marker_size = 3)\n",
        "fig.update_scenes(yaxis_autorange=\"reversed\")\n",
        "fig.update_scenes(xaxis_autorange=\"reversed\")\n",
        "fig.update_scenes(zaxis_range=[16000, 0])\n",
        "fig.update_layout({\n",
        "    'plot_bgcolor': 'rgba(100, 0, 0, 0)',\n",
        "    'paper_bgcolor': 'rgba(0, 0, 0, 0)',\n",
        "                      })"
      ],
      "metadata": {
        "id": "FpiAevzS1pdK"
      },
      "execution_count": null,
      "outputs": []
    },
    {
      "cell_type": "markdown",
      "source": [
        "# **3.a Download and unzip FracFocus.org well completion data ~5min**"
      ],
      "metadata": {
        "id": "GXMe4D7d4I_5"
      }
    },
    {
      "cell_type": "code",
      "source": [
        "import pandas as pd\n",
        "import requests\n",
        "import zipfile\n",
        "import io\n",
        "import datetime"
      ],
      "metadata": {
        "id": "ZY_-c2NF4dsi"
      },
      "execution_count": null,
      "outputs": []
    },
    {
      "cell_type": "code",
      "source": [
        "link2FFcsvZip = 'http://fracfocusdata.org/digitaldownload/FracFocusCSV.zip'"
      ],
      "metadata": {
        "id": "88y8nJMW4iM-"
      },
      "execution_count": null,
      "outputs": []
    },
    {
      "cell_type": "code",
      "source": [
        "request = requests.get(link2FFcsvZip)\n",
        "zipBag = zipfile.ZipFile(io.BytesIO(request.content))"
      ],
      "metadata": {
        "id": "HpjKBG1d4iR1"
      },
      "execution_count": null,
      "outputs": []
    },
    {
      "cell_type": "code",
      "source": [
        "zipFiles = zipBag.namelist()\n",
        "zipFiles"
      ],
      "metadata": {
        "id": "hymLA8tY4iV7"
      },
      "execution_count": null,
      "outputs": []
    },
    {
      "cell_type": "code",
      "source": [
        "#Unzip files and create corresponding dataframes\n",
        "RegistryUpload_files=[]\n",
        "FracFocusRegistry_files=[]"
      ],
      "metadata": {
        "id": "5Rf6gzRC4v6g"
      },
      "execution_count": null,
      "outputs": []
    },
    {
      "cell_type": "code",
      "source": [
        "for file_name in zipFiles:\n",
        "    if (('DisclosureList' in file_name)) & (file_name.endswith('.csv')):\n",
        "        RegistryUpload_files.append(file_name)\n",
        "    if (('FracFocusRegistry' in file_name)) & (file_name.endswith('.csv')):\n",
        "        FracFocusRegistry_files.append(file_name)"
      ],
      "metadata": {
        "id": "tGGw7KYI4wEH"
      },
      "execution_count": null,
      "outputs": []
    },
    {
      "cell_type": "code",
      "source": [
        "RegistryUpload_files"
      ],
      "metadata": {
        "id": "Qnhxv-wT4wIY"
      },
      "execution_count": null,
      "outputs": []
    },
    {
      "cell_type": "code",
      "source": [
        "dfs = list()\n",
        "for file_name in RegistryUpload_files:\n",
        "    df = pd.read_csv(zipBag.open(file_name), low_memory=False, dtype={'APINumber': 'str','StateNumber': 'str', 'CountyNumber': 'str'})\n",
        "    dfs.append(df)\n",
        "\n",
        "RegistryUpload = pd.concat(dfs, axis=0, ignore_index=True)\n",
        "RegistryUpload.head(2)"
      ],
      "metadata": {
        "id": "CXnKMEwR4wMx"
      },
      "execution_count": null,
      "outputs": []
    },
    {
      "cell_type": "code",
      "source": [
        "RegistryUpload.info()"
      ],
      "metadata": {
        "id": "CiWx_HiM4icJ"
      },
      "execution_count": null,
      "outputs": []
    },
    {
      "cell_type": "code",
      "source": [
        "FracFocusRegistry_files"
      ],
      "metadata": {
        "id": "ogLrFlx05G3x"
      },
      "execution_count": null,
      "outputs": []
    },
    {
      "cell_type": "code",
      "source": [
        "dfs = list()\n",
        "for file_name in FracFocusRegistry_files:\n",
        "    df = pd.read_csv(zipBag.open(file_name), low_memory=False, dtype={'APINumber': 'str','StateNumber': 'str', 'CountyNumber': 'str'})\n",
        "    dfs.append(df)\n",
        "\n",
        "FracFocusRegistry = pd.concat(dfs, axis=0, ignore_index=True)\n",
        "FracFocusRegistry.head(2)"
      ],
      "metadata": {
        "id": "3i6PiG5_5HvF"
      },
      "execution_count": null,
      "outputs": []
    },
    {
      "cell_type": "code",
      "source": [
        "FracFocusRegistry.info()"
      ],
      "metadata": {
        "id": "87CxcZoS5Otm"
      },
      "execution_count": null,
      "outputs": []
    },
    {
      "cell_type": "markdown",
      "source": [
        "# **3.b Estimate water and sand used in copletions of ND wells only**"
      ],
      "metadata": {
        "id": "9etAQ9hn5cro"
      }
    },
    {
      "cell_type": "code",
      "source": [
        "# Filter out ND wells and list water used in completions\n",
        "ffWellsND = RegistryUpload[['DisclosureId','APINumber','JobEndDate','TotalBaseWaterVolume']][RegistryUpload['StateName']== 'North Dakota'].reset_index(drop=True)\n",
        "ffWellsND['JobEndDate'] = pd.to_datetime(ffWellsND['JobEndDate'], errors = 'coerce').dt.date\n",
        "ffWellsND.tail()"
      ],
      "metadata": {
        "id": "ceulT9gd5c_P"
      },
      "execution_count": null,
      "outputs": []
    },
    {
      "cell_type": "code",
      "source": [
        "#Filter out sand used during completions\n",
        "swData = FracFocusRegistry[['DisclosureId','APINumber','JobEndDate','IngredientName','Purpose','TradeName','MassIngredient','PercentHFJob','IngredientsId','TotalBaseWaterVolume']][FracFocusRegistry['StateName']== 'North Dakota'].reset_index(drop=True)\n",
        "swData['JobEndDate'] = pd.to_datetime(swData['JobEndDate'], errors = 'coerce').dt.date"
      ],
      "metadata": {
        "id": "oYbJHz6H5dJE"
      },
      "execution_count": null,
      "outputs": []
    },
    {
      "cell_type": "code",
      "source": [
        "tnWords = ['sand','mesh','proppant','ceramic','quartz','silica','crystalline']\n",
        "swDataFilter = swData[swData['TradeName'].str.contains('|'.join(tnWords), case=False, na=False, regex = True)].copy().reset_index(drop=True)\n",
        "swDataFilter.tail(2)"
      ],
      "metadata": {
        "id": "_yf_-XUs5dOf"
      },
      "execution_count": null,
      "outputs": []
    },
    {
      "cell_type": "code",
      "source": [
        "exclusionList = ['water','transport','acid','stabilizer','carrier','clay','ammonium','chloride','Potassium','KCL','chlorine','naphtha','petroleum','aromatic','surfactant','alcohol','gum','tetrahydrate','carbonate','glycol']\n",
        "swDataFilter = swDataFilter[~swDataFilter['TradeName'].str.contains('|'.join(exclusionList), case=False, na=False)].copy().reset_index(drop=True)\n",
        "swDataFilter.tail(2)"
      ],
      "metadata": {
        "id": "k76aJj-q6SDm"
      },
      "execution_count": null,
      "outputs": []
    },
    {
      "cell_type": "code",
      "source": [
        "#Estimate mass from PercentHFJob\n",
        "swDataFilter['derWeight'] = swDataFilter['TotalBaseWaterVolume']*.0935*swDataFilter['PercentHFJob']"
      ],
      "metadata": {
        "id": "S2HxeN-d6SGu"
      },
      "execution_count": null,
      "outputs": []
    },
    {
      "cell_type": "code",
      "source": [
        "def weightCondition(s):\n",
        "    if (s['MassIngredient'] > 0):\n",
        "        return s['MassIngredient']\n",
        "    else:\n",
        "        return s['derWeight']"
      ],
      "metadata": {
        "id": "rrNLSgVG67Ro"
      },
      "execution_count": null,
      "outputs": []
    },
    {
      "cell_type": "code",
      "source": [
        "swDataFilter['bestWeight'] = swDataFilter.apply(weightCondition, axis=1)"
      ],
      "metadata": {
        "id": "hpNHrPcZ67cD"
      },
      "execution_count": null,
      "outputs": []
    },
    {
      "cell_type": "code",
      "source": [
        "SandUsed = swDataFilter[['DisclosureId','APINumber','JobEndDate','bestWeight']].groupby(['DisclosureId','APINumber','JobEndDate']).sum().rename(columns={'bestWeight':'SandLB'}).reset_index()"
      ],
      "metadata": {
        "id": "S3up_qCT6SNB"
      },
      "execution_count": null,
      "outputs": []
    },
    {
      "cell_type": "code",
      "source": [
        "SandUsed = SandUsed[SandUsed['SandLB'] > 0]\n",
        "SandUsed.reset_index(drop=True, inplace=True)\n",
        "SandUsed.tail()"
      ],
      "metadata": {
        "id": "oK1PDxaK5dSs"
      },
      "execution_count": null,
      "outputs": []
    },
    {
      "cell_type": "code",
      "source": [
        "#Merge water and sand used during completions\n",
        "ffWellsND = ffWellsND.merge(SandUsed[['DisclosureId','SandLB']], how='left', left_on = 'DisclosureId', right_on = 'DisclosureId' )"
      ],
      "metadata": {
        "id": "MO2Cdq717Q24"
      },
      "execution_count": null,
      "outputs": []
    },
    {
      "cell_type": "code",
      "source": [
        "ffWellsND.tail()"
      ],
      "metadata": {
        "id": "oSDhAYn3CLK4"
      },
      "execution_count": null,
      "outputs": []
    },
    {
      "cell_type": "code",
      "source": [
        "ffWellsND.drop(['DisclosureId'], axis=1, inplace=True)"
      ],
      "metadata": {
        "id": "_LrHLkM07Q-O"
      },
      "execution_count": null,
      "outputs": []
    },
    {
      "cell_type": "code",
      "source": [
        "#Filter out first frac jobs\n",
        "ffWellsND = ffWellsND.sort_values(['APINumber','JobEndDate']).reset_index(drop = True)\n",
        "ffWellsND[\"sfID\"] = ffWellsND.groupby(['APINumber']).cumcount()\n",
        "ffWellsND = ffWellsND[ffWellsND['sfID']==0].reset_index(drop = True)  # filters out refrac jobs, keeps only the first frac jobs\n",
        "ffWellsND.drop('sfID', inplace=True, axis=1)\n",
        "ffWellsND.rename({'TotalBaseWaterVolume': 'WaterGal'}, axis=1, inplace=True)\n",
        "ffWellsND[\"APINumber\"] = ffWellsND[\"APINumber\"].astype(int)\n",
        "ffWellsND.tail()"
      ],
      "metadata": {
        "id": "jzhkPZgW98ck"
      },
      "execution_count": null,
      "outputs": []
    },
    {
      "cell_type": "code",
      "source": [
        "ffWellsND.to_csv('ffWellsND.csv', index=False)\n",
        "ffWellsND.tail()"
      ],
      "metadata": {
        "id": "az5Z_5P07RFB"
      },
      "execution_count": null,
      "outputs": []
    },
    {
      "cell_type": "markdown",
      "source": [
        "# **4. Combine files and write data file for Sub-county analysis**"
      ],
      "metadata": {
        "id": "JfMPEILbxOjZ"
      }
    },
    {
      "cell_type": "code",
      "source": [
        "# In disagregated form, read the files from previously derived csv files\n",
        "#ffmWells = pd.read_csv('ffmWells.csv')\n",
        "#flWellsOnly = pd.read_csv('flWellsOnly.csv')\n",
        "#ffWellsND = pd.read_csv('ffWellsND.csv')"
      ],
      "metadata": {
        "id": "pNoSYkrYxbzF"
      },
      "execution_count": null,
      "outputs": []
    },
    {
      "cell_type": "code",
      "source": [
        "ND_Data = ffmWells[['API_WELLNO','Pool','ffMonth','bpd','Mcfpd','MHB']].merge(flWellsOnly, how = 'left', left_on = 'API_WELLNO', right_on = 'api_wellno')\n",
        "ND_Data.drop(['api_wellno','myLateral'], axis=1, inplace=True)\n",
        "ND_Data.columns = ['API14', 'Pool', 'feDate', 'maxPo', 'maxPg','MHB','LL']\n",
        "ND_Data.tail()"
      ],
      "metadata": {
        "id": "mHwXavvFyHL6"
      },
      "execution_count": null,
      "outputs": []
    },
    {
      "cell_type": "code",
      "source": [
        "ND_Data = ND_Data.merge(ffWellsND, how = 'left', left_on = 'API14', right_on = 'APINumber')\n",
        "ND_Data.tail()"
      ],
      "metadata": {
        "id": "IylGdnbx51Va"
      },
      "execution_count": null,
      "outputs": []
    },
    {
      "cell_type": "code",
      "source": [
        "#Drop wells with missing values\n",
        "ND_Data.dropna(inplace=True)\n",
        "ND_Data.reset_index(inplace=True, drop=True)\n",
        "ND_Data.tail()"
      ],
      "metadata": {
        "id": "3wxVQx7qQqZv"
      },
      "execution_count": null,
      "outputs": []
    },
    {
      "cell_type": "code",
      "source": [
        "ND_Bakken = ND_Data[ND_Data['Pool']=='BAKKEN']  #Filter out Bakken wells only\n",
        "ND_Bakken = ND_Bakken[ND_Bakken['feDate']>'2015-06-01'].reset_index(drop = True)  #Filter out first two month to eliminate wells that started before data is available\n",
        "ND_Bakken"
      ],
      "metadata": {
        "id": "Hw1_UNe_YM47"
      },
      "execution_count": null,
      "outputs": []
    },
    {
      "cell_type": "code",
      "source": [
        "ND_Bakken.to_excel('ND_BakkenPublic.xlsx', sheet_name='ND_BakkenPublic', index=False)"
      ],
      "metadata": {
        "id": "TXZr4KUx6S-q"
      },
      "execution_count": null,
      "outputs": []
    },
    {
      "cell_type": "code",
      "source": [
        "#download the file\n",
        "from google.colab import files\n",
        "files.download('ND_BakkenPublic.xlsx')"
      ],
      "metadata": {
        "id": "SFTNOdxIVGgI"
      },
      "execution_count": null,
      "outputs": []
    }
  ],
  "metadata": {
    "kernelspec": {
      "display_name": "Python 3",
      "language": "python",
      "name": "python3"
    },
    "language_info": {
      "codemirror_mode": {
        "name": "ipython",
        "version": 3
      },
      "file_extension": ".py",
      "mimetype": "text/x-python",
      "name": "python",
      "nbconvert_exporter": "python",
      "pygments_lexer": "ipython3",
      "version": "3.8.3"
    },
    "colab": {
      "provenance": []
    }
  },
  "nbformat": 4,
  "nbformat_minor": 0
}