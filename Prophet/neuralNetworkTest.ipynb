{
  "nbformat": 4,
  "nbformat_minor": 0,
  "metadata": {
    "colab": {
      "provenance": [],
      "include_colab_link": true
    },
    "kernelspec": {
      "name": "python3",
      "display_name": "Python 3"
    },
    "language_info": {
      "name": "python"
    }
  },
  "cells": [
    {
      "cell_type": "markdown",
      "metadata": {
        "id": "view-in-github",
        "colab_type": "text"
      },
      "source": [
        "<a href=\"https://colab.research.google.com/github/JozefSL/pyNotes/blob/main/Prophet/neuralNetworkTest.ipynb\" target=\"_parent\"><img src=\"https://colab.research.google.com/assets/colab-badge.svg\" alt=\"Open In Colab\"/></a>"
      ]
    },
    {
      "cell_type": "code",
      "source": [
        "#@title Install filterpy and restart runtime\n",
        "# this command hides the cell output\n",
        "%%capture\n",
        "!pip install filterpy\n",
        "import os\n",
        "#os.kill(os.getpid(),9)"
      ],
      "metadata": {
        "id": "sMgNP5PbyP4a"
      },
      "execution_count": 1,
      "outputs": []
    },
    {
      "cell_type": "code",
      "source": [
        "import pandas as pd\n",
        "import numpy as np\n",
        "import tensorflow as tf\n",
        "from sklearn.preprocessing import MinMaxScaler\n",
        "from keras.models import Sequential\n",
        "from keras.layers import Dense, LSTM"
      ],
      "metadata": {
        "id": "RMfHkOr4PvDm"
      },
      "execution_count": 42,
      "outputs": []
    },
    {
      "cell_type": "code",
      "source": [
        "from google.colab import files\n",
        "uploaded = files.upload() # Appalachia.xlsx"
      ],
      "metadata": {
        "colab": {
          "base_uri": "https://localhost:8080/",
          "height": 73
        },
        "id": "eNP3jj2wPyL3",
        "outputId": "44c45e2a-7bcf-4f0a-a857-c8409c619c3a"
      },
      "execution_count": 73,
      "outputs": [
        {
          "output_type": "display_data",
          "data": {
            "text/plain": [
              "<IPython.core.display.HTML object>"
            ],
            "text/html": [
              "\n",
              "     <input type=\"file\" id=\"files-67e1c356-644e-4466-9918-8f4b0a424e91\" name=\"files[]\" multiple disabled\n",
              "        style=\"border:none\" />\n",
              "     <output id=\"result-67e1c356-644e-4466-9918-8f4b0a424e91\">\n",
              "      Upload widget is only available when the cell has been executed in the\n",
              "      current browser session. Please rerun this cell to enable.\n",
              "      </output>\n",
              "      <script>// Copyright 2017 Google LLC\n",
              "//\n",
              "// Licensed under the Apache License, Version 2.0 (the \"License\");\n",
              "// you may not use this file except in compliance with the License.\n",
              "// You may obtain a copy of the License at\n",
              "//\n",
              "//      http://www.apache.org/licenses/LICENSE-2.0\n",
              "//\n",
              "// Unless required by applicable law or agreed to in writing, software\n",
              "// distributed under the License is distributed on an \"AS IS\" BASIS,\n",
              "// WITHOUT WARRANTIES OR CONDITIONS OF ANY KIND, either express or implied.\n",
              "// See the License for the specific language governing permissions and\n",
              "// limitations under the License.\n",
              "\n",
              "/**\n",
              " * @fileoverview Helpers for google.colab Python module.\n",
              " */\n",
              "(function(scope) {\n",
              "function span(text, styleAttributes = {}) {\n",
              "  const element = document.createElement('span');\n",
              "  element.textContent = text;\n",
              "  for (const key of Object.keys(styleAttributes)) {\n",
              "    element.style[key] = styleAttributes[key];\n",
              "  }\n",
              "  return element;\n",
              "}\n",
              "\n",
              "// Max number of bytes which will be uploaded at a time.\n",
              "const MAX_PAYLOAD_SIZE = 100 * 1024;\n",
              "\n",
              "function _uploadFiles(inputId, outputId) {\n",
              "  const steps = uploadFilesStep(inputId, outputId);\n",
              "  const outputElement = document.getElementById(outputId);\n",
              "  // Cache steps on the outputElement to make it available for the next call\n",
              "  // to uploadFilesContinue from Python.\n",
              "  outputElement.steps = steps;\n",
              "\n",
              "  return _uploadFilesContinue(outputId);\n",
              "}\n",
              "\n",
              "// This is roughly an async generator (not supported in the browser yet),\n",
              "// where there are multiple asynchronous steps and the Python side is going\n",
              "// to poll for completion of each step.\n",
              "// This uses a Promise to block the python side on completion of each step,\n",
              "// then passes the result of the previous step as the input to the next step.\n",
              "function _uploadFilesContinue(outputId) {\n",
              "  const outputElement = document.getElementById(outputId);\n",
              "  const steps = outputElement.steps;\n",
              "\n",
              "  const next = steps.next(outputElement.lastPromiseValue);\n",
              "  return Promise.resolve(next.value.promise).then((value) => {\n",
              "    // Cache the last promise value to make it available to the next\n",
              "    // step of the generator.\n",
              "    outputElement.lastPromiseValue = value;\n",
              "    return next.value.response;\n",
              "  });\n",
              "}\n",
              "\n",
              "/**\n",
              " * Generator function which is called between each async step of the upload\n",
              " * process.\n",
              " * @param {string} inputId Element ID of the input file picker element.\n",
              " * @param {string} outputId Element ID of the output display.\n",
              " * @return {!Iterable<!Object>} Iterable of next steps.\n",
              " */\n",
              "function* uploadFilesStep(inputId, outputId) {\n",
              "  const inputElement = document.getElementById(inputId);\n",
              "  inputElement.disabled = false;\n",
              "\n",
              "  const outputElement = document.getElementById(outputId);\n",
              "  outputElement.innerHTML = '';\n",
              "\n",
              "  const pickedPromise = new Promise((resolve) => {\n",
              "    inputElement.addEventListener('change', (e) => {\n",
              "      resolve(e.target.files);\n",
              "    });\n",
              "  });\n",
              "\n",
              "  const cancel = document.createElement('button');\n",
              "  inputElement.parentElement.appendChild(cancel);\n",
              "  cancel.textContent = 'Cancel upload';\n",
              "  const cancelPromise = new Promise((resolve) => {\n",
              "    cancel.onclick = () => {\n",
              "      resolve(null);\n",
              "    };\n",
              "  });\n",
              "\n",
              "  // Wait for the user to pick the files.\n",
              "  const files = yield {\n",
              "    promise: Promise.race([pickedPromise, cancelPromise]),\n",
              "    response: {\n",
              "      action: 'starting',\n",
              "    }\n",
              "  };\n",
              "\n",
              "  cancel.remove();\n",
              "\n",
              "  // Disable the input element since further picks are not allowed.\n",
              "  inputElement.disabled = true;\n",
              "\n",
              "  if (!files) {\n",
              "    return {\n",
              "      response: {\n",
              "        action: 'complete',\n",
              "      }\n",
              "    };\n",
              "  }\n",
              "\n",
              "  for (const file of files) {\n",
              "    const li = document.createElement('li');\n",
              "    li.append(span(file.name, {fontWeight: 'bold'}));\n",
              "    li.append(span(\n",
              "        `(${file.type || 'n/a'}) - ${file.size} bytes, ` +\n",
              "        `last modified: ${\n",
              "            file.lastModifiedDate ? file.lastModifiedDate.toLocaleDateString() :\n",
              "                                    'n/a'} - `));\n",
              "    const percent = span('0% done');\n",
              "    li.appendChild(percent);\n",
              "\n",
              "    outputElement.appendChild(li);\n",
              "\n",
              "    const fileDataPromise = new Promise((resolve) => {\n",
              "      const reader = new FileReader();\n",
              "      reader.onload = (e) => {\n",
              "        resolve(e.target.result);\n",
              "      };\n",
              "      reader.readAsArrayBuffer(file);\n",
              "    });\n",
              "    // Wait for the data to be ready.\n",
              "    let fileData = yield {\n",
              "      promise: fileDataPromise,\n",
              "      response: {\n",
              "        action: 'continue',\n",
              "      }\n",
              "    };\n",
              "\n",
              "    // Use a chunked sending to avoid message size limits. See b/62115660.\n",
              "    let position = 0;\n",
              "    do {\n",
              "      const length = Math.min(fileData.byteLength - position, MAX_PAYLOAD_SIZE);\n",
              "      const chunk = new Uint8Array(fileData, position, length);\n",
              "      position += length;\n",
              "\n",
              "      const base64 = btoa(String.fromCharCode.apply(null, chunk));\n",
              "      yield {\n",
              "        response: {\n",
              "          action: 'append',\n",
              "          file: file.name,\n",
              "          data: base64,\n",
              "        },\n",
              "      };\n",
              "\n",
              "      let percentDone = fileData.byteLength === 0 ?\n",
              "          100 :\n",
              "          Math.round((position / fileData.byteLength) * 100);\n",
              "      percent.textContent = `${percentDone}% done`;\n",
              "\n",
              "    } while (position < fileData.byteLength);\n",
              "  }\n",
              "\n",
              "  // All done.\n",
              "  yield {\n",
              "    response: {\n",
              "      action: 'complete',\n",
              "    }\n",
              "  };\n",
              "}\n",
              "\n",
              "scope.google = scope.google || {};\n",
              "scope.google.colab = scope.google.colab || {};\n",
              "scope.google.colab._files = {\n",
              "  _uploadFiles,\n",
              "  _uploadFilesContinue,\n",
              "};\n",
              "})(self);\n",
              "</script> "
            ]
          },
          "metadata": {}
        },
        {
          "output_type": "stream",
          "name": "stdout",
          "text": [
            "Saving oil_and_sp500.csv to oil_and_sp500.csv\n"
          ]
        }
      ]
    },
    {
      "cell_type": "code",
      "source": [
        "# Load data\n",
        "df = pd.read_csv('oil_prices.csv')"
      ],
      "metadata": {
        "id": "9spK_IrtYMh9"
      },
      "execution_count": 33,
      "outputs": []
    },
    {
      "cell_type": "code",
      "source": [
        "# Convert date column to datetime\n",
        "df['Date'] = pd.to_datetime(df['Date'])\n"
      ],
      "metadata": {
        "id": "rFzifYN1YM6D"
      },
      "execution_count": 34,
      "outputs": []
    },
    {
      "cell_type": "code",
      "source": [
        "# Set date column as index\n",
        "df.set_index('Date', inplace=True)"
      ],
      "metadata": {
        "id": "gSZaTNmGYM9Z"
      },
      "execution_count": 35,
      "outputs": []
    },
    {
      "cell_type": "code",
      "source": [
        "# Split data into training and testing sets\n",
        "train_data = df[:int(len(df)*0.8)]\n",
        "test_data = df[int(len(df)*0.8):]"
      ],
      "metadata": {
        "id": "oaw-MFdQYaQR"
      },
      "execution_count": 36,
      "outputs": []
    },
    {
      "cell_type": "code",
      "source": [
        "# Scale data\n",
        "scaler = MinMaxScaler()\n",
        "train_data = scaler.fit_transform(train_data)\n",
        "test_data = scaler.transform(test_data)\n"
      ],
      "metadata": {
        "id": "ts98KGsUYaT6"
      },
      "execution_count": 37,
      "outputs": []
    },
    {
      "cell_type": "code",
      "source": [
        "# Define time steps\n",
        "time_steps = 3\n",
        "\n",
        "# Create training and testing sets\n",
        "def create_dataset(dataset, time_steps=1):\n",
        "    X, Y = [], []\n",
        "    for i in range(len(dataset)-time_steps-1):\n",
        "        a = dataset[i:(i+time_steps), 0]\n",
        "        X.append(a)\n",
        "        Y.append(dataset[i + time_steps, 0])\n",
        "    return np.array(X), np.array(Y)\n"
      ],
      "metadata": {
        "id": "O_2KROHeYaWn"
      },
      "execution_count": 38,
      "outputs": []
    },
    {
      "cell_type": "code",
      "source": [
        "X_train, Y_train = create_dataset(train_data, time_steps)\n",
        "X_test, Y_test = create_dataset(test_data, time_steps)\n"
      ],
      "metadata": {
        "id": "uX3nSzG1Ymd2"
      },
      "execution_count": 39,
      "outputs": []
    },
    {
      "cell_type": "code",
      "source": [
        "# Reshape input to be [samples, time steps, features]\n",
        "X_train = np.reshape(X_train, (X_train.shape[0], X_train.shape[1], 1))\n",
        "X_test = np.reshape(X_test, (X_test.shape[0], X_test.shape[1], 1))\n"
      ],
      "metadata": {
        "id": "mWNcvTkkYmmU"
      },
      "execution_count": 40,
      "outputs": []
    },
    {
      "cell_type": "code",
      "source": [
        "# Build LSTM model\n",
        "model = Sequential()\n",
        "model.add(LSTM(units=50, return_sequences=True, input_shape=(X_train.shape[1], 1)))\n",
        "model.add(LSTM(units=50))\n",
        "model.add(Dense(1))"
      ],
      "metadata": {
        "id": "oxRufcyjYmvC"
      },
      "execution_count": 43,
      "outputs": []
    },
    {
      "cell_type": "code",
      "source": [
        "# Compile model\n",
        "model.compile(optimizer='adam', loss='mean_squared_error')\n"
      ],
      "metadata": {
        "id": "obZqI54jYaZl"
      },
      "execution_count": 44,
      "outputs": []
    },
    {
      "cell_type": "code",
      "source": [
        "# Train model\n",
        "model.fit(X_train, Y_train, epochs=50, batch_size=32)"
      ],
      "metadata": {
        "colab": {
          "base_uri": "https://localhost:8080/"
        },
        "id": "JpkwQjzlYacn",
        "outputId": "7ec969e7-60ca-4433-e6aa-c47976ee53dc"
      },
      "execution_count": 45,
      "outputs": [
        {
          "output_type": "stream",
          "name": "stdout",
          "text": [
            "Epoch 1/50\n",
            "236/236 [==============================] - 8s 5ms/step - loss: 0.0081\n",
            "Epoch 2/50\n",
            "236/236 [==============================] - 1s 6ms/step - loss: 1.6550e-04\n",
            "Epoch 3/50\n",
            "236/236 [==============================] - 1s 6ms/step - loss: 1.4595e-04\n",
            "Epoch 4/50\n",
            "236/236 [==============================] - 2s 7ms/step - loss: 1.5066e-04\n",
            "Epoch 5/50\n",
            "236/236 [==============================] - 3s 11ms/step - loss: 1.4403e-04\n",
            "Epoch 6/50\n",
            "236/236 [==============================] - 2s 11ms/step - loss: 1.4981e-04\n",
            "Epoch 7/50\n",
            "236/236 [==============================] - 2s 6ms/step - loss: 1.5258e-04\n",
            "Epoch 8/50\n",
            "236/236 [==============================] - 1s 5ms/step - loss: 1.5730e-04\n",
            "Epoch 9/50\n",
            "236/236 [==============================] - 1s 6ms/step - loss: 1.4429e-04\n",
            "Epoch 10/50\n",
            "236/236 [==============================] - 1s 6ms/step - loss: 1.5105e-04\n",
            "Epoch 11/50\n",
            "236/236 [==============================] - 1s 6ms/step - loss: 1.4504e-04\n",
            "Epoch 12/50\n",
            "236/236 [==============================] - 2s 8ms/step - loss: 1.4156e-04\n",
            "Epoch 13/50\n",
            "236/236 [==============================] - 2s 10ms/step - loss: 1.4203e-04\n",
            "Epoch 14/50\n",
            "236/236 [==============================] - 2s 10ms/step - loss: 1.4333e-04\n",
            "Epoch 15/50\n",
            "236/236 [==============================] - 2s 9ms/step - loss: 1.5224e-04\n",
            "Epoch 16/50\n",
            "236/236 [==============================] - 1s 6ms/step - loss: 1.3853e-04\n",
            "Epoch 17/50\n",
            "236/236 [==============================] - 1s 6ms/step - loss: 1.3279e-04\n",
            "Epoch 18/50\n",
            "236/236 [==============================] - 2s 7ms/step - loss: 1.3702e-04\n",
            "Epoch 19/50\n",
            "236/236 [==============================] - 5s 21ms/step - loss: 1.2622e-04\n",
            "Epoch 20/50\n",
            "236/236 [==============================] - 2s 9ms/step - loss: 1.5257e-04\n",
            "Epoch 21/50\n",
            "236/236 [==============================] - 2s 6ms/step - loss: 1.2779e-04\n",
            "Epoch 22/50\n",
            "236/236 [==============================] - 1s 6ms/step - loss: 1.2054e-04\n",
            "Epoch 23/50\n",
            "236/236 [==============================] - 1s 6ms/step - loss: 1.1786e-04\n",
            "Epoch 24/50\n",
            "236/236 [==============================] - 1s 6ms/step - loss: 1.1969e-04\n",
            "Epoch 25/50\n",
            "236/236 [==============================] - 1s 6ms/step - loss: 1.2205e-04\n",
            "Epoch 26/50\n",
            "236/236 [==============================] - 2s 9ms/step - loss: 1.1136e-04\n",
            "Epoch 27/50\n",
            "236/236 [==============================] - 2s 7ms/step - loss: 1.1154e-04\n",
            "Epoch 28/50\n",
            "236/236 [==============================] - 1s 6ms/step - loss: 1.0228e-04\n",
            "Epoch 29/50\n",
            "236/236 [==============================] - 1s 6ms/step - loss: 9.9224e-05\n",
            "Epoch 30/50\n",
            "236/236 [==============================] - 1s 6ms/step - loss: 1.0624e-04\n",
            "Epoch 31/50\n",
            "236/236 [==============================] - 1s 6ms/step - loss: 9.6728e-05\n",
            "Epoch 32/50\n",
            "236/236 [==============================] - 1s 6ms/step - loss: 9.3626e-05\n",
            "Epoch 33/50\n",
            "236/236 [==============================] - 2s 7ms/step - loss: 9.3340e-05\n",
            "Epoch 34/50\n",
            "236/236 [==============================] - 3s 12ms/step - loss: 9.2773e-05\n",
            "Epoch 35/50\n",
            "236/236 [==============================] - 2s 11ms/step - loss: 9.0016e-05\n",
            "Epoch 36/50\n",
            "236/236 [==============================] - 1s 6ms/step - loss: 8.5541e-05\n",
            "Epoch 37/50\n",
            "236/236 [==============================] - 1s 6ms/step - loss: 8.5404e-05\n",
            "Epoch 38/50\n",
            "236/236 [==============================] - 1s 6ms/step - loss: 8.8697e-05\n",
            "Epoch 39/50\n",
            "236/236 [==============================] - 1s 6ms/step - loss: 8.6707e-05\n",
            "Epoch 40/50\n",
            "236/236 [==============================] - 1s 6ms/step - loss: 9.6117e-05\n",
            "Epoch 41/50\n",
            "236/236 [==============================] - 1s 6ms/step - loss: 8.2759e-05\n",
            "Epoch 42/50\n",
            "236/236 [==============================] - 2s 7ms/step - loss: 8.3931e-05\n",
            "Epoch 43/50\n",
            "236/236 [==============================] - 2s 8ms/step - loss: 9.6082e-05\n",
            "Epoch 44/50\n",
            "236/236 [==============================] - 1s 6ms/step - loss: 8.8356e-05\n",
            "Epoch 45/50\n",
            "236/236 [==============================] - 1s 6ms/step - loss: 9.3981e-05\n",
            "Epoch 46/50\n",
            "236/236 [==============================] - 1s 6ms/step - loss: 8.7862e-05\n",
            "Epoch 47/50\n",
            "236/236 [==============================] - 1s 6ms/step - loss: 8.7689e-05\n",
            "Epoch 48/50\n",
            "236/236 [==============================] - 1s 6ms/step - loss: 8.7860e-05\n",
            "Epoch 49/50\n",
            "236/236 [==============================] - 1s 6ms/step - loss: 8.5678e-05\n",
            "Epoch 50/50\n",
            "236/236 [==============================] - 1s 6ms/step - loss: 9.4634e-05\n"
          ]
        },
        {
          "output_type": "execute_result",
          "data": {
            "text/plain": [
              "<keras.callbacks.History at 0x7fd2074d7400>"
            ]
          },
          "metadata": {},
          "execution_count": 45
        }
      ]
    },
    {
      "cell_type": "code",
      "source": [
        "# Make predictions on test data\n",
        "predicted_prices = model.predict(X_test)"
      ],
      "metadata": {
        "colab": {
          "base_uri": "https://localhost:8080/"
        },
        "id": "1pNjXKgaYaf1",
        "outputId": "b0b684fa-e3a3-43f3-8eaf-89df4c1090d6"
      },
      "execution_count": 46,
      "outputs": [
        {
          "output_type": "stream",
          "name": "stdout",
          "text": [
            "59/59 [==============================] - 1s 3ms/step\n"
          ]
        }
      ]
    },
    {
      "cell_type": "code",
      "source": [
        "# Invert scaling on test data and predictions\n",
        "Y_test = scaler.inverse_transform(Y_test.reshape(-1,1))\n",
        "predicted_prices = scaler.inverse_transform(predicted_prices)"
      ],
      "metadata": {
        "id": "h52itCxmYNBN"
      },
      "execution_count": 47,
      "outputs": []
    },
    {
      "cell_type": "code",
      "source": [
        "# Plot the actual and predicted prices\n",
        "plt.figure(figsize=(12,6))\n",
        "plt.plot(Y_test, label='Actual Prices')\n",
        "plt.plot(predicted_prices, label='Predicted Prices')\n",
        "plt.title('Oil Price Forecasting')\n",
        "plt.xlabel('Time')\n",
        "plt.ylabel('Price')\n",
        "plt.legend()\n",
        "plt.show()"
      ],
      "metadata": {
        "colab": {
          "base_uri": "https://localhost:8080/",
          "height": 564
        },
        "id": "lZmoFe9fZaL2",
        "outputId": "a9ca4d90-7382-4066-d038-7df86ca23628"
      },
      "execution_count": 48,
      "outputs": [
        {
          "output_type": "display_data",
          "data": {
            "text/plain": [
              "<Figure size 1200x600 with 1 Axes>"
            ],
            "image/png": "[encoded data removed]"
          },
          "metadata": {}
        }
      ]
    },
    {
      "cell_type": "code",
      "source": [
        "#Forecast 10 days"
      ],
      "metadata": {
        "id": "iSy8e5wjZiZG"
      },
      "execution_count": null,
      "outputs": []
    },
    {
      "cell_type": "code",
      "source": [],
      "metadata": {
        "id": "1r-CwOWdbCFY"
      },
      "execution_count": null,
      "outputs": []
    },
    {
      "cell_type": "code",
      "source": [
        "# Load data\n",
        "df = pd.read_csv('oil_prices.csv')\n",
        "\n",
        "# Convert date column to datetime\n",
        "df['Date'] = pd.to_datetime(df['Date'])\n",
        "\n",
        "# Set date column as index\n",
        "df.set_index('Date', inplace=True)\n",
        "\n",
        "# Scale data\n",
        "scaler = MinMaxScaler()\n",
        "df_scaled = scaler.fit_transform(df)\n",
        "\n",
        "# Define time steps\n",
        "time_steps = 3\n",
        "\n",
        "# Create dataset\n",
        "X, Y = [], []\n",
        "for i in range(len(df_scaled)-time_steps-1):\n",
        "    a = df_scaled[i:(i+time_steps), 0]\n",
        "    X.append(a)\n",
        "    Y.append(df_scaled[i + time_steps, 0])\n",
        "X = np.array(X)\n",
        "Y = np.array(Y)\n",
        "\n",
        "# Reshape input to be [samples, time steps, features]\n",
        "X = np.reshape(X, (X.shape[0], X.shape[1], 1))\n",
        "\n",
        "# Build LSTM model\n",
        "model = Sequential()\n",
        "model.add(LSTM(units=50, return_sequences=True, input_shape=(X.shape[1], 1)))\n",
        "model.add(LSTM(units=50))\n",
        "model.add(Dense(1))\n",
        "\n",
        "# Compile model\n",
        "model.compile(optimizer='adam', loss='mean_squared_error')\n",
        "\n",
        "# Train model\n",
        "model.fit(X, Y, epochs=50, batch_size=32)\n",
        "\n",
        "# Forecast 10 days ahead\n",
        "last_date = df.index[-1]\n",
        "forecast_dates = pd.date_range(last_date, periods=11, freq='D')[1:]\n",
        "last_values = df_scaled[-3:, 0]\n",
        "forecast = []\n",
        "for i in range(10):\n",
        "    X = np.array(last_values)\n",
        "    X = np.reshape(X, (1, time_steps, 1))\n",
        "    predicted_price = model.predict(X)\n",
        "    forecast.append(predicted_price[0][0])\n",
        "    last_values = np.append(last_values[1:], predicted_price[0])\n",
        "\n",
        "# Invert scaling on forecast\n",
        "forecast = scaler.inverse_transform(np.array(forecast).reshape(-1,1))\n"
      ],
      "metadata": {
        "colab": {
          "base_uri": "https://localhost:8080/"
        },
        "id": "0xmLhUqdbCIo",
        "outputId": "537082e3-2f8c-4227-f656-0de08a3fa0c6"
      },
      "execution_count": 54,
      "outputs": [
        {
          "output_type": "stream",
          "name": "stdout",
          "text": [
            "Epoch 1/50\n",
            "294/294 [==============================] - 5s 5ms/step - loss: 0.0101\n",
            "Epoch 2/50\n",
            "294/294 [==============================] - 2s 6ms/step - loss: 1.6258e-04\n",
            "Epoch 3/50\n",
            "294/294 [==============================] - 3s 9ms/step - loss: 1.4637e-04\n",
            "Epoch 4/50\n",
            "294/294 [==============================] - 2s 6ms/step - loss: 1.2657e-04\n",
            "Epoch 5/50\n",
            "294/294 [==============================] - 2s 6ms/step - loss: 1.2117e-04\n",
            "Epoch 6/50\n",
            "294/294 [==============================] - 2s 5ms/step - loss: 1.1461e-04\n",
            "Epoch 7/50\n",
            "294/294 [==============================] - 2s 6ms/step - loss: 1.1482e-04\n",
            "Epoch 8/50\n",
            "294/294 [==============================] - 2s 6ms/step - loss: 1.1291e-04\n",
            "Epoch 9/50\n",
            "294/294 [==============================] - 2s 5ms/step - loss: 1.1671e-04\n",
            "Epoch 10/50\n",
            "294/294 [==============================] - 2s 8ms/step - loss: 1.1599e-04\n",
            "Epoch 11/50\n",
            "294/294 [==============================] - 2s 7ms/step - loss: 1.1735e-04\n",
            "Epoch 12/50\n",
            "294/294 [==============================] - 2s 6ms/step - loss: 1.2736e-04\n",
            "Epoch 13/50\n",
            "294/294 [==============================] - 2s 6ms/step - loss: 1.1495e-04\n",
            "Epoch 14/50\n",
            "294/294 [==============================] - 2s 6ms/step - loss: 1.1920e-04\n",
            "Epoch 15/50\n",
            "294/294 [==============================] - 2s 6ms/step - loss: 1.1614e-04\n",
            "Epoch 16/50\n",
            "294/294 [==============================] - 2s 6ms/step - loss: 1.2061e-04\n",
            "Epoch 17/50\n",
            "294/294 [==============================] - 2s 8ms/step - loss: 1.1330e-04\n",
            "Epoch 18/50\n",
            "294/294 [==============================] - 2s 7ms/step - loss: 1.2185e-04\n",
            "Epoch 19/50\n",
            "294/294 [==============================] - 2s 6ms/step - loss: 1.0463e-04\n",
            "Epoch 20/50\n",
            "294/294 [==============================] - 2s 6ms/step - loss: 1.2009e-04\n",
            "Epoch 21/50\n",
            "294/294 [==============================] - 2s 6ms/step - loss: 1.0515e-04\n",
            "Epoch 22/50\n",
            "294/294 [==============================] - 2s 6ms/step - loss: 1.0791e-04\n",
            "Epoch 23/50\n",
            "294/294 [==============================] - 2s 6ms/step - loss: 1.0213e-04\n",
            "Epoch 24/50\n",
            "294/294 [==============================] - 2s 8ms/step - loss: 1.0018e-04\n",
            "Epoch 25/50\n",
            "294/294 [==============================] - 2s 7ms/step - loss: 1.0895e-04\n",
            "Epoch 26/50\n",
            "294/294 [==============================] - 2s 6ms/step - loss: 9.9986e-05\n",
            "Epoch 27/50\n",
            "294/294 [==============================] - 2s 6ms/step - loss: 1.0339e-04\n",
            "Epoch 28/50\n",
            "294/294 [==============================] - 2s 6ms/step - loss: 9.9505e-05\n",
            "Epoch 29/50\n",
            "294/294 [==============================] - 2s 6ms/step - loss: 9.3386e-05\n",
            "Epoch 30/50\n",
            "294/294 [==============================] - 2s 6ms/step - loss: 9.9207e-05\n",
            "Epoch 31/50\n",
            "294/294 [==============================] - 2s 8ms/step - loss: 8.9385e-05\n",
            "Epoch 32/50\n",
            "294/294 [==============================] - 2s 7ms/step - loss: 8.7317e-05\n",
            "Epoch 33/50\n",
            "294/294 [==============================] - 2s 6ms/step - loss: 9.1117e-05\n",
            "Epoch 34/50\n",
            "294/294 [==============================] - 2s 6ms/step - loss: 8.2757e-05\n",
            "Epoch 35/50\n",
            "294/294 [==============================] - 2s 6ms/step - loss: 8.5472e-05\n",
            "Epoch 36/50\n",
            "294/294 [==============================] - 2s 6ms/step - loss: 8.6709e-05\n",
            "Epoch 37/50\n",
            "294/294 [==============================] - 2s 5ms/step - loss: 8.0777e-05\n",
            "Epoch 38/50\n",
            "294/294 [==============================] - 2s 7ms/step - loss: 7.5528e-05\n",
            "Epoch 39/50\n",
            "294/294 [==============================] - 2s 7ms/step - loss: 7.7750e-05\n",
            "Epoch 40/50\n",
            "294/294 [==============================] - 2s 5ms/step - loss: 7.9481e-05\n",
            "Epoch 41/50\n",
            "294/294 [==============================] - 2s 6ms/step - loss: 7.6387e-05\n",
            "Epoch 42/50\n",
            "294/294 [==============================] - 2s 6ms/step - loss: 7.4347e-05\n",
            "Epoch 43/50\n",
            "294/294 [==============================] - 2s 6ms/step - loss: 7.1905e-05\n",
            "Epoch 44/50\n",
            "294/294 [==============================] - 2s 6ms/step - loss: 7.5131e-05\n",
            "Epoch 45/50\n",
            "294/294 [==============================] - 2s 7ms/step - loss: 7.5859e-05\n",
            "Epoch 46/50\n",
            "294/294 [==============================] - 2s 7ms/step - loss: 7.6604e-05\n",
            "Epoch 47/50\n",
            "294/294 [==============================] - 2s 6ms/step - loss: 7.4966e-05\n",
            "Epoch 48/50\n",
            "294/294 [==============================] - 2s 6ms/step - loss: 7.3560e-05\n",
            "Epoch 49/50\n",
            "294/294 [==============================] - 2s 6ms/step - loss: 7.9677e-05\n",
            "Epoch 50/50\n",
            "294/294 [==============================] - 2s 6ms/step - loss: 8.1967e-05\n",
            "1/1 [==============================] - 1s 1s/step\n",
            "1/1 [==============================] - 0s 31ms/step\n",
            "1/1 [==============================] - 0s 33ms/step\n",
            "1/1 [==============================] - 0s 33ms/step\n",
            "1/1 [==============================] - 0s 21ms/step\n",
            "1/1 [==============================] - 0s 20ms/step\n",
            "1/1 [==============================] - 0s 20ms/step\n",
            "1/1 [==============================] - 0s 20ms/step\n",
            "1/1 [==============================] - 0s 21ms/step\n",
            "1/1 [==============================] - 0s 22ms/step\n"
          ]
        }
      ]
    },
    {
      "cell_type": "code",
      "source": [
        "# Remove first element from forecast_dates to match the length of forecast\n",
        "#forecast_dates = forecast_dates[1:]\n",
        "\n",
        "# Plot the actual prices and the forecast\n",
        "plt.figure(figsize=(12,6))\n",
        "plt.plot(df.index[-100:], df[-100:], label='Actual Prices')\n",
        "plt.plot(forecast_dates, forecast, label='Forecasted Prices')\n",
        "plt.title('Oil Price Forecasting')\n",
        "plt.xlabel('Time')\n",
        "plt.ylabel('Price')\n",
        "plt.legend()\n",
        "plt.show()"
      ],
      "metadata": {
        "colab": {
          "base_uri": "https://localhost:8080/",
          "height": 564
        },
        "id": "8PP1Sb5cbCL4",
        "outputId": "4913689e-75b3-4af2-eeff-4b8868e35ceb"
      },
      "execution_count": 62,
      "outputs": [
        {
          "output_type": "display_data",
          "data": {
            "text/plain": [
              "<Figure size 1200x600 with 1 Axes>"
            ],
            "image/png": "[encoded data removed]"
          },
          "metadata": {}
        }
      ]
    },
    {
      "cell_type": "code",
      "source": [
        "#Further consideration:"
      ],
      "metadata": {
        "id": "SnrYOX9xPpGB"
      },
      "execution_count": null,
      "outputs": []
    },
    {
      "cell_type": "code",
      "source": [
        "#import pandas as pd\n",
        "import numpy as np\n",
        "from sklearn.preprocessing import MinMaxScaler\n",
        "from keras.models import Sequential\n",
        "from keras.layers import Dense, LSTM\n",
        "\n",
        "# Load the dataset\n",
        "df = pd.read_csv('oil_and_sp500.csv', parse_dates=['date'], index_col='date')\n",
        "\n",
        "# Add new columns for past 2 days of oil prices and past 2 days of S&P 500 index values\n",
        "#df['oil_lag1'] = df['oil_price'].shift(1)\n",
        "#df['oil_lag2'] = df['oil_price'].shift(2)\n",
        "#df['sp500_lag1'] = df['sp500_index'].shift(1)\n",
        "#df['sp500_lag2'] = df['sp500_index'].shift(2)\n",
        "\n",
        "# Remove missing values\n",
        "df = df.dropna()\n",
        "\n",
        "# Separate into train and test sets\n",
        "train_size = int(len(df) * 0.8)\n",
        "train_data = df.iloc[:train_size]\n",
        "test_data = df.iloc[train_size:]\n",
        "\n",
        "# Scale the data\n",
        "scaler = MinMaxScaler()\n",
        "train_scaled = scaler.fit_transform(train_data)\n",
        "test_scaled = scaler.transform(test_data)\n",
        "\n",
        "# Create input and output data\n",
        "time_step = 1\n",
        "X_train = []\n",
        "y_train = []\n",
        "for i in range(time_step, len(train_scaled)):\n",
        "    X_train.append(np.concatenate((train_scaled[i-time_step:i, 0:2].flatten(), train_scaled[i-1, 2:4]), axis=None))\n",
        "    y_train.append(train_scaled[i, 0])\n",
        "\n",
        "X_test = []\n",
        "y_test = []\n",
        "for i in range(time_step, len(test_scaled)):\n",
        "    X_test.append(np.concatenate((test_scaled[i-time_step:i, 0:2].flatten(), test_scaled[i-1, 2:4]), axis=None))\n",
        "    y_test.append(test_scaled[i, 0])\n",
        "\n",
        "X_train, y_train = np.array(X_train), np.array(y_train)\n",
        "X_test, y_test = np.array(X_test), np.array(y_test)\n",
        "\n",
        "# Reshape the input data\n",
        "X_train = np.reshape(X_train, (X_train.shape[0], time_step, 4))\n",
        "X_test = np.reshape(X_test, (X_test.shape[0], time_step, 4))\n",
        "\n",
        "# Build the LSTM model\n",
        "model = Sequential()\n",
        "model.add(LSTM(units=50, return_sequences=True, input_shape=(X_train.shape[1], 4)))\n",
        "model.add(LSTM(units=50))\n",
        "model.add(Dense(units=1))\n",
        "\n",
        "# Compile the model\n",
        "model.compile(optimizer='adam', loss='mean_squared_error')\n",
        "\n",
        "# Train the model\n",
        "model.fit(X_train, y_train, epochs=50, batch_size=32)\n",
        "\n",
        "# Make predictions\n",
        "train_predictions = model.predict(X_train)\n",
        "test_predictions = model.predict(X_test)\n",
        "\n"
      ],
      "metadata": {
        "colab": {
          "base_uri": "https://localhost:8080/",
          "height": 1000
        },
        "id": "ZQ5RyYwKstQw",
        "outputId": "3193149d-2acf-4460-e2c4-270640ece992"
      },
      "execution_count": 75,
      "outputs": [
        {
          "output_type": "stream",
          "name": "stdout",
          "text": [
            "Epoch 1/50\n",
            "236/236 [==============================] - 5s 4ms/step - loss: 0.0115\n",
            "Epoch 2/50\n",
            "236/236 [==============================] - 1s 4ms/step - loss: 2.0899e-04\n",
            "Epoch 3/50\n",
            "236/236 [==============================] - 1s 4ms/step - loss: 1.0886e-04\n",
            "Epoch 4/50\n",
            "236/236 [==============================] - 1s 4ms/step - loss: 6.5202e-05\n",
            "Epoch 5/50\n",
            "236/236 [==============================] - 1s 4ms/step - loss: 5.2701e-05\n",
            "Epoch 6/50\n",
            "236/236 [==============================] - 1s 4ms/step - loss: 5.0559e-05\n",
            "Epoch 7/50\n",
            "236/236 [==============================] - 1s 4ms/step - loss: 4.7807e-05\n",
            "Epoch 8/50\n",
            "236/236 [==============================] - 1s 4ms/step - loss: 4.7644e-05\n",
            "Epoch 9/50\n",
            "236/236 [==============================] - 1s 4ms/step - loss: 4.7715e-05\n",
            "Epoch 10/50\n",
            "236/236 [==============================] - 1s 5ms/step - loss: 4.5633e-05\n",
            "Epoch 11/50\n",
            "236/236 [==============================] - 1s 5ms/step - loss: 5.5988e-05\n",
            "Epoch 12/50\n",
            "236/236 [==============================] - 1s 5ms/step - loss: 4.6637e-05\n",
            "Epoch 13/50\n",
            "236/236 [==============================] - 1s 4ms/step - loss: 4.5279e-05\n",
            "Epoch 14/50\n",
            "236/236 [==============================] - 1s 4ms/step - loss: 4.5483e-05\n",
            "Epoch 15/50\n",
            "236/236 [==============================] - 1s 4ms/step - loss: 4.7933e-05\n",
            "Epoch 16/50\n",
            "236/236 [==============================] - 1s 4ms/step - loss: 4.8714e-05\n",
            "Epoch 17/50\n",
            "236/236 [==============================] - 1s 4ms/step - loss: 4.6762e-05\n",
            "Epoch 18/50\n",
            "236/236 [==============================] - 1s 4ms/step - loss: 5.2502e-05\n",
            "Epoch 19/50\n",
            "236/236 [==============================] - 1s 4ms/step - loss: 4.7347e-05\n",
            "Epoch 20/50\n",
            "236/236 [==============================] - 1s 4ms/step - loss: 4.5483e-05\n",
            "Epoch 21/50\n",
            "236/236 [==============================] - 1s 4ms/step - loss: 4.5183e-05\n",
            "Epoch 22/50\n",
            "236/236 [==============================] - 1s 4ms/step - loss: 4.7222e-05\n",
            "Epoch 23/50\n",
            "236/236 [==============================] - 1s 5ms/step - loss: 4.5021e-05\n",
            "Epoch 24/50\n",
            "236/236 [==============================] - 1s 5ms/step - loss: 4.8641e-05\n",
            "Epoch 25/50\n",
            "236/236 [==============================] - 1s 6ms/step - loss: 4.6464e-05\n",
            "Epoch 26/50\n",
            "236/236 [==============================] - 1s 4ms/step - loss: 5.3616e-05\n",
            "Epoch 27/50\n",
            "236/236 [==============================] - 1s 6ms/step - loss: 4.4074e-05\n",
            "Epoch 28/50\n",
            "236/236 [==============================] - 1s 5ms/step - loss: 4.5026e-05\n",
            "Epoch 29/50\n",
            "236/236 [==============================] - 1s 4ms/step - loss: 4.7832e-05\n",
            "Epoch 30/50\n",
            "236/236 [==============================] - 1s 4ms/step - loss: 4.5003e-05\n",
            "Epoch 31/50\n",
            "236/236 [==============================] - 1s 4ms/step - loss: 4.9000e-05\n",
            "Epoch 32/50\n",
            "236/236 [==============================] - 1s 4ms/step - loss: 4.7532e-05\n",
            "Epoch 33/50\n",
            "236/236 [==============================] - 1s 4ms/step - loss: 4.7556e-05\n",
            "Epoch 34/50\n",
            "236/236 [==============================] - 1s 4ms/step - loss: 4.7723e-05\n",
            "Epoch 35/50\n",
            "236/236 [==============================] - 1s 4ms/step - loss: 4.9263e-05\n",
            "Epoch 36/50\n",
            "236/236 [==============================] - 1s 5ms/step - loss: 4.9694e-05\n",
            "Epoch 37/50\n",
            "236/236 [==============================] - 1s 5ms/step - loss: 4.6947e-05\n",
            "Epoch 38/50\n",
            "236/236 [==============================] - 1s 4ms/step - loss: 4.3258e-05\n",
            "Epoch 39/50\n",
            "236/236 [==============================] - 1s 4ms/step - loss: 4.7463e-05\n",
            "Epoch 40/50\n",
            "236/236 [==============================] - 1s 4ms/step - loss: 4.5981e-05\n",
            "Epoch 41/50\n",
            "236/236 [==============================] - 1s 4ms/step - loss: 4.6859e-05\n",
            "Epoch 42/50\n",
            "236/236 [==============================] - 1s 4ms/step - loss: 5.2291e-05\n",
            "Epoch 43/50\n",
            "236/236 [==============================] - 1s 4ms/step - loss: 4.7476e-05\n",
            "Epoch 44/50\n",
            "236/236 [==============================] - 1s 4ms/step - loss: 4.5939e-05\n",
            "Epoch 45/50\n",
            "236/236 [==============================] - 1s 4ms/step - loss: 4.6903e-05\n",
            "Epoch 46/50\n",
            "236/236 [==============================] - 1s 4ms/step - loss: 4.7108e-05\n",
            "Epoch 47/50\n",
            "236/236 [==============================] - 1s 4ms/step - loss: 4.5884e-05\n",
            "Epoch 48/50\n",
            "236/236 [==============================] - 1s 4ms/step - loss: 4.7311e-05\n",
            "Epoch 49/50\n",
            "236/236 [==============================] - 1s 6ms/step - loss: 4.5115e-05\n",
            "Epoch 50/50\n",
            "236/236 [==============================] - 1s 6ms/step - loss: 4.5759e-05\n",
            "236/236 [==============================] - 1s 2ms/step\n",
            "59/59 [==============================] - 0s 2ms/step\n"
          ]
        },
        {
          "output_type": "error",
          "ename": "ValueError",
          "evalue": "ignored",
          "traceback": [
            "\u001b[0;31m---------------------------------------------------------------------------\u001b[0m",
            "\u001b[0;31mValueError\u001b[0m                                Traceback (most recent call last)",
            "\u001b[0;32m<ipython-input-75-9afcbacce029>\u001b[0m in \u001b[0;36m<cell line: 67>\u001b[0;34m()\u001b[0m\n\u001b[1;32m     65\u001b[0m \u001b[0;34m\u001b[0m\u001b[0m\n\u001b[1;32m     66\u001b[0m \u001b[0;31m# Inverse transform the scaled data\u001b[0m\u001b[0;34m\u001b[0m\u001b[0;34m\u001b[0m\u001b[0m\n\u001b[0;32m---> 67\u001b[0;31m \u001b[0mtrain_predictions\u001b[0m \u001b[0;34m=\u001b[0m \u001b[0mscaler\u001b[0m\u001b[0;34m.\u001b[0m\u001b[0minverse_transform\u001b[0m\u001b[0;34m(\u001b[0m\u001b[0mnp\u001b[0m\u001b[0;34m.\u001b[0m\u001b[0mconcatenate\u001b[0m\u001b[0;34m(\u001b[0m\u001b[0;34m(\u001b[0m\u001b[0mtrain_data\u001b[0m\u001b[0;34m.\u001b[0m\u001b[0miloc\u001b[0m\u001b[0;34m[\u001b[0m\u001b[0mtime_step\u001b[0m\u001b[0;34m:\u001b[0m\u001b[0;34m]\u001b[0m\u001b[0;34m.\u001b[0m\u001b[0mvalues\u001b[0m\u001b[0;34m,\u001b[0m \u001b[0mtrain_predictions\u001b[0m\u001b[0;34m)\u001b[0m\u001b[0;34m,\u001b[0m \u001b[0maxis\u001b[0m\u001b[0;34m=\u001b[0m\u001b[0;36m1\u001b[0m\u001b[0;34m)\u001b[0m\u001b[0;34m)\u001b[0m\u001b[0;34m[\u001b[0m\u001b[0;34m:\u001b[0m\u001b[0;34m,\u001b[0m \u001b[0;34m-\u001b[0m\u001b[0;36m1\u001b[0m\u001b[0;34m]\u001b[0m\u001b[0;34m\u001b[0m\u001b[0;34m\u001b[0m\u001b[0m\n\u001b[0m\u001b[1;32m     68\u001b[0m \u001b[0mtest_predictions\u001b[0m \u001b[0;34m=\u001b[0m \u001b[0mscaler\u001b[0m\u001b[0;34m.\u001b[0m\u001b[0minverse_transform\u001b[0m\u001b[0;34m(\u001b[0m\u001b[0mnp\u001b[0m\u001b[0;34m.\u001b[0m\u001b[0mconcatenate\u001b[0m\u001b[0;34m(\u001b[0m\u001b[0;34m(\u001b[0m\u001b[0mtest_data\u001b[0m\u001b[0;34m.\u001b[0m\u001b[0miloc\u001b[0m\u001b[0;34m[\u001b[0m\u001b[0mtime_step\u001b[0m\u001b[0;34m:\u001b[0m\u001b[0;34m]\u001b[0m\u001b[0;34m.\u001b[0m\u001b[0mvalues\u001b[0m\u001b[0;34m,\u001b[0m \u001b[0mtest_predictions\u001b[0m\u001b[0;34m)\u001b[0m\u001b[0;34m,\u001b[0m \u001b[0maxis\u001b[0m\u001b[0;34m=\u001b[0m\u001b[0;36m1\u001b[0m\u001b[0;34m)\u001b[0m\u001b[0;34m)\u001b[0m\u001b[0;34m[\u001b[0m\u001b[0;34m:\u001b[0m\u001b[0;34m,\u001b[0m \u001b[0;34m-\u001b[0m\u001b[0;36m1\u001b[0m\u001b[0;34m]\u001b[0m\u001b[0;34m\u001b[0m\u001b[0;34m\u001b[0m\u001b[0m\n\u001b[1;32m     69\u001b[0m \u001b[0;34m\u001b[0m\u001b[0m\n",
            "\u001b[0;32m/usr/local/lib/python3.10/dist-packages/sklearn/preprocessing/_data.py\u001b[0m in \u001b[0;36minverse_transform\u001b[0;34m(self, X)\u001b[0m\n\u001b[1;32m    539\u001b[0m         )\n\u001b[1;32m    540\u001b[0m \u001b[0;34m\u001b[0m\u001b[0m\n\u001b[0;32m--> 541\u001b[0;31m         \u001b[0mX\u001b[0m \u001b[0;34m-=\u001b[0m \u001b[0mself\u001b[0m\u001b[0;34m.\u001b[0m\u001b[0mmin_\u001b[0m\u001b[0;34m\u001b[0m\u001b[0;34m\u001b[0m\u001b[0m\n\u001b[0m\u001b[1;32m    542\u001b[0m         \u001b[0mX\u001b[0m \u001b[0;34m/=\u001b[0m \u001b[0mself\u001b[0m\u001b[0;34m.\u001b[0m\u001b[0mscale_\u001b[0m\u001b[0;34m\u001b[0m\u001b[0;34m\u001b[0m\u001b[0m\n\u001b[1;32m    543\u001b[0m         \u001b[0;32mreturn\u001b[0m \u001b[0mX\u001b[0m\u001b[0;34m\u001b[0m\u001b[0;34m\u001b[0m\u001b[0m\n",
            "\u001b[0;31mValueError\u001b[0m: operands could not be broadcast together with shapes (7523,5) (4,) (7523,5) "
          ]
        }
      ]
    },
    {
      "cell_type": "code",
      "source": [
        "# Inverse transform the scaled data\n",
        "#train_predictions = scaler.inverse_transform(np.concatenate((train_data.iloc[time_step:].values, train_predictions), axis=1))[:, -1]\n",
        "#test_predictions = scaler.inverse_transform(np.concatenate((test_data.iloc[time_step:].values, test_predictions), axis=1))[:, -1]\n",
        "\n",
        "# Plot the results\n",
        "import matplotlib.pyplot as plt\n",
        "\n",
        "train_dates = train_data.index[time_step:]\n",
        "test_dates = test_data.index[time_step:]\n",
        "forecast_dates = pd.date_range(start=test_dates[-1], periods=10, freq='D')[1:]\n",
        "\n",
        "plt.plot(train_dates, train_data['oil_price_lag1'][time_step:], label='Training Prices')\n",
        "plt.plot(test_dates, test_data['oil_price_lag1'][time_step:], label='Testing Prices')\n",
        "plt.legend()\n",
        "plt.show()"
      ],
      "metadata": {
        "colab": {
          "base_uri": "https://localhost:8080/",
          "height": 430
        },
        "id": "7j8hCmLvzqv7",
        "outputId": "884239d6-3ce1-4eb4-c5f1-5aea615c6dbb"
      },
      "execution_count": 83,
      "outputs": [
        {
          "output_type": "display_data",
          "data": {
            "text/plain": [
              "<Figure size 640x480 with 1 Axes>"
            ],
            "image/png": "[encoded data removed]"
          },
          "metadata": {}
        }
      ]
    },
    {
      "cell_type": "code",
      "source": [
        "train_data"
      ],
      "metadata": {
        "colab": {
          "base_uri": "https://localhost:8080/",
          "height": 455
        },
        "id": "1TMmdAjpz4er",
        "outputId": "11a4155a-a07f-443e-af29-69a38887f871"
      },
      "execution_count": 82,
      "outputs": [
        {
          "output_type": "execute_result",
          "data": {
            "text/plain": [
              "            oil_price_lag1  oil_price_lag2  sp500_index  sp500_index.1\n",
              "date                                                                  \n",
              "1986-01-02           25.56           26.53  31414007.15    25587.06090\n",
              "1986-01-03           26.00           25.85  31415099.59    26029.25507\n",
              "1986-01-06           26.53           25.87  31418026.53    26540.59836\n",
              "1986-01-07           25.85           26.03  31419013.76    25900.10671\n",
              "1986-01-08           25.87           25.65  31420011.11    25907.07732\n",
              "...                    ...             ...          ...            ...\n",
              "2015-10-22           44.90           43.19  42299085.90    44993.48414\n",
              "2015-10-23           43.91           43.21  42300061.95    43980.41033\n",
              "2015-10-26           43.19           45.93  42303027.06    43259.53020\n",
              "2015-10-27           43.21           46.02  42304037.00    43264.90576\n",
              "2015-10-28           45.93           46.60  42305021.52    45947.05302\n",
              "\n",
              "[7524 rows x 4 columns]"
            ],
            "text/html": [
              "\n",
              "  <div id=\"df-74924673-427e-4974-8c71-3dbb72ff4482\">\n",
              "    <div class=\"colab-df-container\">\n",
              "      <div>\n",
              "<style scoped>\n",
              "    .dataframe tbody tr th:only-of-type {\n",
              "        vertical-align: middle;\n",
              "    }\n",
              "\n",
              "    .dataframe tbody tr th {\n",
              "        vertical-align: top;\n",
              "    }\n",
              "\n",
              "    .dataframe thead th {\n",
              "        text-align: right;\n",
              "    }\n",
              "</style>\n",
              "<table border=\"1\" class=\"dataframe\">\n",
              "  <thead>\n",
              "    <tr style=\"text-align: right;\">\n",
              "      <th></th>\n",
              "      <th>oil_price_lag1</th>\n",
              "      <th>oil_price_lag2</th>\n",
              "      <th>sp500_index</th>\n",
              "      <th>sp500_index.1</th>\n",
              "    </tr>\n",
              "    <tr>\n",
              "      <th>date</th>\n",
              "      <th></th>\n",
              "      <th></th>\n",
              "      <th></th>\n",
              "      <th></th>\n",
              "    </tr>\n",
              "  </thead>\n",
              "  <tbody>\n",
              "    <tr>\n",
              "      <th>1986-01-02</th>\n",
              "      <td>25.56</td>\n",
              "      <td>26.53</td>\n",
              "      <td>31414007.15</td>\n",
              "      <td>25587.06090</td>\n",
              "    </tr>\n",
              "    <tr>\n",
              "      <th>1986-01-03</th>\n",
              "      <td>26.00</td>\n",
              "      <td>25.85</td>\n",
              "      <td>31415099.59</td>\n",
              "      <td>26029.25507</td>\n",
              "    </tr>\n",
              "    <tr>\n",
              "      <th>1986-01-06</th>\n",
              "      <td>26.53</td>\n",
              "      <td>25.87</td>\n",
              "      <td>31418026.53</td>\n",
              "      <td>26540.59836</td>\n",
              "    </tr>\n",
              "    <tr>\n",
              "      <th>1986-01-07</th>\n",
              "      <td>25.85</td>\n",
              "      <td>26.03</td>\n",
              "      <td>31419013.76</td>\n",
              "      <td>25900.10671</td>\n",
              "    </tr>\n",
              "    <tr>\n",
              "      <th>1986-01-08</th>\n",
              "      <td>25.87</td>\n",
              "      <td>25.65</td>\n",
              "      <td>31420011.11</td>\n",
              "      <td>25907.07732</td>\n",
              "    </tr>\n",
              "    <tr>\n",
              "      <th>...</th>\n",
              "      <td>...</td>\n",
              "      <td>...</td>\n",
              "      <td>...</td>\n",
              "      <td>...</td>\n",
              "    </tr>\n",
              "    <tr>\n",
              "      <th>2015-10-22</th>\n",
              "      <td>44.90</td>\n",
              "      <td>43.19</td>\n",
              "      <td>42299085.90</td>\n",
              "      <td>44993.48414</td>\n",
              "    </tr>\n",
              "    <tr>\n",
              "      <th>2015-10-23</th>\n",
              "      <td>43.91</td>\n",
              "      <td>43.21</td>\n",
              "      <td>42300061.95</td>\n",
              "      <td>43980.41033</td>\n",
              "    </tr>\n",
              "    <tr>\n",
              "      <th>2015-10-26</th>\n",
              "      <td>43.19</td>\n",
              "      <td>45.93</td>\n",
              "      <td>42303027.06</td>\n",
              "      <td>43259.53020</td>\n",
              "    </tr>\n",
              "    <tr>\n",
              "      <th>2015-10-27</th>\n",
              "      <td>43.21</td>\n",
              "      <td>46.02</td>\n",
              "      <td>42304037.00</td>\n",
              "      <td>43264.90576</td>\n",
              "    </tr>\n",
              "    <tr>\n",
              "      <th>2015-10-28</th>\n",
              "      <td>45.93</td>\n",
              "      <td>46.60</td>\n",
              "      <td>42305021.52</td>\n",
              "      <td>45947.05302</td>\n",
              "    </tr>\n",
              "  </tbody>\n",
              "</table>\n",
              "<p>7524 rows × 4 columns</p>\n",
              "</div>\n",
              "      <button class=\"colab-df-convert\" onclick=\"convertToInteractive('df-74924673-427e-4974-8c71-3dbb72ff4482')\"\n",
              "              title=\"Convert this dataframe to an interactive table.\"\n",
              "              style=\"display:none;\">\n",
              "        \n",
              "  <svg xmlns=\"http://www.w3.org/2000/svg\" height=\"24px\"viewBox=\"0 0 24 24\"\n",
              "       width=\"24px\">\n",
              "    <path d=\"M0 0h24v24H0V0z\" fill=\"none\"/>\n",
              "    <path d=\"M18.56 5.44l.94 2.06.94-2.06 2.06-.94-2.06-.94-.94-2.06-.94 2.06-2.06.94zm-11 1L8.5 8.5l.94-2.06 2.06-.94-2.06-.94L8.5 2.5l-.94 2.06-2.06.94zm10 10l.94 2.06.94-2.06 2.06-.94-2.06-.94-.94-2.06-.94 2.06-2.06.94z\"/><path d=\"M17.41 7.96l-1.37-1.37c-.4-.4-.92-.59-1.43-.59-.52 0-1.04.2-1.43.59L10.3 9.45l-7.72 7.72c-.78.78-.78 2.05 0 2.83L4 21.41c.39.39.9.59 1.41.59.51 0 1.02-.2 1.41-.59l7.78-7.78 2.81-2.81c.8-.78.8-2.07 0-2.86zM5.41 20L4 18.59l7.72-7.72 1.47 1.35L5.41 20z\"/>\n",
              "  </svg>\n",
              "      </button>\n",
              "      \n",
              "  <style>\n",
              "    .colab-df-container {\n",
              "      display:flex;\n",
              "      flex-wrap:wrap;\n",
              "      gap: 12px;\n",
              "    }\n",
              "\n",
              "    .colab-df-convert {\n",
              "      background-color: #E8F0FE;\n",
              "      border: none;\n",
              "      border-radius: 50%;\n",
              "      cursor: pointer;\n",
              "      display: none;\n",
              "      fill: #1967D2;\n",
              "      height: 32px;\n",
              "      padding: 0 0 0 0;\n",
              "      width: 32px;\n",
              "    }\n",
              "\n",
              "    .colab-df-convert:hover {\n",
              "      background-color: #E2EBFA;\n",
              "      box-shadow: 0px 1px 2px rgba(60, 64, 67, 0.3), 0px 1px 3px 1px rgba(60, 64, 67, 0.15);\n",
              "      fill: #174EA6;\n",
              "    }\n",
              "\n",
              "    [theme=dark] .colab-df-convert {\n",
              "      background-color: #3B4455;\n",
              "      fill: #D2E3FC;\n",
              "    }\n",
              "\n",
              "    [theme=dark] .colab-df-convert:hover {\n",
              "      background-color: #434B5C;\n",
              "      box-shadow: 0px 1px 3px 1px rgba(0, 0, 0, 0.15);\n",
              "      filter: drop-shadow(0px 1px 2px rgba(0, 0, 0, 0.3));\n",
              "      fill: #FFFFFF;\n",
              "    }\n",
              "  </style>\n",
              "\n",
              "      <script>\n",
              "        const buttonEl =\n",
              "          document.querySelector('#df-74924673-427e-4974-8c71-3dbb72ff4482 button.colab-df-convert');\n",
              "        buttonEl.style.display =\n",
              "          google.colab.kernel.accessAllowed ? 'block' : 'none';\n",
              "\n",
              "        async function convertToInteractive(key) {\n",
              "          const element = document.querySelector('#df-74924673-427e-4974-8c71-3dbb72ff4482');\n",
              "          const dataTable =\n",
              "            await google.colab.kernel.invokeFunction('convertToInteractive',\n",
              "                                                     [key], {});\n",
              "          if (!dataTable) return;\n",
              "\n",
              "          const docLinkHtml = 'Like what you see? Visit the ' +\n",
              "            '<a target=\"_blank\" href=https://colab.research.google.com/notebooks/data_table.ipynb>data table notebook</a>'\n",
              "            + ' to learn more about interactive tables.';\n",
              "          element.innerHTML = '';\n",
              "          dataTable['output_type'] = 'display_data';\n",
              "          await google.colab.output.renderOutput(dataTable, element);\n",
              "          const docLink = document.createElement('div');\n",
              "          docLink.innerHTML = docLinkHtml;\n",
              "          element.appendChild(docLink);\n",
              "        }\n",
              "      </script>\n",
              "    </div>\n",
              "  </div>\n",
              "  "
            ]
          },
          "metadata": {},
          "execution_count": 82
        }
      ]
    },
    {
      "cell_type": "code",
      "source": [
        "test_predictions"
      ],
      "metadata": {
        "colab": {
          "base_uri": "https://localhost:8080/"
        },
        "id": "necqMhLk0CZr",
        "outputId": "e12d4a17-e2c2-4577-f30b-78d5d8e1bc51"
      },
      "execution_count": 79,
      "outputs": [
        {
          "output_type": "execute_result",
          "data": {
            "text/plain": [
              "array([[0.2689057 ],\n",
              "       [0.2773541 ],\n",
              "       [0.26992947],\n",
              "       ...,\n",
              "       [0.48724565],\n",
              "       [0.48484886],\n",
              "       [0.478386  ]], dtype=float32)"
            ]
          },
          "metadata": {},
          "execution_count": 79
        }
      ]
    },
    {
      "cell_type": "code",
      "source": [
        "# Load data\n",
        "data = pd.read_csv('oil_and_sp500.csv', parse_dates=['date'], index_col='date')\n",
        "\n",
        "# Define input parameters\n",
        "n_steps = 3  # number of time steps used for prediction\n",
        "n_features = 4  # number of input variables (oil price, stock market index, dollar value, and lagged oil price)\n",
        "\n",
        "# Prepare data\n",
        "scaler = MinMaxScaler()\n",
        "data = scaler.fit_transform(data)\n",
        "n_samples = data.shape[0] - n_steps + 1  # total number of data points after applying time steps\n",
        "n_samples = n_samples - n_samples % n_steps  # truncate to nearest multiple of n_steps\n",
        "data = data[:n_samples]  # truncate data to match n_samples\n",
        "X = np.zeros((n_samples, n_steps, n_features))  # initialize input array\n",
        "for i in range(n_steps):\n",
        "    X[:, i, :n_features-1] = data[i:i+n_samples, :n_features-1]  # add input variables\n",
        "    X[:, i, n_features-1] = data[i-1:i-1+n_samples, 0]  # add lagged oil price\n",
        "\n",
        "# Predict future prices\n",
        "forecast = model.predict(X)\n",
        "forecast = scaler.inverse_transform(forecast)\n",
        "\n",
        "# Plot results\n",
        "forecast_dates = np.arange(data.shape[0], data.shape[0]+n_samples)\n",
        "plt.plot(forecast_dates[:n_samples-n_steps+1], data[n_steps-1:, 0], label='Actual Prices')\n",
        "plt.plot(forecast_dates[n_samples-n_steps+1:], forecast[:, 0], label='Forecasted Prices')\n",
        "plt.legend()\n",
        "plt.show()"
      ],
      "metadata": {
        "colab": {
          "base_uri": "https://localhost:8080/",
          "height": 239
        },
        "id": "cFOqkmM5wyRs",
        "outputId": "02163eab-004d-49c2-c861-b6d13465aae2"
      },
      "execution_count": 72,
      "outputs": [
        {
          "output_type": "error",
          "ename": "ValueError",
          "evalue": "ignored",
          "traceback": [
            "\u001b[0;31m---------------------------------------------------------------------------\u001b[0m",
            "\u001b[0;31mValueError\u001b[0m                                Traceback (most recent call last)",
            "\u001b[0;32m<ipython-input-72-01bd9c964ff6>\u001b[0m in \u001b[0;36m<cell line: 15>\u001b[0;34m()\u001b[0m\n\u001b[1;32m     15\u001b[0m \u001b[0;32mfor\u001b[0m \u001b[0mi\u001b[0m \u001b[0;32min\u001b[0m \u001b[0mrange\u001b[0m\u001b[0;34m(\u001b[0m\u001b[0mn_steps\u001b[0m\u001b[0;34m)\u001b[0m\u001b[0;34m:\u001b[0m\u001b[0;34m\u001b[0m\u001b[0;34m\u001b[0m\u001b[0m\n\u001b[1;32m     16\u001b[0m     \u001b[0mX\u001b[0m\u001b[0;34m[\u001b[0m\u001b[0;34m:\u001b[0m\u001b[0;34m,\u001b[0m \u001b[0mi\u001b[0m\u001b[0;34m,\u001b[0m \u001b[0;34m:\u001b[0m\u001b[0mn_features\u001b[0m\u001b[0;34m-\u001b[0m\u001b[0;36m1\u001b[0m\u001b[0;34m]\u001b[0m \u001b[0;34m=\u001b[0m \u001b[0mdata\u001b[0m\u001b[0;34m[\u001b[0m\u001b[0mi\u001b[0m\u001b[0;34m:\u001b[0m\u001b[0mi\u001b[0m\u001b[0;34m+\u001b[0m\u001b[0mn_samples\u001b[0m\u001b[0;34m,\u001b[0m \u001b[0;34m:\u001b[0m\u001b[0mn_features\u001b[0m\u001b[0;34m-\u001b[0m\u001b[0;36m1\u001b[0m\u001b[0;34m]\u001b[0m  \u001b[0;31m# add input variables\u001b[0m\u001b[0;34m\u001b[0m\u001b[0;34m\u001b[0m\u001b[0m\n\u001b[0;32m---> 17\u001b[0;31m     \u001b[0mX\u001b[0m\u001b[0;34m[\u001b[0m\u001b[0;34m:\u001b[0m\u001b[0;34m,\u001b[0m \u001b[0mi\u001b[0m\u001b[0;34m,\u001b[0m \u001b[0mn_features\u001b[0m\u001b[0;34m-\u001b[0m\u001b[0;36m1\u001b[0m\u001b[0;34m]\u001b[0m \u001b[0;34m=\u001b[0m \u001b[0mdata\u001b[0m\u001b[0;34m[\u001b[0m\u001b[0mi\u001b[0m\u001b[0;34m-\u001b[0m\u001b[0;36m1\u001b[0m\u001b[0;34m:\u001b[0m\u001b[0mi\u001b[0m\u001b[0;34m-\u001b[0m\u001b[0;36m1\u001b[0m\u001b[0;34m+\u001b[0m\u001b[0mn_samples\u001b[0m\u001b[0;34m,\u001b[0m \u001b[0;36m0\u001b[0m\u001b[0;34m]\u001b[0m  \u001b[0;31m# add lagged oil price\u001b[0m\u001b[0;34m\u001b[0m\u001b[0;34m\u001b[0m\u001b[0m\n\u001b[0m\u001b[1;32m     18\u001b[0m \u001b[0;34m\u001b[0m\u001b[0m\n\u001b[1;32m     19\u001b[0m \u001b[0;31m# Predict future prices\u001b[0m\u001b[0;34m\u001b[0m\u001b[0;34m\u001b[0m\u001b[0m\n",
            "\u001b[0;31mValueError\u001b[0m: could not broadcast input array from shape (0,) into shape (9408,)"
          ]
        }
      ]
    }
  ]
}