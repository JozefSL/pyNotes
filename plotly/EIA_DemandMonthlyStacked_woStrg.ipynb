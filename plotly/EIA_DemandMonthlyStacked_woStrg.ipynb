{
 "cells": [
  {
   "cell_type": "code",
   "execution_count": 45,
   "metadata": {},
   "outputs": [
    {
     "data": {
      "application/javascript": [
       "IPython.notebook.set_autosave_interval(0)"
      ]
     },
     "metadata": {},
     "output_type": "display_data"
    },
    {
     "name": "stdout",
     "output_type": "stream",
     "text": [
      "Autosave disabled\n"
     ]
    },
    {
     "data": {
      "text/html": [
       "<style>.container { width:98% !important; }</style>"
      ],
      "text/plain": [
       "<IPython.core.display.HTML object>"
      ]
     },
     "metadata": {},
     "output_type": "display_data"
    }
   ],
   "source": [
    "%matplotlib inline\n",
    "%autosave 0\n",
    "import pandas as pd\n",
    "from IPython.display import display, HTML\n",
    "display(HTML(\"<style>.container { width:98% !important; }</style>\"))\n",
    "import plotly.express as px"
   ]
  },
  {
   "cell_type": "code",
   "execution_count": 77,
   "metadata": {},
   "outputs": [],
   "source": [
    "eiaLogo = \"https://upload.wikimedia.org/wikipedia/commons/1/1f/Energy_Information_Administration_logo.svg\"\n",
    "eiaLg = [dict(source = eiaLogo,\n",
    "                       x=1.07, y=-0.1,\n",
    "                       sizex=0.2, sizey=0.2,\n",
    "                       xanchor=\"center\", yanchor=\"bottom\")]\n",
    "eiaLg2 = [dict(source = eiaLogo,\n",
    "                        x=1.03, y=1.1,\n",
    "                        sizex=0.1, sizey=0.1,\n",
    "                        xanchor=\"center\", yanchor=\"bottom\")]"
   ]
  },
  {
   "cell_type": "code",
   "execution_count": 2,
   "metadata": {},
   "outputs": [
    {
     "name": "stdout",
     "output_type": "stream",
     "text": [
      "42 comDemand = Natural Gas Deliveries to Commercial Consumers (Including Vehicle Fuel through 1996) in the U.S., Monthly\n",
      "42 resDemand = U.S. Natural Gas Residential Consumption, Monthly\n",
      "42 indDemand = U.S. Natural Gas Industrial Consumption, Monthly\n",
      "42 vehDemand = U.S. Natural Gas Vehicle Fuel Consumption, Monthly\n",
      "42 l&pDemand = U.S. Natural Gas Lease and Plant Fuel Consumption, Monthly\n",
      "42 pplDemand = U.S. Natural Gas Pipeline & Distribution Use, Monthly\n",
      "42 PowerGen = U.S. Natural Gas Deliveries to Electric Power Consumers, Monthly\n",
      "22 cgsExports = Compressed U.S. Natural Gas Exports, Monthly\n",
      "42 pplExports = U.S. Natural Gas Pipeline Exports, Monthly\n",
      "42 lngExports = Liquefied U.S. Natural Gas Exports, Monthly\n"
     ]
    }
   ],
   "source": [
    "rs = [('https://www.eia.gov/opendata/qb.php?sdid=NG.N3020US2.M', 'comDemand')      \n",
    "     ,('https://www.eia.gov/opendata/qb.php?sdid=NG.N3010US2.M', 'resDemand')      \n",
    "     ,('https://www.eia.gov/opendata/qb.php?sdid=NG.N3035US2.M', 'indDemand')\n",
    "     ,('https://www.eia.gov/opendata/qb.php?sdid=NG.N3025US2.M', 'vehDemand')\n",
    "     ,('https://www.eia.gov/opendata/qb.php?sdid=NG.N9160US2.M', 'l&pDemand')\n",
    "     ,('https://www.eia.gov/opendata/qb.php?sdid=NG.N9170US2.M', 'pplDemand')\n",
    "     ,('https://www.eia.gov/opendata/qb.php?sdid=NG.N3045US2.M', 'PowerGen')\n",
    "     #,('https://www.eia.gov/opendata/qb.php?sdid=NG.N5050US2.M', 'strInjections')       \n",
    "     ,('https://www.eia.gov/opendata/qb.php?sdid=NG.NGM_EPG0_ENC_NUS-Z00_MMCF.M', 'cgsExports') \n",
    "     ,('https://www.eia.gov/opendata/qb.php?sdid=NG.N9132US2.M', 'pplExports')\n",
    "     ,('https://www.eia.gov/opendata/qb.php?sdid=NG.N9133US2.M', 'lngExports')]\n",
    "\n",
    "storageSeason = { 1: 'wd', 2: 'wd', 3: 'wd', 11: 'wd', 12: 'wd',\n",
    "                  4: 'ij', 5: 'ij', 6: 'ij', 7: 'ij', 8: 'ij', 9: 'ij', 10: 'ij'}\n",
    "sData = pd.DataFrame()\n",
    "\n",
    "for r, name in rs:\n",
    "    data = pd.read_html(r)\n",
    "    sName = data[0]['Series Name'][0]\n",
    "    \n",
    "    df = data[0][['Period','Value']][:]\n",
    "    df['Period']  = pd.to_datetime(df.Period, format='%Y%m', errors='coerce').dropna()\n",
    "    df.columns = ['Period', name]\n",
    "    df = df.set_index('Period')\n",
    "    df.drop(df[df.index < '2001-01-01'].index, inplace = True)\n",
    "    df['Year'] = pd.DatetimeIndex(df.index).year\n",
    "    df['Month'] = pd.DatetimeIndex(df.index).month\n",
    "    df['sYear']  = df['Year'].shift(-3).fillna(0).astype(int).astype(str)\n",
    "    df['Season'] = df['Month'].apply(lambda x: storageSeason[x]) + df['sYear']\n",
    "    df.drop(df[df['Season'] == 'wd0'].index, inplace = True)\n",
    "\n",
    "    sdf = df[[name,'Season']].groupby(['Season'],as_index=False)[name].sum()\n",
    "    sdf = sdf.set_index('Season')\n",
    "    print(len(sdf), name,'=', sName)\n",
    "    if sData.empty:\n",
    "        sData = sdf\n",
    "    else:\n",
    "        sData = sData.join(sdf)\n",
    "        \n",
    "sData *= 1000000    "
   ]
  },
  {
   "cell_type": "code",
   "execution_count": 82,
   "metadata": {},
   "outputs": [
    {
     "data": {
      "application/vnd.plotly.v1+json": {
       "config": {
        "plotlyServerURL": "https://plot.ly"
       },
       "data": [
        {
         "alignmentgroup": "True",
         "hovertemplate": "variable=comDemand<br>Season=%{x}<br>value=%{y}<extra></extra>",
         "legendgroup": "comDemand",
         "marker": {
          "color": "#636efa"
         },
         "name": "comDemand",
         "offsetgroup": "comDemand",
         "orientation": "v",
         "showlegend": true,
         "textposition": "auto",
         "type": "bar",
         "x": [
          "ij2001",
          "ij2002",
          "ij2003",
          "ij2004",
          "ij2005",
          "ij2006",
          "ij2007",
          "ij2008",
          "ij2009",
          "ij2010",
          "ij2011",
          "ij2012",
          "ij2013",
          "ij2014",
          "ij2015",
          "ij2016",
          "ij2017",
          "ij2018",
          "ij2019",
          "ij2020",
          "ij2021",
          "wd2001",
          "wd2002",
          "wd2003",
          "wd2004",
          "wd2005",
          "wd2006",
          "wd2007",
          "wd2008",
          "wd2009",
          "wd2010",
          "wd2011",
          "wd2012",
          "wd2013",
          "wd2014",
          "wd2015",
          "wd2016",
          "wd2017",
          "wd2018",
          "wd2019",
          "wd2020",
          "wd2021"
         ],
         "xaxis": "x",
         "y": [
          1147756000000,
          1218730000000,
          1149964000000,
          1129442000000,
          1089222000000,
          1089217000000,
          1097467000000,
          1137717000000,
          1135818000000,
          1071378000000,
          1147997000000,
          1101544000000,
          1174865000000,
          1195245000000,
          1130252000000,
          1151209000000,
          1144902000000,
          1272512000000,
          1218124000000,
          1145372000000,
          1193417000000,
          1784582000000,
          2103069000000,
          1985341000000,
          1913815000000,
          1793912000000,
          1866116000000,
          1968647000000,
          2001130000000,
          1957157000000,
          2074736000000,
          1781124000000,
          2000366000000,
          2301763000000,
          2224025000000,
          1850825000000,
          1953762000000,
          2205355000000,
          2296126000000,
          2122966000000,
          2085500000000,
          2138594000000
         ],
         "yaxis": "y"
        },
        {
         "alignmentgroup": "True",
         "hovertemplate": "variable=resDemand<br>Season=%{x}<br>value=%{y}<extra></extra>",
         "legendgroup": "resDemand",
         "marker": {
          "color": "#EF553B"
         },
         "name": "resDemand",
         "offsetgroup": "resDemand",
         "orientation": "v",
         "showlegend": true,
         "textposition": "auto",
         "type": "bar",
         "x": [
          "ij2001",
          "ij2002",
          "ij2003",
          "ij2004",
          "ij2005",
          "ij2006",
          "ij2007",
          "ij2008",
          "ij2009",
          "ij2010",
          "ij2011",
          "ij2012",
          "ij2013",
          "ij2014",
          "ij2015",
          "ij2016",
          "ij2017",
          "ij2018",
          "ij2019",
          "ij2020",
          "ij2021",
          "wd2001",
          "wd2002",
          "wd2003",
          "wd2004",
          "wd2005",
          "wd2006",
          "wd2007",
          "wd2008",
          "wd2009",
          "wd2010",
          "wd2011",
          "wd2012",
          "wd2013",
          "wd2014",
          "wd2015",
          "wd2016",
          "wd2017",
          "wd2018",
          "wd2019",
          "wd2020",
          "wd2021"
         ],
         "xaxis": "x",
         "y": [
          1362551000000,
          1445472000000,
          1422297000000,
          1324204000000,
          1339023000000,
          1289560000000,
          1280943000000,
          1328862000000,
          1333724000000,
          1181982000000,
          1253347000000,
          1137467000000,
          1247012000000,
          1236981000000,
          1141967000000,
          1148663000000,
          1133388000000,
          1302445000000,
          1225395000000,
          1346143000000,
          1207056000000,
          3158266000000,
          3759621000000,
          3564047000000,
          3462295000000,
          3200165000000,
          3356071000000,
          3480525000000,
          3509647000000,
          3447401000000,
          3626500000000,
          2987308000000,
          3437113000000,
          3955769000000,
          3733844000000,
          3021535000000,
          3164226000000,
          3620171000000,
          3815993000000,
          3430440000000,
          3549996000000,
          3485062000000
         ],
         "yaxis": "y"
        },
        {
         "alignmentgroup": "True",
         "hovertemplate": "variable=indDemand<br>Season=%{x}<br>value=%{y}<extra></extra>",
         "legendgroup": "indDemand",
         "marker": {
          "color": "#00cc96"
         },
         "name": "indDemand",
         "offsetgroup": "indDemand",
         "orientation": "v",
         "showlegend": true,
         "textposition": "auto",
         "type": "bar",
         "x": [
          "ij2001",
          "ij2002",
          "ij2003",
          "ij2004",
          "ij2005",
          "ij2006",
          "ij2007",
          "ij2008",
          "ij2009",
          "ij2010",
          "ij2011",
          "ij2012",
          "ij2013",
          "ij2014",
          "ij2015",
          "ij2016",
          "ij2017",
          "ij2018",
          "ij2019",
          "ij2020",
          "ij2021",
          "wd2001",
          "wd2002",
          "wd2003",
          "wd2004",
          "wd2005",
          "wd2006",
          "wd2007",
          "wd2008",
          "wd2009",
          "wd2010",
          "wd2011",
          "wd2012",
          "wd2013",
          "wd2014",
          "wd2015",
          "wd2016",
          "wd2017",
          "wd2018",
          "wd2019",
          "wd2020",
          "wd2021"
         ],
         "xaxis": "x",
         "y": [
          4091229000000,
          4258547000000,
          3961268000000,
          4033586000000,
          3650543000000,
          3669977000000,
          3671851000000,
          3683151000000,
          3396559000000,
          3770022000000,
          3883414000000,
          4061727000000,
          4113863000000,
          4234153000000,
          4169280000000,
          4293721000000,
          4406459000000,
          4694278000000,
          4633593000000,
          4459378000000,
          4568820000000,
          3236089000000,
          3241498000000,
          3197688000000,
          3113640000000,
          2827092000000,
          2933356000000,
          3070288000000,
          2741886000000,
          2966511000000,
          3092567000000,
          3133888000000,
          3219365000000,
          3421233000000,
          3389290000000,
          3359724000000,
          3468655000000,
          3675390000000,
          3773362000000,
          3726176000000,
          3621740000000,
          3756885000000
         ],
         "yaxis": "y"
        },
        {
         "alignmentgroup": "True",
         "hovertemplate": "variable=vehDemand<br>Season=%{x}<br>value=%{y}<extra></extra>",
         "legendgroup": "vehDemand",
         "marker": {
          "color": "#ab63fa"
         },
         "name": "vehDemand",
         "offsetgroup": "vehDemand",
         "orientation": "v",
         "showlegend": true,
         "textposition": "auto",
         "type": "bar",
         "x": [
          "ij2001",
          "ij2002",
          "ij2003",
          "ij2004",
          "ij2005",
          "ij2006",
          "ij2007",
          "ij2008",
          "ij2009",
          "ij2010",
          "ij2011",
          "ij2012",
          "ij2013",
          "ij2014",
          "ij2015",
          "ij2016",
          "ij2017",
          "ij2018",
          "ij2019",
          "ij2020",
          "ij2021",
          "wd2001",
          "wd2002",
          "wd2003",
          "wd2004",
          "wd2005",
          "wd2006",
          "wd2007",
          "wd2008",
          "wd2009",
          "wd2010",
          "wd2011",
          "wd2012",
          "wd2013",
          "wd2014",
          "wd2015",
          "wd2016",
          "wd2017",
          "wd2018",
          "wd2019",
          "wd2020",
          "wd2021"
         ],
         "xaxis": "x",
         "y": [
          8525000000,
          8767000000,
          10714000000,
          11991000000,
          13419000000,
          13917000000,
          14454000000,
          15194000000,
          15983000000,
          16804000000,
          17576000000,
          17523000000,
          17615000000,
          20688000000,
          23094000000,
          24575000000,
          28262000000,
          29560000000,
          31170000000,
          28725000000,
          31167000000,
          6117000000,
          7005000000,
          8153000000,
          9061000000,
          9678000000,
          10046000000,
          10581000000,
          11052000000,
          11623000000,
          12181000000,
          12461000000,
          12404000000,
          13722000000,
          15609000000,
          17033000000,
          18891000000,
          20487000000,
          21534000000,
          21100000000,
          21296000000,
          21992000000
         ],
         "yaxis": "y"
        },
        {
         "alignmentgroup": "True",
         "hovertemplate": "variable=l&pDemand<br>Season=%{x}<br>value=%{y}<extra></extra>",
         "legendgroup": "l&pDemand",
         "marker": {
          "color": "#FFA15A"
         },
         "name": "l&pDemand",
         "offsetgroup": "l&pDemand",
         "orientation": "v",
         "showlegend": true,
         "textposition": "auto",
         "type": "bar",
         "x": [
          "ij2001",
          "ij2002",
          "ij2003",
          "ij2004",
          "ij2005",
          "ij2006",
          "ij2007",
          "ij2008",
          "ij2009",
          "ij2010",
          "ij2011",
          "ij2012",
          "ij2013",
          "ij2014",
          "ij2015",
          "ij2016",
          "ij2017",
          "ij2018",
          "ij2019",
          "ij2020",
          "ij2021",
          "wd2001",
          "wd2002",
          "wd2003",
          "wd2004",
          "wd2005",
          "wd2006",
          "wd2007",
          "wd2008",
          "wd2009",
          "wd2010",
          "wd2011",
          "wd2012",
          "wd2013",
          "wd2014",
          "wd2015",
          "wd2016",
          "wd2017",
          "wd2018",
          "wd2019",
          "wd2020",
          "wd2021"
         ],
         "xaxis": "x",
         "y": [
          653962000000,
          648815000000,
          658173000000,
          638640000000,
          644106000000,
          668287000000,
          718952000000,
          710117000000,
          744452000000,
          749916000000,
          774486000000,
          816393000000,
          872148000000,
          894935000000,
          927052000000,
          900377000000,
          927994000000,
          995839000000,
          1069816000000,
          1034620000000,
          1086522000000,
          462899000000,
          466177000000,
          462170000000,
          465561000000,
          462542000000,
          490788000000,
          514249000000,
          528186000000,
          521633000000,
          539182000000,
          577635000000,
          595164000000,
          608115000000,
          646654000000,
          653616000000,
          628530000000,
          680329000000,
          735875000000,
          785892000000,
          740874000000,
          781503000000
         ],
         "yaxis": "y"
        },
        {
         "alignmentgroup": "True",
         "hovertemplate": "variable=pplDemand<br>Season=%{x}<br>value=%{y}<extra></extra>",
         "legendgroup": "pplDemand",
         "marker": {
          "color": "#19d3f3"
         },
         "name": "pplDemand",
         "offsetgroup": "pplDemand",
         "orientation": "v",
         "showlegend": true,
         "textposition": "auto",
         "type": "bar",
         "x": [
          "ij2001",
          "ij2002",
          "ij2003",
          "ij2004",
          "ij2005",
          "ij2006",
          "ij2007",
          "ij2008",
          "ij2009",
          "ij2010",
          "ij2011",
          "ij2012",
          "ij2013",
          "ij2014",
          "ij2015",
          "ij2016",
          "ij2017",
          "ij2018",
          "ij2019",
          "ij2020",
          "ij2021",
          "wd2001",
          "wd2002",
          "wd2003",
          "wd2004",
          "wd2005",
          "wd2006",
          "wd2007",
          "wd2008",
          "wd2009",
          "wd2010",
          "wd2011",
          "wd2012",
          "wd2013",
          "wd2014",
          "wd2015",
          "wd2016",
          "wd2017",
          "wd2018",
          "wd2019",
          "wd2020",
          "wd2021"
         ],
         "xaxis": "x",
         "y": [
          311606000000,
          337704000000,
          285095000000,
          275471000000,
          289733000000,
          304262000000,
          311914000000,
          316805000000,
          330445000000,
          331600000000,
          343305000000,
          383395000000,
          407824000000,
          339408000000,
          339469000000,
          355787000000,
          367042000000,
          449266000000,
          511894000000,
          519447000000,
          518786000000,
          311929000000,
          323833000000,
          293742000000,
          292361000000,
          281336000000,
          300190000000,
          326073000000,
          333366000000,
          336210000000,
          347502000000,
          342038000000,
          391150000000,
          395784000000,
          351187000000,
          325289000000,
          335612000000,
          406170000000,
          477266000000,
          497241000000,
          481984000000,
          496642000000
         ],
         "yaxis": "y"
        },
        {
         "alignmentgroup": "True",
         "hovertemplate": "variable=PowerGen<br>Season=%{x}<br>value=%{y}<extra></extra>",
         "legendgroup": "PowerGen",
         "marker": {
          "color": "#FF6692"
         },
         "name": "PowerGen",
         "offsetgroup": "PowerGen",
         "orientation": "v",
         "showlegend": true,
         "textposition": "auto",
         "type": "bar",
         "x": [
          "ij2001",
          "ij2002",
          "ij2003",
          "ij2004",
          "ij2005",
          "ij2006",
          "ij2007",
          "ij2008",
          "ij2009",
          "ij2010",
          "ij2011",
          "ij2012",
          "ij2013",
          "ij2014",
          "ij2015",
          "ij2016",
          "ij2017",
          "ij2018",
          "ij2019",
          "ij2020",
          "ij2021",
          "wd2001",
          "wd2002",
          "wd2003",
          "wd2004",
          "wd2005",
          "wd2006",
          "wd2007",
          "wd2008",
          "wd2009",
          "wd2010",
          "wd2011",
          "wd2012",
          "wd2013",
          "wd2014",
          "wd2015",
          "wd2016",
          "wd2017",
          "wd2018",
          "wd2019",
          "wd2020",
          "wd2021"
         ],
         "xaxis": "x",
         "y": [
          3608756000000,
          3827968000000,
          3372893000000,
          3590835000000,
          3988001000000,
          4339677000000,
          4606073000000,
          4303304000000,
          4455026000000,
          4844081000000,
          4912019000000,
          5964095000000,
          5116959000000,
          5132024000000,
          6043954000000,
          6443918000000,
          5913791000000,
          6831215000000,
          7116343000000,
          7287079000000,
          7091269000000,
          1849760000000,
          1790119000000,
          1794009000000,
          1864425000000,
          1851049000000,
          2100600000000,
          2376776000000,
          2374561000000,
          2459221000000,
          2566217000000,
          3123892000000,
          2983230000000,
          3044609000000,
          3307559000000,
          3709538000000,
          3233413000000,
          3683736000000,
          3966527000000,
          4419395000000,
          4051186000000,
          4346321000000
         ],
         "yaxis": "y"
        },
        {
         "alignmentgroup": "True",
         "hovertemplate": "variable=cgsExports<br>Season=%{x}<br>value=%{y}<extra></extra>",
         "legendgroup": "cgsExports",
         "marker": {
          "color": "#B6E880"
         },
         "name": "cgsExports",
         "offsetgroup": "cgsExports",
         "orientation": "v",
         "showlegend": true,
         "textposition": "auto",
         "type": "bar",
         "x": [
          "ij2001",
          "ij2002",
          "ij2003",
          "ij2004",
          "ij2005",
          "ij2006",
          "ij2007",
          "ij2008",
          "ij2009",
          "ij2010",
          "ij2011",
          "ij2012",
          "ij2013",
          "ij2014",
          "ij2015",
          "ij2016",
          "ij2017",
          "ij2018",
          "ij2019",
          "ij2020",
          "ij2021",
          "wd2001",
          "wd2002",
          "wd2003",
          "wd2004",
          "wd2005",
          "wd2006",
          "wd2007",
          "wd2008",
          "wd2009",
          "wd2010",
          "wd2011",
          "wd2012",
          "wd2013",
          "wd2014",
          "wd2015",
          "wd2016",
          "wd2017",
          "wd2018",
          "wd2019",
          "wd2020",
          "wd2021"
         ],
         "xaxis": "x",
         "y": [
          null,
          null,
          null,
          null,
          null,
          null,
          null,
          null,
          null,
          null,
          0,
          0,
          70000000,
          88000000,
          104000000,
          102000000,
          76000000,
          140000000,
          148000000,
          217000000,
          111000000,
          null,
          null,
          null,
          null,
          null,
          null,
          null,
          null,
          null,
          null,
          0,
          0,
          131000000,
          106000000,
          115000000,
          104000000,
          70000000,
          106000000,
          160000000,
          164000000,
          0
         ],
         "yaxis": "y"
        },
        {
         "alignmentgroup": "True",
         "hovertemplate": "variable=pplExports<br>Season=%{x}<br>value=%{y}<extra></extra>",
         "legendgroup": "pplExports",
         "marker": {
          "color": "#FF97FF"
         },
         "name": "pplExports",
         "offsetgroup": "pplExports",
         "orientation": "v",
         "showlegend": true,
         "textposition": "auto",
         "type": "bar",
         "x": [
          "ij2001",
          "ij2002",
          "ij2003",
          "ij2004",
          "ij2005",
          "ij2006",
          "ij2007",
          "ij2008",
          "ij2009",
          "ij2010",
          "ij2011",
          "ij2012",
          "ij2013",
          "ij2014",
          "ij2015",
          "ij2016",
          "ij2017",
          "ij2018",
          "ij2019",
          "ij2020",
          "ij2021",
          "wd2001",
          "wd2002",
          "wd2003",
          "wd2004",
          "wd2005",
          "wd2006",
          "wd2007",
          "wd2008",
          "wd2009",
          "wd2010",
          "wd2011",
          "wd2012",
          "wd2013",
          "wd2014",
          "wd2015",
          "wd2016",
          "wd2017",
          "wd2018",
          "wd2019",
          "wd2020",
          "wd2021"
         ],
         "xaxis": "x",
         "y": [
          165430000000,
          266421000000,
          326783000000,
          421878000000,
          323750000000,
          363594000000,
          405518000000,
          432805000000,
          522972000000,
          566014000000,
          803113000000,
          904110000000,
          905251000000,
          819998000000,
          995836000000,
          1231773000000,
          1371431000000,
          1423705000000,
          1617874000000,
          1655220000000,
          1817253000000,
          159974000000,
          247886000000,
          349157000000,
          418295000000,
          246146000000,
          320492000000,
          480817000000,
          503056000000,
          475703000000,
          614625000000,
          642998000000,
          731242000000,
          648221000000,
          705524000000,
          824017000000,
          1053447000000,
          1054755000000,
          1178752000000,
          1254052000000,
          1244595000000,
          1284665000000
         ],
         "yaxis": "y"
        },
        {
         "alignmentgroup": "True",
         "hovertemplate": "variable=lngExports<br>Season=%{x}<br>value=%{y}<extra></extra>",
         "legendgroup": "lngExports",
         "marker": {
          "color": "#FECB52"
         },
         "name": "lngExports",
         "offsetgroup": "lngExports",
         "orientation": "v",
         "showlegend": true,
         "textposition": "auto",
         "type": "bar",
         "x": [
          "ij2001",
          "ij2002",
          "ij2003",
          "ij2004",
          "ij2005",
          "ij2006",
          "ij2007",
          "ij2008",
          "ij2009",
          "ij2010",
          "ij2011",
          "ij2012",
          "ij2013",
          "ij2014",
          "ij2015",
          "ij2016",
          "ij2017",
          "ij2018",
          "ij2019",
          "ij2020",
          "ij2021",
          "wd2001",
          "wd2002",
          "wd2003",
          "wd2004",
          "wd2005",
          "wd2006",
          "wd2007",
          "wd2008",
          "wd2009",
          "wd2010",
          "wd2011",
          "wd2012",
          "wd2013",
          "wd2014",
          "wd2015",
          "wd2016",
          "wd2017",
          "wd2018",
          "wd2019",
          "wd2020",
          "wd2021"
         ],
         "xaxis": "x",
         "y": [
          39895000000,
          37387000000,
          37811000000,
          35370000000,
          37422000000,
          34952000000,
          26187000000,
          24897000000,
          17280000000,
          31153000000,
          35468000000,
          12078000000,
          93000000,
          13447000000,
          16637000000,
          98626000000,
          397901000000,
          615049000000,
          1047654000000,
          1084659000000,
          2074445000000,
          26446000000,
          28217000000,
          27290000000,
          27978000000,
          27890000000,
          23915000000,
          16163000000,
          13361000000,
          17482000000,
          49128000000,
          20778000000,
          5585000000,
          5524000000,
          5658000000,
          19554000000,
          221738000000,
          400393000000,
          591017000000,
          1131616000000,
          1419558000000,
          1686433000000
         ],
         "yaxis": "y"
        }
       ],
       "layout": {
        "barmode": "relative",
        "images": [
         {
          "sizex": 0.2,
          "sizey": 0.2,
          "source": "https://upload.wikimedia.org/wikipedia/commons/1/1f/Energy_Information_Administration_logo.svg",
          "x": 1.07,
          "xanchor": "center",
          "y": -0.1,
          "yanchor": "bottom"
         }
        ],
        "legend": {
         "title": {
          "text": "variable"
         },
         "tracegroupgap": 0,
         "traceorder": "reversed"
        },
        "template": {
         "data": {
          "bar": [
           {
            "error_x": {
             "color": "#2a3f5f"
            },
            "error_y": {
             "color": "#2a3f5f"
            },
            "marker": {
             "line": {
              "color": "#E5ECF6",
              "width": 0.5
             }
            },
            "type": "bar"
           }
          ],
          "barpolar": [
           {
            "marker": {
             "line": {
              "color": "#E5ECF6",
              "width": 0.5
             }
            },
            "type": "barpolar"
           }
          ],
          "carpet": [
           {
            "aaxis": {
             "endlinecolor": "#2a3f5f",
             "gridcolor": "white",
             "linecolor": "white",
             "minorgridcolor": "white",
             "startlinecolor": "#2a3f5f"
            },
            "baxis": {
             "endlinecolor": "#2a3f5f",
             "gridcolor": "white",
             "linecolor": "white",
             "minorgridcolor": "white",
             "startlinecolor": "#2a3f5f"
            },
            "type": "carpet"
           }
          ],
          "choropleth": [
           {
            "colorbar": {
             "outlinewidth": 0,
             "ticks": ""
            },
            "type": "choropleth"
           }
          ],
          "contour": [
           {
            "colorbar": {
             "outlinewidth": 0,
             "ticks": ""
            },
            "colorscale": [
             [
              0,
              "#0d0887"
             ],
             [
              0.1111111111111111,
              "#46039f"
             ],
             [
              0.2222222222222222,
              "#7201a8"
             ],
             [
              0.3333333333333333,
              "#9c179e"
             ],
             [
              0.4444444444444444,
              "#bd3786"
             ],
             [
              0.5555555555555556,
              "#d8576b"
             ],
             [
              0.6666666666666666,
              "#ed7953"
             ],
             [
              0.7777777777777778,
              "#fb9f3a"
             ],
             [
              0.8888888888888888,
              "#fdca26"
             ],
             [
              1,
              "#f0f921"
             ]
            ],
            "type": "contour"
           }
          ],
          "contourcarpet": [
           {
            "colorbar": {
             "outlinewidth": 0,
             "ticks": ""
            },
            "type": "contourcarpet"
           }
          ],
          "heatmap": [
           {
            "colorbar": {
             "outlinewidth": 0,
             "ticks": ""
            },
            "colorscale": [
             [
              0,
              "#0d0887"
             ],
             [
              0.1111111111111111,
              "#46039f"
             ],
             [
              0.2222222222222222,
              "#7201a8"
             ],
             [
              0.3333333333333333,
              "#9c179e"
             ],
             [
              0.4444444444444444,
              "#bd3786"
             ],
             [
              0.5555555555555556,
              "#d8576b"
             ],
             [
              0.6666666666666666,
              "#ed7953"
             ],
             [
              0.7777777777777778,
              "#fb9f3a"
             ],
             [
              0.8888888888888888,
              "#fdca26"
             ],
             [
              1,
              "#f0f921"
             ]
            ],
            "type": "heatmap"
           }
          ],
          "heatmapgl": [
           {
            "colorbar": {
             "outlinewidth": 0,
             "ticks": ""
            },
            "colorscale": [
             [
              0,
              "#0d0887"
             ],
             [
              0.1111111111111111,
              "#46039f"
             ],
             [
              0.2222222222222222,
              "#7201a8"
             ],
             [
              0.3333333333333333,
              "#9c179e"
             ],
             [
              0.4444444444444444,
              "#bd3786"
             ],
             [
              0.5555555555555556,
              "#d8576b"
             ],
             [
              0.6666666666666666,
              "#ed7953"
             ],
             [
              0.7777777777777778,
              "#fb9f3a"
             ],
             [
              0.8888888888888888,
              "#fdca26"
             ],
             [
              1,
              "#f0f921"
             ]
            ],
            "type": "heatmapgl"
           }
          ],
          "histogram": [
           {
            "marker": {
             "colorbar": {
              "outlinewidth": 0,
              "ticks": ""
             }
            },
            "type": "histogram"
           }
          ],
          "histogram2d": [
           {
            "colorbar": {
             "outlinewidth": 0,
             "ticks": ""
            },
            "colorscale": [
             [
              0,
              "#0d0887"
             ],
             [
              0.1111111111111111,
              "#46039f"
             ],
             [
              0.2222222222222222,
              "#7201a8"
             ],
             [
              0.3333333333333333,
              "#9c179e"
             ],
             [
              0.4444444444444444,
              "#bd3786"
             ],
             [
              0.5555555555555556,
              "#d8576b"
             ],
             [
              0.6666666666666666,
              "#ed7953"
             ],
             [
              0.7777777777777778,
              "#fb9f3a"
             ],
             [
              0.8888888888888888,
              "#fdca26"
             ],
             [
              1,
              "#f0f921"
             ]
            ],
            "type": "histogram2d"
           }
          ],
          "histogram2dcontour": [
           {
            "colorbar": {
             "outlinewidth": 0,
             "ticks": ""
            },
            "colorscale": [
             [
              0,
              "#0d0887"
             ],
             [
              0.1111111111111111,
              "#46039f"
             ],
             [
              0.2222222222222222,
              "#7201a8"
             ],
             [
              0.3333333333333333,
              "#9c179e"
             ],
             [
              0.4444444444444444,
              "#bd3786"
             ],
             [
              0.5555555555555556,
              "#d8576b"
             ],
             [
              0.6666666666666666,
              "#ed7953"
             ],
             [
              0.7777777777777778,
              "#fb9f3a"
             ],
             [
              0.8888888888888888,
              "#fdca26"
             ],
             [
              1,
              "#f0f921"
             ]
            ],
            "type": "histogram2dcontour"
           }
          ],
          "mesh3d": [
           {
            "colorbar": {
             "outlinewidth": 0,
             "ticks": ""
            },
            "type": "mesh3d"
           }
          ],
          "parcoords": [
           {
            "line": {
             "colorbar": {
              "outlinewidth": 0,
              "ticks": ""
             }
            },
            "type": "parcoords"
           }
          ],
          "pie": [
           {
            "automargin": true,
            "type": "pie"
           }
          ],
          "scatter": [
           {
            "marker": {
             "colorbar": {
              "outlinewidth": 0,
              "ticks": ""
             }
            },
            "type": "scatter"
           }
          ],
          "scatter3d": [
           {
            "line": {
             "colorbar": {
              "outlinewidth": 0,
              "ticks": ""
             }
            },
            "marker": {
             "colorbar": {
              "outlinewidth": 0,
              "ticks": ""
             }
            },
            "type": "scatter3d"
           }
          ],
          "scattercarpet": [
           {
            "marker": {
             "colorbar": {
              "outlinewidth": 0,
              "ticks": ""
             }
            },
            "type": "scattercarpet"
           }
          ],
          "scattergeo": [
           {
            "marker": {
             "colorbar": {
              "outlinewidth": 0,
              "ticks": ""
             }
            },
            "type": "scattergeo"
           }
          ],
          "scattergl": [
           {
            "marker": {
             "colorbar": {
              "outlinewidth": 0,
              "ticks": ""
             }
            },
            "type": "scattergl"
           }
          ],
          "scattermapbox": [
           {
            "marker": {
             "colorbar": {
              "outlinewidth": 0,
              "ticks": ""
             }
            },
            "type": "scattermapbox"
           }
          ],
          "scatterpolar": [
           {
            "marker": {
             "colorbar": {
              "outlinewidth": 0,
              "ticks": ""
             }
            },
            "type": "scatterpolar"
           }
          ],
          "scatterpolargl": [
           {
            "marker": {
             "colorbar": {
              "outlinewidth": 0,
              "ticks": ""
             }
            },
            "type": "scatterpolargl"
           }
          ],
          "scatterternary": [
           {
            "marker": {
             "colorbar": {
              "outlinewidth": 0,
              "ticks": ""
             }
            },
            "type": "scatterternary"
           }
          ],
          "surface": [
           {
            "colorbar": {
             "outlinewidth": 0,
             "ticks": ""
            },
            "colorscale": [
             [
              0,
              "#0d0887"
             ],
             [
              0.1111111111111111,
              "#46039f"
             ],
             [
              0.2222222222222222,
              "#7201a8"
             ],
             [
              0.3333333333333333,
              "#9c179e"
             ],
             [
              0.4444444444444444,
              "#bd3786"
             ],
             [
              0.5555555555555556,
              "#d8576b"
             ],
             [
              0.6666666666666666,
              "#ed7953"
             ],
             [
              0.7777777777777778,
              "#fb9f3a"
             ],
             [
              0.8888888888888888,
              "#fdca26"
             ],
             [
              1,
              "#f0f921"
             ]
            ],
            "type": "surface"
           }
          ],
          "table": [
           {
            "cells": {
             "fill": {
              "color": "#EBF0F8"
             },
             "line": {
              "color": "white"
             }
            },
            "header": {
             "fill": {
              "color": "#C8D4E3"
             },
             "line": {
              "color": "white"
             }
            },
            "type": "table"
           }
          ]
         },
         "layout": {
          "annotationdefaults": {
           "arrowcolor": "#2a3f5f",
           "arrowhead": 0,
           "arrowwidth": 1
          },
          "coloraxis": {
           "colorbar": {
            "outlinewidth": 0,
            "ticks": ""
           }
          },
          "colorscale": {
           "diverging": [
            [
             0,
             "#8e0152"
            ],
            [
             0.1,
             "#c51b7d"
            ],
            [
             0.2,
             "#de77ae"
            ],
            [
             0.3,
             "#f1b6da"
            ],
            [
             0.4,
             "#fde0ef"
            ],
            [
             0.5,
             "#f7f7f7"
            ],
            [
             0.6,
             "#e6f5d0"
            ],
            [
             0.7,
             "#b8e186"
            ],
            [
             0.8,
             "#7fbc41"
            ],
            [
             0.9,
             "#4d9221"
            ],
            [
             1,
             "#276419"
            ]
           ],
           "sequential": [
            [
             0,
             "#0d0887"
            ],
            [
             0.1111111111111111,
             "#46039f"
            ],
            [
             0.2222222222222222,
             "#7201a8"
            ],
            [
             0.3333333333333333,
             "#9c179e"
            ],
            [
             0.4444444444444444,
             "#bd3786"
            ],
            [
             0.5555555555555556,
             "#d8576b"
            ],
            [
             0.6666666666666666,
             "#ed7953"
            ],
            [
             0.7777777777777778,
             "#fb9f3a"
            ],
            [
             0.8888888888888888,
             "#fdca26"
            ],
            [
             1,
             "#f0f921"
            ]
           ],
           "sequentialminus": [
            [
             0,
             "#0d0887"
            ],
            [
             0.1111111111111111,
             "#46039f"
            ],
            [
             0.2222222222222222,
             "#7201a8"
            ],
            [
             0.3333333333333333,
             "#9c179e"
            ],
            [
             0.4444444444444444,
             "#bd3786"
            ],
            [
             0.5555555555555556,
             "#d8576b"
            ],
            [
             0.6666666666666666,
             "#ed7953"
            ],
            [
             0.7777777777777778,
             "#fb9f3a"
            ],
            [
             0.8888888888888888,
             "#fdca26"
            ],
            [
             1,
             "#f0f921"
            ]
           ]
          },
          "colorway": [
           "#636efa",
           "#EF553B",
           "#00cc96",
           "#ab63fa",
           "#FFA15A",
           "#19d3f3",
           "#FF6692",
           "#B6E880",
           "#FF97FF",
           "#FECB52"
          ],
          "font": {
           "color": "#2a3f5f"
          },
          "geo": {
           "bgcolor": "white",
           "lakecolor": "white",
           "landcolor": "#E5ECF6",
           "showlakes": true,
           "showland": true,
           "subunitcolor": "white"
          },
          "hoverlabel": {
           "align": "left"
          },
          "hovermode": "closest",
          "mapbox": {
           "style": "light"
          },
          "paper_bgcolor": "white",
          "plot_bgcolor": "#E5ECF6",
          "polar": {
           "angularaxis": {
            "gridcolor": "white",
            "linecolor": "white",
            "ticks": ""
           },
           "bgcolor": "#E5ECF6",
           "radialaxis": {
            "gridcolor": "white",
            "linecolor": "white",
            "ticks": ""
           }
          },
          "scene": {
           "xaxis": {
            "backgroundcolor": "#E5ECF6",
            "gridcolor": "white",
            "gridwidth": 2,
            "linecolor": "white",
            "showbackground": true,
            "ticks": "",
            "zerolinecolor": "white"
           },
           "yaxis": {
            "backgroundcolor": "#E5ECF6",
            "gridcolor": "white",
            "gridwidth": 2,
            "linecolor": "white",
            "showbackground": true,
            "ticks": "",
            "zerolinecolor": "white"
           },
           "zaxis": {
            "backgroundcolor": "#E5ECF6",
            "gridcolor": "white",
            "gridwidth": 2,
            "linecolor": "white",
            "showbackground": true,
            "ticks": "",
            "zerolinecolor": "white"
           }
          },
          "shapedefaults": {
           "line": {
            "color": "#2a3f5f"
           }
          },
          "ternary": {
           "aaxis": {
            "gridcolor": "white",
            "linecolor": "white",
            "ticks": ""
           },
           "baxis": {
            "gridcolor": "white",
            "linecolor": "white",
            "ticks": ""
           },
           "bgcolor": "#E5ECF6",
           "caxis": {
            "gridcolor": "white",
            "linecolor": "white",
            "ticks": ""
           }
          },
          "title": {
           "x": 0.05
          },
          "xaxis": {
           "automargin": true,
           "gridcolor": "white",
           "linecolor": "white",
           "ticks": "",
           "title": {
            "standoff": 15
           },
           "zerolinecolor": "white",
           "zerolinewidth": 2
          },
          "yaxis": {
           "automargin": true,
           "gridcolor": "white",
           "linecolor": "white",
           "ticks": "",
           "title": {
            "standoff": 15
           },
           "zerolinecolor": "white",
           "zerolinewidth": 2
          }
         }
        },
        "title": {
         "text": "U.S. NG demand by storage seasons"
        },
        "xaxis": {
         "anchor": "y",
         "domain": [
          0,
          1
         ],
         "title": {
          "text": "storage season year"
         }
        },
        "yaxis": {
         "anchor": "x",
         "domain": [
          0,
          1
         ],
         "title": {
          "text": "demand in cubic feet"
         }
        }
       }
      },
      "text/html": [
       "<div>                            <div id=\"19e2cf70-e86e-4409-bf16-00e5035128a5\" class=\"plotly-graph-div\" style=\"height:525px; width:100%;\"></div>            <script type=\"text/javascript\">                require([\"plotly\"], function(Plotly) {                    window.PLOTLYENV=window.PLOTLYENV || {};                                    if (document.getElementById(\"19e2cf70-e86e-4409-bf16-00e5035128a5\")) {                    Plotly.newPlot(                        \"19e2cf70-e86e-4409-bf16-00e5035128a5\",                        [{\"alignmentgroup\": \"True\", \"hovertemplate\": \"variable=comDemand<br>Season=%{x}<br>value=%{y}<extra></extra>\", \"legendgroup\": \"comDemand\", \"marker\": {\"color\": \"#636efa\"}, \"name\": \"comDemand\", \"offsetgroup\": \"comDemand\", \"orientation\": \"v\", \"showlegend\": true, \"textposition\": \"auto\", \"type\": \"bar\", \"x\": [\"ij2001\", \"ij2002\", \"ij2003\", \"ij2004\", \"ij2005\", \"ij2006\", \"ij2007\", \"ij2008\", \"ij2009\", \"ij2010\", \"ij2011\", \"ij2012\", \"ij2013\", \"ij2014\", \"ij2015\", \"ij2016\", \"ij2017\", \"ij2018\", \"ij2019\", \"ij2020\", \"ij2021\", \"wd2001\", \"wd2002\", \"wd2003\", \"wd2004\", \"wd2005\", \"wd2006\", \"wd2007\", \"wd2008\", \"wd2009\", \"wd2010\", \"wd2011\", \"wd2012\", \"wd2013\", \"wd2014\", \"wd2015\", \"wd2016\", \"wd2017\", \"wd2018\", \"wd2019\", \"wd2020\", \"wd2021\"], \"xaxis\": \"x\", \"y\": [1147756000000.0, 1218730000000.0, 1149964000000.0, 1129442000000.0, 1089222000000.0, 1089217000000.0, 1097467000000.0, 1137717000000.0, 1135818000000.0, 1071378000000.0, 1147997000000.0, 1101544000000.0, 1174865000000.0, 1195245000000.0, 1130252000000.0, 1151209000000.0, 1144902000000.0, 1272512000000.0, 1218124000000.0, 1145372000000.0, 1193417000000.0, 1784582000000.0, 2103069000000.0, 1985341000000.0, 1913815000000.0, 1793912000000.0, 1866116000000.0, 1968647000000.0, 2001130000000.0, 1957157000000.0, 2074736000000.0, 1781124000000.0, 2000366000000.0, 2301763000000.0, 2224025000000.0, 1850825000000.0, 1953762000000.0, 2205355000000.0, 2296126000000.0, 2122966000000.0, 2085500000000.0, 2138594000000.0], \"yaxis\": \"y\"}, {\"alignmentgroup\": \"True\", \"hovertemplate\": \"variable=resDemand<br>Season=%{x}<br>value=%{y}<extra></extra>\", \"legendgroup\": \"resDemand\", \"marker\": {\"color\": \"#EF553B\"}, \"name\": \"resDemand\", \"offsetgroup\": \"resDemand\", \"orientation\": \"v\", \"showlegend\": true, \"textposition\": \"auto\", \"type\": \"bar\", \"x\": [\"ij2001\", \"ij2002\", \"ij2003\", \"ij2004\", \"ij2005\", \"ij2006\", \"ij2007\", \"ij2008\", \"ij2009\", \"ij2010\", \"ij2011\", \"ij2012\", \"ij2013\", \"ij2014\", \"ij2015\", \"ij2016\", \"ij2017\", \"ij2018\", \"ij2019\", \"ij2020\", \"ij2021\", \"wd2001\", \"wd2002\", \"wd2003\", \"wd2004\", \"wd2005\", \"wd2006\", \"wd2007\", \"wd2008\", \"wd2009\", \"wd2010\", \"wd2011\", \"wd2012\", \"wd2013\", \"wd2014\", \"wd2015\", \"wd2016\", \"wd2017\", \"wd2018\", \"wd2019\", \"wd2020\", \"wd2021\"], \"xaxis\": \"x\", \"y\": [1362551000000.0, 1445472000000.0, 1422297000000.0, 1324204000000.0, 1339023000000.0, 1289560000000.0, 1280943000000.0, 1328862000000.0, 1333724000000.0, 1181982000000.0, 1253347000000.0, 1137467000000.0, 1247012000000.0, 1236981000000.0, 1141967000000.0, 1148663000000.0, 1133388000000.0, 1302445000000.0, 1225395000000.0, 1346143000000.0, 1207056000000.0, 3158266000000.0, 3759621000000.0, 3564047000000.0, 3462295000000.0, 3200165000000.0, 3356071000000.0, 3480525000000.0, 3509647000000.0, 3447401000000.0, 3626500000000.0, 2987308000000.0, 3437113000000.0, 3955769000000.0, 3733844000000.0, 3021535000000.0, 3164226000000.0, 3620171000000.0, 3815993000000.0, 3430440000000.0, 3549996000000.0, 3485062000000.0], \"yaxis\": \"y\"}, {\"alignmentgroup\": \"True\", \"hovertemplate\": \"variable=indDemand<br>Season=%{x}<br>value=%{y}<extra></extra>\", \"legendgroup\": \"indDemand\", \"marker\": {\"color\": \"#00cc96\"}, \"name\": \"indDemand\", \"offsetgroup\": \"indDemand\", \"orientation\": \"v\", \"showlegend\": true, \"textposition\": \"auto\", \"type\": \"bar\", \"x\": [\"ij2001\", \"ij2002\", \"ij2003\", \"ij2004\", \"ij2005\", \"ij2006\", \"ij2007\", \"ij2008\", \"ij2009\", \"ij2010\", \"ij2011\", \"ij2012\", \"ij2013\", \"ij2014\", \"ij2015\", \"ij2016\", \"ij2017\", \"ij2018\", \"ij2019\", \"ij2020\", \"ij2021\", \"wd2001\", \"wd2002\", \"wd2003\", \"wd2004\", \"wd2005\", \"wd2006\", \"wd2007\", \"wd2008\", \"wd2009\", \"wd2010\", \"wd2011\", \"wd2012\", \"wd2013\", \"wd2014\", \"wd2015\", \"wd2016\", \"wd2017\", \"wd2018\", \"wd2019\", \"wd2020\", \"wd2021\"], \"xaxis\": \"x\", \"y\": [4091229000000.0, 4258547000000.0, 3961268000000.0, 4033586000000.0, 3650543000000.0, 3669977000000.0, 3671851000000.0, 3683151000000.0, 3396559000000.0, 3770022000000.0, 3883414000000.0, 4061727000000.0, 4113863000000.0, 4234153000000.0, 4169280000000.0, 4293721000000.0, 4406459000000.0, 4694278000000.0, 4633593000000.0, 4459378000000.0, 4568820000000.0, 3236089000000.0, 3241498000000.0, 3197688000000.0, 3113640000000.0, 2827092000000.0, 2933356000000.0, 3070288000000.0, 2741886000000.0, 2966511000000.0, 3092567000000.0, 3133888000000.0, 3219365000000.0, 3421233000000.0, 3389290000000.0, 3359724000000.0, 3468655000000.0, 3675390000000.0, 3773362000000.0, 3726176000000.0, 3621740000000.0, 3756885000000.0], \"yaxis\": \"y\"}, {\"alignmentgroup\": \"True\", \"hovertemplate\": \"variable=vehDemand<br>Season=%{x}<br>value=%{y}<extra></extra>\", \"legendgroup\": \"vehDemand\", \"marker\": {\"color\": \"#ab63fa\"}, \"name\": \"vehDemand\", \"offsetgroup\": \"vehDemand\", \"orientation\": \"v\", \"showlegend\": true, \"textposition\": \"auto\", \"type\": \"bar\", \"x\": [\"ij2001\", \"ij2002\", \"ij2003\", \"ij2004\", \"ij2005\", \"ij2006\", \"ij2007\", \"ij2008\", \"ij2009\", \"ij2010\", \"ij2011\", \"ij2012\", \"ij2013\", \"ij2014\", \"ij2015\", \"ij2016\", \"ij2017\", \"ij2018\", \"ij2019\", \"ij2020\", \"ij2021\", \"wd2001\", \"wd2002\", \"wd2003\", \"wd2004\", \"wd2005\", \"wd2006\", \"wd2007\", \"wd2008\", \"wd2009\", \"wd2010\", \"wd2011\", \"wd2012\", \"wd2013\", \"wd2014\", \"wd2015\", \"wd2016\", \"wd2017\", \"wd2018\", \"wd2019\", \"wd2020\", \"wd2021\"], \"xaxis\": \"x\", \"y\": [8525000000.0, 8767000000.0, 10714000000.0, 11991000000.0, 13419000000.0, 13917000000.0, 14454000000.0, 15194000000.0, 15983000000.0, 16804000000.0, 17576000000.0, 17523000000.0, 17615000000.0, 20688000000.0, 23094000000.0, 24575000000.0, 28262000000.0, 29560000000.0, 31170000000.0, 28725000000.0, 31167000000.0, 6117000000.0, 7005000000.0, 8153000000.0, 9061000000.0, 9678000000.0, 10046000000.0, 10581000000.0, 11052000000.0, 11623000000.0, 12181000000.0, 12461000000.0, 12404000000.0, 13722000000.0, 15609000000.0, 17033000000.0, 18891000000.0, 20487000000.0, 21534000000.0, 21100000000.0, 21296000000.0, 21992000000.0], \"yaxis\": \"y\"}, {\"alignmentgroup\": \"True\", \"hovertemplate\": \"variable=l&pDemand<br>Season=%{x}<br>value=%{y}<extra></extra>\", \"legendgroup\": \"l&pDemand\", \"marker\": {\"color\": \"#FFA15A\"}, \"name\": \"l&pDemand\", \"offsetgroup\": \"l&pDemand\", \"orientation\": \"v\", \"showlegend\": true, \"textposition\": \"auto\", \"type\": \"bar\", \"x\": [\"ij2001\", \"ij2002\", \"ij2003\", \"ij2004\", \"ij2005\", \"ij2006\", \"ij2007\", \"ij2008\", \"ij2009\", \"ij2010\", \"ij2011\", \"ij2012\", \"ij2013\", \"ij2014\", \"ij2015\", \"ij2016\", \"ij2017\", \"ij2018\", \"ij2019\", \"ij2020\", \"ij2021\", \"wd2001\", \"wd2002\", \"wd2003\", \"wd2004\", \"wd2005\", \"wd2006\", \"wd2007\", \"wd2008\", \"wd2009\", \"wd2010\", \"wd2011\", \"wd2012\", \"wd2013\", \"wd2014\", \"wd2015\", \"wd2016\", \"wd2017\", \"wd2018\", \"wd2019\", \"wd2020\", \"wd2021\"], \"xaxis\": \"x\", \"y\": [653962000000.0, 648815000000.0, 658173000000.0, 638640000000.0, 644106000000.0, 668287000000.0, 718952000000.0, 710117000000.0, 744452000000.0, 749916000000.0, 774486000000.0, 816393000000.0, 872148000000.0, 894935000000.0, 927052000000.0, 900377000000.0, 927994000000.0, 995839000000.0, 1069816000000.0, 1034620000000.0, 1086522000000.0, 462899000000.0, 466177000000.0, 462170000000.0, 465561000000.0, 462542000000.0, 490788000000.0, 514249000000.0, 528186000000.0, 521633000000.0, 539182000000.0, 577635000000.0, 595164000000.0, 608115000000.0, 646654000000.0, 653616000000.0, 628530000000.0, 680329000000.0, 735875000000.0, 785892000000.0, 740874000000.0, 781503000000.0], \"yaxis\": \"y\"}, {\"alignmentgroup\": \"True\", \"hovertemplate\": \"variable=pplDemand<br>Season=%{x}<br>value=%{y}<extra></extra>\", \"legendgroup\": \"pplDemand\", \"marker\": {\"color\": \"#19d3f3\"}, \"name\": \"pplDemand\", \"offsetgroup\": \"pplDemand\", \"orientation\": \"v\", \"showlegend\": true, \"textposition\": \"auto\", \"type\": \"bar\", \"x\": [\"ij2001\", \"ij2002\", \"ij2003\", \"ij2004\", \"ij2005\", \"ij2006\", \"ij2007\", \"ij2008\", \"ij2009\", \"ij2010\", \"ij2011\", \"ij2012\", \"ij2013\", \"ij2014\", \"ij2015\", \"ij2016\", \"ij2017\", \"ij2018\", \"ij2019\", \"ij2020\", \"ij2021\", \"wd2001\", \"wd2002\", \"wd2003\", \"wd2004\", \"wd2005\", \"wd2006\", \"wd2007\", \"wd2008\", \"wd2009\", \"wd2010\", \"wd2011\", \"wd2012\", \"wd2013\", \"wd2014\", \"wd2015\", \"wd2016\", \"wd2017\", \"wd2018\", \"wd2019\", \"wd2020\", \"wd2021\"], \"xaxis\": \"x\", \"y\": [311606000000.0, 337704000000.0, 285095000000.0, 275471000000.0, 289733000000.0, 304262000000.0, 311914000000.0, 316805000000.0, 330445000000.0, 331600000000.0, 343305000000.0, 383395000000.0, 407824000000.0, 339408000000.0, 339469000000.0, 355787000000.0, 367042000000.0, 449266000000.0, 511894000000.0, 519447000000.0, 518786000000.0, 311929000000.0, 323833000000.0, 293742000000.0, 292361000000.0, 281336000000.0, 300190000000.0, 326073000000.0, 333366000000.0, 336210000000.0, 347502000000.0, 342038000000.0, 391150000000.0, 395784000000.0, 351187000000.0, 325289000000.0, 335612000000.0, 406170000000.0, 477266000000.0, 497241000000.0, 481984000000.0, 496642000000.0], \"yaxis\": \"y\"}, {\"alignmentgroup\": \"True\", \"hovertemplate\": \"variable=PowerGen<br>Season=%{x}<br>value=%{y}<extra></extra>\", \"legendgroup\": \"PowerGen\", \"marker\": {\"color\": \"#FF6692\"}, \"name\": \"PowerGen\", \"offsetgroup\": \"PowerGen\", \"orientation\": \"v\", \"showlegend\": true, \"textposition\": \"auto\", \"type\": \"bar\", \"x\": [\"ij2001\", \"ij2002\", \"ij2003\", \"ij2004\", \"ij2005\", \"ij2006\", \"ij2007\", \"ij2008\", \"ij2009\", \"ij2010\", \"ij2011\", \"ij2012\", \"ij2013\", \"ij2014\", \"ij2015\", \"ij2016\", \"ij2017\", \"ij2018\", \"ij2019\", \"ij2020\", \"ij2021\", \"wd2001\", \"wd2002\", \"wd2003\", \"wd2004\", \"wd2005\", \"wd2006\", \"wd2007\", \"wd2008\", \"wd2009\", \"wd2010\", \"wd2011\", \"wd2012\", \"wd2013\", \"wd2014\", \"wd2015\", \"wd2016\", \"wd2017\", \"wd2018\", \"wd2019\", \"wd2020\", \"wd2021\"], \"xaxis\": \"x\", \"y\": [3608756000000.0, 3827968000000.0, 3372893000000.0, 3590835000000.0, 3988001000000.0, 4339677000000.0, 4606073000000.0, 4303304000000.0, 4455026000000.0, 4844081000000.0, 4912019000000.0, 5964095000000.0, 5116959000000.0, 5132024000000.0, 6043954000000.0, 6443918000000.0, 5913791000000.0, 6831215000000.0, 7116343000000.0, 7287079000000.0, 7091269000000.0, 1849760000000.0, 1790119000000.0, 1794009000000.0, 1864425000000.0, 1851049000000.0, 2100600000000.0, 2376776000000.0, 2374561000000.0, 2459221000000.0, 2566217000000.0, 3123892000000.0, 2983230000000.0, 3044609000000.0, 3307559000000.0, 3709538000000.0, 3233413000000.0, 3683736000000.0, 3966527000000.0, 4419395000000.0, 4051186000000.0, 4346321000000.0], \"yaxis\": \"y\"}, {\"alignmentgroup\": \"True\", \"hovertemplate\": \"variable=cgsExports<br>Season=%{x}<br>value=%{y}<extra></extra>\", \"legendgroup\": \"cgsExports\", \"marker\": {\"color\": \"#B6E880\"}, \"name\": \"cgsExports\", \"offsetgroup\": \"cgsExports\", \"orientation\": \"v\", \"showlegend\": true, \"textposition\": \"auto\", \"type\": \"bar\", \"x\": [\"ij2001\", \"ij2002\", \"ij2003\", \"ij2004\", \"ij2005\", \"ij2006\", \"ij2007\", \"ij2008\", \"ij2009\", \"ij2010\", \"ij2011\", \"ij2012\", \"ij2013\", \"ij2014\", \"ij2015\", \"ij2016\", \"ij2017\", \"ij2018\", \"ij2019\", \"ij2020\", \"ij2021\", \"wd2001\", \"wd2002\", \"wd2003\", \"wd2004\", \"wd2005\", \"wd2006\", \"wd2007\", \"wd2008\", \"wd2009\", \"wd2010\", \"wd2011\", \"wd2012\", \"wd2013\", \"wd2014\", \"wd2015\", \"wd2016\", \"wd2017\", \"wd2018\", \"wd2019\", \"wd2020\", \"wd2021\"], \"xaxis\": \"x\", \"y\": [null, null, null, null, null, null, null, null, null, null, 0.0, 0.0, 70000000.0, 88000000.0, 104000000.0, 102000000.0, 76000000.0, 140000000.0, 148000000.0, 217000000.0, 111000000.0, null, null, null, null, null, null, null, null, null, null, 0.0, 0.0, 131000000.0, 106000000.0, 115000000.0, 104000000.0, 70000000.0, 106000000.0, 160000000.0, 164000000.0, 0.0], \"yaxis\": \"y\"}, {\"alignmentgroup\": \"True\", \"hovertemplate\": \"variable=pplExports<br>Season=%{x}<br>value=%{y}<extra></extra>\", \"legendgroup\": \"pplExports\", \"marker\": {\"color\": \"#FF97FF\"}, \"name\": \"pplExports\", \"offsetgroup\": \"pplExports\", \"orientation\": \"v\", \"showlegend\": true, \"textposition\": \"auto\", \"type\": \"bar\", \"x\": [\"ij2001\", \"ij2002\", \"ij2003\", \"ij2004\", \"ij2005\", \"ij2006\", \"ij2007\", \"ij2008\", \"ij2009\", \"ij2010\", \"ij2011\", \"ij2012\", \"ij2013\", \"ij2014\", \"ij2015\", \"ij2016\", \"ij2017\", \"ij2018\", \"ij2019\", \"ij2020\", \"ij2021\", \"wd2001\", \"wd2002\", \"wd2003\", \"wd2004\", \"wd2005\", \"wd2006\", \"wd2007\", \"wd2008\", \"wd2009\", \"wd2010\", \"wd2011\", \"wd2012\", \"wd2013\", \"wd2014\", \"wd2015\", \"wd2016\", \"wd2017\", \"wd2018\", \"wd2019\", \"wd2020\", \"wd2021\"], \"xaxis\": \"x\", \"y\": [165430000000.0, 266421000000.0, 326783000000.0, 421878000000.0, 323750000000.0, 363594000000.0, 405518000000.0, 432805000000.0, 522972000000.0, 566014000000.0, 803113000000.0, 904110000000.0, 905251000000.0, 819998000000.0, 995836000000.0, 1231773000000.0, 1371431000000.0, 1423705000000.0, 1617874000000.0, 1655220000000.0, 1817253000000.0, 159974000000.0, 247886000000.0, 349157000000.0, 418295000000.0, 246146000000.0, 320492000000.0, 480817000000.0, 503056000000.0, 475703000000.0, 614625000000.0, 642998000000.0, 731242000000.0, 648221000000.0, 705524000000.0, 824017000000.0, 1053447000000.0, 1054755000000.0, 1178752000000.0, 1254052000000.0, 1244595000000.0, 1284665000000.0], \"yaxis\": \"y\"}, {\"alignmentgroup\": \"True\", \"hovertemplate\": \"variable=lngExports<br>Season=%{x}<br>value=%{y}<extra></extra>\", \"legendgroup\": \"lngExports\", \"marker\": {\"color\": \"#FECB52\"}, \"name\": \"lngExports\", \"offsetgroup\": \"lngExports\", \"orientation\": \"v\", \"showlegend\": true, \"textposition\": \"auto\", \"type\": \"bar\", \"x\": [\"ij2001\", \"ij2002\", \"ij2003\", \"ij2004\", \"ij2005\", \"ij2006\", \"ij2007\", \"ij2008\", \"ij2009\", \"ij2010\", \"ij2011\", \"ij2012\", \"ij2013\", \"ij2014\", \"ij2015\", \"ij2016\", \"ij2017\", \"ij2018\", \"ij2019\", \"ij2020\", \"ij2021\", \"wd2001\", \"wd2002\", \"wd2003\", \"wd2004\", \"wd2005\", \"wd2006\", \"wd2007\", \"wd2008\", \"wd2009\", \"wd2010\", \"wd2011\", \"wd2012\", \"wd2013\", \"wd2014\", \"wd2015\", \"wd2016\", \"wd2017\", \"wd2018\", \"wd2019\", \"wd2020\", \"wd2021\"], \"xaxis\": \"x\", \"y\": [39895000000.0, 37387000000.0, 37811000000.0, 35370000000.0, 37422000000.0, 34952000000.0, 26187000000.0, 24897000000.0, 17280000000.0, 31153000000.0, 35468000000.0, 12078000000.0, 93000000.0, 13447000000.0, 16637000000.0, 98626000000.0, 397901000000.0, 615049000000.0, 1047654000000.0, 1084659000000.0, 2074445000000.0, 26446000000.0, 28217000000.0, 27290000000.0, 27978000000.0, 27890000000.0, 23915000000.0, 16163000000.0, 13361000000.0, 17482000000.0, 49128000000.0, 20778000000.0, 5585000000.0, 5524000000.0, 5658000000.0, 19554000000.0, 221738000000.0, 400393000000.0, 591017000000.0, 1131616000000.0, 1419558000000.0, 1686433000000.0], \"yaxis\": \"y\"}],                        {\"barmode\": \"relative\", \"images\": [{\"sizex\": 0.2, \"sizey\": 0.2, \"source\": \"https://upload.wikimedia.org/wikipedia/commons/1/1f/Energy_Information_Administration_logo.svg\", \"x\": 1.07, \"xanchor\": \"center\", \"y\": -0.1, \"yanchor\": \"bottom\"}], \"legend\": {\"title\": {\"text\": \"variable\"}, \"tracegroupgap\": 0, \"traceorder\": \"reversed\"}, \"template\": {\"data\": {\"bar\": [{\"error_x\": {\"color\": \"#2a3f5f\"}, \"error_y\": {\"color\": \"#2a3f5f\"}, \"marker\": {\"line\": {\"color\": \"#E5ECF6\", \"width\": 0.5}}, \"type\": \"bar\"}], \"barpolar\": [{\"marker\": {\"line\": {\"color\": \"#E5ECF6\", \"width\": 0.5}}, \"type\": \"barpolar\"}], \"carpet\": [{\"aaxis\": {\"endlinecolor\": \"#2a3f5f\", \"gridcolor\": \"white\", \"linecolor\": \"white\", \"minorgridcolor\": \"white\", \"startlinecolor\": \"#2a3f5f\"}, \"baxis\": {\"endlinecolor\": \"#2a3f5f\", \"gridcolor\": \"white\", \"linecolor\": \"white\", \"minorgridcolor\": \"white\", \"startlinecolor\": \"#2a3f5f\"}, \"type\": \"carpet\"}], \"choropleth\": [{\"colorbar\": {\"outlinewidth\": 0, \"ticks\": \"\"}, \"type\": \"choropleth\"}], \"contour\": [{\"colorbar\": {\"outlinewidth\": 0, \"ticks\": \"\"}, \"colorscale\": [[0.0, \"#0d0887\"], [0.1111111111111111, \"#46039f\"], [0.2222222222222222, \"#7201a8\"], [0.3333333333333333, \"#9c179e\"], [0.4444444444444444, \"#bd3786\"], [0.5555555555555556, \"#d8576b\"], [0.6666666666666666, \"#ed7953\"], [0.7777777777777778, \"#fb9f3a\"], [0.8888888888888888, \"#fdca26\"], [1.0, \"#f0f921\"]], \"type\": \"contour\"}], \"contourcarpet\": [{\"colorbar\": {\"outlinewidth\": 0, \"ticks\": \"\"}, \"type\": \"contourcarpet\"}], \"heatmap\": [{\"colorbar\": {\"outlinewidth\": 0, \"ticks\": \"\"}, \"colorscale\": [[0.0, \"#0d0887\"], [0.1111111111111111, \"#46039f\"], [0.2222222222222222, \"#7201a8\"], [0.3333333333333333, \"#9c179e\"], [0.4444444444444444, \"#bd3786\"], [0.5555555555555556, \"#d8576b\"], [0.6666666666666666, \"#ed7953\"], [0.7777777777777778, \"#fb9f3a\"], [0.8888888888888888, \"#fdca26\"], [1.0, \"#f0f921\"]], \"type\": \"heatmap\"}], \"heatmapgl\": [{\"colorbar\": {\"outlinewidth\": 0, \"ticks\": \"\"}, \"colorscale\": [[0.0, \"#0d0887\"], [0.1111111111111111, \"#46039f\"], [0.2222222222222222, \"#7201a8\"], [0.3333333333333333, \"#9c179e\"], [0.4444444444444444, \"#bd3786\"], [0.5555555555555556, \"#d8576b\"], [0.6666666666666666, \"#ed7953\"], [0.7777777777777778, \"#fb9f3a\"], [0.8888888888888888, \"#fdca26\"], [1.0, \"#f0f921\"]], \"type\": \"heatmapgl\"}], \"histogram\": [{\"marker\": {\"colorbar\": {\"outlinewidth\": 0, \"ticks\": \"\"}}, \"type\": \"histogram\"}], \"histogram2d\": [{\"colorbar\": {\"outlinewidth\": 0, \"ticks\": \"\"}, \"colorscale\": [[0.0, \"#0d0887\"], [0.1111111111111111, \"#46039f\"], [0.2222222222222222, \"#7201a8\"], [0.3333333333333333, \"#9c179e\"], [0.4444444444444444, \"#bd3786\"], [0.5555555555555556, \"#d8576b\"], [0.6666666666666666, \"#ed7953\"], [0.7777777777777778, \"#fb9f3a\"], [0.8888888888888888, \"#fdca26\"], [1.0, \"#f0f921\"]], \"type\": \"histogram2d\"}], \"histogram2dcontour\": [{\"colorbar\": {\"outlinewidth\": 0, \"ticks\": \"\"}, \"colorscale\": [[0.0, \"#0d0887\"], [0.1111111111111111, \"#46039f\"], [0.2222222222222222, \"#7201a8\"], [0.3333333333333333, \"#9c179e\"], [0.4444444444444444, \"#bd3786\"], [0.5555555555555556, \"#d8576b\"], [0.6666666666666666, \"#ed7953\"], [0.7777777777777778, \"#fb9f3a\"], [0.8888888888888888, \"#fdca26\"], [1.0, \"#f0f921\"]], \"type\": \"histogram2dcontour\"}], \"mesh3d\": [{\"colorbar\": {\"outlinewidth\": 0, \"ticks\": \"\"}, \"type\": \"mesh3d\"}], \"parcoords\": [{\"line\": {\"colorbar\": {\"outlinewidth\": 0, \"ticks\": \"\"}}, \"type\": \"parcoords\"}], \"pie\": [{\"automargin\": true, \"type\": \"pie\"}], \"scatter\": [{\"marker\": {\"colorbar\": {\"outlinewidth\": 0, \"ticks\": \"\"}}, \"type\": \"scatter\"}], \"scatter3d\": [{\"line\": {\"colorbar\": {\"outlinewidth\": 0, \"ticks\": \"\"}}, \"marker\": {\"colorbar\": {\"outlinewidth\": 0, \"ticks\": \"\"}}, \"type\": \"scatter3d\"}], \"scattercarpet\": [{\"marker\": {\"colorbar\": {\"outlinewidth\": 0, \"ticks\": \"\"}}, \"type\": \"scattercarpet\"}], \"scattergeo\": [{\"marker\": {\"colorbar\": {\"outlinewidth\": 0, \"ticks\": \"\"}}, \"type\": \"scattergeo\"}], \"scattergl\": [{\"marker\": {\"colorbar\": {\"outlinewidth\": 0, \"ticks\": \"\"}}, \"type\": \"scattergl\"}], \"scattermapbox\": [{\"marker\": {\"colorbar\": {\"outlinewidth\": 0, \"ticks\": \"\"}}, \"type\": \"scattermapbox\"}], \"scatterpolar\": [{\"marker\": {\"colorbar\": {\"outlinewidth\": 0, \"ticks\": \"\"}}, \"type\": \"scatterpolar\"}], \"scatterpolargl\": [{\"marker\": {\"colorbar\": {\"outlinewidth\": 0, \"ticks\": \"\"}}, \"type\": \"scatterpolargl\"}], \"scatterternary\": [{\"marker\": {\"colorbar\": {\"outlinewidth\": 0, \"ticks\": \"\"}}, \"type\": \"scatterternary\"}], \"surface\": [{\"colorbar\": {\"outlinewidth\": 0, \"ticks\": \"\"}, \"colorscale\": [[0.0, \"#0d0887\"], [0.1111111111111111, \"#46039f\"], [0.2222222222222222, \"#7201a8\"], [0.3333333333333333, \"#9c179e\"], [0.4444444444444444, \"#bd3786\"], [0.5555555555555556, \"#d8576b\"], [0.6666666666666666, \"#ed7953\"], [0.7777777777777778, \"#fb9f3a\"], [0.8888888888888888, \"#fdca26\"], [1.0, \"#f0f921\"]], \"type\": \"surface\"}], \"table\": [{\"cells\": {\"fill\": {\"color\": \"#EBF0F8\"}, \"line\": {\"color\": \"white\"}}, \"header\": {\"fill\": {\"color\": \"#C8D4E3\"}, \"line\": {\"color\": \"white\"}}, \"type\": \"table\"}]}, \"layout\": {\"annotationdefaults\": {\"arrowcolor\": \"#2a3f5f\", \"arrowhead\": 0, \"arrowwidth\": 1}, \"coloraxis\": {\"colorbar\": {\"outlinewidth\": 0, \"ticks\": \"\"}}, \"colorscale\": {\"diverging\": [[0, \"#8e0152\"], [0.1, \"#c51b7d\"], [0.2, \"#de77ae\"], [0.3, \"#f1b6da\"], [0.4, \"#fde0ef\"], [0.5, \"#f7f7f7\"], [0.6, \"#e6f5d0\"], [0.7, \"#b8e186\"], [0.8, \"#7fbc41\"], [0.9, \"#4d9221\"], [1, \"#276419\"]], \"sequential\": [[0.0, \"#0d0887\"], [0.1111111111111111, \"#46039f\"], [0.2222222222222222, \"#7201a8\"], [0.3333333333333333, \"#9c179e\"], [0.4444444444444444, \"#bd3786\"], [0.5555555555555556, \"#d8576b\"], [0.6666666666666666, \"#ed7953\"], [0.7777777777777778, \"#fb9f3a\"], [0.8888888888888888, \"#fdca26\"], [1.0, \"#f0f921\"]], \"sequentialminus\": [[0.0, \"#0d0887\"], [0.1111111111111111, \"#46039f\"], [0.2222222222222222, \"#7201a8\"], [0.3333333333333333, \"#9c179e\"], [0.4444444444444444, \"#bd3786\"], [0.5555555555555556, \"#d8576b\"], [0.6666666666666666, \"#ed7953\"], [0.7777777777777778, \"#fb9f3a\"], [0.8888888888888888, \"#fdca26\"], [1.0, \"#f0f921\"]]}, \"colorway\": [\"#636efa\", \"#EF553B\", \"#00cc96\", \"#ab63fa\", \"#FFA15A\", \"#19d3f3\", \"#FF6692\", \"#B6E880\", \"#FF97FF\", \"#FECB52\"], \"font\": {\"color\": \"#2a3f5f\"}, \"geo\": {\"bgcolor\": \"white\", \"lakecolor\": \"white\", \"landcolor\": \"#E5ECF6\", \"showlakes\": true, \"showland\": true, \"subunitcolor\": \"white\"}, \"hoverlabel\": {\"align\": \"left\"}, \"hovermode\": \"closest\", \"mapbox\": {\"style\": \"light\"}, \"paper_bgcolor\": \"white\", \"plot_bgcolor\": \"#E5ECF6\", \"polar\": {\"angularaxis\": {\"gridcolor\": \"white\", \"linecolor\": \"white\", \"ticks\": \"\"}, \"bgcolor\": \"#E5ECF6\", \"radialaxis\": {\"gridcolor\": \"white\", \"linecolor\": \"white\", \"ticks\": \"\"}}, \"scene\": {\"xaxis\": {\"backgroundcolor\": \"#E5ECF6\", \"gridcolor\": \"white\", \"gridwidth\": 2, \"linecolor\": \"white\", \"showbackground\": true, \"ticks\": \"\", \"zerolinecolor\": \"white\"}, \"yaxis\": {\"backgroundcolor\": \"#E5ECF6\", \"gridcolor\": \"white\", \"gridwidth\": 2, \"linecolor\": \"white\", \"showbackground\": true, \"ticks\": \"\", \"zerolinecolor\": \"white\"}, \"zaxis\": {\"backgroundcolor\": \"#E5ECF6\", \"gridcolor\": \"white\", \"gridwidth\": 2, \"linecolor\": \"white\", \"showbackground\": true, \"ticks\": \"\", \"zerolinecolor\": \"white\"}}, \"shapedefaults\": {\"line\": {\"color\": \"#2a3f5f\"}}, \"ternary\": {\"aaxis\": {\"gridcolor\": \"white\", \"linecolor\": \"white\", \"ticks\": \"\"}, \"baxis\": {\"gridcolor\": \"white\", \"linecolor\": \"white\", \"ticks\": \"\"}, \"bgcolor\": \"#E5ECF6\", \"caxis\": {\"gridcolor\": \"white\", \"linecolor\": \"white\", \"ticks\": \"\"}}, \"title\": {\"x\": 0.05}, \"xaxis\": {\"automargin\": true, \"gridcolor\": \"white\", \"linecolor\": \"white\", \"ticks\": \"\", \"title\": {\"standoff\": 15}, \"zerolinecolor\": \"white\", \"zerolinewidth\": 2}, \"yaxis\": {\"automargin\": true, \"gridcolor\": \"white\", \"linecolor\": \"white\", \"ticks\": \"\", \"title\": {\"standoff\": 15}, \"zerolinecolor\": \"white\", \"zerolinewidth\": 2}}}, \"title\": {\"text\": \"U.S. NG demand by storage seasons\"}, \"xaxis\": {\"anchor\": \"y\", \"domain\": [0.0, 1.0], \"title\": {\"text\": \"storage season year\"}}, \"yaxis\": {\"anchor\": \"x\", \"domain\": [0.0, 1.0], \"title\": {\"text\": \"demand in cubic feet\"}}},                        {\"responsive\": true}                    ).then(function(){\n",
       "                            \n",
       "var gd = document.getElementById('19e2cf70-e86e-4409-bf16-00e5035128a5');\n",
       "var x = new MutationObserver(function (mutations, observer) {{\n",
       "        var display = window.getComputedStyle(gd).display;\n",
       "        if (!display || display === 'none') {{\n",
       "            console.log([gd, 'removed!']);\n",
       "            Plotly.purge(gd);\n",
       "            observer.disconnect();\n",
       "        }}\n",
       "}});\n",
       "\n",
       "// Listen for the removal of the full notebook cells\n",
       "var notebookContainer = gd.closest('#notebook-container');\n",
       "if (notebookContainer) {{\n",
       "    x.observe(notebookContainer, {childList: true});\n",
       "}}\n",
       "\n",
       "// Listen for the clearing of the current output cell\n",
       "var outputEl = gd.closest('.output');\n",
       "if (outputEl) {{\n",
       "    x.observe(outputEl, {childList: true});\n",
       "}}\n",
       "\n",
       "                        })                };                });            </script>        </div>"
      ]
     },
     "metadata": {},
     "output_type": "display_data"
    }
   ],
   "source": [
    "fig = px.bar(sData,  title=\"U.S. NG demand by storage seasons\")\n",
    "fig.update_layout(xaxis_title='storage season year', yaxis_title='demand in cubic feet',legend={'traceorder': 'reversed'})\n",
    "fig.layout.images = eiaLg\n",
    "fig.show()"
   ]
  },
  {
   "cell_type": "code",
   "execution_count": 6,
   "metadata": {},
   "outputs": [],
   "source": [
    "ijSeason = sData[sData.index.str.contains('ij')]\n",
    "wdSeason = sData[sData.index.str.contains('wd')]"
   ]
  },
  {
   "cell_type": "code",
   "execution_count": 83,
   "metadata": {
    "scrolled": false
   },
   "outputs": [
    {
     "data": {
      "application/vnd.plotly.v1+json": {
       "config": {
        "plotlyServerURL": "https://plot.ly"
       },
       "data": [
        {
         "alignmentgroup": "True",
         "hovertemplate": "variable=comDemand<br>Season=%{x}<br>value=%{y}<extra></extra>",
         "legendgroup": "comDemand",
         "marker": {
          "color": "#636efa"
         },
         "name": "comDemand",
         "offsetgroup": "comDemand",
         "orientation": "v",
         "showlegend": true,
         "textposition": "auto",
         "type": "bar",
         "x": [
          "ij2001",
          "ij2002",
          "ij2003",
          "ij2004",
          "ij2005",
          "ij2006",
          "ij2007",
          "ij2008",
          "ij2009",
          "ij2010",
          "ij2011",
          "ij2012",
          "ij2013",
          "ij2014",
          "ij2015",
          "ij2016",
          "ij2017",
          "ij2018",
          "ij2019",
          "ij2020",
          "ij2021"
         ],
         "xaxis": "x",
         "y": [
          1147756000000,
          1218730000000,
          1149964000000,
          1129442000000,
          1089222000000,
          1089217000000,
          1097467000000,
          1137717000000,
          1135818000000,
          1071378000000,
          1147997000000,
          1101544000000,
          1174865000000,
          1195245000000,
          1130252000000,
          1151209000000,
          1144902000000,
          1272512000000,
          1218124000000,
          1145372000000,
          1193417000000
         ],
         "yaxis": "y"
        },
        {
         "alignmentgroup": "True",
         "hovertemplate": "variable=resDemand<br>Season=%{x}<br>value=%{y}<extra></extra>",
         "legendgroup": "resDemand",
         "marker": {
          "color": "#EF553B"
         },
         "name": "resDemand",
         "offsetgroup": "resDemand",
         "orientation": "v",
         "showlegend": true,
         "textposition": "auto",
         "type": "bar",
         "x": [
          "ij2001",
          "ij2002",
          "ij2003",
          "ij2004",
          "ij2005",
          "ij2006",
          "ij2007",
          "ij2008",
          "ij2009",
          "ij2010",
          "ij2011",
          "ij2012",
          "ij2013",
          "ij2014",
          "ij2015",
          "ij2016",
          "ij2017",
          "ij2018",
          "ij2019",
          "ij2020",
          "ij2021"
         ],
         "xaxis": "x",
         "y": [
          1362551000000,
          1445472000000,
          1422297000000,
          1324204000000,
          1339023000000,
          1289560000000,
          1280943000000,
          1328862000000,
          1333724000000,
          1181982000000,
          1253347000000,
          1137467000000,
          1247012000000,
          1236981000000,
          1141967000000,
          1148663000000,
          1133388000000,
          1302445000000,
          1225395000000,
          1346143000000,
          1207056000000
         ],
         "yaxis": "y"
        },
        {
         "alignmentgroup": "True",
         "hovertemplate": "variable=indDemand<br>Season=%{x}<br>value=%{y}<extra></extra>",
         "legendgroup": "indDemand",
         "marker": {
          "color": "#00cc96"
         },
         "name": "indDemand",
         "offsetgroup": "indDemand",
         "orientation": "v",
         "showlegend": true,
         "textposition": "auto",
         "type": "bar",
         "x": [
          "ij2001",
          "ij2002",
          "ij2003",
          "ij2004",
          "ij2005",
          "ij2006",
          "ij2007",
          "ij2008",
          "ij2009",
          "ij2010",
          "ij2011",
          "ij2012",
          "ij2013",
          "ij2014",
          "ij2015",
          "ij2016",
          "ij2017",
          "ij2018",
          "ij2019",
          "ij2020",
          "ij2021"
         ],
         "xaxis": "x",
         "y": [
          4091229000000,
          4258547000000,
          3961268000000,
          4033586000000,
          3650543000000,
          3669977000000,
          3671851000000,
          3683151000000,
          3396559000000,
          3770022000000,
          3883414000000,
          4061727000000,
          4113863000000,
          4234153000000,
          4169280000000,
          4293721000000,
          4406459000000,
          4694278000000,
          4633593000000,
          4459378000000,
          4568820000000
         ],
         "yaxis": "y"
        },
        {
         "alignmentgroup": "True",
         "hovertemplate": "variable=vehDemand<br>Season=%{x}<br>value=%{y}<extra></extra>",
         "legendgroup": "vehDemand",
         "marker": {
          "color": "#ab63fa"
         },
         "name": "vehDemand",
         "offsetgroup": "vehDemand",
         "orientation": "v",
         "showlegend": true,
         "textposition": "auto",
         "type": "bar",
         "x": [
          "ij2001",
          "ij2002",
          "ij2003",
          "ij2004",
          "ij2005",
          "ij2006",
          "ij2007",
          "ij2008",
          "ij2009",
          "ij2010",
          "ij2011",
          "ij2012",
          "ij2013",
          "ij2014",
          "ij2015",
          "ij2016",
          "ij2017",
          "ij2018",
          "ij2019",
          "ij2020",
          "ij2021"
         ],
         "xaxis": "x",
         "y": [
          8525000000,
          8767000000,
          10714000000,
          11991000000,
          13419000000,
          13917000000,
          14454000000,
          15194000000,
          15983000000,
          16804000000,
          17576000000,
          17523000000,
          17615000000,
          20688000000,
          23094000000,
          24575000000,
          28262000000,
          29560000000,
          31170000000,
          28725000000,
          31167000000
         ],
         "yaxis": "y"
        },
        {
         "alignmentgroup": "True",
         "hovertemplate": "variable=l&pDemand<br>Season=%{x}<br>value=%{y}<extra></extra>",
         "legendgroup": "l&pDemand",
         "marker": {
          "color": "#FFA15A"
         },
         "name": "l&pDemand",
         "offsetgroup": "l&pDemand",
         "orientation": "v",
         "showlegend": true,
         "textposition": "auto",
         "type": "bar",
         "x": [
          "ij2001",
          "ij2002",
          "ij2003",
          "ij2004",
          "ij2005",
          "ij2006",
          "ij2007",
          "ij2008",
          "ij2009",
          "ij2010",
          "ij2011",
          "ij2012",
          "ij2013",
          "ij2014",
          "ij2015",
          "ij2016",
          "ij2017",
          "ij2018",
          "ij2019",
          "ij2020",
          "ij2021"
         ],
         "xaxis": "x",
         "y": [
          653962000000,
          648815000000,
          658173000000,
          638640000000,
          644106000000,
          668287000000,
          718952000000,
          710117000000,
          744452000000,
          749916000000,
          774486000000,
          816393000000,
          872148000000,
          894935000000,
          927052000000,
          900377000000,
          927994000000,
          995839000000,
          1069816000000,
          1034620000000,
          1086522000000
         ],
         "yaxis": "y"
        },
        {
         "alignmentgroup": "True",
         "hovertemplate": "variable=pplDemand<br>Season=%{x}<br>value=%{y}<extra></extra>",
         "legendgroup": "pplDemand",
         "marker": {
          "color": "#19d3f3"
         },
         "name": "pplDemand",
         "offsetgroup": "pplDemand",
         "orientation": "v",
         "showlegend": true,
         "textposition": "auto",
         "type": "bar",
         "x": [
          "ij2001",
          "ij2002",
          "ij2003",
          "ij2004",
          "ij2005",
          "ij2006",
          "ij2007",
          "ij2008",
          "ij2009",
          "ij2010",
          "ij2011",
          "ij2012",
          "ij2013",
          "ij2014",
          "ij2015",
          "ij2016",
          "ij2017",
          "ij2018",
          "ij2019",
          "ij2020",
          "ij2021"
         ],
         "xaxis": "x",
         "y": [
          311606000000,
          337704000000,
          285095000000,
          275471000000,
          289733000000,
          304262000000,
          311914000000,
          316805000000,
          330445000000,
          331600000000,
          343305000000,
          383395000000,
          407824000000,
          339408000000,
          339469000000,
          355787000000,
          367042000000,
          449266000000,
          511894000000,
          519447000000,
          518786000000
         ],
         "yaxis": "y"
        },
        {
         "alignmentgroup": "True",
         "hovertemplate": "variable=PowerGen<br>Season=%{x}<br>value=%{y}<extra></extra>",
         "legendgroup": "PowerGen",
         "marker": {
          "color": "#FF6692"
         },
         "name": "PowerGen",
         "offsetgroup": "PowerGen",
         "orientation": "v",
         "showlegend": true,
         "textposition": "auto",
         "type": "bar",
         "x": [
          "ij2001",
          "ij2002",
          "ij2003",
          "ij2004",
          "ij2005",
          "ij2006",
          "ij2007",
          "ij2008",
          "ij2009",
          "ij2010",
          "ij2011",
          "ij2012",
          "ij2013",
          "ij2014",
          "ij2015",
          "ij2016",
          "ij2017",
          "ij2018",
          "ij2019",
          "ij2020",
          "ij2021"
         ],
         "xaxis": "x",
         "y": [
          3608756000000,
          3827968000000,
          3372893000000,
          3590835000000,
          3988001000000,
          4339677000000,
          4606073000000,
          4303304000000,
          4455026000000,
          4844081000000,
          4912019000000,
          5964095000000,
          5116959000000,
          5132024000000,
          6043954000000,
          6443918000000,
          5913791000000,
          6831215000000,
          7116343000000,
          7287079000000,
          7091269000000
         ],
         "yaxis": "y"
        },
        {
         "alignmentgroup": "True",
         "hovertemplate": "variable=cgsExports<br>Season=%{x}<br>value=%{y}<extra></extra>",
         "legendgroup": "cgsExports",
         "marker": {
          "color": "#B6E880"
         },
         "name": "cgsExports",
         "offsetgroup": "cgsExports",
         "orientation": "v",
         "showlegend": true,
         "textposition": "auto",
         "type": "bar",
         "x": [
          "ij2001",
          "ij2002",
          "ij2003",
          "ij2004",
          "ij2005",
          "ij2006",
          "ij2007",
          "ij2008",
          "ij2009",
          "ij2010",
          "ij2011",
          "ij2012",
          "ij2013",
          "ij2014",
          "ij2015",
          "ij2016",
          "ij2017",
          "ij2018",
          "ij2019",
          "ij2020",
          "ij2021"
         ],
         "xaxis": "x",
         "y": [
          null,
          null,
          null,
          null,
          null,
          null,
          null,
          null,
          null,
          null,
          0,
          0,
          70000000,
          88000000,
          104000000,
          102000000,
          76000000,
          140000000,
          148000000,
          217000000,
          111000000
         ],
         "yaxis": "y"
        },
        {
         "alignmentgroup": "True",
         "hovertemplate": "variable=pplExports<br>Season=%{x}<br>value=%{y}<extra></extra>",
         "legendgroup": "pplExports",
         "marker": {
          "color": "#FF97FF"
         },
         "name": "pplExports",
         "offsetgroup": "pplExports",
         "orientation": "v",
         "showlegend": true,
         "textposition": "auto",
         "type": "bar",
         "x": [
          "ij2001",
          "ij2002",
          "ij2003",
          "ij2004",
          "ij2005",
          "ij2006",
          "ij2007",
          "ij2008",
          "ij2009",
          "ij2010",
          "ij2011",
          "ij2012",
          "ij2013",
          "ij2014",
          "ij2015",
          "ij2016",
          "ij2017",
          "ij2018",
          "ij2019",
          "ij2020",
          "ij2021"
         ],
         "xaxis": "x",
         "y": [
          165430000000,
          266421000000,
          326783000000,
          421878000000,
          323750000000,
          363594000000,
          405518000000,
          432805000000,
          522972000000,
          566014000000,
          803113000000,
          904110000000,
          905251000000,
          819998000000,
          995836000000,
          1231773000000,
          1371431000000,
          1423705000000,
          1617874000000,
          1655220000000,
          1817253000000
         ],
         "yaxis": "y"
        },
        {
         "alignmentgroup": "True",
         "hovertemplate": "variable=lngExports<br>Season=%{x}<br>value=%{y}<extra></extra>",
         "legendgroup": "lngExports",
         "marker": {
          "color": "#FECB52"
         },
         "name": "lngExports",
         "offsetgroup": "lngExports",
         "orientation": "v",
         "showlegend": true,
         "textposition": "auto",
         "type": "bar",
         "x": [
          "ij2001",
          "ij2002",
          "ij2003",
          "ij2004",
          "ij2005",
          "ij2006",
          "ij2007",
          "ij2008",
          "ij2009",
          "ij2010",
          "ij2011",
          "ij2012",
          "ij2013",
          "ij2014",
          "ij2015",
          "ij2016",
          "ij2017",
          "ij2018",
          "ij2019",
          "ij2020",
          "ij2021"
         ],
         "xaxis": "x",
         "y": [
          39895000000,
          37387000000,
          37811000000,
          35370000000,
          37422000000,
          34952000000,
          26187000000,
          24897000000,
          17280000000,
          31153000000,
          35468000000,
          12078000000,
          93000000,
          13447000000,
          16637000000,
          98626000000,
          397901000000,
          615049000000,
          1047654000000,
          1084659000000,
          2074445000000
         ],
         "yaxis": "y"
        }
       ],
       "layout": {
        "barmode": "relative",
        "images": [
         {
          "sizex": 0.2,
          "sizey": 0.2,
          "source": "https://upload.wikimedia.org/wikipedia/commons/1/1f/Energy_Information_Administration_logo.svg",
          "x": 1.07,
          "xanchor": "center",
          "y": -0.1,
          "yanchor": "bottom"
         }
        ],
        "legend": {
         "title": {
          "text": "variable"
         },
         "tracegroupgap": 0,
         "traceorder": "reversed"
        },
        "template": {
         "data": {
          "bar": [
           {
            "error_x": {
             "color": "#2a3f5f"
            },
            "error_y": {
             "color": "#2a3f5f"
            },
            "marker": {
             "line": {
              "color": "#E5ECF6",
              "width": 0.5
             }
            },
            "type": "bar"
           }
          ],
          "barpolar": [
           {
            "marker": {
             "line": {
              "color": "#E5ECF6",
              "width": 0.5
             }
            },
            "type": "barpolar"
           }
          ],
          "carpet": [
           {
            "aaxis": {
             "endlinecolor": "#2a3f5f",
             "gridcolor": "white",
             "linecolor": "white",
             "minorgridcolor": "white",
             "startlinecolor": "#2a3f5f"
            },
            "baxis": {
             "endlinecolor": "#2a3f5f",
             "gridcolor": "white",
             "linecolor": "white",
             "minorgridcolor": "white",
             "startlinecolor": "#2a3f5f"
            },
            "type": "carpet"
           }
          ],
          "choropleth": [
           {
            "colorbar": {
             "outlinewidth": 0,
             "ticks": ""
            },
            "type": "choropleth"
           }
          ],
          "contour": [
           {
            "colorbar": {
             "outlinewidth": 0,
             "ticks": ""
            },
            "colorscale": [
             [
              0,
              "#0d0887"
             ],
             [
              0.1111111111111111,
              "#46039f"
             ],
             [
              0.2222222222222222,
              "#7201a8"
             ],
             [
              0.3333333333333333,
              "#9c179e"
             ],
             [
              0.4444444444444444,
              "#bd3786"
             ],
             [
              0.5555555555555556,
              "#d8576b"
             ],
             [
              0.6666666666666666,
              "#ed7953"
             ],
             [
              0.7777777777777778,
              "#fb9f3a"
             ],
             [
              0.8888888888888888,
              "#fdca26"
             ],
             [
              1,
              "#f0f921"
             ]
            ],
            "type": "contour"
           }
          ],
          "contourcarpet": [
           {
            "colorbar": {
             "outlinewidth": 0,
             "ticks": ""
            },
            "type": "contourcarpet"
           }
          ],
          "heatmap": [
           {
            "colorbar": {
             "outlinewidth": 0,
             "ticks": ""
            },
            "colorscale": [
             [
              0,
              "#0d0887"
             ],
             [
              0.1111111111111111,
              "#46039f"
             ],
             [
              0.2222222222222222,
              "#7201a8"
             ],
             [
              0.3333333333333333,
              "#9c179e"
             ],
             [
              0.4444444444444444,
              "#bd3786"
             ],
             [
              0.5555555555555556,
              "#d8576b"
             ],
             [
              0.6666666666666666,
              "#ed7953"
             ],
             [
              0.7777777777777778,
              "#fb9f3a"
             ],
             [
              0.8888888888888888,
              "#fdca26"
             ],
             [
              1,
              "#f0f921"
             ]
            ],
            "type": "heatmap"
           }
          ],
          "heatmapgl": [
           {
            "colorbar": {
             "outlinewidth": 0,
             "ticks": ""
            },
            "colorscale": [
             [
              0,
              "#0d0887"
             ],
             [
              0.1111111111111111,
              "#46039f"
             ],
             [
              0.2222222222222222,
              "#7201a8"
             ],
             [
              0.3333333333333333,
              "#9c179e"
             ],
             [
              0.4444444444444444,
              "#bd3786"
             ],
             [
              0.5555555555555556,
              "#d8576b"
             ],
             [
              0.6666666666666666,
              "#ed7953"
             ],
             [
              0.7777777777777778,
              "#fb9f3a"
             ],
             [
              0.8888888888888888,
              "#fdca26"
             ],
             [
              1,
              "#f0f921"
             ]
            ],
            "type": "heatmapgl"
           }
          ],
          "histogram": [
           {
            "marker": {
             "colorbar": {
              "outlinewidth": 0,
              "ticks": ""
             }
            },
            "type": "histogram"
           }
          ],
          "histogram2d": [
           {
            "colorbar": {
             "outlinewidth": 0,
             "ticks": ""
            },
            "colorscale": [
             [
              0,
              "#0d0887"
             ],
             [
              0.1111111111111111,
              "#46039f"
             ],
             [
              0.2222222222222222,
              "#7201a8"
             ],
             [
              0.3333333333333333,
              "#9c179e"
             ],
             [
              0.4444444444444444,
              "#bd3786"
             ],
             [
              0.5555555555555556,
              "#d8576b"
             ],
             [
              0.6666666666666666,
              "#ed7953"
             ],
             [
              0.7777777777777778,
              "#fb9f3a"
             ],
             [
              0.8888888888888888,
              "#fdca26"
             ],
             [
              1,
              "#f0f921"
             ]
            ],
            "type": "histogram2d"
           }
          ],
          "histogram2dcontour": [
           {
            "colorbar": {
             "outlinewidth": 0,
             "ticks": ""
            },
            "colorscale": [
             [
              0,
              "#0d0887"
             ],
             [
              0.1111111111111111,
              "#46039f"
             ],
             [
              0.2222222222222222,
              "#7201a8"
             ],
             [
              0.3333333333333333,
              "#9c179e"
             ],
             [
              0.4444444444444444,
              "#bd3786"
             ],
             [
              0.5555555555555556,
              "#d8576b"
             ],
             [
              0.6666666666666666,
              "#ed7953"
             ],
             [
              0.7777777777777778,
              "#fb9f3a"
             ],
             [
              0.8888888888888888,
              "#fdca26"
             ],
             [
              1,
              "#f0f921"
             ]
            ],
            "type": "histogram2dcontour"
           }
          ],
          "mesh3d": [
           {
            "colorbar": {
             "outlinewidth": 0,
             "ticks": ""
            },
            "type": "mesh3d"
           }
          ],
          "parcoords": [
           {
            "line": {
             "colorbar": {
              "outlinewidth": 0,
              "ticks": ""
             }
            },
            "type": "parcoords"
           }
          ],
          "pie": [
           {
            "automargin": true,
            "type": "pie"
           }
          ],
          "scatter": [
           {
            "marker": {
             "colorbar": {
              "outlinewidth": 0,
              "ticks": ""
             }
            },
            "type": "scatter"
           }
          ],
          "scatter3d": [
           {
            "line": {
             "colorbar": {
              "outlinewidth": 0,
              "ticks": ""
             }
            },
            "marker": {
             "colorbar": {
              "outlinewidth": 0,
              "ticks": ""
             }
            },
            "type": "scatter3d"
           }
          ],
          "scattercarpet": [
           {
            "marker": {
             "colorbar": {
              "outlinewidth": 0,
              "ticks": ""
             }
            },
            "type": "scattercarpet"
           }
          ],
          "scattergeo": [
           {
            "marker": {
             "colorbar": {
              "outlinewidth": 0,
              "ticks": ""
             }
            },
            "type": "scattergeo"
           }
          ],
          "scattergl": [
           {
            "marker": {
             "colorbar": {
              "outlinewidth": 0,
              "ticks": ""
             }
            },
            "type": "scattergl"
           }
          ],
          "scattermapbox": [
           {
            "marker": {
             "colorbar": {
              "outlinewidth": 0,
              "ticks": ""
             }
            },
            "type": "scattermapbox"
           }
          ],
          "scatterpolar": [
           {
            "marker": {
             "colorbar": {
              "outlinewidth": 0,
              "ticks": ""
             }
            },
            "type": "scatterpolar"
           }
          ],
          "scatterpolargl": [
           {
            "marker": {
             "colorbar": {
              "outlinewidth": 0,
              "ticks": ""
             }
            },
            "type": "scatterpolargl"
           }
          ],
          "scatterternary": [
           {
            "marker": {
             "colorbar": {
              "outlinewidth": 0,
              "ticks": ""
             }
            },
            "type": "scatterternary"
           }
          ],
          "surface": [
           {
            "colorbar": {
             "outlinewidth": 0,
             "ticks": ""
            },
            "colorscale": [
             [
              0,
              "#0d0887"
             ],
             [
              0.1111111111111111,
              "#46039f"
             ],
             [
              0.2222222222222222,
              "#7201a8"
             ],
             [
              0.3333333333333333,
              "#9c179e"
             ],
             [
              0.4444444444444444,
              "#bd3786"
             ],
             [
              0.5555555555555556,
              "#d8576b"
             ],
             [
              0.6666666666666666,
              "#ed7953"
             ],
             [
              0.7777777777777778,
              "#fb9f3a"
             ],
             [
              0.8888888888888888,
              "#fdca26"
             ],
             [
              1,
              "#f0f921"
             ]
            ],
            "type": "surface"
           }
          ],
          "table": [
           {
            "cells": {
             "fill": {
              "color": "#EBF0F8"
             },
             "line": {
              "color": "white"
             }
            },
            "header": {
             "fill": {
              "color": "#C8D4E3"
             },
             "line": {
              "color": "white"
             }
            },
            "type": "table"
           }
          ]
         },
         "layout": {
          "annotationdefaults": {
           "arrowcolor": "#2a3f5f",
           "arrowhead": 0,
           "arrowwidth": 1
          },
          "coloraxis": {
           "colorbar": {
            "outlinewidth": 0,
            "ticks": ""
           }
          },
          "colorscale": {
           "diverging": [
            [
             0,
             "#8e0152"
            ],
            [
             0.1,
             "#c51b7d"
            ],
            [
             0.2,
             "#de77ae"
            ],
            [
             0.3,
             "#f1b6da"
            ],
            [
             0.4,
             "#fde0ef"
            ],
            [
             0.5,
             "#f7f7f7"
            ],
            [
             0.6,
             "#e6f5d0"
            ],
            [
             0.7,
             "#b8e186"
            ],
            [
             0.8,
             "#7fbc41"
            ],
            [
             0.9,
             "#4d9221"
            ],
            [
             1,
             "#276419"
            ]
           ],
           "sequential": [
            [
             0,
             "#0d0887"
            ],
            [
             0.1111111111111111,
             "#46039f"
            ],
            [
             0.2222222222222222,
             "#7201a8"
            ],
            [
             0.3333333333333333,
             "#9c179e"
            ],
            [
             0.4444444444444444,
             "#bd3786"
            ],
            [
             0.5555555555555556,
             "#d8576b"
            ],
            [
             0.6666666666666666,
             "#ed7953"
            ],
            [
             0.7777777777777778,
             "#fb9f3a"
            ],
            [
             0.8888888888888888,
             "#fdca26"
            ],
            [
             1,
             "#f0f921"
            ]
           ],
           "sequentialminus": [
            [
             0,
             "#0d0887"
            ],
            [
             0.1111111111111111,
             "#46039f"
            ],
            [
             0.2222222222222222,
             "#7201a8"
            ],
            [
             0.3333333333333333,
             "#9c179e"
            ],
            [
             0.4444444444444444,
             "#bd3786"
            ],
            [
             0.5555555555555556,
             "#d8576b"
            ],
            [
             0.6666666666666666,
             "#ed7953"
            ],
            [
             0.7777777777777778,
             "#fb9f3a"
            ],
            [
             0.8888888888888888,
             "#fdca26"
            ],
            [
             1,
             "#f0f921"
            ]
           ]
          },
          "colorway": [
           "#636efa",
           "#EF553B",
           "#00cc96",
           "#ab63fa",
           "#FFA15A",
           "#19d3f3",
           "#FF6692",
           "#B6E880",
           "#FF97FF",
           "#FECB52"
          ],
          "font": {
           "color": "#2a3f5f"
          },
          "geo": {
           "bgcolor": "white",
           "lakecolor": "white",
           "landcolor": "#E5ECF6",
           "showlakes": true,
           "showland": true,
           "subunitcolor": "white"
          },
          "hoverlabel": {
           "align": "left"
          },
          "hovermode": "closest",
          "mapbox": {
           "style": "light"
          },
          "paper_bgcolor": "white",
          "plot_bgcolor": "#E5ECF6",
          "polar": {
           "angularaxis": {
            "gridcolor": "white",
            "linecolor": "white",
            "ticks": ""
           },
           "bgcolor": "#E5ECF6",
           "radialaxis": {
            "gridcolor": "white",
            "linecolor": "white",
            "ticks": ""
           }
          },
          "scene": {
           "xaxis": {
            "backgroundcolor": "#E5ECF6",
            "gridcolor": "white",
            "gridwidth": 2,
            "linecolor": "white",
            "showbackground": true,
            "ticks": "",
            "zerolinecolor": "white"
           },
           "yaxis": {
            "backgroundcolor": "#E5ECF6",
            "gridcolor": "white",
            "gridwidth": 2,
            "linecolor": "white",
            "showbackground": true,
            "ticks": "",
            "zerolinecolor": "white"
           },
           "zaxis": {
            "backgroundcolor": "#E5ECF6",
            "gridcolor": "white",
            "gridwidth": 2,
            "linecolor": "white",
            "showbackground": true,
            "ticks": "",
            "zerolinecolor": "white"
           }
          },
          "shapedefaults": {
           "line": {
            "color": "#2a3f5f"
           }
          },
          "ternary": {
           "aaxis": {
            "gridcolor": "white",
            "linecolor": "white",
            "ticks": ""
           },
           "baxis": {
            "gridcolor": "white",
            "linecolor": "white",
            "ticks": ""
           },
           "bgcolor": "#E5ECF6",
           "caxis": {
            "gridcolor": "white",
            "linecolor": "white",
            "ticks": ""
           }
          },
          "title": {
           "x": 0.05
          },
          "xaxis": {
           "automargin": true,
           "gridcolor": "white",
           "linecolor": "white",
           "ticks": "",
           "title": {
            "standoff": 15
           },
           "zerolinecolor": "white",
           "zerolinewidth": 2
          },
          "yaxis": {
           "automargin": true,
           "gridcolor": "white",
           "linecolor": "white",
           "ticks": "",
           "title": {
            "standoff": 15
           },
           "zerolinecolor": "white",
           "zerolinewidth": 2
          }
         }
        },
        "title": {
         "text": "U.S. NG demand during injection seasons"
        },
        "xaxis": {
         "anchor": "y",
         "domain": [
          0,
          1
         ],
         "title": {
          "text": "injection season year"
         }
        },
        "yaxis": {
         "anchor": "x",
         "domain": [
          0,
          1
         ],
         "title": {
          "text": "demand in cubic feet"
         }
        }
       }
      },
      "text/html": [
       "<div>                            <div id=\"d64977ad-31a3-4e16-8739-6bb0bdbbbcfe\" class=\"plotly-graph-div\" style=\"height:525px; width:100%;\"></div>            <script type=\"text/javascript\">                require([\"plotly\"], function(Plotly) {                    window.PLOTLYENV=window.PLOTLYENV || {};                                    if (document.getElementById(\"d64977ad-31a3-4e16-8739-6bb0bdbbbcfe\")) {                    Plotly.newPlot(                        \"d64977ad-31a3-4e16-8739-6bb0bdbbbcfe\",                        [{\"alignmentgroup\": \"True\", \"hovertemplate\": \"variable=comDemand<br>Season=%{x}<br>value=%{y}<extra></extra>\", \"legendgroup\": \"comDemand\", \"marker\": {\"color\": \"#636efa\"}, \"name\": \"comDemand\", \"offsetgroup\": \"comDemand\", \"orientation\": \"v\", \"showlegend\": true, \"textposition\": \"auto\", \"type\": \"bar\", \"x\": [\"ij2001\", \"ij2002\", \"ij2003\", \"ij2004\", \"ij2005\", \"ij2006\", \"ij2007\", \"ij2008\", \"ij2009\", \"ij2010\", \"ij2011\", \"ij2012\", \"ij2013\", \"ij2014\", \"ij2015\", \"ij2016\", \"ij2017\", \"ij2018\", \"ij2019\", \"ij2020\", \"ij2021\"], \"xaxis\": \"x\", \"y\": [1147756000000.0, 1218730000000.0, 1149964000000.0, 1129442000000.0, 1089222000000.0, 1089217000000.0, 1097467000000.0, 1137717000000.0, 1135818000000.0, 1071378000000.0, 1147997000000.0, 1101544000000.0, 1174865000000.0, 1195245000000.0, 1130252000000.0, 1151209000000.0, 1144902000000.0, 1272512000000.0, 1218124000000.0, 1145372000000.0, 1193417000000.0], \"yaxis\": \"y\"}, {\"alignmentgroup\": \"True\", \"hovertemplate\": \"variable=resDemand<br>Season=%{x}<br>value=%{y}<extra></extra>\", \"legendgroup\": \"resDemand\", \"marker\": {\"color\": \"#EF553B\"}, \"name\": \"resDemand\", \"offsetgroup\": \"resDemand\", \"orientation\": \"v\", \"showlegend\": true, \"textposition\": \"auto\", \"type\": \"bar\", \"x\": [\"ij2001\", \"ij2002\", \"ij2003\", \"ij2004\", \"ij2005\", \"ij2006\", \"ij2007\", \"ij2008\", \"ij2009\", \"ij2010\", \"ij2011\", \"ij2012\", \"ij2013\", \"ij2014\", \"ij2015\", \"ij2016\", \"ij2017\", \"ij2018\", \"ij2019\", \"ij2020\", \"ij2021\"], \"xaxis\": \"x\", \"y\": [1362551000000.0, 1445472000000.0, 1422297000000.0, 1324204000000.0, 1339023000000.0, 1289560000000.0, 1280943000000.0, 1328862000000.0, 1333724000000.0, 1181982000000.0, 1253347000000.0, 1137467000000.0, 1247012000000.0, 1236981000000.0, 1141967000000.0, 1148663000000.0, 1133388000000.0, 1302445000000.0, 1225395000000.0, 1346143000000.0, 1207056000000.0], \"yaxis\": \"y\"}, {\"alignmentgroup\": \"True\", \"hovertemplate\": \"variable=indDemand<br>Season=%{x}<br>value=%{y}<extra></extra>\", \"legendgroup\": \"indDemand\", \"marker\": {\"color\": \"#00cc96\"}, \"name\": \"indDemand\", \"offsetgroup\": \"indDemand\", \"orientation\": \"v\", \"showlegend\": true, \"textposition\": \"auto\", \"type\": \"bar\", \"x\": [\"ij2001\", \"ij2002\", \"ij2003\", \"ij2004\", \"ij2005\", \"ij2006\", \"ij2007\", \"ij2008\", \"ij2009\", \"ij2010\", \"ij2011\", \"ij2012\", \"ij2013\", \"ij2014\", \"ij2015\", \"ij2016\", \"ij2017\", \"ij2018\", \"ij2019\", \"ij2020\", \"ij2021\"], \"xaxis\": \"x\", \"y\": [4091229000000.0, 4258547000000.0, 3961268000000.0, 4033586000000.0, 3650543000000.0, 3669977000000.0, 3671851000000.0, 3683151000000.0, 3396559000000.0, 3770022000000.0, 3883414000000.0, 4061727000000.0, 4113863000000.0, 4234153000000.0, 4169280000000.0, 4293721000000.0, 4406459000000.0, 4694278000000.0, 4633593000000.0, 4459378000000.0, 4568820000000.0], \"yaxis\": \"y\"}, {\"alignmentgroup\": \"True\", \"hovertemplate\": \"variable=vehDemand<br>Season=%{x}<br>value=%{y}<extra></extra>\", \"legendgroup\": \"vehDemand\", \"marker\": {\"color\": \"#ab63fa\"}, \"name\": \"vehDemand\", \"offsetgroup\": \"vehDemand\", \"orientation\": \"v\", \"showlegend\": true, \"textposition\": \"auto\", \"type\": \"bar\", \"x\": [\"ij2001\", \"ij2002\", \"ij2003\", \"ij2004\", \"ij2005\", \"ij2006\", \"ij2007\", \"ij2008\", \"ij2009\", \"ij2010\", \"ij2011\", \"ij2012\", \"ij2013\", \"ij2014\", \"ij2015\", \"ij2016\", \"ij2017\", \"ij2018\", \"ij2019\", \"ij2020\", \"ij2021\"], \"xaxis\": \"x\", \"y\": [8525000000.0, 8767000000.0, 10714000000.0, 11991000000.0, 13419000000.0, 13917000000.0, 14454000000.0, 15194000000.0, 15983000000.0, 16804000000.0, 17576000000.0, 17523000000.0, 17615000000.0, 20688000000.0, 23094000000.0, 24575000000.0, 28262000000.0, 29560000000.0, 31170000000.0, 28725000000.0, 31167000000.0], \"yaxis\": \"y\"}, {\"alignmentgroup\": \"True\", \"hovertemplate\": \"variable=l&pDemand<br>Season=%{x}<br>value=%{y}<extra></extra>\", \"legendgroup\": \"l&pDemand\", \"marker\": {\"color\": \"#FFA15A\"}, \"name\": \"l&pDemand\", \"offsetgroup\": \"l&pDemand\", \"orientation\": \"v\", \"showlegend\": true, \"textposition\": \"auto\", \"type\": \"bar\", \"x\": [\"ij2001\", \"ij2002\", \"ij2003\", \"ij2004\", \"ij2005\", \"ij2006\", \"ij2007\", \"ij2008\", \"ij2009\", \"ij2010\", \"ij2011\", \"ij2012\", \"ij2013\", \"ij2014\", \"ij2015\", \"ij2016\", \"ij2017\", \"ij2018\", \"ij2019\", \"ij2020\", \"ij2021\"], \"xaxis\": \"x\", \"y\": [653962000000.0, 648815000000.0, 658173000000.0, 638640000000.0, 644106000000.0, 668287000000.0, 718952000000.0, 710117000000.0, 744452000000.0, 749916000000.0, 774486000000.0, 816393000000.0, 872148000000.0, 894935000000.0, 927052000000.0, 900377000000.0, 927994000000.0, 995839000000.0, 1069816000000.0, 1034620000000.0, 1086522000000.0], \"yaxis\": \"y\"}, {\"alignmentgroup\": \"True\", \"hovertemplate\": \"variable=pplDemand<br>Season=%{x}<br>value=%{y}<extra></extra>\", \"legendgroup\": \"pplDemand\", \"marker\": {\"color\": \"#19d3f3\"}, \"name\": \"pplDemand\", \"offsetgroup\": \"pplDemand\", \"orientation\": \"v\", \"showlegend\": true, \"textposition\": \"auto\", \"type\": \"bar\", \"x\": [\"ij2001\", \"ij2002\", \"ij2003\", \"ij2004\", \"ij2005\", \"ij2006\", \"ij2007\", \"ij2008\", \"ij2009\", \"ij2010\", \"ij2011\", \"ij2012\", \"ij2013\", \"ij2014\", \"ij2015\", \"ij2016\", \"ij2017\", \"ij2018\", \"ij2019\", \"ij2020\", \"ij2021\"], \"xaxis\": \"x\", \"y\": [311606000000.0, 337704000000.0, 285095000000.0, 275471000000.0, 289733000000.0, 304262000000.0, 311914000000.0, 316805000000.0, 330445000000.0, 331600000000.0, 343305000000.0, 383395000000.0, 407824000000.0, 339408000000.0, 339469000000.0, 355787000000.0, 367042000000.0, 449266000000.0, 511894000000.0, 519447000000.0, 518786000000.0], \"yaxis\": \"y\"}, {\"alignmentgroup\": \"True\", \"hovertemplate\": \"variable=PowerGen<br>Season=%{x}<br>value=%{y}<extra></extra>\", \"legendgroup\": \"PowerGen\", \"marker\": {\"color\": \"#FF6692\"}, \"name\": \"PowerGen\", \"offsetgroup\": \"PowerGen\", \"orientation\": \"v\", \"showlegend\": true, \"textposition\": \"auto\", \"type\": \"bar\", \"x\": [\"ij2001\", \"ij2002\", \"ij2003\", \"ij2004\", \"ij2005\", \"ij2006\", \"ij2007\", \"ij2008\", \"ij2009\", \"ij2010\", \"ij2011\", \"ij2012\", \"ij2013\", \"ij2014\", \"ij2015\", \"ij2016\", \"ij2017\", \"ij2018\", \"ij2019\", \"ij2020\", \"ij2021\"], \"xaxis\": \"x\", \"y\": [3608756000000.0, 3827968000000.0, 3372893000000.0, 3590835000000.0, 3988001000000.0, 4339677000000.0, 4606073000000.0, 4303304000000.0, 4455026000000.0, 4844081000000.0, 4912019000000.0, 5964095000000.0, 5116959000000.0, 5132024000000.0, 6043954000000.0, 6443918000000.0, 5913791000000.0, 6831215000000.0, 7116343000000.0, 7287079000000.0, 7091269000000.0], \"yaxis\": \"y\"}, {\"alignmentgroup\": \"True\", \"hovertemplate\": \"variable=cgsExports<br>Season=%{x}<br>value=%{y}<extra></extra>\", \"legendgroup\": \"cgsExports\", \"marker\": {\"color\": \"#B6E880\"}, \"name\": \"cgsExports\", \"offsetgroup\": \"cgsExports\", \"orientation\": \"v\", \"showlegend\": true, \"textposition\": \"auto\", \"type\": \"bar\", \"x\": [\"ij2001\", \"ij2002\", \"ij2003\", \"ij2004\", \"ij2005\", \"ij2006\", \"ij2007\", \"ij2008\", \"ij2009\", \"ij2010\", \"ij2011\", \"ij2012\", \"ij2013\", \"ij2014\", \"ij2015\", \"ij2016\", \"ij2017\", \"ij2018\", \"ij2019\", \"ij2020\", \"ij2021\"], \"xaxis\": \"x\", \"y\": [null, null, null, null, null, null, null, null, null, null, 0.0, 0.0, 70000000.0, 88000000.0, 104000000.0, 102000000.0, 76000000.0, 140000000.0, 148000000.0, 217000000.0, 111000000.0], \"yaxis\": \"y\"}, {\"alignmentgroup\": \"True\", \"hovertemplate\": \"variable=pplExports<br>Season=%{x}<br>value=%{y}<extra></extra>\", \"legendgroup\": \"pplExports\", \"marker\": {\"color\": \"#FF97FF\"}, \"name\": \"pplExports\", \"offsetgroup\": \"pplExports\", \"orientation\": \"v\", \"showlegend\": true, \"textposition\": \"auto\", \"type\": \"bar\", \"x\": [\"ij2001\", \"ij2002\", \"ij2003\", \"ij2004\", \"ij2005\", \"ij2006\", \"ij2007\", \"ij2008\", \"ij2009\", \"ij2010\", \"ij2011\", \"ij2012\", \"ij2013\", \"ij2014\", \"ij2015\", \"ij2016\", \"ij2017\", \"ij2018\", \"ij2019\", \"ij2020\", \"ij2021\"], \"xaxis\": \"x\", \"y\": [165430000000.0, 266421000000.0, 326783000000.0, 421878000000.0, 323750000000.0, 363594000000.0, 405518000000.0, 432805000000.0, 522972000000.0, 566014000000.0, 803113000000.0, 904110000000.0, 905251000000.0, 819998000000.0, 995836000000.0, 1231773000000.0, 1371431000000.0, 1423705000000.0, 1617874000000.0, 1655220000000.0, 1817253000000.0], \"yaxis\": \"y\"}, {\"alignmentgroup\": \"True\", \"hovertemplate\": \"variable=lngExports<br>Season=%{x}<br>value=%{y}<extra></extra>\", \"legendgroup\": \"lngExports\", \"marker\": {\"color\": \"#FECB52\"}, \"name\": \"lngExports\", \"offsetgroup\": \"lngExports\", \"orientation\": \"v\", \"showlegend\": true, \"textposition\": \"auto\", \"type\": \"bar\", \"x\": [\"ij2001\", \"ij2002\", \"ij2003\", \"ij2004\", \"ij2005\", \"ij2006\", \"ij2007\", \"ij2008\", \"ij2009\", \"ij2010\", \"ij2011\", \"ij2012\", \"ij2013\", \"ij2014\", \"ij2015\", \"ij2016\", \"ij2017\", \"ij2018\", \"ij2019\", \"ij2020\", \"ij2021\"], \"xaxis\": \"x\", \"y\": [39895000000.0, 37387000000.0, 37811000000.0, 35370000000.0, 37422000000.0, 34952000000.0, 26187000000.0, 24897000000.0, 17280000000.0, 31153000000.0, 35468000000.0, 12078000000.0, 93000000.0, 13447000000.0, 16637000000.0, 98626000000.0, 397901000000.0, 615049000000.0, 1047654000000.0, 1084659000000.0, 2074445000000.0], \"yaxis\": \"y\"}],                        {\"barmode\": \"relative\", \"images\": [{\"sizex\": 0.2, \"sizey\": 0.2, \"source\": \"https://upload.wikimedia.org/wikipedia/commons/1/1f/Energy_Information_Administration_logo.svg\", \"x\": 1.07, \"xanchor\": \"center\", \"y\": -0.1, \"yanchor\": \"bottom\"}], \"legend\": {\"title\": {\"text\": \"variable\"}, \"tracegroupgap\": 0, \"traceorder\": \"reversed\"}, \"template\": {\"data\": {\"bar\": [{\"error_x\": {\"color\": \"#2a3f5f\"}, \"error_y\": {\"color\": \"#2a3f5f\"}, \"marker\": {\"line\": {\"color\": \"#E5ECF6\", \"width\": 0.5}}, \"type\": \"bar\"}], \"barpolar\": [{\"marker\": {\"line\": {\"color\": \"#E5ECF6\", \"width\": 0.5}}, \"type\": \"barpolar\"}], \"carpet\": [{\"aaxis\": {\"endlinecolor\": \"#2a3f5f\", \"gridcolor\": \"white\", \"linecolor\": \"white\", \"minorgridcolor\": \"white\", \"startlinecolor\": \"#2a3f5f\"}, \"baxis\": {\"endlinecolor\": \"#2a3f5f\", \"gridcolor\": \"white\", \"linecolor\": \"white\", \"minorgridcolor\": \"white\", \"startlinecolor\": \"#2a3f5f\"}, \"type\": \"carpet\"}], \"choropleth\": [{\"colorbar\": {\"outlinewidth\": 0, \"ticks\": \"\"}, \"type\": \"choropleth\"}], \"contour\": [{\"colorbar\": {\"outlinewidth\": 0, \"ticks\": \"\"}, \"colorscale\": [[0.0, \"#0d0887\"], [0.1111111111111111, \"#46039f\"], [0.2222222222222222, \"#7201a8\"], [0.3333333333333333, \"#9c179e\"], [0.4444444444444444, \"#bd3786\"], [0.5555555555555556, \"#d8576b\"], [0.6666666666666666, \"#ed7953\"], [0.7777777777777778, \"#fb9f3a\"], [0.8888888888888888, \"#fdca26\"], [1.0, \"#f0f921\"]], \"type\": \"contour\"}], \"contourcarpet\": [{\"colorbar\": {\"outlinewidth\": 0, \"ticks\": \"\"}, \"type\": \"contourcarpet\"}], \"heatmap\": [{\"colorbar\": {\"outlinewidth\": 0, \"ticks\": \"\"}, \"colorscale\": [[0.0, \"#0d0887\"], [0.1111111111111111, \"#46039f\"], [0.2222222222222222, \"#7201a8\"], [0.3333333333333333, \"#9c179e\"], [0.4444444444444444, \"#bd3786\"], [0.5555555555555556, \"#d8576b\"], [0.6666666666666666, \"#ed7953\"], [0.7777777777777778, \"#fb9f3a\"], [0.8888888888888888, \"#fdca26\"], [1.0, \"#f0f921\"]], \"type\": \"heatmap\"}], \"heatmapgl\": [{\"colorbar\": {\"outlinewidth\": 0, \"ticks\": \"\"}, \"colorscale\": [[0.0, \"#0d0887\"], [0.1111111111111111, \"#46039f\"], [0.2222222222222222, \"#7201a8\"], [0.3333333333333333, \"#9c179e\"], [0.4444444444444444, \"#bd3786\"], [0.5555555555555556, \"#d8576b\"], [0.6666666666666666, \"#ed7953\"], [0.7777777777777778, \"#fb9f3a\"], [0.8888888888888888, \"#fdca26\"], [1.0, \"#f0f921\"]], \"type\": \"heatmapgl\"}], \"histogram\": [{\"marker\": {\"colorbar\": {\"outlinewidth\": 0, \"ticks\": \"\"}}, \"type\": \"histogram\"}], \"histogram2d\": [{\"colorbar\": {\"outlinewidth\": 0, \"ticks\": \"\"}, \"colorscale\": [[0.0, \"#0d0887\"], [0.1111111111111111, \"#46039f\"], [0.2222222222222222, \"#7201a8\"], [0.3333333333333333, \"#9c179e\"], [0.4444444444444444, \"#bd3786\"], [0.5555555555555556, \"#d8576b\"], [0.6666666666666666, \"#ed7953\"], [0.7777777777777778, \"#fb9f3a\"], [0.8888888888888888, \"#fdca26\"], [1.0, \"#f0f921\"]], \"type\": \"histogram2d\"}], \"histogram2dcontour\": [{\"colorbar\": {\"outlinewidth\": 0, \"ticks\": \"\"}, \"colorscale\": [[0.0, \"#0d0887\"], [0.1111111111111111, \"#46039f\"], [0.2222222222222222, \"#7201a8\"], [0.3333333333333333, \"#9c179e\"], [0.4444444444444444, \"#bd3786\"], [0.5555555555555556, \"#d8576b\"], [0.6666666666666666, \"#ed7953\"], [0.7777777777777778, \"#fb9f3a\"], [0.8888888888888888, \"#fdca26\"], [1.0, \"#f0f921\"]], \"type\": \"histogram2dcontour\"}], \"mesh3d\": [{\"colorbar\": {\"outlinewidth\": 0, \"ticks\": \"\"}, \"type\": \"mesh3d\"}], \"parcoords\": [{\"line\": {\"colorbar\": {\"outlinewidth\": 0, \"ticks\": \"\"}}, \"type\": \"parcoords\"}], \"pie\": [{\"automargin\": true, \"type\": \"pie\"}], \"scatter\": [{\"marker\": {\"colorbar\": {\"outlinewidth\": 0, \"ticks\": \"\"}}, \"type\": \"scatter\"}], \"scatter3d\": [{\"line\": {\"colorbar\": {\"outlinewidth\": 0, \"ticks\": \"\"}}, \"marker\": {\"colorbar\": {\"outlinewidth\": 0, \"ticks\": \"\"}}, \"type\": \"scatter3d\"}], \"scattercarpet\": [{\"marker\": {\"colorbar\": {\"outlinewidth\": 0, \"ticks\": \"\"}}, \"type\": \"scattercarpet\"}], \"scattergeo\": [{\"marker\": {\"colorbar\": {\"outlinewidth\": 0, \"ticks\": \"\"}}, \"type\": \"scattergeo\"}], \"scattergl\": [{\"marker\": {\"colorbar\": {\"outlinewidth\": 0, \"ticks\": \"\"}}, \"type\": \"scattergl\"}], \"scattermapbox\": [{\"marker\": {\"colorbar\": {\"outlinewidth\": 0, \"ticks\": \"\"}}, \"type\": \"scattermapbox\"}], \"scatterpolar\": [{\"marker\": {\"colorbar\": {\"outlinewidth\": 0, \"ticks\": \"\"}}, \"type\": \"scatterpolar\"}], \"scatterpolargl\": [{\"marker\": {\"colorbar\": {\"outlinewidth\": 0, \"ticks\": \"\"}}, \"type\": \"scatterpolargl\"}], \"scatterternary\": [{\"marker\": {\"colorbar\": {\"outlinewidth\": 0, \"ticks\": \"\"}}, \"type\": \"scatterternary\"}], \"surface\": [{\"colorbar\": {\"outlinewidth\": 0, \"ticks\": \"\"}, \"colorscale\": [[0.0, \"#0d0887\"], [0.1111111111111111, \"#46039f\"], [0.2222222222222222, \"#7201a8\"], [0.3333333333333333, \"#9c179e\"], [0.4444444444444444, \"#bd3786\"], [0.5555555555555556, \"#d8576b\"], [0.6666666666666666, \"#ed7953\"], [0.7777777777777778, \"#fb9f3a\"], [0.8888888888888888, \"#fdca26\"], [1.0, \"#f0f921\"]], \"type\": \"surface\"}], \"table\": [{\"cells\": {\"fill\": {\"color\": \"#EBF0F8\"}, \"line\": {\"color\": \"white\"}}, \"header\": {\"fill\": {\"color\": \"#C8D4E3\"}, \"line\": {\"color\": \"white\"}}, \"type\": \"table\"}]}, \"layout\": {\"annotationdefaults\": {\"arrowcolor\": \"#2a3f5f\", \"arrowhead\": 0, \"arrowwidth\": 1}, \"coloraxis\": {\"colorbar\": {\"outlinewidth\": 0, \"ticks\": \"\"}}, \"colorscale\": {\"diverging\": [[0, \"#8e0152\"], [0.1, \"#c51b7d\"], [0.2, \"#de77ae\"], [0.3, \"#f1b6da\"], [0.4, \"#fde0ef\"], [0.5, \"#f7f7f7\"], [0.6, \"#e6f5d0\"], [0.7, \"#b8e186\"], [0.8, \"#7fbc41\"], [0.9, \"#4d9221\"], [1, \"#276419\"]], \"sequential\": [[0.0, \"#0d0887\"], [0.1111111111111111, \"#46039f\"], [0.2222222222222222, \"#7201a8\"], [0.3333333333333333, \"#9c179e\"], [0.4444444444444444, \"#bd3786\"], [0.5555555555555556, \"#d8576b\"], [0.6666666666666666, \"#ed7953\"], [0.7777777777777778, \"#fb9f3a\"], [0.8888888888888888, \"#fdca26\"], [1.0, \"#f0f921\"]], \"sequentialminus\": [[0.0, \"#0d0887\"], [0.1111111111111111, \"#46039f\"], [0.2222222222222222, \"#7201a8\"], [0.3333333333333333, \"#9c179e\"], [0.4444444444444444, \"#bd3786\"], [0.5555555555555556, \"#d8576b\"], [0.6666666666666666, \"#ed7953\"], [0.7777777777777778, \"#fb9f3a\"], [0.8888888888888888, \"#fdca26\"], [1.0, \"#f0f921\"]]}, \"colorway\": [\"#636efa\", \"#EF553B\", \"#00cc96\", \"#ab63fa\", \"#FFA15A\", \"#19d3f3\", \"#FF6692\", \"#B6E880\", \"#FF97FF\", \"#FECB52\"], \"font\": {\"color\": \"#2a3f5f\"}, \"geo\": {\"bgcolor\": \"white\", \"lakecolor\": \"white\", \"landcolor\": \"#E5ECF6\", \"showlakes\": true, \"showland\": true, \"subunitcolor\": \"white\"}, \"hoverlabel\": {\"align\": \"left\"}, \"hovermode\": \"closest\", \"mapbox\": {\"style\": \"light\"}, \"paper_bgcolor\": \"white\", \"plot_bgcolor\": \"#E5ECF6\", \"polar\": {\"angularaxis\": {\"gridcolor\": \"white\", \"linecolor\": \"white\", \"ticks\": \"\"}, \"bgcolor\": \"#E5ECF6\", \"radialaxis\": {\"gridcolor\": \"white\", \"linecolor\": \"white\", \"ticks\": \"\"}}, \"scene\": {\"xaxis\": {\"backgroundcolor\": \"#E5ECF6\", \"gridcolor\": \"white\", \"gridwidth\": 2, \"linecolor\": \"white\", \"showbackground\": true, \"ticks\": \"\", \"zerolinecolor\": \"white\"}, \"yaxis\": {\"backgroundcolor\": \"#E5ECF6\", \"gridcolor\": \"white\", \"gridwidth\": 2, \"linecolor\": \"white\", \"showbackground\": true, \"ticks\": \"\", \"zerolinecolor\": \"white\"}, \"zaxis\": {\"backgroundcolor\": \"#E5ECF6\", \"gridcolor\": \"white\", \"gridwidth\": 2, \"linecolor\": \"white\", \"showbackground\": true, \"ticks\": \"\", \"zerolinecolor\": \"white\"}}, \"shapedefaults\": {\"line\": {\"color\": \"#2a3f5f\"}}, \"ternary\": {\"aaxis\": {\"gridcolor\": \"white\", \"linecolor\": \"white\", \"ticks\": \"\"}, \"baxis\": {\"gridcolor\": \"white\", \"linecolor\": \"white\", \"ticks\": \"\"}, \"bgcolor\": \"#E5ECF6\", \"caxis\": {\"gridcolor\": \"white\", \"linecolor\": \"white\", \"ticks\": \"\"}}, \"title\": {\"x\": 0.05}, \"xaxis\": {\"automargin\": true, \"gridcolor\": \"white\", \"linecolor\": \"white\", \"ticks\": \"\", \"title\": {\"standoff\": 15}, \"zerolinecolor\": \"white\", \"zerolinewidth\": 2}, \"yaxis\": {\"automargin\": true, \"gridcolor\": \"white\", \"linecolor\": \"white\", \"ticks\": \"\", \"title\": {\"standoff\": 15}, \"zerolinecolor\": \"white\", \"zerolinewidth\": 2}}}, \"title\": {\"text\": \"U.S. NG demand during injection seasons\"}, \"xaxis\": {\"anchor\": \"y\", \"domain\": [0.0, 1.0], \"title\": {\"text\": \"injection season year\"}}, \"yaxis\": {\"anchor\": \"x\", \"domain\": [0.0, 1.0], \"title\": {\"text\": \"demand in cubic feet\"}}},                        {\"responsive\": true}                    ).then(function(){\n",
       "                            \n",
       "var gd = document.getElementById('d64977ad-31a3-4e16-8739-6bb0bdbbbcfe');\n",
       "var x = new MutationObserver(function (mutations, observer) {{\n",
       "        var display = window.getComputedStyle(gd).display;\n",
       "        if (!display || display === 'none') {{\n",
       "            console.log([gd, 'removed!']);\n",
       "            Plotly.purge(gd);\n",
       "            observer.disconnect();\n",
       "        }}\n",
       "}});\n",
       "\n",
       "// Listen for the removal of the full notebook cells\n",
       "var notebookContainer = gd.closest('#notebook-container');\n",
       "if (notebookContainer) {{\n",
       "    x.observe(notebookContainer, {childList: true});\n",
       "}}\n",
       "\n",
       "// Listen for the clearing of the current output cell\n",
       "var outputEl = gd.closest('.output');\n",
       "if (outputEl) {{\n",
       "    x.observe(outputEl, {childList: true});\n",
       "}}\n",
       "\n",
       "                        })                };                });            </script>        </div>"
      ]
     },
     "metadata": {},
     "output_type": "display_data"
    }
   ],
   "source": [
    "fig = px.bar(ijSeason, title=\"U.S. NG demand during injection seasons\")\n",
    "fig.update_layout(xaxis_title='injection season year', yaxis_title='demand in cubic feet',legend={'traceorder': 'reversed'})\n",
    "fig.layout.images = eiaLg\n",
    "fig.show()"
   ]
  },
  {
   "cell_type": "code",
   "execution_count": 81,
   "metadata": {},
   "outputs": [
    {
     "data": {
      "application/vnd.plotly.v1+json": {
       "config": {
        "plotlyServerURL": "https://plot.ly"
       },
       "data": [
        {
         "alignmentgroup": "True",
         "hovertemplate": "variable=comDemand<br>Season=%{x}<br>value=%{y}<extra></extra>",
         "legendgroup": "comDemand",
         "marker": {
          "color": "#636efa"
         },
         "name": "comDemand",
         "offsetgroup": "comDemand",
         "orientation": "v",
         "showlegend": true,
         "textposition": "auto",
         "type": "bar",
         "x": [
          "wd2001",
          "wd2002",
          "wd2003",
          "wd2004",
          "wd2005",
          "wd2006",
          "wd2007",
          "wd2008",
          "wd2009",
          "wd2010",
          "wd2011",
          "wd2012",
          "wd2013",
          "wd2014",
          "wd2015",
          "wd2016",
          "wd2017",
          "wd2018",
          "wd2019",
          "wd2020",
          "wd2021"
         ],
         "xaxis": "x",
         "y": [
          1784582000000,
          2103069000000,
          1985341000000,
          1913815000000,
          1793912000000,
          1866116000000,
          1968647000000,
          2001130000000,
          1957157000000,
          2074736000000,
          1781124000000,
          2000366000000,
          2301763000000,
          2224025000000,
          1850825000000,
          1953762000000,
          2205355000000,
          2296126000000,
          2122966000000,
          2085500000000,
          2138594000000
         ],
         "yaxis": "y"
        },
        {
         "alignmentgroup": "True",
         "hovertemplate": "variable=resDemand<br>Season=%{x}<br>value=%{y}<extra></extra>",
         "legendgroup": "resDemand",
         "marker": {
          "color": "#EF553B"
         },
         "name": "resDemand",
         "offsetgroup": "resDemand",
         "orientation": "v",
         "showlegend": true,
         "textposition": "auto",
         "type": "bar",
         "x": [
          "wd2001",
          "wd2002",
          "wd2003",
          "wd2004",
          "wd2005",
          "wd2006",
          "wd2007",
          "wd2008",
          "wd2009",
          "wd2010",
          "wd2011",
          "wd2012",
          "wd2013",
          "wd2014",
          "wd2015",
          "wd2016",
          "wd2017",
          "wd2018",
          "wd2019",
          "wd2020",
          "wd2021"
         ],
         "xaxis": "x",
         "y": [
          3158266000000,
          3759621000000,
          3564047000000,
          3462295000000,
          3200165000000,
          3356071000000,
          3480525000000,
          3509647000000,
          3447401000000,
          3626500000000,
          2987308000000,
          3437113000000,
          3955769000000,
          3733844000000,
          3021535000000,
          3164226000000,
          3620171000000,
          3815993000000,
          3430440000000,
          3549996000000,
          3485062000000
         ],
         "yaxis": "y"
        },
        {
         "alignmentgroup": "True",
         "hovertemplate": "variable=indDemand<br>Season=%{x}<br>value=%{y}<extra></extra>",
         "legendgroup": "indDemand",
         "marker": {
          "color": "#00cc96"
         },
         "name": "indDemand",
         "offsetgroup": "indDemand",
         "orientation": "v",
         "showlegend": true,
         "textposition": "auto",
         "type": "bar",
         "x": [
          "wd2001",
          "wd2002",
          "wd2003",
          "wd2004",
          "wd2005",
          "wd2006",
          "wd2007",
          "wd2008",
          "wd2009",
          "wd2010",
          "wd2011",
          "wd2012",
          "wd2013",
          "wd2014",
          "wd2015",
          "wd2016",
          "wd2017",
          "wd2018",
          "wd2019",
          "wd2020",
          "wd2021"
         ],
         "xaxis": "x",
         "y": [
          3236089000000,
          3241498000000,
          3197688000000,
          3113640000000,
          2827092000000,
          2933356000000,
          3070288000000,
          2741886000000,
          2966511000000,
          3092567000000,
          3133888000000,
          3219365000000,
          3421233000000,
          3389290000000,
          3359724000000,
          3468655000000,
          3675390000000,
          3773362000000,
          3726176000000,
          3621740000000,
          3756885000000
         ],
         "yaxis": "y"
        },
        {
         "alignmentgroup": "True",
         "hovertemplate": "variable=vehDemand<br>Season=%{x}<br>value=%{y}<extra></extra>",
         "legendgroup": "vehDemand",
         "marker": {
          "color": "#ab63fa"
         },
         "name": "vehDemand",
         "offsetgroup": "vehDemand",
         "orientation": "v",
         "showlegend": true,
         "textposition": "auto",
         "type": "bar",
         "x": [
          "wd2001",
          "wd2002",
          "wd2003",
          "wd2004",
          "wd2005",
          "wd2006",
          "wd2007",
          "wd2008",
          "wd2009",
          "wd2010",
          "wd2011",
          "wd2012",
          "wd2013",
          "wd2014",
          "wd2015",
          "wd2016",
          "wd2017",
          "wd2018",
          "wd2019",
          "wd2020",
          "wd2021"
         ],
         "xaxis": "x",
         "y": [
          6117000000,
          7005000000,
          8153000000,
          9061000000,
          9678000000,
          10046000000,
          10581000000,
          11052000000,
          11623000000,
          12181000000,
          12461000000,
          12404000000,
          13722000000,
          15609000000,
          17033000000,
          18891000000,
          20487000000,
          21534000000,
          21100000000,
          21296000000,
          21992000000
         ],
         "yaxis": "y"
        },
        {
         "alignmentgroup": "True",
         "hovertemplate": "variable=l&pDemand<br>Season=%{x}<br>value=%{y}<extra></extra>",
         "legendgroup": "l&pDemand",
         "marker": {
          "color": "#FFA15A"
         },
         "name": "l&pDemand",
         "offsetgroup": "l&pDemand",
         "orientation": "v",
         "showlegend": true,
         "textposition": "auto",
         "type": "bar",
         "x": [
          "wd2001",
          "wd2002",
          "wd2003",
          "wd2004",
          "wd2005",
          "wd2006",
          "wd2007",
          "wd2008",
          "wd2009",
          "wd2010",
          "wd2011",
          "wd2012",
          "wd2013",
          "wd2014",
          "wd2015",
          "wd2016",
          "wd2017",
          "wd2018",
          "wd2019",
          "wd2020",
          "wd2021"
         ],
         "xaxis": "x",
         "y": [
          462899000000,
          466177000000,
          462170000000,
          465561000000,
          462542000000,
          490788000000,
          514249000000,
          528186000000,
          521633000000,
          539182000000,
          577635000000,
          595164000000,
          608115000000,
          646654000000,
          653616000000,
          628530000000,
          680329000000,
          735875000000,
          785892000000,
          740874000000,
          781503000000
         ],
         "yaxis": "y"
        },
        {
         "alignmentgroup": "True",
         "hovertemplate": "variable=pplDemand<br>Season=%{x}<br>value=%{y}<extra></extra>",
         "legendgroup": "pplDemand",
         "marker": {
          "color": "#19d3f3"
         },
         "name": "pplDemand",
         "offsetgroup": "pplDemand",
         "orientation": "v",
         "showlegend": true,
         "textposition": "auto",
         "type": "bar",
         "x": [
          "wd2001",
          "wd2002",
          "wd2003",
          "wd2004",
          "wd2005",
          "wd2006",
          "wd2007",
          "wd2008",
          "wd2009",
          "wd2010",
          "wd2011",
          "wd2012",
          "wd2013",
          "wd2014",
          "wd2015",
          "wd2016",
          "wd2017",
          "wd2018",
          "wd2019",
          "wd2020",
          "wd2021"
         ],
         "xaxis": "x",
         "y": [
          311929000000,
          323833000000,
          293742000000,
          292361000000,
          281336000000,
          300190000000,
          326073000000,
          333366000000,
          336210000000,
          347502000000,
          342038000000,
          391150000000,
          395784000000,
          351187000000,
          325289000000,
          335612000000,
          406170000000,
          477266000000,
          497241000000,
          481984000000,
          496642000000
         ],
         "yaxis": "y"
        },
        {
         "alignmentgroup": "True",
         "hovertemplate": "variable=PowerGen<br>Season=%{x}<br>value=%{y}<extra></extra>",
         "legendgroup": "PowerGen",
         "marker": {
          "color": "#FF6692"
         },
         "name": "PowerGen",
         "offsetgroup": "PowerGen",
         "orientation": "v",
         "showlegend": true,
         "textposition": "auto",
         "type": "bar",
         "x": [
          "wd2001",
          "wd2002",
          "wd2003",
          "wd2004",
          "wd2005",
          "wd2006",
          "wd2007",
          "wd2008",
          "wd2009",
          "wd2010",
          "wd2011",
          "wd2012",
          "wd2013",
          "wd2014",
          "wd2015",
          "wd2016",
          "wd2017",
          "wd2018",
          "wd2019",
          "wd2020",
          "wd2021"
         ],
         "xaxis": "x",
         "y": [
          1849760000000,
          1790119000000,
          1794009000000,
          1864425000000,
          1851049000000,
          2100600000000,
          2376776000000,
          2374561000000,
          2459221000000,
          2566217000000,
          3123892000000,
          2983230000000,
          3044609000000,
          3307559000000,
          3709538000000,
          3233413000000,
          3683736000000,
          3966527000000,
          4419395000000,
          4051186000000,
          4346321000000
         ],
         "yaxis": "y"
        },
        {
         "alignmentgroup": "True",
         "hovertemplate": "variable=cgsExports<br>Season=%{x}<br>value=%{y}<extra></extra>",
         "legendgroup": "cgsExports",
         "marker": {
          "color": "#B6E880"
         },
         "name": "cgsExports",
         "offsetgroup": "cgsExports",
         "orientation": "v",
         "showlegend": true,
         "textposition": "auto",
         "type": "bar",
         "x": [
          "wd2001",
          "wd2002",
          "wd2003",
          "wd2004",
          "wd2005",
          "wd2006",
          "wd2007",
          "wd2008",
          "wd2009",
          "wd2010",
          "wd2011",
          "wd2012",
          "wd2013",
          "wd2014",
          "wd2015",
          "wd2016",
          "wd2017",
          "wd2018",
          "wd2019",
          "wd2020",
          "wd2021"
         ],
         "xaxis": "x",
         "y": [
          null,
          null,
          null,
          null,
          null,
          null,
          null,
          null,
          null,
          null,
          0,
          0,
          131000000,
          106000000,
          115000000,
          104000000,
          70000000,
          106000000,
          160000000,
          164000000,
          0
         ],
         "yaxis": "y"
        },
        {
         "alignmentgroup": "True",
         "hovertemplate": "variable=pplExports<br>Season=%{x}<br>value=%{y}<extra></extra>",
         "legendgroup": "pplExports",
         "marker": {
          "color": "#FF97FF"
         },
         "name": "pplExports",
         "offsetgroup": "pplExports",
         "orientation": "v",
         "showlegend": true,
         "textposition": "auto",
         "type": "bar",
         "x": [
          "wd2001",
          "wd2002",
          "wd2003",
          "wd2004",
          "wd2005",
          "wd2006",
          "wd2007",
          "wd2008",
          "wd2009",
          "wd2010",
          "wd2011",
          "wd2012",
          "wd2013",
          "wd2014",
          "wd2015",
          "wd2016",
          "wd2017",
          "wd2018",
          "wd2019",
          "wd2020",
          "wd2021"
         ],
         "xaxis": "x",
         "y": [
          159974000000,
          247886000000,
          349157000000,
          418295000000,
          246146000000,
          320492000000,
          480817000000,
          503056000000,
          475703000000,
          614625000000,
          642998000000,
          731242000000,
          648221000000,
          705524000000,
          824017000000,
          1053447000000,
          1054755000000,
          1178752000000,
          1254052000000,
          1244595000000,
          1284665000000
         ],
         "yaxis": "y"
        },
        {
         "alignmentgroup": "True",
         "hovertemplate": "variable=lngExports<br>Season=%{x}<br>value=%{y}<extra></extra>",
         "legendgroup": "lngExports",
         "marker": {
          "color": "#FECB52"
         },
         "name": "lngExports",
         "offsetgroup": "lngExports",
         "orientation": "v",
         "showlegend": true,
         "textposition": "auto",
         "type": "bar",
         "x": [
          "wd2001",
          "wd2002",
          "wd2003",
          "wd2004",
          "wd2005",
          "wd2006",
          "wd2007",
          "wd2008",
          "wd2009",
          "wd2010",
          "wd2011",
          "wd2012",
          "wd2013",
          "wd2014",
          "wd2015",
          "wd2016",
          "wd2017",
          "wd2018",
          "wd2019",
          "wd2020",
          "wd2021"
         ],
         "xaxis": "x",
         "y": [
          26446000000,
          28217000000,
          27290000000,
          27978000000,
          27890000000,
          23915000000,
          16163000000,
          13361000000,
          17482000000,
          49128000000,
          20778000000,
          5585000000,
          5524000000,
          5658000000,
          19554000000,
          221738000000,
          400393000000,
          591017000000,
          1131616000000,
          1419558000000,
          1686433000000
         ],
         "yaxis": "y"
        }
       ],
       "layout": {
        "barmode": "relative",
        "images": [
         {
          "sizex": 0.2,
          "sizey": 0.2,
          "source": "https://upload.wikimedia.org/wikipedia/commons/1/1f/Energy_Information_Administration_logo.svg",
          "x": 1.07,
          "xanchor": "center",
          "y": -0.1,
          "yanchor": "bottom"
         }
        ],
        "legend": {
         "title": {
          "text": "variable"
         },
         "tracegroupgap": 0,
         "traceorder": "reversed"
        },
        "template": {
         "data": {
          "bar": [
           {
            "error_x": {
             "color": "#2a3f5f"
            },
            "error_y": {
             "color": "#2a3f5f"
            },
            "marker": {
             "line": {
              "color": "#E5ECF6",
              "width": 0.5
             }
            },
            "type": "bar"
           }
          ],
          "barpolar": [
           {
            "marker": {
             "line": {
              "color": "#E5ECF6",
              "width": 0.5
             }
            },
            "type": "barpolar"
           }
          ],
          "carpet": [
           {
            "aaxis": {
             "endlinecolor": "#2a3f5f",
             "gridcolor": "white",
             "linecolor": "white",
             "minorgridcolor": "white",
             "startlinecolor": "#2a3f5f"
            },
            "baxis": {
             "endlinecolor": "#2a3f5f",
             "gridcolor": "white",
             "linecolor": "white",
             "minorgridcolor": "white",
             "startlinecolor": "#2a3f5f"
            },
            "type": "carpet"
           }
          ],
          "choropleth": [
           {
            "colorbar": {
             "outlinewidth": 0,
             "ticks": ""
            },
            "type": "choropleth"
           }
          ],
          "contour": [
           {
            "colorbar": {
             "outlinewidth": 0,
             "ticks": ""
            },
            "colorscale": [
             [
              0,
              "#0d0887"
             ],
             [
              0.1111111111111111,
              "#46039f"
             ],
             [
              0.2222222222222222,
              "#7201a8"
             ],
             [
              0.3333333333333333,
              "#9c179e"
             ],
             [
              0.4444444444444444,
              "#bd3786"
             ],
             [
              0.5555555555555556,
              "#d8576b"
             ],
             [
              0.6666666666666666,
              "#ed7953"
             ],
             [
              0.7777777777777778,
              "#fb9f3a"
             ],
             [
              0.8888888888888888,
              "#fdca26"
             ],
             [
              1,
              "#f0f921"
             ]
            ],
            "type": "contour"
           }
          ],
          "contourcarpet": [
           {
            "colorbar": {
             "outlinewidth": 0,
             "ticks": ""
            },
            "type": "contourcarpet"
           }
          ],
          "heatmap": [
           {
            "colorbar": {
             "outlinewidth": 0,
             "ticks": ""
            },
            "colorscale": [
             [
              0,
              "#0d0887"
             ],
             [
              0.1111111111111111,
              "#46039f"
             ],
             [
              0.2222222222222222,
              "#7201a8"
             ],
             [
              0.3333333333333333,
              "#9c179e"
             ],
             [
              0.4444444444444444,
              "#bd3786"
             ],
             [
              0.5555555555555556,
              "#d8576b"
             ],
             [
              0.6666666666666666,
              "#ed7953"
             ],
             [
              0.7777777777777778,
              "#fb9f3a"
             ],
             [
              0.8888888888888888,
              "#fdca26"
             ],
             [
              1,
              "#f0f921"
             ]
            ],
            "type": "heatmap"
           }
          ],
          "heatmapgl": [
           {
            "colorbar": {
             "outlinewidth": 0,
             "ticks": ""
            },
            "colorscale": [
             [
              0,
              "#0d0887"
             ],
             [
              0.1111111111111111,
              "#46039f"
             ],
             [
              0.2222222222222222,
              "#7201a8"
             ],
             [
              0.3333333333333333,
              "#9c179e"
             ],
             [
              0.4444444444444444,
              "#bd3786"
             ],
             [
              0.5555555555555556,
              "#d8576b"
             ],
             [
              0.6666666666666666,
              "#ed7953"
             ],
             [
              0.7777777777777778,
              "#fb9f3a"
             ],
             [
              0.8888888888888888,
              "#fdca26"
             ],
             [
              1,
              "#f0f921"
             ]
            ],
            "type": "heatmapgl"
           }
          ],
          "histogram": [
           {
            "marker": {
             "colorbar": {
              "outlinewidth": 0,
              "ticks": ""
             }
            },
            "type": "histogram"
           }
          ],
          "histogram2d": [
           {
            "colorbar": {
             "outlinewidth": 0,
             "ticks": ""
            },
            "colorscale": [
             [
              0,
              "#0d0887"
             ],
             [
              0.1111111111111111,
              "#46039f"
             ],
             [
              0.2222222222222222,
              "#7201a8"
             ],
             [
              0.3333333333333333,
              "#9c179e"
             ],
             [
              0.4444444444444444,
              "#bd3786"
             ],
             [
              0.5555555555555556,
              "#d8576b"
             ],
             [
              0.6666666666666666,
              "#ed7953"
             ],
             [
              0.7777777777777778,
              "#fb9f3a"
             ],
             [
              0.8888888888888888,
              "#fdca26"
             ],
             [
              1,
              "#f0f921"
             ]
            ],
            "type": "histogram2d"
           }
          ],
          "histogram2dcontour": [
           {
            "colorbar": {
             "outlinewidth": 0,
             "ticks": ""
            },
            "colorscale": [
             [
              0,
              "#0d0887"
             ],
             [
              0.1111111111111111,
              "#46039f"
             ],
             [
              0.2222222222222222,
              "#7201a8"
             ],
             [
              0.3333333333333333,
              "#9c179e"
             ],
             [
              0.4444444444444444,
              "#bd3786"
             ],
             [
              0.5555555555555556,
              "#d8576b"
             ],
             [
              0.6666666666666666,
              "#ed7953"
             ],
             [
              0.7777777777777778,
              "#fb9f3a"
             ],
             [
              0.8888888888888888,
              "#fdca26"
             ],
             [
              1,
              "#f0f921"
             ]
            ],
            "type": "histogram2dcontour"
           }
          ],
          "mesh3d": [
           {
            "colorbar": {
             "outlinewidth": 0,
             "ticks": ""
            },
            "type": "mesh3d"
           }
          ],
          "parcoords": [
           {
            "line": {
             "colorbar": {
              "outlinewidth": 0,
              "ticks": ""
             }
            },
            "type": "parcoords"
           }
          ],
          "pie": [
           {
            "automargin": true,
            "type": "pie"
           }
          ],
          "scatter": [
           {
            "marker": {
             "colorbar": {
              "outlinewidth": 0,
              "ticks": ""
             }
            },
            "type": "scatter"
           }
          ],
          "scatter3d": [
           {
            "line": {
             "colorbar": {
              "outlinewidth": 0,
              "ticks": ""
             }
            },
            "marker": {
             "colorbar": {
              "outlinewidth": 0,
              "ticks": ""
             }
            },
            "type": "scatter3d"
           }
          ],
          "scattercarpet": [
           {
            "marker": {
             "colorbar": {
              "outlinewidth": 0,
              "ticks": ""
             }
            },
            "type": "scattercarpet"
           }
          ],
          "scattergeo": [
           {
            "marker": {
             "colorbar": {
              "outlinewidth": 0,
              "ticks": ""
             }
            },
            "type": "scattergeo"
           }
          ],
          "scattergl": [
           {
            "marker": {
             "colorbar": {
              "outlinewidth": 0,
              "ticks": ""
             }
            },
            "type": "scattergl"
           }
          ],
          "scattermapbox": [
           {
            "marker": {
             "colorbar": {
              "outlinewidth": 0,
              "ticks": ""
             }
            },
            "type": "scattermapbox"
           }
          ],
          "scatterpolar": [
           {
            "marker": {
             "colorbar": {
              "outlinewidth": 0,
              "ticks": ""
             }
            },
            "type": "scatterpolar"
           }
          ],
          "scatterpolargl": [
           {
            "marker": {
             "colorbar": {
              "outlinewidth": 0,
              "ticks": ""
             }
            },
            "type": "scatterpolargl"
           }
          ],
          "scatterternary": [
           {
            "marker": {
             "colorbar": {
              "outlinewidth": 0,
              "ticks": ""
             }
            },
            "type": "scatterternary"
           }
          ],
          "surface": [
           {
            "colorbar": {
             "outlinewidth": 0,
             "ticks": ""
            },
            "colorscale": [
             [
              0,
              "#0d0887"
             ],
             [
              0.1111111111111111,
              "#46039f"
             ],
             [
              0.2222222222222222,
              "#7201a8"
             ],
             [
              0.3333333333333333,
              "#9c179e"
             ],
             [
              0.4444444444444444,
              "#bd3786"
             ],
             [
              0.5555555555555556,
              "#d8576b"
             ],
             [
              0.6666666666666666,
              "#ed7953"
             ],
             [
              0.7777777777777778,
              "#fb9f3a"
             ],
             [
              0.8888888888888888,
              "#fdca26"
             ],
             [
              1,
              "#f0f921"
             ]
            ],
            "type": "surface"
           }
          ],
          "table": [
           {
            "cells": {
             "fill": {
              "color": "#EBF0F8"
             },
             "line": {
              "color": "white"
             }
            },
            "header": {
             "fill": {
              "color": "#C8D4E3"
             },
             "line": {
              "color": "white"
             }
            },
            "type": "table"
           }
          ]
         },
         "layout": {
          "annotationdefaults": {
           "arrowcolor": "#2a3f5f",
           "arrowhead": 0,
           "arrowwidth": 1
          },
          "coloraxis": {
           "colorbar": {
            "outlinewidth": 0,
            "ticks": ""
           }
          },
          "colorscale": {
           "diverging": [
            [
             0,
             "#8e0152"
            ],
            [
             0.1,
             "#c51b7d"
            ],
            [
             0.2,
             "#de77ae"
            ],
            [
             0.3,
             "#f1b6da"
            ],
            [
             0.4,
             "#fde0ef"
            ],
            [
             0.5,
             "#f7f7f7"
            ],
            [
             0.6,
             "#e6f5d0"
            ],
            [
             0.7,
             "#b8e186"
            ],
            [
             0.8,
             "#7fbc41"
            ],
            [
             0.9,
             "#4d9221"
            ],
            [
             1,
             "#276419"
            ]
           ],
           "sequential": [
            [
             0,
             "#0d0887"
            ],
            [
             0.1111111111111111,
             "#46039f"
            ],
            [
             0.2222222222222222,
             "#7201a8"
            ],
            [
             0.3333333333333333,
             "#9c179e"
            ],
            [
             0.4444444444444444,
             "#bd3786"
            ],
            [
             0.5555555555555556,
             "#d8576b"
            ],
            [
             0.6666666666666666,
             "#ed7953"
            ],
            [
             0.7777777777777778,
             "#fb9f3a"
            ],
            [
             0.8888888888888888,
             "#fdca26"
            ],
            [
             1,
             "#f0f921"
            ]
           ],
           "sequentialminus": [
            [
             0,
             "#0d0887"
            ],
            [
             0.1111111111111111,
             "#46039f"
            ],
            [
             0.2222222222222222,
             "#7201a8"
            ],
            [
             0.3333333333333333,
             "#9c179e"
            ],
            [
             0.4444444444444444,
             "#bd3786"
            ],
            [
             0.5555555555555556,
             "#d8576b"
            ],
            [
             0.6666666666666666,
             "#ed7953"
            ],
            [
             0.7777777777777778,
             "#fb9f3a"
            ],
            [
             0.8888888888888888,
             "#fdca26"
            ],
            [
             1,
             "#f0f921"
            ]
           ]
          },
          "colorway": [
           "#636efa",
           "#EF553B",
           "#00cc96",
           "#ab63fa",
           "#FFA15A",
           "#19d3f3",
           "#FF6692",
           "#B6E880",
           "#FF97FF",
           "#FECB52"
          ],
          "font": {
           "color": "#2a3f5f"
          },
          "geo": {
           "bgcolor": "white",
           "lakecolor": "white",
           "landcolor": "#E5ECF6",
           "showlakes": true,
           "showland": true,
           "subunitcolor": "white"
          },
          "hoverlabel": {
           "align": "left"
          },
          "hovermode": "closest",
          "mapbox": {
           "style": "light"
          },
          "paper_bgcolor": "white",
          "plot_bgcolor": "#E5ECF6",
          "polar": {
           "angularaxis": {
            "gridcolor": "white",
            "linecolor": "white",
            "ticks": ""
           },
           "bgcolor": "#E5ECF6",
           "radialaxis": {
            "gridcolor": "white",
            "linecolor": "white",
            "ticks": ""
           }
          },
          "scene": {
           "xaxis": {
            "backgroundcolor": "#E5ECF6",
            "gridcolor": "white",
            "gridwidth": 2,
            "linecolor": "white",
            "showbackground": true,
            "ticks": "",
            "zerolinecolor": "white"
           },
           "yaxis": {
            "backgroundcolor": "#E5ECF6",
            "gridcolor": "white",
            "gridwidth": 2,
            "linecolor": "white",
            "showbackground": true,
            "ticks": "",
            "zerolinecolor": "white"
           },
           "zaxis": {
            "backgroundcolor": "#E5ECF6",
            "gridcolor": "white",
            "gridwidth": 2,
            "linecolor": "white",
            "showbackground": true,
            "ticks": "",
            "zerolinecolor": "white"
           }
          },
          "shapedefaults": {
           "line": {
            "color": "#2a3f5f"
           }
          },
          "ternary": {
           "aaxis": {
            "gridcolor": "white",
            "linecolor": "white",
            "ticks": ""
           },
           "baxis": {
            "gridcolor": "white",
            "linecolor": "white",
            "ticks": ""
           },
           "bgcolor": "#E5ECF6",
           "caxis": {
            "gridcolor": "white",
            "linecolor": "white",
            "ticks": ""
           }
          },
          "title": {
           "x": 0.05
          },
          "xaxis": {
           "automargin": true,
           "gridcolor": "white",
           "linecolor": "white",
           "ticks": "",
           "title": {
            "standoff": 15
           },
           "zerolinecolor": "white",
           "zerolinewidth": 2
          },
          "yaxis": {
           "automargin": true,
           "gridcolor": "white",
           "linecolor": "white",
           "ticks": "",
           "title": {
            "standoff": 15
           },
           "zerolinecolor": "white",
           "zerolinewidth": 2
          }
         }
        },
        "title": {
         "text": "U.S. NG demand during withdrawal seasons"
        },
        "xaxis": {
         "anchor": "y",
         "domain": [
          0,
          1
         ],
         "title": {
          "text": "injection season year"
         }
        },
        "yaxis": {
         "anchor": "x",
         "domain": [
          0,
          1
         ],
         "title": {
          "text": "demand in cubic feet"
         }
        }
       }
      },
      "text/html": [
       "<div>                            <div id=\"896c3c0b-4c4a-4b8c-be0a-45aed11d208b\" class=\"plotly-graph-div\" style=\"height:525px; width:100%;\"></div>            <script type=\"text/javascript\">                require([\"plotly\"], function(Plotly) {                    window.PLOTLYENV=window.PLOTLYENV || {};                                    if (document.getElementById(\"896c3c0b-4c4a-4b8c-be0a-45aed11d208b\")) {                    Plotly.newPlot(                        \"896c3c0b-4c4a-4b8c-be0a-45aed11d208b\",                        [{\"alignmentgroup\": \"True\", \"hovertemplate\": \"variable=comDemand<br>Season=%{x}<br>value=%{y}<extra></extra>\", \"legendgroup\": \"comDemand\", \"marker\": {\"color\": \"#636efa\"}, \"name\": \"comDemand\", \"offsetgroup\": \"comDemand\", \"orientation\": \"v\", \"showlegend\": true, \"textposition\": \"auto\", \"type\": \"bar\", \"x\": [\"wd2001\", \"wd2002\", \"wd2003\", \"wd2004\", \"wd2005\", \"wd2006\", \"wd2007\", \"wd2008\", \"wd2009\", \"wd2010\", \"wd2011\", \"wd2012\", \"wd2013\", \"wd2014\", \"wd2015\", \"wd2016\", \"wd2017\", \"wd2018\", \"wd2019\", \"wd2020\", \"wd2021\"], \"xaxis\": \"x\", \"y\": [1784582000000.0, 2103069000000.0, 1985341000000.0, 1913815000000.0, 1793912000000.0, 1866116000000.0, 1968647000000.0, 2001130000000.0, 1957157000000.0, 2074736000000.0, 1781124000000.0, 2000366000000.0, 2301763000000.0, 2224025000000.0, 1850825000000.0, 1953762000000.0, 2205355000000.0, 2296126000000.0, 2122966000000.0, 2085500000000.0, 2138594000000.0], \"yaxis\": \"y\"}, {\"alignmentgroup\": \"True\", \"hovertemplate\": \"variable=resDemand<br>Season=%{x}<br>value=%{y}<extra></extra>\", \"legendgroup\": \"resDemand\", \"marker\": {\"color\": \"#EF553B\"}, \"name\": \"resDemand\", \"offsetgroup\": \"resDemand\", \"orientation\": \"v\", \"showlegend\": true, \"textposition\": \"auto\", \"type\": \"bar\", \"x\": [\"wd2001\", \"wd2002\", \"wd2003\", \"wd2004\", \"wd2005\", \"wd2006\", \"wd2007\", \"wd2008\", \"wd2009\", \"wd2010\", \"wd2011\", \"wd2012\", \"wd2013\", \"wd2014\", \"wd2015\", \"wd2016\", \"wd2017\", \"wd2018\", \"wd2019\", \"wd2020\", \"wd2021\"], \"xaxis\": \"x\", \"y\": [3158266000000.0, 3759621000000.0, 3564047000000.0, 3462295000000.0, 3200165000000.0, 3356071000000.0, 3480525000000.0, 3509647000000.0, 3447401000000.0, 3626500000000.0, 2987308000000.0, 3437113000000.0, 3955769000000.0, 3733844000000.0, 3021535000000.0, 3164226000000.0, 3620171000000.0, 3815993000000.0, 3430440000000.0, 3549996000000.0, 3485062000000.0], \"yaxis\": \"y\"}, {\"alignmentgroup\": \"True\", \"hovertemplate\": \"variable=indDemand<br>Season=%{x}<br>value=%{y}<extra></extra>\", \"legendgroup\": \"indDemand\", \"marker\": {\"color\": \"#00cc96\"}, \"name\": \"indDemand\", \"offsetgroup\": \"indDemand\", \"orientation\": \"v\", \"showlegend\": true, \"textposition\": \"auto\", \"type\": \"bar\", \"x\": [\"wd2001\", \"wd2002\", \"wd2003\", \"wd2004\", \"wd2005\", \"wd2006\", \"wd2007\", \"wd2008\", \"wd2009\", \"wd2010\", \"wd2011\", \"wd2012\", \"wd2013\", \"wd2014\", \"wd2015\", \"wd2016\", \"wd2017\", \"wd2018\", \"wd2019\", \"wd2020\", \"wd2021\"], \"xaxis\": \"x\", \"y\": [3236089000000.0, 3241498000000.0, 3197688000000.0, 3113640000000.0, 2827092000000.0, 2933356000000.0, 3070288000000.0, 2741886000000.0, 2966511000000.0, 3092567000000.0, 3133888000000.0, 3219365000000.0, 3421233000000.0, 3389290000000.0, 3359724000000.0, 3468655000000.0, 3675390000000.0, 3773362000000.0, 3726176000000.0, 3621740000000.0, 3756885000000.0], \"yaxis\": \"y\"}, {\"alignmentgroup\": \"True\", \"hovertemplate\": \"variable=vehDemand<br>Season=%{x}<br>value=%{y}<extra></extra>\", \"legendgroup\": \"vehDemand\", \"marker\": {\"color\": \"#ab63fa\"}, \"name\": \"vehDemand\", \"offsetgroup\": \"vehDemand\", \"orientation\": \"v\", \"showlegend\": true, \"textposition\": \"auto\", \"type\": \"bar\", \"x\": [\"wd2001\", \"wd2002\", \"wd2003\", \"wd2004\", \"wd2005\", \"wd2006\", \"wd2007\", \"wd2008\", \"wd2009\", \"wd2010\", \"wd2011\", \"wd2012\", \"wd2013\", \"wd2014\", \"wd2015\", \"wd2016\", \"wd2017\", \"wd2018\", \"wd2019\", \"wd2020\", \"wd2021\"], \"xaxis\": \"x\", \"y\": [6117000000.0, 7005000000.0, 8153000000.0, 9061000000.0, 9678000000.0, 10046000000.0, 10581000000.0, 11052000000.0, 11623000000.0, 12181000000.0, 12461000000.0, 12404000000.0, 13722000000.0, 15609000000.0, 17033000000.0, 18891000000.0, 20487000000.0, 21534000000.0, 21100000000.0, 21296000000.0, 21992000000.0], \"yaxis\": \"y\"}, {\"alignmentgroup\": \"True\", \"hovertemplate\": \"variable=l&pDemand<br>Season=%{x}<br>value=%{y}<extra></extra>\", \"legendgroup\": \"l&pDemand\", \"marker\": {\"color\": \"#FFA15A\"}, \"name\": \"l&pDemand\", \"offsetgroup\": \"l&pDemand\", \"orientation\": \"v\", \"showlegend\": true, \"textposition\": \"auto\", \"type\": \"bar\", \"x\": [\"wd2001\", \"wd2002\", \"wd2003\", \"wd2004\", \"wd2005\", \"wd2006\", \"wd2007\", \"wd2008\", \"wd2009\", \"wd2010\", \"wd2011\", \"wd2012\", \"wd2013\", \"wd2014\", \"wd2015\", \"wd2016\", \"wd2017\", \"wd2018\", \"wd2019\", \"wd2020\", \"wd2021\"], \"xaxis\": \"x\", \"y\": [462899000000.0, 466177000000.0, 462170000000.0, 465561000000.0, 462542000000.0, 490788000000.0, 514249000000.0, 528186000000.0, 521633000000.0, 539182000000.0, 577635000000.0, 595164000000.0, 608115000000.0, 646654000000.0, 653616000000.0, 628530000000.0, 680329000000.0, 735875000000.0, 785892000000.0, 740874000000.0, 781503000000.0], \"yaxis\": \"y\"}, {\"alignmentgroup\": \"True\", \"hovertemplate\": \"variable=pplDemand<br>Season=%{x}<br>value=%{y}<extra></extra>\", \"legendgroup\": \"pplDemand\", \"marker\": {\"color\": \"#19d3f3\"}, \"name\": \"pplDemand\", \"offsetgroup\": \"pplDemand\", \"orientation\": \"v\", \"showlegend\": true, \"textposition\": \"auto\", \"type\": \"bar\", \"x\": [\"wd2001\", \"wd2002\", \"wd2003\", \"wd2004\", \"wd2005\", \"wd2006\", \"wd2007\", \"wd2008\", \"wd2009\", \"wd2010\", \"wd2011\", \"wd2012\", \"wd2013\", \"wd2014\", \"wd2015\", \"wd2016\", \"wd2017\", \"wd2018\", \"wd2019\", \"wd2020\", \"wd2021\"], \"xaxis\": \"x\", \"y\": [311929000000.0, 323833000000.0, 293742000000.0, 292361000000.0, 281336000000.0, 300190000000.0, 326073000000.0, 333366000000.0, 336210000000.0, 347502000000.0, 342038000000.0, 391150000000.0, 395784000000.0, 351187000000.0, 325289000000.0, 335612000000.0, 406170000000.0, 477266000000.0, 497241000000.0, 481984000000.0, 496642000000.0], \"yaxis\": \"y\"}, {\"alignmentgroup\": \"True\", \"hovertemplate\": \"variable=PowerGen<br>Season=%{x}<br>value=%{y}<extra></extra>\", \"legendgroup\": \"PowerGen\", \"marker\": {\"color\": \"#FF6692\"}, \"name\": \"PowerGen\", \"offsetgroup\": \"PowerGen\", \"orientation\": \"v\", \"showlegend\": true, \"textposition\": \"auto\", \"type\": \"bar\", \"x\": [\"wd2001\", \"wd2002\", \"wd2003\", \"wd2004\", \"wd2005\", \"wd2006\", \"wd2007\", \"wd2008\", \"wd2009\", \"wd2010\", \"wd2011\", \"wd2012\", \"wd2013\", \"wd2014\", \"wd2015\", \"wd2016\", \"wd2017\", \"wd2018\", \"wd2019\", \"wd2020\", \"wd2021\"], \"xaxis\": \"x\", \"y\": [1849760000000.0, 1790119000000.0, 1794009000000.0, 1864425000000.0, 1851049000000.0, 2100600000000.0, 2376776000000.0, 2374561000000.0, 2459221000000.0, 2566217000000.0, 3123892000000.0, 2983230000000.0, 3044609000000.0, 3307559000000.0, 3709538000000.0, 3233413000000.0, 3683736000000.0, 3966527000000.0, 4419395000000.0, 4051186000000.0, 4346321000000.0], \"yaxis\": \"y\"}, {\"alignmentgroup\": \"True\", \"hovertemplate\": \"variable=cgsExports<br>Season=%{x}<br>value=%{y}<extra></extra>\", \"legendgroup\": \"cgsExports\", \"marker\": {\"color\": \"#B6E880\"}, \"name\": \"cgsExports\", \"offsetgroup\": \"cgsExports\", \"orientation\": \"v\", \"showlegend\": true, \"textposition\": \"auto\", \"type\": \"bar\", \"x\": [\"wd2001\", \"wd2002\", \"wd2003\", \"wd2004\", \"wd2005\", \"wd2006\", \"wd2007\", \"wd2008\", \"wd2009\", \"wd2010\", \"wd2011\", \"wd2012\", \"wd2013\", \"wd2014\", \"wd2015\", \"wd2016\", \"wd2017\", \"wd2018\", \"wd2019\", \"wd2020\", \"wd2021\"], \"xaxis\": \"x\", \"y\": [null, null, null, null, null, null, null, null, null, null, 0.0, 0.0, 131000000.0, 106000000.0, 115000000.0, 104000000.0, 70000000.0, 106000000.0, 160000000.0, 164000000.0, 0.0], \"yaxis\": \"y\"}, {\"alignmentgroup\": \"True\", \"hovertemplate\": \"variable=pplExports<br>Season=%{x}<br>value=%{y}<extra></extra>\", \"legendgroup\": \"pplExports\", \"marker\": {\"color\": \"#FF97FF\"}, \"name\": \"pplExports\", \"offsetgroup\": \"pplExports\", \"orientation\": \"v\", \"showlegend\": true, \"textposition\": \"auto\", \"type\": \"bar\", \"x\": [\"wd2001\", \"wd2002\", \"wd2003\", \"wd2004\", \"wd2005\", \"wd2006\", \"wd2007\", \"wd2008\", \"wd2009\", \"wd2010\", \"wd2011\", \"wd2012\", \"wd2013\", \"wd2014\", \"wd2015\", \"wd2016\", \"wd2017\", \"wd2018\", \"wd2019\", \"wd2020\", \"wd2021\"], \"xaxis\": \"x\", \"y\": [159974000000.0, 247886000000.0, 349157000000.0, 418295000000.0, 246146000000.0, 320492000000.0, 480817000000.0, 503056000000.0, 475703000000.0, 614625000000.0, 642998000000.0, 731242000000.0, 648221000000.0, 705524000000.0, 824017000000.0, 1053447000000.0, 1054755000000.0, 1178752000000.0, 1254052000000.0, 1244595000000.0, 1284665000000.0], \"yaxis\": \"y\"}, {\"alignmentgroup\": \"True\", \"hovertemplate\": \"variable=lngExports<br>Season=%{x}<br>value=%{y}<extra></extra>\", \"legendgroup\": \"lngExports\", \"marker\": {\"color\": \"#FECB52\"}, \"name\": \"lngExports\", \"offsetgroup\": \"lngExports\", \"orientation\": \"v\", \"showlegend\": true, \"textposition\": \"auto\", \"type\": \"bar\", \"x\": [\"wd2001\", \"wd2002\", \"wd2003\", \"wd2004\", \"wd2005\", \"wd2006\", \"wd2007\", \"wd2008\", \"wd2009\", \"wd2010\", \"wd2011\", \"wd2012\", \"wd2013\", \"wd2014\", \"wd2015\", \"wd2016\", \"wd2017\", \"wd2018\", \"wd2019\", \"wd2020\", \"wd2021\"], \"xaxis\": \"x\", \"y\": [26446000000.0, 28217000000.0, 27290000000.0, 27978000000.0, 27890000000.0, 23915000000.0, 16163000000.0, 13361000000.0, 17482000000.0, 49128000000.0, 20778000000.0, 5585000000.0, 5524000000.0, 5658000000.0, 19554000000.0, 221738000000.0, 400393000000.0, 591017000000.0, 1131616000000.0, 1419558000000.0, 1686433000000.0], \"yaxis\": \"y\"}],                        {\"barmode\": \"relative\", \"images\": [{\"sizex\": 0.2, \"sizey\": 0.2, \"source\": \"https://upload.wikimedia.org/wikipedia/commons/1/1f/Energy_Information_Administration_logo.svg\", \"x\": 1.07, \"xanchor\": \"center\", \"y\": -0.1, \"yanchor\": \"bottom\"}], \"legend\": {\"title\": {\"text\": \"variable\"}, \"tracegroupgap\": 0, \"traceorder\": \"reversed\"}, \"template\": {\"data\": {\"bar\": [{\"error_x\": {\"color\": \"#2a3f5f\"}, \"error_y\": {\"color\": \"#2a3f5f\"}, \"marker\": {\"line\": {\"color\": \"#E5ECF6\", \"width\": 0.5}}, \"type\": \"bar\"}], \"barpolar\": [{\"marker\": {\"line\": {\"color\": \"#E5ECF6\", \"width\": 0.5}}, \"type\": \"barpolar\"}], \"carpet\": [{\"aaxis\": {\"endlinecolor\": \"#2a3f5f\", \"gridcolor\": \"white\", \"linecolor\": \"white\", \"minorgridcolor\": \"white\", \"startlinecolor\": \"#2a3f5f\"}, \"baxis\": {\"endlinecolor\": \"#2a3f5f\", \"gridcolor\": \"white\", \"linecolor\": \"white\", \"minorgridcolor\": \"white\", \"startlinecolor\": \"#2a3f5f\"}, \"type\": \"carpet\"}], \"choropleth\": [{\"colorbar\": {\"outlinewidth\": 0, \"ticks\": \"\"}, \"type\": \"choropleth\"}], \"contour\": [{\"colorbar\": {\"outlinewidth\": 0, \"ticks\": \"\"}, \"colorscale\": [[0.0, \"#0d0887\"], [0.1111111111111111, \"#46039f\"], [0.2222222222222222, \"#7201a8\"], [0.3333333333333333, \"#9c179e\"], [0.4444444444444444, \"#bd3786\"], [0.5555555555555556, \"#d8576b\"], [0.6666666666666666, \"#ed7953\"], [0.7777777777777778, \"#fb9f3a\"], [0.8888888888888888, \"#fdca26\"], [1.0, \"#f0f921\"]], \"type\": \"contour\"}], \"contourcarpet\": [{\"colorbar\": {\"outlinewidth\": 0, \"ticks\": \"\"}, \"type\": \"contourcarpet\"}], \"heatmap\": [{\"colorbar\": {\"outlinewidth\": 0, \"ticks\": \"\"}, \"colorscale\": [[0.0, \"#0d0887\"], [0.1111111111111111, \"#46039f\"], [0.2222222222222222, \"#7201a8\"], [0.3333333333333333, \"#9c179e\"], [0.4444444444444444, \"#bd3786\"], [0.5555555555555556, \"#d8576b\"], [0.6666666666666666, \"#ed7953\"], [0.7777777777777778, \"#fb9f3a\"], [0.8888888888888888, \"#fdca26\"], [1.0, \"#f0f921\"]], \"type\": \"heatmap\"}], \"heatmapgl\": [{\"colorbar\": {\"outlinewidth\": 0, \"ticks\": \"\"}, \"colorscale\": [[0.0, \"#0d0887\"], [0.1111111111111111, \"#46039f\"], [0.2222222222222222, \"#7201a8\"], [0.3333333333333333, \"#9c179e\"], [0.4444444444444444, \"#bd3786\"], [0.5555555555555556, \"#d8576b\"], [0.6666666666666666, \"#ed7953\"], [0.7777777777777778, \"#fb9f3a\"], [0.8888888888888888, \"#fdca26\"], [1.0, \"#f0f921\"]], \"type\": \"heatmapgl\"}], \"histogram\": [{\"marker\": {\"colorbar\": {\"outlinewidth\": 0, \"ticks\": \"\"}}, \"type\": \"histogram\"}], \"histogram2d\": [{\"colorbar\": {\"outlinewidth\": 0, \"ticks\": \"\"}, \"colorscale\": [[0.0, \"#0d0887\"], [0.1111111111111111, \"#46039f\"], [0.2222222222222222, \"#7201a8\"], [0.3333333333333333, \"#9c179e\"], [0.4444444444444444, \"#bd3786\"], [0.5555555555555556, \"#d8576b\"], [0.6666666666666666, \"#ed7953\"], [0.7777777777777778, \"#fb9f3a\"], [0.8888888888888888, \"#fdca26\"], [1.0, \"#f0f921\"]], \"type\": \"histogram2d\"}], \"histogram2dcontour\": [{\"colorbar\": {\"outlinewidth\": 0, \"ticks\": \"\"}, \"colorscale\": [[0.0, \"#0d0887\"], [0.1111111111111111, \"#46039f\"], [0.2222222222222222, \"#7201a8\"], [0.3333333333333333, \"#9c179e\"], [0.4444444444444444, \"#bd3786\"], [0.5555555555555556, \"#d8576b\"], [0.6666666666666666, \"#ed7953\"], [0.7777777777777778, \"#fb9f3a\"], [0.8888888888888888, \"#fdca26\"], [1.0, \"#f0f921\"]], \"type\": \"histogram2dcontour\"}], \"mesh3d\": [{\"colorbar\": {\"outlinewidth\": 0, \"ticks\": \"\"}, \"type\": \"mesh3d\"}], \"parcoords\": [{\"line\": {\"colorbar\": {\"outlinewidth\": 0, \"ticks\": \"\"}}, \"type\": \"parcoords\"}], \"pie\": [{\"automargin\": true, \"type\": \"pie\"}], \"scatter\": [{\"marker\": {\"colorbar\": {\"outlinewidth\": 0, \"ticks\": \"\"}}, \"type\": \"scatter\"}], \"scatter3d\": [{\"line\": {\"colorbar\": {\"outlinewidth\": 0, \"ticks\": \"\"}}, \"marker\": {\"colorbar\": {\"outlinewidth\": 0, \"ticks\": \"\"}}, \"type\": \"scatter3d\"}], \"scattercarpet\": [{\"marker\": {\"colorbar\": {\"outlinewidth\": 0, \"ticks\": \"\"}}, \"type\": \"scattercarpet\"}], \"scattergeo\": [{\"marker\": {\"colorbar\": {\"outlinewidth\": 0, \"ticks\": \"\"}}, \"type\": \"scattergeo\"}], \"scattergl\": [{\"marker\": {\"colorbar\": {\"outlinewidth\": 0, \"ticks\": \"\"}}, \"type\": \"scattergl\"}], \"scattermapbox\": [{\"marker\": {\"colorbar\": {\"outlinewidth\": 0, \"ticks\": \"\"}}, \"type\": \"scattermapbox\"}], \"scatterpolar\": [{\"marker\": {\"colorbar\": {\"outlinewidth\": 0, \"ticks\": \"\"}}, \"type\": \"scatterpolar\"}], \"scatterpolargl\": [{\"marker\": {\"colorbar\": {\"outlinewidth\": 0, \"ticks\": \"\"}}, \"type\": \"scatterpolargl\"}], \"scatterternary\": [{\"marker\": {\"colorbar\": {\"outlinewidth\": 0, \"ticks\": \"\"}}, \"type\": \"scatterternary\"}], \"surface\": [{\"colorbar\": {\"outlinewidth\": 0, \"ticks\": \"\"}, \"colorscale\": [[0.0, \"#0d0887\"], [0.1111111111111111, \"#46039f\"], [0.2222222222222222, \"#7201a8\"], [0.3333333333333333, \"#9c179e\"], [0.4444444444444444, \"#bd3786\"], [0.5555555555555556, \"#d8576b\"], [0.6666666666666666, \"#ed7953\"], [0.7777777777777778, \"#fb9f3a\"], [0.8888888888888888, \"#fdca26\"], [1.0, \"#f0f921\"]], \"type\": \"surface\"}], \"table\": [{\"cells\": {\"fill\": {\"color\": \"#EBF0F8\"}, \"line\": {\"color\": \"white\"}}, \"header\": {\"fill\": {\"color\": \"#C8D4E3\"}, \"line\": {\"color\": \"white\"}}, \"type\": \"table\"}]}, \"layout\": {\"annotationdefaults\": {\"arrowcolor\": \"#2a3f5f\", \"arrowhead\": 0, \"arrowwidth\": 1}, \"coloraxis\": {\"colorbar\": {\"outlinewidth\": 0, \"ticks\": \"\"}}, \"colorscale\": {\"diverging\": [[0, \"#8e0152\"], [0.1, \"#c51b7d\"], [0.2, \"#de77ae\"], [0.3, \"#f1b6da\"], [0.4, \"#fde0ef\"], [0.5, \"#f7f7f7\"], [0.6, \"#e6f5d0\"], [0.7, \"#b8e186\"], [0.8, \"#7fbc41\"], [0.9, \"#4d9221\"], [1, \"#276419\"]], \"sequential\": [[0.0, \"#0d0887\"], [0.1111111111111111, \"#46039f\"], [0.2222222222222222, \"#7201a8\"], [0.3333333333333333, \"#9c179e\"], [0.4444444444444444, \"#bd3786\"], [0.5555555555555556, \"#d8576b\"], [0.6666666666666666, \"#ed7953\"], [0.7777777777777778, \"#fb9f3a\"], [0.8888888888888888, \"#fdca26\"], [1.0, \"#f0f921\"]], \"sequentialminus\": [[0.0, \"#0d0887\"], [0.1111111111111111, \"#46039f\"], [0.2222222222222222, \"#7201a8\"], [0.3333333333333333, \"#9c179e\"], [0.4444444444444444, \"#bd3786\"], [0.5555555555555556, \"#d8576b\"], [0.6666666666666666, \"#ed7953\"], [0.7777777777777778, \"#fb9f3a\"], [0.8888888888888888, \"#fdca26\"], [1.0, \"#f0f921\"]]}, \"colorway\": [\"#636efa\", \"#EF553B\", \"#00cc96\", \"#ab63fa\", \"#FFA15A\", \"#19d3f3\", \"#FF6692\", \"#B6E880\", \"#FF97FF\", \"#FECB52\"], \"font\": {\"color\": \"#2a3f5f\"}, \"geo\": {\"bgcolor\": \"white\", \"lakecolor\": \"white\", \"landcolor\": \"#E5ECF6\", \"showlakes\": true, \"showland\": true, \"subunitcolor\": \"white\"}, \"hoverlabel\": {\"align\": \"left\"}, \"hovermode\": \"closest\", \"mapbox\": {\"style\": \"light\"}, \"paper_bgcolor\": \"white\", \"plot_bgcolor\": \"#E5ECF6\", \"polar\": {\"angularaxis\": {\"gridcolor\": \"white\", \"linecolor\": \"white\", \"ticks\": \"\"}, \"bgcolor\": \"#E5ECF6\", \"radialaxis\": {\"gridcolor\": \"white\", \"linecolor\": \"white\", \"ticks\": \"\"}}, \"scene\": {\"xaxis\": {\"backgroundcolor\": \"#E5ECF6\", \"gridcolor\": \"white\", \"gridwidth\": 2, \"linecolor\": \"white\", \"showbackground\": true, \"ticks\": \"\", \"zerolinecolor\": \"white\"}, \"yaxis\": {\"backgroundcolor\": \"#E5ECF6\", \"gridcolor\": \"white\", \"gridwidth\": 2, \"linecolor\": \"white\", \"showbackground\": true, \"ticks\": \"\", \"zerolinecolor\": \"white\"}, \"zaxis\": {\"backgroundcolor\": \"#E5ECF6\", \"gridcolor\": \"white\", \"gridwidth\": 2, \"linecolor\": \"white\", \"showbackground\": true, \"ticks\": \"\", \"zerolinecolor\": \"white\"}}, \"shapedefaults\": {\"line\": {\"color\": \"#2a3f5f\"}}, \"ternary\": {\"aaxis\": {\"gridcolor\": \"white\", \"linecolor\": \"white\", \"ticks\": \"\"}, \"baxis\": {\"gridcolor\": \"white\", \"linecolor\": \"white\", \"ticks\": \"\"}, \"bgcolor\": \"#E5ECF6\", \"caxis\": {\"gridcolor\": \"white\", \"linecolor\": \"white\", \"ticks\": \"\"}}, \"title\": {\"x\": 0.05}, \"xaxis\": {\"automargin\": true, \"gridcolor\": \"white\", \"linecolor\": \"white\", \"ticks\": \"\", \"title\": {\"standoff\": 15}, \"zerolinecolor\": \"white\", \"zerolinewidth\": 2}, \"yaxis\": {\"automargin\": true, \"gridcolor\": \"white\", \"linecolor\": \"white\", \"ticks\": \"\", \"title\": {\"standoff\": 15}, \"zerolinecolor\": \"white\", \"zerolinewidth\": 2}}}, \"title\": {\"text\": \"U.S. NG demand during withdrawal seasons\"}, \"xaxis\": {\"anchor\": \"y\", \"domain\": [0.0, 1.0], \"title\": {\"text\": \"injection season year\"}}, \"yaxis\": {\"anchor\": \"x\", \"domain\": [0.0, 1.0], \"title\": {\"text\": \"demand in cubic feet\"}}},                        {\"responsive\": true}                    ).then(function(){\n",
       "                            \n",
       "var gd = document.getElementById('896c3c0b-4c4a-4b8c-be0a-45aed11d208b');\n",
       "var x = new MutationObserver(function (mutations, observer) {{\n",
       "        var display = window.getComputedStyle(gd).display;\n",
       "        if (!display || display === 'none') {{\n",
       "            console.log([gd, 'removed!']);\n",
       "            Plotly.purge(gd);\n",
       "            observer.disconnect();\n",
       "        }}\n",
       "}});\n",
       "\n",
       "// Listen for the removal of the full notebook cells\n",
       "var notebookContainer = gd.closest('#notebook-container');\n",
       "if (notebookContainer) {{\n",
       "    x.observe(notebookContainer, {childList: true});\n",
       "}}\n",
       "\n",
       "// Listen for the clearing of the current output cell\n",
       "var outputEl = gd.closest('.output');\n",
       "if (outputEl) {{\n",
       "    x.observe(outputEl, {childList: true});\n",
       "}}\n",
       "\n",
       "                        })                };                });            </script>        </div>"
      ]
     },
     "metadata": {},
     "output_type": "display_data"
    }
   ],
   "source": [
    "fig = px.bar(wdSeason, title=\"U.S. NG demand during withdrawal seasons\")\n",
    "fig.update_layout(xaxis_title='injection season year', yaxis_title='demand in cubic feet',legend={'traceorder': 'reversed'})\n",
    "fig.layout.images = eiaLg\n",
    "fig.show()"
   ]
  },
  {
   "cell_type": "code",
   "execution_count": 8,
   "metadata": {},
   "outputs": [],
   "source": [
    "ijSeasonAll = ijSeason.sum(axis=1)\n",
    "wdSeasonAll = wdSeason.sum(axis=1)"
   ]
  },
  {
   "cell_type": "code",
   "execution_count": 78,
   "metadata": {},
   "outputs": [
    {
     "data": {
      "application/vnd.plotly.v1+json": {
       "config": {
        "plotlyServerURL": "https://plot.ly"
       },
       "data": [
        {
         "alignmentgroup": "True",
         "hovertemplate": " injection season year=%{x}<br>demand in cubic feet=%{y}<extra></extra>",
         "legendgroup": "",
         "marker": {
          "color": "#636efa"
         },
         "name": "",
         "offsetgroup": "",
         "orientation": "v",
         "showlegend": false,
         "textposition": "auto",
         "type": "bar",
         "x": [
          "ij2001",
          "ij2002",
          "ij2003",
          "ij2004",
          "ij2005",
          "ij2006",
          "ij2007",
          "ij2008",
          "ij2009",
          "ij2010",
          "ij2011",
          "ij2012",
          "ij2013",
          "ij2014",
          "ij2015",
          "ij2016",
          "ij2017",
          "ij2018",
          "ij2019",
          "ij2020",
          "ij2021"
         ],
         "xaxis": "x",
         "y": [
          11389710000000,
          12049811000000,
          11224998000000,
          11461417000000,
          11375219000000,
          11773443000000,
          12133359000000,
          11952852000000,
          11952259000000,
          12562950000000,
          13170725000000,
          14398332000000,
          13855700000000,
          13886967000000,
          14787645000000,
          15648751000000,
          15691246000000,
          17614009000000,
          18472011000000,
          18560860000000,
          19588846000000
         ],
         "yaxis": "y"
        }
       ],
       "layout": {
        "barmode": "relative",
        "images": [
         {
          "sizex": 0.1,
          "sizey": 0.1,
          "source": "https://upload.wikimedia.org/wikipedia/commons/1/1f/Energy_Information_Administration_logo.svg",
          "x": 1.03,
          "xanchor": "center",
          "y": 1.1,
          "yanchor": "bottom"
         }
        ],
        "legend": {
         "tracegroupgap": 0
        },
        "showlegend": true,
        "template": {
         "data": {
          "bar": [
           {
            "error_x": {
             "color": "#2a3f5f"
            },
            "error_y": {
             "color": "#2a3f5f"
            },
            "marker": {
             "line": {
              "color": "#E5ECF6",
              "width": 0.5
             }
            },
            "type": "bar"
           }
          ],
          "barpolar": [
           {
            "marker": {
             "line": {
              "color": "#E5ECF6",
              "width": 0.5
             }
            },
            "type": "barpolar"
           }
          ],
          "carpet": [
           {
            "aaxis": {
             "endlinecolor": "#2a3f5f",
             "gridcolor": "white",
             "linecolor": "white",
             "minorgridcolor": "white",
             "startlinecolor": "#2a3f5f"
            },
            "baxis": {
             "endlinecolor": "#2a3f5f",
             "gridcolor": "white",
             "linecolor": "white",
             "minorgridcolor": "white",
             "startlinecolor": "#2a3f5f"
            },
            "type": "carpet"
           }
          ],
          "choropleth": [
           {
            "colorbar": {
             "outlinewidth": 0,
             "ticks": ""
            },
            "type": "choropleth"
           }
          ],
          "contour": [
           {
            "colorbar": {
             "outlinewidth": 0,
             "ticks": ""
            },
            "colorscale": [
             [
              0,
              "#0d0887"
             ],
             [
              0.1111111111111111,
              "#46039f"
             ],
             [
              0.2222222222222222,
              "#7201a8"
             ],
             [
              0.3333333333333333,
              "#9c179e"
             ],
             [
              0.4444444444444444,
              "#bd3786"
             ],
             [
              0.5555555555555556,
              "#d8576b"
             ],
             [
              0.6666666666666666,
              "#ed7953"
             ],
             [
              0.7777777777777778,
              "#fb9f3a"
             ],
             [
              0.8888888888888888,
              "#fdca26"
             ],
             [
              1,
              "#f0f921"
             ]
            ],
            "type": "contour"
           }
          ],
          "contourcarpet": [
           {
            "colorbar": {
             "outlinewidth": 0,
             "ticks": ""
            },
            "type": "contourcarpet"
           }
          ],
          "heatmap": [
           {
            "colorbar": {
             "outlinewidth": 0,
             "ticks": ""
            },
            "colorscale": [
             [
              0,
              "#0d0887"
             ],
             [
              0.1111111111111111,
              "#46039f"
             ],
             [
              0.2222222222222222,
              "#7201a8"
             ],
             [
              0.3333333333333333,
              "#9c179e"
             ],
             [
              0.4444444444444444,
              "#bd3786"
             ],
             [
              0.5555555555555556,
              "#d8576b"
             ],
             [
              0.6666666666666666,
              "#ed7953"
             ],
             [
              0.7777777777777778,
              "#fb9f3a"
             ],
             [
              0.8888888888888888,
              "#fdca26"
             ],
             [
              1,
              "#f0f921"
             ]
            ],
            "type": "heatmap"
           }
          ],
          "heatmapgl": [
           {
            "colorbar": {
             "outlinewidth": 0,
             "ticks": ""
            },
            "colorscale": [
             [
              0,
              "#0d0887"
             ],
             [
              0.1111111111111111,
              "#46039f"
             ],
             [
              0.2222222222222222,
              "#7201a8"
             ],
             [
              0.3333333333333333,
              "#9c179e"
             ],
             [
              0.4444444444444444,
              "#bd3786"
             ],
             [
              0.5555555555555556,
              "#d8576b"
             ],
             [
              0.6666666666666666,
              "#ed7953"
             ],
             [
              0.7777777777777778,
              "#fb9f3a"
             ],
             [
              0.8888888888888888,
              "#fdca26"
             ],
             [
              1,
              "#f0f921"
             ]
            ],
            "type": "heatmapgl"
           }
          ],
          "histogram": [
           {
            "marker": {
             "colorbar": {
              "outlinewidth": 0,
              "ticks": ""
             }
            },
            "type": "histogram"
           }
          ],
          "histogram2d": [
           {
            "colorbar": {
             "outlinewidth": 0,
             "ticks": ""
            },
            "colorscale": [
             [
              0,
              "#0d0887"
             ],
             [
              0.1111111111111111,
              "#46039f"
             ],
             [
              0.2222222222222222,
              "#7201a8"
             ],
             [
              0.3333333333333333,
              "#9c179e"
             ],
             [
              0.4444444444444444,
              "#bd3786"
             ],
             [
              0.5555555555555556,
              "#d8576b"
             ],
             [
              0.6666666666666666,
              "#ed7953"
             ],
             [
              0.7777777777777778,
              "#fb9f3a"
             ],
             [
              0.8888888888888888,
              "#fdca26"
             ],
             [
              1,
              "#f0f921"
             ]
            ],
            "type": "histogram2d"
           }
          ],
          "histogram2dcontour": [
           {
            "colorbar": {
             "outlinewidth": 0,
             "ticks": ""
            },
            "colorscale": [
             [
              0,
              "#0d0887"
             ],
             [
              0.1111111111111111,
              "#46039f"
             ],
             [
              0.2222222222222222,
              "#7201a8"
             ],
             [
              0.3333333333333333,
              "#9c179e"
             ],
             [
              0.4444444444444444,
              "#bd3786"
             ],
             [
              0.5555555555555556,
              "#d8576b"
             ],
             [
              0.6666666666666666,
              "#ed7953"
             ],
             [
              0.7777777777777778,
              "#fb9f3a"
             ],
             [
              0.8888888888888888,
              "#fdca26"
             ],
             [
              1,
              "#f0f921"
             ]
            ],
            "type": "histogram2dcontour"
           }
          ],
          "mesh3d": [
           {
            "colorbar": {
             "outlinewidth": 0,
             "ticks": ""
            },
            "type": "mesh3d"
           }
          ],
          "parcoords": [
           {
            "line": {
             "colorbar": {
              "outlinewidth": 0,
              "ticks": ""
             }
            },
            "type": "parcoords"
           }
          ],
          "pie": [
           {
            "automargin": true,
            "type": "pie"
           }
          ],
          "scatter": [
           {
            "marker": {
             "colorbar": {
              "outlinewidth": 0,
              "ticks": ""
             }
            },
            "type": "scatter"
           }
          ],
          "scatter3d": [
           {
            "line": {
             "colorbar": {
              "outlinewidth": 0,
              "ticks": ""
             }
            },
            "marker": {
             "colorbar": {
              "outlinewidth": 0,
              "ticks": ""
             }
            },
            "type": "scatter3d"
           }
          ],
          "scattercarpet": [
           {
            "marker": {
             "colorbar": {
              "outlinewidth": 0,
              "ticks": ""
             }
            },
            "type": "scattercarpet"
           }
          ],
          "scattergeo": [
           {
            "marker": {
             "colorbar": {
              "outlinewidth": 0,
              "ticks": ""
             }
            },
            "type": "scattergeo"
           }
          ],
          "scattergl": [
           {
            "marker": {
             "colorbar": {
              "outlinewidth": 0,
              "ticks": ""
             }
            },
            "type": "scattergl"
           }
          ],
          "scattermapbox": [
           {
            "marker": {
             "colorbar": {
              "outlinewidth": 0,
              "ticks": ""
             }
            },
            "type": "scattermapbox"
           }
          ],
          "scatterpolar": [
           {
            "marker": {
             "colorbar": {
              "outlinewidth": 0,
              "ticks": ""
             }
            },
            "type": "scatterpolar"
           }
          ],
          "scatterpolargl": [
           {
            "marker": {
             "colorbar": {
              "outlinewidth": 0,
              "ticks": ""
             }
            },
            "type": "scatterpolargl"
           }
          ],
          "scatterternary": [
           {
            "marker": {
             "colorbar": {
              "outlinewidth": 0,
              "ticks": ""
             }
            },
            "type": "scatterternary"
           }
          ],
          "surface": [
           {
            "colorbar": {
             "outlinewidth": 0,
             "ticks": ""
            },
            "colorscale": [
             [
              0,
              "#0d0887"
             ],
             [
              0.1111111111111111,
              "#46039f"
             ],
             [
              0.2222222222222222,
              "#7201a8"
             ],
             [
              0.3333333333333333,
              "#9c179e"
             ],
             [
              0.4444444444444444,
              "#bd3786"
             ],
             [
              0.5555555555555556,
              "#d8576b"
             ],
             [
              0.6666666666666666,
              "#ed7953"
             ],
             [
              0.7777777777777778,
              "#fb9f3a"
             ],
             [
              0.8888888888888888,
              "#fdca26"
             ],
             [
              1,
              "#f0f921"
             ]
            ],
            "type": "surface"
           }
          ],
          "table": [
           {
            "cells": {
             "fill": {
              "color": "#EBF0F8"
             },
             "line": {
              "color": "white"
             }
            },
            "header": {
             "fill": {
              "color": "#C8D4E3"
             },
             "line": {
              "color": "white"
             }
            },
            "type": "table"
           }
          ]
         },
         "layout": {
          "annotationdefaults": {
           "arrowcolor": "#2a3f5f",
           "arrowhead": 0,
           "arrowwidth": 1
          },
          "coloraxis": {
           "colorbar": {
            "outlinewidth": 0,
            "ticks": ""
           }
          },
          "colorscale": {
           "diverging": [
            [
             0,
             "#8e0152"
            ],
            [
             0.1,
             "#c51b7d"
            ],
            [
             0.2,
             "#de77ae"
            ],
            [
             0.3,
             "#f1b6da"
            ],
            [
             0.4,
             "#fde0ef"
            ],
            [
             0.5,
             "#f7f7f7"
            ],
            [
             0.6,
             "#e6f5d0"
            ],
            [
             0.7,
             "#b8e186"
            ],
            [
             0.8,
             "#7fbc41"
            ],
            [
             0.9,
             "#4d9221"
            ],
            [
             1,
             "#276419"
            ]
           ],
           "sequential": [
            [
             0,
             "#0d0887"
            ],
            [
             0.1111111111111111,
             "#46039f"
            ],
            [
             0.2222222222222222,
             "#7201a8"
            ],
            [
             0.3333333333333333,
             "#9c179e"
            ],
            [
             0.4444444444444444,
             "#bd3786"
            ],
            [
             0.5555555555555556,
             "#d8576b"
            ],
            [
             0.6666666666666666,
             "#ed7953"
            ],
            [
             0.7777777777777778,
             "#fb9f3a"
            ],
            [
             0.8888888888888888,
             "#fdca26"
            ],
            [
             1,
             "#f0f921"
            ]
           ],
           "sequentialminus": [
            [
             0,
             "#0d0887"
            ],
            [
             0.1111111111111111,
             "#46039f"
            ],
            [
             0.2222222222222222,
             "#7201a8"
            ],
            [
             0.3333333333333333,
             "#9c179e"
            ],
            [
             0.4444444444444444,
             "#bd3786"
            ],
            [
             0.5555555555555556,
             "#d8576b"
            ],
            [
             0.6666666666666666,
             "#ed7953"
            ],
            [
             0.7777777777777778,
             "#fb9f3a"
            ],
            [
             0.8888888888888888,
             "#fdca26"
            ],
            [
             1,
             "#f0f921"
            ]
           ]
          },
          "colorway": [
           "#636efa",
           "#EF553B",
           "#00cc96",
           "#ab63fa",
           "#FFA15A",
           "#19d3f3",
           "#FF6692",
           "#B6E880",
           "#FF97FF",
           "#FECB52"
          ],
          "font": {
           "color": "#2a3f5f"
          },
          "geo": {
           "bgcolor": "white",
           "lakecolor": "white",
           "landcolor": "#E5ECF6",
           "showlakes": true,
           "showland": true,
           "subunitcolor": "white"
          },
          "hoverlabel": {
           "align": "left"
          },
          "hovermode": "closest",
          "mapbox": {
           "style": "light"
          },
          "paper_bgcolor": "white",
          "plot_bgcolor": "#E5ECF6",
          "polar": {
           "angularaxis": {
            "gridcolor": "white",
            "linecolor": "white",
            "ticks": ""
           },
           "bgcolor": "#E5ECF6",
           "radialaxis": {
            "gridcolor": "white",
            "linecolor": "white",
            "ticks": ""
           }
          },
          "scene": {
           "xaxis": {
            "backgroundcolor": "#E5ECF6",
            "gridcolor": "white",
            "gridwidth": 2,
            "linecolor": "white",
            "showbackground": true,
            "ticks": "",
            "zerolinecolor": "white"
           },
           "yaxis": {
            "backgroundcolor": "#E5ECF6",
            "gridcolor": "white",
            "gridwidth": 2,
            "linecolor": "white",
            "showbackground": true,
            "ticks": "",
            "zerolinecolor": "white"
           },
           "zaxis": {
            "backgroundcolor": "#E5ECF6",
            "gridcolor": "white",
            "gridwidth": 2,
            "linecolor": "white",
            "showbackground": true,
            "ticks": "",
            "zerolinecolor": "white"
           }
          },
          "shapedefaults": {
           "line": {
            "color": "#2a3f5f"
           }
          },
          "ternary": {
           "aaxis": {
            "gridcolor": "white",
            "linecolor": "white",
            "ticks": ""
           },
           "baxis": {
            "gridcolor": "white",
            "linecolor": "white",
            "ticks": ""
           },
           "bgcolor": "#E5ECF6",
           "caxis": {
            "gridcolor": "white",
            "linecolor": "white",
            "ticks": ""
           }
          },
          "title": {
           "x": 0.05
          },
          "xaxis": {
           "automargin": true,
           "gridcolor": "white",
           "linecolor": "white",
           "ticks": "",
           "title": {
            "standoff": 15
           },
           "zerolinecolor": "white",
           "zerolinewidth": 2
          },
          "yaxis": {
           "automargin": true,
           "gridcolor": "white",
           "linecolor": "white",
           "ticks": "",
           "title": {
            "standoff": 15
           },
           "zerolinecolor": "white",
           "zerolinewidth": 2
          }
         }
        },
        "title": {
         "text": "U.S. NG demand during injection seasons"
        },
        "xaxis": {
         "anchor": "y",
         "domain": [
          0,
          1
         ],
         "title": {
          "text": " injection season year"
         }
        },
        "yaxis": {
         "anchor": "x",
         "domain": [
          0,
          1
         ],
         "title": {
          "text": "demand in cubic feet"
         }
        }
       }
      },
      "text/html": [
       "<div>                            <div id=\"0ce2c55c-5dbc-4a98-b6f3-a621a2e3bfe1\" class=\"plotly-graph-div\" style=\"height:525px; width:100%;\"></div>            <script type=\"text/javascript\">                require([\"plotly\"], function(Plotly) {                    window.PLOTLYENV=window.PLOTLYENV || {};                                    if (document.getElementById(\"0ce2c55c-5dbc-4a98-b6f3-a621a2e3bfe1\")) {                    Plotly.newPlot(                        \"0ce2c55c-5dbc-4a98-b6f3-a621a2e3bfe1\",                        [{\"alignmentgroup\": \"True\", \"hovertemplate\": \" injection season year=%{x}<br>demand in cubic feet=%{y}<extra></extra>\", \"legendgroup\": \"\", \"marker\": {\"color\": \"#636efa\"}, \"name\": \"\", \"offsetgroup\": \"\", \"orientation\": \"v\", \"showlegend\": false, \"textposition\": \"auto\", \"type\": \"bar\", \"x\": [\"ij2001\", \"ij2002\", \"ij2003\", \"ij2004\", \"ij2005\", \"ij2006\", \"ij2007\", \"ij2008\", \"ij2009\", \"ij2010\", \"ij2011\", \"ij2012\", \"ij2013\", \"ij2014\", \"ij2015\", \"ij2016\", \"ij2017\", \"ij2018\", \"ij2019\", \"ij2020\", \"ij2021\"], \"xaxis\": \"x\", \"y\": [11389710000000.0, 12049811000000.0, 11224998000000.0, 11461417000000.0, 11375219000000.0, 11773443000000.0, 12133359000000.0, 11952852000000.0, 11952259000000.0, 12562950000000.0, 13170725000000.0, 14398332000000.0, 13855700000000.0, 13886967000000.0, 14787645000000.0, 15648751000000.0, 15691246000000.0, 17614009000000.0, 18472011000000.0, 18560860000000.0, 19588846000000.0], \"yaxis\": \"y\"}],                        {\"barmode\": \"relative\", \"images\": [{\"sizex\": 0.1, \"sizey\": 0.1, \"source\": \"https://upload.wikimedia.org/wikipedia/commons/1/1f/Energy_Information_Administration_logo.svg\", \"x\": 1.03, \"xanchor\": \"center\", \"y\": 1.1, \"yanchor\": \"bottom\"}], \"legend\": {\"tracegroupgap\": 0}, \"showlegend\": true, \"template\": {\"data\": {\"bar\": [{\"error_x\": {\"color\": \"#2a3f5f\"}, \"error_y\": {\"color\": \"#2a3f5f\"}, \"marker\": {\"line\": {\"color\": \"#E5ECF6\", \"width\": 0.5}}, \"type\": \"bar\"}], \"barpolar\": [{\"marker\": {\"line\": {\"color\": \"#E5ECF6\", \"width\": 0.5}}, \"type\": \"barpolar\"}], \"carpet\": [{\"aaxis\": {\"endlinecolor\": \"#2a3f5f\", \"gridcolor\": \"white\", \"linecolor\": \"white\", \"minorgridcolor\": \"white\", \"startlinecolor\": \"#2a3f5f\"}, \"baxis\": {\"endlinecolor\": \"#2a3f5f\", \"gridcolor\": \"white\", \"linecolor\": \"white\", \"minorgridcolor\": \"white\", \"startlinecolor\": \"#2a3f5f\"}, \"type\": \"carpet\"}], \"choropleth\": [{\"colorbar\": {\"outlinewidth\": 0, \"ticks\": \"\"}, \"type\": \"choropleth\"}], \"contour\": [{\"colorbar\": {\"outlinewidth\": 0, \"ticks\": \"\"}, \"colorscale\": [[0.0, \"#0d0887\"], [0.1111111111111111, \"#46039f\"], [0.2222222222222222, \"#7201a8\"], [0.3333333333333333, \"#9c179e\"], [0.4444444444444444, \"#bd3786\"], [0.5555555555555556, \"#d8576b\"], [0.6666666666666666, \"#ed7953\"], [0.7777777777777778, \"#fb9f3a\"], [0.8888888888888888, \"#fdca26\"], [1.0, \"#f0f921\"]], \"type\": \"contour\"}], \"contourcarpet\": [{\"colorbar\": {\"outlinewidth\": 0, \"ticks\": \"\"}, \"type\": \"contourcarpet\"}], \"heatmap\": [{\"colorbar\": {\"outlinewidth\": 0, \"ticks\": \"\"}, \"colorscale\": [[0.0, \"#0d0887\"], [0.1111111111111111, \"#46039f\"], [0.2222222222222222, \"#7201a8\"], [0.3333333333333333, \"#9c179e\"], [0.4444444444444444, \"#bd3786\"], [0.5555555555555556, \"#d8576b\"], [0.6666666666666666, \"#ed7953\"], [0.7777777777777778, \"#fb9f3a\"], [0.8888888888888888, \"#fdca26\"], [1.0, \"#f0f921\"]], \"type\": \"heatmap\"}], \"heatmapgl\": [{\"colorbar\": {\"outlinewidth\": 0, \"ticks\": \"\"}, \"colorscale\": [[0.0, \"#0d0887\"], [0.1111111111111111, \"#46039f\"], [0.2222222222222222, \"#7201a8\"], [0.3333333333333333, \"#9c179e\"], [0.4444444444444444, \"#bd3786\"], [0.5555555555555556, \"#d8576b\"], [0.6666666666666666, \"#ed7953\"], [0.7777777777777778, \"#fb9f3a\"], [0.8888888888888888, \"#fdca26\"], [1.0, \"#f0f921\"]], \"type\": \"heatmapgl\"}], \"histogram\": [{\"marker\": {\"colorbar\": {\"outlinewidth\": 0, \"ticks\": \"\"}}, \"type\": \"histogram\"}], \"histogram2d\": [{\"colorbar\": {\"outlinewidth\": 0, \"ticks\": \"\"}, \"colorscale\": [[0.0, \"#0d0887\"], [0.1111111111111111, \"#46039f\"], [0.2222222222222222, \"#7201a8\"], [0.3333333333333333, \"#9c179e\"], [0.4444444444444444, \"#bd3786\"], [0.5555555555555556, \"#d8576b\"], [0.6666666666666666, \"#ed7953\"], [0.7777777777777778, \"#fb9f3a\"], [0.8888888888888888, \"#fdca26\"], [1.0, \"#f0f921\"]], \"type\": \"histogram2d\"}], \"histogram2dcontour\": [{\"colorbar\": {\"outlinewidth\": 0, \"ticks\": \"\"}, \"colorscale\": [[0.0, \"#0d0887\"], [0.1111111111111111, \"#46039f\"], [0.2222222222222222, \"#7201a8\"], [0.3333333333333333, \"#9c179e\"], [0.4444444444444444, \"#bd3786\"], [0.5555555555555556, \"#d8576b\"], [0.6666666666666666, \"#ed7953\"], [0.7777777777777778, \"#fb9f3a\"], [0.8888888888888888, \"#fdca26\"], [1.0, \"#f0f921\"]], \"type\": \"histogram2dcontour\"}], \"mesh3d\": [{\"colorbar\": {\"outlinewidth\": 0, \"ticks\": \"\"}, \"type\": \"mesh3d\"}], \"parcoords\": [{\"line\": {\"colorbar\": {\"outlinewidth\": 0, \"ticks\": \"\"}}, \"type\": \"parcoords\"}], \"pie\": [{\"automargin\": true, \"type\": \"pie\"}], \"scatter\": [{\"marker\": {\"colorbar\": {\"outlinewidth\": 0, \"ticks\": \"\"}}, \"type\": \"scatter\"}], \"scatter3d\": [{\"line\": {\"colorbar\": {\"outlinewidth\": 0, \"ticks\": \"\"}}, \"marker\": {\"colorbar\": {\"outlinewidth\": 0, \"ticks\": \"\"}}, \"type\": \"scatter3d\"}], \"scattercarpet\": [{\"marker\": {\"colorbar\": {\"outlinewidth\": 0, \"ticks\": \"\"}}, \"type\": \"scattercarpet\"}], \"scattergeo\": [{\"marker\": {\"colorbar\": {\"outlinewidth\": 0, \"ticks\": \"\"}}, \"type\": \"scattergeo\"}], \"scattergl\": [{\"marker\": {\"colorbar\": {\"outlinewidth\": 0, \"ticks\": \"\"}}, \"type\": \"scattergl\"}], \"scattermapbox\": [{\"marker\": {\"colorbar\": {\"outlinewidth\": 0, \"ticks\": \"\"}}, \"type\": \"scattermapbox\"}], \"scatterpolar\": [{\"marker\": {\"colorbar\": {\"outlinewidth\": 0, \"ticks\": \"\"}}, \"type\": \"scatterpolar\"}], \"scatterpolargl\": [{\"marker\": {\"colorbar\": {\"outlinewidth\": 0, \"ticks\": \"\"}}, \"type\": \"scatterpolargl\"}], \"scatterternary\": [{\"marker\": {\"colorbar\": {\"outlinewidth\": 0, \"ticks\": \"\"}}, \"type\": \"scatterternary\"}], \"surface\": [{\"colorbar\": {\"outlinewidth\": 0, \"ticks\": \"\"}, \"colorscale\": [[0.0, \"#0d0887\"], [0.1111111111111111, \"#46039f\"], [0.2222222222222222, \"#7201a8\"], [0.3333333333333333, \"#9c179e\"], [0.4444444444444444, \"#bd3786\"], [0.5555555555555556, \"#d8576b\"], [0.6666666666666666, \"#ed7953\"], [0.7777777777777778, \"#fb9f3a\"], [0.8888888888888888, \"#fdca26\"], [1.0, \"#f0f921\"]], \"type\": \"surface\"}], \"table\": [{\"cells\": {\"fill\": {\"color\": \"#EBF0F8\"}, \"line\": {\"color\": \"white\"}}, \"header\": {\"fill\": {\"color\": \"#C8D4E3\"}, \"line\": {\"color\": \"white\"}}, \"type\": \"table\"}]}, \"layout\": {\"annotationdefaults\": {\"arrowcolor\": \"#2a3f5f\", \"arrowhead\": 0, \"arrowwidth\": 1}, \"coloraxis\": {\"colorbar\": {\"outlinewidth\": 0, \"ticks\": \"\"}}, \"colorscale\": {\"diverging\": [[0, \"#8e0152\"], [0.1, \"#c51b7d\"], [0.2, \"#de77ae\"], [0.3, \"#f1b6da\"], [0.4, \"#fde0ef\"], [0.5, \"#f7f7f7\"], [0.6, \"#e6f5d0\"], [0.7, \"#b8e186\"], [0.8, \"#7fbc41\"], [0.9, \"#4d9221\"], [1, \"#276419\"]], \"sequential\": [[0.0, \"#0d0887\"], [0.1111111111111111, \"#46039f\"], [0.2222222222222222, \"#7201a8\"], [0.3333333333333333, \"#9c179e\"], [0.4444444444444444, \"#bd3786\"], [0.5555555555555556, \"#d8576b\"], [0.6666666666666666, \"#ed7953\"], [0.7777777777777778, \"#fb9f3a\"], [0.8888888888888888, \"#fdca26\"], [1.0, \"#f0f921\"]], \"sequentialminus\": [[0.0, \"#0d0887\"], [0.1111111111111111, \"#46039f\"], [0.2222222222222222, \"#7201a8\"], [0.3333333333333333, \"#9c179e\"], [0.4444444444444444, \"#bd3786\"], [0.5555555555555556, \"#d8576b\"], [0.6666666666666666, \"#ed7953\"], [0.7777777777777778, \"#fb9f3a\"], [0.8888888888888888, \"#fdca26\"], [1.0, \"#f0f921\"]]}, \"colorway\": [\"#636efa\", \"#EF553B\", \"#00cc96\", \"#ab63fa\", \"#FFA15A\", \"#19d3f3\", \"#FF6692\", \"#B6E880\", \"#FF97FF\", \"#FECB52\"], \"font\": {\"color\": \"#2a3f5f\"}, \"geo\": {\"bgcolor\": \"white\", \"lakecolor\": \"white\", \"landcolor\": \"#E5ECF6\", \"showlakes\": true, \"showland\": true, \"subunitcolor\": \"white\"}, \"hoverlabel\": {\"align\": \"left\"}, \"hovermode\": \"closest\", \"mapbox\": {\"style\": \"light\"}, \"paper_bgcolor\": \"white\", \"plot_bgcolor\": \"#E5ECF6\", \"polar\": {\"angularaxis\": {\"gridcolor\": \"white\", \"linecolor\": \"white\", \"ticks\": \"\"}, \"bgcolor\": \"#E5ECF6\", \"radialaxis\": {\"gridcolor\": \"white\", \"linecolor\": \"white\", \"ticks\": \"\"}}, \"scene\": {\"xaxis\": {\"backgroundcolor\": \"#E5ECF6\", \"gridcolor\": \"white\", \"gridwidth\": 2, \"linecolor\": \"white\", \"showbackground\": true, \"ticks\": \"\", \"zerolinecolor\": \"white\"}, \"yaxis\": {\"backgroundcolor\": \"#E5ECF6\", \"gridcolor\": \"white\", \"gridwidth\": 2, \"linecolor\": \"white\", \"showbackground\": true, \"ticks\": \"\", \"zerolinecolor\": \"white\"}, \"zaxis\": {\"backgroundcolor\": \"#E5ECF6\", \"gridcolor\": \"white\", \"gridwidth\": 2, \"linecolor\": \"white\", \"showbackground\": true, \"ticks\": \"\", \"zerolinecolor\": \"white\"}}, \"shapedefaults\": {\"line\": {\"color\": \"#2a3f5f\"}}, \"ternary\": {\"aaxis\": {\"gridcolor\": \"white\", \"linecolor\": \"white\", \"ticks\": \"\"}, \"baxis\": {\"gridcolor\": \"white\", \"linecolor\": \"white\", \"ticks\": \"\"}, \"bgcolor\": \"#E5ECF6\", \"caxis\": {\"gridcolor\": \"white\", \"linecolor\": \"white\", \"ticks\": \"\"}}, \"title\": {\"x\": 0.05}, \"xaxis\": {\"automargin\": true, \"gridcolor\": \"white\", \"linecolor\": \"white\", \"ticks\": \"\", \"title\": {\"standoff\": 15}, \"zerolinecolor\": \"white\", \"zerolinewidth\": 2}, \"yaxis\": {\"automargin\": true, \"gridcolor\": \"white\", \"linecolor\": \"white\", \"ticks\": \"\", \"title\": {\"standoff\": 15}, \"zerolinecolor\": \"white\", \"zerolinewidth\": 2}}}, \"title\": {\"text\": \"U.S. NG demand during injection seasons\"}, \"xaxis\": {\"anchor\": \"y\", \"domain\": [0.0, 1.0], \"title\": {\"text\": \" injection season year\"}}, \"yaxis\": {\"anchor\": \"x\", \"domain\": [0.0, 1.0], \"title\": {\"text\": \"demand in cubic feet\"}}},                        {\"responsive\": true}                    ).then(function(){\n",
       "                            \n",
       "var gd = document.getElementById('0ce2c55c-5dbc-4a98-b6f3-a621a2e3bfe1');\n",
       "var x = new MutationObserver(function (mutations, observer) {{\n",
       "        var display = window.getComputedStyle(gd).display;\n",
       "        if (!display || display === 'none') {{\n",
       "            console.log([gd, 'removed!']);\n",
       "            Plotly.purge(gd);\n",
       "            observer.disconnect();\n",
       "        }}\n",
       "}});\n",
       "\n",
       "// Listen for the removal of the full notebook cells\n",
       "var notebookContainer = gd.closest('#notebook-container');\n",
       "if (notebookContainer) {{\n",
       "    x.observe(notebookContainer, {childList: true});\n",
       "}}\n",
       "\n",
       "// Listen for the clearing of the current output cell\n",
       "var outputEl = gd.closest('.output');\n",
       "if (outputEl) {{\n",
       "    x.observe(outputEl, {childList: true});\n",
       "}}\n",
       "\n",
       "                        })                };                });            </script>        </div>"
      ]
     },
     "metadata": {},
     "output_type": "display_data"
    }
   ],
   "source": [
    "fig = px.bar(x = ijSeasonAll.index, y = ijSeasonAll,\n",
    "             title=\"U.S. NG demand during injection seasons\",\n",
    "             labels={'y': \"demand in cubic feet\", 'x': ' injection season year'})\n",
    "fig.layout.showlegend = True  \n",
    "fig.layout.images = eiaLg2\n",
    "fig.show()"
   ]
  },
  {
   "cell_type": "code",
   "execution_count": 79,
   "metadata": {},
   "outputs": [
    {
     "data": {
      "application/vnd.plotly.v1+json": {
       "config": {
        "plotlyServerURL": "https://plot.ly"
       },
       "data": [
        {
         "alignmentgroup": "True",
         "hovertemplate": " withdrawal season year=%{x}<br>demand in cubic feet=%{y}<extra></extra>",
         "legendgroup": "",
         "marker": {
          "color": "#636efa"
         },
         "name": "",
         "offsetgroup": "",
         "orientation": "v",
         "showlegend": false,
         "textposition": "auto",
         "type": "bar",
         "x": [
          "wd2001",
          "wd2002",
          "wd2003",
          "wd2004",
          "wd2005",
          "wd2006",
          "wd2007",
          "wd2008",
          "wd2009",
          "wd2010",
          "wd2011",
          "wd2012",
          "wd2013",
          "wd2014",
          "wd2015",
          "wd2016",
          "wd2017",
          "wd2018",
          "wd2019",
          "wd2020",
          "wd2021"
         ],
         "xaxis": "x",
         "y": [
          10996062000000,
          11967425000000,
          11681597000000,
          11567431000000,
          10699810000000,
          11401574000000,
          12244119000000,
          12016245000000,
          12192941000000,
          12922638000000,
          12622122000000,
          13375619000000,
          14394871000000,
          14379456000000,
          13781246000000,
          14078378000000,
          15746856000000,
          16856558000000,
          17389038000000,
          17216893000000,
          17998097000000
         ],
         "yaxis": "y"
        }
       ],
       "layout": {
        "barmode": "relative",
        "images": [
         {
          "sizex": 0.1,
          "sizey": 0.1,
          "source": "https://upload.wikimedia.org/wikipedia/commons/1/1f/Energy_Information_Administration_logo.svg",
          "x": 1.03,
          "xanchor": "center",
          "y": 1.1,
          "yanchor": "bottom"
         }
        ],
        "legend": {
         "tracegroupgap": 0
        },
        "showlegend": false,
        "template": {
         "data": {
          "bar": [
           {
            "error_x": {
             "color": "#2a3f5f"
            },
            "error_y": {
             "color": "#2a3f5f"
            },
            "marker": {
             "line": {
              "color": "#E5ECF6",
              "width": 0.5
             }
            },
            "type": "bar"
           }
          ],
          "barpolar": [
           {
            "marker": {
             "line": {
              "color": "#E5ECF6",
              "width": 0.5
             }
            },
            "type": "barpolar"
           }
          ],
          "carpet": [
           {
            "aaxis": {
             "endlinecolor": "#2a3f5f",
             "gridcolor": "white",
             "linecolor": "white",
             "minorgridcolor": "white",
             "startlinecolor": "#2a3f5f"
            },
            "baxis": {
             "endlinecolor": "#2a3f5f",
             "gridcolor": "white",
             "linecolor": "white",
             "minorgridcolor": "white",
             "startlinecolor": "#2a3f5f"
            },
            "type": "carpet"
           }
          ],
          "choropleth": [
           {
            "colorbar": {
             "outlinewidth": 0,
             "ticks": ""
            },
            "type": "choropleth"
           }
          ],
          "contour": [
           {
            "colorbar": {
             "outlinewidth": 0,
             "ticks": ""
            },
            "colorscale": [
             [
              0,
              "#0d0887"
             ],
             [
              0.1111111111111111,
              "#46039f"
             ],
             [
              0.2222222222222222,
              "#7201a8"
             ],
             [
              0.3333333333333333,
              "#9c179e"
             ],
             [
              0.4444444444444444,
              "#bd3786"
             ],
             [
              0.5555555555555556,
              "#d8576b"
             ],
             [
              0.6666666666666666,
              "#ed7953"
             ],
             [
              0.7777777777777778,
              "#fb9f3a"
             ],
             [
              0.8888888888888888,
              "#fdca26"
             ],
             [
              1,
              "#f0f921"
             ]
            ],
            "type": "contour"
           }
          ],
          "contourcarpet": [
           {
            "colorbar": {
             "outlinewidth": 0,
             "ticks": ""
            },
            "type": "contourcarpet"
           }
          ],
          "heatmap": [
           {
            "colorbar": {
             "outlinewidth": 0,
             "ticks": ""
            },
            "colorscale": [
             [
              0,
              "#0d0887"
             ],
             [
              0.1111111111111111,
              "#46039f"
             ],
             [
              0.2222222222222222,
              "#7201a8"
             ],
             [
              0.3333333333333333,
              "#9c179e"
             ],
             [
              0.4444444444444444,
              "#bd3786"
             ],
             [
              0.5555555555555556,
              "#d8576b"
             ],
             [
              0.6666666666666666,
              "#ed7953"
             ],
             [
              0.7777777777777778,
              "#fb9f3a"
             ],
             [
              0.8888888888888888,
              "#fdca26"
             ],
             [
              1,
              "#f0f921"
             ]
            ],
            "type": "heatmap"
           }
          ],
          "heatmapgl": [
           {
            "colorbar": {
             "outlinewidth": 0,
             "ticks": ""
            },
            "colorscale": [
             [
              0,
              "#0d0887"
             ],
             [
              0.1111111111111111,
              "#46039f"
             ],
             [
              0.2222222222222222,
              "#7201a8"
             ],
             [
              0.3333333333333333,
              "#9c179e"
             ],
             [
              0.4444444444444444,
              "#bd3786"
             ],
             [
              0.5555555555555556,
              "#d8576b"
             ],
             [
              0.6666666666666666,
              "#ed7953"
             ],
             [
              0.7777777777777778,
              "#fb9f3a"
             ],
             [
              0.8888888888888888,
              "#fdca26"
             ],
             [
              1,
              "#f0f921"
             ]
            ],
            "type": "heatmapgl"
           }
          ],
          "histogram": [
           {
            "marker": {
             "colorbar": {
              "outlinewidth": 0,
              "ticks": ""
             }
            },
            "type": "histogram"
           }
          ],
          "histogram2d": [
           {
            "colorbar": {
             "outlinewidth": 0,
             "ticks": ""
            },
            "colorscale": [
             [
              0,
              "#0d0887"
             ],
             [
              0.1111111111111111,
              "#46039f"
             ],
             [
              0.2222222222222222,
              "#7201a8"
             ],
             [
              0.3333333333333333,
              "#9c179e"
             ],
             [
              0.4444444444444444,
              "#bd3786"
             ],
             [
              0.5555555555555556,
              "#d8576b"
             ],
             [
              0.6666666666666666,
              "#ed7953"
             ],
             [
              0.7777777777777778,
              "#fb9f3a"
             ],
             [
              0.8888888888888888,
              "#fdca26"
             ],
             [
              1,
              "#f0f921"
             ]
            ],
            "type": "histogram2d"
           }
          ],
          "histogram2dcontour": [
           {
            "colorbar": {
             "outlinewidth": 0,
             "ticks": ""
            },
            "colorscale": [
             [
              0,
              "#0d0887"
             ],
             [
              0.1111111111111111,
              "#46039f"
             ],
             [
              0.2222222222222222,
              "#7201a8"
             ],
             [
              0.3333333333333333,
              "#9c179e"
             ],
             [
              0.4444444444444444,
              "#bd3786"
             ],
             [
              0.5555555555555556,
              "#d8576b"
             ],
             [
              0.6666666666666666,
              "#ed7953"
             ],
             [
              0.7777777777777778,
              "#fb9f3a"
             ],
             [
              0.8888888888888888,
              "#fdca26"
             ],
             [
              1,
              "#f0f921"
             ]
            ],
            "type": "histogram2dcontour"
           }
          ],
          "mesh3d": [
           {
            "colorbar": {
             "outlinewidth": 0,
             "ticks": ""
            },
            "type": "mesh3d"
           }
          ],
          "parcoords": [
           {
            "line": {
             "colorbar": {
              "outlinewidth": 0,
              "ticks": ""
             }
            },
            "type": "parcoords"
           }
          ],
          "pie": [
           {
            "automargin": true,
            "type": "pie"
           }
          ],
          "scatter": [
           {
            "marker": {
             "colorbar": {
              "outlinewidth": 0,
              "ticks": ""
             }
            },
            "type": "scatter"
           }
          ],
          "scatter3d": [
           {
            "line": {
             "colorbar": {
              "outlinewidth": 0,
              "ticks": ""
             }
            },
            "marker": {
             "colorbar": {
              "outlinewidth": 0,
              "ticks": ""
             }
            },
            "type": "scatter3d"
           }
          ],
          "scattercarpet": [
           {
            "marker": {
             "colorbar": {
              "outlinewidth": 0,
              "ticks": ""
             }
            },
            "type": "scattercarpet"
           }
          ],
          "scattergeo": [
           {
            "marker": {
             "colorbar": {
              "outlinewidth": 0,
              "ticks": ""
             }
            },
            "type": "scattergeo"
           }
          ],
          "scattergl": [
           {
            "marker": {
             "colorbar": {
              "outlinewidth": 0,
              "ticks": ""
             }
            },
            "type": "scattergl"
           }
          ],
          "scattermapbox": [
           {
            "marker": {
             "colorbar": {
              "outlinewidth": 0,
              "ticks": ""
             }
            },
            "type": "scattermapbox"
           }
          ],
          "scatterpolar": [
           {
            "marker": {
             "colorbar": {
              "outlinewidth": 0,
              "ticks": ""
             }
            },
            "type": "scatterpolar"
           }
          ],
          "scatterpolargl": [
           {
            "marker": {
             "colorbar": {
              "outlinewidth": 0,
              "ticks": ""
             }
            },
            "type": "scatterpolargl"
           }
          ],
          "scatterternary": [
           {
            "marker": {
             "colorbar": {
              "outlinewidth": 0,
              "ticks": ""
             }
            },
            "type": "scatterternary"
           }
          ],
          "surface": [
           {
            "colorbar": {
             "outlinewidth": 0,
             "ticks": ""
            },
            "colorscale": [
             [
              0,
              "#0d0887"
             ],
             [
              0.1111111111111111,
              "#46039f"
             ],
             [
              0.2222222222222222,
              "#7201a8"
             ],
             [
              0.3333333333333333,
              "#9c179e"
             ],
             [
              0.4444444444444444,
              "#bd3786"
             ],
             [
              0.5555555555555556,
              "#d8576b"
             ],
             [
              0.6666666666666666,
              "#ed7953"
             ],
             [
              0.7777777777777778,
              "#fb9f3a"
             ],
             [
              0.8888888888888888,
              "#fdca26"
             ],
             [
              1,
              "#f0f921"
             ]
            ],
            "type": "surface"
           }
          ],
          "table": [
           {
            "cells": {
             "fill": {
              "color": "#EBF0F8"
             },
             "line": {
              "color": "white"
             }
            },
            "header": {
             "fill": {
              "color": "#C8D4E3"
             },
             "line": {
              "color": "white"
             }
            },
            "type": "table"
           }
          ]
         },
         "layout": {
          "annotationdefaults": {
           "arrowcolor": "#2a3f5f",
           "arrowhead": 0,
           "arrowwidth": 1
          },
          "coloraxis": {
           "colorbar": {
            "outlinewidth": 0,
            "ticks": ""
           }
          },
          "colorscale": {
           "diverging": [
            [
             0,
             "#8e0152"
            ],
            [
             0.1,
             "#c51b7d"
            ],
            [
             0.2,
             "#de77ae"
            ],
            [
             0.3,
             "#f1b6da"
            ],
            [
             0.4,
             "#fde0ef"
            ],
            [
             0.5,
             "#f7f7f7"
            ],
            [
             0.6,
             "#e6f5d0"
            ],
            [
             0.7,
             "#b8e186"
            ],
            [
             0.8,
             "#7fbc41"
            ],
            [
             0.9,
             "#4d9221"
            ],
            [
             1,
             "#276419"
            ]
           ],
           "sequential": [
            [
             0,
             "#0d0887"
            ],
            [
             0.1111111111111111,
             "#46039f"
            ],
            [
             0.2222222222222222,
             "#7201a8"
            ],
            [
             0.3333333333333333,
             "#9c179e"
            ],
            [
             0.4444444444444444,
             "#bd3786"
            ],
            [
             0.5555555555555556,
             "#d8576b"
            ],
            [
             0.6666666666666666,
             "#ed7953"
            ],
            [
             0.7777777777777778,
             "#fb9f3a"
            ],
            [
             0.8888888888888888,
             "#fdca26"
            ],
            [
             1,
             "#f0f921"
            ]
           ],
           "sequentialminus": [
            [
             0,
             "#0d0887"
            ],
            [
             0.1111111111111111,
             "#46039f"
            ],
            [
             0.2222222222222222,
             "#7201a8"
            ],
            [
             0.3333333333333333,
             "#9c179e"
            ],
            [
             0.4444444444444444,
             "#bd3786"
            ],
            [
             0.5555555555555556,
             "#d8576b"
            ],
            [
             0.6666666666666666,
             "#ed7953"
            ],
            [
             0.7777777777777778,
             "#fb9f3a"
            ],
            [
             0.8888888888888888,
             "#fdca26"
            ],
            [
             1,
             "#f0f921"
            ]
           ]
          },
          "colorway": [
           "#636efa",
           "#EF553B",
           "#00cc96",
           "#ab63fa",
           "#FFA15A",
           "#19d3f3",
           "#FF6692",
           "#B6E880",
           "#FF97FF",
           "#FECB52"
          ],
          "font": {
           "color": "#2a3f5f"
          },
          "geo": {
           "bgcolor": "white",
           "lakecolor": "white",
           "landcolor": "#E5ECF6",
           "showlakes": true,
           "showland": true,
           "subunitcolor": "white"
          },
          "hoverlabel": {
           "align": "left"
          },
          "hovermode": "closest",
          "mapbox": {
           "style": "light"
          },
          "paper_bgcolor": "white",
          "plot_bgcolor": "#E5ECF6",
          "polar": {
           "angularaxis": {
            "gridcolor": "white",
            "linecolor": "white",
            "ticks": ""
           },
           "bgcolor": "#E5ECF6",
           "radialaxis": {
            "gridcolor": "white",
            "linecolor": "white",
            "ticks": ""
           }
          },
          "scene": {
           "xaxis": {
            "backgroundcolor": "#E5ECF6",
            "gridcolor": "white",
            "gridwidth": 2,
            "linecolor": "white",
            "showbackground": true,
            "ticks": "",
            "zerolinecolor": "white"
           },
           "yaxis": {
            "backgroundcolor": "#E5ECF6",
            "gridcolor": "white",
            "gridwidth": 2,
            "linecolor": "white",
            "showbackground": true,
            "ticks": "",
            "zerolinecolor": "white"
           },
           "zaxis": {
            "backgroundcolor": "#E5ECF6",
            "gridcolor": "white",
            "gridwidth": 2,
            "linecolor": "white",
            "showbackground": true,
            "ticks": "",
            "zerolinecolor": "white"
           }
          },
          "shapedefaults": {
           "line": {
            "color": "#2a3f5f"
           }
          },
          "ternary": {
           "aaxis": {
            "gridcolor": "white",
            "linecolor": "white",
            "ticks": ""
           },
           "baxis": {
            "gridcolor": "white",
            "linecolor": "white",
            "ticks": ""
           },
           "bgcolor": "#E5ECF6",
           "caxis": {
            "gridcolor": "white",
            "linecolor": "white",
            "ticks": ""
           }
          },
          "title": {
           "x": 0.05
          },
          "xaxis": {
           "automargin": true,
           "gridcolor": "white",
           "linecolor": "white",
           "ticks": "",
           "title": {
            "standoff": 15
           },
           "zerolinecolor": "white",
           "zerolinewidth": 2
          },
          "yaxis": {
           "automargin": true,
           "gridcolor": "white",
           "linecolor": "white",
           "ticks": "",
           "title": {
            "standoff": 15
           },
           "zerolinecolor": "white",
           "zerolinewidth": 2
          }
         }
        },
        "title": {
         "text": "U.S. NG demand during withdrawal seasons"
        },
        "xaxis": {
         "anchor": "y",
         "domain": [
          0,
          1
         ],
         "title": {
          "text": " withdrawal season year"
         }
        },
        "yaxis": {
         "anchor": "x",
         "domain": [
          0,
          1
         ],
         "title": {
          "text": "demand in cubic feet"
         }
        }
       }
      },
      "text/html": [
       "<div>                            <div id=\"d673048f-e3a3-4fc1-a7a4-58b5d781e774\" class=\"plotly-graph-div\" style=\"height:525px; width:100%;\"></div>            <script type=\"text/javascript\">                require([\"plotly\"], function(Plotly) {                    window.PLOTLYENV=window.PLOTLYENV || {};                                    if (document.getElementById(\"d673048f-e3a3-4fc1-a7a4-58b5d781e774\")) {                    Plotly.newPlot(                        \"d673048f-e3a3-4fc1-a7a4-58b5d781e774\",                        [{\"alignmentgroup\": \"True\", \"hovertemplate\": \" withdrawal season year=%{x}<br>demand in cubic feet=%{y}<extra></extra>\", \"legendgroup\": \"\", \"marker\": {\"color\": \"#636efa\"}, \"name\": \"\", \"offsetgroup\": \"\", \"orientation\": \"v\", \"showlegend\": false, \"textposition\": \"auto\", \"type\": \"bar\", \"x\": [\"wd2001\", \"wd2002\", \"wd2003\", \"wd2004\", \"wd2005\", \"wd2006\", \"wd2007\", \"wd2008\", \"wd2009\", \"wd2010\", \"wd2011\", \"wd2012\", \"wd2013\", \"wd2014\", \"wd2015\", \"wd2016\", \"wd2017\", \"wd2018\", \"wd2019\", \"wd2020\", \"wd2021\"], \"xaxis\": \"x\", \"y\": [10996062000000.0, 11967425000000.0, 11681597000000.0, 11567431000000.0, 10699810000000.0, 11401574000000.0, 12244119000000.0, 12016245000000.0, 12192941000000.0, 12922638000000.0, 12622122000000.0, 13375619000000.0, 14394871000000.0, 14379456000000.0, 13781246000000.0, 14078378000000.0, 15746856000000.0, 16856558000000.0, 17389038000000.0, 17216893000000.0, 17998097000000.0], \"yaxis\": \"y\"}],                        {\"barmode\": \"relative\", \"images\": [{\"sizex\": 0.1, \"sizey\": 0.1, \"source\": \"https://upload.wikimedia.org/wikipedia/commons/1/1f/Energy_Information_Administration_logo.svg\", \"x\": 1.03, \"xanchor\": \"center\", \"y\": 1.1, \"yanchor\": \"bottom\"}], \"legend\": {\"tracegroupgap\": 0}, \"showlegend\": false, \"template\": {\"data\": {\"bar\": [{\"error_x\": {\"color\": \"#2a3f5f\"}, \"error_y\": {\"color\": \"#2a3f5f\"}, \"marker\": {\"line\": {\"color\": \"#E5ECF6\", \"width\": 0.5}}, \"type\": \"bar\"}], \"barpolar\": [{\"marker\": {\"line\": {\"color\": \"#E5ECF6\", \"width\": 0.5}}, \"type\": \"barpolar\"}], \"carpet\": [{\"aaxis\": {\"endlinecolor\": \"#2a3f5f\", \"gridcolor\": \"white\", \"linecolor\": \"white\", \"minorgridcolor\": \"white\", \"startlinecolor\": \"#2a3f5f\"}, \"baxis\": {\"endlinecolor\": \"#2a3f5f\", \"gridcolor\": \"white\", \"linecolor\": \"white\", \"minorgridcolor\": \"white\", \"startlinecolor\": \"#2a3f5f\"}, \"type\": \"carpet\"}], \"choropleth\": [{\"colorbar\": {\"outlinewidth\": 0, \"ticks\": \"\"}, \"type\": \"choropleth\"}], \"contour\": [{\"colorbar\": {\"outlinewidth\": 0, \"ticks\": \"\"}, \"colorscale\": [[0.0, \"#0d0887\"], [0.1111111111111111, \"#46039f\"], [0.2222222222222222, \"#7201a8\"], [0.3333333333333333, \"#9c179e\"], [0.4444444444444444, \"#bd3786\"], [0.5555555555555556, \"#d8576b\"], [0.6666666666666666, \"#ed7953\"], [0.7777777777777778, \"#fb9f3a\"], [0.8888888888888888, \"#fdca26\"], [1.0, \"#f0f921\"]], \"type\": \"contour\"}], \"contourcarpet\": [{\"colorbar\": {\"outlinewidth\": 0, \"ticks\": \"\"}, \"type\": \"contourcarpet\"}], \"heatmap\": [{\"colorbar\": {\"outlinewidth\": 0, \"ticks\": \"\"}, \"colorscale\": [[0.0, \"#0d0887\"], [0.1111111111111111, \"#46039f\"], [0.2222222222222222, \"#7201a8\"], [0.3333333333333333, \"#9c179e\"], [0.4444444444444444, \"#bd3786\"], [0.5555555555555556, \"#d8576b\"], [0.6666666666666666, \"#ed7953\"], [0.7777777777777778, \"#fb9f3a\"], [0.8888888888888888, \"#fdca26\"], [1.0, \"#f0f921\"]], \"type\": \"heatmap\"}], \"heatmapgl\": [{\"colorbar\": {\"outlinewidth\": 0, \"ticks\": \"\"}, \"colorscale\": [[0.0, \"#0d0887\"], [0.1111111111111111, \"#46039f\"], [0.2222222222222222, \"#7201a8\"], [0.3333333333333333, \"#9c179e\"], [0.4444444444444444, \"#bd3786\"], [0.5555555555555556, \"#d8576b\"], [0.6666666666666666, \"#ed7953\"], [0.7777777777777778, \"#fb9f3a\"], [0.8888888888888888, \"#fdca26\"], [1.0, \"#f0f921\"]], \"type\": \"heatmapgl\"}], \"histogram\": [{\"marker\": {\"colorbar\": {\"outlinewidth\": 0, \"ticks\": \"\"}}, \"type\": \"histogram\"}], \"histogram2d\": [{\"colorbar\": {\"outlinewidth\": 0, \"ticks\": \"\"}, \"colorscale\": [[0.0, \"#0d0887\"], [0.1111111111111111, \"#46039f\"], [0.2222222222222222, \"#7201a8\"], [0.3333333333333333, \"#9c179e\"], [0.4444444444444444, \"#bd3786\"], [0.5555555555555556, \"#d8576b\"], [0.6666666666666666, \"#ed7953\"], [0.7777777777777778, \"#fb9f3a\"], [0.8888888888888888, \"#fdca26\"], [1.0, \"#f0f921\"]], \"type\": \"histogram2d\"}], \"histogram2dcontour\": [{\"colorbar\": {\"outlinewidth\": 0, \"ticks\": \"\"}, \"colorscale\": [[0.0, \"#0d0887\"], [0.1111111111111111, \"#46039f\"], [0.2222222222222222, \"#7201a8\"], [0.3333333333333333, \"#9c179e\"], [0.4444444444444444, \"#bd3786\"], [0.5555555555555556, \"#d8576b\"], [0.6666666666666666, \"#ed7953\"], [0.7777777777777778, \"#fb9f3a\"], [0.8888888888888888, \"#fdca26\"], [1.0, \"#f0f921\"]], \"type\": \"histogram2dcontour\"}], \"mesh3d\": [{\"colorbar\": {\"outlinewidth\": 0, \"ticks\": \"\"}, \"type\": \"mesh3d\"}], \"parcoords\": [{\"line\": {\"colorbar\": {\"outlinewidth\": 0, \"ticks\": \"\"}}, \"type\": \"parcoords\"}], \"pie\": [{\"automargin\": true, \"type\": \"pie\"}], \"scatter\": [{\"marker\": {\"colorbar\": {\"outlinewidth\": 0, \"ticks\": \"\"}}, \"type\": \"scatter\"}], \"scatter3d\": [{\"line\": {\"colorbar\": {\"outlinewidth\": 0, \"ticks\": \"\"}}, \"marker\": {\"colorbar\": {\"outlinewidth\": 0, \"ticks\": \"\"}}, \"type\": \"scatter3d\"}], \"scattercarpet\": [{\"marker\": {\"colorbar\": {\"outlinewidth\": 0, \"ticks\": \"\"}}, \"type\": \"scattercarpet\"}], \"scattergeo\": [{\"marker\": {\"colorbar\": {\"outlinewidth\": 0, \"ticks\": \"\"}}, \"type\": \"scattergeo\"}], \"scattergl\": [{\"marker\": {\"colorbar\": {\"outlinewidth\": 0, \"ticks\": \"\"}}, \"type\": \"scattergl\"}], \"scattermapbox\": [{\"marker\": {\"colorbar\": {\"outlinewidth\": 0, \"ticks\": \"\"}}, \"type\": \"scattermapbox\"}], \"scatterpolar\": [{\"marker\": {\"colorbar\": {\"outlinewidth\": 0, \"ticks\": \"\"}}, \"type\": \"scatterpolar\"}], \"scatterpolargl\": [{\"marker\": {\"colorbar\": {\"outlinewidth\": 0, \"ticks\": \"\"}}, \"type\": \"scatterpolargl\"}], \"scatterternary\": [{\"marker\": {\"colorbar\": {\"outlinewidth\": 0, \"ticks\": \"\"}}, \"type\": \"scatterternary\"}], \"surface\": [{\"colorbar\": {\"outlinewidth\": 0, \"ticks\": \"\"}, \"colorscale\": [[0.0, \"#0d0887\"], [0.1111111111111111, \"#46039f\"], [0.2222222222222222, \"#7201a8\"], [0.3333333333333333, \"#9c179e\"], [0.4444444444444444, \"#bd3786\"], [0.5555555555555556, \"#d8576b\"], [0.6666666666666666, \"#ed7953\"], [0.7777777777777778, \"#fb9f3a\"], [0.8888888888888888, \"#fdca26\"], [1.0, \"#f0f921\"]], \"type\": \"surface\"}], \"table\": [{\"cells\": {\"fill\": {\"color\": \"#EBF0F8\"}, \"line\": {\"color\": \"white\"}}, \"header\": {\"fill\": {\"color\": \"#C8D4E3\"}, \"line\": {\"color\": \"white\"}}, \"type\": \"table\"}]}, \"layout\": {\"annotationdefaults\": {\"arrowcolor\": \"#2a3f5f\", \"arrowhead\": 0, \"arrowwidth\": 1}, \"coloraxis\": {\"colorbar\": {\"outlinewidth\": 0, \"ticks\": \"\"}}, \"colorscale\": {\"diverging\": [[0, \"#8e0152\"], [0.1, \"#c51b7d\"], [0.2, \"#de77ae\"], [0.3, \"#f1b6da\"], [0.4, \"#fde0ef\"], [0.5, \"#f7f7f7\"], [0.6, \"#e6f5d0\"], [0.7, \"#b8e186\"], [0.8, \"#7fbc41\"], [0.9, \"#4d9221\"], [1, \"#276419\"]], \"sequential\": [[0.0, \"#0d0887\"], [0.1111111111111111, \"#46039f\"], [0.2222222222222222, \"#7201a8\"], [0.3333333333333333, \"#9c179e\"], [0.4444444444444444, \"#bd3786\"], [0.5555555555555556, \"#d8576b\"], [0.6666666666666666, \"#ed7953\"], [0.7777777777777778, \"#fb9f3a\"], [0.8888888888888888, \"#fdca26\"], [1.0, \"#f0f921\"]], \"sequentialminus\": [[0.0, \"#0d0887\"], [0.1111111111111111, \"#46039f\"], [0.2222222222222222, \"#7201a8\"], [0.3333333333333333, \"#9c179e\"], [0.4444444444444444, \"#bd3786\"], [0.5555555555555556, \"#d8576b\"], [0.6666666666666666, \"#ed7953\"], [0.7777777777777778, \"#fb9f3a\"], [0.8888888888888888, \"#fdca26\"], [1.0, \"#f0f921\"]]}, \"colorway\": [\"#636efa\", \"#EF553B\", \"#00cc96\", \"#ab63fa\", \"#FFA15A\", \"#19d3f3\", \"#FF6692\", \"#B6E880\", \"#FF97FF\", \"#FECB52\"], \"font\": {\"color\": \"#2a3f5f\"}, \"geo\": {\"bgcolor\": \"white\", \"lakecolor\": \"white\", \"landcolor\": \"#E5ECF6\", \"showlakes\": true, \"showland\": true, \"subunitcolor\": \"white\"}, \"hoverlabel\": {\"align\": \"left\"}, \"hovermode\": \"closest\", \"mapbox\": {\"style\": \"light\"}, \"paper_bgcolor\": \"white\", \"plot_bgcolor\": \"#E5ECF6\", \"polar\": {\"angularaxis\": {\"gridcolor\": \"white\", \"linecolor\": \"white\", \"ticks\": \"\"}, \"bgcolor\": \"#E5ECF6\", \"radialaxis\": {\"gridcolor\": \"white\", \"linecolor\": \"white\", \"ticks\": \"\"}}, \"scene\": {\"xaxis\": {\"backgroundcolor\": \"#E5ECF6\", \"gridcolor\": \"white\", \"gridwidth\": 2, \"linecolor\": \"white\", \"showbackground\": true, \"ticks\": \"\", \"zerolinecolor\": \"white\"}, \"yaxis\": {\"backgroundcolor\": \"#E5ECF6\", \"gridcolor\": \"white\", \"gridwidth\": 2, \"linecolor\": \"white\", \"showbackground\": true, \"ticks\": \"\", \"zerolinecolor\": \"white\"}, \"zaxis\": {\"backgroundcolor\": \"#E5ECF6\", \"gridcolor\": \"white\", \"gridwidth\": 2, \"linecolor\": \"white\", \"showbackground\": true, \"ticks\": \"\", \"zerolinecolor\": \"white\"}}, \"shapedefaults\": {\"line\": {\"color\": \"#2a3f5f\"}}, \"ternary\": {\"aaxis\": {\"gridcolor\": \"white\", \"linecolor\": \"white\", \"ticks\": \"\"}, \"baxis\": {\"gridcolor\": \"white\", \"linecolor\": \"white\", \"ticks\": \"\"}, \"bgcolor\": \"#E5ECF6\", \"caxis\": {\"gridcolor\": \"white\", \"linecolor\": \"white\", \"ticks\": \"\"}}, \"title\": {\"x\": 0.05}, \"xaxis\": {\"automargin\": true, \"gridcolor\": \"white\", \"linecolor\": \"white\", \"ticks\": \"\", \"title\": {\"standoff\": 15}, \"zerolinecolor\": \"white\", \"zerolinewidth\": 2}, \"yaxis\": {\"automargin\": true, \"gridcolor\": \"white\", \"linecolor\": \"white\", \"ticks\": \"\", \"title\": {\"standoff\": 15}, \"zerolinecolor\": \"white\", \"zerolinewidth\": 2}}}, \"title\": {\"text\": \"U.S. NG demand during withdrawal seasons\"}, \"xaxis\": {\"anchor\": \"y\", \"domain\": [0.0, 1.0], \"title\": {\"text\": \" withdrawal season year\"}}, \"yaxis\": {\"anchor\": \"x\", \"domain\": [0.0, 1.0], \"title\": {\"text\": \"demand in cubic feet\"}}},                        {\"responsive\": true}                    ).then(function(){\n",
       "                            \n",
       "var gd = document.getElementById('d673048f-e3a3-4fc1-a7a4-58b5d781e774');\n",
       "var x = new MutationObserver(function (mutations, observer) {{\n",
       "        var display = window.getComputedStyle(gd).display;\n",
       "        if (!display || display === 'none') {{\n",
       "            console.log([gd, 'removed!']);\n",
       "            Plotly.purge(gd);\n",
       "            observer.disconnect();\n",
       "        }}\n",
       "}});\n",
       "\n",
       "// Listen for the removal of the full notebook cells\n",
       "var notebookContainer = gd.closest('#notebook-container');\n",
       "if (notebookContainer) {{\n",
       "    x.observe(notebookContainer, {childList: true});\n",
       "}}\n",
       "\n",
       "// Listen for the clearing of the current output cell\n",
       "var outputEl = gd.closest('.output');\n",
       "if (outputEl) {{\n",
       "    x.observe(outputEl, {childList: true});\n",
       "}}\n",
       "\n",
       "                        })                };                });            </script>        </div>"
      ]
     },
     "metadata": {},
     "output_type": "display_data"
    }
   ],
   "source": [
    "fig = px.bar(x = wdSeasonAll.index, y = wdSeasonAll,\n",
    "             title=\"U.S. NG demand during withdrawal seasons\",\n",
    "             labels={'y': \"demand in cubic feet\", 'x': ' withdrawal season year'})\n",
    "            \n",
    "fig.layout.showlegend = False\n",
    "fig.layout.images = eiaLg2\n",
    "fig.show()"
   ]
  },
  {
   "cell_type": "code",
   "execution_count": 80,
   "metadata": {},
   "outputs": [
    {
     "data": {
      "application/vnd.plotly.v1+json": {
       "config": {
        "plotlyServerURL": "https://plot.ly"
       },
       "data": [
        {
         "alignmentgroup": "True",
         "hovertemplate": " storage season & year=%{x}<br>cubic feet=%{y}<extra></extra>",
         "legendgroup": "",
         "marker": {
          "color": "#636efa"
         },
         "name": "",
         "offsetgroup": "",
         "orientation": "v",
         "showlegend": false,
         "textposition": "auto",
         "type": "bar",
         "x": [
          "wd2001",
          "wd2002",
          "wd2003",
          "wd2004",
          "wd2005",
          "wd2006",
          "wd2007",
          "wd2008",
          "wd2009",
          "wd2010",
          "wd2011",
          "wd2012",
          "wd2013",
          "wd2014",
          "wd2015",
          "wd2016",
          "wd2017",
          "wd2018",
          "wd2019",
          "wd2020",
          "wd2021"
         ],
         "xaxis": "x",
         "y": [
          null,
          971363000000,
          -285828000000,
          -114166000000,
          -867621000000,
          701764000000,
          842545000000,
          -227874000000,
          176696000000,
          729697000000,
          -300516000000,
          753497000000,
          1019252000000,
          -15415000000,
          -598210000000,
          297132000000,
          1668478000000,
          1109702000000,
          532480000000,
          -172145000000,
          781204000000
         ],
         "yaxis": "y"
        }
       ],
       "layout": {
        "barmode": "relative",
        "images": [
         {
          "sizex": 0.1,
          "sizey": 0.1,
          "source": "https://upload.wikimedia.org/wikipedia/commons/1/1f/Energy_Information_Administration_logo.svg",
          "x": 1.03,
          "xanchor": "center",
          "y": 1.1,
          "yanchor": "bottom"
         }
        ],
        "legend": {
         "tracegroupgap": 0
        },
        "showlegend": false,
        "template": {
         "data": {
          "bar": [
           {
            "error_x": {
             "color": "#2a3f5f"
            },
            "error_y": {
             "color": "#2a3f5f"
            },
            "marker": {
             "line": {
              "color": "#E5ECF6",
              "width": 0.5
             }
            },
            "type": "bar"
           }
          ],
          "barpolar": [
           {
            "marker": {
             "line": {
              "color": "#E5ECF6",
              "width": 0.5
             }
            },
            "type": "barpolar"
           }
          ],
          "carpet": [
           {
            "aaxis": {
             "endlinecolor": "#2a3f5f",
             "gridcolor": "white",
             "linecolor": "white",
             "minorgridcolor": "white",
             "startlinecolor": "#2a3f5f"
            },
            "baxis": {
             "endlinecolor": "#2a3f5f",
             "gridcolor": "white",
             "linecolor": "white",
             "minorgridcolor": "white",
             "startlinecolor": "#2a3f5f"
            },
            "type": "carpet"
           }
          ],
          "choropleth": [
           {
            "colorbar": {
             "outlinewidth": 0,
             "ticks": ""
            },
            "type": "choropleth"
           }
          ],
          "contour": [
           {
            "colorbar": {
             "outlinewidth": 0,
             "ticks": ""
            },
            "colorscale": [
             [
              0,
              "#0d0887"
             ],
             [
              0.1111111111111111,
              "#46039f"
             ],
             [
              0.2222222222222222,
              "#7201a8"
             ],
             [
              0.3333333333333333,
              "#9c179e"
             ],
             [
              0.4444444444444444,
              "#bd3786"
             ],
             [
              0.5555555555555556,
              "#d8576b"
             ],
             [
              0.6666666666666666,
              "#ed7953"
             ],
             [
              0.7777777777777778,
              "#fb9f3a"
             ],
             [
              0.8888888888888888,
              "#fdca26"
             ],
             [
              1,
              "#f0f921"
             ]
            ],
            "type": "contour"
           }
          ],
          "contourcarpet": [
           {
            "colorbar": {
             "outlinewidth": 0,
             "ticks": ""
            },
            "type": "contourcarpet"
           }
          ],
          "heatmap": [
           {
            "colorbar": {
             "outlinewidth": 0,
             "ticks": ""
            },
            "colorscale": [
             [
              0,
              "#0d0887"
             ],
             [
              0.1111111111111111,
              "#46039f"
             ],
             [
              0.2222222222222222,
              "#7201a8"
             ],
             [
              0.3333333333333333,
              "#9c179e"
             ],
             [
              0.4444444444444444,
              "#bd3786"
             ],
             [
              0.5555555555555556,
              "#d8576b"
             ],
             [
              0.6666666666666666,
              "#ed7953"
             ],
             [
              0.7777777777777778,
              "#fb9f3a"
             ],
             [
              0.8888888888888888,
              "#fdca26"
             ],
             [
              1,
              "#f0f921"
             ]
            ],
            "type": "heatmap"
           }
          ],
          "heatmapgl": [
           {
            "colorbar": {
             "outlinewidth": 0,
             "ticks": ""
            },
            "colorscale": [
             [
              0,
              "#0d0887"
             ],
             [
              0.1111111111111111,
              "#46039f"
             ],
             [
              0.2222222222222222,
              "#7201a8"
             ],
             [
              0.3333333333333333,
              "#9c179e"
             ],
             [
              0.4444444444444444,
              "#bd3786"
             ],
             [
              0.5555555555555556,
              "#d8576b"
             ],
             [
              0.6666666666666666,
              "#ed7953"
             ],
             [
              0.7777777777777778,
              "#fb9f3a"
             ],
             [
              0.8888888888888888,
              "#fdca26"
             ],
             [
              1,
              "#f0f921"
             ]
            ],
            "type": "heatmapgl"
           }
          ],
          "histogram": [
           {
            "marker": {
             "colorbar": {
              "outlinewidth": 0,
              "ticks": ""
             }
            },
            "type": "histogram"
           }
          ],
          "histogram2d": [
           {
            "colorbar": {
             "outlinewidth": 0,
             "ticks": ""
            },
            "colorscale": [
             [
              0,
              "#0d0887"
             ],
             [
              0.1111111111111111,
              "#46039f"
             ],
             [
              0.2222222222222222,
              "#7201a8"
             ],
             [
              0.3333333333333333,
              "#9c179e"
             ],
             [
              0.4444444444444444,
              "#bd3786"
             ],
             [
              0.5555555555555556,
              "#d8576b"
             ],
             [
              0.6666666666666666,
              "#ed7953"
             ],
             [
              0.7777777777777778,
              "#fb9f3a"
             ],
             [
              0.8888888888888888,
              "#fdca26"
             ],
             [
              1,
              "#f0f921"
             ]
            ],
            "type": "histogram2d"
           }
          ],
          "histogram2dcontour": [
           {
            "colorbar": {
             "outlinewidth": 0,
             "ticks": ""
            },
            "colorscale": [
             [
              0,
              "#0d0887"
             ],
             [
              0.1111111111111111,
              "#46039f"
             ],
             [
              0.2222222222222222,
              "#7201a8"
             ],
             [
              0.3333333333333333,
              "#9c179e"
             ],
             [
              0.4444444444444444,
              "#bd3786"
             ],
             [
              0.5555555555555556,
              "#d8576b"
             ],
             [
              0.6666666666666666,
              "#ed7953"
             ],
             [
              0.7777777777777778,
              "#fb9f3a"
             ],
             [
              0.8888888888888888,
              "#fdca26"
             ],
             [
              1,
              "#f0f921"
             ]
            ],
            "type": "histogram2dcontour"
           }
          ],
          "mesh3d": [
           {
            "colorbar": {
             "outlinewidth": 0,
             "ticks": ""
            },
            "type": "mesh3d"
           }
          ],
          "parcoords": [
           {
            "line": {
             "colorbar": {
              "outlinewidth": 0,
              "ticks": ""
             }
            },
            "type": "parcoords"
           }
          ],
          "pie": [
           {
            "automargin": true,
            "type": "pie"
           }
          ],
          "scatter": [
           {
            "marker": {
             "colorbar": {
              "outlinewidth": 0,
              "ticks": ""
             }
            },
            "type": "scatter"
           }
          ],
          "scatter3d": [
           {
            "line": {
             "colorbar": {
              "outlinewidth": 0,
              "ticks": ""
             }
            },
            "marker": {
             "colorbar": {
              "outlinewidth": 0,
              "ticks": ""
             }
            },
            "type": "scatter3d"
           }
          ],
          "scattercarpet": [
           {
            "marker": {
             "colorbar": {
              "outlinewidth": 0,
              "ticks": ""
             }
            },
            "type": "scattercarpet"
           }
          ],
          "scattergeo": [
           {
            "marker": {
             "colorbar": {
              "outlinewidth": 0,
              "ticks": ""
             }
            },
            "type": "scattergeo"
           }
          ],
          "scattergl": [
           {
            "marker": {
             "colorbar": {
              "outlinewidth": 0,
              "ticks": ""
             }
            },
            "type": "scattergl"
           }
          ],
          "scattermapbox": [
           {
            "marker": {
             "colorbar": {
              "outlinewidth": 0,
              "ticks": ""
             }
            },
            "type": "scattermapbox"
           }
          ],
          "scatterpolar": [
           {
            "marker": {
             "colorbar": {
              "outlinewidth": 0,
              "ticks": ""
             }
            },
            "type": "scatterpolar"
           }
          ],
          "scatterpolargl": [
           {
            "marker": {
             "colorbar": {
              "outlinewidth": 0,
              "ticks": ""
             }
            },
            "type": "scatterpolargl"
           }
          ],
          "scatterternary": [
           {
            "marker": {
             "colorbar": {
              "outlinewidth": 0,
              "ticks": ""
             }
            },
            "type": "scatterternary"
           }
          ],
          "surface": [
           {
            "colorbar": {
             "outlinewidth": 0,
             "ticks": ""
            },
            "colorscale": [
             [
              0,
              "#0d0887"
             ],
             [
              0.1111111111111111,
              "#46039f"
             ],
             [
              0.2222222222222222,
              "#7201a8"
             ],
             [
              0.3333333333333333,
              "#9c179e"
             ],
             [
              0.4444444444444444,
              "#bd3786"
             ],
             [
              0.5555555555555556,
              "#d8576b"
             ],
             [
              0.6666666666666666,
              "#ed7953"
             ],
             [
              0.7777777777777778,
              "#fb9f3a"
             ],
             [
              0.8888888888888888,
              "#fdca26"
             ],
             [
              1,
              "#f0f921"
             ]
            ],
            "type": "surface"
           }
          ],
          "table": [
           {
            "cells": {
             "fill": {
              "color": "#EBF0F8"
             },
             "line": {
              "color": "white"
             }
            },
            "header": {
             "fill": {
              "color": "#C8D4E3"
             },
             "line": {
              "color": "white"
             }
            },
            "type": "table"
           }
          ]
         },
         "layout": {
          "annotationdefaults": {
           "arrowcolor": "#2a3f5f",
           "arrowhead": 0,
           "arrowwidth": 1
          },
          "coloraxis": {
           "colorbar": {
            "outlinewidth": 0,
            "ticks": ""
           }
          },
          "colorscale": {
           "diverging": [
            [
             0,
             "#8e0152"
            ],
            [
             0.1,
             "#c51b7d"
            ],
            [
             0.2,
             "#de77ae"
            ],
            [
             0.3,
             "#f1b6da"
            ],
            [
             0.4,
             "#fde0ef"
            ],
            [
             0.5,
             "#f7f7f7"
            ],
            [
             0.6,
             "#e6f5d0"
            ],
            [
             0.7,
             "#b8e186"
            ],
            [
             0.8,
             "#7fbc41"
            ],
            [
             0.9,
             "#4d9221"
            ],
            [
             1,
             "#276419"
            ]
           ],
           "sequential": [
            [
             0,
             "#0d0887"
            ],
            [
             0.1111111111111111,
             "#46039f"
            ],
            [
             0.2222222222222222,
             "#7201a8"
            ],
            [
             0.3333333333333333,
             "#9c179e"
            ],
            [
             0.4444444444444444,
             "#bd3786"
            ],
            [
             0.5555555555555556,
             "#d8576b"
            ],
            [
             0.6666666666666666,
             "#ed7953"
            ],
            [
             0.7777777777777778,
             "#fb9f3a"
            ],
            [
             0.8888888888888888,
             "#fdca26"
            ],
            [
             1,
             "#f0f921"
            ]
           ],
           "sequentialminus": [
            [
             0,
             "#0d0887"
            ],
            [
             0.1111111111111111,
             "#46039f"
            ],
            [
             0.2222222222222222,
             "#7201a8"
            ],
            [
             0.3333333333333333,
             "#9c179e"
            ],
            [
             0.4444444444444444,
             "#bd3786"
            ],
            [
             0.5555555555555556,
             "#d8576b"
            ],
            [
             0.6666666666666666,
             "#ed7953"
            ],
            [
             0.7777777777777778,
             "#fb9f3a"
            ],
            [
             0.8888888888888888,
             "#fdca26"
            ],
            [
             1,
             "#f0f921"
            ]
           ]
          },
          "colorway": [
           "#636efa",
           "#EF553B",
           "#00cc96",
           "#ab63fa",
           "#FFA15A",
           "#19d3f3",
           "#FF6692",
           "#B6E880",
           "#FF97FF",
           "#FECB52"
          ],
          "font": {
           "color": "#2a3f5f"
          },
          "geo": {
           "bgcolor": "white",
           "lakecolor": "white",
           "landcolor": "#E5ECF6",
           "showlakes": true,
           "showland": true,
           "subunitcolor": "white"
          },
          "hoverlabel": {
           "align": "left"
          },
          "hovermode": "closest",
          "mapbox": {
           "style": "light"
          },
          "paper_bgcolor": "white",
          "plot_bgcolor": "#E5ECF6",
          "polar": {
           "angularaxis": {
            "gridcolor": "white",
            "linecolor": "white",
            "ticks": ""
           },
           "bgcolor": "#E5ECF6",
           "radialaxis": {
            "gridcolor": "white",
            "linecolor": "white",
            "ticks": ""
           }
          },
          "scene": {
           "xaxis": {
            "backgroundcolor": "#E5ECF6",
            "gridcolor": "white",
            "gridwidth": 2,
            "linecolor": "white",
            "showbackground": true,
            "ticks": "",
            "zerolinecolor": "white"
           },
           "yaxis": {
            "backgroundcolor": "#E5ECF6",
            "gridcolor": "white",
            "gridwidth": 2,
            "linecolor": "white",
            "showbackground": true,
            "ticks": "",
            "zerolinecolor": "white"
           },
           "zaxis": {
            "backgroundcolor": "#E5ECF6",
            "gridcolor": "white",
            "gridwidth": 2,
            "linecolor": "white",
            "showbackground": true,
            "ticks": "",
            "zerolinecolor": "white"
           }
          },
          "shapedefaults": {
           "line": {
            "color": "#2a3f5f"
           }
          },
          "ternary": {
           "aaxis": {
            "gridcolor": "white",
            "linecolor": "white",
            "ticks": ""
           },
           "baxis": {
            "gridcolor": "white",
            "linecolor": "white",
            "ticks": ""
           },
           "bgcolor": "#E5ECF6",
           "caxis": {
            "gridcolor": "white",
            "linecolor": "white",
            "ticks": ""
           }
          },
          "title": {
           "x": 0.05
          },
          "xaxis": {
           "automargin": true,
           "gridcolor": "white",
           "linecolor": "white",
           "ticks": "",
           "title": {
            "standoff": 15
           },
           "zerolinecolor": "white",
           "zerolinewidth": 2
          },
          "yaxis": {
           "automargin": true,
           "gridcolor": "white",
           "linecolor": "white",
           "ticks": "",
           "title": {
            "standoff": 15
           },
           "zerolinecolor": "white",
           "zerolinewidth": 2
          }
         }
        },
        "title": {
         "text": "Y/Y change in NG demand during withdrawal season"
        },
        "xaxis": {
         "anchor": "y",
         "domain": [
          0,
          1
         ],
         "title": {
          "text": " storage season & year"
         }
        },
        "yaxis": {
         "anchor": "x",
         "domain": [
          0,
          1
         ],
         "title": {
          "text": "cubic feet"
         }
        }
       }
      },
      "text/html": [
       "<div>                            <div id=\"83b96042-2f83-4d65-987a-de8295aa0ca5\" class=\"plotly-graph-div\" style=\"height:525px; width:100%;\"></div>            <script type=\"text/javascript\">                require([\"plotly\"], function(Plotly) {                    window.PLOTLYENV=window.PLOTLYENV || {};                                    if (document.getElementById(\"83b96042-2f83-4d65-987a-de8295aa0ca5\")) {                    Plotly.newPlot(                        \"83b96042-2f83-4d65-987a-de8295aa0ca5\",                        [{\"alignmentgroup\": \"True\", \"hovertemplate\": \" storage season & year=%{x}<br>cubic feet=%{y}<extra></extra>\", \"legendgroup\": \"\", \"marker\": {\"color\": \"#636efa\"}, \"name\": \"\", \"offsetgroup\": \"\", \"orientation\": \"v\", \"showlegend\": false, \"textposition\": \"auto\", \"type\": \"bar\", \"x\": [\"wd2001\", \"wd2002\", \"wd2003\", \"wd2004\", \"wd2005\", \"wd2006\", \"wd2007\", \"wd2008\", \"wd2009\", \"wd2010\", \"wd2011\", \"wd2012\", \"wd2013\", \"wd2014\", \"wd2015\", \"wd2016\", \"wd2017\", \"wd2018\", \"wd2019\", \"wd2020\", \"wd2021\"], \"xaxis\": \"x\", \"y\": [null, 971363000000.0, -285828000000.0, -114166000000.0, -867621000000.0, 701764000000.0, 842545000000.0, -227874000000.0, 176696000000.0, 729697000000.0, -300516000000.0, 753497000000.0, 1019252000000.0, -15415000000.0, -598210000000.0, 297132000000.0, 1668478000000.0, 1109702000000.0, 532480000000.0, -172145000000.0, 781204000000.0], \"yaxis\": \"y\"}],                        {\"barmode\": \"relative\", \"images\": [{\"sizex\": 0.1, \"sizey\": 0.1, \"source\": \"https://upload.wikimedia.org/wikipedia/commons/1/1f/Energy_Information_Administration_logo.svg\", \"x\": 1.03, \"xanchor\": \"center\", \"y\": 1.1, \"yanchor\": \"bottom\"}], \"legend\": {\"tracegroupgap\": 0}, \"showlegend\": false, \"template\": {\"data\": {\"bar\": [{\"error_x\": {\"color\": \"#2a3f5f\"}, \"error_y\": {\"color\": \"#2a3f5f\"}, \"marker\": {\"line\": {\"color\": \"#E5ECF6\", \"width\": 0.5}}, \"type\": \"bar\"}], \"barpolar\": [{\"marker\": {\"line\": {\"color\": \"#E5ECF6\", \"width\": 0.5}}, \"type\": \"barpolar\"}], \"carpet\": [{\"aaxis\": {\"endlinecolor\": \"#2a3f5f\", \"gridcolor\": \"white\", \"linecolor\": \"white\", \"minorgridcolor\": \"white\", \"startlinecolor\": \"#2a3f5f\"}, \"baxis\": {\"endlinecolor\": \"#2a3f5f\", \"gridcolor\": \"white\", \"linecolor\": \"white\", \"minorgridcolor\": \"white\", \"startlinecolor\": \"#2a3f5f\"}, \"type\": \"carpet\"}], \"choropleth\": [{\"colorbar\": {\"outlinewidth\": 0, \"ticks\": \"\"}, \"type\": \"choropleth\"}], \"contour\": [{\"colorbar\": {\"outlinewidth\": 0, \"ticks\": \"\"}, \"colorscale\": [[0.0, \"#0d0887\"], [0.1111111111111111, \"#46039f\"], [0.2222222222222222, \"#7201a8\"], [0.3333333333333333, \"#9c179e\"], [0.4444444444444444, \"#bd3786\"], [0.5555555555555556, \"#d8576b\"], [0.6666666666666666, \"#ed7953\"], [0.7777777777777778, \"#fb9f3a\"], [0.8888888888888888, \"#fdca26\"], [1.0, \"#f0f921\"]], \"type\": \"contour\"}], \"contourcarpet\": [{\"colorbar\": {\"outlinewidth\": 0, \"ticks\": \"\"}, \"type\": \"contourcarpet\"}], \"heatmap\": [{\"colorbar\": {\"outlinewidth\": 0, \"ticks\": \"\"}, \"colorscale\": [[0.0, \"#0d0887\"], [0.1111111111111111, \"#46039f\"], [0.2222222222222222, \"#7201a8\"], [0.3333333333333333, \"#9c179e\"], [0.4444444444444444, \"#bd3786\"], [0.5555555555555556, \"#d8576b\"], [0.6666666666666666, \"#ed7953\"], [0.7777777777777778, \"#fb9f3a\"], [0.8888888888888888, \"#fdca26\"], [1.0, \"#f0f921\"]], \"type\": \"heatmap\"}], \"heatmapgl\": [{\"colorbar\": {\"outlinewidth\": 0, \"ticks\": \"\"}, \"colorscale\": [[0.0, \"#0d0887\"], [0.1111111111111111, \"#46039f\"], [0.2222222222222222, \"#7201a8\"], [0.3333333333333333, \"#9c179e\"], [0.4444444444444444, \"#bd3786\"], [0.5555555555555556, \"#d8576b\"], [0.6666666666666666, \"#ed7953\"], [0.7777777777777778, \"#fb9f3a\"], [0.8888888888888888, \"#fdca26\"], [1.0, \"#f0f921\"]], \"type\": \"heatmapgl\"}], \"histogram\": [{\"marker\": {\"colorbar\": {\"outlinewidth\": 0, \"ticks\": \"\"}}, \"type\": \"histogram\"}], \"histogram2d\": [{\"colorbar\": {\"outlinewidth\": 0, \"ticks\": \"\"}, \"colorscale\": [[0.0, \"#0d0887\"], [0.1111111111111111, \"#46039f\"], [0.2222222222222222, \"#7201a8\"], [0.3333333333333333, \"#9c179e\"], [0.4444444444444444, \"#bd3786\"], [0.5555555555555556, \"#d8576b\"], [0.6666666666666666, \"#ed7953\"], [0.7777777777777778, \"#fb9f3a\"], [0.8888888888888888, \"#fdca26\"], [1.0, \"#f0f921\"]], \"type\": \"histogram2d\"}], \"histogram2dcontour\": [{\"colorbar\": {\"outlinewidth\": 0, \"ticks\": \"\"}, \"colorscale\": [[0.0, \"#0d0887\"], [0.1111111111111111, \"#46039f\"], [0.2222222222222222, \"#7201a8\"], [0.3333333333333333, \"#9c179e\"], [0.4444444444444444, \"#bd3786\"], [0.5555555555555556, \"#d8576b\"], [0.6666666666666666, \"#ed7953\"], [0.7777777777777778, \"#fb9f3a\"], [0.8888888888888888, \"#fdca26\"], [1.0, \"#f0f921\"]], \"type\": \"histogram2dcontour\"}], \"mesh3d\": [{\"colorbar\": {\"outlinewidth\": 0, \"ticks\": \"\"}, \"type\": \"mesh3d\"}], \"parcoords\": [{\"line\": {\"colorbar\": {\"outlinewidth\": 0, \"ticks\": \"\"}}, \"type\": \"parcoords\"}], \"pie\": [{\"automargin\": true, \"type\": \"pie\"}], \"scatter\": [{\"marker\": {\"colorbar\": {\"outlinewidth\": 0, \"ticks\": \"\"}}, \"type\": \"scatter\"}], \"scatter3d\": [{\"line\": {\"colorbar\": {\"outlinewidth\": 0, \"ticks\": \"\"}}, \"marker\": {\"colorbar\": {\"outlinewidth\": 0, \"ticks\": \"\"}}, \"type\": \"scatter3d\"}], \"scattercarpet\": [{\"marker\": {\"colorbar\": {\"outlinewidth\": 0, \"ticks\": \"\"}}, \"type\": \"scattercarpet\"}], \"scattergeo\": [{\"marker\": {\"colorbar\": {\"outlinewidth\": 0, \"ticks\": \"\"}}, \"type\": \"scattergeo\"}], \"scattergl\": [{\"marker\": {\"colorbar\": {\"outlinewidth\": 0, \"ticks\": \"\"}}, \"type\": \"scattergl\"}], \"scattermapbox\": [{\"marker\": {\"colorbar\": {\"outlinewidth\": 0, \"ticks\": \"\"}}, \"type\": \"scattermapbox\"}], \"scatterpolar\": [{\"marker\": {\"colorbar\": {\"outlinewidth\": 0, \"ticks\": \"\"}}, \"type\": \"scatterpolar\"}], \"scatterpolargl\": [{\"marker\": {\"colorbar\": {\"outlinewidth\": 0, \"ticks\": \"\"}}, \"type\": \"scatterpolargl\"}], \"scatterternary\": [{\"marker\": {\"colorbar\": {\"outlinewidth\": 0, \"ticks\": \"\"}}, \"type\": \"scatterternary\"}], \"surface\": [{\"colorbar\": {\"outlinewidth\": 0, \"ticks\": \"\"}, \"colorscale\": [[0.0, \"#0d0887\"], [0.1111111111111111, \"#46039f\"], [0.2222222222222222, \"#7201a8\"], [0.3333333333333333, \"#9c179e\"], [0.4444444444444444, \"#bd3786\"], [0.5555555555555556, \"#d8576b\"], [0.6666666666666666, \"#ed7953\"], [0.7777777777777778, \"#fb9f3a\"], [0.8888888888888888, \"#fdca26\"], [1.0, \"#f0f921\"]], \"type\": \"surface\"}], \"table\": [{\"cells\": {\"fill\": {\"color\": \"#EBF0F8\"}, \"line\": {\"color\": \"white\"}}, \"header\": {\"fill\": {\"color\": \"#C8D4E3\"}, \"line\": {\"color\": \"white\"}}, \"type\": \"table\"}]}, \"layout\": {\"annotationdefaults\": {\"arrowcolor\": \"#2a3f5f\", \"arrowhead\": 0, \"arrowwidth\": 1}, \"coloraxis\": {\"colorbar\": {\"outlinewidth\": 0, \"ticks\": \"\"}}, \"colorscale\": {\"diverging\": [[0, \"#8e0152\"], [0.1, \"#c51b7d\"], [0.2, \"#de77ae\"], [0.3, \"#f1b6da\"], [0.4, \"#fde0ef\"], [0.5, \"#f7f7f7\"], [0.6, \"#e6f5d0\"], [0.7, \"#b8e186\"], [0.8, \"#7fbc41\"], [0.9, \"#4d9221\"], [1, \"#276419\"]], \"sequential\": [[0.0, \"#0d0887\"], [0.1111111111111111, \"#46039f\"], [0.2222222222222222, \"#7201a8\"], [0.3333333333333333, \"#9c179e\"], [0.4444444444444444, \"#bd3786\"], [0.5555555555555556, \"#d8576b\"], [0.6666666666666666, \"#ed7953\"], [0.7777777777777778, \"#fb9f3a\"], [0.8888888888888888, \"#fdca26\"], [1.0, \"#f0f921\"]], \"sequentialminus\": [[0.0, \"#0d0887\"], [0.1111111111111111, \"#46039f\"], [0.2222222222222222, \"#7201a8\"], [0.3333333333333333, \"#9c179e\"], [0.4444444444444444, \"#bd3786\"], [0.5555555555555556, \"#d8576b\"], [0.6666666666666666, \"#ed7953\"], [0.7777777777777778, \"#fb9f3a\"], [0.8888888888888888, \"#fdca26\"], [1.0, \"#f0f921\"]]}, \"colorway\": [\"#636efa\", \"#EF553B\", \"#00cc96\", \"#ab63fa\", \"#FFA15A\", \"#19d3f3\", \"#FF6692\", \"#B6E880\", \"#FF97FF\", \"#FECB52\"], \"font\": {\"color\": \"#2a3f5f\"}, \"geo\": {\"bgcolor\": \"white\", \"lakecolor\": \"white\", \"landcolor\": \"#E5ECF6\", \"showlakes\": true, \"showland\": true, \"subunitcolor\": \"white\"}, \"hoverlabel\": {\"align\": \"left\"}, \"hovermode\": \"closest\", \"mapbox\": {\"style\": \"light\"}, \"paper_bgcolor\": \"white\", \"plot_bgcolor\": \"#E5ECF6\", \"polar\": {\"angularaxis\": {\"gridcolor\": \"white\", \"linecolor\": \"white\", \"ticks\": \"\"}, \"bgcolor\": \"#E5ECF6\", \"radialaxis\": {\"gridcolor\": \"white\", \"linecolor\": \"white\", \"ticks\": \"\"}}, \"scene\": {\"xaxis\": {\"backgroundcolor\": \"#E5ECF6\", \"gridcolor\": \"white\", \"gridwidth\": 2, \"linecolor\": \"white\", \"showbackground\": true, \"ticks\": \"\", \"zerolinecolor\": \"white\"}, \"yaxis\": {\"backgroundcolor\": \"#E5ECF6\", \"gridcolor\": \"white\", \"gridwidth\": 2, \"linecolor\": \"white\", \"showbackground\": true, \"ticks\": \"\", \"zerolinecolor\": \"white\"}, \"zaxis\": {\"backgroundcolor\": \"#E5ECF6\", \"gridcolor\": \"white\", \"gridwidth\": 2, \"linecolor\": \"white\", \"showbackground\": true, \"ticks\": \"\", \"zerolinecolor\": \"white\"}}, \"shapedefaults\": {\"line\": {\"color\": \"#2a3f5f\"}}, \"ternary\": {\"aaxis\": {\"gridcolor\": \"white\", \"linecolor\": \"white\", \"ticks\": \"\"}, \"baxis\": {\"gridcolor\": \"white\", \"linecolor\": \"white\", \"ticks\": \"\"}, \"bgcolor\": \"#E5ECF6\", \"caxis\": {\"gridcolor\": \"white\", \"linecolor\": \"white\", \"ticks\": \"\"}}, \"title\": {\"x\": 0.05}, \"xaxis\": {\"automargin\": true, \"gridcolor\": \"white\", \"linecolor\": \"white\", \"ticks\": \"\", \"title\": {\"standoff\": 15}, \"zerolinecolor\": \"white\", \"zerolinewidth\": 2}, \"yaxis\": {\"automargin\": true, \"gridcolor\": \"white\", \"linecolor\": \"white\", \"ticks\": \"\", \"title\": {\"standoff\": 15}, \"zerolinecolor\": \"white\", \"zerolinewidth\": 2}}}, \"title\": {\"text\": \"Y/Y change in NG demand during withdrawal season\"}, \"xaxis\": {\"anchor\": \"y\", \"domain\": [0.0, 1.0], \"title\": {\"text\": \" storage season & year\"}}, \"yaxis\": {\"anchor\": \"x\", \"domain\": [0.0, 1.0], \"title\": {\"text\": \"cubic feet\"}}},                        {\"responsive\": true}                    ).then(function(){\n",
       "                            \n",
       "var gd = document.getElementById('83b96042-2f83-4d65-987a-de8295aa0ca5');\n",
       "var x = new MutationObserver(function (mutations, observer) {{\n",
       "        var display = window.getComputedStyle(gd).display;\n",
       "        if (!display || display === 'none') {{\n",
       "            console.log([gd, 'removed!']);\n",
       "            Plotly.purge(gd);\n",
       "            observer.disconnect();\n",
       "        }}\n",
       "}});\n",
       "\n",
       "// Listen for the removal of the full notebook cells\n",
       "var notebookContainer = gd.closest('#notebook-container');\n",
       "if (notebookContainer) {{\n",
       "    x.observe(notebookContainer, {childList: true});\n",
       "}}\n",
       "\n",
       "// Listen for the clearing of the current output cell\n",
       "var outputEl = gd.closest('.output');\n",
       "if (outputEl) {{\n",
       "    x.observe(outputEl, {childList: true});\n",
       "}}\n",
       "\n",
       "                        })                };                });            </script>        </div>"
      ]
     },
     "metadata": {},
     "output_type": "display_data"
    }
   ],
   "source": [
    "fig = px.bar(x = wdSeasonAll.index, y = wdSeasonAll.diff(), \n",
    "             title=\"Y/Y change in NG demand during withdrawal season\", \n",
    "             labels={'y': \"cubic feet\", 'x': ' storage season & year'})\n",
    "             \n",
    "fig.layout.showlegend = False\n",
    "fig.layout.images = eiaLg2\n",
    "fig.show()"
   ]
  },
  {
   "cell_type": "code",
   "execution_count": null,
   "metadata": {},
   "outputs": [],
   "source": []
  }
 ],
 "metadata": {
  "anaconda-cloud": {},
  "kernelspec": {
   "display_name": "Python 3",
   "language": "python",
   "name": "python3"
  },
  "language_info": {
   "codemirror_mode": {
    "name": "ipython",
    "version": 3
   },
   "file_extension": ".py",
   "mimetype": "text/x-python",
   "name": "python",
   "nbconvert_exporter": "python",
   "pygments_lexer": "ipython3",
   "version": "3.8.3"
  }
 },
 "nbformat": 4,
 "nbformat_minor": 2
}
