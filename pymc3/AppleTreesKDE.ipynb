{
  "nbformat": 4,
  "nbformat_minor": 0,
  "metadata": {
    "colab": {
      "provenance": [],
      "authorship_tag": "ABX9TyM0H2K3bOkVvhjvOVe3msog",
      "include_colab_link": true
    },
    "kernelspec": {
      "name": "python3",
      "display_name": "Python 3"
    },
    "language_info": {
      "name": "python"
    }
  },
  "cells": [
    {
      "cell_type": "markdown",
      "metadata": {
        "id": "view-in-github",
        "colab_type": "text"
      },
      "source": [
        "<a href=\"https://colab.research.google.com/github/JozefSL/pyNotes/blob/main/pymc3/AppleTreesKDE.ipynb\" target=\"_parent\"><img src=\"https://colab.research.google.com/assets/colab-badge.svg\" alt=\"Open In Colab\"/></a>"
      ]
    },
    {
      "cell_type": "code",
      "execution_count": 16,
      "metadata": {
        "id": "OLHAKXmQ2lpZ"
      },
      "outputs": [],
      "source": [
        "import numpy as np\n",
        "from scipy.stats import gaussian_kde\n",
        "import matplotlib.pyplot as plt"
      ]
    },
    {
      "cell_type": "code",
      "source": [
        "# Example data for apple production of 10 trees\n",
        "tree_data = [\n",
        "    [10, 12, 8, 15, 13, 14],    # Tree 1\n",
        "    [7, 9, 11, 13, 12, 10],     # Tree 2\n",
        "    [15, 14, 12, 11, 10, 9],    # Tree 3\n",
        "    [11, 13, 9, 10, 8, 12],     # Tree 4\n",
        "    [13, 12, 14, 10, 9, 11],    # Tree 5\n",
        "    [9, 11, 10, 12, 14, 13],    # Tree 6\n",
        "    [12, 10, 11, 9, 13, 14],    # Tree 7\n",
        "    [14, 13, 9, 12, 10, 11],    # Tree 8\n",
        "    [8, 10, 12, 11, 13, 9],     # Tree 9\n",
        "    [11, 12, 10, 9, 14, 13]     # Tree 10\n",
        "]"
      ],
      "metadata": {
        "id": "GdC6UKUu2td9"
      },
      "execution_count": 2,
      "outputs": []
    },
    {
      "cell_type": "code",
      "source": [
        "# Calculate KDE functions for each tree\n",
        "kde_functions = []\n",
        "for data in tree_data:\n",
        "    kde = gaussian_kde(data)\n",
        "    kde_functions.append(kde)"
      ],
      "metadata": {
        "id": "4c2I5rWm2xBQ"
      },
      "execution_count": 3,
      "outputs": []
    },
    {
      "cell_type": "code",
      "source": [
        "# Assign equal weights to each KDE function\n",
        "weights = np.ones(len(kde_functions)) / len(kde_functions)"
      ],
      "metadata": {
        "id": "V4aYks5K20z8"
      },
      "execution_count": 4,
      "outputs": []
    },
    {
      "cell_type": "code",
      "source": [
        "# Combine the KDE functions using the weights\n",
        "combined_kde = lambda x: np.sum(weight * kde_function(x) for weight, kde_function in zip(weights, kde_functions))\n",
        "combined_kde_v2 = lambda x: np.sum([weight * kde_function(x) for weight, kde_function in zip(weights, kde_functions)])"
      ],
      "metadata": {
        "id": "BwygOVN326SM"
      },
      "execution_count": 7,
      "outputs": []
    },
    {
      "cell_type": "code",
      "source": [
        "# Example usage: Evaluate the combined KDE at a specific point\n",
        "x = 11\n",
        "density = combined_kde(x)\n",
        "print(f\"The combined KDE density at x={x} is: {density}\")"
      ],
      "metadata": {
        "colab": {
          "base_uri": "https://localhost:8080/"
        },
        "id": "Fin3N_3b2-qb",
        "outputId": "e72f00f3-9386-43ff-8eb5-1629e03d8cc6"
      },
      "execution_count": 6,
      "outputs": [
        {
          "output_type": "stream",
          "name": "stdout",
          "text": [
            "The combined KDE density at x=11 is: [0.15289657]\n"
          ]
        },
        {
          "output_type": "stream",
          "name": "stderr",
          "text": [
            "<ipython-input-5-1bb29ac2fc95>:2: DeprecationWarning: Calling np.sum(generator) is deprecated, and in the future will give a different result. Use np.sum(np.fromiter(generator)) or the python sum builtin instead.\n",
            "  combined_kde = lambda x: np.sum(weight * kde_function(x) for weight, kde_function in zip(weights, kde_functions))\n"
          ]
        }
      ]
    },
    {
      "cell_type": "code",
      "source": [
        "# Example usage: Evaluate the combined KDE at a specific point\n",
        "x = 11\n",
        "density = combined_kde(x)\n",
        "print(f\"The combined KDE density at x={x} is: {density}\")\n",
        "density_v2 = combined_kde_v2(x)\n",
        "print(f\"The combined KDE density (version 2) at x={x} is: {density_v2}\")"
      ],
      "metadata": {
        "colab": {
          "base_uri": "https://localhost:8080/"
        },
        "id": "dFz5B8KV3JZN",
        "outputId": "277fa385-e6cb-4336-c837-a85728c8a0de"
      },
      "execution_count": 8,
      "outputs": [
        {
          "output_type": "stream",
          "name": "stdout",
          "text": [
            "The combined KDE density at x=11 is: [0.15289657]\n",
            "The combined KDE density (version 2) at x=11 is: 0.15289656606446667\n"
          ]
        },
        {
          "output_type": "stream",
          "name": "stderr",
          "text": [
            "<ipython-input-7-91db36d66613>:2: DeprecationWarning: Calling np.sum(generator) is deprecated, and in the future will give a different result. Use np.sum(np.fromiter(generator)) or the python sum builtin instead.\n",
            "  combined_kde = lambda x: np.sum(weight * kde_function(x) for weight, kde_function in zip(weights, kde_functions))\n"
          ]
        }
      ]
    },
    {
      "cell_type": "code",
      "source": [
        "weights"
      ],
      "metadata": {
        "colab": {
          "base_uri": "https://localhost:8080/"
        },
        "id": "qtPlpDc44TTu",
        "outputId": "3c1e799e-9789-4fe9-ee97-172bd7d282cf"
      },
      "execution_count": 9,
      "outputs": [
        {
          "output_type": "execute_result",
          "data": {
            "text/plain": [
              "array([0.1, 0.1, 0.1, 0.1, 0.1, 0.1, 0.1, 0.1, 0.1, 0.1])"
            ]
          },
          "metadata": {},
          "execution_count": 9
        }
      ]
    },
    {
      "cell_type": "code",
      "source": [
        "np.ones(len(kde_functions))"
      ],
      "metadata": {
        "colab": {
          "base_uri": "https://localhost:8080/"
        },
        "id": "ubr0B8Ix4T_l",
        "outputId": "c132b4d8-59e1-4e19-fac1-e1d340f95bb3"
      },
      "execution_count": 12,
      "outputs": [
        {
          "output_type": "execute_result",
          "data": {
            "text/plain": [
              "array([1., 1., 1., 1., 1., 1., 1., 1., 1., 1.])"
            ]
          },
          "metadata": {},
          "execution_count": 12
        }
      ]
    },
    {
      "cell_type": "code",
      "source": [
        "# Generate x values for the plot\n",
        "x_vals = np.linspace(0, 20, 100)"
      ],
      "metadata": {
        "id": "dOLaPGot4dDJ"
      },
      "execution_count": 13,
      "outputs": []
    },
    {
      "cell_type": "code",
      "source": [
        "# Evaluate the combined KDE function at x values\n",
        "y_vals = [combined_kde(x) for x in x_vals]"
      ],
      "metadata": {
        "colab": {
          "base_uri": "https://localhost:8080/"
        },
        "id": "kgdi4fK65ddh",
        "outputId": "369e0955-800b-426a-c292-2ca1187c2ccf"
      },
      "execution_count": 14,
      "outputs": [
        {
          "output_type": "stream",
          "name": "stderr",
          "text": [
            "<ipython-input-7-91db36d66613>:2: DeprecationWarning: Calling np.sum(generator) is deprecated, and in the future will give a different result. Use np.sum(np.fromiter(generator)) or the python sum builtin instead.\n",
            "  combined_kde = lambda x: np.sum(weight * kde_function(x) for weight, kde_function in zip(weights, kde_functions))\n"
          ]
        }
      ]
    },
    {
      "cell_type": "code",
      "source": [
        "# Plot the combined KDE function\n",
        "plt.plot(x_vals, y_vals)\n",
        "plt.xlabel('Apple Production')\n",
        "plt.ylabel('Density')\n",
        "plt.title('Combined KDE Function of 10 Trees')\n",
        "plt.show()"
      ],
      "metadata": {
        "colab": {
          "base_uri": "https://localhost:8080/",
          "height": 472
        },
        "id": "nP4_6RKg5hYw",
        "outputId": "12c7cddb-2bc0-421e-eb7a-7ff81b4a480d"
      },
      "execution_count": 17,
      "outputs": [
        {
          "output_type": "display_data",
          "data": {
            "text/plain": [
              "<Figure size 640x480 with 1 Axes>"
            ],
            "image/png": "[encoded data removed]"
          },
          "metadata": {}
        }
      ]
    },
    {
      "cell_type": "code",
      "source": [],
      "metadata": {
        "id": "fVZ5w3ch5kca"
      },
      "execution_count": null,
      "outputs": []
    }
  ]
}